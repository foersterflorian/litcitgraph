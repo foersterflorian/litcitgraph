{
 "cells": [
  {
   "cell_type": "code",
   "execution_count": 1,
   "metadata": {},
   "outputs": [],
   "source": [
    "%load_ext autoreload\n",
    "%autoreload 2"
   ]
  },
  {
   "cell_type": "code",
   "execution_count": 2,
   "metadata": {},
   "outputs": [],
   "source": [
    "#import bibtexparser\n",
    "#from bibtexparser.library import Library as BibTexLibrary\n",
    "import networkx as nx\n",
    "import pybliometrics\n",
    "from collections import namedtuple as NamedTuple\n",
    "#import pandas as pd\n",
    "import logging\n",
    "import sys\n"
   ]
  },
  {
   "cell_type": "code",
   "execution_count": 3,
   "metadata": {},
   "outputs": [],
   "source": [
    "from pathlib import Path\n",
    "\n",
    "#from litcitgraph import GRPHSTRY_PERS_ID, GRPHSTRY_PERS_KEY\n",
    "from litcitgraph.requests import get_scopus_abstract_retrieval, query_search_scopus\n",
    "from litcitgraph.parsing import read_scopus_ids_from_csv, pybliometrics_add_API_keys\n",
    "from litcitgraph.graphs import CitationGraph"
   ]
  },
  {
   "cell_type": "markdown",
   "metadata": {},
   "source": [
    "Test Matthias Paper\n",
    "\n",
    "DOI:\n",
    "\n",
    "10.1108/IJOPM-08-2023-0665"
   ]
  },
  {
   "cell_type": "code",
   "execution_count": 4,
   "metadata": {},
   "outputs": [],
   "source": [
    "query = r'AUTH ( thuerer )'"
   ]
  },
  {
   "cell_type": "code",
   "execution_count": 5,
   "metadata": {},
   "outputs": [
    {
     "name": "stdout",
     "output_type": "stream",
     "text": [
      "2024-07-11 11:07:25 +0000 | litcitgraph:requests:INFO | Retrieval successful. Total documents found: 33\n"
     ]
    }
   ],
   "source": [
    "results = query_search_scopus(query)"
   ]
  },
  {
   "cell_type": "code",
   "execution_count": 6,
   "metadata": {},
   "outputs": [
    {
     "data": {
      "text/plain": [
       "33"
      ]
     },
     "execution_count": 6,
     "metadata": {},
     "output_type": "execute_result"
    }
   ],
   "source": [
    "len(results)"
   ]
  },
  {
   "cell_type": "code",
   "execution_count": 7,
   "metadata": {},
   "outputs": [],
   "source": [
    "target_citgraph_path = Path.cwd() / 'results/Matthias.pkl' "
   ]
  },
  {
   "cell_type": "code",
   "execution_count": 8,
   "metadata": {},
   "outputs": [
    {
     "data": {
      "text/plain": [
       "WindowsPath('C:/Users/flfo/Documents/00 Projekte/KMI/Programmierung/Literatur/test-notebooks/results/Matthias.pkl')"
      ]
     },
     "execution_count": 8,
     "metadata": {},
     "output_type": "execute_result"
    }
   ],
   "source": [
    "target_citgraph_path"
   ]
  },
  {
   "cell_type": "code",
   "execution_count": 9,
   "metadata": {},
   "outputs": [],
   "source": [
    "cit_graph = CitationGraph(path_interim=target_citgraph_path, name='Matthias_test')"
   ]
  },
  {
   "cell_type": "code",
   "execution_count": 10,
   "metadata": {},
   "outputs": [],
   "source": [
    "ids = ['10.1108/IJOPM-08-2023-0665']"
   ]
  },
  {
   "cell_type": "code",
   "execution_count": 11,
   "metadata": {},
   "outputs": [
    {
     "name": "stdout",
     "output_type": "stream",
     "text": [
      "2024-07-11 11:14:20 +0000 | litcitgraph:graphs:INFO | Building citation graph...\n",
      "2024-07-11 11:14:20 +0000 | litcitgraph:graphs:INFO | ...target depth: 1, using ID type: >>doi<<...\n",
      "2024-07-11 11:14:20 +0000 | litcitgraph:graphs:INFO | Initialising graph with given IDs...\n",
      "2024-07-11 11:14:22 +0000 | litcitgraph:graphs:INFO | Initialisation completed.\n",
      "2024-07-11 11:14:22 +0000 | litcitgraph:graphs:INFO | Starting iteration 1...\n"
     ]
    },
    {
     "data": {
      "application/vnd.jupyter.widget-view+json": {
       "model_id": "6e922c873b4c48ada4e4dcfa6ea03d65",
       "version_major": 2,
       "version_minor": 0
      },
      "text/plain": [
       "  0%|          | 0/1 [00:00<?, ?it/s]"
      ]
     },
     "metadata": {},
     "output_type": "display_data"
    },
    {
     "data": {
      "application/vnd.jupyter.widget-view+json": {
       "model_id": "",
       "version_major": 2,
       "version_minor": 0
      },
      "text/plain": [
       "  0%|          | 0/67 [00:00<?, ?it/s]"
      ]
     },
     "metadata": {},
     "output_type": "display_data"
    },
    {
     "name": "stdout",
     "output_type": "stream",
     "text": [
      "2024-07-11 11:14:52 +0000 | litcitgraph:graphs:INFO | Iteration 1 successfully completed.\n",
      "2024-07-11 11:14:52 +0000 | litcitgraph:graphs:INFO | Building of citation graph completed.\n"
     ]
    }
   ],
   "source": [
    "cit_graph.build_from_ids(ids=ids, id_type='doi', target_iter_depth=1)"
   ]
  },
  {
   "cell_type": "code",
   "execution_count": null,
   "metadata": {},
   "outputs": [
    {
     "name": "stdout",
     "output_type": "stream",
     "text": [
      "2024-07-11 11:15:40 +0000 | litcitgraph:graphs:INFO | Starting iteration 2...\n"
     ]
    },
    {
     "data": {
      "application/vnd.jupyter.widget-view+json": {
       "model_id": "33c9527e62904ebb8decfca4ede845c4",
       "version_major": 2,
       "version_minor": 0
      },
      "text/plain": [
       "  0%|          | 0/45 [00:00<?, ?it/s]"
      ]
     },
     "metadata": {},
     "output_type": "display_data"
    },
    {
     "data": {
      "application/vnd.jupyter.widget-view+json": {
       "model_id": "",
       "version_major": 2,
       "version_minor": 0
      },
      "text/plain": [
       "  0%|          | 0/92 [00:00<?, ?it/s]"
      ]
     },
     "metadata": {},
     "output_type": "display_data"
    },
    {
     "data": {
      "application/vnd.jupyter.widget-view+json": {
       "model_id": "",
       "version_major": 2,
       "version_minor": 0
      },
      "text/plain": [
       "  0%|          | 0/188 [00:00<?, ?it/s]"
      ]
     },
     "metadata": {},
     "output_type": "display_data"
    },
    {
     "data": {
      "application/vnd.jupyter.widget-view+json": {
       "model_id": "",
       "version_major": 2,
       "version_minor": 0
      },
      "text/plain": [
       "  0%|          | 0/44 [00:00<?, ?it/s]"
      ]
     },
     "metadata": {},
     "output_type": "display_data"
    },
    {
     "data": {
      "application/vnd.jupyter.widget-view+json": {
       "model_id": "",
       "version_major": 2,
       "version_minor": 0
      },
      "text/plain": [
       "  0%|          | 0/28 [00:00<?, ?it/s]"
      ]
     },
     "metadata": {},
     "output_type": "display_data"
    },
    {
     "data": {
      "application/vnd.jupyter.widget-view+json": {
       "model_id": "",
       "version_major": 2,
       "version_minor": 0
      },
      "text/plain": [
       "  0%|          | 0/47 [00:00<?, ?it/s]"
      ]
     },
     "metadata": {},
     "output_type": "display_data"
    },
    {
     "data": {
      "application/vnd.jupyter.widget-view+json": {
       "model_id": "",
       "version_major": 2,
       "version_minor": 0
      },
      "text/plain": [
       "  0%|          | 0/102 [00:00<?, ?it/s]"
      ]
     },
     "metadata": {},
     "output_type": "display_data"
    },
    {
     "data": {
      "application/vnd.jupyter.widget-view+json": {
       "model_id": "",
       "version_major": 2,
       "version_minor": 0
      },
      "text/plain": [
       "  0%|          | 0/92 [00:00<?, ?it/s]"
      ]
     },
     "metadata": {},
     "output_type": "display_data"
    },
    {
     "data": {
      "application/vnd.jupyter.widget-view+json": {
       "model_id": "",
       "version_major": 2,
       "version_minor": 0
      },
      "text/plain": [
       "  0%|          | 0/66 [00:00<?, ?it/s]"
      ]
     },
     "metadata": {},
     "output_type": "display_data"
    },
    {
     "data": {
      "application/vnd.jupyter.widget-view+json": {
       "model_id": "",
       "version_major": 2,
       "version_minor": 0
      },
      "text/plain": [
       "  0%|          | 0/124 [00:00<?, ?it/s]"
      ]
     },
     "metadata": {},
     "output_type": "display_data"
    },
    {
     "data": {
      "application/vnd.jupyter.widget-view+json": {
       "model_id": "",
       "version_major": 2,
       "version_minor": 0
      },
      "text/plain": [
       "  0%|          | 0/88 [00:00<?, ?it/s]"
      ]
     },
     "metadata": {},
     "output_type": "display_data"
    },
    {
     "data": {
      "application/vnd.jupyter.widget-view+json": {
       "model_id": "",
       "version_major": 2,
       "version_minor": 0
      },
      "text/plain": [
       "  0%|          | 0/51 [00:00<?, ?it/s]"
      ]
     },
     "metadata": {},
     "output_type": "display_data"
    },
    {
     "data": {
      "application/vnd.jupyter.widget-view+json": {
       "model_id": "",
       "version_major": 2,
       "version_minor": 0
      },
      "text/plain": [
       "  0%|          | 0/111 [00:00<?, ?it/s]"
      ]
     },
     "metadata": {},
     "output_type": "display_data"
    },
    {
     "data": {
      "application/vnd.jupyter.widget-view+json": {
       "model_id": "",
       "version_major": 2,
       "version_minor": 0
      },
      "text/plain": [
       "  0%|          | 0/188 [00:00<?, ?it/s]"
      ]
     },
     "metadata": {},
     "output_type": "display_data"
    },
    {
     "data": {
      "application/vnd.jupyter.widget-view+json": {
       "model_id": "",
       "version_major": 2,
       "version_minor": 0
      },
      "text/plain": [
       "  0%|          | 0/70 [00:00<?, ?it/s]"
      ]
     },
     "metadata": {},
     "output_type": "display_data"
    },
    {
     "data": {
      "application/vnd.jupyter.widget-view+json": {
       "model_id": "",
       "version_major": 2,
       "version_minor": 0
      },
      "text/plain": [
       "  0%|          | 0/76 [00:00<?, ?it/s]"
      ]
     },
     "metadata": {},
     "output_type": "display_data"
    },
    {
     "data": {
      "application/vnd.jupyter.widget-view+json": {
       "model_id": "",
       "version_major": 2,
       "version_minor": 0
      },
      "text/plain": [
       "  0%|          | 0/62 [00:00<?, ?it/s]"
      ]
     },
     "metadata": {},
     "output_type": "display_data"
    },
    {
     "data": {
      "application/vnd.jupyter.widget-view+json": {
       "model_id": "",
       "version_major": 2,
       "version_minor": 0
      },
      "text/plain": [
       "  0%|          | 0/7 [00:00<?, ?it/s]"
      ]
     },
     "metadata": {},
     "output_type": "display_data"
    },
    {
     "data": {
      "application/vnd.jupyter.widget-view+json": {
       "model_id": "",
       "version_major": 2,
       "version_minor": 0
      },
      "text/plain": [
       "  0%|          | 0/189 [00:00<?, ?it/s]"
      ]
     },
     "metadata": {},
     "output_type": "display_data"
    },
    {
     "data": {
      "application/vnd.jupyter.widget-view+json": {
       "model_id": "",
       "version_major": 2,
       "version_minor": 0
      },
      "text/plain": [
       "  0%|          | 0/100 [00:00<?, ?it/s]"
      ]
     },
     "metadata": {},
     "output_type": "display_data"
    },
    {
     "data": {
      "application/vnd.jupyter.widget-view+json": {
       "model_id": "",
       "version_major": 2,
       "version_minor": 0
      },
      "text/plain": [
       "  0%|          | 0/124 [00:00<?, ?it/s]"
      ]
     },
     "metadata": {},
     "output_type": "display_data"
    },
    {
     "data": {
      "application/vnd.jupyter.widget-view+json": {
       "model_id": "",
       "version_major": 2,
       "version_minor": 0
      },
      "text/plain": [
       "  0%|          | 0/19 [00:00<?, ?it/s]"
      ]
     },
     "metadata": {},
     "output_type": "display_data"
    },
    {
     "data": {
      "application/vnd.jupyter.widget-view+json": {
       "model_id": "",
       "version_major": 2,
       "version_minor": 0
      },
      "text/plain": [
       "  0%|          | 0/72 [00:00<?, ?it/s]"
      ]
     },
     "metadata": {},
     "output_type": "display_data"
    },
    {
     "data": {
      "application/vnd.jupyter.widget-view+json": {
       "model_id": "",
       "version_major": 2,
       "version_minor": 0
      },
      "text/plain": [
       "  0%|          | 0/66 [00:00<?, ?it/s]"
      ]
     },
     "metadata": {},
     "output_type": "display_data"
    },
    {
     "data": {
      "application/vnd.jupyter.widget-view+json": {
       "model_id": "",
       "version_major": 2,
       "version_minor": 0
      },
      "text/plain": [
       "  0%|          | 0/39 [00:00<?, ?it/s]"
      ]
     },
     "metadata": {},
     "output_type": "display_data"
    },
    {
     "data": {
      "application/vnd.jupyter.widget-view+json": {
       "model_id": "",
       "version_major": 2,
       "version_minor": 0
      },
      "text/plain": [
       "  0%|          | 0/36 [00:00<?, ?it/s]"
      ]
     },
     "metadata": {},
     "output_type": "display_data"
    },
    {
     "data": {
      "application/vnd.jupyter.widget-view+json": {
       "model_id": "",
       "version_major": 2,
       "version_minor": 0
      },
      "text/plain": [
       "  0%|          | 0/84 [00:00<?, ?it/s]"
      ]
     },
     "metadata": {},
     "output_type": "display_data"
    },
    {
     "data": {
      "application/vnd.jupyter.widget-view+json": {
       "model_id": "",
       "version_major": 2,
       "version_minor": 0
      },
      "text/plain": [
       "  0%|          | 0/158 [00:00<?, ?it/s]"
      ]
     },
     "metadata": {},
     "output_type": "display_data"
    },
    {
     "data": {
      "application/vnd.jupyter.widget-view+json": {
       "model_id": "",
       "version_major": 2,
       "version_minor": 0
      },
      "text/plain": [
       "  0%|          | 0/44 [00:00<?, ?it/s]"
      ]
     },
     "metadata": {},
     "output_type": "display_data"
    },
    {
     "data": {
      "application/vnd.jupyter.widget-view+json": {
       "model_id": "",
       "version_major": 2,
       "version_minor": 0
      },
      "text/plain": [
       "  0%|          | 0/77 [00:00<?, ?it/s]"
      ]
     },
     "metadata": {},
     "output_type": "display_data"
    },
    {
     "data": {
      "application/vnd.jupyter.widget-view+json": {
       "model_id": "",
       "version_major": 2,
       "version_minor": 0
      },
      "text/plain": [
       "  0%|          | 0/108 [00:00<?, ?it/s]"
      ]
     },
     "metadata": {},
     "output_type": "display_data"
    },
    {
     "data": {
      "application/vnd.jupyter.widget-view+json": {
       "model_id": "",
       "version_major": 2,
       "version_minor": 0
      },
      "text/plain": [
       "  0%|          | 0/10 [00:00<?, ?it/s]"
      ]
     },
     "metadata": {},
     "output_type": "display_data"
    },
    {
     "data": {
      "application/vnd.jupyter.widget-view+json": {
       "model_id": "",
       "version_major": 2,
       "version_minor": 0
      },
      "text/plain": [
       "  0%|          | 0/21 [00:00<?, ?it/s]"
      ]
     },
     "metadata": {},
     "output_type": "display_data"
    },
    {
     "data": {
      "application/vnd.jupyter.widget-view+json": {
       "model_id": "",
       "version_major": 2,
       "version_minor": 0
      },
      "text/plain": [
       "  0%|          | 0/77 [00:00<?, ?it/s]"
      ]
     },
     "metadata": {},
     "output_type": "display_data"
    },
    {
     "data": {
      "application/vnd.jupyter.widget-view+json": {
       "model_id": "",
       "version_major": 2,
       "version_minor": 0
      },
      "text/plain": [
       "  0%|          | 0/78 [00:00<?, ?it/s]"
      ]
     },
     "metadata": {},
     "output_type": "display_data"
    },
    {
     "data": {
      "application/vnd.jupyter.widget-view+json": {
       "model_id": "",
       "version_major": 2,
       "version_minor": 0
      },
      "text/plain": [
       "  0%|          | 0/132 [00:00<?, ?it/s]"
      ]
     },
     "metadata": {},
     "output_type": "display_data"
    },
    {
     "data": {
      "application/vnd.jupyter.widget-view+json": {
       "model_id": "",
       "version_major": 2,
       "version_minor": 0
      },
      "text/plain": [
       "  0%|          | 0/13 [00:00<?, ?it/s]"
      ]
     },
     "metadata": {},
     "output_type": "display_data"
    },
    {
     "data": {
      "application/vnd.jupyter.widget-view+json": {
       "model_id": "",
       "version_major": 2,
       "version_minor": 0
      },
      "text/plain": [
       "  0%|          | 0/76 [00:00<?, ?it/s]"
      ]
     },
     "metadata": {},
     "output_type": "display_data"
    },
    {
     "data": {
      "application/vnd.jupyter.widget-view+json": {
       "model_id": "",
       "version_major": 2,
       "version_minor": 0
      },
      "text/plain": [
       "  0%|          | 0/86 [00:00<?, ?it/s]"
      ]
     },
     "metadata": {},
     "output_type": "display_data"
    },
    {
     "data": {
      "application/vnd.jupyter.widget-view+json": {
       "model_id": "",
       "version_major": 2,
       "version_minor": 0
      },
      "text/plain": [
       "  0%|          | 0/70 [00:00<?, ?it/s]"
      ]
     },
     "metadata": {},
     "output_type": "display_data"
    },
    {
     "data": {
      "application/vnd.jupyter.widget-view+json": {
       "model_id": "",
       "version_major": 2,
       "version_minor": 0
      },
      "text/plain": [
       "  0%|          | 0/63 [00:00<?, ?it/s]"
      ]
     },
     "metadata": {},
     "output_type": "display_data"
    },
    {
     "data": {
      "application/vnd.jupyter.widget-view+json": {
       "model_id": "",
       "version_major": 2,
       "version_minor": 0
      },
      "text/plain": [
       "  0%|          | 0/30 [00:00<?, ?it/s]"
      ]
     },
     "metadata": {},
     "output_type": "display_data"
    },
    {
     "data": {
      "application/vnd.jupyter.widget-view+json": {
       "model_id": "",
       "version_major": 2,
       "version_minor": 0
      },
      "text/plain": [
       "  0%|          | 0/43 [00:00<?, ?it/s]"
      ]
     },
     "metadata": {},
     "output_type": "display_data"
    },
    {
     "data": {
      "application/vnd.jupyter.widget-view+json": {
       "model_id": "",
       "version_major": 2,
       "version_minor": 0
      },
      "text/plain": [
       "  0%|          | 0/62 [00:00<?, ?it/s]"
      ]
     },
     "metadata": {},
     "output_type": "display_data"
    },
    {
     "data": {
      "application/vnd.jupyter.widget-view+json": {
       "model_id": "",
       "version_major": 2,
       "version_minor": 0
      },
      "text/plain": [
       "  0%|          | 0/58 [00:00<?, ?it/s]"
      ]
     },
     "metadata": {},
     "output_type": "display_data"
    },
    {
     "name": "stdout",
     "output_type": "stream",
     "text": [
      "2024-07-11 11:40:09 +0000 | litcitgraph:graphs:INFO | Iteration 2 successfully completed.\n",
      "2024-07-11 11:40:09 +0000 | litcitgraph:graphs:INFO | Starting iteration 3...\n"
     ]
    },
    {
     "data": {
      "application/vnd.jupyter.widget-view+json": {
       "model_id": "eabaaf84e5f144648a5e50bbc0db7e81",
       "version_major": 2,
       "version_minor": 0
      },
      "text/plain": [
       "  0%|          | 0/1842 [00:00<?, ?it/s]"
      ]
     },
     "metadata": {},
     "output_type": "display_data"
    },
    {
     "data": {
      "application/vnd.jupyter.widget-view+json": {
       "model_id": "",
       "version_major": 2,
       "version_minor": 0
      },
      "text/plain": [
       "  0%|          | 0/143 [00:00<?, ?it/s]"
      ]
     },
     "metadata": {},
     "output_type": "display_data"
    },
    {
     "data": {
      "application/vnd.jupyter.widget-view+json": {
       "model_id": "",
       "version_major": 2,
       "version_minor": 0
      },
      "text/plain": [
       "  0%|          | 0/18 [00:00<?, ?it/s]"
      ]
     },
     "metadata": {},
     "output_type": "display_data"
    },
    {
     "data": {
      "application/vnd.jupyter.widget-view+json": {
       "model_id": "7d33c4a9161648f9abeed86c849a1686",
       "version_major": 2,
       "version_minor": 0
      },
      "text/plain": [
       "  0%|          | 0/61 [00:00<?, ?it/s]"
      ]
     },
     "metadata": {},
     "output_type": "display_data"
    },
    {
     "data": {
      "application/vnd.jupyter.widget-view+json": {
       "model_id": "ae35e0ddfc6348d6a4ef5a62e57c744e",
       "version_major": 2,
       "version_minor": 0
      },
      "text/plain": [
       "  0%|          | 0/15 [00:00<?, ?it/s]"
      ]
     },
     "metadata": {},
     "output_type": "display_data"
    },
    {
     "data": {
      "application/vnd.jupyter.widget-view+json": {
       "model_id": "623689d2730b4db2aa88110cbb67585c",
       "version_major": 2,
       "version_minor": 0
      },
      "text/plain": [
       "  0%|          | 0/32 [00:00<?, ?it/s]"
      ]
     },
     "metadata": {},
     "output_type": "display_data"
    },
    {
     "data": {
      "application/vnd.jupyter.widget-view+json": {
       "model_id": "",
       "version_major": 2,
       "version_minor": 0
      },
      "text/plain": [
       "  0%|          | 0/98 [00:00<?, ?it/s]"
      ]
     },
     "metadata": {},
     "output_type": "display_data"
    },
    {
     "data": {
      "application/vnd.jupyter.widget-view+json": {
       "model_id": "",
       "version_major": 2,
       "version_minor": 0
      },
      "text/plain": [
       "  0%|          | 0/51 [00:00<?, ?it/s]"
      ]
     },
     "metadata": {},
     "output_type": "display_data"
    },
    {
     "data": {
      "application/vnd.jupyter.widget-view+json": {
       "model_id": "",
       "version_major": 2,
       "version_minor": 0
      },
      "text/plain": [
       "  0%|          | 0/51 [00:00<?, ?it/s]"
      ]
     },
     "metadata": {},
     "output_type": "display_data"
    },
    {
     "data": {
      "application/vnd.jupyter.widget-view+json": {
       "model_id": "",
       "version_major": 2,
       "version_minor": 0
      },
      "text/plain": [
       "  0%|          | 0/37 [00:00<?, ?it/s]"
      ]
     },
     "metadata": {},
     "output_type": "display_data"
    },
    {
     "data": {
      "application/vnd.jupyter.widget-view+json": {
       "model_id": "",
       "version_major": 2,
       "version_minor": 0
      },
      "text/plain": [
       "  0%|          | 0/37 [00:00<?, ?it/s]"
      ]
     },
     "metadata": {},
     "output_type": "display_data"
    },
    {
     "data": {
      "application/vnd.jupyter.widget-view+json": {
       "model_id": "",
       "version_major": 2,
       "version_minor": 0
      },
      "text/plain": [
       "  0%|          | 0/137 [00:00<?, ?it/s]"
      ]
     },
     "metadata": {},
     "output_type": "display_data"
    },
    {
     "data": {
      "application/vnd.jupyter.widget-view+json": {
       "model_id": "",
       "version_major": 2,
       "version_minor": 0
      },
      "text/plain": [
       "  0%|          | 0/69 [00:00<?, ?it/s]"
      ]
     },
     "metadata": {},
     "output_type": "display_data"
    },
    {
     "data": {
      "application/vnd.jupyter.widget-view+json": {
       "model_id": "",
       "version_major": 2,
       "version_minor": 0
      },
      "text/plain": [
       "  0%|          | 0/166 [00:00<?, ?it/s]"
      ]
     },
     "metadata": {},
     "output_type": "display_data"
    },
    {
     "data": {
      "application/vnd.jupyter.widget-view+json": {
       "model_id": "",
       "version_major": 2,
       "version_minor": 0
      },
      "text/plain": [
       "  0%|          | 0/94 [00:00<?, ?it/s]"
      ]
     },
     "metadata": {},
     "output_type": "display_data"
    },
    {
     "data": {
      "application/vnd.jupyter.widget-view+json": {
       "model_id": "",
       "version_major": 2,
       "version_minor": 0
      },
      "text/plain": [
       "  0%|          | 0/49 [00:00<?, ?it/s]"
      ]
     },
     "metadata": {},
     "output_type": "display_data"
    },
    {
     "data": {
      "application/vnd.jupyter.widget-view+json": {
       "model_id": "",
       "version_major": 2,
       "version_minor": 0
      },
      "text/plain": [
       "  0%|          | 0/32 [00:00<?, ?it/s]"
      ]
     },
     "metadata": {},
     "output_type": "display_data"
    },
    {
     "data": {
      "application/vnd.jupyter.widget-view+json": {
       "model_id": "",
       "version_major": 2,
       "version_minor": 0
      },
      "text/plain": [
       "  0%|          | 0/34 [00:00<?, ?it/s]"
      ]
     },
     "metadata": {},
     "output_type": "display_data"
    },
    {
     "data": {
      "application/vnd.jupyter.widget-view+json": {
       "model_id": "",
       "version_major": 2,
       "version_minor": 0
      },
      "text/plain": [
       "  0%|          | 0/89 [00:00<?, ?it/s]"
      ]
     },
     "metadata": {},
     "output_type": "display_data"
    },
    {
     "data": {
      "application/vnd.jupyter.widget-view+json": {
       "model_id": "",
       "version_major": 2,
       "version_minor": 0
      },
      "text/plain": [
       "  0%|          | 0/51 [00:00<?, ?it/s]"
      ]
     },
     "metadata": {},
     "output_type": "display_data"
    },
    {
     "data": {
      "application/vnd.jupyter.widget-view+json": {
       "model_id": "",
       "version_major": 2,
       "version_minor": 0
      },
      "text/plain": [
       "  0%|          | 0/69 [00:00<?, ?it/s]"
      ]
     },
     "metadata": {},
     "output_type": "display_data"
    },
    {
     "data": {
      "application/vnd.jupyter.widget-view+json": {
       "model_id": "",
       "version_major": 2,
       "version_minor": 0
      },
      "text/plain": [
       "  0%|          | 0/13 [00:00<?, ?it/s]"
      ]
     },
     "metadata": {},
     "output_type": "display_data"
    },
    {
     "data": {
      "application/vnd.jupyter.widget-view+json": {
       "model_id": "",
       "version_major": 2,
       "version_minor": 0
      },
      "text/plain": [
       "  0%|          | 0/32 [00:00<?, ?it/s]"
      ]
     },
     "metadata": {},
     "output_type": "display_data"
    },
    {
     "data": {
      "application/vnd.jupyter.widget-view+json": {
       "model_id": "",
       "version_major": 2,
       "version_minor": 0
      },
      "text/plain": [
       "  0%|          | 0/18 [00:00<?, ?it/s]"
      ]
     },
     "metadata": {},
     "output_type": "display_data"
    },
    {
     "data": {
      "application/vnd.jupyter.widget-view+json": {
       "model_id": "",
       "version_major": 2,
       "version_minor": 0
      },
      "text/plain": [
       "  0%|          | 0/19 [00:00<?, ?it/s]"
      ]
     },
     "metadata": {},
     "output_type": "display_data"
    },
    {
     "data": {
      "application/vnd.jupyter.widget-view+json": {
       "model_id": "",
       "version_major": 2,
       "version_minor": 0
      },
      "text/plain": [
       "  0%|          | 0/77 [00:00<?, ?it/s]"
      ]
     },
     "metadata": {},
     "output_type": "display_data"
    },
    {
     "data": {
      "application/vnd.jupyter.widget-view+json": {
       "model_id": "",
       "version_major": 2,
       "version_minor": 0
      },
      "text/plain": [
       "  0%|          | 0/51 [00:00<?, ?it/s]"
      ]
     },
     "metadata": {},
     "output_type": "display_data"
    },
    {
     "data": {
      "application/vnd.jupyter.widget-view+json": {
       "model_id": "",
       "version_major": 2,
       "version_minor": 0
      },
      "text/plain": [
       "  0%|          | 0/20 [00:00<?, ?it/s]"
      ]
     },
     "metadata": {},
     "output_type": "display_data"
    },
    {
     "data": {
      "application/vnd.jupyter.widget-view+json": {
       "model_id": "",
       "version_major": 2,
       "version_minor": 0
      },
      "text/plain": [
       "  0%|          | 0/33 [00:00<?, ?it/s]"
      ]
     },
     "metadata": {},
     "output_type": "display_data"
    },
    {
     "data": {
      "application/vnd.jupyter.widget-view+json": {
       "model_id": "",
       "version_major": 2,
       "version_minor": 0
      },
      "text/plain": [
       "  0%|          | 0/50 [00:00<?, ?it/s]"
      ]
     },
     "metadata": {},
     "output_type": "display_data"
    },
    {
     "data": {
      "application/vnd.jupyter.widget-view+json": {
       "model_id": "671521af368041149d8391ae47d2c01c",
       "version_major": 2,
       "version_minor": 0
      },
      "text/plain": [
       "  0%|          | 0/76 [00:00<?, ?it/s]"
      ]
     },
     "metadata": {},
     "output_type": "display_data"
    }
   ],
   "source": [
    "cit_graph.resume_build_process(target_iter_depth=3)"
   ]
  },
  {
   "cell_type": "code",
   "execution_count": null,
   "metadata": {},
   "outputs": [],
   "source": []
  },
  {
   "cell_type": "code",
   "execution_count": 4,
   "metadata": {},
   "outputs": [
    {
     "data": {
      "text/plain": [
       "PosixPath('../data/AI_PPC_Scheduling.csv')"
      ]
     },
     "execution_count": 4,
     "metadata": {},
     "output_type": "execute_result"
    }
   ],
   "source": [
    "p_data = Path('../data/AI_PPC_Scheduling.csv')\n",
    "p_data"
   ]
  },
  {
   "cell_type": "code",
   "execution_count": 5,
   "metadata": {},
   "outputs": [],
   "source": [
    "LOAD_FILES = True"
   ]
  },
  {
   "cell_type": "code",
   "execution_count": 6,
   "metadata": {},
   "outputs": [],
   "source": [
    "p_save = Path('./results/citgraph_PPC-4_iter-1.pickle')\n",
    "\n",
    "if not LOAD_FILES:\n",
    "    USE_DOI = False\n",
    "    id_data = read_scopus_ids_from_csv(p_data, use_doi=USE_DOI, batch_size=None)\n",
    "    cit_graph = CitationGraph(p_save)\n",
    "    cit_graph.build_from_ids(ids=id_data, use_doi=USE_DOI, target_iter_depth=1)\n",
    "    #cit_graph.save_pickle(p_save)\n",
    "else:\n",
    "    cit_graph = CitationGraph.load_pickle(p_save)"
   ]
  },
  {
   "cell_type": "code",
   "execution_count": 7,
   "metadata": {},
   "outputs": [
    {
     "data": {
      "text/plain": [
       "CitationGraph(name=CitationGraph, iter_depth=0, number of nodes: 18959, number of edges: 25118)"
      ]
     },
     "execution_count": 7,
     "metadata": {},
     "output_type": "execute_result"
    }
   ],
   "source": [
    "cit_graph"
   ]
  },
  {
   "cell_type": "code",
   "execution_count": 8,
   "metadata": {},
   "outputs": [
    {
     "name": "stdout",
     "output_type": "stream",
     "text": [
      "graphs:INFO | 2024-05-25 12:43:44 +0000 | Starting iteration 1...\n",
      "graphs:INFO | 2024-05-25 12:43:44 +0000 | Iteration 1 was partially completed before. Resume...\n"
     ]
    },
    {
     "data": {
      "application/vnd.jupyter.widget-view+json": {
       "model_id": "89cafd32630742658dec2b83a773988a",
       "version_major": 2,
       "version_minor": 0
      },
      "text/plain": [
       "  0%|          | 0/38 [00:00<?, ?it/s]"
      ]
     },
     "metadata": {},
     "output_type": "display_data"
    },
    {
     "data": {
      "application/vnd.jupyter.widget-view+json": {
       "model_id": "",
       "version_major": 2,
       "version_minor": 0
      },
      "text/plain": [
       "  0%|          | 0/34 [00:00<?, ?it/s]"
      ]
     },
     "metadata": {},
     "output_type": "display_data"
    },
    {
     "data": {
      "application/vnd.jupyter.widget-view+json": {
       "model_id": "",
       "version_major": 2,
       "version_minor": 0
      },
      "text/plain": [
       "  0%|          | 0/18 [00:00<?, ?it/s]"
      ]
     },
     "metadata": {},
     "output_type": "display_data"
    },
    {
     "data": {
      "application/vnd.jupyter.widget-view+json": {
       "model_id": "",
       "version_major": 2,
       "version_minor": 0
      },
      "text/plain": [
       "  0%|          | 0/37 [00:00<?, ?it/s]"
      ]
     },
     "metadata": {},
     "output_type": "display_data"
    },
    {
     "data": {
      "application/vnd.jupyter.widget-view+json": {
       "model_id": "",
       "version_major": 2,
       "version_minor": 0
      },
      "text/plain": [
       "  0%|          | 0/106 [00:00<?, ?it/s]"
      ]
     },
     "metadata": {},
     "output_type": "display_data"
    },
    {
     "data": {
      "application/vnd.jupyter.widget-view+json": {
       "model_id": "",
       "version_major": 2,
       "version_minor": 0
      },
      "text/plain": [
       "  0%|          | 0/21 [00:00<?, ?it/s]"
      ]
     },
     "metadata": {},
     "output_type": "display_data"
    },
    {
     "data": {
      "application/vnd.jupyter.widget-view+json": {
       "model_id": "",
       "version_major": 2,
       "version_minor": 0
      },
      "text/plain": [
       "  0%|          | 0/82 [00:00<?, ?it/s]"
      ]
     },
     "metadata": {},
     "output_type": "display_data"
    },
    {
     "data": {
      "application/vnd.jupyter.widget-view+json": {
       "model_id": "",
       "version_major": 2,
       "version_minor": 0
      },
      "text/plain": [
       "  0%|          | 0/48 [00:00<?, ?it/s]"
      ]
     },
     "metadata": {},
     "output_type": "display_data"
    },
    {
     "data": {
      "application/vnd.jupyter.widget-view+json": {
       "model_id": "",
       "version_major": 2,
       "version_minor": 0
      },
      "text/plain": [
       "  0%|          | 0/40 [00:00<?, ?it/s]"
      ]
     },
     "metadata": {},
     "output_type": "display_data"
    },
    {
     "data": {
      "application/vnd.jupyter.widget-view+json": {
       "model_id": "",
       "version_major": 2,
       "version_minor": 0
      },
      "text/plain": [
       "  0%|          | 0/121 [00:00<?, ?it/s]"
      ]
     },
     "metadata": {},
     "output_type": "display_data"
    },
    {
     "data": {
      "application/vnd.jupyter.widget-view+json": {
       "model_id": "",
       "version_major": 2,
       "version_minor": 0
      },
      "text/plain": [
       "  0%|          | 0/32 [00:00<?, ?it/s]"
      ]
     },
     "metadata": {},
     "output_type": "display_data"
    },
    {
     "data": {
      "application/vnd.jupyter.widget-view+json": {
       "model_id": "",
       "version_major": 2,
       "version_minor": 0
      },
      "text/plain": [
       "  0%|          | 0/60 [00:00<?, ?it/s]"
      ]
     },
     "metadata": {},
     "output_type": "display_data"
    },
    {
     "data": {
      "application/vnd.jupyter.widget-view+json": {
       "model_id": "",
       "version_major": 2,
       "version_minor": 0
      },
      "text/plain": [
       "  0%|          | 0/32 [00:00<?, ?it/s]"
      ]
     },
     "metadata": {},
     "output_type": "display_data"
    },
    {
     "name": "stdout",
     "output_type": "stream",
     "text": [
      "requests:ERROR | 2024-05-25 12:46:55 +0000 | An error occurred for identifier=84866384521 while retrieving ISSNs.\n"
     ]
    },
    {
     "data": {
      "application/vnd.jupyter.widget-view+json": {
       "model_id": "",
       "version_major": 2,
       "version_minor": 0
      },
      "text/plain": [
       "  0%|          | 0/30 [00:00<?, ?it/s]"
      ]
     },
     "metadata": {},
     "output_type": "display_data"
    },
    {
     "data": {
      "application/vnd.jupyter.widget-view+json": {
       "model_id": "",
       "version_major": 2,
       "version_minor": 0
      },
      "text/plain": [
       "  0%|          | 0/36 [00:00<?, ?it/s]"
      ]
     },
     "metadata": {},
     "output_type": "display_data"
    },
    {
     "data": {
      "application/vnd.jupyter.widget-view+json": {
       "model_id": "",
       "version_major": 2,
       "version_minor": 0
      },
      "text/plain": [
       "  0%|          | 0/51 [00:00<?, ?it/s]"
      ]
     },
     "metadata": {},
     "output_type": "display_data"
    },
    {
     "data": {
      "application/vnd.jupyter.widget-view+json": {
       "model_id": "",
       "version_major": 2,
       "version_minor": 0
      },
      "text/plain": [
       "  0%|          | 0/84 [00:00<?, ?it/s]"
      ]
     },
     "metadata": {},
     "output_type": "display_data"
    },
    {
     "data": {
      "application/vnd.jupyter.widget-view+json": {
       "model_id": "",
       "version_major": 2,
       "version_minor": 0
      },
      "text/plain": [
       "  0%|          | 0/73 [00:00<?, ?it/s]"
      ]
     },
     "metadata": {},
     "output_type": "display_data"
    },
    {
     "data": {
      "application/vnd.jupyter.widget-view+json": {
       "model_id": "",
       "version_major": 2,
       "version_minor": 0
      },
      "text/plain": [
       "  0%|          | 0/37 [00:00<?, ?it/s]"
      ]
     },
     "metadata": {},
     "output_type": "display_data"
    },
    {
     "data": {
      "application/vnd.jupyter.widget-view+json": {
       "model_id": "",
       "version_major": 2,
       "version_minor": 0
      },
      "text/plain": [
       "  0%|          | 0/80 [00:00<?, ?it/s]"
      ]
     },
     "metadata": {},
     "output_type": "display_data"
    },
    {
     "data": {
      "application/vnd.jupyter.widget-view+json": {
       "model_id": "",
       "version_major": 2,
       "version_minor": 0
      },
      "text/plain": [
       "  0%|          | 0/29 [00:00<?, ?it/s]"
      ]
     },
     "metadata": {},
     "output_type": "display_data"
    },
    {
     "data": {
      "application/vnd.jupyter.widget-view+json": {
       "model_id": "",
       "version_major": 2,
       "version_minor": 0
      },
      "text/plain": [
       "  0%|          | 0/95 [00:00<?, ?it/s]"
      ]
     },
     "metadata": {},
     "output_type": "display_data"
    },
    {
     "data": {
      "application/vnd.jupyter.widget-view+json": {
       "model_id": "",
       "version_major": 2,
       "version_minor": 0
      },
      "text/plain": [
       "  0%|          | 0/45 [00:00<?, ?it/s]"
      ]
     },
     "metadata": {},
     "output_type": "display_data"
    },
    {
     "data": {
      "application/vnd.jupyter.widget-view+json": {
       "model_id": "",
       "version_major": 2,
       "version_minor": 0
      },
      "text/plain": [
       "  0%|          | 0/24 [00:00<?, ?it/s]"
      ]
     },
     "metadata": {},
     "output_type": "display_data"
    },
    {
     "data": {
      "application/vnd.jupyter.widget-view+json": {
       "model_id": "",
       "version_major": 2,
       "version_minor": 0
      },
      "text/plain": [
       "  0%|          | 0/19 [00:00<?, ?it/s]"
      ]
     },
     "metadata": {},
     "output_type": "display_data"
    },
    {
     "name": "stdout",
     "output_type": "stream",
     "text": [
      "graphs:INFO | 2024-05-25 12:50:15 +0000 | Iteration 1 successfully completed.\n",
      "graphs:INFO | 2024-05-25 12:50:15 +0000 | Starting iteration 2...\n"
     ]
    },
    {
     "data": {
      "application/vnd.jupyter.widget-view+json": {
       "model_id": "176046a32b9541ac81da685b74b96d52",
       "version_major": 2,
       "version_minor": 0
      },
      "text/plain": [
       "  0%|          | 0/18814 [00:00<?, ?it/s]"
      ]
     },
     "metadata": {},
     "output_type": "display_data"
    },
    {
     "data": {
      "application/vnd.jupyter.widget-view+json": {
       "model_id": "",
       "version_major": 2,
       "version_minor": 0
      },
      "text/plain": [
       "  0%|          | 0/45 [00:00<?, ?it/s]"
      ]
     },
     "metadata": {},
     "output_type": "display_data"
    },
    {
     "data": {
      "application/vnd.jupyter.widget-view+json": {
       "model_id": "",
       "version_major": 2,
       "version_minor": 0
      },
      "text/plain": [
       "  0%|          | 0/27 [00:00<?, ?it/s]"
      ]
     },
     "metadata": {},
     "output_type": "display_data"
    },
    {
     "data": {
      "application/vnd.jupyter.widget-view+json": {
       "model_id": "",
       "version_major": 2,
       "version_minor": 0
      },
      "text/plain": [
       "  0%|          | 0/16 [00:00<?, ?it/s]"
      ]
     },
     "metadata": {},
     "output_type": "display_data"
    },
    {
     "data": {
      "application/vnd.jupyter.widget-view+json": {
       "model_id": "",
       "version_major": 2,
       "version_minor": 0
      },
      "text/plain": [
       "  0%|          | 0/14 [00:00<?, ?it/s]"
      ]
     },
     "metadata": {},
     "output_type": "display_data"
    },
    {
     "data": {
      "application/vnd.jupyter.widget-view+json": {
       "model_id": "",
       "version_major": 2,
       "version_minor": 0
      },
      "text/plain": [
       "  0%|          | 0/110 [00:00<?, ?it/s]"
      ]
     },
     "metadata": {},
     "output_type": "display_data"
    },
    {
     "data": {
      "application/vnd.jupyter.widget-view+json": {
       "model_id": "",
       "version_major": 2,
       "version_minor": 0
      },
      "text/plain": [
       "  0%|          | 0/16 [00:00<?, ?it/s]"
      ]
     },
     "metadata": {},
     "output_type": "display_data"
    },
    {
     "data": {
      "application/vnd.jupyter.widget-view+json": {
       "model_id": "",
       "version_major": 2,
       "version_minor": 0
      },
      "text/plain": [
       "  0%|          | 0/36 [00:00<?, ?it/s]"
      ]
     },
     "metadata": {},
     "output_type": "display_data"
    },
    {
     "data": {
      "application/vnd.jupyter.widget-view+json": {
       "model_id": "",
       "version_major": 2,
       "version_minor": 0
      },
      "text/plain": [
       "  0%|          | 0/46 [00:00<?, ?it/s]"
      ]
     },
     "metadata": {},
     "output_type": "display_data"
    },
    {
     "data": {
      "application/vnd.jupyter.widget-view+json": {
       "model_id": "",
       "version_major": 2,
       "version_minor": 0
      },
      "text/plain": [
       "  0%|          | 0/6 [00:00<?, ?it/s]"
      ]
     },
     "metadata": {},
     "output_type": "display_data"
    },
    {
     "data": {
      "application/vnd.jupyter.widget-view+json": {
       "model_id": "",
       "version_major": 2,
       "version_minor": 0
      },
      "text/plain": [
       "  0%|          | 0/35 [00:00<?, ?it/s]"
      ]
     },
     "metadata": {},
     "output_type": "display_data"
    },
    {
     "data": {
      "application/vnd.jupyter.widget-view+json": {
       "model_id": "",
       "version_major": 2,
       "version_minor": 0
      },
      "text/plain": [
       "  0%|          | 0/86 [00:00<?, ?it/s]"
      ]
     },
     "metadata": {},
     "output_type": "display_data"
    },
    {
     "data": {
      "application/vnd.jupyter.widget-view+json": {
       "model_id": "",
       "version_major": 2,
       "version_minor": 0
      },
      "text/plain": [
       "  0%|          | 0/61 [00:00<?, ?it/s]"
      ]
     },
     "metadata": {},
     "output_type": "display_data"
    },
    {
     "data": {
      "application/vnd.jupyter.widget-view+json": {
       "model_id": "",
       "version_major": 2,
       "version_minor": 0
      },
      "text/plain": [
       "  0%|          | 0/41 [00:00<?, ?it/s]"
      ]
     },
     "metadata": {},
     "output_type": "display_data"
    },
    {
     "data": {
      "application/vnd.jupyter.widget-view+json": {
       "model_id": "",
       "version_major": 2,
       "version_minor": 0
      },
      "text/plain": [
       "  0%|          | 0/7 [00:00<?, ?it/s]"
      ]
     },
     "metadata": {},
     "output_type": "display_data"
    },
    {
     "data": {
      "application/vnd.jupyter.widget-view+json": {
       "model_id": "",
       "version_major": 2,
       "version_minor": 0
      },
      "text/plain": [
       "  0%|          | 0/55 [00:00<?, ?it/s]"
      ]
     },
     "metadata": {},
     "output_type": "display_data"
    },
    {
     "data": {
      "application/vnd.jupyter.widget-view+json": {
       "model_id": "",
       "version_major": 2,
       "version_minor": 0
      },
      "text/plain": [
       "  0%|          | 0/107 [00:00<?, ?it/s]"
      ]
     },
     "metadata": {},
     "output_type": "display_data"
    },
    {
     "data": {
      "application/vnd.jupyter.widget-view+json": {
       "model_id": "",
       "version_major": 2,
       "version_minor": 0
      },
      "text/plain": [
       "  0%|          | 0/42 [00:00<?, ?it/s]"
      ]
     },
     "metadata": {},
     "output_type": "display_data"
    },
    {
     "data": {
      "application/vnd.jupyter.widget-view+json": {
       "model_id": "",
       "version_major": 2,
       "version_minor": 0
      },
      "text/plain": [
       "  0%|          | 0/34 [00:00<?, ?it/s]"
      ]
     },
     "metadata": {},
     "output_type": "display_data"
    },
    {
     "data": {
      "application/vnd.jupyter.widget-view+json": {
       "model_id": "",
       "version_major": 2,
       "version_minor": 0
      },
      "text/plain": [
       "  0%|          | 0/36 [00:00<?, ?it/s]"
      ]
     },
     "metadata": {},
     "output_type": "display_data"
    },
    {
     "data": {
      "application/vnd.jupyter.widget-view+json": {
       "model_id": "",
       "version_major": 2,
       "version_minor": 0
      },
      "text/plain": [
       "  0%|          | 0/19 [00:00<?, ?it/s]"
      ]
     },
     "metadata": {},
     "output_type": "display_data"
    },
    {
     "data": {
      "application/vnd.jupyter.widget-view+json": {
       "model_id": "",
       "version_major": 2,
       "version_minor": 0
      },
      "text/plain": [
       "  0%|          | 0/17 [00:00<?, ?it/s]"
      ]
     },
     "metadata": {},
     "output_type": "display_data"
    },
    {
     "data": {
      "application/vnd.jupyter.widget-view+json": {
       "model_id": "06eead0af7794266b7ce48af6610a4e9",
       "version_major": 2,
       "version_minor": 0
      },
      "text/plain": [
       "  0%|          | 0/41 [00:00<?, ?it/s]"
      ]
     },
     "metadata": {},
     "output_type": "display_data"
    },
    {
     "data": {
      "application/vnd.jupyter.widget-view+json": {
       "model_id": "4f18f9288d1f4483927e00c0b0d945ed",
       "version_major": 2,
       "version_minor": 0
      },
      "text/plain": [
       "  0%|          | 0/25 [00:00<?, ?it/s]"
      ]
     },
     "metadata": {},
     "output_type": "display_data"
    },
    {
     "data": {
      "application/vnd.jupyter.widget-view+json": {
       "model_id": "d59bbe08836e49588d0cf59e298c6cf3",
       "version_major": 2,
       "version_minor": 0
      },
      "text/plain": [
       "  0%|          | 0/26 [00:00<?, ?it/s]"
      ]
     },
     "metadata": {},
     "output_type": "display_data"
    },
    {
     "data": {
      "application/vnd.jupyter.widget-view+json": {
       "model_id": "66212f9fa1884707963eb99bafde501a",
       "version_major": 2,
       "version_minor": 0
      },
      "text/plain": [
       "  0%|          | 0/45 [00:00<?, ?it/s]"
      ]
     },
     "metadata": {},
     "output_type": "display_data"
    },
    {
     "data": {
      "application/vnd.jupyter.widget-view+json": {
       "model_id": "af8cca78cf78490184e978438e51ca8b",
       "version_major": 2,
       "version_minor": 0
      },
      "text/plain": [
       "  0%|          | 0/9 [00:00<?, ?it/s]"
      ]
     },
     "metadata": {},
     "output_type": "display_data"
    },
    {
     "data": {
      "application/vnd.jupyter.widget-view+json": {
       "model_id": "5da7ec805f7143bb8a76bbbfd3d46765",
       "version_major": 2,
       "version_minor": 0
      },
      "text/plain": [
       "  0%|          | 0/70 [00:00<?, ?it/s]"
      ]
     },
     "metadata": {},
     "output_type": "display_data"
    },
    {
     "data": {
      "application/vnd.jupyter.widget-view+json": {
       "model_id": "ce36d5e960404597a314278abbf8acf3",
       "version_major": 2,
       "version_minor": 0
      },
      "text/plain": [
       "  0%|          | 0/16 [00:00<?, ?it/s]"
      ]
     },
     "metadata": {},
     "output_type": "display_data"
    },
    {
     "data": {
      "application/vnd.jupyter.widget-view+json": {
       "model_id": "f6b208ba367c40188ce5122e9d765825",
       "version_major": 2,
       "version_minor": 0
      },
      "text/plain": [
       "  0%|          | 0/46 [00:00<?, ?it/s]"
      ]
     },
     "metadata": {},
     "output_type": "display_data"
    },
    {
     "data": {
      "application/vnd.jupyter.widget-view+json": {
       "model_id": "98e522b1ea234be091d954581c60b2de",
       "version_major": 2,
       "version_minor": 0
      },
      "text/plain": [
       "  0%|          | 0/42 [00:00<?, ?it/s]"
      ]
     },
     "metadata": {},
     "output_type": "display_data"
    },
    {
     "data": {
      "application/vnd.jupyter.widget-view+json": {
       "model_id": "3e346e77b7a547b58535c3833913cd1d",
       "version_major": 2,
       "version_minor": 0
      },
      "text/plain": [
       "  0%|          | 0/119 [00:00<?, ?it/s]"
      ]
     },
     "metadata": {},
     "output_type": "display_data"
    },
    {
     "data": {
      "application/vnd.jupyter.widget-view+json": {
       "model_id": "b946691db2314af5adea409a209320c4",
       "version_major": 2,
       "version_minor": 0
      },
      "text/plain": [
       "  0%|          | 0/33 [00:00<?, ?it/s]"
      ]
     },
     "metadata": {},
     "output_type": "display_data"
    },
    {
     "data": {
      "application/vnd.jupyter.widget-view+json": {
       "model_id": "aefd5655eace42ce9d08a29c47a96395",
       "version_major": 2,
       "version_minor": 0
      },
      "text/plain": [
       "  0%|          | 0/28 [00:00<?, ?it/s]"
      ]
     },
     "metadata": {},
     "output_type": "display_data"
    },
    {
     "data": {
      "application/vnd.jupyter.widget-view+json": {
       "model_id": "49f6e0070f664d99a789941f5af9be4b",
       "version_major": 2,
       "version_minor": 0
      },
      "text/plain": [
       "  0%|          | 0/44 [00:00<?, ?it/s]"
      ]
     },
     "metadata": {},
     "output_type": "display_data"
    },
    {
     "data": {
      "application/vnd.jupyter.widget-view+json": {
       "model_id": "e1561d7ac85f44ed9ae6e422081c4956",
       "version_major": 2,
       "version_minor": 0
      },
      "text/plain": [
       "  0%|          | 0/53 [00:00<?, ?it/s]"
      ]
     },
     "metadata": {},
     "output_type": "display_data"
    },
    {
     "data": {
      "application/vnd.jupyter.widget-view+json": {
       "model_id": "2ff6a251cfaf47c5a83331c8cbc383a4",
       "version_major": 2,
       "version_minor": 0
      },
      "text/plain": [
       "  0%|          | 0/45 [00:00<?, ?it/s]"
      ]
     },
     "metadata": {},
     "output_type": "display_data"
    },
    {
     "data": {
      "application/vnd.jupyter.widget-view+json": {
       "model_id": "1de996bd5d56459f89371d8a0a4cfa58",
       "version_major": 2,
       "version_minor": 0
      },
      "text/plain": [
       "  0%|          | 0/331 [00:00<?, ?it/s]"
      ]
     },
     "metadata": {},
     "output_type": "display_data"
    },
    {
     "data": {
      "application/vnd.jupyter.widget-view+json": {
       "model_id": "e1010a8740054409b4f3260186966b78",
       "version_major": 2,
       "version_minor": 0
      },
      "text/plain": [
       "  0%|          | 0/33 [00:00<?, ?it/s]"
      ]
     },
     "metadata": {},
     "output_type": "display_data"
    },
    {
     "data": {
      "application/vnd.jupyter.widget-view+json": {
       "model_id": "20d96d652fd84ab7a7d1ab1765a4a50d",
       "version_major": 2,
       "version_minor": 0
      },
      "text/plain": [
       "  0%|          | 0/16 [00:00<?, ?it/s]"
      ]
     },
     "metadata": {},
     "output_type": "display_data"
    },
    {
     "data": {
      "application/vnd.jupyter.widget-view+json": {
       "model_id": "ffabceb0302a4c7ea1c2d9c5a79ad7c2",
       "version_major": 2,
       "version_minor": 0
      },
      "text/plain": [
       "  0%|          | 0/42 [00:00<?, ?it/s]"
      ]
     },
     "metadata": {},
     "output_type": "display_data"
    },
    {
     "data": {
      "application/vnd.jupyter.widget-view+json": {
       "model_id": "6d19dc544e394cf0b0a0e6f17dc9a544",
       "version_major": 2,
       "version_minor": 0
      },
      "text/plain": [
       "  0%|          | 0/4 [00:00<?, ?it/s]"
      ]
     },
     "metadata": {},
     "output_type": "display_data"
    },
    {
     "data": {
      "application/vnd.jupyter.widget-view+json": {
       "model_id": "959969a023374c5c8b7cb4bb20115866",
       "version_major": 2,
       "version_minor": 0
      },
      "text/plain": [
       "  0%|          | 0/31 [00:00<?, ?it/s]"
      ]
     },
     "metadata": {},
     "output_type": "display_data"
    },
    {
     "data": {
      "application/vnd.jupyter.widget-view+json": {
       "model_id": "41c63691484c42ea8fc725d13e838049",
       "version_major": 2,
       "version_minor": 0
      },
      "text/plain": [
       "  0%|          | 0/10 [00:00<?, ?it/s]"
      ]
     },
     "metadata": {},
     "output_type": "display_data"
    },
    {
     "data": {
      "application/vnd.jupyter.widget-view+json": {
       "model_id": "c7968845b27542cd8baef36806ada640",
       "version_major": 2,
       "version_minor": 0
      },
      "text/plain": [
       "  0%|          | 0/19 [00:00<?, ?it/s]"
      ]
     },
     "metadata": {},
     "output_type": "display_data"
    },
    {
     "data": {
      "application/vnd.jupyter.widget-view+json": {
       "model_id": "3af71f1ce2f546edade112f5a1e6d90c",
       "version_major": 2,
       "version_minor": 0
      },
      "text/plain": [
       "  0%|          | 0/166 [00:00<?, ?it/s]"
      ]
     },
     "metadata": {},
     "output_type": "display_data"
    },
    {
     "data": {
      "application/vnd.jupyter.widget-view+json": {
       "model_id": "7573f3982263417b8acadb6f182c236c",
       "version_major": 2,
       "version_minor": 0
      },
      "text/plain": [
       "  0%|          | 0/16 [00:00<?, ?it/s]"
      ]
     },
     "metadata": {},
     "output_type": "display_data"
    },
    {
     "data": {
      "application/vnd.jupyter.widget-view+json": {
       "model_id": "a899c56d1b3a40be9bd5861e751fd2a0",
       "version_major": 2,
       "version_minor": 0
      },
      "text/plain": [
       "  0%|          | 0/32 [00:00<?, ?it/s]"
      ]
     },
     "metadata": {},
     "output_type": "display_data"
    },
    {
     "data": {
      "application/vnd.jupyter.widget-view+json": {
       "model_id": "23e1844cad804cec9d22d3f60b56d844",
       "version_major": 2,
       "version_minor": 0
      },
      "text/plain": [
       "  0%|          | 0/37 [00:00<?, ?it/s]"
      ]
     },
     "metadata": {},
     "output_type": "display_data"
    },
    {
     "data": {
      "application/vnd.jupyter.widget-view+json": {
       "model_id": "a0ea42b363524574be8022edbbd3fe4b",
       "version_major": 2,
       "version_minor": 0
      },
      "text/plain": [
       "  0%|          | 0/24 [00:00<?, ?it/s]"
      ]
     },
     "metadata": {},
     "output_type": "display_data"
    },
    {
     "data": {
      "application/vnd.jupyter.widget-view+json": {
       "model_id": "7c8800371a794de7b4ac53614aacdc0b",
       "version_major": 2,
       "version_minor": 0
      },
      "text/plain": [
       "  0%|          | 0/37 [00:00<?, ?it/s]"
      ]
     },
     "metadata": {},
     "output_type": "display_data"
    },
    {
     "data": {
      "application/vnd.jupyter.widget-view+json": {
       "model_id": "8f473e843b744d65938d8944b3929aad",
       "version_major": 2,
       "version_minor": 0
      },
      "text/plain": [
       "  0%|          | 0/96 [00:00<?, ?it/s]"
      ]
     },
     "metadata": {},
     "output_type": "display_data"
    },
    {
     "data": {
      "application/vnd.jupyter.widget-view+json": {
       "model_id": "a4b8e9b47eb147f99e44b3a53b0c7e3c",
       "version_major": 2,
       "version_minor": 0
      },
      "text/plain": [
       "  0%|          | 0/37 [00:00<?, ?it/s]"
      ]
     },
     "metadata": {},
     "output_type": "display_data"
    },
    {
     "data": {
      "application/vnd.jupyter.widget-view+json": {
       "model_id": "3ef74cd7c967485293ef8033449fd6fd",
       "version_major": 2,
       "version_minor": 0
      },
      "text/plain": [
       "  0%|          | 0/34 [00:00<?, ?it/s]"
      ]
     },
     "metadata": {},
     "output_type": "display_data"
    },
    {
     "data": {
      "application/vnd.jupyter.widget-view+json": {
       "model_id": "73f640c3a3a442cc8f6187808e7cb507",
       "version_major": 2,
       "version_minor": 0
      },
      "text/plain": [
       "  0%|          | 0/27 [00:00<?, ?it/s]"
      ]
     },
     "metadata": {},
     "output_type": "display_data"
    },
    {
     "name": "stdout",
     "output_type": "stream",
     "text": [
      "requests:ERROR | 2024-05-25 13:05:27 +0000 | An error occurred for identifier=35548958284 while retrieving ISSNs.\n",
      "requests:ERROR | 2024-05-25 13:05:28 +0000 | An error occurred for identifier=67649229013 while retrieving ISSNs.\n"
     ]
    },
    {
     "data": {
      "application/vnd.jupyter.widget-view+json": {
       "model_id": "a671d1048b054329b113216e155b0937",
       "version_major": 2,
       "version_minor": 0
      },
      "text/plain": [
       "  0%|          | 0/96 [00:00<?, ?it/s]"
      ]
     },
     "metadata": {},
     "output_type": "display_data"
    },
    {
     "data": {
      "application/vnd.jupyter.widget-view+json": {
       "model_id": "4c2ef7678cbd4cd9bea4fd5e2075e7f7",
       "version_major": 2,
       "version_minor": 0
      },
      "text/plain": [
       "  0%|          | 0/60 [00:00<?, ?it/s]"
      ]
     },
     "metadata": {},
     "output_type": "display_data"
    },
    {
     "data": {
      "application/vnd.jupyter.widget-view+json": {
       "model_id": "ea0538ea4de3465a8050e93f5b025442",
       "version_major": 2,
       "version_minor": 0
      },
      "text/plain": [
       "  0%|          | 0/47 [00:00<?, ?it/s]"
      ]
     },
     "metadata": {},
     "output_type": "display_data"
    },
    {
     "data": {
      "application/vnd.jupyter.widget-view+json": {
       "model_id": "bdf5471038eb4ea2b20ae8cf7a8af045",
       "version_major": 2,
       "version_minor": 0
      },
      "text/plain": [
       "  0%|          | 0/38 [00:00<?, ?it/s]"
      ]
     },
     "metadata": {},
     "output_type": "display_data"
    },
    {
     "data": {
      "application/vnd.jupyter.widget-view+json": {
       "model_id": "028f95cf31a44dbc933f166d2505ceaa",
       "version_major": 2,
       "version_minor": 0
      },
      "text/plain": [
       "  0%|          | 0/26 [00:00<?, ?it/s]"
      ]
     },
     "metadata": {},
     "output_type": "display_data"
    },
    {
     "data": {
      "application/vnd.jupyter.widget-view+json": {
       "model_id": "dbc15b4c614b4204b8ee703b916fcf77",
       "version_major": 2,
       "version_minor": 0
      },
      "text/plain": [
       "  0%|          | 0/21 [00:00<?, ?it/s]"
      ]
     },
     "metadata": {},
     "output_type": "display_data"
    },
    {
     "data": {
      "application/vnd.jupyter.widget-view+json": {
       "model_id": "7e9f5adb905949f3bf9d3d28cf303635",
       "version_major": 2,
       "version_minor": 0
      },
      "text/plain": [
       "  0%|          | 0/19 [00:00<?, ?it/s]"
      ]
     },
     "metadata": {},
     "output_type": "display_data"
    },
    {
     "data": {
      "application/vnd.jupyter.widget-view+json": {
       "model_id": "625b0742e3a34dd5bfda2f6b049e9bae",
       "version_major": 2,
       "version_minor": 0
      },
      "text/plain": [
       "  0%|          | 0/40 [00:00<?, ?it/s]"
      ]
     },
     "metadata": {},
     "output_type": "display_data"
    },
    {
     "data": {
      "application/vnd.jupyter.widget-view+json": {
       "model_id": "56de5ea517a14b23a22311f0e06a23ef",
       "version_major": 2,
       "version_minor": 0
      },
      "text/plain": [
       "  0%|          | 0/24 [00:00<?, ?it/s]"
      ]
     },
     "metadata": {},
     "output_type": "display_data"
    },
    {
     "data": {
      "application/vnd.jupyter.widget-view+json": {
       "model_id": "7e622d01a6fd425495093aa56b6f819d",
       "version_major": 2,
       "version_minor": 0
      },
      "text/plain": [
       "  0%|          | 0/76 [00:00<?, ?it/s]"
      ]
     },
     "metadata": {},
     "output_type": "display_data"
    },
    {
     "data": {
      "application/vnd.jupyter.widget-view+json": {
       "model_id": "5dbc9ea8e9de44fc9cd3e50c045d2164",
       "version_major": 2,
       "version_minor": 0
      },
      "text/plain": [
       "  0%|          | 0/24 [00:00<?, ?it/s]"
      ]
     },
     "metadata": {},
     "output_type": "display_data"
    },
    {
     "data": {
      "application/vnd.jupyter.widget-view+json": {
       "model_id": "728dd0148128410b885acf87fff7ac1c",
       "version_major": 2,
       "version_minor": 0
      },
      "text/plain": [
       "  0%|          | 0/66 [00:00<?, ?it/s]"
      ]
     },
     "metadata": {},
     "output_type": "display_data"
    },
    {
     "data": {
      "application/vnd.jupyter.widget-view+json": {
       "model_id": "17caa1bf664e478abc64ff47965bde67",
       "version_major": 2,
       "version_minor": 0
      },
      "text/plain": [
       "  0%|          | 0/32 [00:00<?, ?it/s]"
      ]
     },
     "metadata": {},
     "output_type": "display_data"
    },
    {
     "data": {
      "application/vnd.jupyter.widget-view+json": {
       "model_id": "9e02f38db77341f5a4e81e9f47d8ca7f",
       "version_major": 2,
       "version_minor": 0
      },
      "text/plain": [
       "  0%|          | 0/31 [00:00<?, ?it/s]"
      ]
     },
     "metadata": {},
     "output_type": "display_data"
    },
    {
     "data": {
      "application/vnd.jupyter.widget-view+json": {
       "model_id": "eca688db53d74c45827c4e70eb3b06af",
       "version_major": 2,
       "version_minor": 0
      },
      "text/plain": [
       "  0%|          | 0/14 [00:00<?, ?it/s]"
      ]
     },
     "metadata": {},
     "output_type": "display_data"
    },
    {
     "data": {
      "application/vnd.jupyter.widget-view+json": {
       "model_id": "7ebda231e9d745bab0414d75f0d276c3",
       "version_major": 2,
       "version_minor": 0
      },
      "text/plain": [
       "  0%|          | 0/28 [00:00<?, ?it/s]"
      ]
     },
     "metadata": {},
     "output_type": "display_data"
    },
    {
     "data": {
      "application/vnd.jupyter.widget-view+json": {
       "model_id": "f123dfcd21454aca9d0b5577a11cf3ec",
       "version_major": 2,
       "version_minor": 0
      },
      "text/plain": [
       "  0%|          | 0/64 [00:00<?, ?it/s]"
      ]
     },
     "metadata": {},
     "output_type": "display_data"
    },
    {
     "data": {
      "application/vnd.jupyter.widget-view+json": {
       "model_id": "0d62bbbca6474467880f7f90bac63add",
       "version_major": 2,
       "version_minor": 0
      },
      "text/plain": [
       "  0%|          | 0/53 [00:00<?, ?it/s]"
      ]
     },
     "metadata": {},
     "output_type": "display_data"
    },
    {
     "data": {
      "application/vnd.jupyter.widget-view+json": {
       "model_id": "45ebae213d1341f19edd7d5b97425487",
       "version_major": 2,
       "version_minor": 0
      },
      "text/plain": [
       "  0%|          | 0/56 [00:00<?, ?it/s]"
      ]
     },
     "metadata": {},
     "output_type": "display_data"
    },
    {
     "data": {
      "application/vnd.jupyter.widget-view+json": {
       "model_id": "f7bade2f553a453bb6dbba51cdd91bef",
       "version_major": 2,
       "version_minor": 0
      },
      "text/plain": [
       "  0%|          | 0/35 [00:00<?, ?it/s]"
      ]
     },
     "metadata": {},
     "output_type": "display_data"
    },
    {
     "data": {
      "application/vnd.jupyter.widget-view+json": {
       "model_id": "7b3cab72b524436fbc9f17a0f17b32b7",
       "version_major": 2,
       "version_minor": 0
      },
      "text/plain": [
       "  0%|          | 0/70 [00:00<?, ?it/s]"
      ]
     },
     "metadata": {},
     "output_type": "display_data"
    },
    {
     "data": {
      "application/vnd.jupyter.widget-view+json": {
       "model_id": "fab53a9eb514409bb9e7a35eef99fb37",
       "version_major": 2,
       "version_minor": 0
      },
      "text/plain": [
       "  0%|          | 0/33 [00:00<?, ?it/s]"
      ]
     },
     "metadata": {},
     "output_type": "display_data"
    },
    {
     "data": {
      "application/vnd.jupyter.widget-view+json": {
       "model_id": "49a9c70dea7347ca922eb7792d981cb9",
       "version_major": 2,
       "version_minor": 0
      },
      "text/plain": [
       "  0%|          | 0/55 [00:00<?, ?it/s]"
      ]
     },
     "metadata": {},
     "output_type": "display_data"
    },
    {
     "data": {
      "application/vnd.jupyter.widget-view+json": {
       "model_id": "6a53c12f55c94261a2a58fe46978b862",
       "version_major": 2,
       "version_minor": 0
      },
      "text/plain": [
       "  0%|          | 0/32 [00:00<?, ?it/s]"
      ]
     },
     "metadata": {},
     "output_type": "display_data"
    },
    {
     "data": {
      "application/vnd.jupyter.widget-view+json": {
       "model_id": "10f536ea243c4827aef3530767f7b27f",
       "version_major": 2,
       "version_minor": 0
      },
      "text/plain": [
       "  0%|          | 0/143 [00:00<?, ?it/s]"
      ]
     },
     "metadata": {},
     "output_type": "display_data"
    },
    {
     "data": {
      "application/vnd.jupyter.widget-view+json": {
       "model_id": "4e7de5d93f874a6bb001e482ce2617ec",
       "version_major": 2,
       "version_minor": 0
      },
      "text/plain": [
       "  0%|          | 0/206 [00:00<?, ?it/s]"
      ]
     },
     "metadata": {},
     "output_type": "display_data"
    },
    {
     "data": {
      "application/vnd.jupyter.widget-view+json": {
       "model_id": "9bd6111439894014988d1a7a8c16468e",
       "version_major": 2,
       "version_minor": 0
      },
      "text/plain": [
       "  0%|          | 0/29 [00:00<?, ?it/s]"
      ]
     },
     "metadata": {},
     "output_type": "display_data"
    },
    {
     "data": {
      "application/vnd.jupyter.widget-view+json": {
       "model_id": "586b8b1edd364415aef922022ccc798d",
       "version_major": 2,
       "version_minor": 0
      },
      "text/plain": [
       "  0%|          | 0/12 [00:00<?, ?it/s]"
      ]
     },
     "metadata": {},
     "output_type": "display_data"
    },
    {
     "data": {
      "application/vnd.jupyter.widget-view+json": {
       "model_id": "7c043bf1fe7940f797918d6c725d0d0a",
       "version_major": 2,
       "version_minor": 0
      },
      "text/plain": [
       "  0%|          | 0/17 [00:00<?, ?it/s]"
      ]
     },
     "metadata": {},
     "output_type": "display_data"
    },
    {
     "data": {
      "application/vnd.jupyter.widget-view+json": {
       "model_id": "066c5a4bb8e94420a881bc5ceb431648",
       "version_major": 2,
       "version_minor": 0
      },
      "text/plain": [
       "  0%|          | 0/19 [00:00<?, ?it/s]"
      ]
     },
     "metadata": {},
     "output_type": "display_data"
    },
    {
     "data": {
      "application/vnd.jupyter.widget-view+json": {
       "model_id": "c264350209f24e57b66585974abfe328",
       "version_major": 2,
       "version_minor": 0
      },
      "text/plain": [
       "  0%|          | 0/7 [00:00<?, ?it/s]"
      ]
     },
     "metadata": {},
     "output_type": "display_data"
    },
    {
     "data": {
      "application/vnd.jupyter.widget-view+json": {
       "model_id": "2c288f61a6934944a503143d0f6a57ac",
       "version_major": 2,
       "version_minor": 0
      },
      "text/plain": [
       "  0%|          | 0/43 [00:00<?, ?it/s]"
      ]
     },
     "metadata": {},
     "output_type": "display_data"
    },
    {
     "data": {
      "application/vnd.jupyter.widget-view+json": {
       "model_id": "29c74ca28dcc40978ce04a302aec2be1",
       "version_major": 2,
       "version_minor": 0
      },
      "text/plain": [
       "  0%|          | 0/40 [00:00<?, ?it/s]"
      ]
     },
     "metadata": {},
     "output_type": "display_data"
    },
    {
     "data": {
      "application/vnd.jupyter.widget-view+json": {
       "model_id": "fa75b946b72447cb82ac7cda533ab285",
       "version_major": 2,
       "version_minor": 0
      },
      "text/plain": [
       "  0%|          | 0/23 [00:00<?, ?it/s]"
      ]
     },
     "metadata": {},
     "output_type": "display_data"
    },
    {
     "data": {
      "application/vnd.jupyter.widget-view+json": {
       "model_id": "bd7aec4613bc40b58cb58a4dd83b7946",
       "version_major": 2,
       "version_minor": 0
      },
      "text/plain": [
       "  0%|          | 0/39 [00:00<?, ?it/s]"
      ]
     },
     "metadata": {},
     "output_type": "display_data"
    },
    {
     "data": {
      "application/vnd.jupyter.widget-view+json": {
       "model_id": "ba9852e79a754260ac5643c0f1e22e66",
       "version_major": 2,
       "version_minor": 0
      },
      "text/plain": [
       "  0%|          | 0/21 [00:00<?, ?it/s]"
      ]
     },
     "metadata": {},
     "output_type": "display_data"
    },
    {
     "data": {
      "application/vnd.jupyter.widget-view+json": {
       "model_id": "3f55f9dc0cc34062bc84d42907bfdd8f",
       "version_major": 2,
       "version_minor": 0
      },
      "text/plain": [
       "  0%|          | 0/31 [00:00<?, ?it/s]"
      ]
     },
     "metadata": {},
     "output_type": "display_data"
    },
    {
     "data": {
      "application/vnd.jupyter.widget-view+json": {
       "model_id": "5b16e7f295f94b3c849fffb0dbee4047",
       "version_major": 2,
       "version_minor": 0
      },
      "text/plain": [
       "  0%|          | 0/37 [00:00<?, ?it/s]"
      ]
     },
     "metadata": {},
     "output_type": "display_data"
    },
    {
     "data": {
      "application/vnd.jupyter.widget-view+json": {
       "model_id": "331edf6c1a0440278eb38ea21e876a76",
       "version_major": 2,
       "version_minor": 0
      },
      "text/plain": [
       "  0%|          | 0/32 [00:00<?, ?it/s]"
      ]
     },
     "metadata": {},
     "output_type": "display_data"
    },
    {
     "data": {
      "application/vnd.jupyter.widget-view+json": {
       "model_id": "9fd44583c8784e43af4158ab885163ce",
       "version_major": 2,
       "version_minor": 0
      },
      "text/plain": [
       "  0%|          | 0/14 [00:00<?, ?it/s]"
      ]
     },
     "metadata": {},
     "output_type": "display_data"
    },
    {
     "data": {
      "application/vnd.jupyter.widget-view+json": {
       "model_id": "89668e75a3c04e2c9de7a11ed1ed1c1e",
       "version_major": 2,
       "version_minor": 0
      },
      "text/plain": [
       "  0%|          | 0/27 [00:00<?, ?it/s]"
      ]
     },
     "metadata": {},
     "output_type": "display_data"
    },
    {
     "data": {
      "application/vnd.jupyter.widget-view+json": {
       "model_id": "3fe8562f632f4b899454a1bdad8a6dab",
       "version_major": 2,
       "version_minor": 0
      },
      "text/plain": [
       "  0%|          | 0/224 [00:00<?, ?it/s]"
      ]
     },
     "metadata": {},
     "output_type": "display_data"
    },
    {
     "data": {
      "application/vnd.jupyter.widget-view+json": {
       "model_id": "0b888ac3c73c450b8c6ef5c8a836da38",
       "version_major": 2,
       "version_minor": 0
      },
      "text/plain": [
       "  0%|          | 0/29 [00:00<?, ?it/s]"
      ]
     },
     "metadata": {},
     "output_type": "display_data"
    },
    {
     "data": {
      "application/vnd.jupyter.widget-view+json": {
       "model_id": "c7579dd83b084e88a79ed7a17c014864",
       "version_major": 2,
       "version_minor": 0
      },
      "text/plain": [
       "  0%|          | 0/41 [00:00<?, ?it/s]"
      ]
     },
     "metadata": {},
     "output_type": "display_data"
    },
    {
     "data": {
      "application/vnd.jupyter.widget-view+json": {
       "model_id": "1b40869e24084ce289e580b872cd5129",
       "version_major": 2,
       "version_minor": 0
      },
      "text/plain": [
       "  0%|          | 0/38 [00:00<?, ?it/s]"
      ]
     },
     "metadata": {},
     "output_type": "display_data"
    },
    {
     "data": {
      "application/vnd.jupyter.widget-view+json": {
       "model_id": "c96d8041d0cd4696bb980ab1d28a9a6a",
       "version_major": 2,
       "version_minor": 0
      },
      "text/plain": [
       "  0%|          | 0/62 [00:00<?, ?it/s]"
      ]
     },
     "metadata": {},
     "output_type": "display_data"
    },
    {
     "data": {
      "application/vnd.jupyter.widget-view+json": {
       "model_id": "82d38a29e18b4345a35abc6ff313f831",
       "version_major": 2,
       "version_minor": 0
      },
      "text/plain": [
       "  0%|          | 0/85 [00:00<?, ?it/s]"
      ]
     },
     "metadata": {},
     "output_type": "display_data"
    },
    {
     "data": {
      "application/vnd.jupyter.widget-view+json": {
       "model_id": "3c5e4526e6824e0591b61c32a8a8068d",
       "version_major": 2,
       "version_minor": 0
      },
      "text/plain": [
       "  0%|          | 0/21 [00:00<?, ?it/s]"
      ]
     },
     "metadata": {},
     "output_type": "display_data"
    },
    {
     "data": {
      "application/vnd.jupyter.widget-view+json": {
       "model_id": "041522c3ee814fbc997f0bf59922a1e1",
       "version_major": 2,
       "version_minor": 0
      },
      "text/plain": [
       "  0%|          | 0/54 [00:00<?, ?it/s]"
      ]
     },
     "metadata": {},
     "output_type": "display_data"
    },
    {
     "data": {
      "application/vnd.jupyter.widget-view+json": {
       "model_id": "2ea4b47c9ae3455d90826a43b3b6b886",
       "version_major": 2,
       "version_minor": 0
      },
      "text/plain": [
       "  0%|          | 0/57 [00:00<?, ?it/s]"
      ]
     },
     "metadata": {},
     "output_type": "display_data"
    },
    {
     "data": {
      "application/vnd.jupyter.widget-view+json": {
       "model_id": "f6fa44fb44c8431c83b17cf0de0813ec",
       "version_major": 2,
       "version_minor": 0
      },
      "text/plain": [
       "  0%|          | 0/11 [00:00<?, ?it/s]"
      ]
     },
     "metadata": {},
     "output_type": "display_data"
    },
    {
     "data": {
      "application/vnd.jupyter.widget-view+json": {
       "model_id": "155dda4a34b64572b086e40e56091518",
       "version_major": 2,
       "version_minor": 0
      },
      "text/plain": [
       "  0%|          | 0/25 [00:00<?, ?it/s]"
      ]
     },
     "metadata": {},
     "output_type": "display_data"
    },
    {
     "data": {
      "application/vnd.jupyter.widget-view+json": {
       "model_id": "3a6e9012459d4b2696c53d53f9e4c98d",
       "version_major": 2,
       "version_minor": 0
      },
      "text/plain": [
       "  0%|          | 0/38 [00:00<?, ?it/s]"
      ]
     },
     "metadata": {},
     "output_type": "display_data"
    },
    {
     "data": {
      "application/vnd.jupyter.widget-view+json": {
       "model_id": "a3d863f3d2fb4d3d9a8212c58ef6eec0",
       "version_major": 2,
       "version_minor": 0
      },
      "text/plain": [
       "  0%|          | 0/32 [00:00<?, ?it/s]"
      ]
     },
     "metadata": {},
     "output_type": "display_data"
    },
    {
     "data": {
      "application/vnd.jupyter.widget-view+json": {
       "model_id": "cdc06264fe814d0497174856532f1626",
       "version_major": 2,
       "version_minor": 0
      },
      "text/plain": [
       "  0%|          | 0/95 [00:00<?, ?it/s]"
      ]
     },
     "metadata": {},
     "output_type": "display_data"
    },
    {
     "data": {
      "application/vnd.jupyter.widget-view+json": {
       "model_id": "da6b24e466f24599a8ca152d4de785db",
       "version_major": 2,
       "version_minor": 0
      },
      "text/plain": [
       "  0%|          | 0/37 [00:00<?, ?it/s]"
      ]
     },
     "metadata": {},
     "output_type": "display_data"
    },
    {
     "data": {
      "application/vnd.jupyter.widget-view+json": {
       "model_id": "73d163328cce4320ab44c1b5d7385dae",
       "version_major": 2,
       "version_minor": 0
      },
      "text/plain": [
       "  0%|          | 0/43 [00:00<?, ?it/s]"
      ]
     },
     "metadata": {},
     "output_type": "display_data"
    },
    {
     "data": {
      "application/vnd.jupyter.widget-view+json": {
       "model_id": "43528c79a6614ed8b1ea4983e0a8e39d",
       "version_major": 2,
       "version_minor": 0
      },
      "text/plain": [
       "  0%|          | 0/38 [00:00<?, ?it/s]"
      ]
     },
     "metadata": {},
     "output_type": "display_data"
    },
    {
     "data": {
      "application/vnd.jupyter.widget-view+json": {
       "model_id": "81e85c330b9a4bab86d2653e139f2305",
       "version_major": 2,
       "version_minor": 0
      },
      "text/plain": [
       "  0%|          | 0/9 [00:00<?, ?it/s]"
      ]
     },
     "metadata": {},
     "output_type": "display_data"
    },
    {
     "data": {
      "application/vnd.jupyter.widget-view+json": {
       "model_id": "1a13080206c54022b94923da37ee5442",
       "version_major": 2,
       "version_minor": 0
      },
      "text/plain": [
       "  0%|          | 0/33 [00:00<?, ?it/s]"
      ]
     },
     "metadata": {},
     "output_type": "display_data"
    },
    {
     "data": {
      "application/vnd.jupyter.widget-view+json": {
       "model_id": "24d5a125f31d491e849e1ffdee2b1e7b",
       "version_major": 2,
       "version_minor": 0
      },
      "text/plain": [
       "  0%|          | 0/35 [00:00<?, ?it/s]"
      ]
     },
     "metadata": {},
     "output_type": "display_data"
    },
    {
     "data": {
      "application/vnd.jupyter.widget-view+json": {
       "model_id": "da21b9b1f6a44f2e8ed0ec71c7474916",
       "version_major": 2,
       "version_minor": 0
      },
      "text/plain": [
       "  0%|          | 0/49 [00:00<?, ?it/s]"
      ]
     },
     "metadata": {},
     "output_type": "display_data"
    },
    {
     "data": {
      "application/vnd.jupyter.widget-view+json": {
       "model_id": "16ba39899afc4ddf9261cffa94c99bb5",
       "version_major": 2,
       "version_minor": 0
      },
      "text/plain": [
       "  0%|          | 0/63 [00:00<?, ?it/s]"
      ]
     },
     "metadata": {},
     "output_type": "display_data"
    },
    {
     "data": {
      "application/vnd.jupyter.widget-view+json": {
       "model_id": "ac715b002fd944edbb4bc1c4926be161",
       "version_major": 2,
       "version_minor": 0
      },
      "text/plain": [
       "  0%|          | 0/34 [00:00<?, ?it/s]"
      ]
     },
     "metadata": {},
     "output_type": "display_data"
    },
    {
     "data": {
      "application/vnd.jupyter.widget-view+json": {
       "model_id": "6150354835a1435886f771150ccd9a53",
       "version_major": 2,
       "version_minor": 0
      },
      "text/plain": [
       "  0%|          | 0/25 [00:00<?, ?it/s]"
      ]
     },
     "metadata": {},
     "output_type": "display_data"
    },
    {
     "data": {
      "application/vnd.jupyter.widget-view+json": {
       "model_id": "18c668ef42ec419dbcc31931895f5706",
       "version_major": 2,
       "version_minor": 0
      },
      "text/plain": [
       "  0%|          | 0/32 [00:00<?, ?it/s]"
      ]
     },
     "metadata": {},
     "output_type": "display_data"
    },
    {
     "data": {
      "application/vnd.jupyter.widget-view+json": {
       "model_id": "03afdf6675f140caa9c5f4c04690c1e3",
       "version_major": 2,
       "version_minor": 0
      },
      "text/plain": [
       "  0%|          | 0/53 [00:00<?, ?it/s]"
      ]
     },
     "metadata": {},
     "output_type": "display_data"
    },
    {
     "data": {
      "application/vnd.jupyter.widget-view+json": {
       "model_id": "f15ded64aca74c67a328a6daf14aa8c0",
       "version_major": 2,
       "version_minor": 0
      },
      "text/plain": [
       "  0%|          | 0/15 [00:00<?, ?it/s]"
      ]
     },
     "metadata": {},
     "output_type": "display_data"
    },
    {
     "data": {
      "application/vnd.jupyter.widget-view+json": {
       "model_id": "02918f67ca094f25a18945a391270a58",
       "version_major": 2,
       "version_minor": 0
      },
      "text/plain": [
       "  0%|          | 0/31 [00:00<?, ?it/s]"
      ]
     },
     "metadata": {},
     "output_type": "display_data"
    },
    {
     "data": {
      "application/vnd.jupyter.widget-view+json": {
       "model_id": "fe1dba1f78074015b718fd9f2f5a9122",
       "version_major": 2,
       "version_minor": 0
      },
      "text/plain": [
       "  0%|          | 0/117 [00:00<?, ?it/s]"
      ]
     },
     "metadata": {},
     "output_type": "display_data"
    },
    {
     "data": {
      "application/vnd.jupyter.widget-view+json": {
       "model_id": "ccc970533a0143f8ab80f015c98ba6ae",
       "version_major": 2,
       "version_minor": 0
      },
      "text/plain": [
       "  0%|          | 0/36 [00:00<?, ?it/s]"
      ]
     },
     "metadata": {},
     "output_type": "display_data"
    },
    {
     "data": {
      "application/vnd.jupyter.widget-view+json": {
       "model_id": "92cc7dcca76e4e808d66f513e479a981",
       "version_major": 2,
       "version_minor": 0
      },
      "text/plain": [
       "  0%|          | 0/29 [00:00<?, ?it/s]"
      ]
     },
     "metadata": {},
     "output_type": "display_data"
    },
    {
     "data": {
      "application/vnd.jupyter.widget-view+json": {
       "model_id": "64870d64462e4e1a9929d30e6b06b743",
       "version_major": 2,
       "version_minor": 0
      },
      "text/plain": [
       "  0%|          | 0/57 [00:00<?, ?it/s]"
      ]
     },
     "metadata": {},
     "output_type": "display_data"
    },
    {
     "data": {
      "application/vnd.jupyter.widget-view+json": {
       "model_id": "daf080c2c0464a4280579cce29cf5d7d",
       "version_major": 2,
       "version_minor": 0
      },
      "text/plain": [
       "  0%|          | 0/11 [00:00<?, ?it/s]"
      ]
     },
     "metadata": {},
     "output_type": "display_data"
    },
    {
     "data": {
      "application/vnd.jupyter.widget-view+json": {
       "model_id": "bdb5353ae0d440c1ad3ffebfc0815c3b",
       "version_major": 2,
       "version_minor": 0
      },
      "text/plain": [
       "  0%|          | 0/27 [00:00<?, ?it/s]"
      ]
     },
     "metadata": {},
     "output_type": "display_data"
    },
    {
     "data": {
      "application/vnd.jupyter.widget-view+json": {
       "model_id": "d58eb7ba2d7e4d6b8704792fb1527a38",
       "version_major": 2,
       "version_minor": 0
      },
      "text/plain": [
       "  0%|          | 0/54 [00:00<?, ?it/s]"
      ]
     },
     "metadata": {},
     "output_type": "display_data"
    },
    {
     "data": {
      "application/vnd.jupyter.widget-view+json": {
       "model_id": "dc1a719072304746a57a8692c85c0fc8",
       "version_major": 2,
       "version_minor": 0
      },
      "text/plain": [
       "  0%|          | 0/46 [00:00<?, ?it/s]"
      ]
     },
     "metadata": {},
     "output_type": "display_data"
    },
    {
     "data": {
      "application/vnd.jupyter.widget-view+json": {
       "model_id": "4aeda98a2ae9405eb3131173c0ed9c61",
       "version_major": 2,
       "version_minor": 0
      },
      "text/plain": [
       "  0%|          | 0/6 [00:00<?, ?it/s]"
      ]
     },
     "metadata": {},
     "output_type": "display_data"
    },
    {
     "data": {
      "application/vnd.jupyter.widget-view+json": {
       "model_id": "f026481445e34e5cafed2ee0cc76eb01",
       "version_major": 2,
       "version_minor": 0
      },
      "text/plain": [
       "  0%|          | 0/19 [00:00<?, ?it/s]"
      ]
     },
     "metadata": {},
     "output_type": "display_data"
    },
    {
     "data": {
      "application/vnd.jupyter.widget-view+json": {
       "model_id": "3c8454b26f82415db811eb6401cadca3",
       "version_major": 2,
       "version_minor": 0
      },
      "text/plain": [
       "  0%|          | 0/43 [00:00<?, ?it/s]"
      ]
     },
     "metadata": {},
     "output_type": "display_data"
    },
    {
     "data": {
      "application/vnd.jupyter.widget-view+json": {
       "model_id": "816855ca66154c22b452b5a031c14441",
       "version_major": 2,
       "version_minor": 0
      },
      "text/plain": [
       "  0%|          | 0/94 [00:00<?, ?it/s]"
      ]
     },
     "metadata": {},
     "output_type": "display_data"
    },
    {
     "data": {
      "application/vnd.jupyter.widget-view+json": {
       "model_id": "e249bff1aac04abc8e1b6e6575c02ec7",
       "version_major": 2,
       "version_minor": 0
      },
      "text/plain": [
       "  0%|          | 0/20 [00:00<?, ?it/s]"
      ]
     },
     "metadata": {},
     "output_type": "display_data"
    },
    {
     "data": {
      "application/vnd.jupyter.widget-view+json": {
       "model_id": "68ee5a77dac94a4dbd74143d92cf59be",
       "version_major": 2,
       "version_minor": 0
      },
      "text/plain": [
       "  0%|          | 0/38 [00:00<?, ?it/s]"
      ]
     },
     "metadata": {},
     "output_type": "display_data"
    },
    {
     "name": "stdout",
     "output_type": "stream",
     "text": [
      "requests:ERROR | 2024-05-25 13:26:14 +0000 | An error occurred for identifier=84878856882 while retrieving ISSNs.\n",
      "requests:ERROR | 2024-05-25 13:26:16 +0000 | An error occurred for identifier=74549157188 while retrieving ISSNs.\n",
      "requests:ERROR | 2024-05-25 13:26:16 +0000 | An error occurred for identifier=77958602828 while retrieving ISSNs.\n",
      "requests:ERROR | 2024-05-25 13:26:16 +0000 | An error occurred for identifier=35548958284 while retrieving ISSNs.\n",
      "requests:ERROR | 2024-05-25 13:26:18 +0000 | An error occurred for identifier=37249062755 while retrieving ISSNs.\n"
     ]
    },
    {
     "data": {
      "application/vnd.jupyter.widget-view+json": {
       "model_id": "8681cc4b9e39499b9fcbf9b7c311d343",
       "version_major": 2,
       "version_minor": 0
      },
      "text/plain": [
       "  0%|          | 0/42 [00:00<?, ?it/s]"
      ]
     },
     "metadata": {},
     "output_type": "display_data"
    },
    {
     "data": {
      "application/vnd.jupyter.widget-view+json": {
       "model_id": "be4e635f22554f7b8f46450c340cc790",
       "version_major": 2,
       "version_minor": 0
      },
      "text/plain": [
       "  0%|          | 0/42 [00:00<?, ?it/s]"
      ]
     },
     "metadata": {},
     "output_type": "display_data"
    },
    {
     "data": {
      "application/vnd.jupyter.widget-view+json": {
       "model_id": "2cfff4411c0d4bed8aa807b168a017fe",
       "version_major": 2,
       "version_minor": 0
      },
      "text/plain": [
       "  0%|          | 0/55 [00:00<?, ?it/s]"
      ]
     },
     "metadata": {},
     "output_type": "display_data"
    },
    {
     "data": {
      "application/vnd.jupyter.widget-view+json": {
       "model_id": "a342f081b0d14136a9e17d0d1f4b2820",
       "version_major": 2,
       "version_minor": 0
      },
      "text/plain": [
       "  0%|          | 0/38 [00:00<?, ?it/s]"
      ]
     },
     "metadata": {},
     "output_type": "display_data"
    },
    {
     "data": {
      "application/vnd.jupyter.widget-view+json": {
       "model_id": "dd672577376149f98248bf578909658d",
       "version_major": 2,
       "version_minor": 0
      },
      "text/plain": [
       "  0%|          | 0/101 [00:00<?, ?it/s]"
      ]
     },
     "metadata": {},
     "output_type": "display_data"
    },
    {
     "data": {
      "application/vnd.jupyter.widget-view+json": {
       "model_id": "b817eddd30f1401a9ff18b9722fa82d4",
       "version_major": 2,
       "version_minor": 0
      },
      "text/plain": [
       "  0%|          | 0/21 [00:00<?, ?it/s]"
      ]
     },
     "metadata": {},
     "output_type": "display_data"
    },
    {
     "data": {
      "application/vnd.jupyter.widget-view+json": {
       "model_id": "642b9bc5f137478b8e35b68ef21c0f6a",
       "version_major": 2,
       "version_minor": 0
      },
      "text/plain": [
       "  0%|          | 0/14 [00:00<?, ?it/s]"
      ]
     },
     "metadata": {},
     "output_type": "display_data"
    },
    {
     "data": {
      "application/vnd.jupyter.widget-view+json": {
       "model_id": "98ecf8842151441497f9bca4b65899c1",
       "version_major": 2,
       "version_minor": 0
      },
      "text/plain": [
       "  0%|          | 0/22 [00:00<?, ?it/s]"
      ]
     },
     "metadata": {},
     "output_type": "display_data"
    },
    {
     "data": {
      "application/vnd.jupyter.widget-view+json": {
       "model_id": "285560f1f74c49eea29dae2be02dce01",
       "version_major": 2,
       "version_minor": 0
      },
      "text/plain": [
       "  0%|          | 0/28 [00:00<?, ?it/s]"
      ]
     },
     "metadata": {},
     "output_type": "display_data"
    },
    {
     "data": {
      "application/vnd.jupyter.widget-view+json": {
       "model_id": "616440e650f54a0bb18996d916a55bee",
       "version_major": 2,
       "version_minor": 0
      },
      "text/plain": [
       "  0%|          | 0/32 [00:00<?, ?it/s]"
      ]
     },
     "metadata": {},
     "output_type": "display_data"
    },
    {
     "data": {
      "application/vnd.jupyter.widget-view+json": {
       "model_id": "65fe2e5454f9401fba6aaf9b9991e6cf",
       "version_major": 2,
       "version_minor": 0
      },
      "text/plain": [
       "  0%|          | 0/28 [00:00<?, ?it/s]"
      ]
     },
     "metadata": {},
     "output_type": "display_data"
    },
    {
     "data": {
      "application/vnd.jupyter.widget-view+json": {
       "model_id": "e7d2385963d8430cb10bb8a6d88491ee",
       "version_major": 2,
       "version_minor": 0
      },
      "text/plain": [
       "  0%|          | 0/51 [00:00<?, ?it/s]"
      ]
     },
     "metadata": {},
     "output_type": "display_data"
    },
    {
     "data": {
      "application/vnd.jupyter.widget-view+json": {
       "model_id": "78bb472a2823447bb2e76e2836554da7",
       "version_major": 2,
       "version_minor": 0
      },
      "text/plain": [
       "  0%|          | 0/49 [00:00<?, ?it/s]"
      ]
     },
     "metadata": {},
     "output_type": "display_data"
    },
    {
     "data": {
      "application/vnd.jupyter.widget-view+json": {
       "model_id": "88d503f91f7048a1a694eec68b362aff",
       "version_major": 2,
       "version_minor": 0
      },
      "text/plain": [
       "  0%|          | 0/36 [00:00<?, ?it/s]"
      ]
     },
     "metadata": {},
     "output_type": "display_data"
    },
    {
     "data": {
      "application/vnd.jupyter.widget-view+json": {
       "model_id": "a437745a1d4540998e5c94977d85cd5b",
       "version_major": 2,
       "version_minor": 0
      },
      "text/plain": [
       "  0%|          | 0/46 [00:00<?, ?it/s]"
      ]
     },
     "metadata": {},
     "output_type": "display_data"
    },
    {
     "data": {
      "application/vnd.jupyter.widget-view+json": {
       "model_id": "352c511d913847b9945dd74973750322",
       "version_major": 2,
       "version_minor": 0
      },
      "text/plain": [
       "  0%|          | 0/39 [00:00<?, ?it/s]"
      ]
     },
     "metadata": {},
     "output_type": "display_data"
    },
    {
     "data": {
      "application/vnd.jupyter.widget-view+json": {
       "model_id": "",
       "version_major": 2,
       "version_minor": 0
      },
      "text/plain": [
       "  0%|          | 0/49 [00:00<?, ?it/s]"
      ]
     },
     "metadata": {},
     "output_type": "display_data"
    },
    {
     "data": {
      "application/vnd.jupyter.widget-view+json": {
       "model_id": "",
       "version_major": 2,
       "version_minor": 0
      },
      "text/plain": [
       "  0%|          | 0/49 [00:00<?, ?it/s]"
      ]
     },
     "metadata": {},
     "output_type": "display_data"
    },
    {
     "data": {
      "application/vnd.jupyter.widget-view+json": {
       "model_id": "",
       "version_major": 2,
       "version_minor": 0
      },
      "text/plain": [
       "  0%|          | 0/28 [00:00<?, ?it/s]"
      ]
     },
     "metadata": {},
     "output_type": "display_data"
    },
    {
     "data": {
      "application/vnd.jupyter.widget-view+json": {
       "model_id": "",
       "version_major": 2,
       "version_minor": 0
      },
      "text/plain": [
       "  0%|          | 0/41 [00:00<?, ?it/s]"
      ]
     },
     "metadata": {},
     "output_type": "display_data"
    },
    {
     "data": {
      "application/vnd.jupyter.widget-view+json": {
       "model_id": "",
       "version_major": 2,
       "version_minor": 0
      },
      "text/plain": [
       "  0%|          | 0/11 [00:00<?, ?it/s]"
      ]
     },
     "metadata": {},
     "output_type": "display_data"
    },
    {
     "data": {
      "application/vnd.jupyter.widget-view+json": {
       "model_id": "",
       "version_major": 2,
       "version_minor": 0
      },
      "text/plain": [
       "  0%|          | 0/43 [00:00<?, ?it/s]"
      ]
     },
     "metadata": {},
     "output_type": "display_data"
    },
    {
     "data": {
      "application/vnd.jupyter.widget-view+json": {
       "model_id": "",
       "version_major": 2,
       "version_minor": 0
      },
      "text/plain": [
       "  0%|          | 0/20 [00:00<?, ?it/s]"
      ]
     },
     "metadata": {},
     "output_type": "display_data"
    },
    {
     "data": {
      "application/vnd.jupyter.widget-view+json": {
       "model_id": "",
       "version_major": 2,
       "version_minor": 0
      },
      "text/plain": [
       "  0%|          | 0/17 [00:00<?, ?it/s]"
      ]
     },
     "metadata": {},
     "output_type": "display_data"
    },
    {
     "data": {
      "application/vnd.jupyter.widget-view+json": {
       "model_id": "",
       "version_major": 2,
       "version_minor": 0
      },
      "text/plain": [
       "  0%|          | 0/55 [00:00<?, ?it/s]"
      ]
     },
     "metadata": {},
     "output_type": "display_data"
    },
    {
     "data": {
      "application/vnd.jupyter.widget-view+json": {
       "model_id": "",
       "version_major": 2,
       "version_minor": 0
      },
      "text/plain": [
       "  0%|          | 0/47 [00:00<?, ?it/s]"
      ]
     },
     "metadata": {},
     "output_type": "display_data"
    },
    {
     "data": {
      "application/vnd.jupyter.widget-view+json": {
       "model_id": "",
       "version_major": 2,
       "version_minor": 0
      },
      "text/plain": [
       "  0%|          | 0/42 [00:00<?, ?it/s]"
      ]
     },
     "metadata": {},
     "output_type": "display_data"
    },
    {
     "data": {
      "application/vnd.jupyter.widget-view+json": {
       "model_id": "",
       "version_major": 2,
       "version_minor": 0
      },
      "text/plain": [
       "  0%|          | 0/18 [00:00<?, ?it/s]"
      ]
     },
     "metadata": {},
     "output_type": "display_data"
    },
    {
     "data": {
      "application/vnd.jupyter.widget-view+json": {
       "model_id": "",
       "version_major": 2,
       "version_minor": 0
      },
      "text/plain": [
       "  0%|          | 0/191 [00:00<?, ?it/s]"
      ]
     },
     "metadata": {},
     "output_type": "display_data"
    },
    {
     "data": {
      "application/vnd.jupyter.widget-view+json": {
       "model_id": "",
       "version_major": 2,
       "version_minor": 0
      },
      "text/plain": [
       "  0%|          | 0/20 [00:00<?, ?it/s]"
      ]
     },
     "metadata": {},
     "output_type": "display_data"
    },
    {
     "data": {
      "application/vnd.jupyter.widget-view+json": {
       "model_id": "",
       "version_major": 2,
       "version_minor": 0
      },
      "text/plain": [
       "  0%|          | 0/56 [00:00<?, ?it/s]"
      ]
     },
     "metadata": {},
     "output_type": "display_data"
    },
    {
     "data": {
      "application/vnd.jupyter.widget-view+json": {
       "model_id": "",
       "version_major": 2,
       "version_minor": 0
      },
      "text/plain": [
       "  0%|          | 0/51 [00:00<?, ?it/s]"
      ]
     },
     "metadata": {},
     "output_type": "display_data"
    },
    {
     "data": {
      "application/vnd.jupyter.widget-view+json": {
       "model_id": "",
       "version_major": 2,
       "version_minor": 0
      },
      "text/plain": [
       "  0%|          | 0/16 [00:00<?, ?it/s]"
      ]
     },
     "metadata": {},
     "output_type": "display_data"
    },
    {
     "data": {
      "application/vnd.jupyter.widget-view+json": {
       "model_id": "",
       "version_major": 2,
       "version_minor": 0
      },
      "text/plain": [
       "  0%|          | 0/8 [00:00<?, ?it/s]"
      ]
     },
     "metadata": {},
     "output_type": "display_data"
    },
    {
     "data": {
      "application/vnd.jupyter.widget-view+json": {
       "model_id": "",
       "version_major": 2,
       "version_minor": 0
      },
      "text/plain": [
       "  0%|          | 0/32 [00:00<?, ?it/s]"
      ]
     },
     "metadata": {},
     "output_type": "display_data"
    },
    {
     "data": {
      "application/vnd.jupyter.widget-view+json": {
       "model_id": "",
       "version_major": 2,
       "version_minor": 0
      },
      "text/plain": [
       "  0%|          | 0/29 [00:00<?, ?it/s]"
      ]
     },
     "metadata": {},
     "output_type": "display_data"
    },
    {
     "data": {
      "application/vnd.jupyter.widget-view+json": {
       "model_id": "",
       "version_major": 2,
       "version_minor": 0
      },
      "text/plain": [
       "  0%|          | 0/35 [00:00<?, ?it/s]"
      ]
     },
     "metadata": {},
     "output_type": "display_data"
    },
    {
     "data": {
      "application/vnd.jupyter.widget-view+json": {
       "model_id": "",
       "version_major": 2,
       "version_minor": 0
      },
      "text/plain": [
       "  0%|          | 0/28 [00:00<?, ?it/s]"
      ]
     },
     "metadata": {},
     "output_type": "display_data"
    },
    {
     "data": {
      "application/vnd.jupyter.widget-view+json": {
       "model_id": "",
       "version_major": 2,
       "version_minor": 0
      },
      "text/plain": [
       "  0%|          | 0/51 [00:00<?, ?it/s]"
      ]
     },
     "metadata": {},
     "output_type": "display_data"
    },
    {
     "data": {
      "application/vnd.jupyter.widget-view+json": {
       "model_id": "",
       "version_major": 2,
       "version_minor": 0
      },
      "text/plain": [
       "  0%|          | 0/38 [00:00<?, ?it/s]"
      ]
     },
     "metadata": {},
     "output_type": "display_data"
    },
    {
     "data": {
      "application/vnd.jupyter.widget-view+json": {
       "model_id": "",
       "version_major": 2,
       "version_minor": 0
      },
      "text/plain": [
       "  0%|          | 0/15 [00:00<?, ?it/s]"
      ]
     },
     "metadata": {},
     "output_type": "display_data"
    },
    {
     "data": {
      "application/vnd.jupyter.widget-view+json": {
       "model_id": "",
       "version_major": 2,
       "version_minor": 0
      },
      "text/plain": [
       "  0%|          | 0/50 [00:00<?, ?it/s]"
      ]
     },
     "metadata": {},
     "output_type": "display_data"
    },
    {
     "data": {
      "application/vnd.jupyter.widget-view+json": {
       "model_id": "",
       "version_major": 2,
       "version_minor": 0
      },
      "text/plain": [
       "  0%|          | 0/152 [00:00<?, ?it/s]"
      ]
     },
     "metadata": {},
     "output_type": "display_data"
    },
    {
     "data": {
      "application/vnd.jupyter.widget-view+json": {
       "model_id": "",
       "version_major": 2,
       "version_minor": 0
      },
      "text/plain": [
       "  0%|          | 0/65 [00:00<?, ?it/s]"
      ]
     },
     "metadata": {},
     "output_type": "display_data"
    },
    {
     "data": {
      "application/vnd.jupyter.widget-view+json": {
       "model_id": "",
       "version_major": 2,
       "version_minor": 0
      },
      "text/plain": [
       "  0%|          | 0/18 [00:00<?, ?it/s]"
      ]
     },
     "metadata": {},
     "output_type": "display_data"
    },
    {
     "data": {
      "application/vnd.jupyter.widget-view+json": {
       "model_id": "",
       "version_major": 2,
       "version_minor": 0
      },
      "text/plain": [
       "  0%|          | 0/65 [00:00<?, ?it/s]"
      ]
     },
     "metadata": {},
     "output_type": "display_data"
    },
    {
     "data": {
      "application/vnd.jupyter.widget-view+json": {
       "model_id": "",
       "version_major": 2,
       "version_minor": 0
      },
      "text/plain": [
       "  0%|          | 0/35 [00:00<?, ?it/s]"
      ]
     },
     "metadata": {},
     "output_type": "display_data"
    },
    {
     "data": {
      "application/vnd.jupyter.widget-view+json": {
       "model_id": "",
       "version_major": 2,
       "version_minor": 0
      },
      "text/plain": [
       "  0%|          | 0/34 [00:00<?, ?it/s]"
      ]
     },
     "metadata": {},
     "output_type": "display_data"
    },
    {
     "data": {
      "application/vnd.jupyter.widget-view+json": {
       "model_id": "",
       "version_major": 2,
       "version_minor": 0
      },
      "text/plain": [
       "  0%|          | 0/16 [00:00<?, ?it/s]"
      ]
     },
     "metadata": {},
     "output_type": "display_data"
    },
    {
     "data": {
      "application/vnd.jupyter.widget-view+json": {
       "model_id": "",
       "version_major": 2,
       "version_minor": 0
      },
      "text/plain": [
       "  0%|          | 0/44 [00:00<?, ?it/s]"
      ]
     },
     "metadata": {},
     "output_type": "display_data"
    },
    {
     "data": {
      "application/vnd.jupyter.widget-view+json": {
       "model_id": "",
       "version_major": 2,
       "version_minor": 0
      },
      "text/plain": [
       "  0%|          | 0/17 [00:00<?, ?it/s]"
      ]
     },
     "metadata": {},
     "output_type": "display_data"
    },
    {
     "data": {
      "application/vnd.jupyter.widget-view+json": {
       "model_id": "",
       "version_major": 2,
       "version_minor": 0
      },
      "text/plain": [
       "  0%|          | 0/19 [00:00<?, ?it/s]"
      ]
     },
     "metadata": {},
     "output_type": "display_data"
    },
    {
     "data": {
      "application/vnd.jupyter.widget-view+json": {
       "model_id": "",
       "version_major": 2,
       "version_minor": 0
      },
      "text/plain": [
       "  0%|          | 0/49 [00:00<?, ?it/s]"
      ]
     },
     "metadata": {},
     "output_type": "display_data"
    },
    {
     "data": {
      "application/vnd.jupyter.widget-view+json": {
       "model_id": "",
       "version_major": 2,
       "version_minor": 0
      },
      "text/plain": [
       "  0%|          | 0/61 [00:00<?, ?it/s]"
      ]
     },
     "metadata": {},
     "output_type": "display_data"
    },
    {
     "data": {
      "application/vnd.jupyter.widget-view+json": {
       "model_id": "",
       "version_major": 2,
       "version_minor": 0
      },
      "text/plain": [
       "  0%|          | 0/22 [00:00<?, ?it/s]"
      ]
     },
     "metadata": {},
     "output_type": "display_data"
    },
    {
     "data": {
      "application/vnd.jupyter.widget-view+json": {
       "model_id": "",
       "version_major": 2,
       "version_minor": 0
      },
      "text/plain": [
       "  0%|          | 0/41 [00:00<?, ?it/s]"
      ]
     },
     "metadata": {},
     "output_type": "display_data"
    },
    {
     "data": {
      "application/vnd.jupyter.widget-view+json": {
       "model_id": "",
       "version_major": 2,
       "version_minor": 0
      },
      "text/plain": [
       "  0%|          | 0/26 [00:00<?, ?it/s]"
      ]
     },
     "metadata": {},
     "output_type": "display_data"
    },
    {
     "data": {
      "application/vnd.jupyter.widget-view+json": {
       "model_id": "",
       "version_major": 2,
       "version_minor": 0
      },
      "text/plain": [
       "  0%|          | 0/12 [00:00<?, ?it/s]"
      ]
     },
     "metadata": {},
     "output_type": "display_data"
    },
    {
     "data": {
      "application/vnd.jupyter.widget-view+json": {
       "model_id": "",
       "version_major": 2,
       "version_minor": 0
      },
      "text/plain": [
       "  0%|          | 0/31 [00:00<?, ?it/s]"
      ]
     },
     "metadata": {},
     "output_type": "display_data"
    },
    {
     "data": {
      "application/vnd.jupyter.widget-view+json": {
       "model_id": "",
       "version_major": 2,
       "version_minor": 0
      },
      "text/plain": [
       "  0%|          | 0/25 [00:00<?, ?it/s]"
      ]
     },
     "metadata": {},
     "output_type": "display_data"
    },
    {
     "data": {
      "application/vnd.jupyter.widget-view+json": {
       "model_id": "",
       "version_major": 2,
       "version_minor": 0
      },
      "text/plain": [
       "  0%|          | 0/47 [00:00<?, ?it/s]"
      ]
     },
     "metadata": {},
     "output_type": "display_data"
    },
    {
     "data": {
      "application/vnd.jupyter.widget-view+json": {
       "model_id": "",
       "version_major": 2,
       "version_minor": 0
      },
      "text/plain": [
       "  0%|          | 0/66 [00:00<?, ?it/s]"
      ]
     },
     "metadata": {},
     "output_type": "display_data"
    },
    {
     "data": {
      "application/vnd.jupyter.widget-view+json": {
       "model_id": "",
       "version_major": 2,
       "version_minor": 0
      },
      "text/plain": [
       "  0%|          | 0/36 [00:00<?, ?it/s]"
      ]
     },
     "metadata": {},
     "output_type": "display_data"
    },
    {
     "data": {
      "application/vnd.jupyter.widget-view+json": {
       "model_id": "",
       "version_major": 2,
       "version_minor": 0
      },
      "text/plain": [
       "  0%|          | 0/99 [00:00<?, ?it/s]"
      ]
     },
     "metadata": {},
     "output_type": "display_data"
    },
    {
     "data": {
      "application/vnd.jupyter.widget-view+json": {
       "model_id": "",
       "version_major": 2,
       "version_minor": 0
      },
      "text/plain": [
       "  0%|          | 0/12 [00:00<?, ?it/s]"
      ]
     },
     "metadata": {},
     "output_type": "display_data"
    },
    {
     "data": {
      "application/vnd.jupyter.widget-view+json": {
       "model_id": "",
       "version_major": 2,
       "version_minor": 0
      },
      "text/plain": [
       "  0%|          | 0/39 [00:00<?, ?it/s]"
      ]
     },
     "metadata": {},
     "output_type": "display_data"
    },
    {
     "data": {
      "application/vnd.jupyter.widget-view+json": {
       "model_id": "",
       "version_major": 2,
       "version_minor": 0
      },
      "text/plain": [
       "  0%|          | 0/17 [00:00<?, ?it/s]"
      ]
     },
     "metadata": {},
     "output_type": "display_data"
    },
    {
     "data": {
      "application/vnd.jupyter.widget-view+json": {
       "model_id": "",
       "version_major": 2,
       "version_minor": 0
      },
      "text/plain": [
       "  0%|          | 0/35 [00:00<?, ?it/s]"
      ]
     },
     "metadata": {},
     "output_type": "display_data"
    },
    {
     "data": {
      "application/vnd.jupyter.widget-view+json": {
       "model_id": "",
       "version_major": 2,
       "version_minor": 0
      },
      "text/plain": [
       "  0%|          | 0/33 [00:00<?, ?it/s]"
      ]
     },
     "metadata": {},
     "output_type": "display_data"
    },
    {
     "data": {
      "application/vnd.jupyter.widget-view+json": {
       "model_id": "",
       "version_major": 2,
       "version_minor": 0
      },
      "text/plain": [
       "  0%|          | 0/56 [00:00<?, ?it/s]"
      ]
     },
     "metadata": {},
     "output_type": "display_data"
    },
    {
     "data": {
      "application/vnd.jupyter.widget-view+json": {
       "model_id": "",
       "version_major": 2,
       "version_minor": 0
      },
      "text/plain": [
       "  0%|          | 0/52 [00:00<?, ?it/s]"
      ]
     },
     "metadata": {},
     "output_type": "display_data"
    },
    {
     "data": {
      "application/vnd.jupyter.widget-view+json": {
       "model_id": "",
       "version_major": 2,
       "version_minor": 0
      },
      "text/plain": [
       "  0%|          | 0/31 [00:00<?, ?it/s]"
      ]
     },
     "metadata": {},
     "output_type": "display_data"
    },
    {
     "data": {
      "application/vnd.jupyter.widget-view+json": {
       "model_id": "",
       "version_major": 2,
       "version_minor": 0
      },
      "text/plain": [
       "  0%|          | 0/29 [00:00<?, ?it/s]"
      ]
     },
     "metadata": {},
     "output_type": "display_data"
    },
    {
     "data": {
      "application/vnd.jupyter.widget-view+json": {
       "model_id": "",
       "version_major": 2,
       "version_minor": 0
      },
      "text/plain": [
       "  0%|          | 0/35 [00:00<?, ?it/s]"
      ]
     },
     "metadata": {},
     "output_type": "display_data"
    },
    {
     "data": {
      "application/vnd.jupyter.widget-view+json": {
       "model_id": "",
       "version_major": 2,
       "version_minor": 0
      },
      "text/plain": [
       "  0%|          | 0/37 [00:00<?, ?it/s]"
      ]
     },
     "metadata": {},
     "output_type": "display_data"
    },
    {
     "data": {
      "application/vnd.jupyter.widget-view+json": {
       "model_id": "",
       "version_major": 2,
       "version_minor": 0
      },
      "text/plain": [
       "  0%|          | 0/15 [00:00<?, ?it/s]"
      ]
     },
     "metadata": {},
     "output_type": "display_data"
    },
    {
     "data": {
      "application/vnd.jupyter.widget-view+json": {
       "model_id": "",
       "version_major": 2,
       "version_minor": 0
      },
      "text/plain": [
       "  0%|          | 0/23 [00:00<?, ?it/s]"
      ]
     },
     "metadata": {},
     "output_type": "display_data"
    },
    {
     "data": {
      "application/vnd.jupyter.widget-view+json": {
       "model_id": "",
       "version_major": 2,
       "version_minor": 0
      },
      "text/plain": [
       "  0%|          | 0/23 [00:00<?, ?it/s]"
      ]
     },
     "metadata": {},
     "output_type": "display_data"
    },
    {
     "data": {
      "application/vnd.jupyter.widget-view+json": {
       "model_id": "",
       "version_major": 2,
       "version_minor": 0
      },
      "text/plain": [
       "  0%|          | 0/37 [00:00<?, ?it/s]"
      ]
     },
     "metadata": {},
     "output_type": "display_data"
    },
    {
     "data": {
      "application/vnd.jupyter.widget-view+json": {
       "model_id": "",
       "version_major": 2,
       "version_minor": 0
      },
      "text/plain": [
       "  0%|          | 0/47 [00:00<?, ?it/s]"
      ]
     },
     "metadata": {},
     "output_type": "display_data"
    },
    {
     "data": {
      "application/vnd.jupyter.widget-view+json": {
       "model_id": "",
       "version_major": 2,
       "version_minor": 0
      },
      "text/plain": [
       "  0%|          | 0/45 [00:00<?, ?it/s]"
      ]
     },
     "metadata": {},
     "output_type": "display_data"
    },
    {
     "data": {
      "application/vnd.jupyter.widget-view+json": {
       "model_id": "",
       "version_major": 2,
       "version_minor": 0
      },
      "text/plain": [
       "  0%|          | 0/29 [00:00<?, ?it/s]"
      ]
     },
     "metadata": {},
     "output_type": "display_data"
    },
    {
     "data": {
      "application/vnd.jupyter.widget-view+json": {
       "model_id": "",
       "version_major": 2,
       "version_minor": 0
      },
      "text/plain": [
       "  0%|          | 0/67 [00:00<?, ?it/s]"
      ]
     },
     "metadata": {},
     "output_type": "display_data"
    },
    {
     "data": {
      "application/vnd.jupyter.widget-view+json": {
       "model_id": "",
       "version_major": 2,
       "version_minor": 0
      },
      "text/plain": [
       "  0%|          | 0/26 [00:00<?, ?it/s]"
      ]
     },
     "metadata": {},
     "output_type": "display_data"
    },
    {
     "data": {
      "application/vnd.jupyter.widget-view+json": {
       "model_id": "",
       "version_major": 2,
       "version_minor": 0
      },
      "text/plain": [
       "  0%|          | 0/32 [00:00<?, ?it/s]"
      ]
     },
     "metadata": {},
     "output_type": "display_data"
    },
    {
     "data": {
      "application/vnd.jupyter.widget-view+json": {
       "model_id": "",
       "version_major": 2,
       "version_minor": 0
      },
      "text/plain": [
       "  0%|          | 0/45 [00:00<?, ?it/s]"
      ]
     },
     "metadata": {},
     "output_type": "display_data"
    },
    {
     "data": {
      "application/vnd.jupyter.widget-view+json": {
       "model_id": "",
       "version_major": 2,
       "version_minor": 0
      },
      "text/plain": [
       "  0%|          | 0/27 [00:00<?, ?it/s]"
      ]
     },
     "metadata": {},
     "output_type": "display_data"
    },
    {
     "data": {
      "application/vnd.jupyter.widget-view+json": {
       "model_id": "",
       "version_major": 2,
       "version_minor": 0
      },
      "text/plain": [
       "  0%|          | 0/36 [00:00<?, ?it/s]"
      ]
     },
     "metadata": {},
     "output_type": "display_data"
    },
    {
     "data": {
      "application/vnd.jupyter.widget-view+json": {
       "model_id": "",
       "version_major": 2,
       "version_minor": 0
      },
      "text/plain": [
       "  0%|          | 0/29 [00:00<?, ?it/s]"
      ]
     },
     "metadata": {},
     "output_type": "display_data"
    },
    {
     "data": {
      "application/vnd.jupyter.widget-view+json": {
       "model_id": "",
       "version_major": 2,
       "version_minor": 0
      },
      "text/plain": [
       "  0%|          | 0/7 [00:00<?, ?it/s]"
      ]
     },
     "metadata": {},
     "output_type": "display_data"
    },
    {
     "data": {
      "application/vnd.jupyter.widget-view+json": {
       "model_id": "",
       "version_major": 2,
       "version_minor": 0
      },
      "text/plain": [
       "  0%|          | 0/61 [00:00<?, ?it/s]"
      ]
     },
     "metadata": {},
     "output_type": "display_data"
    },
    {
     "data": {
      "application/vnd.jupyter.widget-view+json": {
       "model_id": "",
       "version_major": 2,
       "version_minor": 0
      },
      "text/plain": [
       "  0%|          | 0/100 [00:00<?, ?it/s]"
      ]
     },
     "metadata": {},
     "output_type": "display_data"
    },
    {
     "data": {
      "application/vnd.jupyter.widget-view+json": {
       "model_id": "",
       "version_major": 2,
       "version_minor": 0
      },
      "text/plain": [
       "  0%|          | 0/90 [00:00<?, ?it/s]"
      ]
     },
     "metadata": {},
     "output_type": "display_data"
    },
    {
     "data": {
      "application/vnd.jupyter.widget-view+json": {
       "model_id": "",
       "version_major": 2,
       "version_minor": 0
      },
      "text/plain": [
       "  0%|          | 0/12 [00:00<?, ?it/s]"
      ]
     },
     "metadata": {},
     "output_type": "display_data"
    },
    {
     "data": {
      "application/vnd.jupyter.widget-view+json": {
       "model_id": "",
       "version_major": 2,
       "version_minor": 0
      },
      "text/plain": [
       "  0%|          | 0/126 [00:00<?, ?it/s]"
      ]
     },
     "metadata": {},
     "output_type": "display_data"
    },
    {
     "data": {
      "application/vnd.jupyter.widget-view+json": {
       "model_id": "",
       "version_major": 2,
       "version_minor": 0
      },
      "text/plain": [
       "  0%|          | 0/48 [00:00<?, ?it/s]"
      ]
     },
     "metadata": {},
     "output_type": "display_data"
    },
    {
     "data": {
      "application/vnd.jupyter.widget-view+json": {
       "model_id": "",
       "version_major": 2,
       "version_minor": 0
      },
      "text/plain": [
       "  0%|          | 0/45 [00:00<?, ?it/s]"
      ]
     },
     "metadata": {},
     "output_type": "display_data"
    },
    {
     "data": {
      "application/vnd.jupyter.widget-view+json": {
       "model_id": "",
       "version_major": 2,
       "version_minor": 0
      },
      "text/plain": [
       "  0%|          | 0/22 [00:00<?, ?it/s]"
      ]
     },
     "metadata": {},
     "output_type": "display_data"
    },
    {
     "data": {
      "application/vnd.jupyter.widget-view+json": {
       "model_id": "",
       "version_major": 2,
       "version_minor": 0
      },
      "text/plain": [
       "  0%|          | 0/84 [00:00<?, ?it/s]"
      ]
     },
     "metadata": {},
     "output_type": "display_data"
    },
    {
     "data": {
      "application/vnd.jupyter.widget-view+json": {
       "model_id": "",
       "version_major": 2,
       "version_minor": 0
      },
      "text/plain": [
       "  0%|          | 0/8 [00:00<?, ?it/s]"
      ]
     },
     "metadata": {},
     "output_type": "display_data"
    },
    {
     "data": {
      "application/vnd.jupyter.widget-view+json": {
       "model_id": "",
       "version_major": 2,
       "version_minor": 0
      },
      "text/plain": [
       "  0%|          | 0/43 [00:00<?, ?it/s]"
      ]
     },
     "metadata": {},
     "output_type": "display_data"
    },
    {
     "data": {
      "application/vnd.jupyter.widget-view+json": {
       "model_id": "",
       "version_major": 2,
       "version_minor": 0
      },
      "text/plain": [
       "  0%|          | 0/34 [00:00<?, ?it/s]"
      ]
     },
     "metadata": {},
     "output_type": "display_data"
    },
    {
     "data": {
      "application/vnd.jupyter.widget-view+json": {
       "model_id": "",
       "version_major": 2,
       "version_minor": 0
      },
      "text/plain": [
       "  0%|          | 0/38 [00:00<?, ?it/s]"
      ]
     },
     "metadata": {},
     "output_type": "display_data"
    },
    {
     "data": {
      "application/vnd.jupyter.widget-view+json": {
       "model_id": "",
       "version_major": 2,
       "version_minor": 0
      },
      "text/plain": [
       "  0%|          | 0/44 [00:00<?, ?it/s]"
      ]
     },
     "metadata": {},
     "output_type": "display_data"
    },
    {
     "data": {
      "application/vnd.jupyter.widget-view+json": {
       "model_id": "",
       "version_major": 2,
       "version_minor": 0
      },
      "text/plain": [
       "  0%|          | 0/17 [00:00<?, ?it/s]"
      ]
     },
     "metadata": {},
     "output_type": "display_data"
    },
    {
     "data": {
      "application/vnd.jupyter.widget-view+json": {
       "model_id": "",
       "version_major": 2,
       "version_minor": 0
      },
      "text/plain": [
       "  0%|          | 0/36 [00:00<?, ?it/s]"
      ]
     },
     "metadata": {},
     "output_type": "display_data"
    },
    {
     "data": {
      "application/vnd.jupyter.widget-view+json": {
       "model_id": "",
       "version_major": 2,
       "version_minor": 0
      },
      "text/plain": [
       "  0%|          | 0/12 [00:00<?, ?it/s]"
      ]
     },
     "metadata": {},
     "output_type": "display_data"
    },
    {
     "data": {
      "application/vnd.jupyter.widget-view+json": {
       "model_id": "",
       "version_major": 2,
       "version_minor": 0
      },
      "text/plain": [
       "  0%|          | 0/64 [00:00<?, ?it/s]"
      ]
     },
     "metadata": {},
     "output_type": "display_data"
    },
    {
     "data": {
      "application/vnd.jupyter.widget-view+json": {
       "model_id": "",
       "version_major": 2,
       "version_minor": 0
      },
      "text/plain": [
       "  0%|          | 0/48 [00:00<?, ?it/s]"
      ]
     },
     "metadata": {},
     "output_type": "display_data"
    },
    {
     "data": {
      "application/vnd.jupyter.widget-view+json": {
       "model_id": "",
       "version_major": 2,
       "version_minor": 0
      },
      "text/plain": [
       "  0%|          | 0/82 [00:00<?, ?it/s]"
      ]
     },
     "metadata": {},
     "output_type": "display_data"
    },
    {
     "data": {
      "application/vnd.jupyter.widget-view+json": {
       "model_id": "",
       "version_major": 2,
       "version_minor": 0
      },
      "text/plain": [
       "  0%|          | 0/27 [00:00<?, ?it/s]"
      ]
     },
     "metadata": {},
     "output_type": "display_data"
    },
    {
     "data": {
      "application/vnd.jupyter.widget-view+json": {
       "model_id": "",
       "version_major": 2,
       "version_minor": 0
      },
      "text/plain": [
       "  0%|          | 0/24 [00:00<?, ?it/s]"
      ]
     },
     "metadata": {},
     "output_type": "display_data"
    },
    {
     "data": {
      "application/vnd.jupyter.widget-view+json": {
       "model_id": "",
       "version_major": 2,
       "version_minor": 0
      },
      "text/plain": [
       "  0%|          | 0/26 [00:00<?, ?it/s]"
      ]
     },
     "metadata": {},
     "output_type": "display_data"
    },
    {
     "data": {
      "application/vnd.jupyter.widget-view+json": {
       "model_id": "",
       "version_major": 2,
       "version_minor": 0
      },
      "text/plain": [
       "  0%|          | 0/42 [00:00<?, ?it/s]"
      ]
     },
     "metadata": {},
     "output_type": "display_data"
    },
    {
     "data": {
      "application/vnd.jupyter.widget-view+json": {
       "model_id": "",
       "version_major": 2,
       "version_minor": 0
      },
      "text/plain": [
       "  0%|          | 0/44 [00:00<?, ?it/s]"
      ]
     },
     "metadata": {},
     "output_type": "display_data"
    },
    {
     "data": {
      "application/vnd.jupyter.widget-view+json": {
       "model_id": "",
       "version_major": 2,
       "version_minor": 0
      },
      "text/plain": [
       "  0%|          | 0/25 [00:00<?, ?it/s]"
      ]
     },
     "metadata": {},
     "output_type": "display_data"
    },
    {
     "data": {
      "application/vnd.jupyter.widget-view+json": {
       "model_id": "",
       "version_major": 2,
       "version_minor": 0
      },
      "text/plain": [
       "  0%|          | 0/12 [00:00<?, ?it/s]"
      ]
     },
     "metadata": {},
     "output_type": "display_data"
    },
    {
     "data": {
      "application/vnd.jupyter.widget-view+json": {
       "model_id": "",
       "version_major": 2,
       "version_minor": 0
      },
      "text/plain": [
       "  0%|          | 0/55 [00:00<?, ?it/s]"
      ]
     },
     "metadata": {},
     "output_type": "display_data"
    },
    {
     "data": {
      "application/vnd.jupyter.widget-view+json": {
       "model_id": "",
       "version_major": 2,
       "version_minor": 0
      },
      "text/plain": [
       "  0%|          | 0/44 [00:00<?, ?it/s]"
      ]
     },
     "metadata": {},
     "output_type": "display_data"
    },
    {
     "data": {
      "application/vnd.jupyter.widget-view+json": {
       "model_id": "",
       "version_major": 2,
       "version_minor": 0
      },
      "text/plain": [
       "  0%|          | 0/12 [00:00<?, ?it/s]"
      ]
     },
     "metadata": {},
     "output_type": "display_data"
    },
    {
     "data": {
      "application/vnd.jupyter.widget-view+json": {
       "model_id": "",
       "version_major": 2,
       "version_minor": 0
      },
      "text/plain": [
       "  0%|          | 0/169 [00:00<?, ?it/s]"
      ]
     },
     "metadata": {},
     "output_type": "display_data"
    },
    {
     "data": {
      "application/vnd.jupyter.widget-view+json": {
       "model_id": "",
       "version_major": 2,
       "version_minor": 0
      },
      "text/plain": [
       "  0%|          | 0/13 [00:00<?, ?it/s]"
      ]
     },
     "metadata": {},
     "output_type": "display_data"
    },
    {
     "data": {
      "application/vnd.jupyter.widget-view+json": {
       "model_id": "",
       "version_major": 2,
       "version_minor": 0
      },
      "text/plain": [
       "  0%|          | 0/31 [00:00<?, ?it/s]"
      ]
     },
     "metadata": {},
     "output_type": "display_data"
    },
    {
     "data": {
      "application/vnd.jupyter.widget-view+json": {
       "model_id": "",
       "version_major": 2,
       "version_minor": 0
      },
      "text/plain": [
       "  0%|          | 0/32 [00:00<?, ?it/s]"
      ]
     },
     "metadata": {},
     "output_type": "display_data"
    },
    {
     "data": {
      "application/vnd.jupyter.widget-view+json": {
       "model_id": "",
       "version_major": 2,
       "version_minor": 0
      },
      "text/plain": [
       "  0%|          | 0/37 [00:00<?, ?it/s]"
      ]
     },
     "metadata": {},
     "output_type": "display_data"
    },
    {
     "data": {
      "application/vnd.jupyter.widget-view+json": {
       "model_id": "",
       "version_major": 2,
       "version_minor": 0
      },
      "text/plain": [
       "  0%|          | 0/101 [00:00<?, ?it/s]"
      ]
     },
     "metadata": {},
     "output_type": "display_data"
    },
    {
     "data": {
      "application/vnd.jupyter.widget-view+json": {
       "model_id": "",
       "version_major": 2,
       "version_minor": 0
      },
      "text/plain": [
       "  0%|          | 0/24 [00:00<?, ?it/s]"
      ]
     },
     "metadata": {},
     "output_type": "display_data"
    },
    {
     "data": {
      "application/vnd.jupyter.widget-view+json": {
       "model_id": "",
       "version_major": 2,
       "version_minor": 0
      },
      "text/plain": [
       "  0%|          | 0/29 [00:00<?, ?it/s]"
      ]
     },
     "metadata": {},
     "output_type": "display_data"
    },
    {
     "data": {
      "application/vnd.jupyter.widget-view+json": {
       "model_id": "",
       "version_major": 2,
       "version_minor": 0
      },
      "text/plain": [
       "  0%|          | 0/40 [00:00<?, ?it/s]"
      ]
     },
     "metadata": {},
     "output_type": "display_data"
    },
    {
     "data": {
      "application/vnd.jupyter.widget-view+json": {
       "model_id": "",
       "version_major": 2,
       "version_minor": 0
      },
      "text/plain": [
       "  0%|          | 0/403 [00:00<?, ?it/s]"
      ]
     },
     "metadata": {},
     "output_type": "display_data"
    },
    {
     "data": {
      "application/vnd.jupyter.widget-view+json": {
       "model_id": "",
       "version_major": 2,
       "version_minor": 0
      },
      "text/plain": [
       "  0%|          | 0/21 [00:00<?, ?it/s]"
      ]
     },
     "metadata": {},
     "output_type": "display_data"
    },
    {
     "data": {
      "application/vnd.jupyter.widget-view+json": {
       "model_id": "",
       "version_major": 2,
       "version_minor": 0
      },
      "text/plain": [
       "  0%|          | 0/124 [00:00<?, ?it/s]"
      ]
     },
     "metadata": {},
     "output_type": "display_data"
    },
    {
     "data": {
      "application/vnd.jupyter.widget-view+json": {
       "model_id": "",
       "version_major": 2,
       "version_minor": 0
      },
      "text/plain": [
       "  0%|          | 0/28 [00:00<?, ?it/s]"
      ]
     },
     "metadata": {},
     "output_type": "display_data"
    },
    {
     "data": {
      "application/vnd.jupyter.widget-view+json": {
       "model_id": "",
       "version_major": 2,
       "version_minor": 0
      },
      "text/plain": [
       "  0%|          | 0/45 [00:00<?, ?it/s]"
      ]
     },
     "metadata": {},
     "output_type": "display_data"
    },
    {
     "data": {
      "application/vnd.jupyter.widget-view+json": {
       "model_id": "",
       "version_major": 2,
       "version_minor": 0
      },
      "text/plain": [
       "  0%|          | 0/49 [00:00<?, ?it/s]"
      ]
     },
     "metadata": {},
     "output_type": "display_data"
    },
    {
     "data": {
      "application/vnd.jupyter.widget-view+json": {
       "model_id": "",
       "version_major": 2,
       "version_minor": 0
      },
      "text/plain": [
       "  0%|          | 0/8 [00:00<?, ?it/s]"
      ]
     },
     "metadata": {},
     "output_type": "display_data"
    },
    {
     "data": {
      "application/vnd.jupyter.widget-view+json": {
       "model_id": "",
       "version_major": 2,
       "version_minor": 0
      },
      "text/plain": [
       "  0%|          | 0/43 [00:00<?, ?it/s]"
      ]
     },
     "metadata": {},
     "output_type": "display_data"
    },
    {
     "data": {
      "application/vnd.jupyter.widget-view+json": {
       "model_id": "",
       "version_major": 2,
       "version_minor": 0
      },
      "text/plain": [
       "  0%|          | 0/34 [00:00<?, ?it/s]"
      ]
     },
     "metadata": {},
     "output_type": "display_data"
    },
    {
     "data": {
      "application/vnd.jupyter.widget-view+json": {
       "model_id": "",
       "version_major": 2,
       "version_minor": 0
      },
      "text/plain": [
       "  0%|          | 0/60 [00:00<?, ?it/s]"
      ]
     },
     "metadata": {},
     "output_type": "display_data"
    },
    {
     "data": {
      "application/vnd.jupyter.widget-view+json": {
       "model_id": "",
       "version_major": 2,
       "version_minor": 0
      },
      "text/plain": [
       "  0%|          | 0/24 [00:00<?, ?it/s]"
      ]
     },
     "metadata": {},
     "output_type": "display_data"
    },
    {
     "data": {
      "application/vnd.jupyter.widget-view+json": {
       "model_id": "",
       "version_major": 2,
       "version_minor": 0
      },
      "text/plain": [
       "  0%|          | 0/47 [00:00<?, ?it/s]"
      ]
     },
     "metadata": {},
     "output_type": "display_data"
    },
    {
     "data": {
      "application/vnd.jupyter.widget-view+json": {
       "model_id": "",
       "version_major": 2,
       "version_minor": 0
      },
      "text/plain": [
       "  0%|          | 0/23 [00:00<?, ?it/s]"
      ]
     },
     "metadata": {},
     "output_type": "display_data"
    },
    {
     "data": {
      "application/vnd.jupyter.widget-view+json": {
       "model_id": "",
       "version_major": 2,
       "version_minor": 0
      },
      "text/plain": [
       "  0%|          | 0/67 [00:00<?, ?it/s]"
      ]
     },
     "metadata": {},
     "output_type": "display_data"
    },
    {
     "data": {
      "application/vnd.jupyter.widget-view+json": {
       "model_id": "",
       "version_major": 2,
       "version_minor": 0
      },
      "text/plain": [
       "  0%|          | 0/35 [00:00<?, ?it/s]"
      ]
     },
     "metadata": {},
     "output_type": "display_data"
    },
    {
     "data": {
      "application/vnd.jupyter.widget-view+json": {
       "model_id": "",
       "version_major": 2,
       "version_minor": 0
      },
      "text/plain": [
       "  0%|          | 0/28 [00:00<?, ?it/s]"
      ]
     },
     "metadata": {},
     "output_type": "display_data"
    },
    {
     "data": {
      "application/vnd.jupyter.widget-view+json": {
       "model_id": "",
       "version_major": 2,
       "version_minor": 0
      },
      "text/plain": [
       "  0%|          | 0/3 [00:00<?, ?it/s]"
      ]
     },
     "metadata": {},
     "output_type": "display_data"
    },
    {
     "data": {
      "application/vnd.jupyter.widget-view+json": {
       "model_id": "",
       "version_major": 2,
       "version_minor": 0
      },
      "text/plain": [
       "  0%|          | 0/57 [00:00<?, ?it/s]"
      ]
     },
     "metadata": {},
     "output_type": "display_data"
    },
    {
     "data": {
      "application/vnd.jupyter.widget-view+json": {
       "model_id": "",
       "version_major": 2,
       "version_minor": 0
      },
      "text/plain": [
       "  0%|          | 0/16 [00:00<?, ?it/s]"
      ]
     },
     "metadata": {},
     "output_type": "display_data"
    },
    {
     "data": {
      "application/vnd.jupyter.widget-view+json": {
       "model_id": "",
       "version_major": 2,
       "version_minor": 0
      },
      "text/plain": [
       "  0%|          | 0/68 [00:00<?, ?it/s]"
      ]
     },
     "metadata": {},
     "output_type": "display_data"
    },
    {
     "data": {
      "application/vnd.jupyter.widget-view+json": {
       "model_id": "",
       "version_major": 2,
       "version_minor": 0
      },
      "text/plain": [
       "  0%|          | 0/48 [00:00<?, ?it/s]"
      ]
     },
     "metadata": {},
     "output_type": "display_data"
    },
    {
     "data": {
      "application/vnd.jupyter.widget-view+json": {
       "model_id": "",
       "version_major": 2,
       "version_minor": 0
      },
      "text/plain": [
       "  0%|          | 0/49 [00:00<?, ?it/s]"
      ]
     },
     "metadata": {},
     "output_type": "display_data"
    },
    {
     "data": {
      "application/vnd.jupyter.widget-view+json": {
       "model_id": "",
       "version_major": 2,
       "version_minor": 0
      },
      "text/plain": [
       "  0%|          | 0/37 [00:00<?, ?it/s]"
      ]
     },
     "metadata": {},
     "output_type": "display_data"
    },
    {
     "data": {
      "application/vnd.jupyter.widget-view+json": {
       "model_id": "",
       "version_major": 2,
       "version_minor": 0
      },
      "text/plain": [
       "  0%|          | 0/73 [00:00<?, ?it/s]"
      ]
     },
     "metadata": {},
     "output_type": "display_data"
    },
    {
     "data": {
      "application/vnd.jupyter.widget-view+json": {
       "model_id": "",
       "version_major": 2,
       "version_minor": 0
      },
      "text/plain": [
       "  0%|          | 0/20 [00:00<?, ?it/s]"
      ]
     },
     "metadata": {},
     "output_type": "display_data"
    },
    {
     "data": {
      "application/vnd.jupyter.widget-view+json": {
       "model_id": "",
       "version_major": 2,
       "version_minor": 0
      },
      "text/plain": [
       "  0%|          | 0/33 [00:00<?, ?it/s]"
      ]
     },
     "metadata": {},
     "output_type": "display_data"
    },
    {
     "data": {
      "application/vnd.jupyter.widget-view+json": {
       "model_id": "",
       "version_major": 2,
       "version_minor": 0
      },
      "text/plain": [
       "  0%|          | 0/50 [00:00<?, ?it/s]"
      ]
     },
     "metadata": {},
     "output_type": "display_data"
    },
    {
     "data": {
      "application/vnd.jupyter.widget-view+json": {
       "model_id": "",
       "version_major": 2,
       "version_minor": 0
      },
      "text/plain": [
       "  0%|          | 0/15 [00:00<?, ?it/s]"
      ]
     },
     "metadata": {},
     "output_type": "display_data"
    },
    {
     "data": {
      "application/vnd.jupyter.widget-view+json": {
       "model_id": "",
       "version_major": 2,
       "version_minor": 0
      },
      "text/plain": [
       "  0%|          | 0/50 [00:00<?, ?it/s]"
      ]
     },
     "metadata": {},
     "output_type": "display_data"
    },
    {
     "data": {
      "application/vnd.jupyter.widget-view+json": {
       "model_id": "",
       "version_major": 2,
       "version_minor": 0
      },
      "text/plain": [
       "  0%|          | 0/51 [00:00<?, ?it/s]"
      ]
     },
     "metadata": {},
     "output_type": "display_data"
    },
    {
     "data": {
      "application/vnd.jupyter.widget-view+json": {
       "model_id": "",
       "version_major": 2,
       "version_minor": 0
      },
      "text/plain": [
       "  0%|          | 0/25 [00:00<?, ?it/s]"
      ]
     },
     "metadata": {},
     "output_type": "display_data"
    },
    {
     "data": {
      "application/vnd.jupyter.widget-view+json": {
       "model_id": "",
       "version_major": 2,
       "version_minor": 0
      },
      "text/plain": [
       "  0%|          | 0/78 [00:00<?, ?it/s]"
      ]
     },
     "metadata": {},
     "output_type": "display_data"
    },
    {
     "data": {
      "application/vnd.jupyter.widget-view+json": {
       "model_id": "",
       "version_major": 2,
       "version_minor": 0
      },
      "text/plain": [
       "  0%|          | 0/58 [00:00<?, ?it/s]"
      ]
     },
     "metadata": {},
     "output_type": "display_data"
    },
    {
     "data": {
      "application/vnd.jupyter.widget-view+json": {
       "model_id": "",
       "version_major": 2,
       "version_minor": 0
      },
      "text/plain": [
       "  0%|          | 0/61 [00:00<?, ?it/s]"
      ]
     },
     "metadata": {},
     "output_type": "display_data"
    },
    {
     "data": {
      "application/vnd.jupyter.widget-view+json": {
       "model_id": "",
       "version_major": 2,
       "version_minor": 0
      },
      "text/plain": [
       "  0%|          | 0/62 [00:00<?, ?it/s]"
      ]
     },
     "metadata": {},
     "output_type": "display_data"
    },
    {
     "data": {
      "application/vnd.jupyter.widget-view+json": {
       "model_id": "",
       "version_major": 2,
       "version_minor": 0
      },
      "text/plain": [
       "  0%|          | 0/31 [00:00<?, ?it/s]"
      ]
     },
     "metadata": {},
     "output_type": "display_data"
    },
    {
     "data": {
      "application/vnd.jupyter.widget-view+json": {
       "model_id": "",
       "version_major": 2,
       "version_minor": 0
      },
      "text/plain": [
       "  0%|          | 0/15 [00:00<?, ?it/s]"
      ]
     },
     "metadata": {},
     "output_type": "display_data"
    },
    {
     "data": {
      "application/vnd.jupyter.widget-view+json": {
       "model_id": "",
       "version_major": 2,
       "version_minor": 0
      },
      "text/plain": [
       "  0%|          | 0/27 [00:00<?, ?it/s]"
      ]
     },
     "metadata": {},
     "output_type": "display_data"
    },
    {
     "data": {
      "application/vnd.jupyter.widget-view+json": {
       "model_id": "",
       "version_major": 2,
       "version_minor": 0
      },
      "text/plain": [
       "  0%|          | 0/14 [00:00<?, ?it/s]"
      ]
     },
     "metadata": {},
     "output_type": "display_data"
    },
    {
     "data": {
      "application/vnd.jupyter.widget-view+json": {
       "model_id": "",
       "version_major": 2,
       "version_minor": 0
      },
      "text/plain": [
       "  0%|          | 0/37 [00:00<?, ?it/s]"
      ]
     },
     "metadata": {},
     "output_type": "display_data"
    },
    {
     "data": {
      "application/vnd.jupyter.widget-view+json": {
       "model_id": "",
       "version_major": 2,
       "version_minor": 0
      },
      "text/plain": [
       "  0%|          | 0/52 [00:00<?, ?it/s]"
      ]
     },
     "metadata": {},
     "output_type": "display_data"
    },
    {
     "data": {
      "application/vnd.jupyter.widget-view+json": {
       "model_id": "",
       "version_major": 2,
       "version_minor": 0
      },
      "text/plain": [
       "  0%|          | 0/34 [00:00<?, ?it/s]"
      ]
     },
     "metadata": {},
     "output_type": "display_data"
    },
    {
     "data": {
      "application/vnd.jupyter.widget-view+json": {
       "model_id": "",
       "version_major": 2,
       "version_minor": 0
      },
      "text/plain": [
       "  0%|          | 0/28 [00:00<?, ?it/s]"
      ]
     },
     "metadata": {},
     "output_type": "display_data"
    },
    {
     "data": {
      "application/vnd.jupyter.widget-view+json": {
       "model_id": "",
       "version_major": 2,
       "version_minor": 0
      },
      "text/plain": [
       "  0%|          | 0/53 [00:00<?, ?it/s]"
      ]
     },
     "metadata": {},
     "output_type": "display_data"
    },
    {
     "data": {
      "application/vnd.jupyter.widget-view+json": {
       "model_id": "",
       "version_major": 2,
       "version_minor": 0
      },
      "text/plain": [
       "  0%|          | 0/32 [00:00<?, ?it/s]"
      ]
     },
     "metadata": {},
     "output_type": "display_data"
    },
    {
     "data": {
      "application/vnd.jupyter.widget-view+json": {
       "model_id": "",
       "version_major": 2,
       "version_minor": 0
      },
      "text/plain": [
       "  0%|          | 0/44 [00:00<?, ?it/s]"
      ]
     },
     "metadata": {},
     "output_type": "display_data"
    },
    {
     "data": {
      "application/vnd.jupyter.widget-view+json": {
       "model_id": "",
       "version_major": 2,
       "version_minor": 0
      },
      "text/plain": [
       "  0%|          | 0/222 [00:00<?, ?it/s]"
      ]
     },
     "metadata": {},
     "output_type": "display_data"
    },
    {
     "data": {
      "application/vnd.jupyter.widget-view+json": {
       "model_id": "",
       "version_major": 2,
       "version_minor": 0
      },
      "text/plain": [
       "  0%|          | 0/37 [00:00<?, ?it/s]"
      ]
     },
     "metadata": {},
     "output_type": "display_data"
    },
    {
     "data": {
      "application/vnd.jupyter.widget-view+json": {
       "model_id": "",
       "version_major": 2,
       "version_minor": 0
      },
      "text/plain": [
       "  0%|          | 0/20 [00:00<?, ?it/s]"
      ]
     },
     "metadata": {},
     "output_type": "display_data"
    },
    {
     "data": {
      "application/vnd.jupyter.widget-view+json": {
       "model_id": "",
       "version_major": 2,
       "version_minor": 0
      },
      "text/plain": [
       "  0%|          | 0/75 [00:00<?, ?it/s]"
      ]
     },
     "metadata": {},
     "output_type": "display_data"
    },
    {
     "data": {
      "application/vnd.jupyter.widget-view+json": {
       "model_id": "",
       "version_major": 2,
       "version_minor": 0
      },
      "text/plain": [
       "  0%|          | 0/85 [00:00<?, ?it/s]"
      ]
     },
     "metadata": {},
     "output_type": "display_data"
    },
    {
     "data": {
      "application/vnd.jupyter.widget-view+json": {
       "model_id": "",
       "version_major": 2,
       "version_minor": 0
      },
      "text/plain": [
       "  0%|          | 0/39 [00:00<?, ?it/s]"
      ]
     },
     "metadata": {},
     "output_type": "display_data"
    },
    {
     "data": {
      "application/vnd.jupyter.widget-view+json": {
       "model_id": "",
       "version_major": 2,
       "version_minor": 0
      },
      "text/plain": [
       "  0%|          | 0/23 [00:00<?, ?it/s]"
      ]
     },
     "metadata": {},
     "output_type": "display_data"
    },
    {
     "data": {
      "application/vnd.jupyter.widget-view+json": {
       "model_id": "",
       "version_major": 2,
       "version_minor": 0
      },
      "text/plain": [
       "  0%|          | 0/17 [00:00<?, ?it/s]"
      ]
     },
     "metadata": {},
     "output_type": "display_data"
    },
    {
     "data": {
      "application/vnd.jupyter.widget-view+json": {
       "model_id": "",
       "version_major": 2,
       "version_minor": 0
      },
      "text/plain": [
       "  0%|          | 0/39 [00:00<?, ?it/s]"
      ]
     },
     "metadata": {},
     "output_type": "display_data"
    },
    {
     "data": {
      "application/vnd.jupyter.widget-view+json": {
       "model_id": "",
       "version_major": 2,
       "version_minor": 0
      },
      "text/plain": [
       "  0%|          | 0/46 [00:00<?, ?it/s]"
      ]
     },
     "metadata": {},
     "output_type": "display_data"
    },
    {
     "data": {
      "application/vnd.jupyter.widget-view+json": {
       "model_id": "",
       "version_major": 2,
       "version_minor": 0
      },
      "text/plain": [
       "  0%|          | 0/34 [00:00<?, ?it/s]"
      ]
     },
     "metadata": {},
     "output_type": "display_data"
    },
    {
     "data": {
      "application/vnd.jupyter.widget-view+json": {
       "model_id": "",
       "version_major": 2,
       "version_minor": 0
      },
      "text/plain": [
       "  0%|          | 0/39 [00:00<?, ?it/s]"
      ]
     },
     "metadata": {},
     "output_type": "display_data"
    },
    {
     "data": {
      "application/vnd.jupyter.widget-view+json": {
       "model_id": "",
       "version_major": 2,
       "version_minor": 0
      },
      "text/plain": [
       "  0%|          | 0/24 [00:00<?, ?it/s]"
      ]
     },
     "metadata": {},
     "output_type": "display_data"
    },
    {
     "data": {
      "application/vnd.jupyter.widget-view+json": {
       "model_id": "",
       "version_major": 2,
       "version_minor": 0
      },
      "text/plain": [
       "  0%|          | 0/48 [00:00<?, ?it/s]"
      ]
     },
     "metadata": {},
     "output_type": "display_data"
    },
    {
     "data": {
      "application/vnd.jupyter.widget-view+json": {
       "model_id": "",
       "version_major": 2,
       "version_minor": 0
      },
      "text/plain": [
       "  0%|          | 0/145 [00:00<?, ?it/s]"
      ]
     },
     "metadata": {},
     "output_type": "display_data"
    },
    {
     "data": {
      "application/vnd.jupyter.widget-view+json": {
       "model_id": "",
       "version_major": 2,
       "version_minor": 0
      },
      "text/plain": [
       "  0%|          | 0/105 [00:00<?, ?it/s]"
      ]
     },
     "metadata": {},
     "output_type": "display_data"
    },
    {
     "data": {
      "application/vnd.jupyter.widget-view+json": {
       "model_id": "",
       "version_major": 2,
       "version_minor": 0
      },
      "text/plain": [
       "  0%|          | 0/24 [00:00<?, ?it/s]"
      ]
     },
     "metadata": {},
     "output_type": "display_data"
    },
    {
     "data": {
      "application/vnd.jupyter.widget-view+json": {
       "model_id": "",
       "version_major": 2,
       "version_minor": 0
      },
      "text/plain": [
       "  0%|          | 0/234 [00:00<?, ?it/s]"
      ]
     },
     "metadata": {},
     "output_type": "display_data"
    },
    {
     "data": {
      "application/vnd.jupyter.widget-view+json": {
       "model_id": "",
       "version_major": 2,
       "version_minor": 0
      },
      "text/plain": [
       "  0%|          | 0/33 [00:00<?, ?it/s]"
      ]
     },
     "metadata": {},
     "output_type": "display_data"
    },
    {
     "data": {
      "application/vnd.jupyter.widget-view+json": {
       "model_id": "",
       "version_major": 2,
       "version_minor": 0
      },
      "text/plain": [
       "  0%|          | 0/88 [00:00<?, ?it/s]"
      ]
     },
     "metadata": {},
     "output_type": "display_data"
    },
    {
     "data": {
      "application/vnd.jupyter.widget-view+json": {
       "model_id": "",
       "version_major": 2,
       "version_minor": 0
      },
      "text/plain": [
       "  0%|          | 0/173 [00:00<?, ?it/s]"
      ]
     },
     "metadata": {},
     "output_type": "display_data"
    },
    {
     "data": {
      "application/vnd.jupyter.widget-view+json": {
       "model_id": "",
       "version_major": 2,
       "version_minor": 0
      },
      "text/plain": [
       "  0%|          | 0/63 [00:00<?, ?it/s]"
      ]
     },
     "metadata": {},
     "output_type": "display_data"
    },
    {
     "data": {
      "application/vnd.jupyter.widget-view+json": {
       "model_id": "",
       "version_major": 2,
       "version_minor": 0
      },
      "text/plain": [
       "  0%|          | 0/27 [00:00<?, ?it/s]"
      ]
     },
     "metadata": {},
     "output_type": "display_data"
    },
    {
     "data": {
      "application/vnd.jupyter.widget-view+json": {
       "model_id": "",
       "version_major": 2,
       "version_minor": 0
      },
      "text/plain": [
       "  0%|          | 0/116 [00:00<?, ?it/s]"
      ]
     },
     "metadata": {},
     "output_type": "display_data"
    },
    {
     "data": {
      "application/vnd.jupyter.widget-view+json": {
       "model_id": "",
       "version_major": 2,
       "version_minor": 0
      },
      "text/plain": [
       "  0%|          | 0/39 [00:00<?, ?it/s]"
      ]
     },
     "metadata": {},
     "output_type": "display_data"
    },
    {
     "data": {
      "application/vnd.jupyter.widget-view+json": {
       "model_id": "",
       "version_major": 2,
       "version_minor": 0
      },
      "text/plain": [
       "  0%|          | 0/56 [00:00<?, ?it/s]"
      ]
     },
     "metadata": {},
     "output_type": "display_data"
    },
    {
     "data": {
      "application/vnd.jupyter.widget-view+json": {
       "model_id": "",
       "version_major": 2,
       "version_minor": 0
      },
      "text/plain": [
       "  0%|          | 0/60 [00:00<?, ?it/s]"
      ]
     },
     "metadata": {},
     "output_type": "display_data"
    },
    {
     "data": {
      "application/vnd.jupyter.widget-view+json": {
       "model_id": "",
       "version_major": 2,
       "version_minor": 0
      },
      "text/plain": [
       "  0%|          | 0/52 [00:00<?, ?it/s]"
      ]
     },
     "metadata": {},
     "output_type": "display_data"
    },
    {
     "data": {
      "application/vnd.jupyter.widget-view+json": {
       "model_id": "",
       "version_major": 2,
       "version_minor": 0
      },
      "text/plain": [
       "  0%|          | 0/16 [00:00<?, ?it/s]"
      ]
     },
     "metadata": {},
     "output_type": "display_data"
    },
    {
     "data": {
      "application/vnd.jupyter.widget-view+json": {
       "model_id": "",
       "version_major": 2,
       "version_minor": 0
      },
      "text/plain": [
       "  0%|          | 0/43 [00:00<?, ?it/s]"
      ]
     },
     "metadata": {},
     "output_type": "display_data"
    },
    {
     "data": {
      "application/vnd.jupyter.widget-view+json": {
       "model_id": "",
       "version_major": 2,
       "version_minor": 0
      },
      "text/plain": [
       "  0%|          | 0/84 [00:00<?, ?it/s]"
      ]
     },
     "metadata": {},
     "output_type": "display_data"
    },
    {
     "data": {
      "application/vnd.jupyter.widget-view+json": {
       "model_id": "",
       "version_major": 2,
       "version_minor": 0
      },
      "text/plain": [
       "  0%|          | 0/42 [00:00<?, ?it/s]"
      ]
     },
     "metadata": {},
     "output_type": "display_data"
    },
    {
     "data": {
      "application/vnd.jupyter.widget-view+json": {
       "model_id": "",
       "version_major": 2,
       "version_minor": 0
      },
      "text/plain": [
       "  0%|          | 0/48 [00:00<?, ?it/s]"
      ]
     },
     "metadata": {},
     "output_type": "display_data"
    },
    {
     "data": {
      "application/vnd.jupyter.widget-view+json": {
       "model_id": "",
       "version_major": 2,
       "version_minor": 0
      },
      "text/plain": [
       "  0%|          | 0/20 [00:00<?, ?it/s]"
      ]
     },
     "metadata": {},
     "output_type": "display_data"
    },
    {
     "data": {
      "application/vnd.jupyter.widget-view+json": {
       "model_id": "",
       "version_major": 2,
       "version_minor": 0
      },
      "text/plain": [
       "  0%|          | 0/9 [00:00<?, ?it/s]"
      ]
     },
     "metadata": {},
     "output_type": "display_data"
    },
    {
     "data": {
      "application/vnd.jupyter.widget-view+json": {
       "model_id": "",
       "version_major": 2,
       "version_minor": 0
      },
      "text/plain": [
       "  0%|          | 0/81 [00:00<?, ?it/s]"
      ]
     },
     "metadata": {},
     "output_type": "display_data"
    },
    {
     "data": {
      "application/vnd.jupyter.widget-view+json": {
       "model_id": "",
       "version_major": 2,
       "version_minor": 0
      },
      "text/plain": [
       "  0%|          | 0/31 [00:00<?, ?it/s]"
      ]
     },
     "metadata": {},
     "output_type": "display_data"
    },
    {
     "data": {
      "application/vnd.jupyter.widget-view+json": {
       "model_id": "",
       "version_major": 2,
       "version_minor": 0
      },
      "text/plain": [
       "  0%|          | 0/48 [00:00<?, ?it/s]"
      ]
     },
     "metadata": {},
     "output_type": "display_data"
    },
    {
     "data": {
      "application/vnd.jupyter.widget-view+json": {
       "model_id": "",
       "version_major": 2,
       "version_minor": 0
      },
      "text/plain": [
       "  0%|          | 0/38 [00:00<?, ?it/s]"
      ]
     },
     "metadata": {},
     "output_type": "display_data"
    },
    {
     "data": {
      "application/vnd.jupyter.widget-view+json": {
       "model_id": "",
       "version_major": 2,
       "version_minor": 0
      },
      "text/plain": [
       "  0%|          | 0/41 [00:00<?, ?it/s]"
      ]
     },
     "metadata": {},
     "output_type": "display_data"
    },
    {
     "data": {
      "application/vnd.jupyter.widget-view+json": {
       "model_id": "",
       "version_major": 2,
       "version_minor": 0
      },
      "text/plain": [
       "  0%|          | 0/44 [00:00<?, ?it/s]"
      ]
     },
     "metadata": {},
     "output_type": "display_data"
    },
    {
     "data": {
      "application/vnd.jupyter.widget-view+json": {
       "model_id": "",
       "version_major": 2,
       "version_minor": 0
      },
      "text/plain": [
       "  0%|          | 0/7 [00:00<?, ?it/s]"
      ]
     },
     "metadata": {},
     "output_type": "display_data"
    },
    {
     "data": {
      "application/vnd.jupyter.widget-view+json": {
       "model_id": "",
       "version_major": 2,
       "version_minor": 0
      },
      "text/plain": [
       "  0%|          | 0/54 [00:00<?, ?it/s]"
      ]
     },
     "metadata": {},
     "output_type": "display_data"
    },
    {
     "data": {
      "application/vnd.jupyter.widget-view+json": {
       "model_id": "",
       "version_major": 2,
       "version_minor": 0
      },
      "text/plain": [
       "  0%|          | 0/51 [00:00<?, ?it/s]"
      ]
     },
     "metadata": {},
     "output_type": "display_data"
    },
    {
     "data": {
      "application/vnd.jupyter.widget-view+json": {
       "model_id": "",
       "version_major": 2,
       "version_minor": 0
      },
      "text/plain": [
       "  0%|          | 0/47 [00:00<?, ?it/s]"
      ]
     },
     "metadata": {},
     "output_type": "display_data"
    },
    {
     "data": {
      "application/vnd.jupyter.widget-view+json": {
       "model_id": "",
       "version_major": 2,
       "version_minor": 0
      },
      "text/plain": [
       "  0%|          | 0/26 [00:00<?, ?it/s]"
      ]
     },
     "metadata": {},
     "output_type": "display_data"
    },
    {
     "data": {
      "application/vnd.jupyter.widget-view+json": {
       "model_id": "",
       "version_major": 2,
       "version_minor": 0
      },
      "text/plain": [
       "  0%|          | 0/34 [00:00<?, ?it/s]"
      ]
     },
     "metadata": {},
     "output_type": "display_data"
    },
    {
     "data": {
      "application/vnd.jupyter.widget-view+json": {
       "model_id": "",
       "version_major": 2,
       "version_minor": 0
      },
      "text/plain": [
       "  0%|          | 0/40 [00:00<?, ?it/s]"
      ]
     },
     "metadata": {},
     "output_type": "display_data"
    },
    {
     "data": {
      "application/vnd.jupyter.widget-view+json": {
       "model_id": "",
       "version_major": 2,
       "version_minor": 0
      },
      "text/plain": [
       "  0%|          | 0/10 [00:00<?, ?it/s]"
      ]
     },
     "metadata": {},
     "output_type": "display_data"
    },
    {
     "data": {
      "application/vnd.jupyter.widget-view+json": {
       "model_id": "",
       "version_major": 2,
       "version_minor": 0
      },
      "text/plain": [
       "  0%|          | 0/41 [00:00<?, ?it/s]"
      ]
     },
     "metadata": {},
     "output_type": "display_data"
    },
    {
     "data": {
      "application/vnd.jupyter.widget-view+json": {
       "model_id": "",
       "version_major": 2,
       "version_minor": 0
      },
      "text/plain": [
       "  0%|          | 0/28 [00:00<?, ?it/s]"
      ]
     },
     "metadata": {},
     "output_type": "display_data"
    },
    {
     "data": {
      "application/vnd.jupyter.widget-view+json": {
       "model_id": "",
       "version_major": 2,
       "version_minor": 0
      },
      "text/plain": [
       "  0%|          | 0/29 [00:00<?, ?it/s]"
      ]
     },
     "metadata": {},
     "output_type": "display_data"
    },
    {
     "data": {
      "application/vnd.jupyter.widget-view+json": {
       "model_id": "",
       "version_major": 2,
       "version_minor": 0
      },
      "text/plain": [
       "  0%|          | 0/41 [00:00<?, ?it/s]"
      ]
     },
     "metadata": {},
     "output_type": "display_data"
    },
    {
     "data": {
      "application/vnd.jupyter.widget-view+json": {
       "model_id": "",
       "version_major": 2,
       "version_minor": 0
      },
      "text/plain": [
       "  0%|          | 0/35 [00:00<?, ?it/s]"
      ]
     },
     "metadata": {},
     "output_type": "display_data"
    },
    {
     "data": {
      "application/vnd.jupyter.widget-view+json": {
       "model_id": "",
       "version_major": 2,
       "version_minor": 0
      },
      "text/plain": [
       "  0%|          | 0/18 [00:00<?, ?it/s]"
      ]
     },
     "metadata": {},
     "output_type": "display_data"
    },
    {
     "data": {
      "application/vnd.jupyter.widget-view+json": {
       "model_id": "",
       "version_major": 2,
       "version_minor": 0
      },
      "text/plain": [
       "  0%|          | 0/25 [00:00<?, ?it/s]"
      ]
     },
     "metadata": {},
     "output_type": "display_data"
    },
    {
     "data": {
      "application/vnd.jupyter.widget-view+json": {
       "model_id": "",
       "version_major": 2,
       "version_minor": 0
      },
      "text/plain": [
       "  0%|          | 0/97 [00:00<?, ?it/s]"
      ]
     },
     "metadata": {},
     "output_type": "display_data"
    },
    {
     "data": {
      "application/vnd.jupyter.widget-view+json": {
       "model_id": "",
       "version_major": 2,
       "version_minor": 0
      },
      "text/plain": [
       "  0%|          | 0/57 [00:00<?, ?it/s]"
      ]
     },
     "metadata": {},
     "output_type": "display_data"
    },
    {
     "data": {
      "application/vnd.jupyter.widget-view+json": {
       "model_id": "",
       "version_major": 2,
       "version_minor": 0
      },
      "text/plain": [
       "  0%|          | 0/33 [00:00<?, ?it/s]"
      ]
     },
     "metadata": {},
     "output_type": "display_data"
    },
    {
     "data": {
      "application/vnd.jupyter.widget-view+json": {
       "model_id": "",
       "version_major": 2,
       "version_minor": 0
      },
      "text/plain": [
       "  0%|          | 0/61 [00:00<?, ?it/s]"
      ]
     },
     "metadata": {},
     "output_type": "display_data"
    },
    {
     "data": {
      "application/vnd.jupyter.widget-view+json": {
       "model_id": "",
       "version_major": 2,
       "version_minor": 0
      },
      "text/plain": [
       "  0%|          | 0/71 [00:00<?, ?it/s]"
      ]
     },
     "metadata": {},
     "output_type": "display_data"
    },
    {
     "data": {
      "application/vnd.jupyter.widget-view+json": {
       "model_id": "",
       "version_major": 2,
       "version_minor": 0
      },
      "text/plain": [
       "  0%|          | 0/22 [00:00<?, ?it/s]"
      ]
     },
     "metadata": {},
     "output_type": "display_data"
    },
    {
     "data": {
      "application/vnd.jupyter.widget-view+json": {
       "model_id": "",
       "version_major": 2,
       "version_minor": 0
      },
      "text/plain": [
       "  0%|          | 0/104 [00:00<?, ?it/s]"
      ]
     },
     "metadata": {},
     "output_type": "display_data"
    },
    {
     "data": {
      "application/vnd.jupyter.widget-view+json": {
       "model_id": "",
       "version_major": 2,
       "version_minor": 0
      },
      "text/plain": [
       "  0%|          | 0/16 [00:00<?, ?it/s]"
      ]
     },
     "metadata": {},
     "output_type": "display_data"
    },
    {
     "data": {
      "application/vnd.jupyter.widget-view+json": {
       "model_id": "",
       "version_major": 2,
       "version_minor": 0
      },
      "text/plain": [
       "  0%|          | 0/33 [00:00<?, ?it/s]"
      ]
     },
     "metadata": {},
     "output_type": "display_data"
    },
    {
     "data": {
      "application/vnd.jupyter.widget-view+json": {
       "model_id": "",
       "version_major": 2,
       "version_minor": 0
      },
      "text/plain": [
       "  0%|          | 0/44 [00:00<?, ?it/s]"
      ]
     },
     "metadata": {},
     "output_type": "display_data"
    },
    {
     "data": {
      "application/vnd.jupyter.widget-view+json": {
       "model_id": "",
       "version_major": 2,
       "version_minor": 0
      },
      "text/plain": [
       "  0%|          | 0/90 [00:00<?, ?it/s]"
      ]
     },
     "metadata": {},
     "output_type": "display_data"
    },
    {
     "data": {
      "application/vnd.jupyter.widget-view+json": {
       "model_id": "",
       "version_major": 2,
       "version_minor": 0
      },
      "text/plain": [
       "  0%|          | 0/4 [00:00<?, ?it/s]"
      ]
     },
     "metadata": {},
     "output_type": "display_data"
    },
    {
     "data": {
      "application/vnd.jupyter.widget-view+json": {
       "model_id": "",
       "version_major": 2,
       "version_minor": 0
      },
      "text/plain": [
       "  0%|          | 0/13 [00:00<?, ?it/s]"
      ]
     },
     "metadata": {},
     "output_type": "display_data"
    },
    {
     "data": {
      "application/vnd.jupyter.widget-view+json": {
       "model_id": "",
       "version_major": 2,
       "version_minor": 0
      },
      "text/plain": [
       "  0%|          | 0/40 [00:00<?, ?it/s]"
      ]
     },
     "metadata": {},
     "output_type": "display_data"
    },
    {
     "data": {
      "application/vnd.jupyter.widget-view+json": {
       "model_id": "",
       "version_major": 2,
       "version_minor": 0
      },
      "text/plain": [
       "  0%|          | 0/58 [00:00<?, ?it/s]"
      ]
     },
     "metadata": {},
     "output_type": "display_data"
    },
    {
     "data": {
      "application/vnd.jupyter.widget-view+json": {
       "model_id": "",
       "version_major": 2,
       "version_minor": 0
      },
      "text/plain": [
       "  0%|          | 0/25 [00:00<?, ?it/s]"
      ]
     },
     "metadata": {},
     "output_type": "display_data"
    },
    {
     "data": {
      "application/vnd.jupyter.widget-view+json": {
       "model_id": "",
       "version_major": 2,
       "version_minor": 0
      },
      "text/plain": [
       "  0%|          | 0/40 [00:00<?, ?it/s]"
      ]
     },
     "metadata": {},
     "output_type": "display_data"
    },
    {
     "data": {
      "application/vnd.jupyter.widget-view+json": {
       "model_id": "",
       "version_major": 2,
       "version_minor": 0
      },
      "text/plain": [
       "  0%|          | 0/37 [00:00<?, ?it/s]"
      ]
     },
     "metadata": {},
     "output_type": "display_data"
    },
    {
     "data": {
      "application/vnd.jupyter.widget-view+json": {
       "model_id": "",
       "version_major": 2,
       "version_minor": 0
      },
      "text/plain": [
       "  0%|          | 0/46 [00:00<?, ?it/s]"
      ]
     },
     "metadata": {},
     "output_type": "display_data"
    },
    {
     "data": {
      "application/vnd.jupyter.widget-view+json": {
       "model_id": "",
       "version_major": 2,
       "version_minor": 0
      },
      "text/plain": [
       "  0%|          | 0/29 [00:00<?, ?it/s]"
      ]
     },
     "metadata": {},
     "output_type": "display_data"
    },
    {
     "data": {
      "application/vnd.jupyter.widget-view+json": {
       "model_id": "",
       "version_major": 2,
       "version_minor": 0
      },
      "text/plain": [
       "  0%|          | 0/53 [00:00<?, ?it/s]"
      ]
     },
     "metadata": {},
     "output_type": "display_data"
    },
    {
     "data": {
      "application/vnd.jupyter.widget-view+json": {
       "model_id": "",
       "version_major": 2,
       "version_minor": 0
      },
      "text/plain": [
       "  0%|          | 0/17 [00:00<?, ?it/s]"
      ]
     },
     "metadata": {},
     "output_type": "display_data"
    },
    {
     "data": {
      "application/vnd.jupyter.widget-view+json": {
       "model_id": "",
       "version_major": 2,
       "version_minor": 0
      },
      "text/plain": [
       "  0%|          | 0/51 [00:00<?, ?it/s]"
      ]
     },
     "metadata": {},
     "output_type": "display_data"
    },
    {
     "data": {
      "application/vnd.jupyter.widget-view+json": {
       "model_id": "",
       "version_major": 2,
       "version_minor": 0
      },
      "text/plain": [
       "  0%|          | 0/45 [00:00<?, ?it/s]"
      ]
     },
     "metadata": {},
     "output_type": "display_data"
    },
    {
     "data": {
      "application/vnd.jupyter.widget-view+json": {
       "model_id": "",
       "version_major": 2,
       "version_minor": 0
      },
      "text/plain": [
       "  0%|          | 0/31 [00:00<?, ?it/s]"
      ]
     },
     "metadata": {},
     "output_type": "display_data"
    },
    {
     "data": {
      "application/vnd.jupyter.widget-view+json": {
       "model_id": "",
       "version_major": 2,
       "version_minor": 0
      },
      "text/plain": [
       "  0%|          | 0/21 [00:00<?, ?it/s]"
      ]
     },
     "metadata": {},
     "output_type": "display_data"
    },
    {
     "data": {
      "application/vnd.jupyter.widget-view+json": {
       "model_id": "",
       "version_major": 2,
       "version_minor": 0
      },
      "text/plain": [
       "  0%|          | 0/27 [00:00<?, ?it/s]"
      ]
     },
     "metadata": {},
     "output_type": "display_data"
    },
    {
     "data": {
      "application/vnd.jupyter.widget-view+json": {
       "model_id": "",
       "version_major": 2,
       "version_minor": 0
      },
      "text/plain": [
       "  0%|          | 0/83 [00:00<?, ?it/s]"
      ]
     },
     "metadata": {},
     "output_type": "display_data"
    },
    {
     "data": {
      "application/vnd.jupyter.widget-view+json": {
       "model_id": "",
       "version_major": 2,
       "version_minor": 0
      },
      "text/plain": [
       "  0%|          | 0/28 [00:00<?, ?it/s]"
      ]
     },
     "metadata": {},
     "output_type": "display_data"
    },
    {
     "data": {
      "application/vnd.jupyter.widget-view+json": {
       "model_id": "",
       "version_major": 2,
       "version_minor": 0
      },
      "text/plain": [
       "  0%|          | 0/64 [00:00<?, ?it/s]"
      ]
     },
     "metadata": {},
     "output_type": "display_data"
    },
    {
     "data": {
      "application/vnd.jupyter.widget-view+json": {
       "model_id": "",
       "version_major": 2,
       "version_minor": 0
      },
      "text/plain": [
       "  0%|          | 0/46 [00:00<?, ?it/s]"
      ]
     },
     "metadata": {},
     "output_type": "display_data"
    },
    {
     "data": {
      "application/vnd.jupyter.widget-view+json": {
       "model_id": "",
       "version_major": 2,
       "version_minor": 0
      },
      "text/plain": [
       "  0%|          | 0/35 [00:00<?, ?it/s]"
      ]
     },
     "metadata": {},
     "output_type": "display_data"
    },
    {
     "data": {
      "application/vnd.jupyter.widget-view+json": {
       "model_id": "",
       "version_major": 2,
       "version_minor": 0
      },
      "text/plain": [
       "  0%|          | 0/59 [00:00<?, ?it/s]"
      ]
     },
     "metadata": {},
     "output_type": "display_data"
    },
    {
     "data": {
      "application/vnd.jupyter.widget-view+json": {
       "model_id": "",
       "version_major": 2,
       "version_minor": 0
      },
      "text/plain": [
       "  0%|          | 0/49 [00:00<?, ?it/s]"
      ]
     },
     "metadata": {},
     "output_type": "display_data"
    },
    {
     "data": {
      "application/vnd.jupyter.widget-view+json": {
       "model_id": "",
       "version_major": 2,
       "version_minor": 0
      },
      "text/plain": [
       "  0%|          | 0/35 [00:00<?, ?it/s]"
      ]
     },
     "metadata": {},
     "output_type": "display_data"
    },
    {
     "data": {
      "application/vnd.jupyter.widget-view+json": {
       "model_id": "",
       "version_major": 2,
       "version_minor": 0
      },
      "text/plain": [
       "  0%|          | 0/40 [00:00<?, ?it/s]"
      ]
     },
     "metadata": {},
     "output_type": "display_data"
    },
    {
     "data": {
      "application/vnd.jupyter.widget-view+json": {
       "model_id": "",
       "version_major": 2,
       "version_minor": 0
      },
      "text/plain": [
       "  0%|          | 0/44 [00:00<?, ?it/s]"
      ]
     },
     "metadata": {},
     "output_type": "display_data"
    },
    {
     "data": {
      "application/vnd.jupyter.widget-view+json": {
       "model_id": "",
       "version_major": 2,
       "version_minor": 0
      },
      "text/plain": [
       "  0%|          | 0/93 [00:00<?, ?it/s]"
      ]
     },
     "metadata": {},
     "output_type": "display_data"
    },
    {
     "data": {
      "application/vnd.jupyter.widget-view+json": {
       "model_id": "",
       "version_major": 2,
       "version_minor": 0
      },
      "text/plain": [
       "  0%|          | 0/36 [00:00<?, ?it/s]"
      ]
     },
     "metadata": {},
     "output_type": "display_data"
    },
    {
     "data": {
      "application/vnd.jupyter.widget-view+json": {
       "model_id": "",
       "version_major": 2,
       "version_minor": 0
      },
      "text/plain": [
       "  0%|          | 0/23 [00:00<?, ?it/s]"
      ]
     },
     "metadata": {},
     "output_type": "display_data"
    },
    {
     "data": {
      "application/vnd.jupyter.widget-view+json": {
       "model_id": "",
       "version_major": 2,
       "version_minor": 0
      },
      "text/plain": [
       "  0%|          | 0/36 [00:00<?, ?it/s]"
      ]
     },
     "metadata": {},
     "output_type": "display_data"
    },
    {
     "data": {
      "application/vnd.jupyter.widget-view+json": {
       "model_id": "",
       "version_major": 2,
       "version_minor": 0
      },
      "text/plain": [
       "  0%|          | 0/39 [00:00<?, ?it/s]"
      ]
     },
     "metadata": {},
     "output_type": "display_data"
    },
    {
     "data": {
      "application/vnd.jupyter.widget-view+json": {
       "model_id": "",
       "version_major": 2,
       "version_minor": 0
      },
      "text/plain": [
       "  0%|          | 0/39 [00:00<?, ?it/s]"
      ]
     },
     "metadata": {},
     "output_type": "display_data"
    },
    {
     "data": {
      "application/vnd.jupyter.widget-view+json": {
       "model_id": "",
       "version_major": 2,
       "version_minor": 0
      },
      "text/plain": [
       "  0%|          | 0/168 [00:00<?, ?it/s]"
      ]
     },
     "metadata": {},
     "output_type": "display_data"
    },
    {
     "data": {
      "application/vnd.jupyter.widget-view+json": {
       "model_id": "",
       "version_major": 2,
       "version_minor": 0
      },
      "text/plain": [
       "  0%|          | 0/26 [00:00<?, ?it/s]"
      ]
     },
     "metadata": {},
     "output_type": "display_data"
    },
    {
     "data": {
      "application/vnd.jupyter.widget-view+json": {
       "model_id": "",
       "version_major": 2,
       "version_minor": 0
      },
      "text/plain": [
       "  0%|          | 0/33 [00:00<?, ?it/s]"
      ]
     },
     "metadata": {},
     "output_type": "display_data"
    },
    {
     "data": {
      "application/vnd.jupyter.widget-view+json": {
       "model_id": "",
       "version_major": 2,
       "version_minor": 0
      },
      "text/plain": [
       "  0%|          | 0/49 [00:00<?, ?it/s]"
      ]
     },
     "metadata": {},
     "output_type": "display_data"
    },
    {
     "data": {
      "application/vnd.jupyter.widget-view+json": {
       "model_id": "",
       "version_major": 2,
       "version_minor": 0
      },
      "text/plain": [
       "  0%|          | 0/38 [00:00<?, ?it/s]"
      ]
     },
     "metadata": {},
     "output_type": "display_data"
    },
    {
     "data": {
      "application/vnd.jupyter.widget-view+json": {
       "model_id": "",
       "version_major": 2,
       "version_minor": 0
      },
      "text/plain": [
       "  0%|          | 0/40 [00:00<?, ?it/s]"
      ]
     },
     "metadata": {},
     "output_type": "display_data"
    },
    {
     "data": {
      "application/vnd.jupyter.widget-view+json": {
       "model_id": "",
       "version_major": 2,
       "version_minor": 0
      },
      "text/plain": [
       "  0%|          | 0/45 [00:00<?, ?it/s]"
      ]
     },
     "metadata": {},
     "output_type": "display_data"
    },
    {
     "data": {
      "application/vnd.jupyter.widget-view+json": {
       "model_id": "",
       "version_major": 2,
       "version_minor": 0
      },
      "text/plain": [
       "  0%|          | 0/41 [00:00<?, ?it/s]"
      ]
     },
     "metadata": {},
     "output_type": "display_data"
    },
    {
     "data": {
      "application/vnd.jupyter.widget-view+json": {
       "model_id": "",
       "version_major": 2,
       "version_minor": 0
      },
      "text/plain": [
       "  0%|          | 0/23 [00:00<?, ?it/s]"
      ]
     },
     "metadata": {},
     "output_type": "display_data"
    },
    {
     "data": {
      "application/vnd.jupyter.widget-view+json": {
       "model_id": "",
       "version_major": 2,
       "version_minor": 0
      },
      "text/plain": [
       "  0%|          | 0/7 [00:00<?, ?it/s]"
      ]
     },
     "metadata": {},
     "output_type": "display_data"
    },
    {
     "data": {
      "application/vnd.jupyter.widget-view+json": {
       "model_id": "",
       "version_major": 2,
       "version_minor": 0
      },
      "text/plain": [
       "  0%|          | 0/31 [00:00<?, ?it/s]"
      ]
     },
     "metadata": {},
     "output_type": "display_data"
    },
    {
     "data": {
      "application/vnd.jupyter.widget-view+json": {
       "model_id": "",
       "version_major": 2,
       "version_minor": 0
      },
      "text/plain": [
       "  0%|          | 0/63 [00:00<?, ?it/s]"
      ]
     },
     "metadata": {},
     "output_type": "display_data"
    },
    {
     "data": {
      "application/vnd.jupyter.widget-view+json": {
       "model_id": "",
       "version_major": 2,
       "version_minor": 0
      },
      "text/plain": [
       "  0%|          | 0/102 [00:00<?, ?it/s]"
      ]
     },
     "metadata": {},
     "output_type": "display_data"
    },
    {
     "data": {
      "application/vnd.jupyter.widget-view+json": {
       "model_id": "",
       "version_major": 2,
       "version_minor": 0
      },
      "text/plain": [
       "  0%|          | 0/40 [00:00<?, ?it/s]"
      ]
     },
     "metadata": {},
     "output_type": "display_data"
    },
    {
     "data": {
      "application/vnd.jupyter.widget-view+json": {
       "model_id": "",
       "version_major": 2,
       "version_minor": 0
      },
      "text/plain": [
       "  0%|          | 0/42 [00:00<?, ?it/s]"
      ]
     },
     "metadata": {},
     "output_type": "display_data"
    },
    {
     "data": {
      "application/vnd.jupyter.widget-view+json": {
       "model_id": "",
       "version_major": 2,
       "version_minor": 0
      },
      "text/plain": [
       "  0%|          | 0/29 [00:00<?, ?it/s]"
      ]
     },
     "metadata": {},
     "output_type": "display_data"
    },
    {
     "data": {
      "application/vnd.jupyter.widget-view+json": {
       "model_id": "",
       "version_major": 2,
       "version_minor": 0
      },
      "text/plain": [
       "  0%|          | 0/40 [00:00<?, ?it/s]"
      ]
     },
     "metadata": {},
     "output_type": "display_data"
    },
    {
     "data": {
      "application/vnd.jupyter.widget-view+json": {
       "model_id": "",
       "version_major": 2,
       "version_minor": 0
      },
      "text/plain": [
       "  0%|          | 0/81 [00:00<?, ?it/s]"
      ]
     },
     "metadata": {},
     "output_type": "display_data"
    },
    {
     "data": {
      "application/vnd.jupyter.widget-view+json": {
       "model_id": "",
       "version_major": 2,
       "version_minor": 0
      },
      "text/plain": [
       "  0%|          | 0/92 [00:00<?, ?it/s]"
      ]
     },
     "metadata": {},
     "output_type": "display_data"
    },
    {
     "data": {
      "application/vnd.jupyter.widget-view+json": {
       "model_id": "",
       "version_major": 2,
       "version_minor": 0
      },
      "text/plain": [
       "  0%|          | 0/29 [00:00<?, ?it/s]"
      ]
     },
     "metadata": {},
     "output_type": "display_data"
    },
    {
     "data": {
      "application/vnd.jupyter.widget-view+json": {
       "model_id": "",
       "version_major": 2,
       "version_minor": 0
      },
      "text/plain": [
       "  0%|          | 0/63 [00:00<?, ?it/s]"
      ]
     },
     "metadata": {},
     "output_type": "display_data"
    },
    {
     "data": {
      "application/vnd.jupyter.widget-view+json": {
       "model_id": "",
       "version_major": 2,
       "version_minor": 0
      },
      "text/plain": [
       "  0%|          | 0/11 [00:00<?, ?it/s]"
      ]
     },
     "metadata": {},
     "output_type": "display_data"
    },
    {
     "data": {
      "application/vnd.jupyter.widget-view+json": {
       "model_id": "",
       "version_major": 2,
       "version_minor": 0
      },
      "text/plain": [
       "  0%|          | 0/41 [00:00<?, ?it/s]"
      ]
     },
     "metadata": {},
     "output_type": "display_data"
    },
    {
     "data": {
      "application/vnd.jupyter.widget-view+json": {
       "model_id": "",
       "version_major": 2,
       "version_minor": 0
      },
      "text/plain": [
       "  0%|          | 0/33 [00:00<?, ?it/s]"
      ]
     },
     "metadata": {},
     "output_type": "display_data"
    },
    {
     "data": {
      "application/vnd.jupyter.widget-view+json": {
       "model_id": "",
       "version_major": 2,
       "version_minor": 0
      },
      "text/plain": [
       "  0%|          | 0/31 [00:00<?, ?it/s]"
      ]
     },
     "metadata": {},
     "output_type": "display_data"
    },
    {
     "data": {
      "application/vnd.jupyter.widget-view+json": {
       "model_id": "",
       "version_major": 2,
       "version_minor": 0
      },
      "text/plain": [
       "  0%|          | 0/16 [00:00<?, ?it/s]"
      ]
     },
     "metadata": {},
     "output_type": "display_data"
    },
    {
     "data": {
      "application/vnd.jupyter.widget-view+json": {
       "model_id": "",
       "version_major": 2,
       "version_minor": 0
      },
      "text/plain": [
       "  0%|          | 0/18 [00:00<?, ?it/s]"
      ]
     },
     "metadata": {},
     "output_type": "display_data"
    },
    {
     "data": {
      "application/vnd.jupyter.widget-view+json": {
       "model_id": "",
       "version_major": 2,
       "version_minor": 0
      },
      "text/plain": [
       "  0%|          | 0/30 [00:00<?, ?it/s]"
      ]
     },
     "metadata": {},
     "output_type": "display_data"
    },
    {
     "data": {
      "application/vnd.jupyter.widget-view+json": {
       "model_id": "",
       "version_major": 2,
       "version_minor": 0
      },
      "text/plain": [
       "  0%|          | 0/174 [00:00<?, ?it/s]"
      ]
     },
     "metadata": {},
     "output_type": "display_data"
    },
    {
     "data": {
      "application/vnd.jupyter.widget-view+json": {
       "model_id": "",
       "version_major": 2,
       "version_minor": 0
      },
      "text/plain": [
       "  0%|          | 0/34 [00:00<?, ?it/s]"
      ]
     },
     "metadata": {},
     "output_type": "display_data"
    },
    {
     "data": {
      "application/vnd.jupyter.widget-view+json": {
       "model_id": "",
       "version_major": 2,
       "version_minor": 0
      },
      "text/plain": [
       "  0%|          | 0/274 [00:00<?, ?it/s]"
      ]
     },
     "metadata": {},
     "output_type": "display_data"
    },
    {
     "data": {
      "application/vnd.jupyter.widget-view+json": {
       "model_id": "",
       "version_major": 2,
       "version_minor": 0
      },
      "text/plain": [
       "  0%|          | 0/51 [00:00<?, ?it/s]"
      ]
     },
     "metadata": {},
     "output_type": "display_data"
    },
    {
     "data": {
      "application/vnd.jupyter.widget-view+json": {
       "model_id": "",
       "version_major": 2,
       "version_minor": 0
      },
      "text/plain": [
       "  0%|          | 0/54 [00:00<?, ?it/s]"
      ]
     },
     "metadata": {},
     "output_type": "display_data"
    },
    {
     "data": {
      "application/vnd.jupyter.widget-view+json": {
       "model_id": "",
       "version_major": 2,
       "version_minor": 0
      },
      "text/plain": [
       "  0%|          | 0/33 [00:00<?, ?it/s]"
      ]
     },
     "metadata": {},
     "output_type": "display_data"
    },
    {
     "data": {
      "application/vnd.jupyter.widget-view+json": {
       "model_id": "",
       "version_major": 2,
       "version_minor": 0
      },
      "text/plain": [
       "  0%|          | 0/48 [00:00<?, ?it/s]"
      ]
     },
     "metadata": {},
     "output_type": "display_data"
    },
    {
     "data": {
      "application/vnd.jupyter.widget-view+json": {
       "model_id": "",
       "version_major": 2,
       "version_minor": 0
      },
      "text/plain": [
       "  0%|          | 0/70 [00:00<?, ?it/s]"
      ]
     },
     "metadata": {},
     "output_type": "display_data"
    },
    {
     "data": {
      "application/vnd.jupyter.widget-view+json": {
       "model_id": "",
       "version_major": 2,
       "version_minor": 0
      },
      "text/plain": [
       "  0%|          | 0/19 [00:00<?, ?it/s]"
      ]
     },
     "metadata": {},
     "output_type": "display_data"
    },
    {
     "data": {
      "application/vnd.jupyter.widget-view+json": {
       "model_id": "",
       "version_major": 2,
       "version_minor": 0
      },
      "text/plain": [
       "  0%|          | 0/24 [00:00<?, ?it/s]"
      ]
     },
     "metadata": {},
     "output_type": "display_data"
    },
    {
     "data": {
      "application/vnd.jupyter.widget-view+json": {
       "model_id": "",
       "version_major": 2,
       "version_minor": 0
      },
      "text/plain": [
       "  0%|          | 0/53 [00:00<?, ?it/s]"
      ]
     },
     "metadata": {},
     "output_type": "display_data"
    },
    {
     "data": {
      "application/vnd.jupyter.widget-view+json": {
       "model_id": "",
       "version_major": 2,
       "version_minor": 0
      },
      "text/plain": [
       "  0%|          | 0/80 [00:00<?, ?it/s]"
      ]
     },
     "metadata": {},
     "output_type": "display_data"
    },
    {
     "data": {
      "application/vnd.jupyter.widget-view+json": {
       "model_id": "",
       "version_major": 2,
       "version_minor": 0
      },
      "text/plain": [
       "  0%|          | 0/15 [00:00<?, ?it/s]"
      ]
     },
     "metadata": {},
     "output_type": "display_data"
    },
    {
     "data": {
      "application/vnd.jupyter.widget-view+json": {
       "model_id": "",
       "version_major": 2,
       "version_minor": 0
      },
      "text/plain": [
       "  0%|          | 0/76 [00:00<?, ?it/s]"
      ]
     },
     "metadata": {},
     "output_type": "display_data"
    },
    {
     "data": {
      "application/vnd.jupyter.widget-view+json": {
       "model_id": "",
       "version_major": 2,
       "version_minor": 0
      },
      "text/plain": [
       "  0%|          | 0/345 [00:00<?, ?it/s]"
      ]
     },
     "metadata": {},
     "output_type": "display_data"
    },
    {
     "data": {
      "application/vnd.jupyter.widget-view+json": {
       "model_id": "",
       "version_major": 2,
       "version_minor": 0
      },
      "text/plain": [
       "  0%|          | 0/45 [00:00<?, ?it/s]"
      ]
     },
     "metadata": {},
     "output_type": "display_data"
    },
    {
     "data": {
      "application/vnd.jupyter.widget-view+json": {
       "model_id": "",
       "version_major": 2,
       "version_minor": 0
      },
      "text/plain": [
       "  0%|          | 0/264 [00:00<?, ?it/s]"
      ]
     },
     "metadata": {},
     "output_type": "display_data"
    },
    {
     "data": {
      "application/vnd.jupyter.widget-view+json": {
       "model_id": "",
       "version_major": 2,
       "version_minor": 0
      },
      "text/plain": [
       "  0%|          | 0/16 [00:00<?, ?it/s]"
      ]
     },
     "metadata": {},
     "output_type": "display_data"
    },
    {
     "data": {
      "application/vnd.jupyter.widget-view+json": {
       "model_id": "",
       "version_major": 2,
       "version_minor": 0
      },
      "text/plain": [
       "  0%|          | 0/86 [00:00<?, ?it/s]"
      ]
     },
     "metadata": {},
     "output_type": "display_data"
    },
    {
     "data": {
      "application/vnd.jupyter.widget-view+json": {
       "model_id": "",
       "version_major": 2,
       "version_minor": 0
      },
      "text/plain": [
       "  0%|          | 0/25 [00:00<?, ?it/s]"
      ]
     },
     "metadata": {},
     "output_type": "display_data"
    },
    {
     "data": {
      "application/vnd.jupyter.widget-view+json": {
       "model_id": "",
       "version_major": 2,
       "version_minor": 0
      },
      "text/plain": [
       "  0%|          | 0/58 [00:00<?, ?it/s]"
      ]
     },
     "metadata": {},
     "output_type": "display_data"
    },
    {
     "data": {
      "application/vnd.jupyter.widget-view+json": {
       "model_id": "",
       "version_major": 2,
       "version_minor": 0
      },
      "text/plain": [
       "  0%|          | 0/24 [00:00<?, ?it/s]"
      ]
     },
     "metadata": {},
     "output_type": "display_data"
    },
    {
     "data": {
      "application/vnd.jupyter.widget-view+json": {
       "model_id": "",
       "version_major": 2,
       "version_minor": 0
      },
      "text/plain": [
       "  0%|          | 0/30 [00:00<?, ?it/s]"
      ]
     },
     "metadata": {},
     "output_type": "display_data"
    },
    {
     "data": {
      "application/vnd.jupyter.widget-view+json": {
       "model_id": "",
       "version_major": 2,
       "version_minor": 0
      },
      "text/plain": [
       "  0%|          | 0/38 [00:00<?, ?it/s]"
      ]
     },
     "metadata": {},
     "output_type": "display_data"
    },
    {
     "data": {
      "application/vnd.jupyter.widget-view+json": {
       "model_id": "",
       "version_major": 2,
       "version_minor": 0
      },
      "text/plain": [
       "  0%|          | 0/44 [00:00<?, ?it/s]"
      ]
     },
     "metadata": {},
     "output_type": "display_data"
    },
    {
     "data": {
      "application/vnd.jupyter.widget-view+json": {
       "model_id": "",
       "version_major": 2,
       "version_minor": 0
      },
      "text/plain": [
       "  0%|          | 0/43 [00:00<?, ?it/s]"
      ]
     },
     "metadata": {},
     "output_type": "display_data"
    },
    {
     "data": {
      "application/vnd.jupyter.widget-view+json": {
       "model_id": "",
       "version_major": 2,
       "version_minor": 0
      },
      "text/plain": [
       "  0%|          | 0/67 [00:00<?, ?it/s]"
      ]
     },
     "metadata": {},
     "output_type": "display_data"
    },
    {
     "data": {
      "application/vnd.jupyter.widget-view+json": {
       "model_id": "",
       "version_major": 2,
       "version_minor": 0
      },
      "text/plain": [
       "  0%|          | 0/338 [00:00<?, ?it/s]"
      ]
     },
     "metadata": {},
     "output_type": "display_data"
    },
    {
     "data": {
      "application/vnd.jupyter.widget-view+json": {
       "model_id": "",
       "version_major": 2,
       "version_minor": 0
      },
      "text/plain": [
       "  0%|          | 0/26 [00:00<?, ?it/s]"
      ]
     },
     "metadata": {},
     "output_type": "display_data"
    },
    {
     "data": {
      "application/vnd.jupyter.widget-view+json": {
       "model_id": "",
       "version_major": 2,
       "version_minor": 0
      },
      "text/plain": [
       "  0%|          | 0/43 [00:00<?, ?it/s]"
      ]
     },
     "metadata": {},
     "output_type": "display_data"
    },
    {
     "data": {
      "application/vnd.jupyter.widget-view+json": {
       "model_id": "",
       "version_major": 2,
       "version_minor": 0
      },
      "text/plain": [
       "  0%|          | 0/25 [00:00<?, ?it/s]"
      ]
     },
     "metadata": {},
     "output_type": "display_data"
    },
    {
     "data": {
      "application/vnd.jupyter.widget-view+json": {
       "model_id": "",
       "version_major": 2,
       "version_minor": 0
      },
      "text/plain": [
       "  0%|          | 0/69 [00:00<?, ?it/s]"
      ]
     },
     "metadata": {},
     "output_type": "display_data"
    },
    {
     "data": {
      "application/vnd.jupyter.widget-view+json": {
       "model_id": "",
       "version_major": 2,
       "version_minor": 0
      },
      "text/plain": [
       "  0%|          | 0/27 [00:00<?, ?it/s]"
      ]
     },
     "metadata": {},
     "output_type": "display_data"
    },
    {
     "data": {
      "application/vnd.jupyter.widget-view+json": {
       "model_id": "",
       "version_major": 2,
       "version_minor": 0
      },
      "text/plain": [
       "  0%|          | 0/27 [00:00<?, ?it/s]"
      ]
     },
     "metadata": {},
     "output_type": "display_data"
    },
    {
     "data": {
      "application/vnd.jupyter.widget-view+json": {
       "model_id": "",
       "version_major": 2,
       "version_minor": 0
      },
      "text/plain": [
       "  0%|          | 0/39 [00:00<?, ?it/s]"
      ]
     },
     "metadata": {},
     "output_type": "display_data"
    },
    {
     "data": {
      "application/vnd.jupyter.widget-view+json": {
       "model_id": "",
       "version_major": 2,
       "version_minor": 0
      },
      "text/plain": [
       "  0%|          | 0/43 [00:00<?, ?it/s]"
      ]
     },
     "metadata": {},
     "output_type": "display_data"
    },
    {
     "data": {
      "application/vnd.jupyter.widget-view+json": {
       "model_id": "",
       "version_major": 2,
       "version_minor": 0
      },
      "text/plain": [
       "  0%|          | 0/49 [00:00<?, ?it/s]"
      ]
     },
     "metadata": {},
     "output_type": "display_data"
    },
    {
     "data": {
      "application/vnd.jupyter.widget-view+json": {
       "model_id": "",
       "version_major": 2,
       "version_minor": 0
      },
      "text/plain": [
       "  0%|          | 0/107 [00:00<?, ?it/s]"
      ]
     },
     "metadata": {},
     "output_type": "display_data"
    },
    {
     "data": {
      "application/vnd.jupyter.widget-view+json": {
       "model_id": "",
       "version_major": 2,
       "version_minor": 0
      },
      "text/plain": [
       "  0%|          | 0/40 [00:00<?, ?it/s]"
      ]
     },
     "metadata": {},
     "output_type": "display_data"
    },
    {
     "data": {
      "application/vnd.jupyter.widget-view+json": {
       "model_id": "",
       "version_major": 2,
       "version_minor": 0
      },
      "text/plain": [
       "  0%|          | 0/32 [00:00<?, ?it/s]"
      ]
     },
     "metadata": {},
     "output_type": "display_data"
    },
    {
     "data": {
      "application/vnd.jupyter.widget-view+json": {
       "model_id": "",
       "version_major": 2,
       "version_minor": 0
      },
      "text/plain": [
       "  0%|          | 0/25 [00:00<?, ?it/s]"
      ]
     },
     "metadata": {},
     "output_type": "display_data"
    },
    {
     "data": {
      "application/vnd.jupyter.widget-view+json": {
       "model_id": "",
       "version_major": 2,
       "version_minor": 0
      },
      "text/plain": [
       "  0%|          | 0/34 [00:00<?, ?it/s]"
      ]
     },
     "metadata": {},
     "output_type": "display_data"
    },
    {
     "data": {
      "application/vnd.jupyter.widget-view+json": {
       "model_id": "",
       "version_major": 2,
       "version_minor": 0
      },
      "text/plain": [
       "  0%|          | 0/70 [00:00<?, ?it/s]"
      ]
     },
     "metadata": {},
     "output_type": "display_data"
    },
    {
     "data": {
      "application/vnd.jupyter.widget-view+json": {
       "model_id": "",
       "version_major": 2,
       "version_minor": 0
      },
      "text/plain": [
       "  0%|          | 0/69 [00:00<?, ?it/s]"
      ]
     },
     "metadata": {},
     "output_type": "display_data"
    },
    {
     "data": {
      "application/vnd.jupyter.widget-view+json": {
       "model_id": "",
       "version_major": 2,
       "version_minor": 0
      },
      "text/plain": [
       "  0%|          | 0/44 [00:00<?, ?it/s]"
      ]
     },
     "metadata": {},
     "output_type": "display_data"
    },
    {
     "data": {
      "application/vnd.jupyter.widget-view+json": {
       "model_id": "",
       "version_major": 2,
       "version_minor": 0
      },
      "text/plain": [
       "  0%|          | 0/47 [00:00<?, ?it/s]"
      ]
     },
     "metadata": {},
     "output_type": "display_data"
    },
    {
     "data": {
      "application/vnd.jupyter.widget-view+json": {
       "model_id": "",
       "version_major": 2,
       "version_minor": 0
      },
      "text/plain": [
       "  0%|          | 0/14 [00:00<?, ?it/s]"
      ]
     },
     "metadata": {},
     "output_type": "display_data"
    },
    {
     "data": {
      "application/vnd.jupyter.widget-view+json": {
       "model_id": "",
       "version_major": 2,
       "version_minor": 0
      },
      "text/plain": [
       "  0%|          | 0/31 [00:00<?, ?it/s]"
      ]
     },
     "metadata": {},
     "output_type": "display_data"
    },
    {
     "data": {
      "application/vnd.jupyter.widget-view+json": {
       "model_id": "",
       "version_major": 2,
       "version_minor": 0
      },
      "text/plain": [
       "  0%|          | 0/42 [00:00<?, ?it/s]"
      ]
     },
     "metadata": {},
     "output_type": "display_data"
    },
    {
     "data": {
      "application/vnd.jupyter.widget-view+json": {
       "model_id": "",
       "version_major": 2,
       "version_minor": 0
      },
      "text/plain": [
       "  0%|          | 0/21 [00:00<?, ?it/s]"
      ]
     },
     "metadata": {},
     "output_type": "display_data"
    },
    {
     "data": {
      "application/vnd.jupyter.widget-view+json": {
       "model_id": "",
       "version_major": 2,
       "version_minor": 0
      },
      "text/plain": [
       "  0%|          | 0/26 [00:00<?, ?it/s]"
      ]
     },
     "metadata": {},
     "output_type": "display_data"
    },
    {
     "data": {
      "application/vnd.jupyter.widget-view+json": {
       "model_id": "",
       "version_major": 2,
       "version_minor": 0
      },
      "text/plain": [
       "  0%|          | 0/164 [00:00<?, ?it/s]"
      ]
     },
     "metadata": {},
     "output_type": "display_data"
    },
    {
     "data": {
      "application/vnd.jupyter.widget-view+json": {
       "model_id": "",
       "version_major": 2,
       "version_minor": 0
      },
      "text/plain": [
       "  0%|          | 0/32 [00:00<?, ?it/s]"
      ]
     },
     "metadata": {},
     "output_type": "display_data"
    },
    {
     "data": {
      "application/vnd.jupyter.widget-view+json": {
       "model_id": "",
       "version_major": 2,
       "version_minor": 0
      },
      "text/plain": [
       "  0%|          | 0/45 [00:00<?, ?it/s]"
      ]
     },
     "metadata": {},
     "output_type": "display_data"
    },
    {
     "data": {
      "application/vnd.jupyter.widget-view+json": {
       "model_id": "",
       "version_major": 2,
       "version_minor": 0
      },
      "text/plain": [
       "  0%|          | 0/17 [00:00<?, ?it/s]"
      ]
     },
     "metadata": {},
     "output_type": "display_data"
    },
    {
     "data": {
      "application/vnd.jupyter.widget-view+json": {
       "model_id": "",
       "version_major": 2,
       "version_minor": 0
      },
      "text/plain": [
       "  0%|          | 0/60 [00:00<?, ?it/s]"
      ]
     },
     "metadata": {},
     "output_type": "display_data"
    },
    {
     "data": {
      "application/vnd.jupyter.widget-view+json": {
       "model_id": "",
       "version_major": 2,
       "version_minor": 0
      },
      "text/plain": [
       "  0%|          | 0/34 [00:00<?, ?it/s]"
      ]
     },
     "metadata": {},
     "output_type": "display_data"
    },
    {
     "data": {
      "application/vnd.jupyter.widget-view+json": {
       "model_id": "",
       "version_major": 2,
       "version_minor": 0
      },
      "text/plain": [
       "  0%|          | 0/49 [00:00<?, ?it/s]"
      ]
     },
     "metadata": {},
     "output_type": "display_data"
    },
    {
     "data": {
      "application/vnd.jupyter.widget-view+json": {
       "model_id": "",
       "version_major": 2,
       "version_minor": 0
      },
      "text/plain": [
       "  0%|          | 0/51 [00:00<?, ?it/s]"
      ]
     },
     "metadata": {},
     "output_type": "display_data"
    },
    {
     "data": {
      "application/vnd.jupyter.widget-view+json": {
       "model_id": "",
       "version_major": 2,
       "version_minor": 0
      },
      "text/plain": [
       "  0%|          | 0/85 [00:00<?, ?it/s]"
      ]
     },
     "metadata": {},
     "output_type": "display_data"
    },
    {
     "data": {
      "application/vnd.jupyter.widget-view+json": {
       "model_id": "",
       "version_major": 2,
       "version_minor": 0
      },
      "text/plain": [
       "  0%|          | 0/32 [00:00<?, ?it/s]"
      ]
     },
     "metadata": {},
     "output_type": "display_data"
    },
    {
     "data": {
      "application/vnd.jupyter.widget-view+json": {
       "model_id": "",
       "version_major": 2,
       "version_minor": 0
      },
      "text/plain": [
       "  0%|          | 0/58 [00:00<?, ?it/s]"
      ]
     },
     "metadata": {},
     "output_type": "display_data"
    },
    {
     "data": {
      "application/vnd.jupyter.widget-view+json": {
       "model_id": "",
       "version_major": 2,
       "version_minor": 0
      },
      "text/plain": [
       "  0%|          | 0/148 [00:00<?, ?it/s]"
      ]
     },
     "metadata": {},
     "output_type": "display_data"
    },
    {
     "data": {
      "application/vnd.jupyter.widget-view+json": {
       "model_id": "",
       "version_major": 2,
       "version_minor": 0
      },
      "text/plain": [
       "  0%|          | 0/20 [00:00<?, ?it/s]"
      ]
     },
     "metadata": {},
     "output_type": "display_data"
    },
    {
     "data": {
      "application/vnd.jupyter.widget-view+json": {
       "model_id": "",
       "version_major": 2,
       "version_minor": 0
      },
      "text/plain": [
       "  0%|          | 0/31 [00:00<?, ?it/s]"
      ]
     },
     "metadata": {},
     "output_type": "display_data"
    },
    {
     "data": {
      "application/vnd.jupyter.widget-view+json": {
       "model_id": "",
       "version_major": 2,
       "version_minor": 0
      },
      "text/plain": [
       "  0%|          | 0/54 [00:00<?, ?it/s]"
      ]
     },
     "metadata": {},
     "output_type": "display_data"
    },
    {
     "data": {
      "application/vnd.jupyter.widget-view+json": {
       "model_id": "",
       "version_major": 2,
       "version_minor": 0
      },
      "text/plain": [
       "  0%|          | 0/29 [00:00<?, ?it/s]"
      ]
     },
     "metadata": {},
     "output_type": "display_data"
    },
    {
     "data": {
      "application/vnd.jupyter.widget-view+json": {
       "model_id": "",
       "version_major": 2,
       "version_minor": 0
      },
      "text/plain": [
       "  0%|          | 0/61 [00:00<?, ?it/s]"
      ]
     },
     "metadata": {},
     "output_type": "display_data"
    },
    {
     "data": {
      "application/vnd.jupyter.widget-view+json": {
       "model_id": "",
       "version_major": 2,
       "version_minor": 0
      },
      "text/plain": [
       "  0%|          | 0/12 [00:00<?, ?it/s]"
      ]
     },
     "metadata": {},
     "output_type": "display_data"
    },
    {
     "data": {
      "application/vnd.jupyter.widget-view+json": {
       "model_id": "",
       "version_major": 2,
       "version_minor": 0
      },
      "text/plain": [
       "  0%|          | 0/39 [00:00<?, ?it/s]"
      ]
     },
     "metadata": {},
     "output_type": "display_data"
    },
    {
     "data": {
      "application/vnd.jupyter.widget-view+json": {
       "model_id": "",
       "version_major": 2,
       "version_minor": 0
      },
      "text/plain": [
       "  0%|          | 0/31 [00:00<?, ?it/s]"
      ]
     },
     "metadata": {},
     "output_type": "display_data"
    },
    {
     "data": {
      "application/vnd.jupyter.widget-view+json": {
       "model_id": "",
       "version_major": 2,
       "version_minor": 0
      },
      "text/plain": [
       "  0%|          | 0/40 [00:00<?, ?it/s]"
      ]
     },
     "metadata": {},
     "output_type": "display_data"
    },
    {
     "data": {
      "application/vnd.jupyter.widget-view+json": {
       "model_id": "",
       "version_major": 2,
       "version_minor": 0
      },
      "text/plain": [
       "  0%|          | 0/46 [00:00<?, ?it/s]"
      ]
     },
     "metadata": {},
     "output_type": "display_data"
    },
    {
     "data": {
      "application/vnd.jupyter.widget-view+json": {
       "model_id": "",
       "version_major": 2,
       "version_minor": 0
      },
      "text/plain": [
       "  0%|          | 0/103 [00:00<?, ?it/s]"
      ]
     },
     "metadata": {},
     "output_type": "display_data"
    },
    {
     "data": {
      "application/vnd.jupyter.widget-view+json": {
       "model_id": "",
       "version_major": 2,
       "version_minor": 0
      },
      "text/plain": [
       "  0%|          | 0/80 [00:00<?, ?it/s]"
      ]
     },
     "metadata": {},
     "output_type": "display_data"
    },
    {
     "data": {
      "application/vnd.jupyter.widget-view+json": {
       "model_id": "",
       "version_major": 2,
       "version_minor": 0
      },
      "text/plain": [
       "  0%|          | 0/44 [00:00<?, ?it/s]"
      ]
     },
     "metadata": {},
     "output_type": "display_data"
    },
    {
     "data": {
      "application/vnd.jupyter.widget-view+json": {
       "model_id": "",
       "version_major": 2,
       "version_minor": 0
      },
      "text/plain": [
       "  0%|          | 0/23 [00:00<?, ?it/s]"
      ]
     },
     "metadata": {},
     "output_type": "display_data"
    },
    {
     "data": {
      "application/vnd.jupyter.widget-view+json": {
       "model_id": "",
       "version_major": 2,
       "version_minor": 0
      },
      "text/plain": [
       "  0%|          | 0/60 [00:00<?, ?it/s]"
      ]
     },
     "metadata": {},
     "output_type": "display_data"
    },
    {
     "data": {
      "application/vnd.jupyter.widget-view+json": {
       "model_id": "",
       "version_major": 2,
       "version_minor": 0
      },
      "text/plain": [
       "  0%|          | 0/43 [00:00<?, ?it/s]"
      ]
     },
     "metadata": {},
     "output_type": "display_data"
    },
    {
     "data": {
      "application/vnd.jupyter.widget-view+json": {
       "model_id": "",
       "version_major": 2,
       "version_minor": 0
      },
      "text/plain": [
       "  0%|          | 0/40 [00:00<?, ?it/s]"
      ]
     },
     "metadata": {},
     "output_type": "display_data"
    },
    {
     "data": {
      "application/vnd.jupyter.widget-view+json": {
       "model_id": "",
       "version_major": 2,
       "version_minor": 0
      },
      "text/plain": [
       "  0%|          | 0/17 [00:00<?, ?it/s]"
      ]
     },
     "metadata": {},
     "output_type": "display_data"
    },
    {
     "data": {
      "application/vnd.jupyter.widget-view+json": {
       "model_id": "",
       "version_major": 2,
       "version_minor": 0
      },
      "text/plain": [
       "  0%|          | 0/8 [00:00<?, ?it/s]"
      ]
     },
     "metadata": {},
     "output_type": "display_data"
    },
    {
     "data": {
      "application/vnd.jupyter.widget-view+json": {
       "model_id": "",
       "version_major": 2,
       "version_minor": 0
      },
      "text/plain": [
       "  0%|          | 0/25 [00:00<?, ?it/s]"
      ]
     },
     "metadata": {},
     "output_type": "display_data"
    },
    {
     "data": {
      "application/vnd.jupyter.widget-view+json": {
       "model_id": "",
       "version_major": 2,
       "version_minor": 0
      },
      "text/plain": [
       "  0%|          | 0/27 [00:00<?, ?it/s]"
      ]
     },
     "metadata": {},
     "output_type": "display_data"
    },
    {
     "data": {
      "application/vnd.jupyter.widget-view+json": {
       "model_id": "",
       "version_major": 2,
       "version_minor": 0
      },
      "text/plain": [
       "  0%|          | 0/155 [00:00<?, ?it/s]"
      ]
     },
     "metadata": {},
     "output_type": "display_data"
    },
    {
     "data": {
      "application/vnd.jupyter.widget-view+json": {
       "model_id": "",
       "version_major": 2,
       "version_minor": 0
      },
      "text/plain": [
       "  0%|          | 0/67 [00:00<?, ?it/s]"
      ]
     },
     "metadata": {},
     "output_type": "display_data"
    },
    {
     "data": {
      "application/vnd.jupyter.widget-view+json": {
       "model_id": "",
       "version_major": 2,
       "version_minor": 0
      },
      "text/plain": [
       "  0%|          | 0/19 [00:00<?, ?it/s]"
      ]
     },
     "metadata": {},
     "output_type": "display_data"
    },
    {
     "data": {
      "application/vnd.jupyter.widget-view+json": {
       "model_id": "",
       "version_major": 2,
       "version_minor": 0
      },
      "text/plain": [
       "  0%|          | 0/28 [00:00<?, ?it/s]"
      ]
     },
     "metadata": {},
     "output_type": "display_data"
    },
    {
     "data": {
      "application/vnd.jupyter.widget-view+json": {
       "model_id": "",
       "version_major": 2,
       "version_minor": 0
      },
      "text/plain": [
       "  0%|          | 0/29 [00:00<?, ?it/s]"
      ]
     },
     "metadata": {},
     "output_type": "display_data"
    },
    {
     "data": {
      "application/vnd.jupyter.widget-view+json": {
       "model_id": "",
       "version_major": 2,
       "version_minor": 0
      },
      "text/plain": [
       "  0%|          | 0/30 [00:00<?, ?it/s]"
      ]
     },
     "metadata": {},
     "output_type": "display_data"
    },
    {
     "data": {
      "application/vnd.jupyter.widget-view+json": {
       "model_id": "",
       "version_major": 2,
       "version_minor": 0
      },
      "text/plain": [
       "  0%|          | 0/105 [00:00<?, ?it/s]"
      ]
     },
     "metadata": {},
     "output_type": "display_data"
    },
    {
     "data": {
      "application/vnd.jupyter.widget-view+json": {
       "model_id": "",
       "version_major": 2,
       "version_minor": 0
      },
      "text/plain": [
       "  0%|          | 0/45 [00:00<?, ?it/s]"
      ]
     },
     "metadata": {},
     "output_type": "display_data"
    },
    {
     "data": {
      "application/vnd.jupyter.widget-view+json": {
       "model_id": "",
       "version_major": 2,
       "version_minor": 0
      },
      "text/plain": [
       "  0%|          | 0/41 [00:00<?, ?it/s]"
      ]
     },
     "metadata": {},
     "output_type": "display_data"
    },
    {
     "data": {
      "application/vnd.jupyter.widget-view+json": {
       "model_id": "",
       "version_major": 2,
       "version_minor": 0
      },
      "text/plain": [
       "  0%|          | 0/32 [00:00<?, ?it/s]"
      ]
     },
     "metadata": {},
     "output_type": "display_data"
    },
    {
     "data": {
      "application/vnd.jupyter.widget-view+json": {
       "model_id": "",
       "version_major": 2,
       "version_minor": 0
      },
      "text/plain": [
       "  0%|          | 0/41 [00:00<?, ?it/s]"
      ]
     },
     "metadata": {},
     "output_type": "display_data"
    },
    {
     "data": {
      "application/vnd.jupyter.widget-view+json": {
       "model_id": "",
       "version_major": 2,
       "version_minor": 0
      },
      "text/plain": [
       "  0%|          | 0/49 [00:00<?, ?it/s]"
      ]
     },
     "metadata": {},
     "output_type": "display_data"
    },
    {
     "data": {
      "application/vnd.jupyter.widget-view+json": {
       "model_id": "",
       "version_major": 2,
       "version_minor": 0
      },
      "text/plain": [
       "  0%|          | 0/14 [00:00<?, ?it/s]"
      ]
     },
     "metadata": {},
     "output_type": "display_data"
    },
    {
     "data": {
      "application/vnd.jupyter.widget-view+json": {
       "model_id": "",
       "version_major": 2,
       "version_minor": 0
      },
      "text/plain": [
       "  0%|          | 0/35 [00:00<?, ?it/s]"
      ]
     },
     "metadata": {},
     "output_type": "display_data"
    },
    {
     "data": {
      "application/vnd.jupyter.widget-view+json": {
       "model_id": "",
       "version_major": 2,
       "version_minor": 0
      },
      "text/plain": [
       "  0%|          | 0/47 [00:00<?, ?it/s]"
      ]
     },
     "metadata": {},
     "output_type": "display_data"
    },
    {
     "data": {
      "application/vnd.jupyter.widget-view+json": {
       "model_id": "",
       "version_major": 2,
       "version_minor": 0
      },
      "text/plain": [
       "  0%|          | 0/46 [00:00<?, ?it/s]"
      ]
     },
     "metadata": {},
     "output_type": "display_data"
    },
    {
     "data": {
      "application/vnd.jupyter.widget-view+json": {
       "model_id": "",
       "version_major": 2,
       "version_minor": 0
      },
      "text/plain": [
       "  0%|          | 0/28 [00:00<?, ?it/s]"
      ]
     },
     "metadata": {},
     "output_type": "display_data"
    },
    {
     "data": {
      "application/vnd.jupyter.widget-view+json": {
       "model_id": "",
       "version_major": 2,
       "version_minor": 0
      },
      "text/plain": [
       "  0%|          | 0/60 [00:00<?, ?it/s]"
      ]
     },
     "metadata": {},
     "output_type": "display_data"
    },
    {
     "data": {
      "application/vnd.jupyter.widget-view+json": {
       "model_id": "",
       "version_major": 2,
       "version_minor": 0
      },
      "text/plain": [
       "  0%|          | 0/75 [00:00<?, ?it/s]"
      ]
     },
     "metadata": {},
     "output_type": "display_data"
    },
    {
     "data": {
      "application/vnd.jupyter.widget-view+json": {
       "model_id": "",
       "version_major": 2,
       "version_minor": 0
      },
      "text/plain": [
       "  0%|          | 0/18 [00:00<?, ?it/s]"
      ]
     },
     "metadata": {},
     "output_type": "display_data"
    },
    {
     "data": {
      "application/vnd.jupyter.widget-view+json": {
       "model_id": "",
       "version_major": 2,
       "version_minor": 0
      },
      "text/plain": [
       "  0%|          | 0/15 [00:00<?, ?it/s]"
      ]
     },
     "metadata": {},
     "output_type": "display_data"
    },
    {
     "data": {
      "application/vnd.jupyter.widget-view+json": {
       "model_id": "",
       "version_major": 2,
       "version_minor": 0
      },
      "text/plain": [
       "  0%|          | 0/46 [00:00<?, ?it/s]"
      ]
     },
     "metadata": {},
     "output_type": "display_data"
    },
    {
     "data": {
      "application/vnd.jupyter.widget-view+json": {
       "model_id": "",
       "version_major": 2,
       "version_minor": 0
      },
      "text/plain": [
       "  0%|          | 0/53 [00:00<?, ?it/s]"
      ]
     },
     "metadata": {},
     "output_type": "display_data"
    },
    {
     "data": {
      "application/vnd.jupyter.widget-view+json": {
       "model_id": "",
       "version_major": 2,
       "version_minor": 0
      },
      "text/plain": [
       "  0%|          | 0/64 [00:00<?, ?it/s]"
      ]
     },
     "metadata": {},
     "output_type": "display_data"
    },
    {
     "data": {
      "application/vnd.jupyter.widget-view+json": {
       "model_id": "",
       "version_major": 2,
       "version_minor": 0
      },
      "text/plain": [
       "  0%|          | 0/21 [00:00<?, ?it/s]"
      ]
     },
     "metadata": {},
     "output_type": "display_data"
    },
    {
     "data": {
      "application/vnd.jupyter.widget-view+json": {
       "model_id": "",
       "version_major": 2,
       "version_minor": 0
      },
      "text/plain": [
       "  0%|          | 0/53 [00:00<?, ?it/s]"
      ]
     },
     "metadata": {},
     "output_type": "display_data"
    },
    {
     "data": {
      "application/vnd.jupyter.widget-view+json": {
       "model_id": "",
       "version_major": 2,
       "version_minor": 0
      },
      "text/plain": [
       "  0%|          | 0/55 [00:00<?, ?it/s]"
      ]
     },
     "metadata": {},
     "output_type": "display_data"
    },
    {
     "data": {
      "application/vnd.jupyter.widget-view+json": {
       "model_id": "",
       "version_major": 2,
       "version_minor": 0
      },
      "text/plain": [
       "  0%|          | 0/5 [00:00<?, ?it/s]"
      ]
     },
     "metadata": {},
     "output_type": "display_data"
    },
    {
     "data": {
      "application/vnd.jupyter.widget-view+json": {
       "model_id": "",
       "version_major": 2,
       "version_minor": 0
      },
      "text/plain": [
       "  0%|          | 0/27 [00:00<?, ?it/s]"
      ]
     },
     "metadata": {},
     "output_type": "display_data"
    },
    {
     "data": {
      "application/vnd.jupyter.widget-view+json": {
       "model_id": "",
       "version_major": 2,
       "version_minor": 0
      },
      "text/plain": [
       "  0%|          | 0/117 [00:00<?, ?it/s]"
      ]
     },
     "metadata": {},
     "output_type": "display_data"
    },
    {
     "data": {
      "application/vnd.jupyter.widget-view+json": {
       "model_id": "",
       "version_major": 2,
       "version_minor": 0
      },
      "text/plain": [
       "  0%|          | 0/51 [00:00<?, ?it/s]"
      ]
     },
     "metadata": {},
     "output_type": "display_data"
    },
    {
     "data": {
      "application/vnd.jupyter.widget-view+json": {
       "model_id": "",
       "version_major": 2,
       "version_minor": 0
      },
      "text/plain": [
       "  0%|          | 0/35 [00:00<?, ?it/s]"
      ]
     },
     "metadata": {},
     "output_type": "display_data"
    },
    {
     "data": {
      "application/vnd.jupyter.widget-view+json": {
       "model_id": "",
       "version_major": 2,
       "version_minor": 0
      },
      "text/plain": [
       "  0%|          | 0/117 [00:00<?, ?it/s]"
      ]
     },
     "metadata": {},
     "output_type": "display_data"
    },
    {
     "data": {
      "application/vnd.jupyter.widget-view+json": {
       "model_id": "",
       "version_major": 2,
       "version_minor": 0
      },
      "text/plain": [
       "  0%|          | 0/61 [00:00<?, ?it/s]"
      ]
     },
     "metadata": {},
     "output_type": "display_data"
    },
    {
     "data": {
      "application/vnd.jupyter.widget-view+json": {
       "model_id": "",
       "version_major": 2,
       "version_minor": 0
      },
      "text/plain": [
       "  0%|          | 0/37 [00:00<?, ?it/s]"
      ]
     },
     "metadata": {},
     "output_type": "display_data"
    },
    {
     "data": {
      "application/vnd.jupyter.widget-view+json": {
       "model_id": "",
       "version_major": 2,
       "version_minor": 0
      },
      "text/plain": [
       "  0%|          | 0/36 [00:00<?, ?it/s]"
      ]
     },
     "metadata": {},
     "output_type": "display_data"
    },
    {
     "data": {
      "application/vnd.jupyter.widget-view+json": {
       "model_id": "",
       "version_major": 2,
       "version_minor": 0
      },
      "text/plain": [
       "  0%|          | 0/31 [00:00<?, ?it/s]"
      ]
     },
     "metadata": {},
     "output_type": "display_data"
    },
    {
     "data": {
      "application/vnd.jupyter.widget-view+json": {
       "model_id": "",
       "version_major": 2,
       "version_minor": 0
      },
      "text/plain": [
       "  0%|          | 0/59 [00:00<?, ?it/s]"
      ]
     },
     "metadata": {},
     "output_type": "display_data"
    },
    {
     "data": {
      "application/vnd.jupyter.widget-view+json": {
       "model_id": "",
       "version_major": 2,
       "version_minor": 0
      },
      "text/plain": [
       "  0%|          | 0/36 [00:00<?, ?it/s]"
      ]
     },
     "metadata": {},
     "output_type": "display_data"
    },
    {
     "data": {
      "application/vnd.jupyter.widget-view+json": {
       "model_id": "",
       "version_major": 2,
       "version_minor": 0
      },
      "text/plain": [
       "  0%|          | 0/49 [00:00<?, ?it/s]"
      ]
     },
     "metadata": {},
     "output_type": "display_data"
    },
    {
     "data": {
      "application/vnd.jupyter.widget-view+json": {
       "model_id": "",
       "version_major": 2,
       "version_minor": 0
      },
      "text/plain": [
       "  0%|          | 0/138 [00:00<?, ?it/s]"
      ]
     },
     "metadata": {},
     "output_type": "display_data"
    },
    {
     "data": {
      "application/vnd.jupyter.widget-view+json": {
       "model_id": "",
       "version_major": 2,
       "version_minor": 0
      },
      "text/plain": [
       "  0%|          | 0/29 [00:00<?, ?it/s]"
      ]
     },
     "metadata": {},
     "output_type": "display_data"
    },
    {
     "data": {
      "application/vnd.jupyter.widget-view+json": {
       "model_id": "",
       "version_major": 2,
       "version_minor": 0
      },
      "text/plain": [
       "  0%|          | 0/38 [00:00<?, ?it/s]"
      ]
     },
     "metadata": {},
     "output_type": "display_data"
    },
    {
     "data": {
      "application/vnd.jupyter.widget-view+json": {
       "model_id": "",
       "version_major": 2,
       "version_minor": 0
      },
      "text/plain": [
       "  0%|          | 0/32 [00:00<?, ?it/s]"
      ]
     },
     "metadata": {},
     "output_type": "display_data"
    },
    {
     "data": {
      "application/vnd.jupyter.widget-view+json": {
       "model_id": "",
       "version_major": 2,
       "version_minor": 0
      },
      "text/plain": [
       "  0%|          | 0/36 [00:00<?, ?it/s]"
      ]
     },
     "metadata": {},
     "output_type": "display_data"
    },
    {
     "data": {
      "application/vnd.jupyter.widget-view+json": {
       "model_id": "",
       "version_major": 2,
       "version_minor": 0
      },
      "text/plain": [
       "  0%|          | 0/50 [00:00<?, ?it/s]"
      ]
     },
     "metadata": {},
     "output_type": "display_data"
    },
    {
     "data": {
      "application/vnd.jupyter.widget-view+json": {
       "model_id": "",
       "version_major": 2,
       "version_minor": 0
      },
      "text/plain": [
       "  0%|          | 0/35 [00:00<?, ?it/s]"
      ]
     },
     "metadata": {},
     "output_type": "display_data"
    },
    {
     "data": {
      "application/vnd.jupyter.widget-view+json": {
       "model_id": "",
       "version_major": 2,
       "version_minor": 0
      },
      "text/plain": [
       "  0%|          | 0/37 [00:00<?, ?it/s]"
      ]
     },
     "metadata": {},
     "output_type": "display_data"
    },
    {
     "data": {
      "application/vnd.jupyter.widget-view+json": {
       "model_id": "",
       "version_major": 2,
       "version_minor": 0
      },
      "text/plain": [
       "  0%|          | 0/47 [00:00<?, ?it/s]"
      ]
     },
     "metadata": {},
     "output_type": "display_data"
    },
    {
     "data": {
      "application/vnd.jupyter.widget-view+json": {
       "model_id": "",
       "version_major": 2,
       "version_minor": 0
      },
      "text/plain": [
       "  0%|          | 0/17 [00:00<?, ?it/s]"
      ]
     },
     "metadata": {},
     "output_type": "display_data"
    },
    {
     "data": {
      "application/vnd.jupyter.widget-view+json": {
       "model_id": "",
       "version_major": 2,
       "version_minor": 0
      },
      "text/plain": [
       "  0%|          | 0/27 [00:00<?, ?it/s]"
      ]
     },
     "metadata": {},
     "output_type": "display_data"
    },
    {
     "data": {
      "application/vnd.jupyter.widget-view+json": {
       "model_id": "",
       "version_major": 2,
       "version_minor": 0
      },
      "text/plain": [
       "  0%|          | 0/85 [00:00<?, ?it/s]"
      ]
     },
     "metadata": {},
     "output_type": "display_data"
    },
    {
     "data": {
      "application/vnd.jupyter.widget-view+json": {
       "model_id": "",
       "version_major": 2,
       "version_minor": 0
      },
      "text/plain": [
       "  0%|          | 0/36 [00:00<?, ?it/s]"
      ]
     },
     "metadata": {},
     "output_type": "display_data"
    },
    {
     "data": {
      "application/vnd.jupyter.widget-view+json": {
       "model_id": "",
       "version_major": 2,
       "version_minor": 0
      },
      "text/plain": [
       "  0%|          | 0/61 [00:00<?, ?it/s]"
      ]
     },
     "metadata": {},
     "output_type": "display_data"
    },
    {
     "data": {
      "application/vnd.jupyter.widget-view+json": {
       "model_id": "",
       "version_major": 2,
       "version_minor": 0
      },
      "text/plain": [
       "  0%|          | 0/64 [00:00<?, ?it/s]"
      ]
     },
     "metadata": {},
     "output_type": "display_data"
    },
    {
     "data": {
      "application/vnd.jupyter.widget-view+json": {
       "model_id": "",
       "version_major": 2,
       "version_minor": 0
      },
      "text/plain": [
       "  0%|          | 0/69 [00:00<?, ?it/s]"
      ]
     },
     "metadata": {},
     "output_type": "display_data"
    },
    {
     "data": {
      "application/vnd.jupyter.widget-view+json": {
       "model_id": "",
       "version_major": 2,
       "version_minor": 0
      },
      "text/plain": [
       "  0%|          | 0/8 [00:00<?, ?it/s]"
      ]
     },
     "metadata": {},
     "output_type": "display_data"
    },
    {
     "data": {
      "application/vnd.jupyter.widget-view+json": {
       "model_id": "",
       "version_major": 2,
       "version_minor": 0
      },
      "text/plain": [
       "  0%|          | 0/54 [00:00<?, ?it/s]"
      ]
     },
     "metadata": {},
     "output_type": "display_data"
    },
    {
     "data": {
      "application/vnd.jupyter.widget-view+json": {
       "model_id": "",
       "version_major": 2,
       "version_minor": 0
      },
      "text/plain": [
       "  0%|          | 0/43 [00:00<?, ?it/s]"
      ]
     },
     "metadata": {},
     "output_type": "display_data"
    },
    {
     "data": {
      "application/vnd.jupyter.widget-view+json": {
       "model_id": "",
       "version_major": 2,
       "version_minor": 0
      },
      "text/plain": [
       "  0%|          | 0/15 [00:00<?, ?it/s]"
      ]
     },
     "metadata": {},
     "output_type": "display_data"
    },
    {
     "data": {
      "application/vnd.jupyter.widget-view+json": {
       "model_id": "",
       "version_major": 2,
       "version_minor": 0
      },
      "text/plain": [
       "  0%|          | 0/31 [00:00<?, ?it/s]"
      ]
     },
     "metadata": {},
     "output_type": "display_data"
    },
    {
     "data": {
      "application/vnd.jupyter.widget-view+json": {
       "model_id": "",
       "version_major": 2,
       "version_minor": 0
      },
      "text/plain": [
       "  0%|          | 0/20 [00:00<?, ?it/s]"
      ]
     },
     "metadata": {},
     "output_type": "display_data"
    },
    {
     "data": {
      "application/vnd.jupyter.widget-view+json": {
       "model_id": "",
       "version_major": 2,
       "version_minor": 0
      },
      "text/plain": [
       "  0%|          | 0/18 [00:00<?, ?it/s]"
      ]
     },
     "metadata": {},
     "output_type": "display_data"
    },
    {
     "data": {
      "application/vnd.jupyter.widget-view+json": {
       "model_id": "",
       "version_major": 2,
       "version_minor": 0
      },
      "text/plain": [
       "  0%|          | 0/49 [00:00<?, ?it/s]"
      ]
     },
     "metadata": {},
     "output_type": "display_data"
    },
    {
     "data": {
      "application/vnd.jupyter.widget-view+json": {
       "model_id": "",
       "version_major": 2,
       "version_minor": 0
      },
      "text/plain": [
       "  0%|          | 0/63 [00:00<?, ?it/s]"
      ]
     },
     "metadata": {},
     "output_type": "display_data"
    },
    {
     "data": {
      "application/vnd.jupyter.widget-view+json": {
       "model_id": "",
       "version_major": 2,
       "version_minor": 0
      },
      "text/plain": [
       "  0%|          | 0/23 [00:00<?, ?it/s]"
      ]
     },
     "metadata": {},
     "output_type": "display_data"
    },
    {
     "data": {
      "application/vnd.jupyter.widget-view+json": {
       "model_id": "",
       "version_major": 2,
       "version_minor": 0
      },
      "text/plain": [
       "  0%|          | 0/39 [00:00<?, ?it/s]"
      ]
     },
     "metadata": {},
     "output_type": "display_data"
    },
    {
     "data": {
      "application/vnd.jupyter.widget-view+json": {
       "model_id": "",
       "version_major": 2,
       "version_minor": 0
      },
      "text/plain": [
       "  0%|          | 0/20 [00:00<?, ?it/s]"
      ]
     },
     "metadata": {},
     "output_type": "display_data"
    },
    {
     "data": {
      "application/vnd.jupyter.widget-view+json": {
       "model_id": "",
       "version_major": 2,
       "version_minor": 0
      },
      "text/plain": [
       "  0%|          | 0/65 [00:00<?, ?it/s]"
      ]
     },
     "metadata": {},
     "output_type": "display_data"
    },
    {
     "data": {
      "application/vnd.jupyter.widget-view+json": {
       "model_id": "",
       "version_major": 2,
       "version_minor": 0
      },
      "text/plain": [
       "  0%|          | 0/14 [00:00<?, ?it/s]"
      ]
     },
     "metadata": {},
     "output_type": "display_data"
    },
    {
     "data": {
      "application/vnd.jupyter.widget-view+json": {
       "model_id": "",
       "version_major": 2,
       "version_minor": 0
      },
      "text/plain": [
       "  0%|          | 0/48 [00:00<?, ?it/s]"
      ]
     },
     "metadata": {},
     "output_type": "display_data"
    },
    {
     "data": {
      "application/vnd.jupyter.widget-view+json": {
       "model_id": "",
       "version_major": 2,
       "version_minor": 0
      },
      "text/plain": [
       "  0%|          | 0/49 [00:00<?, ?it/s]"
      ]
     },
     "metadata": {},
     "output_type": "display_data"
    },
    {
     "data": {
      "application/vnd.jupyter.widget-view+json": {
       "model_id": "",
       "version_major": 2,
       "version_minor": 0
      },
      "text/plain": [
       "  0%|          | 0/37 [00:00<?, ?it/s]"
      ]
     },
     "metadata": {},
     "output_type": "display_data"
    },
    {
     "data": {
      "application/vnd.jupyter.widget-view+json": {
       "model_id": "",
       "version_major": 2,
       "version_minor": 0
      },
      "text/plain": [
       "  0%|          | 0/57 [00:00<?, ?it/s]"
      ]
     },
     "metadata": {},
     "output_type": "display_data"
    },
    {
     "data": {
      "application/vnd.jupyter.widget-view+json": {
       "model_id": "",
       "version_major": 2,
       "version_minor": 0
      },
      "text/plain": [
       "  0%|          | 0/25 [00:00<?, ?it/s]"
      ]
     },
     "metadata": {},
     "output_type": "display_data"
    },
    {
     "data": {
      "application/vnd.jupyter.widget-view+json": {
       "model_id": "",
       "version_major": 2,
       "version_minor": 0
      },
      "text/plain": [
       "  0%|          | 0/29 [00:00<?, ?it/s]"
      ]
     },
     "metadata": {},
     "output_type": "display_data"
    },
    {
     "data": {
      "application/vnd.jupyter.widget-view+json": {
       "model_id": "",
       "version_major": 2,
       "version_minor": 0
      },
      "text/plain": [
       "  0%|          | 0/70 [00:00<?, ?it/s]"
      ]
     },
     "metadata": {},
     "output_type": "display_data"
    },
    {
     "data": {
      "application/vnd.jupyter.widget-view+json": {
       "model_id": "",
       "version_major": 2,
       "version_minor": 0
      },
      "text/plain": [
       "  0%|          | 0/35 [00:00<?, ?it/s]"
      ]
     },
     "metadata": {},
     "output_type": "display_data"
    },
    {
     "data": {
      "application/vnd.jupyter.widget-view+json": {
       "model_id": "",
       "version_major": 2,
       "version_minor": 0
      },
      "text/plain": [
       "  0%|          | 0/50 [00:00<?, ?it/s]"
      ]
     },
     "metadata": {},
     "output_type": "display_data"
    },
    {
     "data": {
      "application/vnd.jupyter.widget-view+json": {
       "model_id": "",
       "version_major": 2,
       "version_minor": 0
      },
      "text/plain": [
       "  0%|          | 0/27 [00:00<?, ?it/s]"
      ]
     },
     "metadata": {},
     "output_type": "display_data"
    },
    {
     "data": {
      "application/vnd.jupyter.widget-view+json": {
       "model_id": "",
       "version_major": 2,
       "version_minor": 0
      },
      "text/plain": [
       "  0%|          | 0/31 [00:00<?, ?it/s]"
      ]
     },
     "metadata": {},
     "output_type": "display_data"
    },
    {
     "data": {
      "application/vnd.jupyter.widget-view+json": {
       "model_id": "",
       "version_major": 2,
       "version_minor": 0
      },
      "text/plain": [
       "  0%|          | 0/29 [00:00<?, ?it/s]"
      ]
     },
     "metadata": {},
     "output_type": "display_data"
    },
    {
     "data": {
      "application/vnd.jupyter.widget-view+json": {
       "model_id": "",
       "version_major": 2,
       "version_minor": 0
      },
      "text/plain": [
       "  0%|          | 0/77 [00:00<?, ?it/s]"
      ]
     },
     "metadata": {},
     "output_type": "display_data"
    },
    {
     "data": {
      "application/vnd.jupyter.widget-view+json": {
       "model_id": "",
       "version_major": 2,
       "version_minor": 0
      },
      "text/plain": [
       "  0%|          | 0/11 [00:00<?, ?it/s]"
      ]
     },
     "metadata": {},
     "output_type": "display_data"
    },
    {
     "data": {
      "application/vnd.jupyter.widget-view+json": {
       "model_id": "",
       "version_major": 2,
       "version_minor": 0
      },
      "text/plain": [
       "  0%|          | 0/15 [00:00<?, ?it/s]"
      ]
     },
     "metadata": {},
     "output_type": "display_data"
    },
    {
     "data": {
      "application/vnd.jupyter.widget-view+json": {
       "model_id": "",
       "version_major": 2,
       "version_minor": 0
      },
      "text/plain": [
       "  0%|          | 0/23 [00:00<?, ?it/s]"
      ]
     },
     "metadata": {},
     "output_type": "display_data"
    },
    {
     "data": {
      "application/vnd.jupyter.widget-view+json": {
       "model_id": "",
       "version_major": 2,
       "version_minor": 0
      },
      "text/plain": [
       "  0%|          | 0/56 [00:00<?, ?it/s]"
      ]
     },
     "metadata": {},
     "output_type": "display_data"
    },
    {
     "data": {
      "application/vnd.jupyter.widget-view+json": {
       "model_id": "",
       "version_major": 2,
       "version_minor": 0
      },
      "text/plain": [
       "  0%|          | 0/40 [00:00<?, ?it/s]"
      ]
     },
     "metadata": {},
     "output_type": "display_data"
    },
    {
     "data": {
      "application/vnd.jupyter.widget-view+json": {
       "model_id": "",
       "version_major": 2,
       "version_minor": 0
      },
      "text/plain": [
       "  0%|          | 0/69 [00:00<?, ?it/s]"
      ]
     },
     "metadata": {},
     "output_type": "display_data"
    },
    {
     "data": {
      "application/vnd.jupyter.widget-view+json": {
       "model_id": "",
       "version_major": 2,
       "version_minor": 0
      },
      "text/plain": [
       "  0%|          | 0/30 [00:00<?, ?it/s]"
      ]
     },
     "metadata": {},
     "output_type": "display_data"
    },
    {
     "data": {
      "application/vnd.jupyter.widget-view+json": {
       "model_id": "",
       "version_major": 2,
       "version_minor": 0
      },
      "text/plain": [
       "  0%|          | 0/30 [00:00<?, ?it/s]"
      ]
     },
     "metadata": {},
     "output_type": "display_data"
    },
    {
     "data": {
      "application/vnd.jupyter.widget-view+json": {
       "model_id": "",
       "version_major": 2,
       "version_minor": 0
      },
      "text/plain": [
       "  0%|          | 0/21 [00:00<?, ?it/s]"
      ]
     },
     "metadata": {},
     "output_type": "display_data"
    },
    {
     "data": {
      "application/vnd.jupyter.widget-view+json": {
       "model_id": "",
       "version_major": 2,
       "version_minor": 0
      },
      "text/plain": [
       "  0%|          | 0/75 [00:00<?, ?it/s]"
      ]
     },
     "metadata": {},
     "output_type": "display_data"
    },
    {
     "data": {
      "application/vnd.jupyter.widget-view+json": {
       "model_id": "",
       "version_major": 2,
       "version_minor": 0
      },
      "text/plain": [
       "  0%|          | 0/42 [00:00<?, ?it/s]"
      ]
     },
     "metadata": {},
     "output_type": "display_data"
    },
    {
     "data": {
      "application/vnd.jupyter.widget-view+json": {
       "model_id": "",
       "version_major": 2,
       "version_minor": 0
      },
      "text/plain": [
       "  0%|          | 0/24 [00:00<?, ?it/s]"
      ]
     },
     "metadata": {},
     "output_type": "display_data"
    },
    {
     "data": {
      "application/vnd.jupyter.widget-view+json": {
       "model_id": "",
       "version_major": 2,
       "version_minor": 0
      },
      "text/plain": [
       "  0%|          | 0/80 [00:00<?, ?it/s]"
      ]
     },
     "metadata": {},
     "output_type": "display_data"
    },
    {
     "data": {
      "application/vnd.jupyter.widget-view+json": {
       "model_id": "",
       "version_major": 2,
       "version_minor": 0
      },
      "text/plain": [
       "  0%|          | 0/32 [00:00<?, ?it/s]"
      ]
     },
     "metadata": {},
     "output_type": "display_data"
    },
    {
     "data": {
      "application/vnd.jupyter.widget-view+json": {
       "model_id": "",
       "version_major": 2,
       "version_minor": 0
      },
      "text/plain": [
       "  0%|          | 0/71 [00:00<?, ?it/s]"
      ]
     },
     "metadata": {},
     "output_type": "display_data"
    },
    {
     "data": {
      "application/vnd.jupyter.widget-view+json": {
       "model_id": "",
       "version_major": 2,
       "version_minor": 0
      },
      "text/plain": [
       "  0%|          | 0/12 [00:00<?, ?it/s]"
      ]
     },
     "metadata": {},
     "output_type": "display_data"
    },
    {
     "data": {
      "application/vnd.jupyter.widget-view+json": {
       "model_id": "",
       "version_major": 2,
       "version_minor": 0
      },
      "text/plain": [
       "  0%|          | 0/43 [00:00<?, ?it/s]"
      ]
     },
     "metadata": {},
     "output_type": "display_data"
    },
    {
     "data": {
      "application/vnd.jupyter.widget-view+json": {
       "model_id": "",
       "version_major": 2,
       "version_minor": 0
      },
      "text/plain": [
       "  0%|          | 0/28 [00:00<?, ?it/s]"
      ]
     },
     "metadata": {},
     "output_type": "display_data"
    },
    {
     "data": {
      "application/vnd.jupyter.widget-view+json": {
       "model_id": "",
       "version_major": 2,
       "version_minor": 0
      },
      "text/plain": [
       "  0%|          | 0/37 [00:00<?, ?it/s]"
      ]
     },
     "metadata": {},
     "output_type": "display_data"
    },
    {
     "data": {
      "application/vnd.jupyter.widget-view+json": {
       "model_id": "",
       "version_major": 2,
       "version_minor": 0
      },
      "text/plain": [
       "  0%|          | 0/60 [00:00<?, ?it/s]"
      ]
     },
     "metadata": {},
     "output_type": "display_data"
    },
    {
     "data": {
      "application/vnd.jupyter.widget-view+json": {
       "model_id": "",
       "version_major": 2,
       "version_minor": 0
      },
      "text/plain": [
       "  0%|          | 0/83 [00:00<?, ?it/s]"
      ]
     },
     "metadata": {},
     "output_type": "display_data"
    },
    {
     "data": {
      "application/vnd.jupyter.widget-view+json": {
       "model_id": "",
       "version_major": 2,
       "version_minor": 0
      },
      "text/plain": [
       "  0%|          | 0/38 [00:00<?, ?it/s]"
      ]
     },
     "metadata": {},
     "output_type": "display_data"
    },
    {
     "data": {
      "application/vnd.jupyter.widget-view+json": {
       "model_id": "",
       "version_major": 2,
       "version_minor": 0
      },
      "text/plain": [
       "  0%|          | 0/39 [00:00<?, ?it/s]"
      ]
     },
     "metadata": {},
     "output_type": "display_data"
    },
    {
     "data": {
      "application/vnd.jupyter.widget-view+json": {
       "model_id": "",
       "version_major": 2,
       "version_minor": 0
      },
      "text/plain": [
       "  0%|          | 0/246 [00:00<?, ?it/s]"
      ]
     },
     "metadata": {},
     "output_type": "display_data"
    },
    {
     "data": {
      "application/vnd.jupyter.widget-view+json": {
       "model_id": "",
       "version_major": 2,
       "version_minor": 0
      },
      "text/plain": [
       "  0%|          | 0/29 [00:00<?, ?it/s]"
      ]
     },
     "metadata": {},
     "output_type": "display_data"
    },
    {
     "data": {
      "application/vnd.jupyter.widget-view+json": {
       "model_id": "",
       "version_major": 2,
       "version_minor": 0
      },
      "text/plain": [
       "  0%|          | 0/40 [00:00<?, ?it/s]"
      ]
     },
     "metadata": {},
     "output_type": "display_data"
    },
    {
     "data": {
      "application/vnd.jupyter.widget-view+json": {
       "model_id": "",
       "version_major": 2,
       "version_minor": 0
      },
      "text/plain": [
       "  0%|          | 0/51 [00:00<?, ?it/s]"
      ]
     },
     "metadata": {},
     "output_type": "display_data"
    },
    {
     "data": {
      "application/vnd.jupyter.widget-view+json": {
       "model_id": "",
       "version_major": 2,
       "version_minor": 0
      },
      "text/plain": [
       "  0%|          | 0/12 [00:00<?, ?it/s]"
      ]
     },
     "metadata": {},
     "output_type": "display_data"
    },
    {
     "data": {
      "application/vnd.jupyter.widget-view+json": {
       "model_id": "",
       "version_major": 2,
       "version_minor": 0
      },
      "text/plain": [
       "  0%|          | 0/33 [00:00<?, ?it/s]"
      ]
     },
     "metadata": {},
     "output_type": "display_data"
    },
    {
     "name": "stdout",
     "output_type": "stream",
     "text": [
      "requests:ERROR | 2024-05-25 15:50:28 +0000 | An error occurred for identifier=84880804620 while retrieving ISSNs.\n",
      "requests:ERROR | 2024-05-25 15:50:31 +0000 | An error occurred for identifier=84880826434 while retrieving ISSNs.\n",
      "requests:ERROR | 2024-05-25 15:50:31 +0000 | An error occurred for identifier=74549157188 while retrieving ISSNs.\n",
      "requests:ERROR | 2024-05-25 15:50:32 +0000 | An error occurred for identifier=67649229013 while retrieving ISSNs.\n",
      "requests:ERROR | 2024-05-25 15:50:34 +0000 | An error occurred for identifier=84863190646 while retrieving ISSNs.\n"
     ]
    },
    {
     "data": {
      "application/vnd.jupyter.widget-view+json": {
       "model_id": "",
       "version_major": 2,
       "version_minor": 0
      },
      "text/plain": [
       "  0%|          | 0/42 [00:00<?, ?it/s]"
      ]
     },
     "metadata": {},
     "output_type": "display_data"
    },
    {
     "data": {
      "application/vnd.jupyter.widget-view+json": {
       "model_id": "",
       "version_major": 2,
       "version_minor": 0
      },
      "text/plain": [
       "  0%|          | 0/20 [00:00<?, ?it/s]"
      ]
     },
     "metadata": {},
     "output_type": "display_data"
    },
    {
     "data": {
      "application/vnd.jupyter.widget-view+json": {
       "model_id": "",
       "version_major": 2,
       "version_minor": 0
      },
      "text/plain": [
       "  0%|          | 0/59 [00:00<?, ?it/s]"
      ]
     },
     "metadata": {},
     "output_type": "display_data"
    },
    {
     "data": {
      "application/vnd.jupyter.widget-view+json": {
       "model_id": "",
       "version_major": 2,
       "version_minor": 0
      },
      "text/plain": [
       "  0%|          | 0/158 [00:00<?, ?it/s]"
      ]
     },
     "metadata": {},
     "output_type": "display_data"
    },
    {
     "data": {
      "application/vnd.jupyter.widget-view+json": {
       "model_id": "",
       "version_major": 2,
       "version_minor": 0
      },
      "text/plain": [
       "  0%|          | 0/26 [00:00<?, ?it/s]"
      ]
     },
     "metadata": {},
     "output_type": "display_data"
    },
    {
     "data": {
      "application/vnd.jupyter.widget-view+json": {
       "model_id": "",
       "version_major": 2,
       "version_minor": 0
      },
      "text/plain": [
       "  0%|          | 0/31 [00:00<?, ?it/s]"
      ]
     },
     "metadata": {},
     "output_type": "display_data"
    },
    {
     "data": {
      "application/vnd.jupyter.widget-view+json": {
       "model_id": "",
       "version_major": 2,
       "version_minor": 0
      },
      "text/plain": [
       "  0%|          | 0/33 [00:00<?, ?it/s]"
      ]
     },
     "metadata": {},
     "output_type": "display_data"
    },
    {
     "data": {
      "application/vnd.jupyter.widget-view+json": {
       "model_id": "",
       "version_major": 2,
       "version_minor": 0
      },
      "text/plain": [
       "  0%|          | 0/34 [00:00<?, ?it/s]"
      ]
     },
     "metadata": {},
     "output_type": "display_data"
    },
    {
     "data": {
      "application/vnd.jupyter.widget-view+json": {
       "model_id": "",
       "version_major": 2,
       "version_minor": 0
      },
      "text/plain": [
       "  0%|          | 0/68 [00:00<?, ?it/s]"
      ]
     },
     "metadata": {},
     "output_type": "display_data"
    },
    {
     "data": {
      "application/vnd.jupyter.widget-view+json": {
       "model_id": "",
       "version_major": 2,
       "version_minor": 0
      },
      "text/plain": [
       "  0%|          | 0/32 [00:00<?, ?it/s]"
      ]
     },
     "metadata": {},
     "output_type": "display_data"
    },
    {
     "data": {
      "application/vnd.jupyter.widget-view+json": {
       "model_id": "",
       "version_major": 2,
       "version_minor": 0
      },
      "text/plain": [
       "  0%|          | 0/19 [00:00<?, ?it/s]"
      ]
     },
     "metadata": {},
     "output_type": "display_data"
    },
    {
     "data": {
      "application/vnd.jupyter.widget-view+json": {
       "model_id": "",
       "version_major": 2,
       "version_minor": 0
      },
      "text/plain": [
       "  0%|          | 0/16 [00:00<?, ?it/s]"
      ]
     },
     "metadata": {},
     "output_type": "display_data"
    },
    {
     "data": {
      "application/vnd.jupyter.widget-view+json": {
       "model_id": "",
       "version_major": 2,
       "version_minor": 0
      },
      "text/plain": [
       "  0%|          | 0/19 [00:00<?, ?it/s]"
      ]
     },
     "metadata": {},
     "output_type": "display_data"
    },
    {
     "data": {
      "application/vnd.jupyter.widget-view+json": {
       "model_id": "",
       "version_major": 2,
       "version_minor": 0
      },
      "text/plain": [
       "  0%|          | 0/54 [00:00<?, ?it/s]"
      ]
     },
     "metadata": {},
     "output_type": "display_data"
    },
    {
     "data": {
      "application/vnd.jupyter.widget-view+json": {
       "model_id": "",
       "version_major": 2,
       "version_minor": 0
      },
      "text/plain": [
       "  0%|          | 0/16 [00:00<?, ?it/s]"
      ]
     },
     "metadata": {},
     "output_type": "display_data"
    },
    {
     "data": {
      "application/vnd.jupyter.widget-view+json": {
       "model_id": "",
       "version_major": 2,
       "version_minor": 0
      },
      "text/plain": [
       "  0%|          | 0/29 [00:00<?, ?it/s]"
      ]
     },
     "metadata": {},
     "output_type": "display_data"
    },
    {
     "data": {
      "application/vnd.jupyter.widget-view+json": {
       "model_id": "",
       "version_major": 2,
       "version_minor": 0
      },
      "text/plain": [
       "  0%|          | 0/71 [00:00<?, ?it/s]"
      ]
     },
     "metadata": {},
     "output_type": "display_data"
    },
    {
     "data": {
      "application/vnd.jupyter.widget-view+json": {
       "model_id": "",
       "version_major": 2,
       "version_minor": 0
      },
      "text/plain": [
       "  0%|          | 0/14 [00:00<?, ?it/s]"
      ]
     },
     "metadata": {},
     "output_type": "display_data"
    },
    {
     "data": {
      "application/vnd.jupyter.widget-view+json": {
       "model_id": "",
       "version_major": 2,
       "version_minor": 0
      },
      "text/plain": [
       "  0%|          | 0/22 [00:00<?, ?it/s]"
      ]
     },
     "metadata": {},
     "output_type": "display_data"
    },
    {
     "data": {
      "application/vnd.jupyter.widget-view+json": {
       "model_id": "",
       "version_major": 2,
       "version_minor": 0
      },
      "text/plain": [
       "  0%|          | 0/63 [00:00<?, ?it/s]"
      ]
     },
     "metadata": {},
     "output_type": "display_data"
    },
    {
     "data": {
      "application/vnd.jupyter.widget-view+json": {
       "model_id": "",
       "version_major": 2,
       "version_minor": 0
      },
      "text/plain": [
       "  0%|          | 0/16 [00:00<?, ?it/s]"
      ]
     },
     "metadata": {},
     "output_type": "display_data"
    },
    {
     "data": {
      "application/vnd.jupyter.widget-view+json": {
       "model_id": "",
       "version_major": 2,
       "version_minor": 0
      },
      "text/plain": [
       "  0%|          | 0/26 [00:00<?, ?it/s]"
      ]
     },
     "metadata": {},
     "output_type": "display_data"
    },
    {
     "data": {
      "application/vnd.jupyter.widget-view+json": {
       "model_id": "",
       "version_major": 2,
       "version_minor": 0
      },
      "text/plain": [
       "  0%|          | 0/41 [00:00<?, ?it/s]"
      ]
     },
     "metadata": {},
     "output_type": "display_data"
    },
    {
     "data": {
      "application/vnd.jupyter.widget-view+json": {
       "model_id": "",
       "version_major": 2,
       "version_minor": 0
      },
      "text/plain": [
       "  0%|          | 0/57 [00:00<?, ?it/s]"
      ]
     },
     "metadata": {},
     "output_type": "display_data"
    },
    {
     "data": {
      "application/vnd.jupyter.widget-view+json": {
       "model_id": "",
       "version_major": 2,
       "version_minor": 0
      },
      "text/plain": [
       "  0%|          | 0/33 [00:00<?, ?it/s]"
      ]
     },
     "metadata": {},
     "output_type": "display_data"
    },
    {
     "data": {
      "application/vnd.jupyter.widget-view+json": {
       "model_id": "",
       "version_major": 2,
       "version_minor": 0
      },
      "text/plain": [
       "  0%|          | 0/35 [00:00<?, ?it/s]"
      ]
     },
     "metadata": {},
     "output_type": "display_data"
    },
    {
     "data": {
      "application/vnd.jupyter.widget-view+json": {
       "model_id": "",
       "version_major": 2,
       "version_minor": 0
      },
      "text/plain": [
       "  0%|          | 0/42 [00:00<?, ?it/s]"
      ]
     },
     "metadata": {},
     "output_type": "display_data"
    },
    {
     "data": {
      "application/vnd.jupyter.widget-view+json": {
       "model_id": "",
       "version_major": 2,
       "version_minor": 0
      },
      "text/plain": [
       "  0%|          | 0/34 [00:00<?, ?it/s]"
      ]
     },
     "metadata": {},
     "output_type": "display_data"
    },
    {
     "data": {
      "application/vnd.jupyter.widget-view+json": {
       "model_id": "",
       "version_major": 2,
       "version_minor": 0
      },
      "text/plain": [
       "  0%|          | 0/109 [00:00<?, ?it/s]"
      ]
     },
     "metadata": {},
     "output_type": "display_data"
    },
    {
     "data": {
      "application/vnd.jupyter.widget-view+json": {
       "model_id": "",
       "version_major": 2,
       "version_minor": 0
      },
      "text/plain": [
       "  0%|          | 0/57 [00:00<?, ?it/s]"
      ]
     },
     "metadata": {},
     "output_type": "display_data"
    },
    {
     "data": {
      "application/vnd.jupyter.widget-view+json": {
       "model_id": "",
       "version_major": 2,
       "version_minor": 0
      },
      "text/plain": [
       "  0%|          | 0/28 [00:00<?, ?it/s]"
      ]
     },
     "metadata": {},
     "output_type": "display_data"
    },
    {
     "data": {
      "application/vnd.jupyter.widget-view+json": {
       "model_id": "",
       "version_major": 2,
       "version_minor": 0
      },
      "text/plain": [
       "  0%|          | 0/16 [00:00<?, ?it/s]"
      ]
     },
     "metadata": {},
     "output_type": "display_data"
    },
    {
     "data": {
      "application/vnd.jupyter.widget-view+json": {
       "model_id": "",
       "version_major": 2,
       "version_minor": 0
      },
      "text/plain": [
       "  0%|          | 0/132 [00:00<?, ?it/s]"
      ]
     },
     "metadata": {},
     "output_type": "display_data"
    },
    {
     "data": {
      "application/vnd.jupyter.widget-view+json": {
       "model_id": "",
       "version_major": 2,
       "version_minor": 0
      },
      "text/plain": [
       "  0%|          | 0/29 [00:00<?, ?it/s]"
      ]
     },
     "metadata": {},
     "output_type": "display_data"
    },
    {
     "data": {
      "application/vnd.jupyter.widget-view+json": {
       "model_id": "",
       "version_major": 2,
       "version_minor": 0
      },
      "text/plain": [
       "  0%|          | 0/51 [00:00<?, ?it/s]"
      ]
     },
     "metadata": {},
     "output_type": "display_data"
    },
    {
     "data": {
      "application/vnd.jupyter.widget-view+json": {
       "model_id": "",
       "version_major": 2,
       "version_minor": 0
      },
      "text/plain": [
       "  0%|          | 0/15 [00:00<?, ?it/s]"
      ]
     },
     "metadata": {},
     "output_type": "display_data"
    },
    {
     "data": {
      "application/vnd.jupyter.widget-view+json": {
       "model_id": "",
       "version_major": 2,
       "version_minor": 0
      },
      "text/plain": [
       "  0%|          | 0/59 [00:00<?, ?it/s]"
      ]
     },
     "metadata": {},
     "output_type": "display_data"
    },
    {
     "data": {
      "application/vnd.jupyter.widget-view+json": {
       "model_id": "",
       "version_major": 2,
       "version_minor": 0
      },
      "text/plain": [
       "  0%|          | 0/21 [00:00<?, ?it/s]"
      ]
     },
     "metadata": {},
     "output_type": "display_data"
    },
    {
     "data": {
      "application/vnd.jupyter.widget-view+json": {
       "model_id": "",
       "version_major": 2,
       "version_minor": 0
      },
      "text/plain": [
       "  0%|          | 0/46 [00:00<?, ?it/s]"
      ]
     },
     "metadata": {},
     "output_type": "display_data"
    },
    {
     "data": {
      "application/vnd.jupyter.widget-view+json": {
       "model_id": "",
       "version_major": 2,
       "version_minor": 0
      },
      "text/plain": [
       "  0%|          | 0/45 [00:00<?, ?it/s]"
      ]
     },
     "metadata": {},
     "output_type": "display_data"
    },
    {
     "data": {
      "application/vnd.jupyter.widget-view+json": {
       "model_id": "",
       "version_major": 2,
       "version_minor": 0
      },
      "text/plain": [
       "  0%|          | 0/46 [00:00<?, ?it/s]"
      ]
     },
     "metadata": {},
     "output_type": "display_data"
    },
    {
     "data": {
      "application/vnd.jupyter.widget-view+json": {
       "model_id": "",
       "version_major": 2,
       "version_minor": 0
      },
      "text/plain": [
       "  0%|          | 0/26 [00:00<?, ?it/s]"
      ]
     },
     "metadata": {},
     "output_type": "display_data"
    },
    {
     "data": {
      "application/vnd.jupyter.widget-view+json": {
       "model_id": "",
       "version_major": 2,
       "version_minor": 0
      },
      "text/plain": [
       "  0%|          | 0/23 [00:00<?, ?it/s]"
      ]
     },
     "metadata": {},
     "output_type": "display_data"
    },
    {
     "data": {
      "application/vnd.jupyter.widget-view+json": {
       "model_id": "",
       "version_major": 2,
       "version_minor": 0
      },
      "text/plain": [
       "  0%|          | 0/81 [00:00<?, ?it/s]"
      ]
     },
     "metadata": {},
     "output_type": "display_data"
    },
    {
     "data": {
      "application/vnd.jupyter.widget-view+json": {
       "model_id": "",
       "version_major": 2,
       "version_minor": 0
      },
      "text/plain": [
       "  0%|          | 0/41 [00:00<?, ?it/s]"
      ]
     },
     "metadata": {},
     "output_type": "display_data"
    },
    {
     "data": {
      "application/vnd.jupyter.widget-view+json": {
       "model_id": "",
       "version_major": 2,
       "version_minor": 0
      },
      "text/plain": [
       "  0%|          | 0/18 [00:00<?, ?it/s]"
      ]
     },
     "metadata": {},
     "output_type": "display_data"
    },
    {
     "data": {
      "application/vnd.jupyter.widget-view+json": {
       "model_id": "",
       "version_major": 2,
       "version_minor": 0
      },
      "text/plain": [
       "  0%|          | 0/40 [00:00<?, ?it/s]"
      ]
     },
     "metadata": {},
     "output_type": "display_data"
    },
    {
     "data": {
      "application/vnd.jupyter.widget-view+json": {
       "model_id": "",
       "version_major": 2,
       "version_minor": 0
      },
      "text/plain": [
       "  0%|          | 0/35 [00:00<?, ?it/s]"
      ]
     },
     "metadata": {},
     "output_type": "display_data"
    },
    {
     "data": {
      "application/vnd.jupyter.widget-view+json": {
       "model_id": "",
       "version_major": 2,
       "version_minor": 0
      },
      "text/plain": [
       "  0%|          | 0/37 [00:00<?, ?it/s]"
      ]
     },
     "metadata": {},
     "output_type": "display_data"
    },
    {
     "data": {
      "application/vnd.jupyter.widget-view+json": {
       "model_id": "",
       "version_major": 2,
       "version_minor": 0
      },
      "text/plain": [
       "  0%|          | 0/51 [00:00<?, ?it/s]"
      ]
     },
     "metadata": {},
     "output_type": "display_data"
    },
    {
     "data": {
      "application/vnd.jupyter.widget-view+json": {
       "model_id": "",
       "version_major": 2,
       "version_minor": 0
      },
      "text/plain": [
       "  0%|          | 0/24 [00:00<?, ?it/s]"
      ]
     },
     "metadata": {},
     "output_type": "display_data"
    },
    {
     "data": {
      "application/vnd.jupyter.widget-view+json": {
       "model_id": "",
       "version_major": 2,
       "version_minor": 0
      },
      "text/plain": [
       "  0%|          | 0/20 [00:00<?, ?it/s]"
      ]
     },
     "metadata": {},
     "output_type": "display_data"
    },
    {
     "data": {
      "application/vnd.jupyter.widget-view+json": {
       "model_id": "",
       "version_major": 2,
       "version_minor": 0
      },
      "text/plain": [
       "  0%|          | 0/59 [00:00<?, ?it/s]"
      ]
     },
     "metadata": {},
     "output_type": "display_data"
    },
    {
     "data": {
      "application/vnd.jupyter.widget-view+json": {
       "model_id": "",
       "version_major": 2,
       "version_minor": 0
      },
      "text/plain": [
       "  0%|          | 0/42 [00:00<?, ?it/s]"
      ]
     },
     "metadata": {},
     "output_type": "display_data"
    },
    {
     "data": {
      "application/vnd.jupyter.widget-view+json": {
       "model_id": "",
       "version_major": 2,
       "version_minor": 0
      },
      "text/plain": [
       "  0%|          | 0/22 [00:00<?, ?it/s]"
      ]
     },
     "metadata": {},
     "output_type": "display_data"
    },
    {
     "data": {
      "application/vnd.jupyter.widget-view+json": {
       "model_id": "",
       "version_major": 2,
       "version_minor": 0
      },
      "text/plain": [
       "  0%|          | 0/33 [00:00<?, ?it/s]"
      ]
     },
     "metadata": {},
     "output_type": "display_data"
    },
    {
     "data": {
      "application/vnd.jupyter.widget-view+json": {
       "model_id": "",
       "version_major": 2,
       "version_minor": 0
      },
      "text/plain": [
       "  0%|          | 0/22 [00:00<?, ?it/s]"
      ]
     },
     "metadata": {},
     "output_type": "display_data"
    },
    {
     "data": {
      "application/vnd.jupyter.widget-view+json": {
       "model_id": "",
       "version_major": 2,
       "version_minor": 0
      },
      "text/plain": [
       "  0%|          | 0/15 [00:00<?, ?it/s]"
      ]
     },
     "metadata": {},
     "output_type": "display_data"
    },
    {
     "data": {
      "application/vnd.jupyter.widget-view+json": {
       "model_id": "",
       "version_major": 2,
       "version_minor": 0
      },
      "text/plain": [
       "  0%|          | 0/37 [00:00<?, ?it/s]"
      ]
     },
     "metadata": {},
     "output_type": "display_data"
    },
    {
     "data": {
      "application/vnd.jupyter.widget-view+json": {
       "model_id": "",
       "version_major": 2,
       "version_minor": 0
      },
      "text/plain": [
       "  0%|          | 0/26 [00:00<?, ?it/s]"
      ]
     },
     "metadata": {},
     "output_type": "display_data"
    },
    {
     "data": {
      "application/vnd.jupyter.widget-view+json": {
       "model_id": "",
       "version_major": 2,
       "version_minor": 0
      },
      "text/plain": [
       "  0%|          | 0/12 [00:00<?, ?it/s]"
      ]
     },
     "metadata": {},
     "output_type": "display_data"
    },
    {
     "data": {
      "application/vnd.jupyter.widget-view+json": {
       "model_id": "",
       "version_major": 2,
       "version_minor": 0
      },
      "text/plain": [
       "  0%|          | 0/27 [00:00<?, ?it/s]"
      ]
     },
     "metadata": {},
     "output_type": "display_data"
    },
    {
     "data": {
      "application/vnd.jupyter.widget-view+json": {
       "model_id": "",
       "version_major": 2,
       "version_minor": 0
      },
      "text/plain": [
       "  0%|          | 0/44 [00:00<?, ?it/s]"
      ]
     },
     "metadata": {},
     "output_type": "display_data"
    },
    {
     "data": {
      "application/vnd.jupyter.widget-view+json": {
       "model_id": "",
       "version_major": 2,
       "version_minor": 0
      },
      "text/plain": [
       "  0%|          | 0/39 [00:00<?, ?it/s]"
      ]
     },
     "metadata": {},
     "output_type": "display_data"
    },
    {
     "data": {
      "application/vnd.jupyter.widget-view+json": {
       "model_id": "",
       "version_major": 2,
       "version_minor": 0
      },
      "text/plain": [
       "  0%|          | 0/32 [00:00<?, ?it/s]"
      ]
     },
     "metadata": {},
     "output_type": "display_data"
    },
    {
     "data": {
      "application/vnd.jupyter.widget-view+json": {
       "model_id": "",
       "version_major": 2,
       "version_minor": 0
      },
      "text/plain": [
       "  0%|          | 0/82 [00:00<?, ?it/s]"
      ]
     },
     "metadata": {},
     "output_type": "display_data"
    },
    {
     "data": {
      "application/vnd.jupyter.widget-view+json": {
       "model_id": "",
       "version_major": 2,
       "version_minor": 0
      },
      "text/plain": [
       "  0%|          | 0/41 [00:00<?, ?it/s]"
      ]
     },
     "metadata": {},
     "output_type": "display_data"
    },
    {
     "data": {
      "application/vnd.jupyter.widget-view+json": {
       "model_id": "",
       "version_major": 2,
       "version_minor": 0
      },
      "text/plain": [
       "  0%|          | 0/48 [00:00<?, ?it/s]"
      ]
     },
     "metadata": {},
     "output_type": "display_data"
    },
    {
     "data": {
      "application/vnd.jupyter.widget-view+json": {
       "model_id": "",
       "version_major": 2,
       "version_minor": 0
      },
      "text/plain": [
       "  0%|          | 0/44 [00:00<?, ?it/s]"
      ]
     },
     "metadata": {},
     "output_type": "display_data"
    },
    {
     "data": {
      "application/vnd.jupyter.widget-view+json": {
       "model_id": "",
       "version_major": 2,
       "version_minor": 0
      },
      "text/plain": [
       "  0%|          | 0/44 [00:00<?, ?it/s]"
      ]
     },
     "metadata": {},
     "output_type": "display_data"
    },
    {
     "data": {
      "application/vnd.jupyter.widget-view+json": {
       "model_id": "",
       "version_major": 2,
       "version_minor": 0
      },
      "text/plain": [
       "  0%|          | 0/22 [00:00<?, ?it/s]"
      ]
     },
     "metadata": {},
     "output_type": "display_data"
    },
    {
     "data": {
      "application/vnd.jupyter.widget-view+json": {
       "model_id": "",
       "version_major": 2,
       "version_minor": 0
      },
      "text/plain": [
       "  0%|          | 0/35 [00:00<?, ?it/s]"
      ]
     },
     "metadata": {},
     "output_type": "display_data"
    },
    {
     "data": {
      "application/vnd.jupyter.widget-view+json": {
       "model_id": "",
       "version_major": 2,
       "version_minor": 0
      },
      "text/plain": [
       "  0%|          | 0/70 [00:00<?, ?it/s]"
      ]
     },
     "metadata": {},
     "output_type": "display_data"
    },
    {
     "data": {
      "application/vnd.jupyter.widget-view+json": {
       "model_id": "",
       "version_major": 2,
       "version_minor": 0
      },
      "text/plain": [
       "  0%|          | 0/48 [00:00<?, ?it/s]"
      ]
     },
     "metadata": {},
     "output_type": "display_data"
    },
    {
     "data": {
      "application/vnd.jupyter.widget-view+json": {
       "model_id": "",
       "version_major": 2,
       "version_minor": 0
      },
      "text/plain": [
       "  0%|          | 0/427 [00:00<?, ?it/s]"
      ]
     },
     "metadata": {},
     "output_type": "display_data"
    },
    {
     "data": {
      "application/vnd.jupyter.widget-view+json": {
       "model_id": "",
       "version_major": 2,
       "version_minor": 0
      },
      "text/plain": [
       "  0%|          | 0/28 [00:00<?, ?it/s]"
      ]
     },
     "metadata": {},
     "output_type": "display_data"
    },
    {
     "data": {
      "application/vnd.jupyter.widget-view+json": {
       "model_id": "",
       "version_major": 2,
       "version_minor": 0
      },
      "text/plain": [
       "  0%|          | 0/29 [00:00<?, ?it/s]"
      ]
     },
     "metadata": {},
     "output_type": "display_data"
    },
    {
     "data": {
      "application/vnd.jupyter.widget-view+json": {
       "model_id": "",
       "version_major": 2,
       "version_minor": 0
      },
      "text/plain": [
       "  0%|          | 0/20 [00:00<?, ?it/s]"
      ]
     },
     "metadata": {},
     "output_type": "display_data"
    },
    {
     "data": {
      "application/vnd.jupyter.widget-view+json": {
       "model_id": "",
       "version_major": 2,
       "version_minor": 0
      },
      "text/plain": [
       "  0%|          | 0/25 [00:00<?, ?it/s]"
      ]
     },
     "metadata": {},
     "output_type": "display_data"
    },
    {
     "data": {
      "application/vnd.jupyter.widget-view+json": {
       "model_id": "",
       "version_major": 2,
       "version_minor": 0
      },
      "text/plain": [
       "  0%|          | 0/23 [00:00<?, ?it/s]"
      ]
     },
     "metadata": {},
     "output_type": "display_data"
    },
    {
     "data": {
      "application/vnd.jupyter.widget-view+json": {
       "model_id": "",
       "version_major": 2,
       "version_minor": 0
      },
      "text/plain": [
       "  0%|          | 0/37 [00:00<?, ?it/s]"
      ]
     },
     "metadata": {},
     "output_type": "display_data"
    },
    {
     "data": {
      "application/vnd.jupyter.widget-view+json": {
       "model_id": "",
       "version_major": 2,
       "version_minor": 0
      },
      "text/plain": [
       "  0%|          | 0/30 [00:00<?, ?it/s]"
      ]
     },
     "metadata": {},
     "output_type": "display_data"
    },
    {
     "data": {
      "application/vnd.jupyter.widget-view+json": {
       "model_id": "",
       "version_major": 2,
       "version_minor": 0
      },
      "text/plain": [
       "  0%|          | 0/62 [00:00<?, ?it/s]"
      ]
     },
     "metadata": {},
     "output_type": "display_data"
    },
    {
     "data": {
      "application/vnd.jupyter.widget-view+json": {
       "model_id": "",
       "version_major": 2,
       "version_minor": 0
      },
      "text/plain": [
       "  0%|          | 0/26 [00:00<?, ?it/s]"
      ]
     },
     "metadata": {},
     "output_type": "display_data"
    },
    {
     "data": {
      "application/vnd.jupyter.widget-view+json": {
       "model_id": "",
       "version_major": 2,
       "version_minor": 0
      },
      "text/plain": [
       "  0%|          | 0/26 [00:00<?, ?it/s]"
      ]
     },
     "metadata": {},
     "output_type": "display_data"
    },
    {
     "data": {
      "application/vnd.jupyter.widget-view+json": {
       "model_id": "",
       "version_major": 2,
       "version_minor": 0
      },
      "text/plain": [
       "  0%|          | 0/29 [00:00<?, ?it/s]"
      ]
     },
     "metadata": {},
     "output_type": "display_data"
    },
    {
     "data": {
      "application/vnd.jupyter.widget-view+json": {
       "model_id": "",
       "version_major": 2,
       "version_minor": 0
      },
      "text/plain": [
       "  0%|          | 0/36 [00:00<?, ?it/s]"
      ]
     },
     "metadata": {},
     "output_type": "display_data"
    },
    {
     "data": {
      "application/vnd.jupyter.widget-view+json": {
       "model_id": "",
       "version_major": 2,
       "version_minor": 0
      },
      "text/plain": [
       "  0%|          | 0/22 [00:00<?, ?it/s]"
      ]
     },
     "metadata": {},
     "output_type": "display_data"
    },
    {
     "data": {
      "application/vnd.jupyter.widget-view+json": {
       "model_id": "",
       "version_major": 2,
       "version_minor": 0
      },
      "text/plain": [
       "  0%|          | 0/69 [00:00<?, ?it/s]"
      ]
     },
     "metadata": {},
     "output_type": "display_data"
    },
    {
     "data": {
      "application/vnd.jupyter.widget-view+json": {
       "model_id": "",
       "version_major": 2,
       "version_minor": 0
      },
      "text/plain": [
       "  0%|          | 0/24 [00:00<?, ?it/s]"
      ]
     },
     "metadata": {},
     "output_type": "display_data"
    },
    {
     "data": {
      "application/vnd.jupyter.widget-view+json": {
       "model_id": "",
       "version_major": 2,
       "version_minor": 0
      },
      "text/plain": [
       "  0%|          | 0/49 [00:00<?, ?it/s]"
      ]
     },
     "metadata": {},
     "output_type": "display_data"
    },
    {
     "data": {
      "application/vnd.jupyter.widget-view+json": {
       "model_id": "",
       "version_major": 2,
       "version_minor": 0
      },
      "text/plain": [
       "  0%|          | 0/59 [00:00<?, ?it/s]"
      ]
     },
     "metadata": {},
     "output_type": "display_data"
    },
    {
     "data": {
      "application/vnd.jupyter.widget-view+json": {
       "model_id": "",
       "version_major": 2,
       "version_minor": 0
      },
      "text/plain": [
       "  0%|          | 0/24 [00:00<?, ?it/s]"
      ]
     },
     "metadata": {},
     "output_type": "display_data"
    },
    {
     "data": {
      "application/vnd.jupyter.widget-view+json": {
       "model_id": "",
       "version_major": 2,
       "version_minor": 0
      },
      "text/plain": [
       "  0%|          | 0/47 [00:00<?, ?it/s]"
      ]
     },
     "metadata": {},
     "output_type": "display_data"
    },
    {
     "data": {
      "application/vnd.jupyter.widget-view+json": {
       "model_id": "",
       "version_major": 2,
       "version_minor": 0
      },
      "text/plain": [
       "  0%|          | 0/28 [00:00<?, ?it/s]"
      ]
     },
     "metadata": {},
     "output_type": "display_data"
    },
    {
     "data": {
      "application/vnd.jupyter.widget-view+json": {
       "model_id": "",
       "version_major": 2,
       "version_minor": 0
      },
      "text/plain": [
       "  0%|          | 0/18 [00:00<?, ?it/s]"
      ]
     },
     "metadata": {},
     "output_type": "display_data"
    },
    {
     "data": {
      "application/vnd.jupyter.widget-view+json": {
       "model_id": "",
       "version_major": 2,
       "version_minor": 0
      },
      "text/plain": [
       "  0%|          | 0/84 [00:00<?, ?it/s]"
      ]
     },
     "metadata": {},
     "output_type": "display_data"
    },
    {
     "data": {
      "application/vnd.jupyter.widget-view+json": {
       "model_id": "",
       "version_major": 2,
       "version_minor": 0
      },
      "text/plain": [
       "  0%|          | 0/22 [00:00<?, ?it/s]"
      ]
     },
     "metadata": {},
     "output_type": "display_data"
    },
    {
     "data": {
      "application/vnd.jupyter.widget-view+json": {
       "model_id": "",
       "version_major": 2,
       "version_minor": 0
      },
      "text/plain": [
       "  0%|          | 0/18 [00:00<?, ?it/s]"
      ]
     },
     "metadata": {},
     "output_type": "display_data"
    },
    {
     "data": {
      "application/vnd.jupyter.widget-view+json": {
       "model_id": "",
       "version_major": 2,
       "version_minor": 0
      },
      "text/plain": [
       "  0%|          | 0/37 [00:00<?, ?it/s]"
      ]
     },
     "metadata": {},
     "output_type": "display_data"
    },
    {
     "data": {
      "application/vnd.jupyter.widget-view+json": {
       "model_id": "",
       "version_major": 2,
       "version_minor": 0
      },
      "text/plain": [
       "  0%|          | 0/46 [00:00<?, ?it/s]"
      ]
     },
     "metadata": {},
     "output_type": "display_data"
    },
    {
     "data": {
      "application/vnd.jupyter.widget-view+json": {
       "model_id": "",
       "version_major": 2,
       "version_minor": 0
      },
      "text/plain": [
       "  0%|          | 0/21 [00:00<?, ?it/s]"
      ]
     },
     "metadata": {},
     "output_type": "display_data"
    },
    {
     "name": "stdout",
     "output_type": "stream",
     "text": [
      "connectionpool:WARNING | 2024-05-25 16:17:08 +0000 | Retrying (Retry(total=4, connect=None, read=None, redirect=None, status=None)) after connection broken by 'ReadTimeoutError(\"HTTPSConnectionPool(host='api.elsevier.com', port=443): Read timed out. (read timeout=20)\")': /content/abstract/scopus_id/21244490530?view=FULL\n",
      "connectionpool:WARNING | 2024-05-25 16:17:29 +0000 | Retrying (Retry(total=4, connect=None, read=None, redirect=None, status=None)) after connection broken by 'ReadTimeoutError(\"HTTPSConnectionPool(host='api.elsevier.com', port=443): Read timed out. (read timeout=20)\")': /content/abstract/scopus_id/79251638446?view=FULL\n",
      "connectionpool:WARNING | 2024-05-25 16:17:53 +0000 | Retrying (Retry(total=4, connect=None, read=None, redirect=None, status=None)) after connection broken by 'ReadTimeoutError(\"HTTPSConnectionPool(host='api.elsevier.com', port=443): Read timed out. (read timeout=20)\")': /content/abstract/scopus_id/85053637839?view=FULL\n"
     ]
    },
    {
     "data": {
      "application/vnd.jupyter.widget-view+json": {
       "model_id": "",
       "version_major": 2,
       "version_minor": 0
      },
      "text/plain": [
       "  0%|          | 0/54 [00:00<?, ?it/s]"
      ]
     },
     "metadata": {},
     "output_type": "display_data"
    },
    {
     "name": "stdout",
     "output_type": "stream",
     "text": [
      "connectionpool:WARNING | 2024-05-25 16:18:19 +0000 | Retrying (Retry(total=4, connect=None, read=None, redirect=None, status=None)) after connection broken by 'ReadTimeoutError(\"HTTPSConnectionPool(host='api.elsevier.com', port=443): Read timed out. (read timeout=20)\")': /content/abstract/scopus_id/84875501712?view=FULL\n"
     ]
    },
    {
     "data": {
      "application/vnd.jupyter.widget-view+json": {
       "model_id": "",
       "version_major": 2,
       "version_minor": 0
      },
      "text/plain": [
       "  0%|          | 0/26 [00:00<?, ?it/s]"
      ]
     },
     "metadata": {},
     "output_type": "display_data"
    },
    {
     "data": {
      "application/vnd.jupyter.widget-view+json": {
       "model_id": "",
       "version_major": 2,
       "version_minor": 0
      },
      "text/plain": [
       "  0%|          | 0/30 [00:00<?, ?it/s]"
      ]
     },
     "metadata": {},
     "output_type": "display_data"
    },
    {
     "data": {
      "application/vnd.jupyter.widget-view+json": {
       "model_id": "",
       "version_major": 2,
       "version_minor": 0
      },
      "text/plain": [
       "  0%|          | 0/27 [00:00<?, ?it/s]"
      ]
     },
     "metadata": {},
     "output_type": "display_data"
    },
    {
     "data": {
      "application/vnd.jupyter.widget-view+json": {
       "model_id": "",
       "version_major": 2,
       "version_minor": 0
      },
      "text/plain": [
       "  0%|          | 0/87 [00:00<?, ?it/s]"
      ]
     },
     "metadata": {},
     "output_type": "display_data"
    },
    {
     "data": {
      "application/vnd.jupyter.widget-view+json": {
       "model_id": "",
       "version_major": 2,
       "version_minor": 0
      },
      "text/plain": [
       "  0%|          | 0/170 [00:00<?, ?it/s]"
      ]
     },
     "metadata": {},
     "output_type": "display_data"
    },
    {
     "data": {
      "application/vnd.jupyter.widget-view+json": {
       "model_id": "",
       "version_major": 2,
       "version_minor": 0
      },
      "text/plain": [
       "  0%|          | 0/35 [00:00<?, ?it/s]"
      ]
     },
     "metadata": {},
     "output_type": "display_data"
    },
    {
     "data": {
      "application/vnd.jupyter.widget-view+json": {
       "model_id": "",
       "version_major": 2,
       "version_minor": 0
      },
      "text/plain": [
       "  0%|          | 0/21 [00:00<?, ?it/s]"
      ]
     },
     "metadata": {},
     "output_type": "display_data"
    },
    {
     "data": {
      "application/vnd.jupyter.widget-view+json": {
       "model_id": "",
       "version_major": 2,
       "version_minor": 0
      },
      "text/plain": [
       "  0%|          | 0/66 [00:00<?, ?it/s]"
      ]
     },
     "metadata": {},
     "output_type": "display_data"
    },
    {
     "data": {
      "application/vnd.jupyter.widget-view+json": {
       "model_id": "",
       "version_major": 2,
       "version_minor": 0
      },
      "text/plain": [
       "  0%|          | 0/28 [00:00<?, ?it/s]"
      ]
     },
     "metadata": {},
     "output_type": "display_data"
    },
    {
     "data": {
      "application/vnd.jupyter.widget-view+json": {
       "model_id": "",
       "version_major": 2,
       "version_minor": 0
      },
      "text/plain": [
       "  0%|          | 0/37 [00:00<?, ?it/s]"
      ]
     },
     "metadata": {},
     "output_type": "display_data"
    },
    {
     "data": {
      "application/vnd.jupyter.widget-view+json": {
       "model_id": "",
       "version_major": 2,
       "version_minor": 0
      },
      "text/plain": [
       "  0%|          | 0/72 [00:00<?, ?it/s]"
      ]
     },
     "metadata": {},
     "output_type": "display_data"
    },
    {
     "data": {
      "application/vnd.jupyter.widget-view+json": {
       "model_id": "",
       "version_major": 2,
       "version_minor": 0
      },
      "text/plain": [
       "  0%|          | 0/78 [00:00<?, ?it/s]"
      ]
     },
     "metadata": {},
     "output_type": "display_data"
    },
    {
     "data": {
      "application/vnd.jupyter.widget-view+json": {
       "model_id": "",
       "version_major": 2,
       "version_minor": 0
      },
      "text/plain": [
       "  0%|          | 0/18 [00:00<?, ?it/s]"
      ]
     },
     "metadata": {},
     "output_type": "display_data"
    },
    {
     "data": {
      "application/vnd.jupyter.widget-view+json": {
       "model_id": "",
       "version_major": 2,
       "version_minor": 0
      },
      "text/plain": [
       "  0%|          | 0/84 [00:00<?, ?it/s]"
      ]
     },
     "metadata": {},
     "output_type": "display_data"
    },
    {
     "data": {
      "application/vnd.jupyter.widget-view+json": {
       "model_id": "",
       "version_major": 2,
       "version_minor": 0
      },
      "text/plain": [
       "  0%|          | 0/15 [00:00<?, ?it/s]"
      ]
     },
     "metadata": {},
     "output_type": "display_data"
    },
    {
     "data": {
      "application/vnd.jupyter.widget-view+json": {
       "model_id": "",
       "version_major": 2,
       "version_minor": 0
      },
      "text/plain": [
       "  0%|          | 0/68 [00:00<?, ?it/s]"
      ]
     },
     "metadata": {},
     "output_type": "display_data"
    },
    {
     "data": {
      "application/vnd.jupyter.widget-view+json": {
       "model_id": "",
       "version_major": 2,
       "version_minor": 0
      },
      "text/plain": [
       "  0%|          | 0/120 [00:00<?, ?it/s]"
      ]
     },
     "metadata": {},
     "output_type": "display_data"
    },
    {
     "data": {
      "application/vnd.jupyter.widget-view+json": {
       "model_id": "",
       "version_major": 2,
       "version_minor": 0
      },
      "text/plain": [
       "  0%|          | 0/186 [00:00<?, ?it/s]"
      ]
     },
     "metadata": {},
     "output_type": "display_data"
    },
    {
     "data": {
      "application/vnd.jupyter.widget-view+json": {
       "model_id": "",
       "version_major": 2,
       "version_minor": 0
      },
      "text/plain": [
       "  0%|          | 0/59 [00:00<?, ?it/s]"
      ]
     },
     "metadata": {},
     "output_type": "display_data"
    },
    {
     "data": {
      "application/vnd.jupyter.widget-view+json": {
       "model_id": "",
       "version_major": 2,
       "version_minor": 0
      },
      "text/plain": [
       "  0%|          | 0/6 [00:00<?, ?it/s]"
      ]
     },
     "metadata": {},
     "output_type": "display_data"
    },
    {
     "data": {
      "application/vnd.jupyter.widget-view+json": {
       "model_id": "",
       "version_major": 2,
       "version_minor": 0
      },
      "text/plain": [
       "  0%|          | 0/28 [00:00<?, ?it/s]"
      ]
     },
     "metadata": {},
     "output_type": "display_data"
    },
    {
     "data": {
      "application/vnd.jupyter.widget-view+json": {
       "model_id": "",
       "version_major": 2,
       "version_minor": 0
      },
      "text/plain": [
       "  0%|          | 0/50 [00:00<?, ?it/s]"
      ]
     },
     "metadata": {},
     "output_type": "display_data"
    },
    {
     "data": {
      "application/vnd.jupyter.widget-view+json": {
       "model_id": "",
       "version_major": 2,
       "version_minor": 0
      },
      "text/plain": [
       "  0%|          | 0/30 [00:00<?, ?it/s]"
      ]
     },
     "metadata": {},
     "output_type": "display_data"
    },
    {
     "data": {
      "application/vnd.jupyter.widget-view+json": {
       "model_id": "",
       "version_major": 2,
       "version_minor": 0
      },
      "text/plain": [
       "  0%|          | 0/25 [00:00<?, ?it/s]"
      ]
     },
     "metadata": {},
     "output_type": "display_data"
    },
    {
     "data": {
      "application/vnd.jupyter.widget-view+json": {
       "model_id": "",
       "version_major": 2,
       "version_minor": 0
      },
      "text/plain": [
       "  0%|          | 0/37 [00:00<?, ?it/s]"
      ]
     },
     "metadata": {},
     "output_type": "display_data"
    },
    {
     "data": {
      "application/vnd.jupyter.widget-view+json": {
       "model_id": "",
       "version_major": 2,
       "version_minor": 0
      },
      "text/plain": [
       "  0%|          | 0/45 [00:00<?, ?it/s]"
      ]
     },
     "metadata": {},
     "output_type": "display_data"
    },
    {
     "data": {
      "application/vnd.jupyter.widget-view+json": {
       "model_id": "",
       "version_major": 2,
       "version_minor": 0
      },
      "text/plain": [
       "  0%|          | 0/47 [00:00<?, ?it/s]"
      ]
     },
     "metadata": {},
     "output_type": "display_data"
    },
    {
     "data": {
      "application/vnd.jupyter.widget-view+json": {
       "model_id": "",
       "version_major": 2,
       "version_minor": 0
      },
      "text/plain": [
       "  0%|          | 0/24 [00:00<?, ?it/s]"
      ]
     },
     "metadata": {},
     "output_type": "display_data"
    },
    {
     "data": {
      "application/vnd.jupyter.widget-view+json": {
       "model_id": "",
       "version_major": 2,
       "version_minor": 0
      },
      "text/plain": [
       "  0%|          | 0/43 [00:00<?, ?it/s]"
      ]
     },
     "metadata": {},
     "output_type": "display_data"
    },
    {
     "data": {
      "application/vnd.jupyter.widget-view+json": {
       "model_id": "",
       "version_major": 2,
       "version_minor": 0
      },
      "text/plain": [
       "  0%|          | 0/57 [00:00<?, ?it/s]"
      ]
     },
     "metadata": {},
     "output_type": "display_data"
    },
    {
     "data": {
      "application/vnd.jupyter.widget-view+json": {
       "model_id": "",
       "version_major": 2,
       "version_minor": 0
      },
      "text/plain": [
       "  0%|          | 0/106 [00:00<?, ?it/s]"
      ]
     },
     "metadata": {},
     "output_type": "display_data"
    },
    {
     "data": {
      "application/vnd.jupyter.widget-view+json": {
       "model_id": "",
       "version_major": 2,
       "version_minor": 0
      },
      "text/plain": [
       "  0%|          | 0/16 [00:00<?, ?it/s]"
      ]
     },
     "metadata": {},
     "output_type": "display_data"
    },
    {
     "data": {
      "application/vnd.jupyter.widget-view+json": {
       "model_id": "",
       "version_major": 2,
       "version_minor": 0
      },
      "text/plain": [
       "  0%|          | 0/12 [00:00<?, ?it/s]"
      ]
     },
     "metadata": {},
     "output_type": "display_data"
    },
    {
     "data": {
      "application/vnd.jupyter.widget-view+json": {
       "model_id": "",
       "version_major": 2,
       "version_minor": 0
      },
      "text/plain": [
       "  0%|          | 0/50 [00:00<?, ?it/s]"
      ]
     },
     "metadata": {},
     "output_type": "display_data"
    },
    {
     "data": {
      "application/vnd.jupyter.widget-view+json": {
       "model_id": "",
       "version_major": 2,
       "version_minor": 0
      },
      "text/plain": [
       "  0%|          | 0/34 [00:00<?, ?it/s]"
      ]
     },
     "metadata": {},
     "output_type": "display_data"
    },
    {
     "data": {
      "application/vnd.jupyter.widget-view+json": {
       "model_id": "",
       "version_major": 2,
       "version_minor": 0
      },
      "text/plain": [
       "  0%|          | 0/44 [00:00<?, ?it/s]"
      ]
     },
     "metadata": {},
     "output_type": "display_data"
    },
    {
     "data": {
      "application/vnd.jupyter.widget-view+json": {
       "model_id": "",
       "version_major": 2,
       "version_minor": 0
      },
      "text/plain": [
       "  0%|          | 0/16 [00:00<?, ?it/s]"
      ]
     },
     "metadata": {},
     "output_type": "display_data"
    },
    {
     "data": {
      "application/vnd.jupyter.widget-view+json": {
       "model_id": "",
       "version_major": 2,
       "version_minor": 0
      },
      "text/plain": [
       "  0%|          | 0/36 [00:00<?, ?it/s]"
      ]
     },
     "metadata": {},
     "output_type": "display_data"
    },
    {
     "data": {
      "application/vnd.jupyter.widget-view+json": {
       "model_id": "",
       "version_major": 2,
       "version_minor": 0
      },
      "text/plain": [
       "  0%|          | 0/105 [00:00<?, ?it/s]"
      ]
     },
     "metadata": {},
     "output_type": "display_data"
    },
    {
     "data": {
      "application/vnd.jupyter.widget-view+json": {
       "model_id": "",
       "version_major": 2,
       "version_minor": 0
      },
      "text/plain": [
       "  0%|          | 0/53 [00:00<?, ?it/s]"
      ]
     },
     "metadata": {},
     "output_type": "display_data"
    },
    {
     "data": {
      "application/vnd.jupyter.widget-view+json": {
       "model_id": "",
       "version_major": 2,
       "version_minor": 0
      },
      "text/plain": [
       "  0%|          | 0/8 [00:00<?, ?it/s]"
      ]
     },
     "metadata": {},
     "output_type": "display_data"
    },
    {
     "data": {
      "application/vnd.jupyter.widget-view+json": {
       "model_id": "",
       "version_major": 2,
       "version_minor": 0
      },
      "text/plain": [
       "  0%|          | 0/66 [00:00<?, ?it/s]"
      ]
     },
     "metadata": {},
     "output_type": "display_data"
    },
    {
     "data": {
      "application/vnd.jupyter.widget-view+json": {
       "model_id": "",
       "version_major": 2,
       "version_minor": 0
      },
      "text/plain": [
       "  0%|          | 0/115 [00:00<?, ?it/s]"
      ]
     },
     "metadata": {},
     "output_type": "display_data"
    },
    {
     "data": {
      "application/vnd.jupyter.widget-view+json": {
       "model_id": "",
       "version_major": 2,
       "version_minor": 0
      },
      "text/plain": [
       "  0%|          | 0/30 [00:00<?, ?it/s]"
      ]
     },
     "metadata": {},
     "output_type": "display_data"
    },
    {
     "data": {
      "application/vnd.jupyter.widget-view+json": {
       "model_id": "",
       "version_major": 2,
       "version_minor": 0
      },
      "text/plain": [
       "  0%|          | 0/55 [00:00<?, ?it/s]"
      ]
     },
     "metadata": {},
     "output_type": "display_data"
    },
    {
     "data": {
      "application/vnd.jupyter.widget-view+json": {
       "model_id": "",
       "version_major": 2,
       "version_minor": 0
      },
      "text/plain": [
       "  0%|          | 0/15 [00:00<?, ?it/s]"
      ]
     },
     "metadata": {},
     "output_type": "display_data"
    },
    {
     "data": {
      "application/vnd.jupyter.widget-view+json": {
       "model_id": "",
       "version_major": 2,
       "version_minor": 0
      },
      "text/plain": [
       "  0%|          | 0/38 [00:00<?, ?it/s]"
      ]
     },
     "metadata": {},
     "output_type": "display_data"
    },
    {
     "data": {
      "application/vnd.jupyter.widget-view+json": {
       "model_id": "",
       "version_major": 2,
       "version_minor": 0
      },
      "text/plain": [
       "  0%|          | 0/27 [00:00<?, ?it/s]"
      ]
     },
     "metadata": {},
     "output_type": "display_data"
    },
    {
     "data": {
      "application/vnd.jupyter.widget-view+json": {
       "model_id": "",
       "version_major": 2,
       "version_minor": 0
      },
      "text/plain": [
       "  0%|          | 0/50 [00:00<?, ?it/s]"
      ]
     },
     "metadata": {},
     "output_type": "display_data"
    },
    {
     "data": {
      "application/vnd.jupyter.widget-view+json": {
       "model_id": "",
       "version_major": 2,
       "version_minor": 0
      },
      "text/plain": [
       "  0%|          | 0/19 [00:00<?, ?it/s]"
      ]
     },
     "metadata": {},
     "output_type": "display_data"
    },
    {
     "data": {
      "application/vnd.jupyter.widget-view+json": {
       "model_id": "",
       "version_major": 2,
       "version_minor": 0
      },
      "text/plain": [
       "  0%|          | 0/35 [00:00<?, ?it/s]"
      ]
     },
     "metadata": {},
     "output_type": "display_data"
    },
    {
     "data": {
      "application/vnd.jupyter.widget-view+json": {
       "model_id": "",
       "version_major": 2,
       "version_minor": 0
      },
      "text/plain": [
       "  0%|          | 0/75 [00:00<?, ?it/s]"
      ]
     },
     "metadata": {},
     "output_type": "display_data"
    },
    {
     "data": {
      "application/vnd.jupyter.widget-view+json": {
       "model_id": "",
       "version_major": 2,
       "version_minor": 0
      },
      "text/plain": [
       "  0%|          | 0/34 [00:00<?, ?it/s]"
      ]
     },
     "metadata": {},
     "output_type": "display_data"
    },
    {
     "data": {
      "application/vnd.jupyter.widget-view+json": {
       "model_id": "",
       "version_major": 2,
       "version_minor": 0
      },
      "text/plain": [
       "  0%|          | 0/45 [00:00<?, ?it/s]"
      ]
     },
     "metadata": {},
     "output_type": "display_data"
    },
    {
     "data": {
      "application/vnd.jupyter.widget-view+json": {
       "model_id": "",
       "version_major": 2,
       "version_minor": 0
      },
      "text/plain": [
       "  0%|          | 0/23 [00:00<?, ?it/s]"
      ]
     },
     "metadata": {},
     "output_type": "display_data"
    },
    {
     "data": {
      "application/vnd.jupyter.widget-view+json": {
       "model_id": "",
       "version_major": 2,
       "version_minor": 0
      },
      "text/plain": [
       "  0%|          | 0/31 [00:00<?, ?it/s]"
      ]
     },
     "metadata": {},
     "output_type": "display_data"
    },
    {
     "data": {
      "application/vnd.jupyter.widget-view+json": {
       "model_id": "",
       "version_major": 2,
       "version_minor": 0
      },
      "text/plain": [
       "  0%|          | 0/38 [00:00<?, ?it/s]"
      ]
     },
     "metadata": {},
     "output_type": "display_data"
    },
    {
     "data": {
      "application/vnd.jupyter.widget-view+json": {
       "model_id": "",
       "version_major": 2,
       "version_minor": 0
      },
      "text/plain": [
       "  0%|          | 0/19 [00:00<?, ?it/s]"
      ]
     },
     "metadata": {},
     "output_type": "display_data"
    },
    {
     "data": {
      "application/vnd.jupyter.widget-view+json": {
       "model_id": "",
       "version_major": 2,
       "version_minor": 0
      },
      "text/plain": [
       "  0%|          | 0/28 [00:00<?, ?it/s]"
      ]
     },
     "metadata": {},
     "output_type": "display_data"
    },
    {
     "data": {
      "application/vnd.jupyter.widget-view+json": {
       "model_id": "",
       "version_major": 2,
       "version_minor": 0
      },
      "text/plain": [
       "  0%|          | 0/49 [00:00<?, ?it/s]"
      ]
     },
     "metadata": {},
     "output_type": "display_data"
    },
    {
     "data": {
      "application/vnd.jupyter.widget-view+json": {
       "model_id": "",
       "version_major": 2,
       "version_minor": 0
      },
      "text/plain": [
       "  0%|          | 0/10 [00:00<?, ?it/s]"
      ]
     },
     "metadata": {},
     "output_type": "display_data"
    },
    {
     "data": {
      "application/vnd.jupyter.widget-view+json": {
       "model_id": "",
       "version_major": 2,
       "version_minor": 0
      },
      "text/plain": [
       "  0%|          | 0/37 [00:00<?, ?it/s]"
      ]
     },
     "metadata": {},
     "output_type": "display_data"
    },
    {
     "data": {
      "application/vnd.jupyter.widget-view+json": {
       "model_id": "",
       "version_major": 2,
       "version_minor": 0
      },
      "text/plain": [
       "  0%|          | 0/39 [00:00<?, ?it/s]"
      ]
     },
     "metadata": {},
     "output_type": "display_data"
    },
    {
     "data": {
      "application/vnd.jupyter.widget-view+json": {
       "model_id": "",
       "version_major": 2,
       "version_minor": 0
      },
      "text/plain": [
       "  0%|          | 0/12 [00:00<?, ?it/s]"
      ]
     },
     "metadata": {},
     "output_type": "display_data"
    },
    {
     "data": {
      "application/vnd.jupyter.widget-view+json": {
       "model_id": "",
       "version_major": 2,
       "version_minor": 0
      },
      "text/plain": [
       "  0%|          | 0/26 [00:00<?, ?it/s]"
      ]
     },
     "metadata": {},
     "output_type": "display_data"
    },
    {
     "data": {
      "application/vnd.jupyter.widget-view+json": {
       "model_id": "",
       "version_major": 2,
       "version_minor": 0
      },
      "text/plain": [
       "  0%|          | 0/129 [00:00<?, ?it/s]"
      ]
     },
     "metadata": {},
     "output_type": "display_data"
    },
    {
     "data": {
      "application/vnd.jupyter.widget-view+json": {
       "model_id": "",
       "version_major": 2,
       "version_minor": 0
      },
      "text/plain": [
       "  0%|          | 0/29 [00:00<?, ?it/s]"
      ]
     },
     "metadata": {},
     "output_type": "display_data"
    },
    {
     "data": {
      "application/vnd.jupyter.widget-view+json": {
       "model_id": "",
       "version_major": 2,
       "version_minor": 0
      },
      "text/plain": [
       "  0%|          | 0/99 [00:00<?, ?it/s]"
      ]
     },
     "metadata": {},
     "output_type": "display_data"
    },
    {
     "data": {
      "application/vnd.jupyter.widget-view+json": {
       "model_id": "",
       "version_major": 2,
       "version_minor": 0
      },
      "text/plain": [
       "  0%|          | 0/31 [00:00<?, ?it/s]"
      ]
     },
     "metadata": {},
     "output_type": "display_data"
    },
    {
     "data": {
      "application/vnd.jupyter.widget-view+json": {
       "model_id": "",
       "version_major": 2,
       "version_minor": 0
      },
      "text/plain": [
       "  0%|          | 0/33 [00:00<?, ?it/s]"
      ]
     },
     "metadata": {},
     "output_type": "display_data"
    },
    {
     "data": {
      "application/vnd.jupyter.widget-view+json": {
       "model_id": "",
       "version_major": 2,
       "version_minor": 0
      },
      "text/plain": [
       "  0%|          | 0/37 [00:00<?, ?it/s]"
      ]
     },
     "metadata": {},
     "output_type": "display_data"
    },
    {
     "data": {
      "application/vnd.jupyter.widget-view+json": {
       "model_id": "",
       "version_major": 2,
       "version_minor": 0
      },
      "text/plain": [
       "  0%|          | 0/68 [00:00<?, ?it/s]"
      ]
     },
     "metadata": {},
     "output_type": "display_data"
    },
    {
     "data": {
      "application/vnd.jupyter.widget-view+json": {
       "model_id": "",
       "version_major": 2,
       "version_minor": 0
      },
      "text/plain": [
       "  0%|          | 0/30 [00:00<?, ?it/s]"
      ]
     },
     "metadata": {},
     "output_type": "display_data"
    },
    {
     "data": {
      "application/vnd.jupyter.widget-view+json": {
       "model_id": "",
       "version_major": 2,
       "version_minor": 0
      },
      "text/plain": [
       "  0%|          | 0/22 [00:00<?, ?it/s]"
      ]
     },
     "metadata": {},
     "output_type": "display_data"
    },
    {
     "data": {
      "application/vnd.jupyter.widget-view+json": {
       "model_id": "",
       "version_major": 2,
       "version_minor": 0
      },
      "text/plain": [
       "  0%|          | 0/56 [00:00<?, ?it/s]"
      ]
     },
     "metadata": {},
     "output_type": "display_data"
    },
    {
     "data": {
      "application/vnd.jupyter.widget-view+json": {
       "model_id": "",
       "version_major": 2,
       "version_minor": 0
      },
      "text/plain": [
       "  0%|          | 0/13 [00:00<?, ?it/s]"
      ]
     },
     "metadata": {},
     "output_type": "display_data"
    },
    {
     "data": {
      "application/vnd.jupyter.widget-view+json": {
       "model_id": "",
       "version_major": 2,
       "version_minor": 0
      },
      "text/plain": [
       "  0%|          | 0/34 [00:00<?, ?it/s]"
      ]
     },
     "metadata": {},
     "output_type": "display_data"
    },
    {
     "data": {
      "application/vnd.jupyter.widget-view+json": {
       "model_id": "",
       "version_major": 2,
       "version_minor": 0
      },
      "text/plain": [
       "  0%|          | 0/37 [00:00<?, ?it/s]"
      ]
     },
     "metadata": {},
     "output_type": "display_data"
    },
    {
     "data": {
      "application/vnd.jupyter.widget-view+json": {
       "model_id": "",
       "version_major": 2,
       "version_minor": 0
      },
      "text/plain": [
       "  0%|          | 0/7 [00:00<?, ?it/s]"
      ]
     },
     "metadata": {},
     "output_type": "display_data"
    },
    {
     "data": {
      "application/vnd.jupyter.widget-view+json": {
       "model_id": "",
       "version_major": 2,
       "version_minor": 0
      },
      "text/plain": [
       "  0%|          | 0/21 [00:00<?, ?it/s]"
      ]
     },
     "metadata": {},
     "output_type": "display_data"
    },
    {
     "data": {
      "application/vnd.jupyter.widget-view+json": {
       "model_id": "",
       "version_major": 2,
       "version_minor": 0
      },
      "text/plain": [
       "  0%|          | 0/34 [00:00<?, ?it/s]"
      ]
     },
     "metadata": {},
     "output_type": "display_data"
    },
    {
     "data": {
      "application/vnd.jupyter.widget-view+json": {
       "model_id": "",
       "version_major": 2,
       "version_minor": 0
      },
      "text/plain": [
       "  0%|          | 0/32 [00:00<?, ?it/s]"
      ]
     },
     "metadata": {},
     "output_type": "display_data"
    },
    {
     "data": {
      "application/vnd.jupyter.widget-view+json": {
       "model_id": "",
       "version_major": 2,
       "version_minor": 0
      },
      "text/plain": [
       "  0%|          | 0/7 [00:00<?, ?it/s]"
      ]
     },
     "metadata": {},
     "output_type": "display_data"
    },
    {
     "data": {
      "application/vnd.jupyter.widget-view+json": {
       "model_id": "",
       "version_major": 2,
       "version_minor": 0
      },
      "text/plain": [
       "  0%|          | 0/67 [00:00<?, ?it/s]"
      ]
     },
     "metadata": {},
     "output_type": "display_data"
    },
    {
     "data": {
      "application/vnd.jupyter.widget-view+json": {
       "model_id": "",
       "version_major": 2,
       "version_minor": 0
      },
      "text/plain": [
       "  0%|          | 0/51 [00:00<?, ?it/s]"
      ]
     },
     "metadata": {},
     "output_type": "display_data"
    },
    {
     "data": {
      "application/vnd.jupyter.widget-view+json": {
       "model_id": "",
       "version_major": 2,
       "version_minor": 0
      },
      "text/plain": [
       "  0%|          | 0/42 [00:00<?, ?it/s]"
      ]
     },
     "metadata": {},
     "output_type": "display_data"
    },
    {
     "data": {
      "application/vnd.jupyter.widget-view+json": {
       "model_id": "",
       "version_major": 2,
       "version_minor": 0
      },
      "text/plain": [
       "  0%|          | 0/35 [00:00<?, ?it/s]"
      ]
     },
     "metadata": {},
     "output_type": "display_data"
    },
    {
     "data": {
      "application/vnd.jupyter.widget-view+json": {
       "model_id": "",
       "version_major": 2,
       "version_minor": 0
      },
      "text/plain": [
       "  0%|          | 0/25 [00:00<?, ?it/s]"
      ]
     },
     "metadata": {},
     "output_type": "display_data"
    },
    {
     "data": {
      "application/vnd.jupyter.widget-view+json": {
       "model_id": "",
       "version_major": 2,
       "version_minor": 0
      },
      "text/plain": [
       "  0%|          | 0/34 [00:00<?, ?it/s]"
      ]
     },
     "metadata": {},
     "output_type": "display_data"
    },
    {
     "data": {
      "application/vnd.jupyter.widget-view+json": {
       "model_id": "",
       "version_major": 2,
       "version_minor": 0
      },
      "text/plain": [
       "  0%|          | 0/22 [00:00<?, ?it/s]"
      ]
     },
     "metadata": {},
     "output_type": "display_data"
    },
    {
     "data": {
      "application/vnd.jupyter.widget-view+json": {
       "model_id": "",
       "version_major": 2,
       "version_minor": 0
      },
      "text/plain": [
       "  0%|          | 0/16 [00:00<?, ?it/s]"
      ]
     },
     "metadata": {},
     "output_type": "display_data"
    },
    {
     "data": {
      "application/vnd.jupyter.widget-view+json": {
       "model_id": "",
       "version_major": 2,
       "version_minor": 0
      },
      "text/plain": [
       "  0%|          | 0/114 [00:00<?, ?it/s]"
      ]
     },
     "metadata": {},
     "output_type": "display_data"
    },
    {
     "data": {
      "application/vnd.jupyter.widget-view+json": {
       "model_id": "",
       "version_major": 2,
       "version_minor": 0
      },
      "text/plain": [
       "  0%|          | 0/38 [00:00<?, ?it/s]"
      ]
     },
     "metadata": {},
     "output_type": "display_data"
    },
    {
     "data": {
      "application/vnd.jupyter.widget-view+json": {
       "model_id": "",
       "version_major": 2,
       "version_minor": 0
      },
      "text/plain": [
       "  0%|          | 0/10 [00:00<?, ?it/s]"
      ]
     },
     "metadata": {},
     "output_type": "display_data"
    },
    {
     "data": {
      "application/vnd.jupyter.widget-view+json": {
       "model_id": "",
       "version_major": 2,
       "version_minor": 0
      },
      "text/plain": [
       "  0%|          | 0/14 [00:00<?, ?it/s]"
      ]
     },
     "metadata": {},
     "output_type": "display_data"
    },
    {
     "data": {
      "application/vnd.jupyter.widget-view+json": {
       "model_id": "",
       "version_major": 2,
       "version_minor": 0
      },
      "text/plain": [
       "  0%|          | 0/43 [00:00<?, ?it/s]"
      ]
     },
     "metadata": {},
     "output_type": "display_data"
    },
    {
     "data": {
      "application/vnd.jupyter.widget-view+json": {
       "model_id": "",
       "version_major": 2,
       "version_minor": 0
      },
      "text/plain": [
       "  0%|          | 0/13 [00:00<?, ?it/s]"
      ]
     },
     "metadata": {},
     "output_type": "display_data"
    },
    {
     "data": {
      "application/vnd.jupyter.widget-view+json": {
       "model_id": "",
       "version_major": 2,
       "version_minor": 0
      },
      "text/plain": [
       "  0%|          | 0/36 [00:00<?, ?it/s]"
      ]
     },
     "metadata": {},
     "output_type": "display_data"
    },
    {
     "data": {
      "application/vnd.jupyter.widget-view+json": {
       "model_id": "",
       "version_major": 2,
       "version_minor": 0
      },
      "text/plain": [
       "  0%|          | 0/18 [00:00<?, ?it/s]"
      ]
     },
     "metadata": {},
     "output_type": "display_data"
    },
    {
     "data": {
      "application/vnd.jupyter.widget-view+json": {
       "model_id": "",
       "version_major": 2,
       "version_minor": 0
      },
      "text/plain": [
       "  0%|          | 0/55 [00:00<?, ?it/s]"
      ]
     },
     "metadata": {},
     "output_type": "display_data"
    },
    {
     "data": {
      "application/vnd.jupyter.widget-view+json": {
       "model_id": "",
       "version_major": 2,
       "version_minor": 0
      },
      "text/plain": [
       "  0%|          | 0/69 [00:00<?, ?it/s]"
      ]
     },
     "metadata": {},
     "output_type": "display_data"
    },
    {
     "data": {
      "application/vnd.jupyter.widget-view+json": {
       "model_id": "",
       "version_major": 2,
       "version_minor": 0
      },
      "text/plain": [
       "  0%|          | 0/45 [00:00<?, ?it/s]"
      ]
     },
     "metadata": {},
     "output_type": "display_data"
    },
    {
     "data": {
      "application/vnd.jupyter.widget-view+json": {
       "model_id": "",
       "version_major": 2,
       "version_minor": 0
      },
      "text/plain": [
       "  0%|          | 0/22 [00:00<?, ?it/s]"
      ]
     },
     "metadata": {},
     "output_type": "display_data"
    },
    {
     "data": {
      "application/vnd.jupyter.widget-view+json": {
       "model_id": "",
       "version_major": 2,
       "version_minor": 0
      },
      "text/plain": [
       "  0%|          | 0/19 [00:00<?, ?it/s]"
      ]
     },
     "metadata": {},
     "output_type": "display_data"
    },
    {
     "data": {
      "application/vnd.jupyter.widget-view+json": {
       "model_id": "",
       "version_major": 2,
       "version_minor": 0
      },
      "text/plain": [
       "  0%|          | 0/59 [00:00<?, ?it/s]"
      ]
     },
     "metadata": {},
     "output_type": "display_data"
    },
    {
     "data": {
      "application/vnd.jupyter.widget-view+json": {
       "model_id": "",
       "version_major": 2,
       "version_minor": 0
      },
      "text/plain": [
       "  0%|          | 0/17 [00:00<?, ?it/s]"
      ]
     },
     "metadata": {},
     "output_type": "display_data"
    },
    {
     "data": {
      "application/vnd.jupyter.widget-view+json": {
       "model_id": "",
       "version_major": 2,
       "version_minor": 0
      },
      "text/plain": [
       "  0%|          | 0/43 [00:00<?, ?it/s]"
      ]
     },
     "metadata": {},
     "output_type": "display_data"
    },
    {
     "data": {
      "application/vnd.jupyter.widget-view+json": {
       "model_id": "",
       "version_major": 2,
       "version_minor": 0
      },
      "text/plain": [
       "  0%|          | 0/12 [00:00<?, ?it/s]"
      ]
     },
     "metadata": {},
     "output_type": "display_data"
    },
    {
     "data": {
      "application/vnd.jupyter.widget-view+json": {
       "model_id": "",
       "version_major": 2,
       "version_minor": 0
      },
      "text/plain": [
       "  0%|          | 0/7 [00:00<?, ?it/s]"
      ]
     },
     "metadata": {},
     "output_type": "display_data"
    },
    {
     "data": {
      "application/vnd.jupyter.widget-view+json": {
       "model_id": "",
       "version_major": 2,
       "version_minor": 0
      },
      "text/plain": [
       "  0%|          | 0/26 [00:00<?, ?it/s]"
      ]
     },
     "metadata": {},
     "output_type": "display_data"
    },
    {
     "data": {
      "application/vnd.jupyter.widget-view+json": {
       "model_id": "",
       "version_major": 2,
       "version_minor": 0
      },
      "text/plain": [
       "  0%|          | 0/39 [00:00<?, ?it/s]"
      ]
     },
     "metadata": {},
     "output_type": "display_data"
    },
    {
     "data": {
      "application/vnd.jupyter.widget-view+json": {
       "model_id": "",
       "version_major": 2,
       "version_minor": 0
      },
      "text/plain": [
       "  0%|          | 0/39 [00:00<?, ?it/s]"
      ]
     },
     "metadata": {},
     "output_type": "display_data"
    },
    {
     "data": {
      "application/vnd.jupyter.widget-view+json": {
       "model_id": "",
       "version_major": 2,
       "version_minor": 0
      },
      "text/plain": [
       "  0%|          | 0/19 [00:00<?, ?it/s]"
      ]
     },
     "metadata": {},
     "output_type": "display_data"
    },
    {
     "data": {
      "application/vnd.jupyter.widget-view+json": {
       "model_id": "",
       "version_major": 2,
       "version_minor": 0
      },
      "text/plain": [
       "  0%|          | 0/35 [00:00<?, ?it/s]"
      ]
     },
     "metadata": {},
     "output_type": "display_data"
    },
    {
     "data": {
      "application/vnd.jupyter.widget-view+json": {
       "model_id": "",
       "version_major": 2,
       "version_minor": 0
      },
      "text/plain": [
       "  0%|          | 0/38 [00:00<?, ?it/s]"
      ]
     },
     "metadata": {},
     "output_type": "display_data"
    },
    {
     "data": {
      "application/vnd.jupyter.widget-view+json": {
       "model_id": "",
       "version_major": 2,
       "version_minor": 0
      },
      "text/plain": [
       "  0%|          | 0/15 [00:00<?, ?it/s]"
      ]
     },
     "metadata": {},
     "output_type": "display_data"
    },
    {
     "data": {
      "application/vnd.jupyter.widget-view+json": {
       "model_id": "",
       "version_major": 2,
       "version_minor": 0
      },
      "text/plain": [
       "  0%|          | 0/128 [00:00<?, ?it/s]"
      ]
     },
     "metadata": {},
     "output_type": "display_data"
    },
    {
     "data": {
      "application/vnd.jupyter.widget-view+json": {
       "model_id": "",
       "version_major": 2,
       "version_minor": 0
      },
      "text/plain": [
       "  0%|          | 0/12 [00:00<?, ?it/s]"
      ]
     },
     "metadata": {},
     "output_type": "display_data"
    },
    {
     "data": {
      "application/vnd.jupyter.widget-view+json": {
       "model_id": "",
       "version_major": 2,
       "version_minor": 0
      },
      "text/plain": [
       "  0%|          | 0/47 [00:00<?, ?it/s]"
      ]
     },
     "metadata": {},
     "output_type": "display_data"
    },
    {
     "data": {
      "application/vnd.jupyter.widget-view+json": {
       "model_id": "",
       "version_major": 2,
       "version_minor": 0
      },
      "text/plain": [
       "  0%|          | 0/30 [00:00<?, ?it/s]"
      ]
     },
     "metadata": {},
     "output_type": "display_data"
    },
    {
     "data": {
      "application/vnd.jupyter.widget-view+json": {
       "model_id": "",
       "version_major": 2,
       "version_minor": 0
      },
      "text/plain": [
       "  0%|          | 0/28 [00:00<?, ?it/s]"
      ]
     },
     "metadata": {},
     "output_type": "display_data"
    },
    {
     "data": {
      "application/vnd.jupyter.widget-view+json": {
       "model_id": "",
       "version_major": 2,
       "version_minor": 0
      },
      "text/plain": [
       "  0%|          | 0/63 [00:00<?, ?it/s]"
      ]
     },
     "metadata": {},
     "output_type": "display_data"
    },
    {
     "data": {
      "application/vnd.jupyter.widget-view+json": {
       "model_id": "",
       "version_major": 2,
       "version_minor": 0
      },
      "text/plain": [
       "  0%|          | 0/83 [00:00<?, ?it/s]"
      ]
     },
     "metadata": {},
     "output_type": "display_data"
    },
    {
     "data": {
      "application/vnd.jupyter.widget-view+json": {
       "model_id": "",
       "version_major": 2,
       "version_minor": 0
      },
      "text/plain": [
       "  0%|          | 0/33 [00:00<?, ?it/s]"
      ]
     },
     "metadata": {},
     "output_type": "display_data"
    },
    {
     "data": {
      "application/vnd.jupyter.widget-view+json": {
       "model_id": "",
       "version_major": 2,
       "version_minor": 0
      },
      "text/plain": [
       "  0%|          | 0/173 [00:00<?, ?it/s]"
      ]
     },
     "metadata": {},
     "output_type": "display_data"
    },
    {
     "data": {
      "application/vnd.jupyter.widget-view+json": {
       "model_id": "",
       "version_major": 2,
       "version_minor": 0
      },
      "text/plain": [
       "  0%|          | 0/26 [00:00<?, ?it/s]"
      ]
     },
     "metadata": {},
     "output_type": "display_data"
    },
    {
     "data": {
      "application/vnd.jupyter.widget-view+json": {
       "model_id": "",
       "version_major": 2,
       "version_minor": 0
      },
      "text/plain": [
       "  0%|          | 0/25 [00:00<?, ?it/s]"
      ]
     },
     "metadata": {},
     "output_type": "display_data"
    },
    {
     "data": {
      "application/vnd.jupyter.widget-view+json": {
       "model_id": "",
       "version_major": 2,
       "version_minor": 0
      },
      "text/plain": [
       "  0%|          | 0/41 [00:00<?, ?it/s]"
      ]
     },
     "metadata": {},
     "output_type": "display_data"
    },
    {
     "data": {
      "application/vnd.jupyter.widget-view+json": {
       "model_id": "",
       "version_major": 2,
       "version_minor": 0
      },
      "text/plain": [
       "  0%|          | 0/40 [00:00<?, ?it/s]"
      ]
     },
     "metadata": {},
     "output_type": "display_data"
    },
    {
     "data": {
      "application/vnd.jupyter.widget-view+json": {
       "model_id": "",
       "version_major": 2,
       "version_minor": 0
      },
      "text/plain": [
       "  0%|          | 0/39 [00:00<?, ?it/s]"
      ]
     },
     "metadata": {},
     "output_type": "display_data"
    },
    {
     "data": {
      "application/vnd.jupyter.widget-view+json": {
       "model_id": "",
       "version_major": 2,
       "version_minor": 0
      },
      "text/plain": [
       "  0%|          | 0/33 [00:00<?, ?it/s]"
      ]
     },
     "metadata": {},
     "output_type": "display_data"
    },
    {
     "data": {
      "application/vnd.jupyter.widget-view+json": {
       "model_id": "",
       "version_major": 2,
       "version_minor": 0
      },
      "text/plain": [
       "  0%|          | 0/39 [00:00<?, ?it/s]"
      ]
     },
     "metadata": {},
     "output_type": "display_data"
    },
    {
     "data": {
      "application/vnd.jupyter.widget-view+json": {
       "model_id": "",
       "version_major": 2,
       "version_minor": 0
      },
      "text/plain": [
       "  0%|          | 0/30 [00:00<?, ?it/s]"
      ]
     },
     "metadata": {},
     "output_type": "display_data"
    },
    {
     "data": {
      "application/vnd.jupyter.widget-view+json": {
       "model_id": "",
       "version_major": 2,
       "version_minor": 0
      },
      "text/plain": [
       "  0%|          | 0/15 [00:00<?, ?it/s]"
      ]
     },
     "metadata": {},
     "output_type": "display_data"
    },
    {
     "data": {
      "application/vnd.jupyter.widget-view+json": {
       "model_id": "",
       "version_major": 2,
       "version_minor": 0
      },
      "text/plain": [
       "  0%|          | 0/59 [00:00<?, ?it/s]"
      ]
     },
     "metadata": {},
     "output_type": "display_data"
    },
    {
     "data": {
      "application/vnd.jupyter.widget-view+json": {
       "model_id": "",
       "version_major": 2,
       "version_minor": 0
      },
      "text/plain": [
       "  0%|          | 0/12 [00:00<?, ?it/s]"
      ]
     },
     "metadata": {},
     "output_type": "display_data"
    },
    {
     "data": {
      "application/vnd.jupyter.widget-view+json": {
       "model_id": "",
       "version_major": 2,
       "version_minor": 0
      },
      "text/plain": [
       "  0%|          | 0/39 [00:00<?, ?it/s]"
      ]
     },
     "metadata": {},
     "output_type": "display_data"
    },
    {
     "data": {
      "application/vnd.jupyter.widget-view+json": {
       "model_id": "",
       "version_major": 2,
       "version_minor": 0
      },
      "text/plain": [
       "  0%|          | 0/276 [00:00<?, ?it/s]"
      ]
     },
     "metadata": {},
     "output_type": "display_data"
    },
    {
     "data": {
      "application/vnd.jupyter.widget-view+json": {
       "model_id": "",
       "version_major": 2,
       "version_minor": 0
      },
      "text/plain": [
       "  0%|          | 0/70 [00:00<?, ?it/s]"
      ]
     },
     "metadata": {},
     "output_type": "display_data"
    },
    {
     "data": {
      "application/vnd.jupyter.widget-view+json": {
       "model_id": "",
       "version_major": 2,
       "version_minor": 0
      },
      "text/plain": [
       "  0%|          | 0/38 [00:00<?, ?it/s]"
      ]
     },
     "metadata": {},
     "output_type": "display_data"
    },
    {
     "data": {
      "application/vnd.jupyter.widget-view+json": {
       "model_id": "3670bd5a6d8744ae9af6d59585d923dd",
       "version_major": 2,
       "version_minor": 0
      },
      "text/plain": [
       "  0%|          | 0/228 [00:00<?, ?it/s]"
      ]
     },
     "metadata": {},
     "output_type": "display_data"
    },
    {
     "name": "stdout",
     "output_type": "stream",
     "text": [
      "requests:ERROR | 2024-05-25 16:57:23 +0000 | Quota exceeded.\n",
      "graphs:WARNING | 2024-05-25 16:57:23 +0000 | Quota exceeded. Stopping build process. Save current state to resume later.\n",
      "graphs:INFO | 2024-05-25 16:57:27 +0000 | Graph successfully saved to results/citgraph_PPC-4_iter-1.pickle.\n",
      "graphs:WARNING | 2024-05-25 16:57:27 +0000 | Iteration 2 failed. Aborted.\n"
     ]
    },
    {
     "data": {
      "text/plain": [
       "False"
      ]
     },
     "execution_count": 8,
     "metadata": {},
     "output_type": "execute_result"
    }
   ],
   "source": [
    "cit_graph.resume_build_process(target_iter_depth=2)"
   ]
  },
  {
   "cell_type": "code",
   "execution_count": null,
   "metadata": {},
   "outputs": [],
   "source": []
  },
  {
   "cell_type": "code",
   "execution_count": null,
   "metadata": {},
   "outputs": [],
   "source": []
  },
  {
   "cell_type": "code",
   "execution_count": 9,
   "metadata": {},
   "outputs": [],
   "source": [
    "import datetime"
   ]
  },
  {
   "cell_type": "code",
   "execution_count": 11,
   "metadata": {},
   "outputs": [],
   "source": [
    "dt = datetime.datetime.now(tz=datetime.UTC)"
   ]
  },
  {
   "cell_type": "code",
   "execution_count": 12,
   "metadata": {},
   "outputs": [],
   "source": [
    "time_format = f'%Y-%m-%d_%H-%M-%S_%Z'"
   ]
  },
  {
   "cell_type": "code",
   "execution_count": 13,
   "metadata": {},
   "outputs": [
    {
     "data": {
      "text/plain": [
       "'2024-05-25_17-14-37_UTC'"
      ]
     },
     "execution_count": 13,
     "metadata": {},
     "output_type": "execute_result"
    }
   ],
   "source": [
    "dt.strftime(time_format)"
   ]
  },
  {
   "cell_type": "code",
   "execution_count": 23,
   "metadata": {},
   "outputs": [],
   "source": [
    "p = Path.cwd() / 'test.pkl'"
   ]
  },
  {
   "cell_type": "code",
   "execution_count": 34,
   "metadata": {},
   "outputs": [
    {
     "data": {
      "text/plain": [
       "PosixPath('/home/florianfoerster/programming/litcitgraph/test-notebooks/test_date.pkl')"
      ]
     },
     "execution_count": 34,
     "metadata": {},
     "output_type": "execute_result"
    }
   ],
   "source": [
    "p.with_name(p.stem + '_date').with_suffix('.pkl')"
   ]
  },
  {
   "cell_type": "code",
   "execution_count": 33,
   "metadata": {},
   "outputs": [
    {
     "ename": "AttributeError",
     "evalue": "property 'name' of 'PosixPath' object has no setter",
     "output_type": "error",
     "traceback": [
      "\u001b[0;31m---------------------------------------------------------------------------\u001b[0m",
      "\u001b[0;31mAttributeError\u001b[0m                            Traceback (most recent call last)",
      "Cell \u001b[0;32mIn[33], line 1\u001b[0m\n\u001b[0;32m----> 1\u001b[0m \u001b[43mp\u001b[49m\u001b[38;5;241;43m.\u001b[39;49m\u001b[43mname\u001b[49m \u001b[38;5;241m=\u001b[39m p\u001b[38;5;241m.\u001b[39mstem \u001b[38;5;241m+\u001b[39m \u001b[38;5;124m'\u001b[39m\u001b[38;5;124m_date\u001b[39m\u001b[38;5;124m'\u001b[39m\n",
      "\u001b[0;31mAttributeError\u001b[0m: property 'name' of 'PosixPath' object has no setter"
     ]
    }
   ],
   "source": [
    "p.name = p.stem + '_date'"
   ]
  },
  {
   "cell_type": "code",
   "execution_count": 31,
   "metadata": {},
   "outputs": [
    {
     "ename": "FileNotFoundError",
     "evalue": "[Errno 2] No such file or directory: '/home/florianfoerster/programming/litcitgraph/test-notebooks/test.pkl' -> 'test_date'",
     "output_type": "error",
     "traceback": [
      "\u001b[0;31m---------------------------------------------------------------------------\u001b[0m",
      "\u001b[0;31mFileNotFoundError\u001b[0m                         Traceback (most recent call last)",
      "Cell \u001b[0;32mIn[31], line 1\u001b[0m\n\u001b[0;32m----> 1\u001b[0m \u001b[43mp\u001b[49m\u001b[38;5;241;43m.\u001b[39;49m\u001b[43mreplace\u001b[49m\u001b[43m(\u001b[49m\u001b[43mnew\u001b[49m\u001b[43m)\u001b[49m\n",
      "File \u001b[0;32m~/.local/share/pdm/python/cpython@3.11.8/lib/python3.11/pathlib.py:1188\u001b[0m, in \u001b[0;36mPath.replace\u001b[0;34m(self, target)\u001b[0m\n\u001b[1;32m   1178\u001b[0m \u001b[38;5;28;01mdef\u001b[39;00m \u001b[38;5;21mreplace\u001b[39m(\u001b[38;5;28mself\u001b[39m, target):\n\u001b[1;32m   1179\u001b[0m \u001b[38;5;250m    \u001b[39m\u001b[38;5;124;03m\"\"\"\u001b[39;00m\n\u001b[1;32m   1180\u001b[0m \u001b[38;5;124;03m    Rename this path to the target path, overwriting if that path exists.\u001b[39;00m\n\u001b[1;32m   1181\u001b[0m \n\u001b[0;32m   (...)\u001b[0m\n\u001b[1;32m   1186\u001b[0m \u001b[38;5;124;03m    Returns the new Path instance pointing to the target path.\u001b[39;00m\n\u001b[1;32m   1187\u001b[0m \u001b[38;5;124;03m    \"\"\"\u001b[39;00m\n\u001b[0;32m-> 1188\u001b[0m     \u001b[43mos\u001b[49m\u001b[38;5;241;43m.\u001b[39;49m\u001b[43mreplace\u001b[49m\u001b[43m(\u001b[49m\u001b[38;5;28;43mself\u001b[39;49m\u001b[43m,\u001b[49m\u001b[43m \u001b[49m\u001b[43mtarget\u001b[49m\u001b[43m)\u001b[49m\n\u001b[1;32m   1189\u001b[0m     \u001b[38;5;28;01mreturn\u001b[39;00m \u001b[38;5;28mself\u001b[39m\u001b[38;5;241m.\u001b[39m\u001b[38;5;18m__class__\u001b[39m(target)\n",
      "\u001b[0;31mFileNotFoundError\u001b[0m: [Errno 2] No such file or directory: '/home/florianfoerster/programming/litcitgraph/test-notebooks/test.pkl' -> 'test_date'"
     ]
    }
   ],
   "source": [
    "p.replace(new)"
   ]
  },
  {
   "cell_type": "code",
   "execution_count": null,
   "metadata": {},
   "outputs": [],
   "source": []
  },
  {
   "cell_type": "code",
   "execution_count": null,
   "metadata": {},
   "outputs": [],
   "source": []
  },
  {
   "cell_type": "code",
   "execution_count": null,
   "metadata": {},
   "outputs": [],
   "source": []
  },
  {
   "cell_type": "code",
   "execution_count": 6,
   "metadata": {},
   "outputs": [
    {
     "name": "stdout",
     "output_type": "stream",
     "text": [
      "INFO:litcitgraph.graphs:Graph successfully saved to results\\citgraph_PPC-3_iter-1.pickle.\n"
     ]
    }
   ],
   "source": [
    "cit_graph.save_pickle(p_save)"
   ]
  },
  {
   "cell_type": "code",
   "execution_count": 8,
   "metadata": {},
   "outputs": [
    {
     "data": {
      "text/plain": [
       "{'iter_depth': 0,\n",
       " 'title': 'A Q-learning memetic algorithm for energy-efficient heterogeneous distributed assembly permutation flowshop scheduling considering priorities',\n",
       " 'authors': 'Luo, C.; Gong, W.; Ming, F.; Lu, C.',\n",
       " 'year': 2024,\n",
       " 'scopus_id': 85184079846,\n",
       " 'doi': '10.1016/j.swevo.2024.101497',\n",
       " 'eid': '2-s2.0-85184079846',\n",
       " 'scopus_url': 'https://www.scopus.com/inward/record.uri?partnerID=HzOxMe3b&scp=85184079846&origin=inward',\n",
       " 'pub_name': 'Swarm and Evolutionary Computation',\n",
       " 'pub_issn_print': '22106502',\n",
       " 'pub_issn_electronic': ''}"
      ]
     },
     "execution_count": 8,
     "metadata": {},
     "output_type": "execute_result"
    }
   ],
   "source": [
    "cit_graph.nodes[85184079846]"
   ]
  },
  {
   "cell_type": "code",
   "execution_count": 6,
   "metadata": {},
   "outputs": [
    {
     "name": "stdout",
     "output_type": "stream",
     "text": [
      "INFO:litcitgraph.graphs:Graph successfully saved to results\\citgraph_PPC-3_iter-1.pickle.\n"
     ]
    }
   ],
   "source": [
    "cit_graph.save_pickle(p_save)"
   ]
  },
  {
   "cell_type": "code",
   "execution_count": null,
   "metadata": {},
   "outputs": [],
   "source": []
  },
  {
   "cell_type": "code",
   "execution_count": null,
   "metadata": {},
   "outputs": [],
   "source": []
  },
  {
   "cell_type": "code",
   "execution_count": 7,
   "metadata": {},
   "outputs": [
    {
     "name": "stdout",
     "output_type": "stream",
     "text": [
      "INFO:litcitgraph.graphs:Starting iteration 1...\n",
      "INFO:litcitgraph.graphs:Iteration 1 was partially completed before. Resume...\n"
     ]
    },
    {
     "data": {
      "application/vnd.jupyter.widget-view+json": {
       "model_id": "6b3cd5e31f10451abf890cf2685477af",
       "version_major": 2,
       "version_minor": 0
      },
      "text/plain": [
       "  0%|          | 0/714 [00:00<?, ?it/s]"
      ]
     },
     "metadata": {},
     "output_type": "display_data"
    },
    {
     "data": {
      "application/vnd.jupyter.widget-view+json": {
       "model_id": "f27ef37fd24844be954aff22d35481e0",
       "version_major": 2,
       "version_minor": 0
      },
      "text/plain": [
       "  0%|          | 0/59 [00:00<?, ?it/s]"
      ]
     },
     "metadata": {},
     "output_type": "display_data"
    },
    {
     "ename": "KeyError",
     "evalue": "'$'",
     "output_type": "error",
     "traceback": [
      "\u001b[0;31m---------------------------------------------------------------------------\u001b[0m",
      "\u001b[0;31mKeyError\u001b[0m                                  Traceback (most recent call last)",
      "Cell \u001b[0;32mIn[7], line 1\u001b[0m\n\u001b[0;32m----> 1\u001b[0m \u001b[43mcit_graph\u001b[49m\u001b[38;5;241;43m.\u001b[39;49m\u001b[43mresume_build_process\u001b[49m\u001b[43m(\u001b[49m\u001b[43mtarget_iter_depth\u001b[49m\u001b[38;5;241;43m=\u001b[39;49m\u001b[38;5;241;43m1\u001b[39;49m\u001b[43m)\u001b[49m\n",
      "File \u001b[0;32m~/programming/litcitgraph/src/litcitgraph/graphs.py:244\u001b[0m, in \u001b[0;36mCitationGraph.resume_build_process\u001b[0;34m(self, target_iter_depth)\u001b[0m\n\u001b[1;32m    241\u001b[0m \u001b[38;5;28;01melse\u001b[39;00m:\n\u001b[1;32m    242\u001b[0m     logger\u001b[38;5;241m.\u001b[39minfo((\u001b[38;5;124mf\u001b[39m\u001b[38;5;124m\"\u001b[39m\u001b[38;5;124mIteration \u001b[39m\u001b[38;5;132;01m{\u001b[39;00mit\u001b[38;5;241m+\u001b[39m\u001b[38;5;241m1\u001b[39m\u001b[38;5;132;01m}\u001b[39;00m\u001b[38;5;124m was partially \u001b[39m\u001b[38;5;124m\"\u001b[39m\n\u001b[1;32m    243\u001b[0m                  \u001b[38;5;124m\"\u001b[39m\u001b[38;5;124mcompleted before. Resume...\u001b[39m\u001b[38;5;124m\"\u001b[39m))\n\u001b[0;32m--> 244\u001b[0m     \u001b[38;5;28;43mself\u001b[39;49m\u001b[38;5;241;43m.\u001b[39;49m\u001b[43m__iterate_partial\u001b[49m\u001b[43m(\u001b[49m\u001b[43m)\u001b[49m\n\u001b[1;32m    245\u001b[0m logger\u001b[38;5;241m.\u001b[39minfo(\u001b[38;5;124mf\u001b[39m\u001b[38;5;124m\"\u001b[39m\u001b[38;5;124mIteration \u001b[39m\u001b[38;5;132;01m{\u001b[39;00mit\u001b[38;5;241m+\u001b[39m\u001b[38;5;241m1\u001b[39m\u001b[38;5;132;01m}\u001b[39;00m\u001b[38;5;124m successfully completed.\u001b[39m\u001b[38;5;124m\"\u001b[39m)\n",
      "File \u001b[0;32m~/programming/litcitgraph/src/litcitgraph/graphs.py:191\u001b[0m, in \u001b[0;36mCitationGraph.__iterate_partial\u001b[0;34m(self)\u001b[0m\n\u001b[1;32m    189\u001b[0m target_papers \u001b[38;5;241m=\u001b[39m \u001b[38;5;28mfrozenset\u001b[39m(\u001b[38;5;28mself\u001b[39m\u001b[38;5;241m.\u001b[39mparent_papers_iter)\n\u001b[1;32m    190\u001b[0m \u001b[38;5;66;03m# parent and child papers saved from previous iteration as property\u001b[39;00m\n\u001b[0;32m--> 191\u001b[0m \u001b[38;5;28;43mself\u001b[39;49m\u001b[38;5;241;43m.\u001b[39;49m\u001b[43m__iterate\u001b[49m\u001b[43m(\u001b[49m\u001b[43mtarget_papers\u001b[49m\u001b[43m)\u001b[49m\n",
      "File \u001b[0;32m~/programming/litcitgraph/src/litcitgraph/graphs.py:203\u001b[0m, in \u001b[0;36mCitationGraph.__iterate\u001b[0;34m(self, target_papers)\u001b[0m\n\u001b[1;32m    199\u001b[0m parent_paper_current: PaperInfo \u001b[38;5;241m|\u001b[39m \u001b[38;5;28;01mNone\u001b[39;00m \u001b[38;5;241m=\u001b[39m \u001b[38;5;28;01mNone\u001b[39;00m\n\u001b[1;32m    201\u001b[0m references \u001b[38;5;241m=\u001b[39m get_refs_from_scopus(target_papers, target_iter_depth)\n\u001b[0;32m--> 203\u001b[0m \u001b[43m\u001b[49m\u001b[38;5;28;43;01mfor\u001b[39;49;00m\u001b[43m \u001b[49m\u001b[43mcount\u001b[49m\u001b[43m,\u001b[49m\u001b[43m \u001b[49m\u001b[43m(\u001b[49m\u001b[43mparent\u001b[49m\u001b[43m,\u001b[49m\u001b[43m \u001b[49m\u001b[43mchild\u001b[49m\u001b[43m)\u001b[49m\u001b[43m \u001b[49m\u001b[38;5;129;43;01min\u001b[39;49;00m\u001b[43m \u001b[49m\u001b[38;5;28;43menumerate\u001b[39;49m\u001b[43m(\u001b[49m\u001b[43mreferences\u001b[49m\u001b[43m)\u001b[49m\u001b[43m:\u001b[49m\n\u001b[1;32m    204\u001b[0m \u001b[43m    \u001b[49m\u001b[38;5;28;43mself\u001b[39;49m\u001b[38;5;241;43m.\u001b[39;49m\u001b[43mretrievals_total\u001b[49m\u001b[43m \u001b[49m\u001b[38;5;241;43m+\u001b[39;49m\u001b[38;5;241;43m=\u001b[39;49m\u001b[43m \u001b[49m\u001b[38;5;241;43m1\u001b[39;49m\n\u001b[1;32m    205\u001b[0m \u001b[43m    \u001b[49m\u001b[38;5;28;43;01mif\u001b[39;49;00m\u001b[43m \u001b[49m\u001b[43mparent_paper_current\u001b[49m\u001b[43m \u001b[49m\u001b[38;5;129;43;01mis\u001b[39;49;00m\u001b[43m \u001b[49m\u001b[38;5;28;43;01mNone\u001b[39;49;00m\u001b[43m:\u001b[49m\n",
      "File \u001b[0;32m~/programming/litcitgraph/src/litcitgraph/requests.py:159\u001b[0m, in \u001b[0;36mget_refs_from_scopus\u001b[0;34m(papers, iter_depth)\u001b[0m\n\u001b[1;32m    156\u001b[0m     \u001b[38;5;28;01mcontinue\u001b[39;00m\n\u001b[1;32m    158\u001b[0m \u001b[38;5;28;01mfor\u001b[39;00m ref \u001b[38;5;129;01min\u001b[39;00m tqdm(parent\u001b[38;5;241m.\u001b[39mrefs, position\u001b[38;5;241m=\u001b[39m\u001b[38;5;241m1\u001b[39m, leave\u001b[38;5;241m=\u001b[39m\u001b[38;5;28;01mFalse\u001b[39;00m):\n\u001b[0;32m--> 159\u001b[0m     child \u001b[38;5;241m=\u001b[39m \u001b[43mget_from_scopus\u001b[49m\u001b[43m(\u001b[49m\n\u001b[1;32m    160\u001b[0m \u001b[43m        \u001b[49m\u001b[43midentifier\u001b[49m\u001b[38;5;241;43m=\u001b[39;49m\u001b[43mref\u001b[49m\u001b[38;5;241;43m.\u001b[39;49m\u001b[43mscopus_id\u001b[49m\u001b[43m,\u001b[49m\n\u001b[1;32m    161\u001b[0m \u001b[43m        \u001b[49m\u001b[43mid_type\u001b[49m\u001b[38;5;241;43m=\u001b[39;49m\u001b[38;5;124;43m'\u001b[39;49m\u001b[38;5;124;43mscopus_id\u001b[39;49m\u001b[38;5;124;43m'\u001b[39;49m\u001b[43m,\u001b[49m\n\u001b[1;32m    162\u001b[0m \u001b[43m        \u001b[49m\u001b[43miter_depth\u001b[49m\u001b[38;5;241;43m=\u001b[39;49m\u001b[43miter_depth\u001b[49m\u001b[43m,\u001b[49m\n\u001b[1;32m    163\u001b[0m \u001b[43m    \u001b[49m\u001b[43m)\u001b[49m\n\u001b[1;32m    164\u001b[0m     \u001b[38;5;28;01myield\u001b[39;00m parent, child\n",
      "File \u001b[0;32m~/programming/litcitgraph/src/litcitgraph/requests.py:45\u001b[0m, in \u001b[0;36mretry_scopus.<locals>.wrapper.<locals>.wrapper_func\u001b[0;34m(*args, **kwargs)\u001b[0m\n\u001b[1;32m     43\u001b[0m \u001b[38;5;28;01mfor\u001b[39;00m attempt \u001b[38;5;129;01min\u001b[39;00m \u001b[38;5;28mrange\u001b[39m(\u001b[38;5;241m1\u001b[39m, (num_retries\u001b[38;5;241m+\u001b[39m\u001b[38;5;241m1\u001b[39m)):\n\u001b[1;32m     44\u001b[0m     \u001b[38;5;28;01mtry\u001b[39;00m:\n\u001b[0;32m---> 45\u001b[0m         \u001b[38;5;28;01mreturn\u001b[39;00m \u001b[43mfunc\u001b[49m\u001b[43m(\u001b[49m\u001b[38;5;241;43m*\u001b[39;49m\u001b[43margs\u001b[49m\u001b[43m,\u001b[49m\u001b[43m \u001b[49m\u001b[38;5;241;43m*\u001b[39;49m\u001b[38;5;241;43m*\u001b[39;49m\u001b[43mkwargs\u001b[49m\u001b[43m)\u001b[49m\n\u001b[1;32m     46\u001b[0m     \u001b[38;5;28;01mexcept\u001b[39;00m Scopus404Error:\n\u001b[1;32m     47\u001b[0m         logger\u001b[38;5;241m.\u001b[39minfo((\u001b[38;5;124mf\u001b[39m\u001b[38;5;124m\"\u001b[39m\u001b[38;5;124mDocument not found. Attempt \u001b[39m\u001b[38;5;132;01m{\u001b[39;00mattempt\u001b[38;5;132;01m}\u001b[39;00m\u001b[38;5;124m of \u001b[39m\u001b[38;5;124m\"\u001b[39m\n\u001b[1;32m     48\u001b[0m                      \u001b[38;5;124mf\u001b[39m\u001b[38;5;124m\"\u001b[39m\u001b[38;5;132;01m{\u001b[39;00mnum_retries\u001b[38;5;132;01m}\u001b[39;00m\u001b[38;5;124m.\u001b[39m\u001b[38;5;124m\"\u001b[39m))\n",
      "File \u001b[0;32m~/programming/litcitgraph/src/litcitgraph/requests.py:84\u001b[0m, in \u001b[0;36mget_from_scopus\u001b[0;34m(identifier, id_type, iter_depth, view)\u001b[0m\n\u001b[1;32m     82\u001b[0m references \u001b[38;5;241m=\u001b[39m retrieval\u001b[38;5;241m.\u001b[39mreferences\n\u001b[1;32m     83\u001b[0m pub_name \u001b[38;5;241m=\u001b[39m retrieval\u001b[38;5;241m.\u001b[39mpublicationName\n\u001b[0;32m---> 84\u001b[0m pub_issns \u001b[38;5;241m=\u001b[39m \u001b[43mretrieval\u001b[49m\u001b[38;5;241;43m.\u001b[39;49m\u001b[43missn\u001b[49m\n\u001b[1;32m     86\u001b[0m \u001b[38;5;28;01mif\u001b[39;00m title \u001b[38;5;129;01mis\u001b[39;00m \u001b[38;5;28;01mNone\u001b[39;00m:\n\u001b[1;32m     87\u001b[0m     logger\u001b[38;5;241m.\u001b[39mwarning(\u001b[38;5;124mf\u001b[39m\u001b[38;5;124m\"\u001b[39m\u001b[38;5;132;01m{\u001b[39;00midentifier\u001b[38;5;132;01m=}\u001b[39;00m\u001b[38;5;124m not containing title.\u001b[39m\u001b[38;5;124m\"\u001b[39m)\n",
      "File \u001b[0;32m~/programming/litcitgraph/.venv/lib/python3.11/site-packages/pybliometrics/scopus/abstract_retrieval.py:365\u001b[0m, in \u001b[0;36mAbstractRetrieval.issn\u001b[0;34m(self)\u001b[0m\n\u001b[1;32m    363\u001b[0m \u001b[38;5;28;01mfor\u001b[39;00m t \u001b[38;5;129;01min\u001b[39;00m info:\n\u001b[1;32m    364\u001b[0m     \u001b[38;5;28;01mtry\u001b[39;00m:\n\u001b[0;32m--> 365\u001b[0m         container[t[\u001b[38;5;124m\"\u001b[39m\u001b[38;5;124m@type\u001b[39m\u001b[38;5;124m\"\u001b[39m]] \u001b[38;5;241m=\u001b[39m \u001b[43mt\u001b[49m\u001b[43m[\u001b[49m\u001b[38;5;124;43m\"\u001b[39;49m\u001b[38;5;124;43m$\u001b[39;49m\u001b[38;5;124;43m\"\u001b[39;49m\u001b[43m]\u001b[49m\n\u001b[1;32m    366\u001b[0m     \u001b[38;5;28;01mexcept\u001b[39;00m \u001b[38;5;167;01mTypeError\u001b[39;00m:\n\u001b[1;32m    367\u001b[0m         container[\u001b[38;5;124m\"\u001b[39m\u001b[38;5;124mprint\u001b[39m\u001b[38;5;124m\"\u001b[39m] \u001b[38;5;241m=\u001b[39m t\n",
      "\u001b[0;31mKeyError\u001b[0m: '$'"
     ]
    }
   ],
   "source": [
    "cit_graph.resume_build_process(target_iter_depth=1)"
   ]
  },
  {
   "cell_type": "code",
   "execution_count": 7,
   "metadata": {},
   "outputs": [],
   "source": [
    "p_save_base = Path('./results/citgraph_test.pkl')\n",
    "cit_graph_base = CitationGraph.load_pickle(p_save_base)"
   ]
  },
  {
   "cell_type": "code",
   "execution_count": 8,
   "metadata": {},
   "outputs": [
    {
     "name": "stdout",
     "output_type": "stream",
     "text": [
      "CitationGraph named 'CitationGraph' with 155 nodes and 160 edges\n",
      "201\n",
      "37\n"
     ]
    }
   ],
   "source": [
    "print(cit_graph_base)\n",
    "print(cit_graph_base.retrievals_total)\n",
    "print(cit_graph_base.retrievals_failed)"
   ]
  },
  {
   "cell_type": "code",
   "execution_count": null,
   "metadata": {},
   "outputs": [],
   "source": []
  },
  {
   "cell_type": "code",
   "execution_count": 7,
   "metadata": {},
   "outputs": [
    {
     "data": {
      "text/plain": [
       "False"
      ]
     },
     "execution_count": 7,
     "metadata": {},
     "output_type": "execute_result"
    }
   ],
   "source": [
    "cit_graph.iteration_completed"
   ]
  },
  {
   "cell_type": "code",
   "execution_count": 9,
   "metadata": {},
   "outputs": [
    {
     "name": "stdout",
     "output_type": "stream",
     "text": [
      "INFO:litcitgraph.graphs:Starting iteration 1...\n",
      "INFO:litcitgraph.graphs:Iteration 1 was partially completed before. Resume...\n"
     ]
    },
    {
     "data": {
      "application/vnd.jupyter.widget-view+json": {
       "model_id": "692ad0c3b6444e249ff44037aff102b4",
       "version_major": 2,
       "version_minor": 0
      },
      "text/plain": [
       "  0%|          | 0/2 [00:00<?, ?it/s]"
      ]
     },
     "metadata": {},
     "output_type": "display_data"
    },
    {
     "data": {
      "application/vnd.jupyter.widget-view+json": {
       "model_id": "",
       "version_major": 2,
       "version_minor": 0
      },
      "text/plain": [
       "  0%|          | 0/70 [00:00<?, ?it/s]"
      ]
     },
     "metadata": {},
     "output_type": "display_data"
    },
    {
     "data": {
      "application/vnd.jupyter.widget-view+json": {
       "model_id": "",
       "version_major": 2,
       "version_minor": 0
      },
      "text/plain": [
       "  0%|          | 0/29 [00:00<?, ?it/s]"
      ]
     },
     "metadata": {},
     "output_type": "display_data"
    },
    {
     "name": "stdout",
     "output_type": "stream",
     "text": [
      "INFO:litcitgraph.graphs:Iteration 1 successfully completed.\n"
     ]
    }
   ],
   "source": [
    "cit_graph.resume_build_process(target_iter_depth=1)"
   ]
  },
  {
   "cell_type": "code",
   "execution_count": 10,
   "metadata": {},
   "outputs": [
    {
     "data": {
      "text/plain": [
       "CitationGraph(name=CitationGraph, iter_depth=1, number of nodes: 155, number of edges: 160)"
      ]
     },
     "execution_count": 10,
     "metadata": {},
     "output_type": "execute_result"
    }
   ],
   "source": [
    "cit_graph"
   ]
  },
  {
   "cell_type": "code",
   "execution_count": null,
   "metadata": {},
   "outputs": [],
   "source": []
  },
  {
   "cell_type": "code",
   "execution_count": 12,
   "metadata": {},
   "outputs": [
    {
     "name": "stdout",
     "output_type": "stream",
     "text": [
      "CitationGraph named 'CitationGraph' with 155 nodes and 160 edges\n",
      "201\n",
      "37\n"
     ]
    }
   ],
   "source": [
    "print(cit_graph)\n",
    "print(cit_graph.retrievals_total)\n",
    "print(cit_graph.retrievals_failed)"
   ]
  },
  {
   "cell_type": "code",
   "execution_count": 16,
   "metadata": {
    "scrolled": true
   },
   "outputs": [
    {
     "data": {
      "text/plain": [
       "{PaperInfo(iter_depth=1, title='A Bi-Population Cooperative Memetic Algorithm for Distributed Hybrid Flow-Shop Scheduling', authors='Wang, J.-J.; Wang, L.', year=2021, scopus_id=85098046611, doi='10.1109/TETCI.2020.3022372', eid='2-s2.0-85098046611', scopus_url='https://www.scopus.com/inward/record.uri?partnerID=HzOxMe3b&scp=85098046611&origin=inward', refs=frozenset({Reference(scopus_id=85077743745, doi=None), Reference(scopus_id=84900826371, doi=None), Reference(scopus_id=31118203, doi=None), Reference(scopus_id=77951278725, doi=None), Reference(scopus_id=75849147656, doi=None), Reference(scopus_id=16952078, doi=None), Reference(scopus_id=85064969487, doi=None), Reference(scopus_id=84860333585, doi=None), Reference(scopus_id=20699921, doi=None), Reference(scopus_id=85040939028, doi=None), Reference(scopus_id=85043600917, doi=None), Reference(scopus_id=79956080278, doi=None), Reference(scopus_id=85082819863, doi=None), Reference(scopus_id=33847676312, doi=None), Reference(scopus_id=84897692569, doi=None), Reference(scopus_id=29636121, doi=None), Reference(scopus_id=85085403171, doi=None), Reference(scopus_id=85050924838, doi=None), Reference(scopus_id=34818087, doi=None), Reference(scopus_id=73449099561, doi=None), Reference(scopus_id=85085861804, doi=None), Reference(scopus_id=85065170612, doi=None), Reference(scopus_id=85063770551, doi=None), Reference(scopus_id=85006427576, doi=None), Reference(scopus_id=84904612535, doi=None), Reference(scopus_id=84859625015, doi=None), Reference(scopus_id=84887626173, doi=None), Reference(scopus_id=84905189822, doi=None), Reference(scopus_id=70350752447, doi=None), Reference(scopus_id=84980390464, doi=None), Reference(scopus_id=85133924544, doi=None), Reference(scopus_id=77954600003, doi=None), Reference(scopus_id=85044293828, doi=None), Reference(scopus_id=84893363396, doi=None), Reference(scopus_id=84949527882, doi=None), Reference(scopus_id=67650145870, doi=None), Reference(scopus_id=85029782486, doi=None), Reference(scopus_id=84880923608, doi=None), Reference(scopus_id=23995996, doi=None), Reference(scopus_id=84913621341, doi=None), Reference(scopus_id=85009290727, doi=None), Reference(scopus_id=85073087851, doi=None), Reference(scopus_id=84969802860, doi=None), Reference(scopus_id=84995488495, doi=None), Reference(scopus_id=84980417136, doi=None), Reference(scopus_id=3529332, doi=None), Reference(scopus_id=84928605302, doi=None), Reference(scopus_id=84940703097, doi=None), Reference(scopus_id=85051147002, doi=None), Reference(scopus_id=85060842235, doi=None), Reference(scopus_id=33847661566, doi=None)}), pub_name='IEEE Transactions on Emerging Topics in Computational Intelligence', pub_issn_print='2471285X', pub_issn_electronic='2471285X'),\n",
       " PaperInfo(iter_depth=1, title='A Cooperative Memetic Algorithm with Learning-Based Agent for Energy-Aware Distributed Hybrid Flow-Shop Scheduling', authors='Wang, J.-J.; Wang, L.', year=2022, scopus_id=85113352057, doi='10.1109/TEVC.2021.3106168', eid='2-s2.0-85113352057', scopus_url='https://www.scopus.com/inward/record.uri?partnerID=HzOxMe3b&scp=85113352057&origin=inward', refs=frozenset({Reference(scopus_id=84900826371, doi=None), Reference(scopus_id=85079406854, doi=None), Reference(scopus_id=85140424199, doi=None), Reference(scopus_id=34548108555, doi=None), Reference(scopus_id=20699921, doi=None), Reference(scopus_id=80054688019, doi=None), Reference(scopus_id=85040939028, doi=None), Reference(scopus_id=80054680608, doi=None), Reference(scopus_id=84881156644, doi=None), Reference(scopus_id=84931301924, doi=None), Reference(scopus_id=85050924838, doi=None), Reference(scopus_id=73449099561, doi=None), Reference(scopus_id=69749098025, doi=None), Reference(scopus_id=85085516073, doi=None), Reference(scopus_id=85069632814, doi=None), Reference(scopus_id=84980390464, doi=None), Reference(scopus_id=85042369089, doi=None), Reference(scopus_id=77954600003, doi=None), Reference(scopus_id=85051147002, doi=None), Reference(scopus_id=77955328837, doi=None), Reference(scopus_id=85038368581, doi=None), Reference(scopus_id=3770182, doi=None), Reference(scopus_id=84949527882, doi=None), Reference(scopus_id=85123078478, doi='10.1109/TCYB.2020.3026571'), Reference(scopus_id=4102479, doi=None), Reference(scopus_id=25144444242, doi=None), Reference(scopus_id=36530772, doi=None), Reference(scopus_id=84861589845, doi=None), Reference(scopus_id=23995996, doi=None), Reference(scopus_id=85064833116, doi=None), Reference(scopus_id=84969802860, doi=None), Reference(scopus_id=84928605302, doi=None), Reference(scopus_id=84876099449, doi=None), Reference(scopus_id=77951278725, doi=None), Reference(scopus_id=85040683143, doi=None), Reference(scopus_id=85043571335, doi=None), Reference(scopus_id=85087520136, doi=None), Reference(scopus_id=85098046611, doi='10.1109/TETCI.2020.3022372'), Reference(scopus_id=31744438420, doi=None), Reference(scopus_id=84952120470, doi=None), Reference(scopus_id=33847676312, doi=None), Reference(scopus_id=84886724001, doi=None), Reference(scopus_id=77958151592, doi=None), Reference(scopus_id=84958619818, doi=None), Reference(scopus_id=85117857194, doi=None), Reference(scopus_id=85045539499, doi=None), Reference(scopus_id=85065170612, doi=None), Reference(scopus_id=34548395445, doi=None), Reference(scopus_id=84945454006, doi=None), Reference(scopus_id=84904612535, doi=None), Reference(scopus_id=85006427576, doi=None), Reference(scopus_id=29488569, doi=None), Reference(scopus_id=84887626173, doi=None), Reference(scopus_id=84905189822, doi=None), Reference(scopus_id=70350752447, doi=None), Reference(scopus_id=85133924544, doi=None), Reference(scopus_id=84893363396, doi=None), Reference(scopus_id=85044293828, doi=None), Reference(scopus_id=85088309446, doi=None), Reference(scopus_id=85029782486, doi=None), Reference(scopus_id=84880923608, doi=None), Reference(scopus_id=85029294814, doi=None), Reference(scopus_id=78650636006, doi=None), Reference(scopus_id=85068417768, doi=None), Reference(scopus_id=84879422697, doi=None), Reference(scopus_id=37936618, doi=None), Reference(scopus_id=84995488495, doi=None), Reference(scopus_id=85096744186, doi=None), Reference(scopus_id=33847661566, doi=None)}), pub_name='IEEE Transactions on Evolutionary Computation', pub_issn_print='1089778X', pub_issn_electronic='19410026'),\n",
       " PaperInfo(iter_depth=1, title='A Deep Reinforcement Learning Framework Based on an Attention Mechanism and Disjunctive Graph Embedding for the Job-Shop Scheduling Problem', authors='Chen, R.; Li, W.; Yang, H.', year=2023, scopus_id=85128664277, doi='10.1109/TII.2022.3167380', eid='2-s2.0-85128664277', scopus_url='https://www.scopus.com/inward/record.uri?partnerID=HzOxMe3b&scp=85128664277&origin=inward', refs=frozenset({Reference(scopus_id=84926142080, doi=None), Reference(scopus_id=3935111, doi=None), Reference(scopus_id=84902790536, doi=None), Reference(scopus_id=85094370570, doi=None), Reference(scopus_id=85100138902, doi=None), Reference(scopus_id=29752345, doi=None), Reference(scopus_id=84960193567, doi=None), Reference(scopus_id=85087543072, doi=None), Reference(scopus_id=85048890789, doi=None), Reference(scopus_id=70349577894, doi=None), Reference(scopus_id=2381223, doi=None), Reference(scopus_id=84984991274, doi=None), Reference(scopus_id=85051390380, doi=None), Reference(scopus_id=23977010, doi=None), Reference(scopus_id=84965173945, doi=None), Reference(scopus_id=84960540474, doi=None), Reference(scopus_id=85077250493, doi=None), Reference(scopus_id=84910066372, doi=None), Reference(scopus_id=85068618692, doi=None), Reference(scopus_id=85043317328, doi=None), Reference(scopus_id=518993, doi=None), Reference(scopus_id=84894543184, doi=None), Reference(scopus_id=85028015443, doi=None), Reference(scopus_id=84953874512, doi=None), Reference(scopus_id=33699671, doi=None), Reference(scopus_id=85081140568, doi=None), Reference(scopus_id=85047335517, doi=None), Reference(scopus_id=85063462750, doi=None), Reference(scopus_id=85046347373, doi=None), Reference(scopus_id=85051498989, doi=None), Reference(scopus_id=43949161199, doi=None), Reference(scopus_id=24122608, doi=None), Reference(scopus_id=85048864239, doi=None), Reference(scopus_id=3404021, doi=None), Reference(scopus_id=85084170875, doi=None)}), pub_name='IEEE Transactions on Industrial Informatics', pub_issn_print='15513203', pub_issn_electronic='19410050'),\n",
       " PaperInfo(iter_depth=1, title='A Hyperheuristic with Q-Learning for the Multiobjective Energy-Efficient Distributed Blocking Flow Shop Scheduling Problem', authors='Zhao, F.; Di, S.; Wang, L.', year=2023, scopus_id=85137582306, doi='10.1109/TCYB.2022.3192112', eid='2-s2.0-85137582306', scopus_url='https://www.scopus.com/inward/record.uri?partnerID=HzOxMe3b&scp=85137582306&origin=inward', refs=frozenset({Reference(scopus_id=85111373319, doi='10.1007/s11227-021-03998-9'), Reference(scopus_id=34249833101, doi='10.1007/BF00992698'), Reference(scopus_id=16952078, doi='10.1287/MOOR.1.2.117'), Reference(scopus_id=84923817617, doi='10.1016/J.ASOC.2015.02.006'), Reference(scopus_id=85113293203, doi='10.1109/TCYB.2021.3086181'), Reference(scopus_id=85040939028, doi='10.1109/TSMC.2017.2788879'), Reference(scopus_id=85107089301, doi='10.1016/J.ASOC.2021.107526'), Reference(scopus_id=85090940182, doi='10.1016/J.ASOC.2020.106629'), Reference(scopus_id=85101403291, doi='10.1016/J.ENGAPPAI.2021.104196'), Reference(scopus_id=85085726495, doi='10.1016/J.SWEVO.2020.100716'), Reference(scopus_id=85018385184, doi='10.1016/J.SWEVO.2017.04.007'), Reference(scopus_id=85024843684, doi='10.5455/jjcit.71-1480540385'), Reference(scopus_id=85118944292, doi='10.1016/J.FUTURE.2021.10.003'), Reference(scopus_id=85041482532, doi='10.1016/J.INS.2018.01.005'), Reference(scopus_id=84945454006, doi='10.1016/J.EJOR.2015.05.019'), Reference(scopus_id=85082828858, doi='10.1016/J.CIE.2020.106778'), Reference(scopus_id=85119590458, doi='10.1109/TCYB.2021.3112675'), Reference(scopus_id=84978878268, doi='10.1007/978-3-319-42291-6_48'), Reference(scopus_id=85161295292, doi='10.1109/TEVC.2021.3115795'), Reference(scopus_id=70350752447, doi='10.1016/J.COR.2009.06.019'), Reference(scopus_id=85098781376, doi='10.1109/TCYB.2020.3032995'), Reference(scopus_id=85088130497, doi='10.1016/J.ESWA.2020.113678'), Reference(scopus_id=85118347456, doi='10.1016/J.SWEVO.2021.100992'), Reference(scopus_id=85103172291, doi='10.1109/TCYB.2020.3024849'), Reference(scopus_id=85044293828, doi='10.1016/j.omega.2018.03.004'), Reference(scopus_id=85084184772, doi='10.1016/J.ASOC.2020.106343'), Reference(scopus_id=85078758214, doi='10.1016/J.KNOSYS.2020.105536'), Reference(scopus_id=85018656197, doi='10.1016/J.COR.2017.04.004'), Reference(scopus_id=85096850760, doi='10.1016/J.SWEVO.2020.100807'), Reference(scopus_id=85077704906, doi='10.1016/J.EJOR.2019.07.073'), Reference(scopus_id=85123078478, doi='10.1109/TCYB.2020.3026571'), Reference(scopus_id=85099678542, doi='10.1016/j.asoc.2021.107113'), Reference(scopus_id=85069718865, doi='10.1016/J.SWEVO.2019.100557'), Reference(scopus_id=85053542482, doi='10.1016/J.ENGAPPAI.2018.09.005'), Reference(scopus_id=85076831583, doi='10.1016/J.ESWA.2019.113147'), Reference(scopus_id=85078150371, doi='10.1016/J.KNOSYS.2020.105527'), Reference(scopus_id=85009290727, doi='10.1016/J.ESWA.2017.01.006'), Reference(scopus_id=85117246316, doi='10.1016/J.ESWA.2021.115978'), Reference(scopus_id=85059046766, doi='10.1109/TCYB.2018.2817240'), Reference(scopus_id=85053665902, doi=None), Reference(scopus_id=85124395120, doi='10.23919/CSMS.2021.0027'), Reference(scopus_id=84941600881, doi='10.1016/J.KNOSYS.2015.07.028'), Reference(scopus_id=85088813554, doi='10.1007/S10489-020-01809-X'), Reference(scopus_id=27201278, doi='10.1016/0377-2217(93)90182-M'), Reference(scopus_id=84921411064, doi='10.1109/TCYB.2014.2323936'), Reference(scopus_id=85105598974, doi='10.1016/J.ENGAPPAI.2021.104284')}), pub_name='IEEE Transactions on Cybernetics', pub_issn_print='21682267', pub_issn_electronic='21682275'),\n",
       " PaperInfo(iter_depth=1, title='A Learning-Based Memetic Algorithm for Energy-Efficient Flexible Job-Shop Scheduling With Type-2 Fuzzy Processing Time', authors='Li, R.; Gong, W.; Lu, C.; Wang, L.', year=2023, scopus_id=85130478396, doi='10.1109/TEVC.2022.3175832', eid='2-s2.0-85130478396', scopus_url='https://www.scopus.com/inward/record.uri?partnerID=HzOxMe3b&scp=85130478396&origin=inward', refs=frozenset({Reference(scopus_id=84861871365, doi=None), Reference(scopus_id=77951278725, doi=None), Reference(scopus_id=84995578631, doi=None), Reference(scopus_id=85099094024, doi='10.1109/TCYB.2020.3041494'), Reference(scopus_id=34548108555, doi=None), Reference(scopus_id=85102798988, doi=None), Reference(scopus_id=85056321676, doi=None), Reference(scopus_id=80054688019, doi=None), Reference(scopus_id=85044791956, doi=None), Reference(scopus_id=31744438420, doi=None), Reference(scopus_id=85026675606, doi=None), Reference(scopus_id=85019155224, doi=None), Reference(scopus_id=33847676312, doi=None), Reference(scopus_id=85063317538, doi=None), Reference(scopus_id=85118556459, doi='10.1109/TSMC.2021.3120702'), Reference(scopus_id=36530350, doi=None), Reference(scopus_id=85055716784, doi=None), Reference(scopus_id=85107185850, doi=None), Reference(scopus_id=85161295292, doi='10.1109/TEVC.2021.3115795'), Reference(scopus_id=85121929916, doi=None), Reference(scopus_id=85029161024, doi=None), Reference(scopus_id=85090194369, doi=None), Reference(scopus_id=85103172291, doi=None), Reference(scopus_id=85081979461, doi=None), Reference(scopus_id=85161551307, doi=None), Reference(scopus_id=84897584596, doi=None), Reference(scopus_id=36530772, doi=None), Reference(scopus_id=85102824278, doi=None), Reference(scopus_id=85109093078, doi=None), Reference(scopus_id=85056148440, doi=None), Reference(scopus_id=85072977881, doi=None), Reference(scopus_id=85101375451, doi=None), Reference(scopus_id=84933182818, doi=None), Reference(scopus_id=85092022114, doi=None), Reference(scopus_id=85125716963, doi='10.1109/TASE.2022.3151648'), Reference(scopus_id=85109105767, doi=None), Reference(scopus_id=85067798381, doi=None), Reference(scopus_id=85059046766, doi=None), Reference(scopus_id=84901831279, doi=None), Reference(scopus_id=77951099246, doi=None), Reference(scopus_id=85124395120, doi=None), Reference(scopus_id=84941902958, doi=None), Reference(scopus_id=85115447283, doi=None), Reference(scopus_id=84933055604, doi=None), Reference(scopus_id=85097948147, doi=None), Reference(scopus_id=85121913974, doi='10.1109/TETCI.2022.3145706'), Reference(scopus_id=85117920119, doi=None), Reference(scopus_id=85073690614, doi=None), Reference(scopus_id=85113352057, doi='10.1109/TEVC.2021.3106168'), Reference(scopus_id=85096744186, doi=None), Reference(scopus_id=85140588411, doi=None), Reference(scopus_id=33847661566, doi=None), Reference(scopus_id=85065472639, doi=None)}), pub_name='IEEE Transactions on Evolutionary Computation', pub_issn_print='1089778X', pub_issn_electronic='19410026'),\n",
       " PaperInfo(iter_depth=1, title='A NSGA-II Algorithm Hybridizing Local Simulated-Annealing Operators for a Bi-Criteria Robust Job-Shop Scheduling Problem under Scenarios', authors='Wang, B.; Xie, H.; Xia, X.; Zhang, X.', year=2019, scopus_id=85056148440, doi='10.1109/TFUZZ.2018.2879789', eid='2-s2.0-85056148440', scopus_url='https://www.scopus.com/inward/record.uri?partnerID=HzOxMe3b&scp=85056148440&origin=inward', refs=frozenset({Reference(scopus_id=84922361858, doi=None), Reference(scopus_id=84995578631, doi=None), Reference(scopus_id=33746788617, doi=None), Reference(scopus_id=84869415435, doi=None), Reference(scopus_id=84880249745, doi=None), Reference(scopus_id=33744540562, doi=None), Reference(scopus_id=399511, doi=None), Reference(scopus_id=852513, doi=None), Reference(scopus_id=29254827, doi=None), Reference(scopus_id=85108976174, doi=None), Reference(scopus_id=81755182514, doi=None), Reference(scopus_id=36498099, doi=None), Reference(scopus_id=36685625, doi=None), Reference(scopus_id=26461248, doi=None), Reference(scopus_id=5244278595, doi=None), Reference(scopus_id=33102020, doi=None), Reference(scopus_id=33881797, doi=None), Reference(scopus_id=80054947273, doi=None), Reference(scopus_id=79955746764, doi=None), Reference(scopus_id=82455164493, doi=None), Reference(scopus_id=38349135735, doi=None), Reference(scopus_id=1947856, doi=None), Reference(scopus_id=31268178, doi=None), Reference(scopus_id=36530772, doi=None), Reference(scopus_id=3956830, doi=None), Reference(scopus_id=84881667555, doi=None), Reference(scopus_id=78049527141, doi=None), Reference(scopus_id=41749104232, doi=None), Reference(scopus_id=24012393, doi=None), Reference(scopus_id=3994089, doi=None), Reference(scopus_id=85010058353, doi=None), Reference(scopus_id=80054888050, doi=None), Reference(scopus_id=35781623, doi=None), Reference(scopus_id=38273913, doi=None), Reference(scopus_id=80053573501, doi=None), Reference(scopus_id=85032785279, doi=None)}), pub_name='IEEE Transactions on Fuzzy Systems', pub_issn_print='10636706', pub_issn_electronic=None),\n",
       " PaperInfo(iter_depth=1, title='A Pareto-Based Discrete Jaya Algorithm for Multiobjective Carbon-Efficient Distributed Blocking Flow Shop Scheduling Problem', authors='Zhao, F.; Zhang, H.; Wang, L.', year=2023, scopus_id=85141645463, doi='10.1109/TII.2022.3220860', eid='2-s2.0-85141645463', scopus_url='https://www.scopus.com/inward/record.uri?partnerID=HzOxMe3b&scp=85141645463&origin=inward', refs=frozenset({Reference(scopus_id=70350619908, doi=None), Reference(scopus_id=85111373319, doi='10.1007/s11227-021-03998-9'), Reference(scopus_id=85122288138, doi='10.1016/j.knosys.2021.108036'), Reference(scopus_id=85119422865, doi='10.1109/tcyb.2020.3025662'), Reference(scopus_id=85113293203, doi='10.1109/TCYB.2021.3086181'), Reference(scopus_id=85040939028, doi='10.1109/TSMC.2017.2788879'), Reference(scopus_id=85127164950, doi='10.1016/j.eswa.2022.116910'), Reference(scopus_id=85085726495, doi='10.1016/j.swevo.2020.100716'), Reference(scopus_id=84929590179, doi='10.1016/j.cie.2015.04.013'), Reference(scopus_id=85130370855, doi='10.1080/00207543.2022.2070786'), Reference(scopus_id=85128027306, doi='10.1109/iSPEC53008.2021.9735833'), Reference(scopus_id=85045539499, doi='10.1109/TSMC.2016.2616347'), Reference(scopus_id=85078404911, doi='10.1109/TII.2019.2922394'), Reference(scopus_id=85110659633, doi='10.1016/j.engappai.2021.104375'), Reference(scopus_id=85135241268, doi='10.1109/TII.2022.3192881'), Reference(scopus_id=84978878268, doi='10.1007/978-3-319-42291-6_48'), Reference(scopus_id=85121929916, doi='10.1109/tii.2021.3128405'), Reference(scopus_id=70350752447, doi='10.1016/j.cor.2009.06.019'), Reference(scopus_id=85118347456, doi='10.1016/j.swevo.2021.100992'), Reference(scopus_id=85088130497, doi='10.1016/j.eswa.2020.113678'), Reference(scopus_id=84937758658, doi='10.1016/j.eswa.2015.03.026'), Reference(scopus_id=85128604867, doi='10.1109/TII.2022.3166215'), Reference(scopus_id=85084184772, doi='10.1016/j.asoc.2020.106343'), Reference(scopus_id=85100733509, doi='10.1109/TII.2021.3056425'), Reference(scopus_id=85122632914, doi='10.1016/j.ins.2021.12.122'), Reference(scopus_id=85118542420, doi='10.1016/j.cor.2021.105604'), Reference(scopus_id=85125751765, doi='10.1016/j.knosys.2022.108471'), Reference(scopus_id=85079775193, doi='10.1109/TII.2019.2950511'), Reference(scopus_id=85132516318, doi='10.1016/j.jclepro.2022.132551'), Reference(scopus_id=85137582306, doi='10.1109/TCYB.2022.3192112'), Reference(scopus_id=85059046766, doi=None), Reference(scopus_id=85145661167, doi='10.1109/tii.2022.3154467'), Reference(scopus_id=85097948147, doi='10.1109/TII.2020.3043734'), Reference(scopus_id=85098998132, doi='10.1016/j.cie.2020.107082'), Reference(scopus_id=27144549878, doi='10.1016/j.ejor.2004.08.046'), Reference(scopus_id=27201278, doi=None)}), pub_name='IEEE Transactions on Industrial Informatics', pub_issn_print='15513203', pub_issn_electronic='19410050'),\n",
       " PaperInfo(iter_depth=1, title='A Population-Based Iterated Greedy Algorithm for Distributed Assembly No-Wait Flow-Shop Scheduling Problem', authors='Zhao, F.; Xu, Z.; Wang, L.; Zhu, N.; Xu, T.; Jonrinaldi, J.', year=2023, scopus_id=85135241268, doi='10.1109/TII.2022.3192881', eid='2-s2.0-85135241268', scopus_url='https://www.scopus.com/inward/record.uri?partnerID=HzOxMe3b&scp=85135241268&origin=inward', refs=frozenset({Reference(scopus_id=85075301762, doi='10.1016/j.engappai.2019.103369'), Reference(scopus_id=85059308547, doi=None), Reference(scopus_id=76849091335, doi=None), Reference(scopus_id=85119422865, doi=None), Reference(scopus_id=20699921, doi=None), Reference(scopus_id=85113293203, doi='10.1109/TCYB.2021.3086181'), Reference(scopus_id=58549115678, doi=None), Reference(scopus_id=85018385184, doi=None), Reference(scopus_id=85098467106, doi='10.1016/j.cie.2020.107021'), Reference(scopus_id=26444479778, doi=None), Reference(scopus_id=34818087, doi=None), Reference(scopus_id=85118486318, doi=None), Reference(scopus_id=85049099952, doi=None), Reference(scopus_id=85110659633, doi='10.1016/j.engappai.2021.104375'), Reference(scopus_id=70349270458, doi=None), Reference(scopus_id=85121929916, doi=None), Reference(scopus_id=85077250493, doi=None), Reference(scopus_id=85077474878, doi='10.1016/j.eswa.2019.113166'), Reference(scopus_id=85133924544, doi=None), Reference(scopus_id=85088130497, doi='10.1016/j.eswa.2020.113678'), Reference(scopus_id=85078758214, doi='10.1016/j.knosys.2020.105536'), Reference(scopus_id=85097712198, doi=None), Reference(scopus_id=31275336, doi=None), Reference(scopus_id=85014089422, doi=None), Reference(scopus_id=85104630868, doi=None), Reference(scopus_id=46149117525, doi=None), Reference(scopus_id=84884906840, doi=None), Reference(scopus_id=85112349407, doi='10.1016/j.asoc.2021.107750'), Reference(scopus_id=85125716963, doi='10.1109/TASE.2022.3151648'), Reference(scopus_id=35898985, doi=None), Reference(scopus_id=85086500203, doi='10.1016/j.swevo.2020.100719'), Reference(scopus_id=85086066669, doi=None), Reference(scopus_id=85067798381, doi=None), Reference(scopus_id=85088813554, doi=None), Reference(scopus_id=85097948147, doi=None), Reference(scopus_id=85098998132, doi='10.1016/j.cie.2020.107082'), Reference(scopus_id=85060842235, doi=None), Reference(scopus_id=33750841084, doi=None)}), pub_name='IEEE Transactions on Industrial Informatics', pub_issn_print='15513203', pub_issn_electronic='19410050'),\n",
       " PaperInfo(iter_depth=1, title='A Population-based Iterated Greedy Algorithm for Distributed No-wait Flow-shop Scheduling Problem', authors='Zhao, F.; Xu, Z.; Wang, Q.', year=2023, scopus_id=85164707024, doi='10.1109/CSCWD57460.2023.10152800', eid='2-s2.0-85164707024', scopus_url='https://www.scopus.com/inward/record.uri?partnerID=HzOxMe3b&scp=85164707024&origin=inward', refs=frozenset({Reference(scopus_id=85075301762, doi='10.1016/j.engappai.2019.103369'), Reference(scopus_id=84900826371, doi='10.1080/0305215x.2013.827673'), Reference(scopus_id=80052141904, doi='10.1080/18756891.2011.9727808'), Reference(scopus_id=84939607506, doi=None), Reference(scopus_id=7544243412, doi=None), Reference(scopus_id=46149117525, doi='10.1016/j.omega.2007.02.002'), Reference(scopus_id=84942784536, doi='10.1016/j.ijpe.2015.07.027'), Reference(scopus_id=84880923608, doi='10.1016/j.ijpe.2013.05.004'), Reference(scopus_id=84875777308, doi='10.1016/j.compenvurbsys.2013.01.006'), Reference(scopus_id=85100949724, doi='10.2307/3009192'), Reference(scopus_id=85112349407, doi='10.1016/j.asoc.2021.107750'), Reference(scopus_id=85021109367, doi='10.1016/j.asoc.2017.06.023'), Reference(scopus_id=84859574049, doi='10.1016/j.asoc.2012.02.013'), Reference(scopus_id=85098467106, doi='10.1016/j.cie.2020.107021'), Reference(scopus_id=34818087, doi='10.1016/s0377-2217(00)00100-4'), Reference(scopus_id=14807274, doi=None), Reference(scopus_id=84980417136, doi='10.1016/j.cie.2016.07.027'), Reference(scopus_id=85110659633, doi='10.1016/j.engappai.2021.104375'), Reference(scopus_id=84904612535, doi='10.1016/j.ejor.2014.05.024'), Reference(scopus_id=33750841084, doi='10.1016/j.ejor.2005.12.009'), Reference(scopus_id=27201278, doi='10.1016/0377-2217(93)90182-m'), Reference(scopus_id=70350752447, doi='10.1016/j.cor.2009.06.019')}), pub_name='Proceedings of the 2023 26th International Conference on Computer Supported Cooperative Work in Design, CSCWD 2023', pub_issn_print=None, pub_issn_electronic=None),\n",
       " PaperInfo(iter_depth=1, title='A Q-Learning algorithm for flexible job shop scheduling in a real-world manufacturing scenario', authors='Palacio, J.C.; Jimenez, Y.M.; Schietgat, L.; Doninck, B.V.; Nowe, A.', year=2022, scopus_id=85127483589, doi='10.1016/j.procir.2022.02.183', eid='2-s2.0-85127483589', scopus_url='https://www.scopus.com/inward/record.uri?partnerID=HzOxMe3b&scp=85127483589&origin=inward', refs=frozenset({Reference(scopus_id=34548625026, doi=None), Reference(scopus_id=85092560258, doi=None), Reference(scopus_id=85082664837, doi=None), Reference(scopus_id=34155462, doi=None), Reference(scopus_id=34548795271, doi=None), Reference(scopus_id=85068474381, doi=None), Reference(scopus_id=84937809422, doi=None), Reference(scopus_id=84864036878, doi=None), Reference(scopus_id=34249833101, doi=None), Reference(scopus_id=85080957774, doi=None), Reference(scopus_id=4102479, doi=None), Reference(scopus_id=85028015443, doi=None), Reference(scopus_id=84899693655, doi=None), Reference(scopus_id=84899931898, doi=None), Reference(scopus_id=85099173787, doi=None), Reference(scopus_id=4544324989, doi=None), Reference(scopus_id=84918834208, doi=None), Reference(scopus_id=85087895969, doi=None), Reference(scopus_id=84994157730, doi=None), Reference(scopus_id=84892234592, doi=None), Reference(scopus_id=84993143397, doi=None), Reference(scopus_id=85038840298, doi=None), Reference(scopus_id=41656170, doi=None), Reference(scopus_id=85081132525, doi=None), Reference(scopus_id=85048864239, doi=None), Reference(scopus_id=85006972150, doi=None), Reference(scopus_id=33748102266, doi=None), Reference(scopus_id=74849101820, doi=None), Reference(scopus_id=85100854909, doi=None)}), pub_name='Procedia CIRP', pub_issn_print='22128271', pub_issn_electronic=None),\n",
       " PaperInfo(iter_depth=1, title='A Q-learning artificial bee colony for distributed assembly flow shop scheduling with factory eligibility, transportation capacity and setup time', authors='Wang, J.; Tang, H.; Lei, D.', year=2023, scopus_id=85152597998, doi='10.1016/j.engappai.2023.106230', eid='2-s2.0-85152597998', scopus_url='https://www.scopus.com/inward/record.uri?partnerID=HzOxMe3b&scp=85152597998&origin=inward', refs=frozenset({Reference(scopus_id=85053144449, doi='10.1016/j.cie.2018.09.007'), Reference(scopus_id=85087011972, doi='10.1080/00207543.2020.1775911'), Reference(scopus_id=85034083333, doi='10.1080/00207543.2017.1401241'), Reference(scopus_id=85102395398, doi='10.3233/JIFS-201391'), Reference(scopus_id=85081120519, doi='10.1016/j.comcom.2020.03.004'), Reference(scopus_id=85071864456, doi='10.1016/j.jestch.2019.08.003'), Reference(scopus_id=85122644877, doi='10.1016/j.asoc.2021.108371'), Reference(scopus_id=34249833101, doi='10.1007/BF00992698'), Reference(scopus_id=85046780559, doi='10.1016/j.asoc.2018.04.001'), Reference(scopus_id=85129032976, doi='10.1016/j.eswa.2022.117269'), Reference(scopus_id=85074050449, doi='10.1109/TCYB.2019.2943606'), Reference(scopus_id=85135928082, doi='10.1016/j.swevo.2022.101140'), Reference(scopus_id=85046843542, doi='10.1016/j.knosys.2018.04.038'), Reference(scopus_id=85097943069, doi='10.1002/sat.1391'), Reference(scopus_id=58549115678, doi='10.1016/j.cor.2008.10.008'), Reference(scopus_id=84896934557, doi='10.1016/j.cor.2014.02.005'), Reference(scopus_id=85087895969, doi='10.1016/j.asoc.2020.106544'), Reference(scopus_id=3486756, doi=None), Reference(scopus_id=85124187300, doi='10.1007/s10479-022-04537-2'), Reference(scopus_id=85130370855, doi='10.1080/00207543.2022.2070786'), Reference(scopus_id=85104703415, doi='10.1007/s12293-021-00329-6'), Reference(scopus_id=85006427576, doi='10.1016/j.swevo.2016.06.002'), Reference(scopus_id=85082828858, doi='10.1016/j.cie.2020.106778'), Reference(scopus_id=85074607803, doi='10.1007/s00500-019-04444-y'), Reference(scopus_id=85168723902, doi='10.3233/JIFS-219202'), Reference(scopus_id=85089340352, doi='10.1109/ACCESS.2020.3011502'), Reference(scopus_id=85048723395, doi='10.1016/j.cie.2018.05.056'), Reference(scopus_id=85127328583, doi='10.1016/j.cie.2022.108126'), Reference(scopus_id=85067846089, doi='10.1109/TASE.2018.2886303'), Reference(scopus_id=33318858, doi='10.1109/4235.797969'), Reference(scopus_id=85145975121, doi='10.23919/CSMS.2022.0002'), Reference(scopus_id=36530772, doi='10.1109/4235.996017'), Reference(scopus_id=85129300438, doi='10.23055/ijietap.2022.29.1.7769'), Reference(scopus_id=85027871321, doi='10.1007/s00500-017-2780-7'), Reference(scopus_id=43249130971, doi='10.1007/s00170-007-0945-8'), Reference(scopus_id=85112349407, doi='10.1016/j.asoc.2021.107750'), Reference(scopus_id=85103786464, doi='10.1016/j.cie.2021.107254'), Reference(scopus_id=85095750114, doi='10.1080/00207543.2020.1836422'), Reference(scopus_id=85099378534, doi='10.1109/TASE.2019.2945717'), Reference(scopus_id=85092708329, doi='10.1007/s12145-020-00538-6'), Reference(scopus_id=85129769067, doi='10.1016/j.cie.2022.108200'), Reference(scopus_id=85117246316, doi='10.1016/j.eswa.2021.115978'), Reference(scopus_id=85096721517, doi='10.1016/j.swevo.2020.100804'), Reference(scopus_id=84978890734, doi='10.1007/978-3-319-42294-7_64'), Reference(scopus_id=85088813554, doi='10.1007/s10489-020-01809-x'), Reference(scopus_id=84940703097, doi='10.1080/00207543.2015.1084063'), Reference(scopus_id=85053348988, doi='10.1109/TASE.2018.2862380'), Reference(scopus_id=85121707133, doi='10.1016/j.simpat.2021.102455')}), pub_name='Engineering Applications of Artificial Intelligence', pub_issn_print='09521976', pub_issn_electronic=None),\n",
       " PaperInfo(iter_depth=1, title='A Reinforcement Learning Approach for Flexible Job Shop Scheduling Problem With Crane Transportation and Setup Times', authors='Du, Y.; Li, J.; Li, C.; Duan, P.', year=2022, scopus_id=85127672062, doi='10.1109/TNNLS.2022.3208942', eid='2-s2.0-85127672062', scopus_url='https://www.scopus.com/inward/record.uri?partnerID=HzOxMe3b&scp=85127672062&origin=inward', refs=None, pub_name='IEEE Transactions on Neural Networks and Learning Systems', pub_issn_print='2162237X', pub_issn_electronic='21622388'),\n",
       " PaperInfo(iter_depth=1, title='A Reinforcement Learning Driven Cooperative Meta-Heuristic Algorithm for Energy-Efficient Distributed No-Wait Flow-Shop Scheduling With Sequence-Dependent Setup Time', authors='Zhao, F.; Jiang, T.; Wang, L.', year=2023, scopus_id=85141585139, doi='10.1109/TII.2022.3218645', eid='2-s2.0-85141585139', scopus_url='https://www.scopus.com/inward/record.uri?partnerID=HzOxMe3b&scp=85141585139&origin=inward', refs=frozenset({Reference(scopus_id=85088891653, doi=None), Reference(scopus_id=85047970695, doi='10.1109/tii.2018.2843441'), Reference(scopus_id=85101762444, doi=None), Reference(scopus_id=85113293203, doi='10.1109/TCYB.2021.3086181'), Reference(scopus_id=85040939028, doi='10.1109/tsmc.2017.2788879'), Reference(scopus_id=85085726495, doi=None), Reference(scopus_id=84865588127, doi=None), Reference(scopus_id=29644438050, doi=None), Reference(scopus_id=85130370855, doi='10.1080/00207543.2022.2070786'), Reference(scopus_id=85130998697, doi='10.1016/j.eng.2021.12.018'), Reference(scopus_id=85049099952, doi='10.1109/jsyst.2018.2825337'), Reference(scopus_id=85135241268, doi='10.1109/tii.2022.3192881'), Reference(scopus_id=85129380788, doi='10.1109/TCYB.2022.3164165'), Reference(scopus_id=85161295292, doi='10.1109/tevc.2021.3115795'), Reference(scopus_id=85121929916, doi='10.1109/tii.2021.3128405'), Reference(scopus_id=85077250493, doi='10.1109/tii.2019.2938572'), Reference(scopus_id=85133924544, doi=None), Reference(scopus_id=84910066372, doi='10.1109/tii.2014.2342378'), Reference(scopus_id=85100733509, doi='10.1109/tii.2021.3056425'), Reference(scopus_id=85067846089, doi='10.1109/tase.2018.2886303'), Reference(scopus_id=85098799185, doi='10.1109/tii.2020.3045690'), Reference(scopus_id=36530772, doi=None), Reference(scopus_id=84908413270, doi='10.1016/j.compchemeng.2014.05.024'), Reference(scopus_id=85101375451, doi='10.1016/j.swevo.2021.100858'), Reference(scopus_id=85137582306, doi='10.1109/TCYB.2022.3192112'), Reference(scopus_id=84997815911, doi=None), Reference(scopus_id=85038943595, doi=None), Reference(scopus_id=85117246316, doi=None), Reference(scopus_id=85124395120, doi=None), Reference(scopus_id=85097948147, doi='10.1109/tii.2020.3043734'), Reference(scopus_id=85132649463, doi=None), Reference(scopus_id=85113352057, doi='10.1109/tevc.2021.3106168'), Reference(scopus_id=27201278, doi=None)}), pub_name='IEEE Transactions on Industrial Informatics', pub_issn_print='15513203', pub_issn_electronic='19410050'),\n",
       " PaperInfo(iter_depth=1, title='A Review of Reinforcement Learning Based Intelligent Optimization for Manufacturing Scheduling', authors='Wang, L.; Pan, Z.; Wang, J.', year=2021, scopus_id=85124395120, doi='10.23919/CSMS.2021.0027', eid='2-s2.0-85124395120', scopus_url='https://www.scopus.com/inward/record.uri?partnerID=HzOxMe3b&scp=85124395120&origin=inward', refs=frozenset({Reference(scopus_id=85089942016, doi=None), Reference(scopus_id=80052599299, doi=None), Reference(scopus_id=85140424199, doi=None), Reference(scopus_id=84864036878, doi=None), Reference(scopus_id=85078937104, doi=None), Reference(scopus_id=81555208210, doi=None), Reference(scopus_id=84865008918, doi=None), Reference(scopus_id=4944253466, doi=None), Reference(scopus_id=85097710106, doi=None), Reference(scopus_id=85119609114, doi=None), Reference(scopus_id=85110472222, doi=None), Reference(scopus_id=85102851103, doi=None), Reference(scopus_id=85087543072, doi=None), Reference(scopus_id=85100179489, doi=None), Reference(scopus_id=85127379745, doi=None), Reference(scopus_id=85098452259, doi=None), Reference(scopus_id=85044306727, doi=None), Reference(scopus_id=85045954603, doi=None), Reference(scopus_id=84902933040, doi=None), Reference(scopus_id=85090364721, doi=None), Reference(scopus_id=84910627131, doi=None), Reference(scopus_id=85101751105, doi=None), Reference(scopus_id=85065882695, doi=None), Reference(scopus_id=85099781966, doi=None), Reference(scopus_id=79952460625, doi=None), Reference(scopus_id=84959322709, doi=None), Reference(scopus_id=85104610134, doi=None), Reference(scopus_id=85123364951, doi=None), Reference(scopus_id=85166437719, doi=None), Reference(scopus_id=85081140568, doi=None), Reference(scopus_id=85064938842, doi=None), Reference(scopus_id=85100970590, doi=None), Reference(scopus_id=34047099999, doi=None), Reference(scopus_id=85095794533, doi=None), Reference(scopus_id=84922350182, doi=None), Reference(scopus_id=85098998132, doi=None), Reference(scopus_id=85092433528, doi=None), Reference(scopus_id=85113352057, doi='10.1109/TEVC.2021.3106168'), Reference(scopus_id=85084170875, doi=None), Reference(scopus_id=34748843393, doi=None), Reference(scopus_id=34548795271, doi=None), Reference(scopus_id=85103916937, doi=None), Reference(scopus_id=85124140937, doi='10.13195/j.kzyjc.2020.0911'), Reference(scopus_id=85105005963, doi=None), Reference(scopus_id=85056321676, doi=None), Reference(scopus_id=85075334799, doi=None), Reference(scopus_id=85071881615, doi=None), Reference(scopus_id=85006977169, doi=None), Reference(scopus_id=34648836755, doi=None), Reference(scopus_id=85062096277, doi=None), Reference(scopus_id=85100138902, doi=None), Reference(scopus_id=84870881943, doi=None), Reference(scopus_id=85107792029, doi=None), Reference(scopus_id=85086939555, doi=None), Reference(scopus_id=33747155109, doi=None), Reference(scopus_id=85070541991, doi=None), Reference(scopus_id=85019975083, doi=None), Reference(scopus_id=1142293166, doi=None), Reference(scopus_id=84994223029, doi=None), Reference(scopus_id=85069995447, doi=None), Reference(scopus_id=10844274625, doi=None), Reference(scopus_id=85109473474, doi=None), Reference(scopus_id=85068618692, doi=None), Reference(scopus_id=85098775499, doi=None), Reference(scopus_id=85021778383, doi=None), Reference(scopus_id=85117114321, doi=None), Reference(scopus_id=85105533138, doi=None), Reference(scopus_id=85066045910, doi=None), Reference(scopus_id=85095486951, doi=None), Reference(scopus_id=85046370026, doi=None), Reference(scopus_id=85089904618, doi=None), Reference(scopus_id=84879650283, doi=None), Reference(scopus_id=85086600171, doi=None), Reference(scopus_id=85079694318, doi=None), Reference(scopus_id=85048864239, doi=None), Reference(scopus_id=85065424368, doi=None), Reference(scopus_id=85108431601, doi=None), Reference(scopus_id=85083951347, doi=None), Reference(scopus_id=85088844794, doi=None)}), pub_name='Complex System Modeling and Simulation', pub_issn_print='20969929', pub_issn_electronic=None),\n",
       " PaperInfo(iter_depth=1, title='A Survey of Evolutionary Algorithms for Multi-Objective Optimization Problems with Irregular Pareto Fronts', authors='Hua, Y.; Liu, Q.; Hao, K.; Jin, Y.', year=2021, scopus_id=85099558274, doi='10.1109/JAS.2021.1003817', eid='2-s2.0-85099558274', scopus_url='https://www.scopus.com/inward/record.uri?partnerID=HzOxMe3b&scp=85099558274&origin=inward', refs=frozenset({Reference(scopus_id=85018503940, doi=None), Reference(scopus_id=85081308683, doi=None), Reference(scopus_id=85057260556, doi=None), Reference(scopus_id=34548108555, doi=None), Reference(scopus_id=85052617999, doi=None), Reference(scopus_id=84925293328, doi=None), Reference(scopus_id=30085393, doi=None), Reference(scopus_id=84875485202, doi=None), Reference(scopus_id=85100398615, doi='10.1109/TEVC.2020.3008822'), Reference(scopus_id=84881564951, doi=None), Reference(scopus_id=85042397977, doi=None), Reference(scopus_id=85063030816, doi=None), Reference(scopus_id=85034240290, doi=None), Reference(scopus_id=85045350178, doi=None), Reference(scopus_id=85039791907, doi=None), Reference(scopus_id=67650272548, doi=None), Reference(scopus_id=85048605478, doi=None), Reference(scopus_id=84905581607, doi=None), Reference(scopus_id=84991672105, doi=None), Reference(scopus_id=33749860403, doi=None), Reference(scopus_id=85110421306, doi='10.1109/TSMC.2019.2944338'), Reference(scopus_id=70349848635, doi=None), Reference(scopus_id=85039764540, doi=None), Reference(scopus_id=78049332539, doi=None), Reference(scopus_id=84905579836, doi=None), Reference(scopus_id=85056356670, doi=None), Reference(scopus_id=85029161024, doi=None), Reference(scopus_id=32348480, doi=None), Reference(scopus_id=35048846146, doi=None), Reference(scopus_id=85081573186, doi=None), Reference(scopus_id=85023597896, doi=None), Reference(scopus_id=79960530761, doi=None), Reference(scopus_id=3808330, doi=None), Reference(scopus_id=85101127756, doi='10.1109/TCYB.2019.2918087'), Reference(scopus_id=83755173966, doi=None), Reference(scopus_id=84908594000, doi=None), Reference(scopus_id=36530772, doi=None), Reference(scopus_id=70449915988, doi=None), Reference(scopus_id=85068461915, doi=None), Reference(scopus_id=85080864604, doi=None), Reference(scopus_id=85011103072, doi=None), Reference(scopus_id=85008262506, doi=None), Reference(scopus_id=85002693740, doi=None), Reference(scopus_id=79951564654, doi=None), Reference(scopus_id=84901842799, doi=None), Reference(scopus_id=85032205683, doi=None), Reference(scopus_id=85056198262, doi=None), Reference(scopus_id=85041283190, doi=None), Reference(scopus_id=84931462011, doi=None), Reference(scopus_id=33745917564, doi=None), Reference(scopus_id=85002779263, doi=None), Reference(scopus_id=85060927104, doi=None), Reference(scopus_id=85028725119, doi=None), Reference(scopus_id=85041504650, doi=None), Reference(scopus_id=85055156365, doi=None), Reference(scopus_id=85124807565, doi='10.1109/TCYB.2020.2971638'), Reference(scopus_id=85113194383, doi='10.1109/TSMC.2019.2956288'), Reference(scopus_id=85021870481, doi=None), Reference(scopus_id=85026402963, doi=None), Reference(scopus_id=85099098772, doi=None), Reference(scopus_id=85048156563, doi=None), Reference(scopus_id=85051807643, doi=None), Reference(scopus_id=85009843872, doi=None), Reference(scopus_id=84908573862, doi=None), Reference(scopus_id=84995459752, doi=None), Reference(scopus_id=85052859562, doi=None), Reference(scopus_id=34199979, doi=None), Reference(scopus_id=84890439083, doi=None), Reference(scopus_id=84900012206, doi=None), Reference(scopus_id=85070604975, doi=None), Reference(scopus_id=85046124720, doi=None), Reference(scopus_id=85041353134, doi=None), Reference(scopus_id=84893548977, doi=None), Reference(scopus_id=85022174900, doi=None), Reference(scopus_id=85056434356, doi=None), Reference(scopus_id=85059664564, doi=None), Reference(scopus_id=84990902457, doi=None), Reference(scopus_id=84921806274, doi=None), Reference(scopus_id=85049837251, doi=None), Reference(scopus_id=79961065923, doi=None), Reference(scopus_id=85028567492, doi=None), Reference(scopus_id=85050603972, doi=None), Reference(scopus_id=85027893452, doi=None), Reference(scopus_id=85018353357, doi=None), Reference(scopus_id=85028457677, doi=None), Reference(scopus_id=85037709518, doi=None), Reference(scopus_id=84873302479, doi=None), Reference(scopus_id=84925064404, doi=None), Reference(scopus_id=33947669974, doi=None), Reference(scopus_id=85011556826, doi=None), Reference(scopus_id=70349855195, doi=None), Reference(scopus_id=84944079325, doi=None), Reference(scopus_id=85035801565, doi=None), Reference(scopus_id=85008248288, doi=None), Reference(scopus_id=85089600740, doi=None), Reference(scopus_id=80055086054, doi=None), Reference(scopus_id=85054500071, doi=None), Reference(scopus_id=84859713767, doi=None), Reference(scopus_id=85076909803, doi=None), Reference(scopus_id=85032196588, doi=None), Reference(scopus_id=85106457071, doi='10.1109/TCYB.2020.2985081'), Reference(scopus_id=85091416816, doi=None), Reference(scopus_id=79951647729, doi=None), Reference(scopus_id=85085712626, doi=None), Reference(scopus_id=84978786035, doi=None), Reference(scopus_id=84860905203, doi=None), Reference(scopus_id=85071304947, doi=None), Reference(scopus_id=84945334258, doi=None), Reference(scopus_id=85130767857, doi='10.1109/TCYB.2020.3020630'), Reference(scopus_id=85099548920, doi=None), Reference(scopus_id=85032450555, doi=None)}), pub_name='IEEE/CAA Journal of Automatica Sinica', pub_issn_print='23299266', pub_issn_electronic='23299274'),\n",
       " PaperInfo(iter_depth=1, title='A Two-Stage Evolutionary Algorithm With Balanced Convergence and Diversity for Many-Objective Optimization', authors='Ming, F.; Gong, W.; Wang, L.', year=2022, scopus_id=85123767401, doi='10.1109/TSMC.2022.3143657', eid='2-s2.0-85123767401', scopus_url='https://www.scopus.com/inward/record.uri?partnerID=HzOxMe3b&scp=85123767401&origin=inward', refs=frozenset({Reference(scopus_id=40445957, doi=None), Reference(scopus_id=84984829451, doi=None), Reference(scopus_id=34548108555, doi=None), Reference(scopus_id=85018467342, doi=None), Reference(scopus_id=84938579475, doi=None), Reference(scopus_id=991259, doi=None), Reference(scopus_id=84963812895, doi=None), Reference(scopus_id=85044984097, doi=None), Reference(scopus_id=84883317796, doi=None), Reference(scopus_id=84905581607, doi=None), Reference(scopus_id=77957584426, doi=None), Reference(scopus_id=85056724523, doi=None), Reference(scopus_id=33749860403, doi=None), Reference(scopus_id=85103777588, doi=None), Reference(scopus_id=85058815035, doi=None), Reference(scopus_id=84905579836, doi=None), Reference(scopus_id=35048846146, doi=None), Reference(scopus_id=84959346507, doi=None), Reference(scopus_id=79961027662, doi=None), Reference(scopus_id=84897494865, doi=None), Reference(scopus_id=55549103698, doi=None), Reference(scopus_id=36530772, doi=None), Reference(scopus_id=84901420886, doi=None), Reference(scopus_id=84896084827, doi=None), Reference(scopus_id=85063352675, doi=None), Reference(scopus_id=85103399784, doi=None), Reference(scopus_id=79951564654, doi=None), Reference(scopus_id=84901842799, doi=None), Reference(scopus_id=85072043121, doi=None), Reference(scopus_id=84962053235, doi=None), Reference(scopus_id=84937435512, doi=None), Reference(scopus_id=85063352955, doi=None), Reference(scopus_id=77949658499, doi=None), Reference(scopus_id=85043974532, doi=None), Reference(scopus_id=85041359239, doi=None), Reference(scopus_id=85113253258, doi=None), Reference(scopus_id=85028298637, doi=None), Reference(scopus_id=84875528853, doi=None), Reference(scopus_id=85032221845, doi=None), Reference(scopus_id=3866267, doi=None), Reference(scopus_id=85099078557, doi=None), Reference(scopus_id=85048665250, doi=None), Reference(scopus_id=84995459752, doi=None), Reference(scopus_id=85085727913, doi=None), Reference(scopus_id=70350344622, doi=None), Reference(scopus_id=84963655356, doi=None), Reference(scopus_id=85104934590, doi='10.1109/TCYB.2020.3008697'), Reference(scopus_id=85084239554, doi=None), Reference(scopus_id=85050211524, doi=None), Reference(scopus_id=85099253961, doi=None), Reference(scopus_id=84864615370, doi=None), Reference(scopus_id=85052566220, doi=None), Reference(scopus_id=84873302479, doi=None), Reference(scopus_id=36549051604, doi=None), Reference(scopus_id=70549109206, doi=None), Reference(scopus_id=85011556826, doi=None), Reference(scopus_id=84901826526, doi=None), Reference(scopus_id=85123742434, doi=None), Reference(scopus_id=84962103782, doi=None), Reference(scopus_id=85078425578, doi=None), Reference(scopus_id=85032196588, doi=None), Reference(scopus_id=85008264685, doi=None), Reference(scopus_id=24344489452, doi=None), Reference(scopus_id=84945334258, doi=None), Reference(scopus_id=85064542973, doi=None), Reference(scopus_id=3481086, doi=None)}), pub_name='IEEE Transactions on Systems, Man, and Cybernetics: Systems', pub_issn_print='21682216', pub_issn_electronic='21682232'),\n",
       " PaperInfo(iter_depth=1, title='A century of grain and seed moisture measurement by sensing electrical properties', authors='Nelson, S.O.; Trabelsi, S.', year=2012, scopus_id=84861644999, doi=None, eid='2-s2.0-84861644999', scopus_url='https://www.scopus.com/inward/record.uri?partnerID=HzOxMe3b&scp=84861644999&origin=inward', refs=frozenset({Reference(scopus_id=34247240451, doi=None), Reference(scopus_id=81255181829, doi=None), Reference(scopus_id=81255181832, doi=None), Reference(scopus_id=23266830, doi=None), Reference(scopus_id=81255164178, doi=None), Reference(scopus_id=81255164179, doi=None), Reference(scopus_id=300834, doi=None), Reference(scopus_id=33845622823, doi=None), Reference(scopus_id=10444228649, doi=None), Reference(scopus_id=19592237, doi=None), Reference(scopus_id=33748331057, doi=None), Reference(scopus_id=24138291, doi=None), Reference(scopus_id=30044448313, doi=None), Reference(scopus_id=33746287161, doi=None), Reference(scopus_id=15600953, doi=None), Reference(scopus_id=32022593, doi=None), Reference(scopus_id=33748208713, doi=None), Reference(scopus_id=31597134, doi=None), Reference(scopus_id=345666386, doi=None), Reference(scopus_id=2042514772, doi=None), Reference(scopus_id=25461846, doi=None), Reference(scopus_id=23174486, doi=None), Reference(scopus_id=5511770, doi=None), Reference(scopus_id=17538396, doi=None), Reference(scopus_id=35415137, doi=None), Reference(scopus_id=84861592678, doi=None), Reference(scopus_id=20771943, doi=None), Reference(scopus_id=17473899, doi=None), Reference(scopus_id=4666221, doi=None), Reference(scopus_id=33201006, doi=None), Reference(scopus_id=864367, doi=None), Reference(scopus_id=141474676, doi=None), Reference(scopus_id=21144483191, doi=None), Reference(scopus_id=31559295, doi=None), Reference(scopus_id=31988355, doi=None), Reference(scopus_id=10244275594, doi=None), Reference(scopus_id=81255174031, doi=None), Reference(scopus_id=32049555, doi=None), Reference(scopus_id=6882967, doi=None), Reference(scopus_id=81255212441, doi=None), Reference(scopus_id=81255212442, doi=None), Reference(scopus_id=33748162204, doi=None), Reference(scopus_id=81255212444, doi=None), Reference(scopus_id=24622492, doi=None), Reference(scopus_id=81255174048, doi=None), Reference(scopus_id=21393569, doi=None), Reference(scopus_id=81255174050, doi=None), Reference(scopus_id=348045736, doi=None), Reference(scopus_id=22028969, doi=None), Reference(scopus_id=32162475, doi=None), Reference(scopus_id=33646961579, doi=None), Reference(scopus_id=4243581356, doi=None), Reference(scopus_id=14878133, doi=None), Reference(scopus_id=81255170998, doi=None), Reference(scopus_id=26829751, doi=None), Reference(scopus_id=21496248, doi=None), Reference(scopus_id=5497537, doi=None), Reference(scopus_id=17023171, doi=None), Reference(scopus_id=24050374, doi=None), Reference(scopus_id=34829001, doi=None), Reference(scopus_id=32641232, doi=None), Reference(scopus_id=35654353, doi=None), Reference(scopus_id=347461589, doi=None), Reference(scopus_id=14844325849, doi=None), Reference(scopus_id=12243931, doi=None), Reference(scopus_id=20281567, doi=None), Reference(scopus_id=31977183, doi=None), Reference(scopus_id=34247272417, doi=None), Reference(scopus_id=25393381, doi=None), Reference(scopus_id=35727852, doi=None), Reference(scopus_id=138734, doi=None), Reference(scopus_id=31212527, doi=None), Reference(scopus_id=3032560, doi=None), Reference(scopus_id=20157172, doi=None), Reference(scopus_id=85010253044, doi=None), Reference(scopus_id=32083445, doi=None), Reference(scopus_id=13644272889, doi=None), Reference(scopus_id=27644457724, doi=None), Reference(scopus_id=19113726, doi=None)}), pub_name='Transactions of the ASABE', pub_issn_print='21510032', pub_issn_electronic=None),\n",
       " PaperInfo(iter_depth=1, title='A comparison of regression techniques for estimation of above-ground winter wheat biomass using near-surface spectroscopy', authors='Yue, J.; Feng, H.; Yang, G.; Li, Z.', year=2018, scopus_id=85040688083, doi='10.3390/rs10010066', eid='2-s2.0-85040688083', scopus_url='https://www.scopus.com/inward/record.uri?partnerID=HzOxMe3b&scp=85040688083&origin=inward', refs=frozenset({Reference(scopus_id=43267586, doi=None), Reference(scopus_id=36448992259, doi=None), Reference(scopus_id=31225091, doi=None), Reference(scopus_id=36248949001, doi=None), Reference(scopus_id=85040107532, doi=None), Reference(scopus_id=85012071184, doi=None), Reference(scopus_id=84986898449, doi=None), Reference(scopus_id=34249753618, doi=None), Reference(scopus_id=37466385, doi=None), Reference(scopus_id=79251523859, doi=None), Reference(scopus_id=85040642588, doi=None), Reference(scopus_id=37442845, doi=None), Reference(scopus_id=33846467618, doi=None), Reference(scopus_id=35470889, doi=None), Reference(scopus_id=33967146, doi=None), Reference(scopus_id=35031849, doi=None), Reference(scopus_id=33970477, doi=None), Reference(scopus_id=28975409, doi=None), Reference(scopus_id=21091121, doi=None), Reference(scopus_id=85040652596, doi=None), Reference(scopus_id=26305589, doi=None), Reference(scopus_id=84942932789, doi=None), Reference(scopus_id=33004343, doi=None), Reference(scopus_id=36846393, doi=None), Reference(scopus_id=84876995897, doi=None), Reference(scopus_id=33587782, doi=None), Reference(scopus_id=35478854, doi=None), Reference(scopus_id=27644598352, doi=None), Reference(scopus_id=85022320211, doi=None), Reference(scopus_id=34857302, doi=None), Reference(scopus_id=23844488534, doi=None), Reference(scopus_id=36330345, doi=None), Reference(scopus_id=4544266860, doi=None), Reference(scopus_id=36323440, doi=None), Reference(scopus_id=30062985, doi=None), Reference(scopus_id=33045130, doi=None), Reference(scopus_id=84950153610, doi=None), Reference(scopus_id=77952814988, doi=None), Reference(scopus_id=84962670222, doi=None), Reference(scopus_id=84897585295, doi=None), Reference(scopus_id=77955054225, doi=None), Reference(scopus_id=79959348887, doi=None), Reference(scopus_id=14744290713, doi=None), Reference(scopus_id=2872223, doi=None), Reference(scopus_id=34447526307, doi=None), Reference(scopus_id=84945162405, doi=None), Reference(scopus_id=56249104807, doi=None), Reference(scopus_id=32317096, doi=None), Reference(scopus_id=41732265, doi=None), Reference(scopus_id=47749133994, doi=None), Reference(scopus_id=43946, doi=None), Reference(scopus_id=85019900843, doi=None), Reference(scopus_id=30231725, doi=None), Reference(scopus_id=85002644909, doi=None), Reference(scopus_id=85054741423, doi=None), Reference(scopus_id=26499250, doi=None), Reference(scopus_id=12944276914, doi=None), Reference(scopus_id=84880978360, doi=None), Reference(scopus_id=28431034, doi=None), Reference(scopus_id=34948867258, doi=None), Reference(scopus_id=1842431418, doi=None), Reference(scopus_id=29751226, doi=None), Reference(scopus_id=28431038, doi=None), Reference(scopus_id=31246271, doi=None), Reference(scopus_id=34333127, doi=None), Reference(scopus_id=24856777, doi=None), Reference(scopus_id=50849142217, doi=None), Reference(scopus_id=28836811, doi=None), Reference(scopus_id=84887206353, doi=None), Reference(scopus_id=84929581266, doi=None), Reference(scopus_id=85017612753, doi=None), Reference(scopus_id=35413205, doi=None), Reference(scopus_id=84887593688, doi=None), Reference(scopus_id=36323544, doi=None), Reference(scopus_id=1098205, doi=None), Reference(scopus_id=37349092830, doi=None), Reference(scopus_id=36215007, doi=None), Reference(scopus_id=33751175648, doi=None), Reference(scopus_id=75949109989, doi=None), Reference(scopus_id=79955702502, doi=None), Reference(scopus_id=84946746346, doi=None), Reference(scopus_id=3396332, doi=None), Reference(scopus_id=68949164781, doi=None), Reference(scopus_id=74049151983, doi=None), Reference(scopus_id=84973345523, doi=None), Reference(scopus_id=142123253, doi=None), Reference(scopus_id=84937844470, doi=None), Reference(scopus_id=26451960, doi=None), Reference(scopus_id=26472955, doi=None), Reference(scopus_id=32815356, doi=None), Reference(scopus_id=51049107709, doi=None), Reference(scopus_id=84988640511, doi=None)}), pub_name='Remote Sensing', pub_issn_print='20724292', pub_issn_electronic='20724292'),\n",
       " PaperInfo(iter_depth=1, title='A cooperative memetic algorithm with feedback for the energy-aware distributed flow-shops with flexible assembly scheduling', authors='Wang, J.-J.; Wang, L.', year=2022, scopus_id=85127328583, doi='10.1016/j.cie.2022.108126', eid='2-s2.0-85127328583', scopus_url='https://www.scopus.com/inward/record.uri?partnerID=HzOxMe3b&scp=85127328583&origin=inward', refs=frozenset({Reference(scopus_id=655488, doi=None), Reference(scopus_id=85039780228, doi=None), Reference(scopus_id=85089189893, doi=None), Reference(scopus_id=77951278725, doi=None), Reference(scopus_id=85034083333, doi=None), Reference(scopus_id=34548108555, doi=None), Reference(scopus_id=77349092235, doi=None), Reference(scopus_id=85096185106, doi='10.1080/00207543.2020.1842938'), Reference(scopus_id=80054688019, doi=None), Reference(scopus_id=85040939028, doi='10.1109/TSMC.2017.2788879'), Reference(scopus_id=85043600917, doi=None), Reference(scopus_id=84942784536, doi=None), Reference(scopus_id=84992299293, doi=None), Reference(scopus_id=85018385184, doi=None), Reference(scopus_id=3486756, doi=None), Reference(scopus_id=84908571173, doi=None), Reference(scopus_id=77958151592, doi=None), Reference(scopus_id=85085516073, doi=None), Reference(scopus_id=85045539499, doi=None), Reference(scopus_id=27590319, doi=None), Reference(scopus_id=85084290612, doi=None), Reference(scopus_id=34548395445, doi=None), Reference(scopus_id=84945454006, doi=None), Reference(scopus_id=85006427576, doi=None), Reference(scopus_id=85080094906, doi=None), Reference(scopus_id=84965071551, doi=None), Reference(scopus_id=85102971584, doi=None), Reference(scopus_id=85133924544, doi=None), Reference(scopus_id=70350752447, doi=None), Reference(scopus_id=77954600003, doi=None), Reference(scopus_id=85044293828, doi=None), Reference(scopus_id=85067846089, doi=None), Reference(scopus_id=85014020299, doi=None), Reference(scopus_id=85123078478, doi='10.1109/TCYB.2020.3026571'), Reference(scopus_id=84884906840, doi=None), Reference(scopus_id=60349093593, doi=None), Reference(scopus_id=84880923608, doi=None), Reference(scopus_id=84913621341, doi=None), Reference(scopus_id=85047827685, doi=None), Reference(scopus_id=85068417768, doi=None), Reference(scopus_id=84887127784, doi=None), Reference(scopus_id=84969802860, doi=None), Reference(scopus_id=84990052464, doi=None), Reference(scopus_id=85124395120, doi=None), Reference(scopus_id=85052156788, doi=None), Reference(scopus_id=84920780405, doi=None), Reference(scopus_id=84892612726, doi=None), Reference(scopus_id=85113352057, doi='10.1109/TEVC.2021.3106168'), Reference(scopus_id=33847661566, doi=None)}), pub_name='Computers and Industrial Engineering', pub_issn_print='03608352', pub_issn_electronic=None),\n",
       " PaperInfo(iter_depth=1, title='A cooperative water wave optimization algorithm with reinforcement learning for the distributed assembly no-idle flowshop scheduling problem', authors='Zhao, F.; Zhang, L.; Cao, J.; Tang, J.', year=2021, scopus_id=85098998132, doi='10.1016/j.cie.2020.107082', eid='2-s2.0-85098998132', scopus_url='https://www.scopus.com/inward/record.uri?partnerID=HzOxMe3b&scp=85098998132&origin=inward', refs=frozenset({Reference(scopus_id=655488, doi=None), Reference(scopus_id=85059308547, doi=None), Reference(scopus_id=84908637576, doi=None), Reference(scopus_id=34249833101, doi=None), Reference(scopus_id=20699921, doi=None), Reference(scopus_id=85029411091, doi=None), Reference(scopus_id=55449124245, doi=None), Reference(scopus_id=85071851030, doi=None), Reference(scopus_id=84942784536, doi=None), Reference(scopus_id=1853336, doi=None), Reference(scopus_id=85098951832, doi=None), Reference(scopus_id=85099560860, doi=None), Reference(scopus_id=4252445, doi=None), Reference(scopus_id=85018385184, doi=None), Reference(scopus_id=85057388833, doi=None), Reference(scopus_id=85099001761, doi=None), Reference(scopus_id=85068507300, doi=None), Reference(scopus_id=85098946343, doi=None), Reference(scopus_id=85050101289, doi=None), Reference(scopus_id=84942367916, doi=None), Reference(scopus_id=84875414061, doi=None), Reference(scopus_id=85066087086, doi=None), Reference(scopus_id=85099001390, doi=None), Reference(scopus_id=85098948402, doi=None), Reference(scopus_id=85057297075, doi=None), Reference(scopus_id=70349270458, doi=None), Reference(scopus_id=85077474878, doi=None), Reference(scopus_id=84965071551, doi=None), Reference(scopus_id=70350752447, doi=None), Reference(scopus_id=85098953663, doi=None), Reference(scopus_id=35371718, doi=None), Reference(scopus_id=64549119687, doi=None), Reference(scopus_id=85069718865, doi=None), Reference(scopus_id=85075305939, doi=None), Reference(scopus_id=57249115093, doi=None), Reference(scopus_id=84884906840, doi=None), Reference(scopus_id=84875960024, doi=None), Reference(scopus_id=85080824154, doi=None), Reference(scopus_id=85098992739, doi=None), Reference(scopus_id=85071037668, doi=None), Reference(scopus_id=85062414824, doi=None), Reference(scopus_id=14807274, doi=None), Reference(scopus_id=85073087851, doi=None), Reference(scopus_id=84969802860, doi=None), Reference(scopus_id=85098981996, doi=None), Reference(scopus_id=85053033720, doi=None), Reference(scopus_id=84891995513, doi=None)}), pub_name='Computers and Industrial Engineering', pub_issn_print='03608352', pub_issn_electronic=None),\n",
       " PaperInfo(iter_depth=1, title='A deep reinforcement learning based solution for flexible job shop scheduling problem', authors='Han, B.A.; Yang, J.J.', year=2021, scopus_id=85108304642, doi='10.2507/IJSIMM20-2-CO7', eid='2-s2.0-85108304642', scopus_url='https://www.scopus.com/inward/record.uri?partnerID=HzOxMe3b&scp=85108304642&origin=inward', refs=frozenset({Reference(scopus_id=25531716, doi='10.1007/bf02238804'), Reference(scopus_id=85056321676, doi='10.1007/s10845-018-1454-3'), Reference(scopus_id=84924051598, doi='10.1038/nature14236'), Reference(scopus_id=19744380110, doi='10.1016/j.simpat.2004.12.003'), Reference(scopus_id=4102479, doi=None), Reference(scopus_id=36464279, doi='10.1109/TSMCC.2002.1009117'), Reference(scopus_id=84922120859, doi='10.1007/s10845-015-1039-3'), Reference(scopus_id=40249118429, doi='10.1016/j.cor.2007.02.014'), Reference(scopus_id=84918834208, doi=None), Reference(scopus_id=84858054371, doi='10.1080/00207543.2011.571443'), Reference(scopus_id=84904867557, doi=None), Reference(scopus_id=85087283110, doi='10.1109/PHM-Besancon49106.2020.00068'), Reference(scopus_id=34325416, doi='10.1016/S0921-8890(00)00087-7'), Reference(scopus_id=3054955, doi='10.1287/opre.25.1.45'), Reference(scopus_id=85053940653, doi=None), Reference(scopus_id=85085163822, doi='10.2507/IJSIMM19-1-CO4'), Reference(scopus_id=85046347373, doi=None), Reference(scopus_id=85061498477, doi=None), Reference(scopus_id=84880652475, doi=None)}), pub_name='International Journal of Simulation Modelling', pub_issn_print='17264529', pub_issn_electronic='19968566'),\n",
       " PaperInfo(iter_depth=1, title='A faster algorithm for calculating hypervolume', authors='While, L.; Hingston, P.; Barone, L.; Huband, S.', year=2006, scopus_id=31744438420, doi='10.1109/TEVC.2005.851275', eid='2-s2.0-31744438420', scopus_url='https://www.scopus.com/inward/record.uri?partnerID=HzOxMe3b&scp=31744438420&origin=inward', refs=frozenset({Reference(scopus_id=24344470016, doi=None), Reference(scopus_id=84901432707, doi=None), Reference(scopus_id=37952131, doi=None), Reference(scopus_id=31744434628, doi=None), Reference(scopus_id=27144534854, doi=None), Reference(scopus_id=3421261, doi=None), Reference(scopus_id=3482385, doi=None), Reference(scopus_id=1142294674, doi=None), Reference(scopus_id=2942547409, doi=None), Reference(scopus_id=141466835, doi=None), Reference(scopus_id=36530772, doi=None), Reference(scopus_id=37854804, doi=None), Reference(scopus_id=84901420886, doi=None), Reference(scopus_id=24344467352, doi=None), Reference(scopus_id=3738367, doi=None), Reference(scopus_id=3866267, doi=None), Reference(scopus_id=33666525, doi=None), Reference(scopus_id=33672286, doi=None), Reference(scopus_id=84901430753, doi=None), Reference(scopus_id=3142756516, doi=None), Reference(scopus_id=35248887077, doi=None), Reference(scopus_id=37936616, doi=None), Reference(scopus_id=1823017, doi=None), Reference(scopus_id=37936618, doi=None), Reference(scopus_id=43164530, doi=None), Reference(scopus_id=2442556083, doi=None), Reference(scopus_id=35248897594, doi=None), Reference(scopus_id=27144455867, doi=None), Reference(scopus_id=7744219967, doi=None)}), pub_name='IEEE Transactions on Evolutionary Computation', pub_issn_print='1089778X', pub_issn_electronic=None),\n",
       " PaperInfo(iter_depth=1, title='A heuristic algorithm for solving flexible job shop scheduling problem', authors='Ziaee, M.', year=2014, scopus_id=84897633390, doi='10.1007/s00170-013-5510-z', eid='2-s2.0-84897633390', scopus_url='https://www.scopus.com/inward/record.uri?partnerID=HzOxMe3b&scp=84897633390&origin=inward', refs=frozenset({Reference(scopus_id=34247624966, doi=None), Reference(scopus_id=84893389830, doi=None), Reference(scopus_id=84869495945, doi=None), Reference(scopus_id=3438602, doi=None), Reference(scopus_id=16952078, doi=None), Reference(scopus_id=77955279508, doi=None), Reference(scopus_id=36464279, doi=None), Reference(scopus_id=70349581723, doi=None), Reference(scopus_id=84869492892, doi=None), Reference(scopus_id=70449657251, doi=None), Reference(scopus_id=3486756, doi=None), Reference(scopus_id=34250084648, doi=None), Reference(scopus_id=77958011560, doi=None), Reference(scopus_id=77649234984, doi=None), Reference(scopus_id=77955308077, doi=None), Reference(scopus_id=75049086134, doi=None), Reference(scopus_id=84859956407, doi=None), Reference(scopus_id=84876126006, doi=None), Reference(scopus_id=2577337, doi=None), Reference(scopus_id=26461248, doi=None), Reference(scopus_id=84858698947, doi=None), Reference(scopus_id=3657544, doi=None), Reference(scopus_id=33751418065, doi=None), Reference(scopus_id=84859557971, doi=None), Reference(scopus_id=42261208, doi=None), Reference(scopus_id=4028632, doi=None), Reference(scopus_id=40249118429, doi=None), Reference(scopus_id=50249127397, doi=None), Reference(scopus_id=79751528806, doi=None), Reference(scopus_id=51649093095, doi=None), Reference(scopus_id=84871717100, doi=None), Reference(scopus_id=78650279790, doi=None), Reference(scopus_id=34250074609, doi=None), Reference(scopus_id=37201140, doi=None), Reference(scopus_id=78650682362, doi=None)}), pub_name='International Journal of Advanced Manufacturing Technology', pub_issn_print='02683768', pub_issn_electronic='14333015'),\n",
       " PaperInfo(iter_depth=1, title='A memetic algorithm with novel semi-constructive evolution operators for permutation flowshop scheduling problem', authors='Kurdi, M.', year=2020, scopus_id=85086138934, doi='10.1016/j.asoc.2020.106458', eid='2-s2.0-85086138934', scopus_url='https://www.scopus.com/inward/record.uri?partnerID=HzOxMe3b&scp=85086138934&origin=inward', refs=frozenset({Reference(scopus_id=84994342402, doi='10.1016/j.cor.2016.10.003'), Reference(scopus_id=29224965, doi='10.1016/0305-0548(93)E0014-K'), Reference(scopus_id=84929572359, doi='10.1016/j.cie.2015.04.009'), Reference(scopus_id=38249025037, doi='10.1016/0305-0483(89)90059-5'), Reference(scopus_id=85070912782, doi='10.1016/j.cor.2019.104767'), Reference(scopus_id=20699921, doi='10.1016/0305-0483(83)90088-9'), Reference(scopus_id=21819411, doi='10.1007/BF00940812'), Reference(scopus_id=25263381, doi='10.1016/0305-0548(90)90001-N'), Reference(scopus_id=3603223, doi=None), Reference(scopus_id=85010635801, doi='10.1080/0305215X.2016.1275605'), Reference(scopus_id=37278745, doi='10.1007/s001700300005'), Reference(scopus_id=26444479778, doi='10.1126/science.220.4598.671'), Reference(scopus_id=84928726052, doi='10.1016/j.jmsy.2014.11.011'), Reference(scopus_id=46949084708, doi='10.1007/978-3-540-78295-7˙1'), Reference(scopus_id=85050924838, doi='10.1016/j.eswa.2018.07.055'), Reference(scopus_id=85032367151, doi='10.1016/j.procs.2017.08.055'), Reference(scopus_id=30044449841, doi='10.1016/j.omega.2004.12.006'), Reference(scopus_id=62549158707, doi='10.1016/j.ejor.2008.08.023'), Reference(scopus_id=85012982842, doi='10.1016/j.asoc.2017.02.003'), Reference(scopus_id=84940713018, doi='10.1080/0951192X.2014.961965'), Reference(scopus_id=84889331003, doi=None), Reference(scopus_id=84905256252, doi='10.1504/IJMMNO.2014.063267'), Reference(scopus_id=9744246863, doi='10.1057/palgrave.jors.2601784'), Reference(scopus_id=36049020243, doi='10.1016/j.cie.2007.04.004'), Reference(scopus_id=85058285655, doi='10.1080/21642583.2018.1555063'), Reference(scopus_id=1204823, doi='10.1016/0377-2217(95)00037-2'), Reference(scopus_id=942269532, doi='10.1016/S0305-0548(03)00038-8'), Reference(scopus_id=85007485789, doi='10.1016/j.cor.2016.12.021'), Reference(scopus_id=84947418719, doi='10.1007/s00170-015-8052-8'), Reference(scopus_id=32009313, doi='10.1162/evco.1998.6.1.45'), Reference(scopus_id=25444486755, doi='10.1016/j.ejor.2004.08.021'), Reference(scopus_id=84861688419, doi='10.1007/s00170-011-3671-1'), Reference(scopus_id=84924426083, doi='10.1016/j.cie.2015.02.009'), Reference(scopus_id=84938943590, doi='10.1016/j.cie.2015.07.015'), Reference(scopus_id=84882454372, doi='10.1080/00207543.2013.767988'), Reference(scopus_id=84878787429, doi='10.1007/s00500-013-0992-z'), Reference(scopus_id=81555204454, doi='10.1016/j.cor.2011.08.016'), Reference(scopus_id=85060460394, doi='10.1016/j.ejor.2019.01.018'), Reference(scopus_id=84955617642, doi='10.1007/s11518-016-5297-1'), Reference(scopus_id=84892603245, doi='10.1007/978-3-642-53856-8_46'), Reference(scopus_id=27844512878, doi='10.1080/0020754050056417'), Reference(scopus_id=85044293491, doi='10.1016/j.future.2018.03.020'), Reference(scopus_id=84955275128, doi='10.1016/j.eswa.2015.12.001'), Reference(scopus_id=85042828922, doi='10.1007/978-3-319-07153-4˙29-1'), Reference(scopus_id=85025603195, doi='10.1016/j.cie.2017.07.021'), Reference(scopus_id=3463297, doi=None), Reference(scopus_id=3722376, doi=None), Reference(scopus_id=84893734286, doi='10.1016/j.omega.2013.07.004'), Reference(scopus_id=1642559633, doi='10.1016/S0377-2217(02)00908-6'), Reference(scopus_id=3543067026, doi='10.1023/B:JIMS.0000026570.03851.cc'), Reference(scopus_id=55449124245, doi='10.1016/j.cie.2008.03.003'), Reference(scopus_id=50549099925, doi='10.1007/978-3-540-78985-7_1'), Reference(scopus_id=84892563095, doi='10.1016/j.cor.2013.12.012'), Reference(scopus_id=85058501015, doi='10.3390/app8122621'), Reference(scopus_id=85021428637, doi='10.1016/j.ijpe.2017.06.026'), Reference(scopus_id=84871996322, doi='10.1016/j.scient.2012.10.034'), Reference(scopus_id=30241443, doi='10.1016/0360-8352(96)00053-8'), Reference(scopus_id=84866148007, doi='10.1016/j.cor.2012.05.018'), Reference(scopus_id=33746825131, doi='10.1007/s00170-005-0082-1'), Reference(scopus_id=3242768304, doi='10.1057/palgrave.jors.2601766'), Reference(scopus_id=84989913781, doi='10.1504/IJMOR.2016.077560'), Reference(scopus_id=85042536649, doi='10.1007/s00500-018-3075-3'), Reference(scopus_id=3075019, doi='10.1002/nav.3800010110'), Reference(scopus_id=38849113294, doi='10.1016/j.cie.2007.09.006'), Reference(scopus_id=85028019151, doi='10.1016/j.engappai.2017.07.023'), Reference(scopus_id=34301652, doi='10.1016/S0377-2217(99)00435-X'), Reference(scopus_id=34548619478, doi='10.1016/j.cor.2006.08.016'), Reference(scopus_id=84952658647, doi='10.1080/0951192X.2015.1130240'), Reference(scopus_id=84945242071, doi='10.1080/00207543.2015.1094584'), Reference(scopus_id=28244470744, doi='10.1007/s10479-005-3971-7'), Reference(scopus_id=2942679514, doi='10.1007/s00170-003-1687-x'), Reference(scopus_id=84960350951, doi='10.3233/AIC-150695'), Reference(scopus_id=344236266, doi='10.1145/937503.937505'), Reference(scopus_id=84861012458, doi='10.1016/j.cie.2012.03.015'), Reference(scopus_id=84957954796, doi='10.1007/s00500-016-2062-9'), Reference(scopus_id=84995488495, doi='10.1016/j.ejor.2016.09.055'), Reference(scopus_id=54449086192, doi='10.1016/j.cor.2008.01.007'), Reference(scopus_id=84855278833, doi='10.1016/j.swevo.2011.11.003'), Reference(scopus_id=2611698, doi='10.1016/S0377-2217(97)00136-7'), Reference(scopus_id=1842760692, doi='10.1016/j.omega.2003.12.001'), Reference(scopus_id=84884542709, doi=None), Reference(scopus_id=29207545, doi='10.1016/0377-2217(93)E0228-P'), Reference(scopus_id=33750841084, doi='10.1016/j.ejor.2005.12.009'), Reference(scopus_id=27201278, doi='10.1016/0377-2217(93)90182-M')}), pub_name='Applied Soft Computing Journal', pub_issn_print='15684946', pub_issn_electronic=None),\n",
       " PaperInfo(iter_depth=1, title='A new improved NEH heuristic for permutation flowshop scheduling problems', authors='Liu, W.; Jin, Y.; Price, M.', year=2017, scopus_id=85021428637, doi='10.1016/j.ijpe.2017.06.026', eid='2-s2.0-85021428637', scopus_url='https://www.scopus.com/inward/record.uri?partnerID=HzOxMe3b&scp=85021428637&origin=inward', refs=frozenset({Reference(scopus_id=3592198, doi=None), Reference(scopus_id=36902280, doi=None), Reference(scopus_id=34248849, doi=None), Reference(scopus_id=20699921, doi=None), Reference(scopus_id=84865189395, doi=None), Reference(scopus_id=37146391, doi=None), Reference(scopus_id=84892563095, doi=None), Reference(scopus_id=29452570, doi=None), Reference(scopus_id=84862942748, doi=None), Reference(scopus_id=4444266269, doi=None), Reference(scopus_id=38749087646, doi=None), Reference(scopus_id=84928726052, doi=None), Reference(scopus_id=1393583, doi=None), Reference(scopus_id=85021438511, doi=None), Reference(scopus_id=62749100721, doi=None), Reference(scopus_id=42949132087, doi=None), Reference(scopus_id=84930871488, doi=None), Reference(scopus_id=37578177, doi=None), Reference(scopus_id=78649926978, doi=None), Reference(scopus_id=84958752706, doi=None), Reference(scopus_id=85021457224, doi=None), Reference(scopus_id=9744246863, doi=None), Reference(scopus_id=84890077138, doi=None), Reference(scopus_id=46149117525, doi=None), Reference(scopus_id=43210201, doi=None), Reference(scopus_id=84911610879, doi=None), Reference(scopus_id=25700701, doi=None), Reference(scopus_id=67549098078, doi=None), Reference(scopus_id=46449117921, doi=None), Reference(scopus_id=61649112805, doi=None), Reference(scopus_id=84995488495, doi=None), Reference(scopus_id=27201278, doi=None), Reference(scopus_id=33748181887, doi=None)}), pub_name='International Journal of Production Economics', pub_issn_print='09255273', pub_issn_electronic=None),\n",
       " PaperInfo(iter_depth=1, title='A novel Q-learning based variable neighborhood iterative search algorithm for solving disassembly line scheduling problems', authors='Ren, Y.; Gao, K.; Fu, Y.; Sang, H.; Li, D.; Luo, Z.', year=2023, scopus_id=85160559965, doi='10.1016/j.swevo.2023.101338', eid='2-s2.0-85160559965', scopus_url='https://www.scopus.com/inward/record.uri?partnerID=HzOxMe3b&scp=85160559965&origin=inward', refs=frozenset({Reference(scopus_id=85140735233, doi=None), Reference(scopus_id=85046888449, doi=None), Reference(scopus_id=85131186563, doi=None), Reference(scopus_id=85078626821, doi=None), Reference(scopus_id=84961289222, doi=None), Reference(scopus_id=85135174281, doi=None), Reference(scopus_id=85119257867, doi=None), Reference(scopus_id=85097711628, doi=None), Reference(scopus_id=85134645773, doi=None), Reference(scopus_id=85079324174, doi=None), Reference(scopus_id=84881185298, doi=None), Reference(scopus_id=84867068820, doi=None), Reference(scopus_id=33358107, doi=None), Reference(scopus_id=85160523422, doi=None), Reference(scopus_id=85127530143, doi=None), Reference(scopus_id=84954047904, doi=None), Reference(scopus_id=85161399203, doi=None), Reference(scopus_id=85102679466, doi=None), Reference(scopus_id=85167747759, doi=None), Reference(scopus_id=85081367600, doi=None), Reference(scopus_id=85110659633, doi=None), Reference(scopus_id=85129380788, doi=None), Reference(scopus_id=85014840118, doi=None), Reference(scopus_id=85102713016, doi=None), Reference(scopus_id=85060855738, doi=None), Reference(scopus_id=85133924544, doi=None), Reference(scopus_id=34548398404, doi=None), Reference(scopus_id=85052648521, doi=None), Reference(scopus_id=85075624778, doi=None), Reference(scopus_id=85152230858, doi=None), Reference(scopus_id=84949527882, doi=None), Reference(scopus_id=85099222093, doi=None), Reference(scopus_id=85041125327, doi=None), Reference(scopus_id=85048179539, doi=None), Reference(scopus_id=85104630868, doi=None), Reference(scopus_id=85100802135, doi=None), Reference(scopus_id=85059331161, doi=None), Reference(scopus_id=85122395997, doi=None), Reference(scopus_id=85160579065, doi=None), Reference(scopus_id=70749116514, doi=None), Reference(scopus_id=85078157410, doi=None), Reference(scopus_id=85137268458, doi=None), Reference(scopus_id=85033408874, doi=None), Reference(scopus_id=85086500203, doi=None), Reference(scopus_id=84977757037, doi=None), Reference(scopus_id=85067798381, doi=None), Reference(scopus_id=85135763567, doi=None), Reference(scopus_id=85059046766, doi=None), Reference(scopus_id=85077090926, doi=None), Reference(scopus_id=85124395120, doi=None), Reference(scopus_id=85146295412, doi=None), Reference(scopus_id=37143030, doi=None), Reference(scopus_id=85132649463, doi=None), Reference(scopus_id=85043483256, doi=None), Reference(scopus_id=85086748025, doi=None), Reference(scopus_id=85102799610, doi=None), Reference(scopus_id=85037653887, doi=None)}), pub_name='Swarm and Evolutionary Computation', pub_issn_print='22106502', pub_issn_electronic=None),\n",
       " PaperInfo(iter_depth=1, title='A novel hybrid meta-heuristic algorithm for solving multi objective flexible job shop scheduling', authors='Shahsavari-Pour, N.; Ghasemishabankareh, B.', year=2013, scopus_id=84888329929, doi='10.1016/j.jmsy.2013.04.015', eid='2-s2.0-84888329929', scopus_url='https://www.scopus.com/inward/record.uri?partnerID=HzOxMe3b&scp=84888329929&origin=inward', refs=frozenset({Reference(scopus_id=84858337472, doi=None), Reference(scopus_id=79951654274, doi=None), Reference(scopus_id=84858698947, doi=None), Reference(scopus_id=25531716, doi=None), Reference(scopus_id=78650682362, doi=None), Reference(scopus_id=79955897097, doi=None), Reference(scopus_id=38849162891, doi=None), Reference(scopus_id=16952078, doi=None), Reference(scopus_id=77955205070, doi=None), Reference(scopus_id=50649083283, doi=None), Reference(scopus_id=35481812, doi=None), Reference(scopus_id=62615, doi=None), Reference(scopus_id=36464279, doi=None), Reference(scopus_id=42261208, doi=None), Reference(scopus_id=37116761, doi=None), Reference(scopus_id=84888335320, doi=None), Reference(scopus_id=40249118429, doi=None), Reference(scopus_id=14044268702, doi=None), Reference(scopus_id=67349174559, doi=None), Reference(scopus_id=32632032, doi=None), Reference(scopus_id=2597542, doi=None), Reference(scopus_id=34250084648, doi=None), Reference(scopus_id=78650697321, doi=None), Reference(scopus_id=1953837, doi=None), Reference(scopus_id=38269297, doi=None), Reference(scopus_id=81555213556, doi=None), Reference(scopus_id=37201140, doi=None), Reference(scopus_id=33745727034, doi=None), Reference(scopus_id=1131837, doi=None), Reference(scopus_id=2298494, doi=None)}), pub_name='Journal of Manufacturing Systems', pub_issn_print='02786125', pub_issn_electronic=None),\n",
       " PaperInfo(iter_depth=1, title='A novel mathematical model and multi-objective method for the low-carbon flexible job shop scheduling problem', authors='Yin, L.; Li, X.; Gao, L.; Lu, C.; Zhang, Z.', year=2017, scopus_id=85008185842, doi='10.1016/j.suscom.2016.11.002', eid='2-s2.0-85008185842', scopus_url='https://www.scopus.com/inward/record.uri?partnerID=HzOxMe3b&scp=85008185842&origin=inward', refs=frozenset({Reference(scopus_id=84876028294, doi=None), Reference(scopus_id=84878535815, doi=None), Reference(scopus_id=3438602, doi=None), Reference(scopus_id=84893758734, doi=None), Reference(scopus_id=85013869204, doi=None), Reference(scopus_id=34547806362, doi=None), Reference(scopus_id=77349111324, doi=None), Reference(scopus_id=65449125405, doi=None), Reference(scopus_id=56749087391, doi=None), Reference(scopus_id=80054680608, doi=None), Reference(scopus_id=84886724001, doi=None), Reference(scopus_id=84872139040, doi=None), Reference(scopus_id=79955942177, doi=None), Reference(scopus_id=79956092583, doi=None), Reference(scopus_id=64349117608, doi=None), Reference(scopus_id=84896315442, doi=None), Reference(scopus_id=84990330547, doi=None), Reference(scopus_id=34548395445, doi=None), Reference(scopus_id=4243118645, doi=None), Reference(scopus_id=84913601353, doi=None), Reference(scopus_id=70349764553, doi=None), Reference(scopus_id=33318858, doi=None), Reference(scopus_id=34205777, doi=None), Reference(scopus_id=36530772, doi=None), Reference(scopus_id=84861589845, doi=None), Reference(scopus_id=84993940961, doi=None), Reference(scopus_id=79955036517, doi=None), Reference(scopus_id=78650636006, doi=None), Reference(scopus_id=85086498535, doi=None), Reference(scopus_id=84879422697, doi=None), Reference(scopus_id=84925305323, doi=None), Reference(scopus_id=70350568684, doi=None), Reference(scopus_id=80052124788, doi=None), Reference(scopus_id=84939619960, doi=None), Reference(scopus_id=84878373116, doi=None)}), pub_name='Sustainable Computing: Informatics and Systems', pub_issn_print='22105379', pub_issn_electronic=None),\n",
       " PaperInfo(iter_depth=1, title='A novel priority dispatch rule generation method based on graph neural network and reinforcement learning for distributed job-shop scheduling', authors='Huang, J.-P.; Gao, L.; Li, X.-Y.; Zhang, C.-J.', year=2023, scopus_id=85162172701, doi='10.1016/j.jmsy.2023.06.007', eid='2-s2.0-85162172701', scopus_url='https://www.scopus.com/inward/record.uri?partnerID=HzOxMe3b&scp=85162172701&origin=inward', refs=frozenset({Reference(scopus_id=85108304642, doi='10.2507/IJSIMM20-2-CO7'), Reference(scopus_id=85032362754, doi='10.1016/j.procs.2017.08.267'), Reference(scopus_id=85162160130, doi=None), Reference(scopus_id=85089189893, doi='10.1016/j.swevo.2020.100745'), Reference(scopus_id=85124985349, doi=None), Reference(scopus_id=85047000455, doi=None), Reference(scopus_id=85162096247, doi=None), Reference(scopus_id=37396491, doi='10.1016/S0305-0483(03)00020-3'), Reference(scopus_id=16952078, doi='10.1287/moor.1.2.117'), Reference(scopus_id=85090060302, doi=None), Reference(scopus_id=85125703696, doi='10.1109/TII.2022.3155162'), Reference(scopus_id=5648655, doi=None), Reference(scopus_id=85103690898, doi='10.1016/j.swevo.2021.100874'), Reference(scopus_id=85100138902, doi='10.1109/ACCESS.2020.3029868'), Reference(scopus_id=85127495326, doi='10.1109/TSP.2022.3163626'), Reference(scopus_id=85102851103, doi='10.1016/j.comnet.2021.107969'), Reference(scopus_id=85100179489, doi='10.3390/s21031019'), Reference(scopus_id=85098467106, doi='10.1016/j.cie.2020.107021'), Reference(scopus_id=85120886434, doi=None), Reference(scopus_id=85162107943, doi=None), Reference(scopus_id=36640167, doi='10.1023/A:1015831711304'), Reference(scopus_id=85075644713, doi=None), Reference(scopus_id=34325416, doi='10.1016/S0921-8890(00)00087-7'), Reference(scopus_id=85058463787, doi='10.1007/s10489-018-1343-7'), Reference(scopus_id=84942367916, doi='10.1007/s00170-015-7080-8'), Reference(scopus_id=34651053, doi='10.1080/002075400189301'), Reference(scopus_id=85129220142, doi='10.1080/00207543.2022.2058432'), Reference(scopus_id=58649113008, doi='10.1109/TNN.2008.2005605'), Reference(scopus_id=84864835511, doi='10.1080/00207543.2011.611539'), Reference(scopus_id=84888639420, doi='10.1007/s00170-012-4565-6'), Reference(scopus_id=85127620285, doi='10.3390/machines10030210'), Reference(scopus_id=84905189822, doi='10.1016/j.eswa.2014.06.023'), Reference(scopus_id=85150257983, doi='10.1016/j.jmsy.2023.02.002'), Reference(scopus_id=85068618692, doi='10.1109/TII.2019.2908210'), Reference(scopus_id=85104963526, doi=None), Reference(scopus_id=84965124295, doi='10.1016/j.engappai.2016.04.005'), Reference(scopus_id=35307346, doi='10.1016/S0360-8352(01)00008-0'), Reference(scopus_id=85133611731, doi='10.1109/TIM.2022.3184352'), Reference(scopus_id=42733396, doi='10.1023/A:1024653810491'), Reference(scopus_id=85081140568, doi='10.1016/j.asoc.2020.106208'), Reference(scopus_id=85115808731, doi='10.1016/j.jmsy.2021.08.008'), Reference(scopus_id=85118660219, doi=None), Reference(scopus_id=85033344863, doi='10.1007/978-3-642-27645-3_1'), Reference(scopus_id=85107196128, doi='10.1109/TPWRS.2021.3084469'), Reference(scopus_id=85133157217, doi='10.1016/j.eswa.2022.117796'), Reference(scopus_id=34559461, doi='10.1016/S0377-2217(99)00486-5'), Reference(scopus_id=85108378726, doi='10.2507/IJSIMM20-2-CO10'), Reference(scopus_id=3054955, doi='10.1287/opre.25.1.45'), Reference(scopus_id=85096721517, doi='10.1016/j.swevo.2020.100804'), Reference(scopus_id=34548270446, doi='10.1016/j.cie.2007.06.024'), Reference(scopus_id=85088318959, doi='10.1109/TCYB.2020.2977374'), Reference(scopus_id=85079694318, doi='10.1016/j.jmsy.2020.02.004'), Reference(scopus_id=85090176877, doi=None), Reference(scopus_id=85129158135, doi='10.3390/pr10040760'), Reference(scopus_id=85108393338, doi=None), Reference(scopus_id=85084170875, doi='10.1109/ACCESS.2020.2987820')}), pub_name='Journal of Manufacturing Systems', pub_issn_print='02786125', pub_issn_electronic=None),\n",
       " PaperInfo(iter_depth=1, title='A priority scheduling approach for flexible job shops with multiple process plans', authors='Doh, H.-H.; Yu, J.-M.; Kim, J.-S.; Lee, D.-H.; Nam, S.-H.', year=2013, scopus_id=84880249924, doi='10.1080/00207543.2013.765074', eid='2-s2.0-84880249924', scopus_url='https://www.scopus.com/inward/record.uri?partnerID=HzOxMe3b&scp=84880249924&origin=inward', refs=frozenset({Reference(scopus_id=30270466, doi=None), Reference(scopus_id=344898438, doi=None), Reference(scopus_id=41776646, doi=None), Reference(scopus_id=33747682830, doi=None), Reference(scopus_id=16952078, doi=None), Reference(scopus_id=33845974930, doi=None), Reference(scopus_id=35836306, doi=None), Reference(scopus_id=37410965, doi=None), Reference(scopus_id=62615, doi=None), Reference(scopus_id=19145498, doi=None), Reference(scopus_id=35918750, doi=None), Reference(scopus_id=1042289055, doi=None), Reference(scopus_id=14044268702, doi=None), Reference(scopus_id=36642595, doi=None), Reference(scopus_id=84860375846, doi=None), Reference(scopus_id=33340198, doi=None), Reference(scopus_id=34250084648, doi=None), Reference(scopus_id=75449102375, doi=None), Reference(scopus_id=639019, doi=None), Reference(scopus_id=12473394, doi=None), Reference(scopus_id=2577337, doi=None), Reference(scopus_id=38749142590, doi=None), Reference(scopus_id=4944252227, doi=None), Reference(scopus_id=25531716, doi=None), Reference(scopus_id=33102020, doi=None), Reference(scopus_id=25482435, doi=None), Reference(scopus_id=37146442, doi=None), Reference(scopus_id=20013653, doi=None), Reference(scopus_id=42261208, doi=None), Reference(scopus_id=4028632, doi=None), Reference(scopus_id=35841882, doi=None), Reference(scopus_id=84863213016, doi=None), Reference(scopus_id=41749104232, doi=None), Reference(scopus_id=3054955, doi=None), Reference(scopus_id=23344453490, doi=None), Reference(scopus_id=37201140, doi=None), Reference(scopus_id=80052825973, doi=None), Reference(scopus_id=84886385657, doi=None), Reference(scopus_id=77951139709, doi=None)}), pub_name='International Journal of Production Research', pub_issn_print='00207543', pub_issn_electronic='1366588X'),\n",
       " PaperInfo(iter_depth=1, title='A random forest ranking approach to predict yield in maize with uav-based vegetation spectral indices', authors='Marques, Ramos, A.P.; Prado, Osco, L.; Elis, Garcia, Furuya, D.; Nunes, Goncalves, W.; Cordeiro, Santana, D.; Pereira, Ribeiro, Teodoro, L.; Antonio, da, Silva, Junior, C.; Fernando, Capristo-Silva, G.; Li, J.; Henrique, Rojo, Baio, F.; Marcato, Junior, J.; Eduardo, Teodoro, P.; Pistori, H.', year=2020, scopus_id=85091237221, doi='10.1016/j.compag.2020.105791', eid='2-s2.0-85091237221', scopus_url='https://www.scopus.com/inward/record.uri?partnerID=HzOxMe3b&scp=85091237221&origin=inward', refs=frozenset({Reference(scopus_id=84940000643, doi='10.1016/j.biortech.2015.01.083'), Reference(scopus_id=84983158468, doi='10.1016/j.biosystemseng.2015.12.003'), Reference(scopus_id=84961834117, doi='10.1016/j.isprsjprs.2016.01.011'), Reference(scopus_id=85071865615, doi='10.1016/j.rse.2019.111410'), Reference(scopus_id=84973502992, doi='10.1371/journal.pone.0156571'), Reference(scopus_id=85079133007, doi='10.1016/j.compag.2019.105197'), Reference(scopus_id=85010540243, doi='10.1080/01431161.2012.713142'), Reference(scopus_id=36779091, doi='10.1016/s0031-3203(01)00178-9'), Reference(scopus_id=85068157908, doi='10.1016/j.compag.2019.104859'), Reference(scopus_id=16844366163, doi='10.1016/j.compag.2004.11.014'), Reference(scopus_id=85048488279, doi='10.1016/j.compag.2018.05.012'), Reference(scopus_id=85015986841, doi='10.1016/j.compag.2017.03.010'), Reference(scopus_id=85088259227, doi='10.1007/s42452-019-1356-9'), Reference(scopus_id=85071431069, doi='10.3390/agronomy9090496'), Reference(scopus_id=85091197086, doi=None), Reference(scopus_id=85052088926, doi='10.3390/s18082674'), Reference(scopus_id=85014014048, doi='10.1016/j.sjbs.2017.01.024'), Reference(scopus_id=85076518754, doi=None), Reference(scopus_id=84950349731, doi='10.1016/j.compag.2015.11.018'), Reference(scopus_id=85028028387, doi='10.1016/j.forsciint.2017.08.005'), Reference(scopus_id=85051813285, doi='10.1016/j.compag.2018.07.016'), Reference(scopus_id=84943647909, doi='10.1016/j.jag.2014.12.010'), Reference(scopus_id=85040018154, doi='10.1007/s10462-017-9611-1'), Reference(scopus_id=85079196653, doi='10.3389/fpls.2019.01750'), Reference(scopus_id=37186544, doi='10.1016/s0167-9473(01)00065-2'), Reference(scopus_id=85077880956, doi='10.3390/rs11242925'), Reference(scopus_id=85091243444, doi=None), Reference(scopus_id=84992308981, doi='10.1016/j.biosystemseng.2015.10.003'), Reference(scopus_id=30211964, doi='10.1023/a:1018054314350'), Reference(scopus_id=34541885, doi='10.1109/igarss.2000.860527')}), pub_name='Computers and Electronics in Agriculture', pub_issn_print='01681699', pub_issn_electronic=None),\n",
       " PaperInfo(iter_depth=1, title='A referenced iterated greedy algorithm for the distributed assembly mixed no-idle permutation flowshop scheduling problem with the total tardiness criterion', authors='Li, Y.-Z.; Pan, Q.-K.; Ruiz, R.; Sang, H.-Y.', year=2022, scopus_id=85122288138, doi='10.1016/j.knosys.2021.108036', eid='2-s2.0-85122288138', scopus_url='https://www.scopus.com/inward/record.uri?partnerID=HzOxMe3b&scp=85122288138&origin=inward', refs=frozenset({Reference(scopus_id=85059308547, doi=None), Reference(scopus_id=85088891653, doi=None), Reference(scopus_id=85099094024, doi=None), Reference(scopus_id=85122277390, doi=None), Reference(scopus_id=85119422865, doi=None), Reference(scopus_id=85103690898, doi=None), Reference(scopus_id=85043600917, doi=None), Reference(scopus_id=85071851030, doi=None), Reference(scopus_id=85090940182, doi=None), Reference(scopus_id=55449124245, doi=None), Reference(scopus_id=84942784536, doi=None), Reference(scopus_id=85018385184, doi=None), Reference(scopus_id=85122305568, doi=None), Reference(scopus_id=85098467106, doi=None), Reference(scopus_id=85122306979, doi=None), Reference(scopus_id=85122279843, doi=None), Reference(scopus_id=85060947624, doi=None), Reference(scopus_id=85062986233, doi=None), Reference(scopus_id=85066087086, doi=None), Reference(scopus_id=85093664944, doi=None), Reference(scopus_id=84882454321, doi=None), Reference(scopus_id=85107641911, doi=None), Reference(scopus_id=85077474878, doi=None), Reference(scopus_id=84965071551, doi=None), Reference(scopus_id=70350752447, doi=None), Reference(scopus_id=85088130497, doi=None), Reference(scopus_id=85044293828, doi=None), Reference(scopus_id=85078426187, doi=None), Reference(scopus_id=85021236729, doi=None), Reference(scopus_id=42733396, doi=None), Reference(scopus_id=85122303701, doi=None), Reference(scopus_id=84884906840, doi=None), Reference(scopus_id=85044918488, doi=None), Reference(scopus_id=85098063704, doi=None), Reference(scopus_id=85079871324, doi=None), Reference(scopus_id=85086145380, doi=None), Reference(scopus_id=85122296681, doi=None), Reference(scopus_id=84969802860, doi=None), Reference(scopus_id=84887782636, doi=None), Reference(scopus_id=34548270446, doi=None), Reference(scopus_id=85096721517, doi=None), Reference(scopus_id=10444237299, doi=None), Reference(scopus_id=84940703097, doi=None), Reference(scopus_id=85060842235, doi=None), Reference(scopus_id=33750841084, doi=None)}), pub_name='Knowledge-Based Systems', pub_issn_print='09507051', pub_issn_electronic=None),\n",
       " PaperInfo(iter_depth=1, title='A reinforcement learning approach to parameter estimation in dynamic job shop scheduling', authors='Shahrabi, J.; Adibi, M.A.; Mahootchi, M.', year=2017, scopus_id=85019975083, doi='10.1016/j.cie.2017.05.026', eid='2-s2.0-85019975083', scopus_url='https://www.scopus.com/inward/record.uri?partnerID=HzOxMe3b&scp=85019975083&origin=inward', refs=frozenset({Reference(scopus_id=1442285828, doi=None), Reference(scopus_id=84962310023, doi=None), Reference(scopus_id=32668814, doi=None), Reference(scopus_id=31165072, doi=None), Reference(scopus_id=30212629, doi=None), Reference(scopus_id=70349577894, doi=None), Reference(scopus_id=35360038, doi=None), Reference(scopus_id=34325416, doi=None), Reference(scopus_id=4043168553, doi=None), Reference(scopus_id=77952091174, doi=None), Reference(scopus_id=84919764134, doi=None), Reference(scopus_id=70449637498, doi=None), Reference(scopus_id=84973102511, doi=None), Reference(scopus_id=84888630832, doi=None), Reference(scopus_id=23977010, doi=None), Reference(scopus_id=84937817010, doi=None), Reference(scopus_id=78149420086, doi=None), Reference(scopus_id=77958134717, doi=None), Reference(scopus_id=18844442302, doi=None), Reference(scopus_id=33645503297, doi=None), Reference(scopus_id=10844274625, doi=None), Reference(scopus_id=72249103812, doi=None), Reference(scopus_id=31281221, doi=None), Reference(scopus_id=33721287, doi=None), Reference(scopus_id=34248179019, doi=None), Reference(scopus_id=84896697932, doi=None), Reference(scopus_id=242485199, doi=None), Reference(scopus_id=41520978, doi=None), Reference(scopus_id=39749143379, doi=None), Reference(scopus_id=78649318482, doi=None), Reference(scopus_id=78049286231, doi=None), Reference(scopus_id=35548945368, doi=None), Reference(scopus_id=44649141849, doi=None), Reference(scopus_id=84878851706, doi='10.1016/j.cirp.2013.03.047'), Reference(scopus_id=10844252155, doi=None)}), pub_name='Computers and Industrial Engineering', pub_issn_print='03608352', pub_issn_electronic=None),\n",
       " PaperInfo(iter_depth=1, title='A reinforcement learning based RMOEA/D for bi-objective fuzzy flexible job shop scheduling', authors='Li, R.; Gong, W.; Lu, C.', year=2022, scopus_id=85130351571, doi='10.1016/j.eswa.2022.117380', eid='2-s2.0-85130351571', scopus_url='https://www.scopus.com/inward/record.uri?partnerID=HzOxMe3b&scp=85130351571&origin=inward', refs=frozenset({Reference(scopus_id=85092560258, doi=None), Reference(scopus_id=85047485188, doi=None), Reference(scopus_id=84861871365, doi=None), Reference(scopus_id=84981501194, doi=None), Reference(scopus_id=34548108555, doi=None), Reference(scopus_id=84938966156, doi=None), Reference(scopus_id=85056321676, doi=None), Reference(scopus_id=34249833101, doi=None), Reference(scopus_id=85106917642, doi=None), Reference(scopus_id=85044791956, doi=None), Reference(scopus_id=31744438420, doi=None), Reference(scopus_id=85100138902, doi=None), Reference(scopus_id=85026675606, doi=None), Reference(scopus_id=85072541336, doi=None), Reference(scopus_id=85041391896, doi=None), Reference(scopus_id=85099173787, doi=None), Reference(scopus_id=85044503454, doi=None), Reference(scopus_id=85087895969, doi=None), Reference(scopus_id=85048890789, doi=None), Reference(scopus_id=84905581607, doi=None), Reference(scopus_id=34250084648, doi=None), Reference(scopus_id=85100754857, doi=None), Reference(scopus_id=85070541991, doi=None), Reference(scopus_id=85135346217, doi=None), Reference(scopus_id=85019975083, doi=None), Reference(scopus_id=84908073130, doi=None), Reference(scopus_id=85055716784, doi=None), Reference(scopus_id=84902933040, doi=None), Reference(scopus_id=59649083826, doi=None), Reference(scopus_id=85130324665, doi=None), Reference(scopus_id=85068618692, doi=None), Reference(scopus_id=85081979461, doi=None), Reference(scopus_id=33881797, doi=None), Reference(scopus_id=85109189329, doi=None), Reference(scopus_id=85130313426, doi=None), Reference(scopus_id=84880239697, doi=None), Reference(scopus_id=36530772, doi=None), Reference(scopus_id=85109093078, doi=None), Reference(scopus_id=85102824278, doi=None), Reference(scopus_id=85081140568, doi=None), Reference(scopus_id=85072977881, doi=None), Reference(scopus_id=85055334235, doi=None), Reference(scopus_id=85101375451, doi=None), Reference(scopus_id=85047881053, doi=None), Reference(scopus_id=84933182818, doi=None), Reference(scopus_id=85111021054, doi=None), Reference(scopus_id=85038840298, doi=None), Reference(scopus_id=85041671661, doi=None), Reference(scopus_id=77951099246, doi=None), Reference(scopus_id=84901842799, doi=None), Reference(scopus_id=85081132525, doi=None), Reference(scopus_id=85082852589, doi=None), Reference(scopus_id=85097948147, doi=None), Reference(scopus_id=84933055604, doi=None), Reference(scopus_id=85117920119, doi=None), Reference(scopus_id=85113352057, doi='10.1109/TEVC.2021.3106168'), Reference(scopus_id=85084170875, doi=None), Reference(scopus_id=85140346493, doi=None), Reference(scopus_id=85130319230, doi=None), Reference(scopus_id=85065472639, doi=None)}), pub_name='Expert Systems with Applications', pub_issn_print='09574174', pub_issn_electronic=None),\n",
       " PaperInfo(iter_depth=1, title='A research survey: Review of flexible job shop scheduling techniques', authors='Chaudhry, I.A.; Khan, A.A.', year=2016, scopus_id=84954400078, doi='10.1111/itor.12199', eid='2-s2.0-84954400078', scopus_url='https://www.scopus.com/inward/record.uri?partnerID=HzOxMe3b&scp=84954400078&origin=inward', refs=frozenset({Reference(scopus_id=84954380803, doi=None), Reference(scopus_id=84961157635, doi=None), Reference(scopus_id=84893389830, doi=None), Reference(scopus_id=19944366600, doi=None), Reference(scopus_id=84947021837, doi=None), Reference(scopus_id=33747682830, doi=None), Reference(scopus_id=79958830093, doi=None), Reference(scopus_id=34547651088, doi=None), Reference(scopus_id=84954401807, doi=None), Reference(scopus_id=7444269591, doi=None), Reference(scopus_id=84861370906, doi=None), Reference(scopus_id=34548515359, doi=None), Reference(scopus_id=84898786849, doi=None), Reference(scopus_id=75449102375, doi=None), Reference(scopus_id=77649234984, doi=None), Reference(scopus_id=84894582828, doi=None), Reference(scopus_id=77955308077, doi=None), Reference(scopus_id=79551649325, doi=None), Reference(scopus_id=84880216625, doi=None), Reference(scopus_id=37349089330, doi=None), Reference(scopus_id=84954380343, doi=None), Reference(scopus_id=80053564983, doi=None), Reference(scopus_id=84954371641, doi=None), Reference(scopus_id=84901059642, doi=None), Reference(scopus_id=38749142590, doi=None), Reference(scopus_id=23844415, doi=None), Reference(scopus_id=84898023488, doi=None), Reference(scopus_id=84879545922, doi=None), Reference(scopus_id=67749116482, doi=None), Reference(scopus_id=84880249924, doi=None), Reference(scopus_id=33748310596, doi=None), Reference(scopus_id=31281221, doi=None), Reference(scopus_id=84870248520, doi=None), Reference(scopus_id=29517385, doi=None), Reference(scopus_id=79251645001, doi=None), Reference(scopus_id=38479948, doi=None), Reference(scopus_id=37049019469, doi=None), Reference(scopus_id=84889808975, doi=None), Reference(scopus_id=84855798863, doi=None), Reference(scopus_id=84880239697, doi=None), Reference(scopus_id=84859557971, doi=None), Reference(scopus_id=78049356373, doi=None), Reference(scopus_id=79951675999, doi=None), Reference(scopus_id=27944444515, doi=None), Reference(scopus_id=63049098340, doi=None), Reference(scopus_id=77953622630, doi=None), Reference(scopus_id=32597097, doi=None), Reference(scopus_id=84887298155, doi=None), Reference(scopus_id=84897633390, doi=None), Reference(scopus_id=84889779314, doi=None), Reference(scopus_id=67349126259, doi=None), Reference(scopus_id=84920780405, doi=None), Reference(scopus_id=84880264313, doi=None), Reference(scopus_id=33750496380, doi=None), Reference(scopus_id=3732093, doi=None), Reference(scopus_id=13444283517, doi=None), Reference(scopus_id=2298494, doi=None), Reference(scopus_id=84860470398, doi=None), Reference(scopus_id=79551635070, doi=None), Reference(scopus_id=84902793346, doi=None), Reference(scopus_id=84954393219, doi=None), Reference(scopus_id=84869495945, doi=None), Reference(scopus_id=38849162891, doi=None), Reference(scopus_id=77955279508, doi=None), Reference(scopus_id=37410965, doi=None), Reference(scopus_id=62615, doi=None), Reference(scopus_id=36464279, doi=None), Reference(scopus_id=84869492892, doi=None), Reference(scopus_id=84861660829, doi=None), Reference(scopus_id=14044268702, doi=None), Reference(scopus_id=84866133152, doi=None), Reference(scopus_id=1178278, doi=None), Reference(scopus_id=77958011560, doi=None), Reference(scopus_id=70349115054, doi=None), Reference(scopus_id=84885594286, doi=None), Reference(scopus_id=84861367985, doi=None), Reference(scopus_id=76049094322, doi=None), Reference(scopus_id=77950298803, doi=None), Reference(scopus_id=75049086134, doi=None), Reference(scopus_id=84859956407, doi=None), Reference(scopus_id=84893801144, doi=None), Reference(scopus_id=84954368187, doi=None), Reference(scopus_id=33847755451, doi=None), Reference(scopus_id=78650179774, doi=None), Reference(scopus_id=84954404545, doi=None), Reference(scopus_id=41849142977, doi=None), Reference(scopus_id=84858698947, doi=None), Reference(scopus_id=77958504132, doi=None), Reference(scopus_id=84902774469, doi=None), Reference(scopus_id=84888329929, doi=None), Reference(scopus_id=3401932, doi=None), Reference(scopus_id=79951579853, doi=None), Reference(scopus_id=84155179216, doi=None), Reference(scopus_id=131281, doi=None), Reference(scopus_id=33751418065, doi=None), Reference(scopus_id=78650682362, doi=None), Reference(scopus_id=42261208, doi=None), Reference(scopus_id=84857456346, doi=None), Reference(scopus_id=78649788124, doi=None), Reference(scopus_id=40249118429, doi=None), Reference(scopus_id=84928709855, doi=None), Reference(scopus_id=35148827874, doi=None), Reference(scopus_id=84866014952, doi=None), Reference(scopus_id=84892917484, doi=None), Reference(scopus_id=84871717100, doi=None), Reference(scopus_id=33746189549, doi=None), Reference(scopus_id=84896404207, doi=None), Reference(scopus_id=79961021676, doi=None), Reference(scopus_id=84870236915, doi=None), Reference(scopus_id=3504884, doi=None), Reference(scopus_id=37201140, doi=None), Reference(scopus_id=84877932787, doi=None), Reference(scopus_id=81555213556, doi=None), Reference(scopus_id=84884906236, doi=None), Reference(scopus_id=84863461118, doi=None), Reference(scopus_id=46149127936, doi=None), Reference(scopus_id=84894900480, doi=None), Reference(scopus_id=84888640770, doi=None), Reference(scopus_id=46149088515, doi=None), Reference(scopus_id=84861871365, doi=None), Reference(scopus_id=34247624966, doi=None), Reference(scopus_id=84865656071, doi=None), Reference(scopus_id=79955897097, doi=None), Reference(scopus_id=84868529419, doi=None), Reference(scopus_id=79957742860, doi=None), Reference(scopus_id=34447289102, doi=None), Reference(scopus_id=84885907218, doi=None), Reference(scopus_id=84954381588, doi=None), Reference(scopus_id=84880731416, doi=None), Reference(scopus_id=78649330971, doi=None), Reference(scopus_id=67349174559, doi=None), Reference(scopus_id=34447306016, doi=None), Reference(scopus_id=26444479778, doi=None), Reference(scopus_id=24640804, doi=None), Reference(scopus_id=84862829861, doi=None), Reference(scopus_id=84872069416, doi=None), Reference(scopus_id=34250084648, doi=None), Reference(scopus_id=84866620719, doi=None), Reference(scopus_id=84954396464, doi=None), Reference(scopus_id=84867883317, doi=None), Reference(scopus_id=84954374966, doi=None), Reference(scopus_id=84876126006, doi=None), Reference(scopus_id=79960498493, doi=None), Reference(scopus_id=70450211135, doi=None), Reference(scopus_id=84954373952, doi=None), Reference(scopus_id=84862798145, doi=None), Reference(scopus_id=78651566914, doi=None), Reference(scopus_id=4944252227, doi=None), Reference(scopus_id=25531716, doi=None), Reference(scopus_id=33646400835, doi=None), Reference(scopus_id=84876045637, doi=None), Reference(scopus_id=84867585346, doi=None), Reference(scopus_id=77954336577, doi=None), Reference(scopus_id=78649707840, doi=None), Reference(scopus_id=37146442, doi=None), Reference(scopus_id=84954360651, doi=None), Reference(scopus_id=79956341072, doi=None), Reference(scopus_id=84880236885, doi=None), Reference(scopus_id=63049098069, doi=None), Reference(scopus_id=7227737, doi=None), Reference(scopus_id=52649152349, doi=None), Reference(scopus_id=84954398558, doi=None), Reference(scopus_id=80855135585, doi=None), Reference(scopus_id=3603813, doi=None), Reference(scopus_id=79751528806, doi=None), Reference(scopus_id=84875448680, doi=None), Reference(scopus_id=77951099246, doi=None), Reference(scopus_id=84954377073, doi=None), Reference(scopus_id=84889245566, doi=None), Reference(scopus_id=61449237375, doi=None), Reference(scopus_id=31648130, doi=None), Reference(scopus_id=33747735942, doi=None), Reference(scopus_id=33845974930, doi=None), Reference(scopus_id=50649083283, doi=None), Reference(scopus_id=84910024596, doi=None), Reference(scopus_id=77956941721, doi=None), Reference(scopus_id=84861687193, doi=None), Reference(scopus_id=70349581723, doi=None), Reference(scopus_id=1042289055, doi=None), Reference(scopus_id=41549160355, doi=None), Reference(scopus_id=70449657251, doi=None), Reference(scopus_id=51649128868, doi=None), Reference(scopus_id=78650650542, doi=None), Reference(scopus_id=77955473840, doi=None), Reference(scopus_id=78149466035, doi=None), Reference(scopus_id=77950629301, doi=None), Reference(scopus_id=2577337, doi=None), Reference(scopus_id=84887955899, doi=None), Reference(scopus_id=35546051, doi=None), Reference(scopus_id=77049113541, doi=None), Reference(scopus_id=84866153929, doi=None), Reference(scopus_id=84897440720, doi=None), Reference(scopus_id=53749102032, doi=None), Reference(scopus_id=17444376021, doi=None), Reference(scopus_id=84888335320, doi=None), Reference(scopus_id=77955573212, doi=None), Reference(scopus_id=22865373, doi=None), Reference(scopus_id=41825757, doi=None), Reference(scopus_id=69249206751, doi=None), Reference(scopus_id=84954372573, doi=None), Reference(scopus_id=79953808353, doi=None), Reference(scopus_id=50249127397, doi=None), Reference(scopus_id=79955151846, doi=None), Reference(scopus_id=51649093095, doi=None), Reference(scopus_id=84888341478, doi=None), Reference(scopus_id=67651065835, doi=None), Reference(scopus_id=42021869, doi=None), Reference(scopus_id=84866616814, doi=None), Reference(scopus_id=84961161712, doi=None), Reference(scopus_id=84873710072, doi=None), Reference(scopus_id=29535737, doi=None), Reference(scopus_id=84900804602, doi=None)}), pub_name='International Transactions in Operational Research', pub_issn_print='09696016', pub_issn_electronic='14753995'),\n",
       " PaperInfo(iter_depth=1, title='A tabu search algorithm for solving a multicriteria flexible job shop scheduling problem', authors='Vilcot, G.; Billaut, J.-C.', year=2011, scopus_id=84855798863, doi='10.1080/00207543.2010.526016', eid='2-s2.0-84855798863', scopus_url='https://www.scopus.com/inward/record.uri?partnerID=HzOxMe3b&scp=84855798863&origin=inward', refs=frozenset({Reference(scopus_id=84892042498, doi=None), Reference(scopus_id=418020, doi=None), Reference(scopus_id=34250084648, doi=None), Reference(scopus_id=32048428, doi=None), Reference(scopus_id=411214, doi=None), Reference(scopus_id=8573551, doi=None), Reference(scopus_id=33751418065, doi=None), Reference(scopus_id=36530772, doi=None), Reference(scopus_id=13444283517, doi=None), Reference(scopus_id=43158965, doi=None), Reference(scopus_id=62615, doi=None), Reference(scopus_id=42261208, doi=None), Reference(scopus_id=37201140, doi=None), Reference(scopus_id=2577337, doi=None), Reference(scopus_id=33749118013, doi=None)}), pub_name='International Journal of Production Research', pub_issn_print='00207543', pub_issn_electronic='1366588X'),\n",
       " PaperInfo(iter_depth=1, title='A two-phase evolutionary algorithm for multi-objective distributed assembly permutation flowshop scheduling problem', authors='Huang, Y.-Y.; Pan, Q.-K.; Gao, L.; Miao, Z.-H.; Peng, C.', year=2022, scopus_id=85134645773, doi='10.1016/j.swevo.2022.101128', eid='2-s2.0-85134645773', scopus_url='https://www.scopus.com/inward/record.uri?partnerID=HzOxMe3b&scp=85134645773&origin=inward', refs=frozenset({Reference(scopus_id=34548108555, doi=None), Reference(scopus_id=85088656269, doi=None), Reference(scopus_id=85122644877, doi=None), Reference(scopus_id=85129032976, doi=None), Reference(scopus_id=85040939028, doi=None), Reference(scopus_id=84945236886, doi=None), Reference(scopus_id=84911989147, doi=None), Reference(scopus_id=84896934557, doi=None), Reference(scopus_id=84896390686, doi=None), Reference(scopus_id=85045683361, doi=None), Reference(scopus_id=85098467106, doi=None), Reference(scopus_id=852513, doi=None), Reference(scopus_id=3142756516, doi=None), Reference(scopus_id=85133775397, doi=None), Reference(scopus_id=85118324006, doi=None), Reference(scopus_id=84905581607, doi=None), Reference(scopus_id=85124187300, doi='10.1007/s10479-022-04537-2'), Reference(scopus_id=77958151592, doi=None), Reference(scopus_id=85134690597, doi=None), Reference(scopus_id=85101741479, doi=None), Reference(scopus_id=85029513004, doi=None), Reference(scopus_id=85091235629, doi=None), Reference(scopus_id=85066087086, doi=None), Reference(scopus_id=85134717869, doi='10.1109/TCYB.2020.3026571'), Reference(scopus_id=85093664944, doi=None), Reference(scopus_id=85125510702, doi=None), Reference(scopus_id=85049099952, doi=None), Reference(scopus_id=85090295478, doi=None), Reference(scopus_id=84945454006, doi=None), Reference(scopus_id=85086503992, doi=None), Reference(scopus_id=85095797945, doi=None), Reference(scopus_id=85006427576, doi=None), Reference(scopus_id=67349108023, doi=None), Reference(scopus_id=85096850760, doi=None), Reference(scopus_id=36530772, doi=None), Reference(scopus_id=84884906840, doi=None), Reference(scopus_id=85112349407, doi=None), Reference(scopus_id=85095750114, doi=None), Reference(scopus_id=85068417768, doi=None), Reference(scopus_id=85124219882, doi=None), Reference(scopus_id=85096721517, doi=None), Reference(scopus_id=85051796208, doi=None), Reference(scopus_id=85098998132, doi=None), Reference(scopus_id=85096592376, doi=None), Reference(scopus_id=85034444025, doi=None), Reference(scopus_id=85060842235, doi=None)}), pub_name='Swarm and Evolutionary Computation', pub_issn_print='22106502', pub_issn_electronic=None),\n",
       " PaperInfo(iter_depth=1, title='Above-Ground Biomass Estimation in Oats Using UAV Remote Sensing and Machine Learning', authors='Sharma, P.; Leigh, L.; Chang, J.; Maimaitijiang, M.; Caffe, M.', year=2022, scopus_id=85122862670, doi='10.3390/s22020601', eid='2-s2.0-85122862670', scopus_url='https://www.scopus.com/inward/record.uri?partnerID=HzOxMe3b&scp=85122862670&origin=inward', refs=frozenset({Reference(scopus_id=85054823424, doi=None), Reference(scopus_id=85047897601, doi=None), Reference(scopus_id=84912124929, doi=None), Reference(scopus_id=84951041539, doi=None), Reference(scopus_id=84903197446, doi=None), Reference(scopus_id=85088816647, doi=None), Reference(scopus_id=85010058253, doi=None), Reference(scopus_id=85019942927, doi=None), Reference(scopus_id=85048261649, doi=None), Reference(scopus_id=34249753618, doi=None), Reference(scopus_id=85015782675, doi=None), Reference(scopus_id=33749179929, doi=None), Reference(scopus_id=85062338076, doi=None), Reference(scopus_id=85066254879, doi=None), Reference(scopus_id=346250790, doi=None), Reference(scopus_id=84937829673, doi=None), Reference(scopus_id=85070786858, doi=None), Reference(scopus_id=35031849, doi=None), Reference(scopus_id=33970477, doi=None), Reference(scopus_id=85104654126, doi=None), Reference(scopus_id=85082658867, doi=None), Reference(scopus_id=85017581110, doi=None), Reference(scopus_id=85122856253, doi=None), Reference(scopus_id=85017318727, doi=None), Reference(scopus_id=33845665864, doi=None), Reference(scopus_id=34248524872, doi=None), Reference(scopus_id=85031745353, doi=None), Reference(scopus_id=85042122315, doi=None), Reference(scopus_id=85086986830, doi=None), Reference(scopus_id=58949104210, doi=None), Reference(scopus_id=85022320211, doi=None), Reference(scopus_id=76149134678, doi=None), Reference(scopus_id=85111172708, doi=None), Reference(scopus_id=85043993701, doi=None), Reference(scopus_id=85061613167, doi=None), Reference(scopus_id=85107544176, doi=None), Reference(scopus_id=33645961585, doi=None), Reference(scopus_id=77952317299, doi=None), Reference(scopus_id=84924915060, doi=None), Reference(scopus_id=6344222582, doi=None), Reference(scopus_id=77449091194, doi=None), Reference(scopus_id=2642552447, doi=None), Reference(scopus_id=85032751744, doi=None), Reference(scopus_id=84930946944, doi=None), Reference(scopus_id=5444267906, doi=None), Reference(scopus_id=34026627, doi=None), Reference(scopus_id=85061133701, doi=None), Reference(scopus_id=4444295045, doi=None), Reference(scopus_id=85119843719, doi=None), Reference(scopus_id=84945370501, doi=None), Reference(scopus_id=33751109257, doi=None), Reference(scopus_id=84931033481, doi=None), Reference(scopus_id=84961989773, doi=None), Reference(scopus_id=85058471823, doi=None), Reference(scopus_id=84920647571, doi=None), Reference(scopus_id=85063508885, doi=None), Reference(scopus_id=2872223, doi=None), Reference(scopus_id=77949556640, doi=None), Reference(scopus_id=3343009698, doi=None), Reference(scopus_id=84862941604, doi=None), Reference(scopus_id=84890051238, doi=None), Reference(scopus_id=75449086892, doi=None), Reference(scopus_id=85021090732, doi=None), Reference(scopus_id=84942540720, doi=None), Reference(scopus_id=84950161593, doi=None), Reference(scopus_id=85076600762, doi=None), Reference(scopus_id=85087099068, doi=None), Reference(scopus_id=18465733, doi=None), Reference(scopus_id=50849142217, doi=None), Reference(scopus_id=35917002, doi=None), Reference(scopus_id=84859887564, doi=None), Reference(scopus_id=85061969869, doi=None), Reference(scopus_id=35513550, doi=None), Reference(scopus_id=85017612753, doi=None), Reference(scopus_id=84943519442, doi=None), Reference(scopus_id=77949564118, doi=None), Reference(scopus_id=85062732759, doi=None), Reference(scopus_id=4286427, doi=None), Reference(scopus_id=85072770268, doi=None), Reference(scopus_id=32644437469, doi=None), Reference(scopus_id=36215007, doi=None), Reference(scopus_id=34923743, doi=None), Reference(scopus_id=85074469349, doi=None), Reference(scopus_id=85086997479, doi=None), Reference(scopus_id=22926569, doi=None), Reference(scopus_id=85072372717, doi=None), Reference(scopus_id=28668149, doi=None), Reference(scopus_id=84959421686, doi=None), Reference(scopus_id=85058886907, doi=None), Reference(scopus_id=56249113343, doi=None)}), pub_name='Sensors', pub_issn_print='14248220', pub_issn_electronic=None),\n",
       " PaperInfo(iter_depth=1, title='Actor-critic deep reinforcement learning for solving job shop scheduling problems', authors='Liu, C.-L.; Chang, C.-C.; Tseng, C.-J.', year=2020, scopus_id=85084170875, doi='10.1109/ACCESS.2020.2987820', eid='2-s2.0-85084170875', scopus_url='https://www.scopus.com/inward/record.uri?partnerID=HzOxMe3b&scp=85084170875&origin=inward', refs=frozenset({Reference(scopus_id=84999036937, doi=None), Reference(scopus_id=34249833101, doi=None), Reference(scopus_id=16952078, doi=None), Reference(scopus_id=85025132943, doi=None), Reference(scopus_id=84898938510, doi=None), Reference(scopus_id=84937809422, doi=None), Reference(scopus_id=84924051598, doi=None), Reference(scopus_id=85077811347, doi=None), Reference(scopus_id=24765468, doi=None), Reference(scopus_id=1096735, doi=None), Reference(scopus_id=85048890789, doi=None), Reference(scopus_id=26126118, doi='10.1287/ijoc.3.2.149'), Reference(scopus_id=34325416, doi=None), Reference(scopus_id=85045954603, doi=None), Reference(scopus_id=85045539499, doi=None), Reference(scopus_id=85073748143, doi=None), Reference(scopus_id=56449107505, doi=None), Reference(scopus_id=34548613299, doi=None), Reference(scopus_id=85030683827, doi=None), Reference(scopus_id=1610038, doi=None), Reference(scopus_id=84965135289, doi=None), Reference(scopus_id=34548744762, doi=None), Reference(scopus_id=85077744188, doi=None), Reference(scopus_id=85031121087, doi=None), Reference(scopus_id=85028850241, doi=None), Reference(scopus_id=33357382, doi=None), Reference(scopus_id=4102479, doi=None), Reference(scopus_id=1947856, doi=None), Reference(scopus_id=84963949906, doi=None), Reference(scopus_id=85037555027, doi=None), Reference(scopus_id=85028015443, doi=None), Reference(scopus_id=84941620184, doi=None), Reference(scopus_id=85064833116, doi=None), Reference(scopus_id=237789, doi=None), Reference(scopus_id=84892234592, doi=None), Reference(scopus_id=85064854759, doi=None), Reference(scopus_id=29488746, doi=None), Reference(scopus_id=85074707314, doi=None), Reference(scopus_id=84880690163, doi=None), Reference(scopus_id=85008196469, doi=None), Reference(scopus_id=26844462197, doi=None), Reference(scopus_id=85102627959, doi=None), Reference(scopus_id=85031918331, doi=None), Reference(scopus_id=85021406846, doi=None)}), pub_name='IEEE Access', pub_issn_print='21693536', pub_issn_electronic='21693536'),\n",
       " PaperInfo(iter_depth=1, title='Adam: A method for stochastic optimization', authors='Kingma, D.P.; Ba, J.L.', year=2015, scopus_id=85083951076, doi=None, eid='2-s2.0-85083951076', scopus_url='https://www.scopus.com/inward/record.uri?partnerID=HzOxMe3b&scp=85083951076&origin=inward', refs=frozenset({Reference(scopus_id=77956525316, doi=None), Reference(scopus_id=84883177991, doi=None), Reference(scopus_id=33746600649, doi=None), Reference(scopus_id=84876231242, doi=None), Reference(scopus_id=84906979661, doi=None), Reference(scopus_id=84946086544, doi=None), Reference(scopus_id=84897495440, doi=None), Reference(scopus_id=84897510162, doi=None), Reference(scopus_id=84859023447, doi=None), Reference(scopus_id=84867720412, doi=None), Reference(scopus_id=396062, doi=None), Reference(scopus_id=84891786014, doi=None), Reference(scopus_id=3532348, doi=None), Reference(scopus_id=85032751458, doi=None), Reference(scopus_id=26899240, doi=None), Reference(scopus_id=85083952489, doi=None), Reference(scopus_id=84890543083, doi=None), Reference(scopus_id=80052250414, doi=None), Reference(scopus_id=1942417711, doi=None), Reference(scopus_id=84919904380, doi=None), Reference(scopus_id=84969736572, doi=None), Reference(scopus_id=85162480829, doi=None), Reference(scopus_id=84890491198, doi=None)}), pub_name='3rd International Conference on Learning Representations, ICLR 2015 - Conference Track Proceedings', pub_issn_print=None, pub_issn_electronic=None),\n",
       " PaperInfo(iter_depth=1, title='Adaptive Auxiliary Task Selection for Multitasking-Assisted Constrained Multi-Objective Optimization [Feature]', authors='Ming, F.; Gong, W.; Gao, L.', year=2023, scopus_id=85153575415, doi='10.1109/MCI.2023.3245719', eid='2-s2.0-85153575415', scopus_url='https://www.scopus.com/inward/record.uri?partnerID=HzOxMe3b&scp=85153575415&origin=inward', refs=frozenset({Reference(scopus_id=85128607104, doi=None), Reference(scopus_id=85090995328, doi=None), Reference(scopus_id=85103187333, doi=None), Reference(scopus_id=85101121543, doi=None), Reference(scopus_id=34548108555, doi=None), Reference(scopus_id=85123446925, doi=None), Reference(scopus_id=85117278483, doi=None), Reference(scopus_id=85125729429, doi='10.1109/TEVC.2022.3155533'), Reference(scopus_id=85032221845, doi=None), Reference(scopus_id=85100398615, doi=None), Reference(scopus_id=85114720282, doi=None), Reference(scopus_id=991259, doi=None), Reference(scopus_id=84925070494, doi=None), Reference(scopus_id=79952756383, doi=None), Reference(scopus_id=85153568937, doi=None), Reference(scopus_id=4140075, doi=None), Reference(scopus_id=85063058476, doi=None), Reference(scopus_id=84973352493, doi=None), Reference(scopus_id=85128944813, doi=None), Reference(scopus_id=85096881455, doi=None), Reference(scopus_id=85117357996, doi=None), Reference(scopus_id=85099090735, doi=None), Reference(scopus_id=85124765107, doi='10.1109/TETCI.2022.3146882'), Reference(scopus_id=85113691059, doi=None), Reference(scopus_id=85099586612, doi=None), Reference(scopus_id=85124714421, doi=None), Reference(scopus_id=85132172471, doi='10.1109/TEVC.2022.3175065'), Reference(scopus_id=85102652472, doi=None), Reference(scopus_id=85128245308, doi=None), Reference(scopus_id=84905579836, doi=None), Reference(scopus_id=85112612161, doi=None), Reference(scopus_id=85050211524, doi=None), Reference(scopus_id=85124831559, doi='10.1109/TNNLS.2022.3148435'), Reference(scopus_id=85053939528, doi=None), Reference(scopus_id=33318858, doi=None), Reference(scopus_id=85100479441, doi=None), Reference(scopus_id=55549103698, doi=None), Reference(scopus_id=36530772, doi=None), Reference(scopus_id=85090176602, doi=None), Reference(scopus_id=85087513307, doi=None), Reference(scopus_id=85103904986, doi=None), Reference(scopus_id=85123688797, doi=None), Reference(scopus_id=85121130590, doi=None), Reference(scopus_id=85106397407, doi=None), Reference(scopus_id=85041196128, doi=None), Reference(scopus_id=85057230305, doi=None), Reference(scopus_id=85132734561, doi='10.1109/TCYB.2022.3178132'), Reference(scopus_id=85061318492, doi=None), Reference(scopus_id=85060477409, doi=None), Reference(scopus_id=85090170341, doi=None), Reference(scopus_id=85029294814, doi=None), Reference(scopus_id=85128598247, doi='10.1109/TEVC.2022.3166482'), Reference(scopus_id=85110911209, doi=None), Reference(scopus_id=85082029801, doi=None), Reference(scopus_id=85126268908, doi='10.1109/TCYB.2022.3151974'), Reference(scopus_id=85112146413, doi=None), Reference(scopus_id=85130767857, doi=None), Reference(scopus_id=85106500341, doi=None), Reference(scopus_id=85125650423, doi=None), Reference(scopus_id=85061078777, doi=None), Reference(scopus_id=85107181563, doi=None)}), pub_name='IEEE Computational Intelligence Magazine', pub_issn_print='1556603X', pub_issn_electronic='15566048'),\n",
       " PaperInfo(iter_depth=1, title='Adaptive job shop scheduling strategy based on weighted Q-learning algorithm', authors='Wang, Y.-F.', year=2020, scopus_id=85056321676, doi='10.1007/s10845-018-1454-3', eid='2-s2.0-85056321676', scopus_url='https://www.scopus.com/inward/record.uri?partnerID=HzOxMe3b&scp=85056321676&origin=inward', refs=frozenset({Reference(scopus_id=84890099969, doi=None), Reference(scopus_id=78651298060, doi=None), Reference(scopus_id=81555208210, doi=None), Reference(scopus_id=2996371, doi=None), Reference(scopus_id=34648836755, doi=None), Reference(scopus_id=84983740951, doi=None), Reference(scopus_id=84925511959, doi=None), Reference(scopus_id=84948470937, doi=None), Reference(scopus_id=31198746, doi=None), Reference(scopus_id=4944253466, doi=None), Reference(scopus_id=84912093473, doi=None), Reference(scopus_id=84886724001, doi=None), Reference(scopus_id=13500961, doi=None), Reference(scopus_id=77954863780, doi=None), Reference(scopus_id=85034041252, doi=None), Reference(scopus_id=33901602, doi=None), Reference(scopus_id=84955070122, doi=None), Reference(scopus_id=85019975083, doi=None), Reference(scopus_id=84911439148, doi=None), Reference(scopus_id=85019951533, doi=None), Reference(scopus_id=4172718, doi=None), Reference(scopus_id=84902933040, doi=None), Reference(scopus_id=84983784763, doi=None), Reference(scopus_id=85037150653, doi=None), Reference(scopus_id=65549141565, doi=None), Reference(scopus_id=85053967168, doi=None), Reference(scopus_id=10844274625, doi=None), Reference(scopus_id=85010716228, doi=None), Reference(scopus_id=50149101510, doi=None), Reference(scopus_id=84896493385, doi=None), Reference(scopus_id=84864156107, doi=None), Reference(scopus_id=84962137547, doi=None), Reference(scopus_id=84930195789, doi=None), Reference(scopus_id=84922454987, doi=None), Reference(scopus_id=85029144914, doi=None), Reference(scopus_id=85038884946, doi=None), Reference(scopus_id=67650227926, doi=None), Reference(scopus_id=21496929, doi=None), Reference(scopus_id=79955660257, doi=None), Reference(scopus_id=85031490913, doi=None), Reference(scopus_id=84992449505, doi=None), Reference(scopus_id=790899, doi=None), Reference(scopus_id=85031924471, doi=None)}), pub_name='Journal of Intelligent Manufacturing', pub_issn_print='09565515', pub_issn_electronic='15728145'),\n",
       " PaperInfo(iter_depth=1, title='Aerial color infrared photography for determining early in-season nitrogen requirements in corn', authors='Sripada, R.P.; Heiniger, R.W.; White, J.G.; Meijer, A.D.', year=2006, scopus_id=33746580496, doi='10.2134/agronj2005.0200', eid='2-s2.0-33746580496', scopus_url='https://www.scopus.com/inward/record.uri?partnerID=HzOxMe3b&scp=33746580496&origin=inward', refs=frozenset({Reference(scopus_id=34965507, doi=None), Reference(scopus_id=365060, doi=None), Reference(scopus_id=22115466, doi=None), Reference(scopus_id=29809812, doi=None), Reference(scopus_id=24165401, doi=None), Reference(scopus_id=35668253, doi=None), Reference(scopus_id=2872223, doi=None), Reference(scopus_id=30300961, doi=None), Reference(scopus_id=2333345, doi=None), Reference(scopus_id=43204259, doi=None), Reference(scopus_id=84975589669, doi=None), Reference(scopus_id=30453414, doi=None), Reference(scopus_id=43946, doi=None), Reference(scopus_id=34923446, doi=None), Reference(scopus_id=29751226, doi=None), Reference(scopus_id=3397436, doi=None), Reference(scopus_id=33746479420, doi=None), Reference(scopus_id=36091966, doi=None), Reference(scopus_id=1108671, doi=None), Reference(scopus_id=28253889, doi=None), Reference(scopus_id=4444343108, doi=None), Reference(scopus_id=30457797, doi=None), Reference(scopus_id=18465733, doi=None), Reference(scopus_id=33746503371, doi=None), Reference(scopus_id=20363723, doi=None), Reference(scopus_id=26844468304, doi=None), Reference(scopus_id=48249097297, doi=None), Reference(scopus_id=2065620, doi=None), Reference(scopus_id=29141596, doi=None), Reference(scopus_id=26844543839, doi=None), Reference(scopus_id=29827946, doi=None), Reference(scopus_id=37269230, doi=None), Reference(scopus_id=36118642, doi=None), Reference(scopus_id=26844551550, doi=None), Reference(scopus_id=30614271, doi=None)}), pub_name='Agronomy Journal', pub_issn_print='00021962', pub_issn_electronic=None),\n",
       " PaperInfo(iter_depth=1, title='Alfalfa (Medicago sativa L.) crop vigor and yield characterization using high-resolution aerial multispectral and thermal infrared imaging technique', authors='Chandel, A.K.; Khot, L.R.; Yu, L.-X.', year=2021, scopus_id=85100743003, doi='10.1016/j.compag.2021.105999', eid='2-s2.0-85100743003', scopus_url='https://www.scopus.com/inward/record.uri?partnerID=HzOxMe3b&scp=85100743003&origin=inward', refs=frozenset({Reference(scopus_id=32055821, doi=None), Reference(scopus_id=84863234318, doi=None), Reference(scopus_id=85084281627, doi=None), Reference(scopus_id=77950488862, doi=None), Reference(scopus_id=84908464161, doi=None), Reference(scopus_id=35965476, doi=None), Reference(scopus_id=24125989, doi=None), Reference(scopus_id=32444460, doi=None), Reference(scopus_id=85040675123, doi=None), Reference(scopus_id=36846393, doi=None), Reference(scopus_id=20044391228, doi=None), Reference(scopus_id=85080949053, doi=None), Reference(scopus_id=85014435143, doi=None), Reference(scopus_id=85043277645, doi=None), Reference(scopus_id=85100808531, doi=None), Reference(scopus_id=84867299932, doi=None), Reference(scopus_id=84994479711, doi=None), Reference(scopus_id=85065957219, doi=None), Reference(scopus_id=1287271, doi=None), Reference(scopus_id=85100797290, doi=None), Reference(scopus_id=36849043571, doi=None), Reference(scopus_id=1918073, doi=None), Reference(scopus_id=84888353660, doi=None), Reference(scopus_id=85100791679, doi=None), Reference(scopus_id=84984653696, doi=None), Reference(scopus_id=42382986, doi=None), Reference(scopus_id=40649083532, doi=None), Reference(scopus_id=1442315675, doi=None), Reference(scopus_id=33846172, doi=None), Reference(scopus_id=344364958, doi=None), Reference(scopus_id=2872223, doi=None), Reference(scopus_id=85014967454, doi=None), Reference(scopus_id=30231725, doi=None), Reference(scopus_id=30237101, doi=None), Reference(scopus_id=85045411759, doi=None), Reference(scopus_id=85061180599, doi=None), Reference(scopus_id=84864709816, doi=None), Reference(scopus_id=84894638009, doi=None), Reference(scopus_id=29751226, doi=None), Reference(scopus_id=85100753596, doi=None), Reference(scopus_id=3286206, doi=None), Reference(scopus_id=84975467201, doi=None), Reference(scopus_id=37654979, doi=None), Reference(scopus_id=18465733, doi=None), Reference(scopus_id=84918836936, doi=None), Reference(scopus_id=50849142217, doi=None), Reference(scopus_id=84963728074, doi=None), Reference(scopus_id=84999824591, doi=None), Reference(scopus_id=20971731, doi=None), Reference(scopus_id=85040688083, doi=None), Reference(scopus_id=19685845, doi=None), Reference(scopus_id=25589465, doi=None), Reference(scopus_id=84939543001, doi=None), Reference(scopus_id=27444446, doi=None), Reference(scopus_id=85086995682, doi=None), Reference(scopus_id=85074190050, doi=None), Reference(scopus_id=85086997220, doi=None), Reference(scopus_id=85074469349, doi=None), Reference(scopus_id=85050817511, doi=None), Reference(scopus_id=84944937193, doi=None), Reference(scopus_id=85078975730, doi=None), Reference(scopus_id=3242878962, doi=None), Reference(scopus_id=18466804, doi=None), Reference(scopus_id=85100825338, doi=None), Reference(scopus_id=4750588, doi=None), Reference(scopus_id=85021360637, doi=None)}), pub_name='Computers and Electronics in Agriculture', pub_issn_print='01681699', pub_issn_electronic=None),\n",
       " PaperInfo(iter_depth=1, title='An Ant Colony Optimization Behavior-Based MOEA/D for Distributed Heterogeneous Hybrid Flow Shop Scheduling Problem under Nonidentical Time-of-Use Electricity Tariffs', authors='Shao, W.; Shao, Z.; Pi, D.', year=2022, scopus_id=85118278107, doi='10.1109/TASE.2021.3119353', eid='2-s2.0-85118278107', scopus_url='https://www.scopus.com/inward/record.uri?partnerID=HzOxMe3b&scp=85118278107&origin=inward', refs=frozenset({Reference(scopus_id=85050555268, doi=None), Reference(scopus_id=85079406854, doi=None), Reference(scopus_id=85099094024, doi='10.1109/TCYB.2020.3041494'), Reference(scopus_id=85087520136, doi=None), Reference(scopus_id=34548108555, doi=None), Reference(scopus_id=85028301964, doi=None), Reference(scopus_id=85098046611, doi='10.1109/TETCI.2020.3022372'), Reference(scopus_id=85075463317, doi=None), Reference(scopus_id=84992299293, doi=None), Reference(scopus_id=85076543901, doi=None), Reference(scopus_id=84886724001, doi=None), Reference(scopus_id=85034784802, doi=None), Reference(scopus_id=84902550696, doi=None), Reference(scopus_id=85063469229, doi=None), Reference(scopus_id=85069632814, doi=None), Reference(scopus_id=85090231981, doi=None), Reference(scopus_id=84962162225, doi=None), Reference(scopus_id=79953278898, doi=None), Reference(scopus_id=85065170612, doi=None), Reference(scopus_id=85050545975, doi=None), Reference(scopus_id=2400184, doi=None), Reference(scopus_id=85072958137, doi=None), Reference(scopus_id=85087452474, doi=None), Reference(scopus_id=84978878268, doi='10.1007/978-3-319-42291-6-48'), Reference(scopus_id=85086805310, doi=None), Reference(scopus_id=85088837440, doi=None), Reference(scopus_id=84980390464, doi=None), Reference(scopus_id=85085578818, doi=None), Reference(scopus_id=85042369089, doi=None), Reference(scopus_id=85044293828, doi=None), Reference(scopus_id=85073607365, doi=None), Reference(scopus_id=85078758214, doi=None), Reference(scopus_id=85125610440, doi=None), Reference(scopus_id=85029782486, doi=None), Reference(scopus_id=85101375451, doi=None), Reference(scopus_id=85014441313, doi=None), Reference(scopus_id=85078150371, doi=None), Reference(scopus_id=84976527590, doi=None), Reference(scopus_id=27144540137, doi=None), Reference(scopus_id=84879422697, doi=None), Reference(scopus_id=85072279405, doi=None), Reference(scopus_id=24700013, doi=None), Reference(scopus_id=85097948147, doi=None), Reference(scopus_id=84949882995, doi=None), Reference(scopus_id=84951909365, doi=None)}), pub_name='IEEE Transactions on Automation Science and Engineering', pub_issn_print='15455955', pub_issn_electronic='15583783'),\n",
       " PaperInfo(iter_depth=1, title='An Effective Multi-population Grey Wolf Optimizer based on Reinforcement Learning for Flow Shop Scheduling Problem with Multi-machine Collaboration', authors='Chen, R.; Yang, B.; Li, S.; Wang, S.; Cheng, Q.', year=2021, scopus_id=85117297110, doi='10.1016/j.cie.2021.107738', eid='2-s2.0-85117297110', scopus_url='https://www.scopus.com/inward/record.uri?partnerID=HzOxMe3b&scp=85117297110&origin=inward', refs=frozenset({Reference(scopus_id=84855508353, doi=None), Reference(scopus_id=84878535815, doi=None), Reference(scopus_id=75849147656, doi=None), Reference(scopus_id=16952078, doi=None), Reference(scopus_id=85069645205, doi='10.1016/j.eswa.2019.07.031'), Reference(scopus_id=36464279, doi=None), Reference(scopus_id=85077947033, doi='10.1016/j.cie.2020.106280'), Reference(scopus_id=85074865181, doi=None), Reference(scopus_id=85079522465, doi=None), Reference(scopus_id=15344343721, doi=None), Reference(scopus_id=85046761386, doi=None), Reference(scopus_id=85010877486, doi=None), Reference(scopus_id=85053857455, doi=None), Reference(scopus_id=84949033140, doi=None), Reference(scopus_id=84945555255, doi=None), Reference(scopus_id=79953031480, doi=None), Reference(scopus_id=85082828858, doi='10.1016/j.cie.2020.106778'), Reference(scopus_id=84902836669, doi=None), Reference(scopus_id=38749142590, doi=None), Reference(scopus_id=85066068925, doi=None), Reference(scopus_id=85013625792, doi=None), Reference(scopus_id=85045742273, doi=None), Reference(scopus_id=85042369089, doi=None), Reference(scopus_id=33318858, doi=None), Reference(scopus_id=84960120780, doi=None), Reference(scopus_id=85049011535, doi=None), Reference(scopus_id=84893010002, doi=None), Reference(scopus_id=84962108499, doi=None), Reference(scopus_id=36530772, doi=None), Reference(scopus_id=85035750357, doi=None), Reference(scopus_id=85047600597, doi=None), Reference(scopus_id=85040770141, doi=None), Reference(scopus_id=85099720160, doi=None), Reference(scopus_id=84993940961, doi=None), Reference(scopus_id=85058540003, doi=None), Reference(scopus_id=85046356963, doi=None), Reference(scopus_id=84944704870, doi=None), Reference(scopus_id=85046418795, doi=None), Reference(scopus_id=85072380140, doi=None), Reference(scopus_id=85059575532, doi=None), Reference(scopus_id=85059046766, doi=None), Reference(scopus_id=85042596335, doi=None), Reference(scopus_id=85062429168, doi=None), Reference(scopus_id=85074896372, doi=None), Reference(scopus_id=84974849269, doi=None), Reference(scopus_id=85046457978, doi=None), Reference(scopus_id=85076245628, doi='10.1016/j.asoc.2019.106003')}), pub_name='Computers and Industrial Engineering', pub_issn_print='03608352', pub_issn_electronic=None),\n",
       " PaperInfo(iter_depth=1, title='An Estimation of Distribution Algorithm-Based Memetic Algorithm for the Distributed Assembly Permutation Flow-Shop Scheduling Problem', authors='Wang, S.-Y.; Wang, L.', year=2016, scopus_id=84969802860, doi='10.1109/TSMC.2015.2416127', eid='2-s2.0-84969802860', scopus_url='https://www.scopus.com/inward/record.uri?partnerID=HzOxMe3b&scp=84969802860&origin=inward', refs=frozenset({Reference(scopus_id=655488, doi=None), Reference(scopus_id=36642688, doi=None), Reference(scopus_id=36507916, doi=None), Reference(scopus_id=80054688019, doi=None), Reference(scopus_id=84921418135, doi=None), Reference(scopus_id=46649103641, doi=None), Reference(scopus_id=41481252, doi=None), Reference(scopus_id=1942501670, doi=None), Reference(scopus_id=27590319, doi=None), Reference(scopus_id=84865429936, doi=None), Reference(scopus_id=37290545, doi=None), Reference(scopus_id=84882454321, doi=None), Reference(scopus_id=33746855485, doi=None), Reference(scopus_id=84887626173, doi=None), Reference(scopus_id=70350752447, doi=None), Reference(scopus_id=27144557504, doi=None), Reference(scopus_id=33847660098, doi=None), Reference(scopus_id=60349125187, doi=None), Reference(scopus_id=84858698947, doi=None), Reference(scopus_id=35371718, doi=None), Reference(scopus_id=84949527882, doi=None), Reference(scopus_id=67650145870, doi=None), Reference(scopus_id=34548254543, doi=None), Reference(scopus_id=42733396, doi=None), Reference(scopus_id=34147159638, doi=None), Reference(scopus_id=84880923608, doi=None), Reference(scopus_id=84884906840, doi=None), Reference(scopus_id=33847660505, doi=None), Reference(scopus_id=22144475484, doi=None), Reference(scopus_id=79958149341, doi=None), Reference(scopus_id=84884696414, doi=None), Reference(scopus_id=84880214367, doi=None), Reference(scopus_id=69249206751, doi=None), Reference(scopus_id=84855781728, doi=None), Reference(scopus_id=69249164131, doi=None), Reference(scopus_id=79960565348, doi=None), Reference(scopus_id=84887127784, doi=None), Reference(scopus_id=84655167721, doi=None), Reference(scopus_id=70350778604, doi=None), Reference(scopus_id=34250729453, doi=None), Reference(scopus_id=34548270446, doi=None), Reference(scopus_id=84871244398, doi=None), Reference(scopus_id=81955162997, doi=None), Reference(scopus_id=33847661566, doi=None)}), pub_name='IEEE Transactions on Systems, Man, and Cybernetics: Systems', pub_issn_print='21682216', pub_issn_electronic='21682232'),\n",
       " PaperInfo(iter_depth=1, title='An Improved Artificial Bee Colony Algorithm with Q-Learning for Solving Permutation Flow-Shop Scheduling Problems', authors='Li, H.; Gao, K.; Duan, P.-Y.; Li, J.-Q.; Zhang, L.', year=2023, scopus_id=85142775083, doi='10.1109/TSMC.2022.3219380', eid='2-s2.0-85142775083', scopus_url='https://www.scopus.com/inward/record.uri?partnerID=HzOxMe3b&scp=85142775083&origin=inward', refs=frozenset({Reference(scopus_id=29224965, doi=None), Reference(scopus_id=34249833101, doi=None), Reference(scopus_id=16952078, doi=None), Reference(scopus_id=36604814, doi=None), Reference(scopus_id=20699921, doi=None), Reference(scopus_id=85074050449, doi=None), Reference(scopus_id=85113293203, doi='10.1109/tcyb.2021.3086181'), Reference(scopus_id=85119422865, doi=None), Reference(scopus_id=84952221975, doi=None), Reference(scopus_id=77957844759, doi=None), Reference(scopus_id=84897692569, doi=None), Reference(scopus_id=84974856861, doi=None), Reference(scopus_id=58549115678, doi=None), Reference(scopus_id=38749087646, doi=None), Reference(scopus_id=85018385184, doi=None), Reference(scopus_id=84886724001, doi=None), Reference(scopus_id=84871996322, doi=None), Reference(scopus_id=765086, doi=None), Reference(scopus_id=84912117925, doi=None), Reference(scopus_id=78650704810, doi=None), Reference(scopus_id=85099089450, doi=None), Reference(scopus_id=18030638, doi=None), Reference(scopus_id=78650510899, doi=None), Reference(scopus_id=85129380788, doi='10.1109/TCYB.2022.3164165'), Reference(scopus_id=34548479029, doi=None), Reference(scopus_id=85006427576, doi=None), Reference(scopus_id=85066068925, doi=None), Reference(scopus_id=37578177, doi=None), Reference(scopus_id=85042369089, doi=None), Reference(scopus_id=80053563843, doi=None), Reference(scopus_id=85088130497, doi=None), Reference(scopus_id=84982854598, doi=None), Reference(scopus_id=17516618, doi=None), Reference(scopus_id=3075019, doi=None), Reference(scopus_id=85096785100, doi=None), Reference(scopus_id=84957007824, doi=None), Reference(scopus_id=85134351440, doi='10.1109/TSMC.2022.3187082'), Reference(scopus_id=84899639892, doi=None), Reference(scopus_id=85047600597, doi=None), Reference(scopus_id=84880923608, doi=None), Reference(scopus_id=85112783834, doi=None), Reference(scopus_id=85115188572, doi='10.1109/tnnls.2021.3105905'), Reference(scopus_id=84879115741, doi=None), Reference(scopus_id=84892234592, doi=None), Reference(scopus_id=85137582306, doi='10.1109/tcyb.2022.3192112'), Reference(scopus_id=85125716963, doi='10.1109/tase.2022.3151648'), Reference(scopus_id=85104095977, doi=None), Reference(scopus_id=44849090921, doi=None), Reference(scopus_id=84930088042, doi=None), Reference(scopus_id=84969802860, doi=None), Reference(scopus_id=27844512878, doi=None), Reference(scopus_id=85064492782, doi=None), Reference(scopus_id=85044293491, doi=None), Reference(scopus_id=85113352057, doi=None), Reference(scopus_id=85053348988, doi=None), Reference(scopus_id=85072981373, doi=None), Reference(scopus_id=27201278, doi=None)}), pub_name='IEEE Transactions on Systems, Man, and Cybernetics: Systems', pub_issn_print='21682216', pub_issn_electronic='21682232'),\n",
       " PaperInfo(iter_depth=1, title='An adaptive artificial bee colony with reinforcement learning for distributed three-stage assembly scheduling with maintenance', authors='Wang, J.; Lei, D.; Cai, J.', year=2022, scopus_id=85122644877, doi='10.1016/j.asoc.2021.108371', eid='2-s2.0-85122644877', scopus_url='https://www.scopus.com/inward/record.uri?partnerID=HzOxMe3b&scp=85122644877&origin=inward', refs=frozenset({Reference(scopus_id=85053144449, doi=None), Reference(scopus_id=79952750723, doi=None), Reference(scopus_id=85087011972, doi=None), Reference(scopus_id=85019625609, doi=None), Reference(scopus_id=84857458697, doi=None), Reference(scopus_id=84929046281, doi=None), Reference(scopus_id=84940492428, doi=None), Reference(scopus_id=85079033353, doi=None), Reference(scopus_id=34249833101, doi=None), Reference(scopus_id=85025639824, doi=None), Reference(scopus_id=32628881, doi=None), Reference(scopus_id=85071851030, doi=None), Reference(scopus_id=84942784536, doi=None), Reference(scopus_id=84896934557, doi=None), Reference(scopus_id=84861660829, doi=None), Reference(scopus_id=85041946533, doi=None), Reference(scopus_id=84992311462, doi=None), Reference(scopus_id=84960328744, doi=None), Reference(scopus_id=84959338026, doi=None), Reference(scopus_id=85066087086, doi=None), Reference(scopus_id=27590319, doi=None), Reference(scopus_id=85053857455, doi=None), Reference(scopus_id=85049099952, doi=None), Reference(scopus_id=85090364721, doi=None), Reference(scopus_id=79953031480, doi=None), Reference(scopus_id=85007603386, doi=None), Reference(scopus_id=84965071551, doi=None), Reference(scopus_id=35371718, doi=None), Reference(scopus_id=85084293959, doi=None), Reference(scopus_id=85114352203, doi=None), Reference(scopus_id=85092030797, doi=None), Reference(scopus_id=85006085583, doi=None), Reference(scopus_id=84859557971, doi=None), Reference(scopus_id=85092067926, doi=None), Reference(scopus_id=85000671193, doi=None), Reference(scopus_id=85053391066, doi=None), Reference(scopus_id=85050251482, doi=None), Reference(scopus_id=33749548509, doi=None), Reference(scopus_id=85058185822, doi=None), Reference(scopus_id=77957867487, doi=None), Reference(scopus_id=84880214367, doi=None), Reference(scopus_id=84888157410, doi=None), Reference(scopus_id=85095750114, doi=None), Reference(scopus_id=35148827874, doi=None), Reference(scopus_id=85099378534, doi=None), Reference(scopus_id=85064935656, doi=None), Reference(scopus_id=85097340392, doi=None), Reference(scopus_id=85088143850, doi=None), Reference(scopus_id=34047122539, doi=None), Reference(scopus_id=79961021676, doi=None), Reference(scopus_id=85096721517, doi=None), Reference(scopus_id=84978890734, doi=None), Reference(scopus_id=85042596335, doi=None), Reference(scopus_id=84912534515, doi=None), Reference(scopus_id=85076269558, doi=None), Reference(scopus_id=84940703097, doi=None), Reference(scopus_id=85009451899, doi=None), Reference(scopus_id=85053348988, doi=None)}), pub_name='Applied Soft Computing', pub_issn_print='15684946', pub_issn_electronic=None),\n",
       " PaperInfo(iter_depth=1, title='An effective and distributed particle swarm optimization algorithm for flexible job-shop scheduling problem', authors='Nouiri, M.; Bekrar, A.; Jemai, A.; Niar, S.; Ammari, A.C.', year=2018, scopus_id=84922120859, doi='10.1007/s10845-015-1039-3', eid='2-s2.0-84922120859', scopus_url='https://www.scopus.com/inward/record.uri?partnerID=HzOxMe3b&scp=84922120859&origin=inward', refs=frozenset({Reference(scopus_id=50249134208, doi=None), Reference(scopus_id=84961157635, doi='10.1007/s10845-014-0872-0'), Reference(scopus_id=77949496326, doi=None), Reference(scopus_id=55749098121, doi=None), Reference(scopus_id=84947021837, doi='10.1007/s10845-013-0841-z'), Reference(scopus_id=50649083283, doi='10.1109/TSMCC.2008.923888'), Reference(scopus_id=84872584853, doi=None), Reference(scopus_id=84906948885, doi='10.1007/s5-013-0804-4.'), Reference(scopus_id=36464279, doi='10.1109/TSMCC.2002.1009117'), Reference(scopus_id=37475094, doi='10.1016/S0020-0190(02)00447-7'), Reference(scopus_id=85042839961, doi='10.1007/s10845-010-0435-y'), Reference(scopus_id=14044268702, doi='10.1016/j.cie.2005.01.018'), Reference(scopus_id=67349174559, doi='10.1016/j.cie.2008.07.021'), Reference(scopus_id=50249147808, doi=None), Reference(scopus_id=33745019430, doi='10.2514/1.17873'), Reference(scopus_id=34250084648, doi='10.1007/BF02023073'), Reference(scopus_id=84884895145, doi=None), Reference(scopus_id=26844447786, doi=None), Reference(scopus_id=84859956407, doi=None), Reference(scopus_id=77956343994, doi=None), Reference(scopus_id=84898023488, doi=None), Reference(scopus_id=84943653833, doi=None), Reference(scopus_id=84873564874, doi=None), Reference(scopus_id=84055185233, doi='10.1016/j.proeng.2011.08.689'), Reference(scopus_id=70449113172, doi=None), Reference(scopus_id=85042826581, doi=None), Reference(scopus_id=85042820439, doi=None), Reference(scopus_id=84888335320, doi=None), Reference(scopus_id=6344235353, doi=None), Reference(scopus_id=84865247709, doi='10.1007/s10845-011-0520-x'), Reference(scopus_id=40249118429, doi='10.1016/j.cor.2007.02.014'), Reference(scopus_id=84865225952, doi='10.1007/s10845-010-0435-y'), Reference(scopus_id=51649093095, doi='10.1007/s10458-008-9031-3'), Reference(scopus_id=84973239912, doi=None), Reference(scopus_id=84899047533, doi=None), Reference(scopus_id=84939481711, doi=None), Reference(scopus_id=36464756, doi='10.1109/4235.985692'), Reference(scopus_id=29535737, doi=None), Reference(scopus_id=78650682362, doi='10.1016/j.eswa.2010.08.145')}), pub_name='Journal of Intelligent Manufacturing', pub_issn_print='09565515', pub_issn_electronic='15728145'),\n",
       " PaperInfo(iter_depth=1, title='An effective hybrid genetic algorithm and tabu search for flexible job shop scheduling problem', authors='Li, X.; Gao, L.', year=2016, scopus_id=84960120780, doi='10.1016/j.ijpe.2016.01.016', eid='2-s2.0-84960120780', scopus_url='https://www.scopus.com/inward/record.uri?partnerID=HzOxMe3b&scp=84960120780&origin=inward', refs=frozenset({Reference(scopus_id=84948614402, doi=None), Reference(scopus_id=34247624966, doi=None), Reference(scopus_id=84893389830, doi=None), Reference(scopus_id=19944366600, doi=None), Reference(scopus_id=16952078, doi=None), Reference(scopus_id=34547651088, doi=None), Reference(scopus_id=84880731416, doi=None), Reference(scopus_id=78649330971, doi=None), Reference(scopus_id=34447306016, doi=None), Reference(scopus_id=75449102375, doi=None), Reference(scopus_id=34250084648, doi=None), Reference(scopus_id=84894582828, doi=None), Reference(scopus_id=77955308077, doi=None), Reference(scopus_id=37696818, doi=None), Reference(scopus_id=84867883317, doi=None), Reference(scopus_id=84876126006, doi=None), Reference(scopus_id=84900466232, doi=None), Reference(scopus_id=38749142590, doi=None), Reference(scopus_id=84862798145, doi=None), Reference(scopus_id=25531716, doi=None), Reference(scopus_id=84870248520, doi=None), Reference(scopus_id=38479948, doi=None), Reference(scopus_id=84959012941, doi=None), Reference(scopus_id=84954400078, doi=None), Reference(scopus_id=84889808975, doi=None), Reference(scopus_id=84855798863, doi=None), Reference(scopus_id=84055185233, doi=None), Reference(scopus_id=84859557971, doi=None), Reference(scopus_id=27944444515, doi=None), Reference(scopus_id=84921823844, doi=None), Reference(scopus_id=79751528806, doi=None), Reference(scopus_id=84886901612, doi=None), Reference(scopus_id=84897633390, doi=None), Reference(scopus_id=8573551, doi=None), Reference(scopus_id=38269297, doi=None), Reference(scopus_id=84933055604, doi=None), Reference(scopus_id=84920780405, doi=None), Reference(scopus_id=31118203, doi=None), Reference(scopus_id=79551635070, doi=None), Reference(scopus_id=4215426, doi=None), Reference(scopus_id=84869495945, doi=None), Reference(scopus_id=38849162891, doi=None), Reference(scopus_id=84960189330, doi=None), Reference(scopus_id=50649083283, doi=None), Reference(scopus_id=77955279508, doi=None), Reference(scopus_id=62615, doi=None), Reference(scopus_id=70349581723, doi=None), Reference(scopus_id=84869492892, doi=None), Reference(scopus_id=70449657251, doi=None), Reference(scopus_id=84885594286, doi=None), Reference(scopus_id=77955473840, doi=None), Reference(scopus_id=76049094322, doi=None), Reference(scopus_id=75049086134, doi=None), Reference(scopus_id=2577337, doi=None), Reference(scopus_id=84902836669, doi=None), Reference(scopus_id=84907979721, doi=None), Reference(scopus_id=84900472780, doi=None), Reference(scopus_id=84897440720, doi=None), Reference(scopus_id=33751418065, doi=None), Reference(scopus_id=42261208, doi=None), Reference(scopus_id=77955573212, doi=None), Reference(scopus_id=84938744029, doi=None), Reference(scopus_id=84971508957, doi=None), Reference(scopus_id=69249206751, doi=None), Reference(scopus_id=32632032, doi=None), Reference(scopus_id=36588767, doi=None), Reference(scopus_id=40249118429, doi=None), Reference(scopus_id=51649093095, doi=None), Reference(scopus_id=84924787947, doi=None), Reference(scopus_id=84871717100, doi=None), Reference(scopus_id=79961021676, doi=None), Reference(scopus_id=81555213556, doi=None), Reference(scopus_id=78650682362, doi=None)}), pub_name='International Journal of Production Economics', pub_issn_print='09255273', pub_issn_electronic=None),\n",
       " PaperInfo(iter_depth=1, title='An effective hybrid optimization approach for multi-objective flexible job-shop scheduling problems', authors='Xia, W.; Wu, Z.', year=2005, scopus_id=14044268702, doi='10.1016/j.cie.2005.01.018', eid='2-s2.0-14044268702', scopus_url='https://www.scopus.com/inward/record.uri?partnerID=HzOxMe3b&scp=14044268702&origin=inward', refs=frozenset({Reference(scopus_id=26461248, doi=None), Reference(scopus_id=25531716, doi=None), Reference(scopus_id=29517385, doi=None), Reference(scopus_id=16952078, doi=None), Reference(scopus_id=34863568, doi=None), Reference(scopus_id=30645460, doi=None), Reference(scopus_id=36464279, doi=None), Reference(scopus_id=62615, doi=None), Reference(scopus_id=42261208, doi=None), Reference(scopus_id=84896721435, doi=None), Reference(scopus_id=26444479778, doi=None), Reference(scopus_id=34250084648, doi=None), Reference(scopus_id=33204393, doi=None), Reference(scopus_id=38407278, doi=None), Reference(scopus_id=37201140, doi=None), Reference(scopus_id=29535737, doi=None), Reference(scopus_id=2577337, doi=None)}), pub_name='Computers and Industrial Engineering', pub_issn_print='03608352', pub_issn_electronic=None),\n",
       " PaperInfo(iter_depth=1, title='An effective hyper heuristic-based memetic algorithm for the distributed assembly permutation flow-shop scheduling problem', authors='Song, H.-B.; Yang, Y.-H.; Lin, J.; Ye, J.-X.', year=2023, scopus_id=85146883279, doi='10.1016/j.asoc.2023.110022', eid='2-s2.0-85146883279', scopus_url='https://www.scopus.com/inward/record.uri?partnerID=HzOxMe3b&scp=85146883279&origin=inward', refs=frozenset({Reference(scopus_id=655488, doi=None), Reference(scopus_id=85059308547, doi=None), Reference(scopus_id=84855254020, doi=None), Reference(scopus_id=85035815300, doi=None), Reference(scopus_id=38249025037, doi=None), Reference(scopus_id=85122644877, doi=None), Reference(scopus_id=55449124245, doi=None), Reference(scopus_id=33847661566, doi=None), Reference(scopus_id=85071851030, doi=None), Reference(scopus_id=84942784536, doi=None), Reference(scopus_id=85107089301, doi=None), Reference(scopus_id=84896934557, doi=None), Reference(scopus_id=84896390686, doi=None), Reference(scopus_id=85018385184, doi=None), Reference(scopus_id=85098467106, doi=None), Reference(scopus_id=3486756, doi=None), Reference(scopus_id=85118324006, doi=None), Reference(scopus_id=85042358056, doi=None), Reference(scopus_id=85066087086, doi=None), Reference(scopus_id=27590319, doi=None), Reference(scopus_id=30044449841, doi=None), Reference(scopus_id=17918132, doi=None), Reference(scopus_id=85084290612, doi=None), Reference(scopus_id=85095797945, doi=None), Reference(scopus_id=84963555261, doi=None), Reference(scopus_id=84965071551, doi=None), Reference(scopus_id=84980390464, doi=None), Reference(scopus_id=70350752447, doi=None), Reference(scopus_id=35371718, doi=None), Reference(scopus_id=85096850760, doi=None), Reference(scopus_id=85077704906, doi=None), Reference(scopus_id=67650145870, doi=None), Reference(scopus_id=84888031698, doi=None), Reference(scopus_id=85104630868, doi=None), Reference(scopus_id=34147159638, doi=None), Reference(scopus_id=177367, doi=None), Reference(scopus_id=84884906840, doi=None), Reference(scopus_id=85058185822, doi=None), Reference(scopus_id=84880214367, doi=None), Reference(scopus_id=69249206751, doi=None), Reference(scopus_id=85112349407, doi=None), Reference(scopus_id=85041140066, doi=None), Reference(scopus_id=69249164131, doi=None), Reference(scopus_id=85058961637, doi=None), Reference(scopus_id=85075429349, doi=None), Reference(scopus_id=84881662058, doi=None), Reference(scopus_id=70350778604, doi=None), Reference(scopus_id=84969802860, doi=None), Reference(scopus_id=84995488495, doi=None), Reference(scopus_id=84962109552, doi=None), Reference(scopus_id=81955162997, doi=None), Reference(scopus_id=13444251134, doi=None), Reference(scopus_id=84949561215, doi=None)}), pub_name='Applied Soft Computing', pub_issn_print='15684946', pub_issn_electronic=None),\n",
       " PaperInfo(iter_depth=1, title='An effective multi-objective discrete virus optimization algorithm for flexible job-shop scheduling problem with controllable processing times', authors='Lu, C.; Li, X.; Gao, L.; Liao, W.; Yi, J.', year=2017, scopus_id=85008420154, doi='10.1016/j.cie.2016.12.020', eid='2-s2.0-85008420154', scopus_url='https://www.scopus.com/inward/record.uri?partnerID=HzOxMe3b&scp=85008420154&origin=inward', refs=frozenset({Reference(scopus_id=84948614402, doi=None), Reference(scopus_id=79957972995, doi=None), Reference(scopus_id=84888640770, doi=None), Reference(scopus_id=84941420933, doi=None), Reference(scopus_id=84869495945, doi=None), Reference(scopus_id=84879323913, doi=None), Reference(scopus_id=84925532940, doi=None), Reference(scopus_id=34447289102, doi=None), Reference(scopus_id=16952078, doi=None), Reference(scopus_id=50649083283, doi=None), Reference(scopus_id=85010955798, doi=None), Reference(scopus_id=84883153945, doi=None), Reference(scopus_id=84856019101, doi=None), Reference(scopus_id=14044268702, doi=None), Reference(scopus_id=67349174559, doi=None), Reference(scopus_id=84934889379, doi=None), Reference(scopus_id=84866880555, doi=None), Reference(scopus_id=34199979, doi=None), Reference(scopus_id=4140075, doi=None), Reference(scopus_id=38249019311, doi=None), Reference(scopus_id=28244447023, doi=None), Reference(scopus_id=79953278898, doi=None), Reference(scopus_id=84884908093, doi=None), Reference(scopus_id=78650179774, doi=None), Reference(scopus_id=79960890945, doi=None), Reference(scopus_id=84879305921, doi=None), Reference(scopus_id=61349108680, doi=None), Reference(scopus_id=84873740873, doi=None), Reference(scopus_id=33318858, doi=None), Reference(scopus_id=84922454987, doi=None), Reference(scopus_id=85008408268, doi=None), Reference(scopus_id=84890529996, doi=None), Reference(scopus_id=84954400078, doi=None), Reference(scopus_id=84866865363, doi=None), Reference(scopus_id=36530772, doi=None), Reference(scopus_id=78049356373, doi=None), Reference(scopus_id=13544276185, doi=None), Reference(scopus_id=84947044313, doi=None), Reference(scopus_id=56549107166, doi=None), Reference(scopus_id=84923631969, doi=None), Reference(scopus_id=84944711266, doi=None), Reference(scopus_id=84888269667, doi=None), Reference(scopus_id=84993940961, doi=None), Reference(scopus_id=84891493219, doi=None), Reference(scopus_id=36722154, doi=None), Reference(scopus_id=84868706922, doi=None), Reference(scopus_id=85008315125, doi=None), Reference(scopus_id=84881276149, doi=None), Reference(scopus_id=84974849269, doi=None), Reference(scopus_id=84920780405, doi=None), Reference(scopus_id=38273913, doi=None), Reference(scopus_id=79956260091, doi=None), Reference(scopus_id=19055358, doi=None)}), pub_name='Computers and Industrial Engineering', pub_issn_print='03608352', pub_issn_electronic=None),\n",
       " PaperInfo(iter_depth=1, title='An improved genetic algorithm with dynamic neighborhood search for job shop scheduling problem', authors='Hu, K.; Wang, L.; Cai, J.; Cheng, L.', year=2023, scopus_id=85172865100, doi='10.3934/mbe.2023774', eid='2-s2.0-85172865100', scopus_url='https://www.scopus.com/inward/record.uri?partnerID=HzOxMe3b&scp=85172865100&origin=inward', refs=frozenset({Reference(scopus_id=3463297, doi=None), Reference(scopus_id=10844274625, doi='10.1016/j.engappai.2004.08.018'), Reference(scopus_id=34047181443, doi='10.1016/j.cor.2005.12.002'), Reference(scopus_id=85028508292, doi='10.1016/j.proeng.2011.08.689'), Reference(scopus_id=78650682362, doi='10.1016/j.eswa.2010.08.145'), Reference(scopus_id=84960120780, doi='10.1016/j.ijpe.2016.01.016'), Reference(scopus_id=85046780559, doi='10.1016/j.asoc.2018.04.001'), Reference(scopus_id=85069970960, doi='10.1016/j.knosys.2019.07.011'), Reference(scopus_id=84855798863, doi='10.3182/20060517-3-FR-2903.00038'), Reference(scopus_id=84922269332, doi='10.1080/00207543.2014.962113'), Reference(scopus_id=85078047642, doi=None), Reference(scopus_id=67349174559, doi='10.1016/j.cie.2008.07.021'), Reference(scopus_id=85130339045, doi='10.1016/j.cie.2022.108205'), Reference(scopus_id=79951954342, doi='10.1007/s00170-010-2792-2'), Reference(scopus_id=33747652903, doi='10.1007/s10287-006-0023-y'), Reference(scopus_id=84986220584, doi=None), Reference(scopus_id=77649234984, doi='10.1016/j.asoc.2009.10.006'), Reference(scopus_id=84897573350, doi='10.1111/itor.12044'), Reference(scopus_id=85058160555, doi=None), Reference(scopus_id=85042270379, doi='10.1504/IJCSM.2017.088956'), Reference(scopus_id=85019951533, doi='10.1016/j.compchemeng.2017.05.004'), Reference(scopus_id=84939647090, doi='10.1016/j.eswa.2015.01.007'), Reference(scopus_id=29722804, doi=None), Reference(scopus_id=84869795702, doi='10.1080/00207721.2011.581396'), Reference(scopus_id=84928605302, doi='10.1007/s10845-015-1084-y'), Reference(scopus_id=77956343994, doi='10.1016/j.mcm.2010.04.019'), Reference(scopus_id=67349131899, doi='10.1016/j.cie.2008.09.004'), Reference(scopus_id=85029209599, doi=None)}), pub_name='Mathematical Biosciences and Engineering', pub_issn_print='15471063', pub_issn_electronic='15510018'),\n",
       " PaperInfo(iter_depth=1, title='An improved multi-objective whale optimization algorithm for the hybrid flow shop scheduling problem considering device dynamic reconfiguration processes', authors='Yankai, W.; Shilong, W.; Dong, L.; Chunfeng, S.; Bo, Y.', year=2021, scopus_id=85102285267, doi='10.1016/j.eswa.2021.114793', eid='2-s2.0-85102285267', scopus_url='https://www.scopus.com/inward/record.uri?partnerID=HzOxMe3b&scp=85102285267&origin=inward', refs=frozenset({Reference(scopus_id=84994342402, doi=None), Reference(scopus_id=84941064716, doi='10.1016/j.eswa.2015.08.025'), Reference(scopus_id=16952078, doi=None), Reference(scopus_id=20699921, doi='10.1016/0305-0483(83)90088-9'), Reference(scopus_id=84912142110, doi=None), Reference(scopus_id=85075891359, doi=None), Reference(scopus_id=85072512042, doi=None), Reference(scopus_id=85068415541, doi=None), Reference(scopus_id=70350572217, doi=None), Reference(scopus_id=85008420154, doi=None), Reference(scopus_id=85007200190, doi=None), Reference(scopus_id=85066235463, doi=None), Reference(scopus_id=27906633, doi=None), Reference(scopus_id=33318858, doi=None), Reference(scopus_id=84951069388, doi=None), Reference(scopus_id=36530772, doi=None), Reference(scopus_id=56549107166, doi=None), Reference(scopus_id=85077951454, doi=None), Reference(scopus_id=85024126176, doi=None), Reference(scopus_id=84868705761, doi=None), Reference(scopus_id=85102273512, doi=None), Reference(scopus_id=84891681640, doi=None), Reference(scopus_id=85050876394, doi=None), Reference(scopus_id=67349094635, doi=None), Reference(scopus_id=85062414824, doi=None), Reference(scopus_id=84959304045, doi=None), Reference(scopus_id=79951564654, doi=None), Reference(scopus_id=85057612143, doi=None), Reference(scopus_id=85074855921, doi=None), Reference(scopus_id=84974849269, doi=None), Reference(scopus_id=85126171768, doi=None), Reference(scopus_id=85043683580, doi=None)}), pub_name='Expert Systems with Applications', pub_issn_print='09574174', pub_issn_electronic=None),\n",
       " PaperInfo(iter_depth=1, title='An interoperable adaptive scheduling strategy for knowledgeable manufacturing based on SMGWQ-learning', authors='Wang, H.-X.; Yan, H.-S.', year=2016, scopus_id=84902933040, doi='10.1007/s10845-014-0936-1', eid='2-s2.0-84902933040', scopus_url='https://www.scopus.com/inward/record.uri?partnerID=HzOxMe3b&scp=84902933040&origin=inward', refs=frozenset({Reference(scopus_id=84855508353, doi=None), Reference(scopus_id=85008039555, doi=None), Reference(scopus_id=84870946565, doi=None), Reference(scopus_id=30786317, doi=None), Reference(scopus_id=34249833101, doi=None), Reference(scopus_id=4344584596, doi=None), Reference(scopus_id=84870881943, doi=None), Reference(scopus_id=27844476311, doi=None), Reference(scopus_id=33901602, doi=None), Reference(scopus_id=33747155109, doi=None), Reference(scopus_id=14944348455, doi=None), Reference(scopus_id=34325416, doi=None), Reference(scopus_id=33751077547, doi=None), Reference(scopus_id=78549256364, doi=None), Reference(scopus_id=1142293166, doi=None), Reference(scopus_id=4172718, doi=None), Reference(scopus_id=68949220786, doi=None), Reference(scopus_id=54049088057, doi=None), Reference(scopus_id=65549141565, doi=None), Reference(scopus_id=70249139909, doi=None), Reference(scopus_id=31344452170, doi=None), Reference(scopus_id=84864156107, doi=None), Reference(scopus_id=4102479, doi=None), Reference(scopus_id=1542502354, doi=None), Reference(scopus_id=67650227926, doi=None), Reference(scopus_id=33751104983, doi=None), Reference(scopus_id=141919583, doi=None), Reference(scopus_id=72849122788, doi=None), Reference(scopus_id=23144456427, doi=None), Reference(scopus_id=32183928, doi=None), Reference(scopus_id=84880264313, doi=None), Reference(scopus_id=84882327036, doi=None)}), pub_name='Journal of Intelligent Manufacturing', pub_issn_print='09565515', pub_issn_electronic='15728145'),\n",
       " PaperInfo(iter_depth=1, title='Assessing the impact of agricultural field traffic on corn grain yield using remote sensing and machine learning', authors='Khanal, S.; Klopfenstein, A.; KC, K.; Ramarao, V.; Fulton, J.; Douridas, N.; Shearer, S.A.', year=2021, scopus_id=85097351854, doi='10.1016/j.still.2020.104880', eid='2-s2.0-85097351854', scopus_url='https://www.scopus.com/inward/record.uri?partnerID=HzOxMe3b&scp=85097351854&origin=inward', refs=frozenset({Reference(scopus_id=59249094016, doi=None), Reference(scopus_id=85044055557, doi='10.1016/j.compag.2018.03.008'), Reference(scopus_id=85029860359, doi='10.1016/j.still.2017.09.001'), Reference(scopus_id=85097330825, doi=None), Reference(scopus_id=34347265803, doi=None), Reference(scopus_id=29186443, doi=None), Reference(scopus_id=242396184, doi=None), Reference(scopus_id=36448945437, doi='10.2134/agronj2006.0326'), Reference(scopus_id=2436511, doi=None), Reference(scopus_id=84950349731, doi=None), Reference(scopus_id=85051813285, doi=None), Reference(scopus_id=23823146, doi=None), Reference(scopus_id=84877881006, doi=None), Reference(scopus_id=84941272622, doi=None), Reference(scopus_id=4043147054, doi=None), Reference(scopus_id=85013542708, doi='10.1016/B978-0-444-88286-8.50029-5'), Reference(scopus_id=85053898677, doi=None), Reference(scopus_id=85054468536, doi='10.1038/s41598-018-32779-3'), Reference(scopus_id=77956190017, doi=None), Reference(scopus_id=1638466, doi=None), Reference(scopus_id=85097343306, doi=None), Reference(scopus_id=82955193677, doi='10.2136/sssaj2010.0260'), Reference(scopus_id=9330766, doi='10.1016/0167-1987(94)90061-2'), Reference(scopus_id=84992306128, doi=None), Reference(scopus_id=2700113, doi='10.1016/0167-1987(87)90005-5'), Reference(scopus_id=84995523796, doi='10.1007/978-1-4614-6849-3'), Reference(scopus_id=85097343574, doi=None), Reference(scopus_id=85097356503, doi=None), Reference(scopus_id=85097351259, doi=None), Reference(scopus_id=85075416155, doi=None), Reference(scopus_id=1693153, doi=None), Reference(scopus_id=3684449, doi=None), Reference(scopus_id=85097347176, doi=None), Reference(scopus_id=85097348458, doi=None), Reference(scopus_id=85097331179, doi=None), Reference(scopus_id=84917741420, doi=None), Reference(scopus_id=28159984, doi=None), Reference(scopus_id=85097335792, doi=None), Reference(scopus_id=85060034555, doi=None), Reference(scopus_id=85097355260, doi=None), Reference(scopus_id=85096479998, doi=None)}), pub_name='Soil and Tillage Research', pub_issn_print='01671987', pub_issn_electronic=None),\n",
       " PaperInfo(iter_depth=1, title='Attention, learn to solve routing problems!', authors='Kool, W.; Van, Hoof, H.; Welling, M.', year=2019, scopus_id=85083951347, doi=None, eid='2-s2.0-85083951347', scopus_url='https://www.scopus.com/inward/record.uri?partnerID=HzOxMe3b&scp=85083951347&origin=inward', refs=frozenset({Reference(scopus_id=31118203, doi=None), Reference(scopus_id=84930630277, doi=None), Reference(scopus_id=85048603654, doi=None), Reference(scopus_id=85047000455, doi=None), Reference(scopus_id=85053623945, doi=None), Reference(scopus_id=85083951885, doi=None), Reference(scopus_id=84924051598, doi=None), Reference(scopus_id=2381070, doi=None), Reference(scopus_id=84989741976, doi=None), Reference(scopus_id=85015772444, doi=None), Reference(scopus_id=85047343776, doi=None), Reference(scopus_id=84986274465, doi=None), Reference(scopus_id=337576, doi=None), Reference(scopus_id=21835689, doi=None), Reference(scopus_id=85071190826, doi=None), Reference(scopus_id=36348942008, doi=None), Reference(scopus_id=85049097272, doi=None), Reference(scopus_id=84965173945, doi=None), Reference(scopus_id=84974863294, doi=None), Reference(scopus_id=84921438783, doi=None), Reference(scopus_id=85055102914, doi=None), Reference(scopus_id=84959176782, doi=None), Reference(scopus_id=85043317328, doi=None), Reference(scopus_id=85033579988, doi=None), Reference(scopus_id=85029506394, doi=None), Reference(scopus_id=85064833116, doi=None), Reference(scopus_id=85041911392, doi=None), Reference(scopus_id=85083951076, doi=None), Reference(scopus_id=3603813, doi=None), Reference(scopus_id=84987028582, doi=None), Reference(scopus_id=84969584486, doi=None), Reference(scopus_id=1278313, doi=None), Reference(scopus_id=85046347373, doi=None), Reference(scopus_id=78649467505, doi=None), Reference(scopus_id=84969916659, doi=None), Reference(scopus_id=728309, doi=None), Reference(scopus_id=85071168375, doi=None), Reference(scopus_id=80052974072, doi=None), Reference(scopus_id=85031918331, doi=None)}), pub_name='7th International Conference on Learning Representations, ICLR 2019', pub_issn_print=None, pub_issn_electronic=None),\n",
       " PaperInfo(iter_depth=1, title='Bi-objective grey wolf optimization algorithm combined Levy flight mechanism for the FMC green scheduling problem', authors='Zhou, B.; Lei, Y.', year=2021, scopus_id=85110296008, doi='10.1016/j.asoc.2021.107717', eid='2-s2.0-85110296008', scopus_url='https://www.scopus.com/inward/record.uri?partnerID=HzOxMe3b&scp=85110296008&origin=inward', refs=frozenset({Reference(scopus_id=85062082050, doi='10.1016/j.rcim.2019.02.002'), Reference(scopus_id=84964529924, doi='10.1080/00207543.2016.1176267'), Reference(scopus_id=85078461829, doi='10.1016/j.engappai.2020.103501'), Reference(scopus_id=85069232012, doi='10.1007/s00521-019-04343-1'), Reference(scopus_id=85082171023, doi='10.1145/3379247.3379275'), Reference(scopus_id=85069970960, doi='10.1016/j.knosys.2019.07.011'), Reference(scopus_id=85085489041, doi='10.1016/j.promfg.2020.04.035'), Reference(scopus_id=84885868055, doi='10.1080/00207543.2013.824627'), Reference(scopus_id=85059335320, doi='10.1016/j.jclepro.2018.11.231'), Reference(scopus_id=85074865181, doi='10.1007/s00170-019-04449-9'), Reference(scopus_id=85010908189, doi='10.20965/ijat.2017.p0004'), Reference(scopus_id=85079773855, doi='10.1177/1687814020907787'), Reference(scopus_id=85053600424, doi='10.1007/s12351-018-0423-0'), Reference(scopus_id=85039743018, doi='10.1007/s00170-017-1470'), Reference(scopus_id=85072512042, doi='10.1016/j.eswa.2019.112902'), Reference(scopus_id=85086804908, doi='10.1016/j.asoc.2020.106480'), Reference(scopus_id=85063469229, doi='10.1016/j.jclepro.2019.03.155'), Reference(scopus_id=85065309230, doi='10.1007/s00170-019-03739-6'), Reference(scopus_id=85090090922, doi='10.3390/math8081355'), Reference(scopus_id=85085086644, doi='10.1016/j.cirpj.2020.03.007'), Reference(scopus_id=84949033140, doi='10.1016/j.eswa.2015.10.039'), Reference(scopus_id=85066133181, doi='10.1016/j.asoc.2019.105513'), Reference(scopus_id=85089542978, doi='10.3390/math8081221'), Reference(scopus_id=85053218116, doi='10.1016/j.energy.2018.08.168'), Reference(scopus_id=85099191749, doi='10.1007/s10489-020-02018-2'), Reference(scopus_id=85083848134, doi='10.1007/s10479-020-03600-0'), Reference(scopus_id=85084184772, doi='10.1016/j.asoc.2020.106343'), Reference(scopus_id=85088866373, doi='10.1080/15325008.2020.1793830'), Reference(scopus_id=85089702224, doi='10.1080/00207543.2020.1798035'), Reference(scopus_id=85034862928, doi='10.1007/s00521-017-3272-5'), Reference(scopus_id=84893010002, doi='10.1016/j.advengsoft.2013.12.007'), Reference(scopus_id=84999648342, doi='10.1016/j.procir.2016.03.162'), Reference(scopus_id=85092599900, doi='10.1177/0020294020962130'), Reference(scopus_id=85077880927, doi='10.1080/00207543.2019.1709671'), Reference(scopus_id=85088930274, doi='10.1016/j.energy.2020.118420'), Reference(scopus_id=85078996838, doi='10.1108/aa-03-2019-0057'), Reference(scopus_id=85087852518, doi='10.1080/00207543.2019.1642529'), Reference(scopus_id=85071024105, doi='10.5267/j.jpm.2018.8.001'), Reference(scopus_id=85046418795, doi='10.1109/ACCESS.2018.2833552'), Reference(scopus_id=85081139309, doi='10.1016/j.asoc.2020.106217'), Reference(scopus_id=85041594104, doi='10.1177/1687814017753912'), Reference(scopus_id=31118203, doi='10.1109/4235.585893'), Reference(scopus_id=85023772668, doi='10.1080/00207543.2017.1351644'), Reference(scopus_id=85090288511, doi='10.1109/access.2020.3015796')}), pub_name='Applied Soft Computing', pub_issn_print='15684946', pub_issn_electronic=None),\n",
       " PaperInfo(iter_depth=1, title='Building predictive models in R using the caret package', authors='Kuhn, M.', year=2008, scopus_id=56249113343, doi='10.18637/jss.v028.i05', eid='2-s2.0-56249113343', scopus_url='https://www.scopus.com/inward/record.uri?partnerID=HzOxMe3b&scp=56249113343&origin=inward', refs=frozenset({Reference(scopus_id=56249097856, doi=None), Reference(scopus_id=56249091713, doi=None), Reference(scopus_id=12144257810, doi=None), Reference(scopus_id=56249117973, doi=None), Reference(scopus_id=56249120918, doi=None), Reference(scopus_id=32699296, doi=None), Reference(scopus_id=33846829987, doi=None), Reference(scopus_id=3516711, doi=None), Reference(scopus_id=11244352554, doi=None), Reference(scopus_id=56249127467, doi=None), Reference(scopus_id=3895851, doi=None), Reference(scopus_id=33745700397, doi=None), Reference(scopus_id=5344244656, doi=None), Reference(scopus_id=41549141939, doi=None), Reference(scopus_id=56249142711, doi=None), Reference(scopus_id=33750410937, doi=None), Reference(scopus_id=37350844, doi=None), Reference(scopus_id=56249124549, doi=None), Reference(scopus_id=56249139661, doi=None), Reference(scopus_id=56249125583, doi=None), Reference(scopus_id=85060036181, doi=None), Reference(scopus_id=33749677657, doi=None), Reference(scopus_id=3684449, doi=None), Reference(scopus_id=37076322, doi=None), Reference(scopus_id=15425251, doi=None), Reference(scopus_id=56249114084, doi=None), Reference(scopus_id=56249084515, doi=None), Reference(scopus_id=56249105763, doi=None), Reference(scopus_id=56249130367, doi=None), Reference(scopus_id=345040873, doi=None), Reference(scopus_id=56249112938, doi=None), Reference(scopus_id=56249145968, doi=None), Reference(scopus_id=67650757105, doi=None), Reference(scopus_id=56249100666, doi=None), Reference(scopus_id=70349598845, doi=None), Reference(scopus_id=1042269311, doi=None)}), pub_name='Journal of Statistical Software', pub_issn_print='15487660', pub_issn_electronic='15487660'),\n",
       " PaperInfo(iter_depth=1, title='Combining Spectral and Textural Information from UAV RGB Images for Leaf Area Index Monitoring in Kiwifruit Orchard', authors='Zhang, Y.; Ta, N.; Guo, S.; Chen, Q.; Zhao, L.; Li, F.; Chang, Q.', year=2022, scopus_id=85125318642, doi='10.3390/rs14051063', eid='2-s2.0-85125318642', scopus_url='https://www.scopus.com/inward/record.uri?partnerID=HzOxMe3b&scp=85125318642&origin=inward', refs=frozenset({Reference(scopus_id=84912124929, doi=None), Reference(scopus_id=85103954946, doi=None), Reference(scopus_id=85080072705, doi=None), Reference(scopus_id=85023746689, doi=None), Reference(scopus_id=85114039303, doi=None), Reference(scopus_id=85050797200, doi=None), Reference(scopus_id=79960729748, doi=None), Reference(scopus_id=41249092628, doi=None), Reference(scopus_id=85063508885, doi=None), Reference(scopus_id=85120712852, doi=None), Reference(scopus_id=62849098137, doi=None), Reference(scopus_id=85119352089, doi=None), Reference(scopus_id=85097586074, doi=None), Reference(scopus_id=85062338076, doi=None), Reference(scopus_id=85123214493, doi=None), Reference(scopus_id=85062615582, doi=None), Reference(scopus_id=85115158940, doi=None), Reference(scopus_id=34247144990, doi=None), Reference(scopus_id=84939454114, doi=None), Reference(scopus_id=85012253346, doi=None), Reference(scopus_id=84912137635, doi=None), Reference(scopus_id=85117095206, doi=None), Reference(scopus_id=47049087271, doi=None), Reference(scopus_id=85110571048, doi=None), Reference(scopus_id=84958049448, doi=None), Reference(scopus_id=85115918251, doi=None), Reference(scopus_id=61349099437, doi=None), Reference(scopus_id=85101128494, doi=None), Reference(scopus_id=77950368692, doi=None), Reference(scopus_id=29751225, doi=None), Reference(scopus_id=85087216315, doi=None), Reference(scopus_id=85119601980, doi=None), Reference(scopus_id=85053081152, doi=None), Reference(scopus_id=85099788480, doi=None), Reference(scopus_id=85085084609, doi=None), Reference(scopus_id=85007603267, doi=None), Reference(scopus_id=85097713345, doi=None), Reference(scopus_id=85085730116, doi=None), Reference(scopus_id=85099201868, doi=None), Reference(scopus_id=85061457742, doi=None), Reference(scopus_id=77956983887, doi=None), Reference(scopus_id=85056708688, doi=None), Reference(scopus_id=85106535120, doi=None), Reference(scopus_id=28802127, doi=None), Reference(scopus_id=33841491, doi=None), Reference(scopus_id=85106616148, doi=None), Reference(scopus_id=84896137428, doi=None), Reference(scopus_id=85103596375, doi=None), Reference(scopus_id=85116292184, doi=None), Reference(scopus_id=84904490457, doi=None), Reference(scopus_id=15680481, doi=None), Reference(scopus_id=85103078372, doi=None), Reference(scopus_id=85104178278, doi=None), Reference(scopus_id=33646130407, doi=None), Reference(scopus_id=85100777579, doi=None), Reference(scopus_id=85105695212, doi=None), Reference(scopus_id=85066909038, doi=None), Reference(scopus_id=85065962095, doi=None), Reference(scopus_id=77956706416, doi=None), Reference(scopus_id=85081886584, doi=None), Reference(scopus_id=85106624124, doi=None)}), pub_name='Remote Sensing', pub_issn_print='20724292', pub_issn_electronic='20724292'),\n",
       " PaperInfo(iter_depth=1, title='Comparison of Random Forest and Support Vector Machine Classifiers for Regional Land Cover Mapping Using Coarse Resolution FY-3C Images', authors='Adugna, T.; Xu, W.; Fan, J.', year=2022, scopus_id=85123620188, doi='10.3390/rs14030574', eid='2-s2.0-85123620188', scopus_url='https://www.scopus.com/inward/record.uri?partnerID=HzOxMe3b&scp=85123620188&origin=inward', refs=frozenset({Reference(scopus_id=31251587, doi=None), Reference(scopus_id=84897585667, doi=None), Reference(scopus_id=84961834117, doi=None), Reference(scopus_id=13344278660, doi=None), Reference(scopus_id=85053626763, doi=None), Reference(scopus_id=85113659148, doi=None), Reference(scopus_id=85123634316, doi=None), Reference(scopus_id=78649730935, doi='10.1080/10106048709354084'), Reference(scopus_id=85119127185, doi=None), Reference(scopus_id=70350041108, doi=None), Reference(scopus_id=85032877078, doi=None), Reference(scopus_id=85040878103, doi=None), Reference(scopus_id=84890837785, doi=None), Reference(scopus_id=84920812571, doi=None), Reference(scopus_id=84939449765, doi=None), Reference(scopus_id=84879939494, doi=None), Reference(scopus_id=85086945449, doi=None), Reference(scopus_id=2542446633, doi=None), Reference(scopus_id=85049340459, doi=None), Reference(scopus_id=84866847148, doi=None), Reference(scopus_id=37138473, doi=None), Reference(scopus_id=84905906990, doi=None), Reference(scopus_id=84942543920, doi=None), Reference(scopus_id=85090090802, doi=None), Reference(scopus_id=34656178, doi=None), Reference(scopus_id=84958236853, doi=None), Reference(scopus_id=84897586103, doi=None), Reference(scopus_id=84902481208, doi=None), Reference(scopus_id=85053479992, doi=None), Reference(scopus_id=84867380027, doi=None), Reference(scopus_id=79955585085, doi=None), Reference(scopus_id=84892997822, doi=None), Reference(scopus_id=79951950272, doi=None), Reference(scopus_id=84923357893, doi=None), Reference(scopus_id=35478854, doi=None), Reference(scopus_id=344972104, doi=None), Reference(scopus_id=85123600330, doi=None), Reference(scopus_id=75449091147, doi=None), Reference(scopus_id=1542289740, doi=None), Reference(scopus_id=85040371535, doi=None), Reference(scopus_id=3042654673, doi=None), Reference(scopus_id=85022191954, doi=None), Reference(scopus_id=34655827, doi=None), Reference(scopus_id=141626324, doi=None), Reference(scopus_id=85039732569, doi=None), Reference(scopus_id=85077336153, doi=None), Reference(scopus_id=79960366556, doi=None), Reference(scopus_id=30344471525, doi=None), Reference(scopus_id=85048716904, doi=None), Reference(scopus_id=84901651305, doi=None), Reference(scopus_id=345040873, doi=None), Reference(scopus_id=33610987, doi=None), Reference(scopus_id=80555140075, doi=None), Reference(scopus_id=84893878381, doi=None), Reference(scopus_id=4344614511, doi=None), Reference(scopus_id=79952980721, doi=None), Reference(scopus_id=84855970934, doi=None), Reference(scopus_id=34546934, doi=None), Reference(scopus_id=13644256120, doi='10.1080/01431160512331314083'), Reference(scopus_id=84894607481, doi=None), Reference(scopus_id=84876300410, doi=None), Reference(scopus_id=34655867, doi=None), Reference(scopus_id=77953871614, doi=None)}), pub_name='Remote Sensing', pub_issn_print='20724292', pub_issn_electronic='20724292'),\n",
       " PaperInfo(iter_depth=1, title='Constructive and composite heuristics for the 2-stage assembly scheduling problem with periodic maintenance and makespan objective', authors='Talens, C.; Fernandez-Viagas, V.; Perez-Gonzalez, P.; Costa, A.', year=2022, scopus_id=85133412184, doi='10.1016/j.eswa.2022.117824', eid='2-s2.0-85133412184', scopus_url='https://www.scopus.com/inward/record.uri?partnerID=HzOxMe3b&scp=85133412184&origin=inward', refs=frozenset({Reference(scopus_id=655488, doi=None), Reference(scopus_id=84901938183, doi=None), Reference(scopus_id=85025639824, doi=None), Reference(scopus_id=85133430675, doi=None), Reference(scopus_id=84892563095, doi=None), Reference(scopus_id=37402009, doi=None), Reference(scopus_id=84906839581, doi=None), Reference(scopus_id=85048050847, doi=None), Reference(scopus_id=33750841084, doi=None), Reference(scopus_id=33749681702, doi=None), Reference(scopus_id=84866148007, doi=None), Reference(scopus_id=85046658479, doi=None), Reference(scopus_id=27590319, doi=None), Reference(scopus_id=76349087153, doi=None), Reference(scopus_id=79651469503, doi=None), Reference(scopus_id=27144557504, doi=None), Reference(scopus_id=85088130497, doi=None), Reference(scopus_id=84888344261, doi=None), Reference(scopus_id=35371718, doi=None), Reference(scopus_id=85047413755, doi=None), Reference(scopus_id=70349764553, doi=None), Reference(scopus_id=85049047370, doi=None), Reference(scopus_id=2294347, doi=None), Reference(scopus_id=84928109397, doi=None), Reference(scopus_id=85107062743, doi=None), Reference(scopus_id=85077130843, doi=None), Reference(scopus_id=84892916319, doi=None), Reference(scopus_id=80053580515, doi=None), Reference(scopus_id=85082106981, doi=None), Reference(scopus_id=35898985, doi=None), Reference(scopus_id=85000932204, doi=None), Reference(scopus_id=73449092465, doi=None), Reference(scopus_id=33748265082, doi=None), Reference(scopus_id=85009451899, doi=None), Reference(scopus_id=74849101820, doi=None), Reference(scopus_id=85060842235, doi=None)}), pub_name='Expert Systems with Applications', pub_issn_print='09574174', pub_issn_electronic=None),\n",
       " PaperInfo(iter_depth=1, title='Corn grain yield forecasting by satellite remote sensing and machine-learning models', authors='Pinto, A.A.; Zerbato, C.; Rolim, G.D.S.; Barbosa, Junior, M.R.; Silva, L.F.V.D.; Oliveira, R.P.D.', year=2022, scopus_id=85135236892, doi='10.1002/agj2.21141', eid='2-s2.0-85135236892', scopus_url='https://www.scopus.com/inward/record.uri?partnerID=HzOxMe3b&scp=85135236892&origin=inward', refs=frozenset({Reference(scopus_id=42382986, doi=None), Reference(scopus_id=85071865615, doi=None), Reference(scopus_id=85043683088, doi=None), Reference(scopus_id=85128229266, doi=None), Reference(scopus_id=1054870, doi=None), Reference(scopus_id=24165401, doi=None), Reference(scopus_id=1442315675, doi=None), Reference(scopus_id=85099238556, doi=None), Reference(scopus_id=85067661598, doi=None), Reference(scopus_id=2872223, doi=None), Reference(scopus_id=85051813285, doi=None), Reference(scopus_id=30453414, doi=None), Reference(scopus_id=27063079, doi=None), Reference(scopus_id=85090976677, doi=None), Reference(scopus_id=85108453802, doi=None), Reference(scopus_id=85065647276, doi=None), Reference(scopus_id=85098958257, doi=None), Reference(scopus_id=85019362099, doi=None), Reference(scopus_id=85099233715, doi=None), Reference(scopus_id=56849088439, doi=None), Reference(scopus_id=84894638009, doi=None), Reference(scopus_id=29751226, doi=None), Reference(scopus_id=85092294715, doi=None), Reference(scopus_id=85099433788, doi=None), Reference(scopus_id=29659966, doi=None), Reference(scopus_id=85047779134, doi=None), Reference(scopus_id=85068467907, doi=None), Reference(scopus_id=85089478215, doi=None), Reference(scopus_id=85073726025, doi=None), Reference(scopus_id=85076537801, doi=None), Reference(scopus_id=50849142217, doi=None), Reference(scopus_id=26835285, doi=None), Reference(scopus_id=85072172757, doi=None), Reference(scopus_id=85100679260, doi=None), Reference(scopus_id=85047018973, doi=None), Reference(scopus_id=84899786846, doi=None), Reference(scopus_id=85089952995, doi=None), Reference(scopus_id=85091237221, doi=None), Reference(scopus_id=85118698088, doi=None), Reference(scopus_id=85135242603, doi=None), Reference(scopus_id=85091267310, doi=None), Reference(scopus_id=85049858415, doi=None), Reference(scopus_id=28683505, doi=None), Reference(scopus_id=30613490, doi=None), Reference(scopus_id=85099863541, doi=None), Reference(scopus_id=85015616118, doi=None), Reference(scopus_id=85078781432, doi=None), Reference(scopus_id=37063161, doi=None)}), pub_name='Agronomy Journal', pub_issn_print='00021962', pub_issn_electronic='14350645'),\n",
       " PaperInfo(iter_depth=1, title='Corn grain yield prediction and mapping from unmanned aerial system (Uas) multispectral imagery', authors='Shajahan, S.; Cho, J.; Guinness, J.; van, Aardt, J.; Czymmek, K.J.; Ketterings, Q.M.', year=2021, scopus_id=85116460951, doi='10.3390/rs13193948', eid='2-s2.0-85116460951', scopus_url='https://www.scopus.com/inward/record.uri?partnerID=HzOxMe3b&scp=85116460951&origin=inward', refs=frozenset({Reference(scopus_id=13544275716, doi=None), Reference(scopus_id=85082682117, doi=None), Reference(scopus_id=85075466756, doi=None), Reference(scopus_id=85075142535, doi=None), Reference(scopus_id=85116486031, doi=None), Reference(scopus_id=85023747601, doi=None), Reference(scopus_id=36097561, doi=None), Reference(scopus_id=85096118045, doi=None), Reference(scopus_id=84872594845, doi=None), Reference(scopus_id=35141024, doi=None), Reference(scopus_id=84950349731, doi=None), Reference(scopus_id=85051813285, doi=None), Reference(scopus_id=85008343720, doi=None), Reference(scopus_id=85086893994, doi=None), Reference(scopus_id=85041351092, doi=None), Reference(scopus_id=85019696054, doi=None), Reference(scopus_id=56849088439, doi=None), Reference(scopus_id=85053623996, doi=None), Reference(scopus_id=84956925118, doi=None), Reference(scopus_id=85078187458, doi=None), Reference(scopus_id=18465733, doi=None), Reference(scopus_id=85065296326, doi=None), Reference(scopus_id=85078036807, doi=None), Reference(scopus_id=85089478215, doi=None), Reference(scopus_id=85076537801, doi=None), Reference(scopus_id=50849142217, doi=None), Reference(scopus_id=85088663371, doi=None), Reference(scopus_id=84856993741, doi=None), Reference(scopus_id=85088838350, doi=None), Reference(scopus_id=85099909583, doi=None), Reference(scopus_id=84959146200, doi=None), Reference(scopus_id=85089491550, doi=None), Reference(scopus_id=85062883175, doi=None), Reference(scopus_id=84872813671, doi=None), Reference(scopus_id=84875117682, doi=None), Reference(scopus_id=44449178229, doi=None), Reference(scopus_id=84923019894, doi=None), Reference(scopus_id=85052714489, doi=None), Reference(scopus_id=33232764, doi=None), Reference(scopus_id=85103081854, doi=None)}), pub_name='Remote Sensing', pub_issn_print='20724292', pub_issn_electronic='20724292'),\n",
       " PaperInfo(iter_depth=1, title='Deep Reinforcement Learning Based Optimization Algorithm for Permutation Flow-Shop Scheduling', authors='Pan, Z.; Wang, L.; Wang, J.; Lu, J.', year=2023, scopus_id=85118660219, doi='10.1109/TETCI.2021.3098354', eid='2-s2.0-85118660219', scopus_url='https://www.scopus.com/inward/record.uri?partnerID=HzOxMe3b&scp=85118660219&origin=inward', refs=frozenset({Reference(scopus_id=15033601, doi=None), Reference(scopus_id=85165816324, doi=None), Reference(scopus_id=85096387973, doi='10.1109/TETCI.2020.3035407'), Reference(scopus_id=85140424199, doi=None), Reference(scopus_id=85047000455, doi=None), Reference(scopus_id=16952078, doi=None), Reference(scopus_id=85082633614, doi=None), Reference(scopus_id=85090060302, doi=None), Reference(scopus_id=34248849, doi=None), Reference(scopus_id=20699921, doi=None), Reference(scopus_id=85098046611, doi='10.1109/TETCI.2020.3022372'), Reference(scopus_id=85096397075, doi='10.1109/TETCI.2020.3027300'), Reference(scopus_id=85107909780, doi=None), Reference(scopus_id=85062096277, doi=None), Reference(scopus_id=84892563095, doi=None), Reference(scopus_id=85108394264, doi=None), Reference(scopus_id=85021428637, doi=None), Reference(scopus_id=38749087646, doi=None), Reference(scopus_id=85060483871, doi=None), Reference(scopus_id=85102851103, doi=None), Reference(scopus_id=85086939555, doi=None), Reference(scopus_id=85002168868, doi=None), Reference(scopus_id=85044306727, doi=None), Reference(scopus_id=85078409896, doi=None), Reference(scopus_id=337576, doi=None), Reference(scopus_id=85101168430, doi=None), Reference(scopus_id=85120383535, doi='10.1109/TSMC.2020.2969317'), Reference(scopus_id=85093294128, doi=None), Reference(scopus_id=62749100721, doi=None), Reference(scopus_id=85090364721, doi=None), Reference(scopus_id=85082981046, doi=None), Reference(scopus_id=42949132087, doi=None), Reference(scopus_id=84965173945, doi=None), Reference(scopus_id=37578177, doi=None), Reference(scopus_id=85165815617, doi=None), Reference(scopus_id=77955274194, doi=None), Reference(scopus_id=85081140568, doi=None), Reference(scopus_id=85051085274, doi=None), Reference(scopus_id=85100256602, doi=None), Reference(scopus_id=85064833116, doi=None), Reference(scopus_id=67549098078, doi=None), Reference(scopus_id=85083951076, doi=None), Reference(scopus_id=61649112805, doi=None), Reference(scopus_id=14807274, doi=None), Reference(scopus_id=85050013162, doi=None), Reference(scopus_id=85061756782, doi=None), Reference(scopus_id=84995488495, doi=None), Reference(scopus_id=85064406642, doi=None), Reference(scopus_id=85083951347, doi=None), Reference(scopus_id=85070711412, doi=None), Reference(scopus_id=85098998132, doi=None), Reference(scopus_id=85108393338, doi=None), Reference(scopus_id=85084170875, doi=None), Reference(scopus_id=27201278, doi=None), Reference(scopus_id=33748181887, doi=None)}), pub_name='IEEE Transactions on Emerging Topics in Computational Intelligence', pub_issn_print='2471285X', pub_issn_electronic='2471285X'),\n",
       " PaperInfo(iter_depth=1, title='Development of a two-band enhanced vegetation index without a blue band', authors='Jiang, Z.; Huete, A.R.; Didan, K.; Miura, T.', year=2008, scopus_id=50849142217, doi='10.1016/j.rse.2008.06.006', eid='2-s2.0-50849142217', scopus_url='https://www.scopus.com/inward/record.uri?partnerID=HzOxMe3b&scp=50849142217&origin=inward', refs=frozenset({Reference(scopus_id=31348480, doi=None), Reference(scopus_id=27334403, doi=None), Reference(scopus_id=37333517, doi=None), Reference(scopus_id=36323088, doi=None), Reference(scopus_id=33746980372, doi=None), Reference(scopus_id=30267412, doi=None), Reference(scopus_id=50849133590, doi=None), Reference(scopus_id=24165401, doi=None), Reference(scopus_id=33747605797, doi=None), Reference(scopus_id=31271718, doi=None), Reference(scopus_id=41380909, doi=None), Reference(scopus_id=33746324527, doi=None), Reference(scopus_id=842306351, doi=None), Reference(scopus_id=33746577971, doi=None), Reference(scopus_id=26305589, doi=None), Reference(scopus_id=33748288310, doi=None), Reference(scopus_id=27644524598, doi=None), Reference(scopus_id=36846393, doi=None), Reference(scopus_id=29244457790, doi=None), Reference(scopus_id=34247331391, doi=None), Reference(scopus_id=33845637951, doi=None), Reference(scopus_id=33645131328, doi=None), Reference(scopus_id=40649094978, doi=None), Reference(scopus_id=30644475723, doi=None), Reference(scopus_id=22268748, doi=None), Reference(scopus_id=28144455248, doi=None), Reference(scopus_id=26835285, doi=None), Reference(scopus_id=534613, doi=None), Reference(scopus_id=33389656, doi=None), Reference(scopus_id=36847450, doi=None), Reference(scopus_id=29275243, doi=None), Reference(scopus_id=84869418864, doi=None), Reference(scopus_id=22439799, doi=None), Reference(scopus_id=33646450301, doi=None), Reference(scopus_id=31463298, doi=None), Reference(scopus_id=32311683, doi=None), Reference(scopus_id=10844225415, doi=None), Reference(scopus_id=27790217, doi=None), Reference(scopus_id=27788687, doi=None), Reference(scopus_id=36845209, doi=None), Reference(scopus_id=1442315675, doi=None), Reference(scopus_id=35548961951, doi=None), Reference(scopus_id=36846499, doi=None), Reference(scopus_id=33745744804, doi=None), Reference(scopus_id=32317096, doi=None), Reference(scopus_id=26439851, doi=None), Reference(scopus_id=31233198, doi=None), Reference(scopus_id=28554927, doi=None), Reference(scopus_id=28467633, doi=None), Reference(scopus_id=34923444, doi=None), Reference(scopus_id=33746378166, doi=None), Reference(scopus_id=36787127, doi=None), Reference(scopus_id=33847754167, doi=None), Reference(scopus_id=29751225, doi=None), Reference(scopus_id=29751226, doi=None), Reference(scopus_id=34656187, doi=None), Reference(scopus_id=24937404, doi=None), Reference(scopus_id=796604, doi=None), Reference(scopus_id=8844271036, doi=None), Reference(scopus_id=28431038, doi=None), Reference(scopus_id=22267328, doi=None), Reference(scopus_id=33851838, doi=None), Reference(scopus_id=37333955, doi=None), Reference(scopus_id=35513550, doi=None), Reference(scopus_id=34247388368, doi=None), Reference(scopus_id=1242298833, doi=None), Reference(scopus_id=34247523027, doi=None), Reference(scopus_id=30619096, doi=None), Reference(scopus_id=22944453083, doi=None), Reference(scopus_id=2342519518, doi=None), Reference(scopus_id=3843076325, doi=None), Reference(scopus_id=6344280805, doi=None), Reference(scopus_id=30613490, doi=None), Reference(scopus_id=33846338807, doi=None), Reference(scopus_id=34248203005, doi=None), Reference(scopus_id=855550, doi=None)}), pub_name='Remote Sensing of Environment', pub_issn_print='00344257', pub_issn_electronic=None),\n",
       " PaperInfo(iter_depth=1, title='Development of methods to improve soybean yield estimation and predict plant maturity with an unmanned aerial vehicle based platform', authors='Yu, N.; Li, L.; Schmitz, N.; Tian, L.F.; Greenberg, J.A.; Diers, B.W.', year=2016, scopus_id=84991461437, doi='10.1016/j.rse.2016.10.005', eid='2-s2.0-84991461437', scopus_url='https://www.scopus.com/inward/record.uri?partnerID=HzOxMe3b&scp=84991461437&origin=inward', refs=frozenset({Reference(scopus_id=84945364480, doi=None), Reference(scopus_id=76749109506, doi=None), Reference(scopus_id=34026627, doi=None), Reference(scopus_id=84924420104, doi=None), Reference(scopus_id=34086795, doi=None), Reference(scopus_id=36749088909, doi=None), Reference(scopus_id=85016868365, doi=None), Reference(scopus_id=84977930255, doi=None), Reference(scopus_id=84860226704, doi=None), Reference(scopus_id=358033, doi=None), Reference(scopus_id=84861435024, doi=None), Reference(scopus_id=78249275535, doi=None), Reference(scopus_id=84868629775, doi=None), Reference(scopus_id=84964944150, doi=None), Reference(scopus_id=77951138969, doi=None), Reference(scopus_id=1738523, doi=None), Reference(scopus_id=30443043, doi=None), Reference(scopus_id=84860329380, doi=None), Reference(scopus_id=34548420648, doi=None), Reference(scopus_id=34548444205, doi=None), Reference(scopus_id=35748944689, doi=None), Reference(scopus_id=41749119154, doi=None), Reference(scopus_id=37356853, doi=None), Reference(scopus_id=33004343, doi=None), Reference(scopus_id=84991509815, doi=None), Reference(scopus_id=28431034, doi=None), Reference(scopus_id=84874788283, doi=None), Reference(scopus_id=35659451, doi=None), Reference(scopus_id=6362182, doi=None), Reference(scopus_id=35478854, doi=None), Reference(scopus_id=34333127, doi=None), Reference(scopus_id=84945911113, doi=None), Reference(scopus_id=84904362057, doi=None), Reference(scopus_id=1578187, doi=None), Reference(scopus_id=79251597643, doi=None), Reference(scopus_id=57449111248, doi=None), Reference(scopus_id=77957988945, doi=None), Reference(scopus_id=84878754899, doi=None), Reference(scopus_id=33748999764, doi=None), Reference(scopus_id=84939543001, doi=None), Reference(scopus_id=84885437404, doi=None), Reference(scopus_id=26002269, doi=None), Reference(scopus_id=33873756, doi=None), Reference(scopus_id=84899769183, doi=None), Reference(scopus_id=79951568736, doi=None), Reference(scopus_id=84891372768, doi=None), Reference(scopus_id=77956640482, doi=None), Reference(scopus_id=84932599006, doi=None), Reference(scopus_id=84928266341, doi=None), Reference(scopus_id=84860463976, doi=None), Reference(scopus_id=84876326505, doi=None), Reference(scopus_id=79951813354, doi=None), Reference(scopus_id=37053931, doi=None), Reference(scopus_id=84973420908, doi=None), Reference(scopus_id=84924917101, doi=None), Reference(scopus_id=2202606, doi=None)}), pub_name='Remote Sensing of Environment', pub_issn_print='00344257', pub_issn_electronic=None),\n",
       " PaperInfo(iter_depth=1, title='Diagnosis of winter-wheat water stress based on UAV-borne multispectral image texture and vegetation indices', authors='Zhou, Y.; Lao, C.; Yang, Y.; Zhang, Z.; Chen, H.; Chen, Y.; Chen, J.; Ning, J.; Yang, N.', year=2021, scopus_id=85110571048, doi='10.1016/j.agwat.2021.107076', eid='2-s2.0-85110571048', scopus_url='https://www.scopus.com/inward/record.uri?partnerID=HzOxMe3b&scp=85110571048&origin=inward', refs=frozenset({Reference(scopus_id=84943374467, doi='10.1109/AIM.2003.1225492'), Reference(scopus_id=84887200262, doi='10.1016/j.isprsjprs.2013.10.002'), Reference(scopus_id=85105307910, doi='10.6041/j.issn.1000-1298.2021.04.021'), Reference(scopus_id=84947775497, doi='10.1016/j.rse.2015.11.013'), Reference(scopus_id=37066635, doi='10.1016/S0045-7825(01)00372-3'), Reference(scopus_id=61349186319, doi='10.1109/TGRS.2008.2010457'), Reference(scopus_id=24044504080, doi='10.1007/s11119-005-2324-5'), Reference(scopus_id=84907177618, doi='10.1016/j.isprsjprs.2014.08.005'), Reference(scopus_id=85053683093, doi='10.1007/s11119-018-9600-7'), Reference(scopus_id=8744307994, doi='10.1177/0049124104268644'), Reference(scopus_id=85056816922, doi='10.1016/j.agrformet.2018.11.009'), Reference(scopus_id=85074195868, doi='10.3390/rs11202428'), Reference(scopus_id=85062338076, doi='10.1016/j.isprsjprs.2019.02.022'), Reference(scopus_id=36020894, doi='10.1111/1467-9868.00348'), Reference(scopus_id=10844247294, doi='10.1080/01431160412331291279'), Reference(scopus_id=85086146848, doi='10.1016/j.agrformet.2020.108061'), Reference(scopus_id=85022326693, doi='10.3390/rs9070642'), Reference(scopus_id=32317096, doi='10.1016/S0034-4257(98)00059-5'), Reference(scopus_id=85083722671, doi='10.1016/j.agwat.2020.106201'), Reference(scopus_id=84922998703, doi='10.1016/j.agwat.2015.01.020'), Reference(scopus_id=85063671479, doi='10.1016/j.agwat.2019.03.034'), Reference(scopus_id=85015379127, doi='10.1016/j.rse.2017.03.004'), Reference(scopus_id=85011274936, doi='10.3390/rs8070540'), Reference(scopus_id=84926633657, doi='10.1016/j.compag.2015.03.019'), Reference(scopus_id=34047174077, doi='10.1109/TNN.2006.880583'), Reference(scopus_id=85067413955, doi='10.1111/nph.15899'), Reference(scopus_id=85028443845, doi='10.1016/j.compag.2017.07.026'), Reference(scopus_id=34333127, doi='10.1016/S0034-4257(00)00113-9'), Reference(scopus_id=85087735883, doi='10.1016/j.agwat.2020.106379'), Reference(scopus_id=85071605455, doi='10.3390/rs11161932'), Reference(scopus_id=33646702801, doi='10.1080/01431160500486732'), Reference(scopus_id=84907494099, doi='10.1016/j.eswa.2014.08.018'), Reference(scopus_id=2029525, doi='10.1080/07060669509500709'), Reference(scopus_id=32122198, doi='10.13031/2013.17244'), Reference(scopus_id=36323544, doi='10.1016/s0034-4257(02)00018-4'), Reference(scopus_id=38049050200, doi='10.1016/j.rse.2007.05.009'), Reference(scopus_id=84923846108, doi='10.1016/j.geodrs.2014.09.005'), Reference(scopus_id=1242265184, doi='10.1080/01431160310001618031'), Reference(scopus_id=15680481, doi='10.1109/TSMC.1973.4309314'), Reference(scopus_id=2942567780, doi='10.1093/jxb/erh146'), Reference(scopus_id=36330345, doi='10.1016/S0034-4257(02)00010-X'), Reference(scopus_id=85058158320, doi='10.1016/j.agrformet.2018.11.035'), Reference(scopus_id=84935033969, doi='10.1016/j.isprsjprs.2015.06.002'), Reference(scopus_id=33597557, doi='10.1016/s0168-1923(99)00030-1'), Reference(scopus_id=26451960, doi='10.1016/0034-4257(92)90059-S'), Reference(scopus_id=79952038910, doi='10.1109/TGRS.2010.2068574')}), pub_name='Agricultural Water Management', pub_issn_print='03783774', pub_issn_electronic='18732283'),\n",
       " PaperInfo(iter_depth=1, title='Distributed Co-Evolutionary Memetic Algorithm for Distributed Hybrid Differentiation Flowshop Scheduling Problem', authors='Zhang, G.; Liu, B.; Wang, L.; Yu, D.; Xing, K.', year=2022, scopus_id=85124754265, doi='10.1109/TEVC.2022.3150771', eid='2-s2.0-85124754265', scopus_url='https://www.scopus.com/inward/record.uri?partnerID=HzOxMe3b&scp=85124754265&origin=inward', refs=frozenset({Reference(scopus_id=84930932608, doi=None), Reference(scopus_id=85053144449, doi=None), Reference(scopus_id=84900826371, doi=None), Reference(scopus_id=85034083333, doi=None), Reference(scopus_id=85084696069, doi=None), Reference(scopus_id=85040683143, doi=None), Reference(scopus_id=85101087750, doi=None), Reference(scopus_id=80054688019, doi=None), Reference(scopus_id=85040939028, doi=None), Reference(scopus_id=85043600917, doi=None), Reference(scopus_id=33847661566, doi=None), Reference(scopus_id=84885615132, doi=None), Reference(scopus_id=85085726495, doi=None), Reference(scopus_id=85018385184, doi=None), Reference(scopus_id=85096857120, doi=None), Reference(scopus_id=85098467106, doi=None), Reference(scopus_id=84884903588, doi=None), Reference(scopus_id=85028922410, doi=None), Reference(scopus_id=37146413, doi=None), Reference(scopus_id=85059266990, doi=None), Reference(scopus_id=84882454321, doi=None), Reference(scopus_id=79952003251, doi=None), Reference(scopus_id=85084290612, doi=None), Reference(scopus_id=85129953461, doi='10.1109/TSMC.2021.3102658'), Reference(scopus_id=84904612535, doi=None), Reference(scopus_id=85086503992, doi=None), Reference(scopus_id=85006427576, doi=None), Reference(scopus_id=70349270458, doi=None), Reference(scopus_id=70350752447, doi=None), Reference(scopus_id=84965071551, doi=None), Reference(scopus_id=85044293828, doi=None), Reference(scopus_id=85095973961, doi=None), Reference(scopus_id=84991688011, doi=None), Reference(scopus_id=3075019, doi=None), Reference(scopus_id=67650145870, doi=None), Reference(scopus_id=78649628117, doi=None), Reference(scopus_id=85011596118, doi=None), Reference(scopus_id=84880923608, doi=None), Reference(scopus_id=84884906840, doi=None), Reference(scopus_id=85112649433, doi=None), Reference(scopus_id=84913621341, doi=None), Reference(scopus_id=84886088415, doi=None), Reference(scopus_id=85095750114, doi=None), Reference(scopus_id=84922338411, doi=None), Reference(scopus_id=84969802860, doi=None), Reference(scopus_id=84871244398, doi=None), Reference(scopus_id=85124395120, doi=None), Reference(scopus_id=85084133618, doi=None), Reference(scopus_id=85097948147, doi=None), Reference(scopus_id=84920780405, doi=None), Reference(scopus_id=84892612726, doi=None), Reference(scopus_id=38273913, doi=None), Reference(scopus_id=85027020538, doi=None), Reference(scopus_id=85060842235, doi=None), Reference(scopus_id=2442474238, doi=None)}), pub_name='IEEE Transactions on Evolutionary Computation', pub_issn_print='1089778X', pub_issn_electronic='19410026'),\n",
       " PaperInfo(iter_depth=1, title='Double-Layer Q-Learning-Based Joint Decision-Making of Dual Resource-Constrained Aircraft Assembly Scheduling and Flexible Preventive Maintenance', authors='Yan, Q.; Wang, H.', year=2022, scopus_id=85141797750, doi='10.1109/TAES.2022.3211247', eid='2-s2.0-85141797750', scopus_url='https://www.scopus.com/inward/record.uri?partnerID=HzOxMe3b&scp=85141797750&origin=inward', refs=frozenset({Reference(scopus_id=85122931970, doi='10.1016/j.ast.2022.107346'), Reference(scopus_id=85145249285, doi=None), Reference(scopus_id=75449112582, doi=None), Reference(scopus_id=38813446, doi=None), Reference(scopus_id=85083590408, doi=None), Reference(scopus_id=85058674956, doi='10.1080/00207543.2018.1554917'), Reference(scopus_id=85102382605, doi='10.1016/j.rcim.2021.102154'), Reference(scopus_id=85061966107, doi=None), Reference(scopus_id=85101779232, doi='10.1109/TAES.2021.3061809'), Reference(scopus_id=13444291361, doi=None), Reference(scopus_id=85090364721, doi=None), Reference(scopus_id=85132105267, doi=None), Reference(scopus_id=85145249077, doi=None), Reference(scopus_id=85040936246, doi=None), Reference(scopus_id=85126551862, doi='10.1109/TCYB.2022.3151855'), Reference(scopus_id=85067659837, doi=None), Reference(scopus_id=85099732034, doi=None), Reference(scopus_id=85019915331, doi=None), Reference(scopus_id=85127545413, doi=None), Reference(scopus_id=85099183174, doi=None), Reference(scopus_id=85110192455, doi=None), Reference(scopus_id=85077851209, doi='10.1080/17517575.2019.1709663'), Reference(scopus_id=30575689, doi='10.1016/S0377-2217(96)00099-9'), Reference(scopus_id=85111810379, doi=None), Reference(scopus_id=85098063704, doi='10.1016/j.eswa.2020.114495'), Reference(scopus_id=34159705, doi=None), Reference(scopus_id=85124754265, doi='10.1109/TEVC.2022.3150771'), Reference(scopus_id=85103950696, doi=None), Reference(scopus_id=32671338, doi=None), Reference(scopus_id=85039969898, doi='10.1016/j.knosys.2017.12.021'), Reference(scopus_id=34047122539, doi=None), Reference(scopus_id=85098998132, doi=None), Reference(scopus_id=85068439678, doi=None), Reference(scopus_id=84890169727, doi=None), Reference(scopus_id=85105005963, doi=None), Reference(scopus_id=85122644877, doi=None), Reference(scopus_id=85145248398, doi=None), Reference(scopus_id=85059569549, doi='10.1016/j.paerosci.2018.11.003'), Reference(scopus_id=84934325650, doi=None), Reference(scopus_id=85088818585, doi='10.1080/00207543.2020.1791998'), Reference(scopus_id=85064133535, doi=None), Reference(scopus_id=85019975083, doi=None), Reference(scopus_id=85087047340, doi='10.1080/00207543.2020.1771456'), Reference(scopus_id=85101469109, doi='10.1109/TAES.2021.3056086'), Reference(scopus_id=85074152374, doi=None), Reference(scopus_id=85098682553, doi=None), Reference(scopus_id=85063568060, doi='10.1080/17517575.2019.1593508'), Reference(scopus_id=85086401725, doi='10.1007/s10845-020-01588-9'), Reference(scopus_id=85077250493, doi=None), Reference(scopus_id=85109473474, doi=None), Reference(scopus_id=85146672581, doi=None), Reference(scopus_id=85082875336, doi=None), Reference(scopus_id=85048739531, doi=None), Reference(scopus_id=77950556108, doi=None), Reference(scopus_id=85098202318, doi=None), Reference(scopus_id=52149122513, doi=None), Reference(scopus_id=85105533138, doi=None), Reference(scopus_id=85117297110, doi=None), Reference(scopus_id=85158807006, doi=None), Reference(scopus_id=85103117542, doi=None), Reference(scopus_id=80055029480, doi=None), Reference(scopus_id=85148570347, doi=None), Reference(scopus_id=85074357229, doi='10.1080/17517575.2019.1670361'), Reference(scopus_id=85094895344, doi=None), Reference(scopus_id=84992217087, doi=None)}), pub_name='IEEE Transactions on Aerospace and Electronic Systems', pub_issn_print='00189251', pub_issn_electronic='15579603'),\n",
       " PaperInfo(iter_depth=1, title='Dynamic Jobshop Scheduling Algorithm Based on Deep Q Network', authors='Zhao, Y.; Wang, Y.; Tan, Y.; Zhang, J.; Yu, H.', year=2021, scopus_id=85114740755, doi='10.1109/ACCESS.2021.3110242', eid='2-s2.0-85114740755', scopus_url='https://www.scopus.com/inward/record.uri?partnerID=HzOxMe3b&scp=85114740755&origin=inward', refs=frozenset({Reference(scopus_id=85089942016, doi='10.1016/j.cie.2020.106749'), Reference(scopus_id=3666178, doi=None), Reference(scopus_id=85115228169, doi=None), Reference(scopus_id=37396491, doi='10.1016/S0305-0483(03)00020-3'), Reference(scopus_id=85056321676, doi='10.1007/s10845-018-1454-3'), Reference(scopus_id=84924051598, doi='10.1038/nature14236'), Reference(scopus_id=5648655, doi=None), Reference(scopus_id=85044791956, doi=None), Reference(scopus_id=4944253466, doi=None), Reference(scopus_id=85002168868, doi=None), Reference(scopus_id=26126118, doi=None), Reference(scopus_id=85044306727, doi=None), Reference(scopus_id=34325416, doi=None), Reference(scopus_id=85078409896, doi='10.1080/00207543.2020.1717008'), Reference(scopus_id=85054368042, doi='10.1109/ACCESS.2018.2872674'), Reference(scopus_id=85019975083, doi='10.1016/j.cie.2017.05.026'), Reference(scopus_id=30782894, doi=None), Reference(scopus_id=26644452543, doi=None), Reference(scopus_id=5244278595, doi=None), Reference(scopus_id=85068618692, doi=None), Reference(scopus_id=77951201349, doi=None), Reference(scopus_id=85103273799, doi='10.1109/TITS.2021.3066240'), Reference(scopus_id=84924485966, doi=None), Reference(scopus_id=29224911, doi=None), Reference(scopus_id=85053085777, doi='10.1016/j.sysarc.2018.09.002'), Reference(scopus_id=67650227926, doi='10.1007/s00170-008-1588-0'), Reference(scopus_id=85083169239, doi='10.1109/RTSS46320.2019.00059'), Reference(scopus_id=85063462750, doi=None), Reference(scopus_id=85051407209, doi='10.1016/j.eswa.2018.06.053'), Reference(scopus_id=3054955, doi=None), Reference(scopus_id=70350571118, doi='10.1016/j.ejor.2009.06.004'), Reference(scopus_id=85048864239, doi=None), Reference(scopus_id=28739953, doi=None), Reference(scopus_id=41149129586, doi='10.1109/TSMCA.2007.914753'), Reference(scopus_id=84893671410, doi=None), Reference(scopus_id=84856100986, doi='10.1016/j.cor.2011.12.005')}), pub_name='IEEE Access', pub_issn_print='21693536', pub_issn_electronic='21693536'),\n",
       " PaperInfo(iter_depth=1, title='Dynamic scheduling for flexible job shop with new job insertions by deep reinforcement learning', authors='Luo, S.', year=2020, scopus_id=85081140568, doi='10.1016/j.asoc.2020.106208', eid='2-s2.0-85081140568', scopus_url='https://www.scopus.com/inward/record.uri?partnerID=HzOxMe3b&scp=85081140568&origin=inward', refs=frozenset({Reference(scopus_id=17468930, doi=None), Reference(scopus_id=85047000455, doi=None), Reference(scopus_id=32649737, doi=None), Reference(scopus_id=33651337, doi=None), Reference(scopus_id=79957742860, doi=None), Reference(scopus_id=16952078, doi=None), Reference(scopus_id=84924051598, doi=None), Reference(scopus_id=85079325075, doi=None), Reference(scopus_id=85044791956, doi=None), Reference(scopus_id=4944253466, doi=None), Reference(scopus_id=85074388897, doi=None), Reference(scopus_id=85081124898, doi=None), Reference(scopus_id=2054180, doi=None), Reference(scopus_id=32097829, doi=None), Reference(scopus_id=85044306727, doi=None), Reference(scopus_id=34325416, doi=None), Reference(scopus_id=85019975083, doi=None), Reference(scopus_id=85081118386, doi=None), Reference(scopus_id=85052900787, doi=None), Reference(scopus_id=78149420086, doi=None), Reference(scopus_id=84987602359, doi=None), Reference(scopus_id=85081137720, doi=None), Reference(scopus_id=84965135289, doi=None), Reference(scopus_id=85008420154, doi=None), Reference(scopus_id=84880652475, doi=None), Reference(scopus_id=79958814014, doi=None), Reference(scopus_id=85015875522, doi=None), Reference(scopus_id=31069765, doi=None), Reference(scopus_id=84962137547, doi=None), Reference(scopus_id=85029416652, doi=None), Reference(scopus_id=84922454987, doi=None), Reference(scopus_id=1700171, doi=None), Reference(scopus_id=4102479, doi=None), Reference(scopus_id=85081138642, doi=None), Reference(scopus_id=85042882006, doi=None), Reference(scopus_id=85041193302, doi=None), Reference(scopus_id=85072854489, doi=None), Reference(scopus_id=3644124, doi=None), Reference(scopus_id=85161998941, doi=None), Reference(scopus_id=77951119710, doi=None), Reference(scopus_id=84992449505, doi=None), Reference(scopus_id=84858054371, doi=None), Reference(scopus_id=84904867557, doi=None), Reference(scopus_id=85081119465, doi=None), Reference(scopus_id=84857782251, doi=None), Reference(scopus_id=85061323757, doi=None), Reference(scopus_id=85048864239, doi=None), Reference(scopus_id=84933055604, doi=None), Reference(scopus_id=84880264313, doi=None), Reference(scopus_id=68249099005, doi=None)}), pub_name='Applied Soft Computing Journal', pub_issn_print='15684946', pub_issn_electronic=None),\n",
       " PaperInfo(iter_depth=1, title='Dynamic scheduling of manufacturing systems using machine learning: An updated review', authors='Priore, P.; Gomez, A.; Pino, R.; Rosillo, R.', year=2014, scopus_id=84896442633, doi='10.1017/S0890060413000516', eid='2-s2.0-84896442633', scopus_url='https://www.scopus.com/inward/record.uri?partnerID=HzOxMe3b&scp=84896442633&origin=inward', refs=frozenset({Reference(scopus_id=80053570821, doi=None), Reference(scopus_id=27944469012, doi=None), Reference(scopus_id=7544244249, doi=None), Reference(scopus_id=4944253466, doi=None), Reference(scopus_id=36497435, doi=None), Reference(scopus_id=34548125465, doi=None), Reference(scopus_id=17744380446, doi=None), Reference(scopus_id=77649318175, doi=None), Reference(scopus_id=33751081510, doi=None), Reference(scopus_id=32544433960, doi=None), Reference(scopus_id=66349098031, doi=None), Reference(scopus_id=20718128, doi=None), Reference(scopus_id=23416625, doi=None), Reference(scopus_id=78149420086, doi=None), Reference(scopus_id=84864772150, doi=None), Reference(scopus_id=24055865, doi=None), Reference(scopus_id=32121915, doi=None), Reference(scopus_id=78650684480, doi=None), Reference(scopus_id=23385665, doi=None), Reference(scopus_id=21899333, doi=None), Reference(scopus_id=38481221, doi=None), Reference(scopus_id=3487046, doi=None), Reference(scopus_id=27576654, doi=None), Reference(scopus_id=242703954, doi=None), Reference(scopus_id=22807123, doi=None), Reference(scopus_id=42959699, doi=None), Reference(scopus_id=20013653, doi=None), Reference(scopus_id=78049286231, doi=None), Reference(scopus_id=31744446040, doi=None), Reference(scopus_id=34326104, doi=None), Reference(scopus_id=36348991068, doi=None), Reference(scopus_id=37282398, doi=None), Reference(scopus_id=49849105246, doi=None), Reference(scopus_id=21496929, doi=None), Reference(scopus_id=23399009, doi=None), Reference(scopus_id=3603813, doi=None), Reference(scopus_id=3054955, doi=None), Reference(scopus_id=242322798, doi=None), Reference(scopus_id=33748743279, doi=None), Reference(scopus_id=23344453490, doi=None), Reference(scopus_id=84999480178, doi=None), Reference(scopus_id=24714612, doi=None), Reference(scopus_id=348230519, doi=None), Reference(scopus_id=672127, doi=None), Reference(scopus_id=3949709, doi=None), Reference(scopus_id=77957790861, doi=None), Reference(scopus_id=62749184910, doi=None), Reference(scopus_id=30166927, doi=None), Reference(scopus_id=37448851, doi=None), Reference(scopus_id=21144442004, doi=None), Reference(scopus_id=32163477, doi=None), Reference(scopus_id=26644461462, doi=None), Reference(scopus_id=936343, doi=None), Reference(scopus_id=33748694681, doi=None), Reference(scopus_id=31744447388, doi=None), Reference(scopus_id=36604832, doi=None), Reference(scopus_id=67349136034, doi=None), Reference(scopus_id=77953631906, doi=None), Reference(scopus_id=77953616034, doi=None), Reference(scopus_id=38849091494, doi=None), Reference(scopus_id=26374056, doi=None), Reference(scopus_id=78349250220, doi=None), Reference(scopus_id=4172718, doi=None), Reference(scopus_id=22060472, doi=None), Reference(scopus_id=63449134271, doi=None), Reference(scopus_id=10844274625, doi=None), Reference(scopus_id=50149101510, doi=None), Reference(scopus_id=24731596, doi=None), Reference(scopus_id=33744584654, doi=None), Reference(scopus_id=40621775, doi=None), Reference(scopus_id=242301653, doi=None), Reference(scopus_id=33745949910, doi=None), Reference(scopus_id=242269909, doi=None), Reference(scopus_id=3500248, doi=None), Reference(scopus_id=67650227926, doi=None), Reference(scopus_id=35358169, doi=None), Reference(scopus_id=79751530467, doi=None), Reference(scopus_id=27609316, doi=None), Reference(scopus_id=28594405, doi=None), Reference(scopus_id=70449670631, doi=None), Reference(scopus_id=2715112, doi=None), Reference(scopus_id=25416939, doi=None), Reference(scopus_id=242485227, doi=None), Reference(scopus_id=26819312, doi=None), Reference(scopus_id=84891459569, doi=None), Reference(scopus_id=30344458483, doi=None), Reference(scopus_id=3342903540, doi=None), Reference(scopus_id=27344432371, doi=None), Reference(scopus_id=33846662390, doi=None), Reference(scopus_id=33645574902, doi=None), Reference(scopus_id=79952664824, doi=None), Reference(scopus_id=76549113337, doi=None), Reference(scopus_id=24716540, doi=None), Reference(scopus_id=68249099005, doi=None), Reference(scopus_id=84952242943, doi=None)}), pub_name='Artificial Intelligence for Engineering Design, Analysis and Manufacturing: AIEDAM', pub_issn_print='08900604', pub_issn_electronic='14691760'),\n",
       " PaperInfo(iter_depth=1, title='Energy-Efficient Scheduling of Distributed Flow Shop with Heterogeneous Factories: A Real-World Case from Automobile Industry in China', authors='Lu, C.; Gao, L.; Yi, J.; Li, X.', year=2021, scopus_id=85097948147, doi='10.1109/TII.2020.3043734', eid='2-s2.0-85097948147', scopus_url='https://www.scopus.com/inward/record.uri?partnerID=HzOxMe3b&scp=85097948147&origin=inward', refs=frozenset({Reference(scopus_id=16952078, doi=None), Reference(scopus_id=85040939028, doi=None), Reference(scopus_id=85043600917, doi=None), Reference(scopus_id=85026675606, doi=None), Reference(scopus_id=85078841883, doi=None), Reference(scopus_id=85083293084, doi=None), Reference(scopus_id=85058463787, doi=None), Reference(scopus_id=34199979, doi=None), Reference(scopus_id=4140075, doi=None), Reference(scopus_id=85049099952, doi=None), Reference(scopus_id=84882454321, doi=None), Reference(scopus_id=85075980082, doi=None), Reference(scopus_id=84945454006, doi=None), Reference(scopus_id=85063770551, doi=None), Reference(scopus_id=85006427576, doi=None), Reference(scopus_id=67349108023, doi=None), Reference(scopus_id=85077250493, doi=None), Reference(scopus_id=84905189822, doi=None), Reference(scopus_id=85044293828, doi=None), Reference(scopus_id=84965124295, doi=None), Reference(scopus_id=85047649097, doi=None), Reference(scopus_id=80052141904, doi=None), Reference(scopus_id=85053542482, doi=None), Reference(scopus_id=85104068307, doi='10.1109/TASE.2019.2958979'), Reference(scopus_id=36530772, doi=None), Reference(scopus_id=85029782486, doi=None), Reference(scopus_id=85078150371, doi=None), Reference(scopus_id=85058540003, doi=None), Reference(scopus_id=85064492782, doi=None), Reference(scopus_id=85042596335, doi=None), Reference(scopus_id=85040681454, doi=None), Reference(scopus_id=85085712626, doi=None), Reference(scopus_id=84964470516, doi=None), Reference(scopus_id=84920780405, doi=None), Reference(scopus_id=85026361211, doi=None)}), pub_name='IEEE Transactions on Industrial Informatics', pub_issn_print='15513203', pub_issn_electronic='19410050'),\n",
       " PaperInfo(iter_depth=1, title='Energy-efficient distributed heterogeneous welding flow shop scheduling problem using a modified MOEA/D', authors='Wang, G.; Li, X.; Gao, L.; Li, P.', year=2021, scopus_id=85101375451, doi='10.1016/j.swevo.2021.100858', eid='2-s2.0-85101375451', scopus_url='https://www.scopus.com/inward/record.uri?partnerID=HzOxMe3b&scp=85101375451&origin=inward', refs=frozenset({Reference(scopus_id=85059308547, doi=None), Reference(scopus_id=85103231620, doi=None), Reference(scopus_id=85088891653, doi=None), Reference(scopus_id=85047970695, doi=None), Reference(scopus_id=85087520136, doi=None), Reference(scopus_id=34548108555, doi=None), Reference(scopus_id=36507916, doi=None), Reference(scopus_id=84930674315, doi=None), Reference(scopus_id=85108053902, doi=None), Reference(scopus_id=84940007439, doi=None), Reference(scopus_id=85040939028, doi=None), Reference(scopus_id=85090940182, doi=None), Reference(scopus_id=85084335127, doi=None), Reference(scopus_id=85067056922, doi=None), Reference(scopus_id=85060849818, doi=None), Reference(scopus_id=85085726495, doi=None), Reference(scopus_id=80054680608, doi=None), Reference(scopus_id=85089145509, doi=None), Reference(scopus_id=84958619818, doi=None), Reference(scopus_id=4140075, doi=None), Reference(scopus_id=79960535211, doi=None), Reference(scopus_id=85093664944, doi=None), Reference(scopus_id=84882454321, doi=None), Reference(scopus_id=85101397811, doi=None), Reference(scopus_id=79952003251, doi=None), Reference(scopus_id=84904612535, doi=None), Reference(scopus_id=85096703546, doi=None), Reference(scopus_id=85088367803, doi=None), Reference(scopus_id=70350752447, doi=None), Reference(scopus_id=85088130497, doi=None), Reference(scopus_id=85084184772, doi=None), Reference(scopus_id=85044293828, doi=None), Reference(scopus_id=80052141904, doi=None), Reference(scopus_id=85053542482, doi=None), Reference(scopus_id=84926052435, doi=None), Reference(scopus_id=36530772, doi=None), Reference(scopus_id=46149117525, doi=None), Reference(scopus_id=67349171026, doi=None), Reference(scopus_id=85085065815, doi=None), Reference(scopus_id=84884906840, doi=None), Reference(scopus_id=84880923608, doi=None), Reference(scopus_id=85014447578, doi=None), Reference(scopus_id=85063352955, doi=None), Reference(scopus_id=85075470940, doi=None), Reference(scopus_id=85076831583, doi=None), Reference(scopus_id=84993940961, doi=None), Reference(scopus_id=85086145380, doi=None), Reference(scopus_id=85058183529, doi=None), Reference(scopus_id=85073087851, doi=None), Reference(scopus_id=85029692908, doi=None), Reference(scopus_id=85096721517, doi=None), Reference(scopus_id=84871244398, doi=None), Reference(scopus_id=84876103407, doi=None), Reference(scopus_id=85070711412, doi=None), Reference(scopus_id=84974849269, doi=None), Reference(scopus_id=85089264504, doi=None), Reference(scopus_id=85034444025, doi=None), Reference(scopus_id=85096744186, doi=None), Reference(scopus_id=85060842235, doi=None), Reference(scopus_id=80051697788, doi=None), Reference(scopus_id=27201278, doi=None)}), pub_name='Swarm and Evolutionary Computation', pub_issn_print='22106502', pub_issn_electronic=None),\n",
       " PaperInfo(iter_depth=1, title='Ensemble meta-heuristics and Q-learning for solving unmanned surface vessels scheduling problems', authors='Gao, M.; Gao, K.; Ma, Z.; Tang, W.', year=2023, scopus_id=85165233345, doi='10.1016/j.swevo.2023.101358', eid='2-s2.0-85165233345', scopus_url='https://www.scopus.com/inward/record.uri?partnerID=HzOxMe3b&scp=85165233345&origin=inward', refs=frozenset({Reference(scopus_id=85063379969, doi='10.3233/978-1-61499-900-3-801'), Reference(scopus_id=85066439563, doi='10.3390/jmse7040104'), Reference(scopus_id=85122644877, doi='10.1016/j.asoc.2021.108371'), Reference(scopus_id=84869083536, doi='10.1016/j.arcontrol.2012.09.008'), Reference(scopus_id=85165233168, doi=None), Reference(scopus_id=85085590043, doi='10.3390/app10103538'), Reference(scopus_id=85077812252, doi='10.1109/TITS.2019.2892377'), Reference(scopus_id=85084990876, doi='10.1002/nav.21906'), Reference(scopus_id=85010876700, doi='10.1108/IR-04-2016-0127'), Reference(scopus_id=84903548318, doi=None), Reference(scopus_id=85061772961, doi=None), Reference(scopus_id=85111310502, doi='10.1007/s13344-021-0034-z'), Reference(scopus_id=85130370855, doi='10.1080/00207543.2022.2070786'), Reference(scopus_id=85142775083, doi='10.1109/TSMC.2022.3219380'), Reference(scopus_id=85053939627, doi='10.1016/j.ijleo.2018.09.104'), Reference(scopus_id=85129380788, doi='10.1109/TCYB.2022.3164165'), Reference(scopus_id=85115255733, doi='10.1049/cim2.12042'), Reference(scopus_id=85135241268, doi='10.1109/tii.2022.3192881'), Reference(scopus_id=85130851253, doi='10.1109/TETCI.2022.3174915'), Reference(scopus_id=20068152, doi='10.1007/BF00337288'), Reference(scopus_id=85092700600, doi='10.1109/JIOT.2020.2991578'), Reference(scopus_id=85127127480, doi='10.1080/00207543.2022.2031331'), Reference(scopus_id=85042233912, doi='10.1080/00207543.2018.1437288'), Reference(scopus_id=85133924544, doi='10.1007/s40747-019-00122-6'), Reference(scopus_id=85053808707, doi='10.1016/j.oceaneng.2018.09.016'), Reference(scopus_id=85141640387, doi='10.1109/TASE.2022.3212786'), Reference(scopus_id=85117278277, doi='10.1080/00207543.2021.1987550'), Reference(scopus_id=85047099588, doi='10.1016/j.oceaneng.2018.01.025'), Reference(scopus_id=85130351571, doi='10.1016/j.eswa.2022.117380'), Reference(scopus_id=85104630868, doi='10.26599/TST.2021.9010009'), Reference(scopus_id=85059323096, doi='10.1016/j.swevo.2018.08.015'), Reference(scopus_id=84992301659, doi='10.1016/j.arcontrol.2016.04.018'), Reference(scopus_id=85122395997, doi='10.1109/TITS.2020.3014296'), Reference(scopus_id=85137582306, doi='10.1109/TCYB.2022.3192112'), Reference(scopus_id=85165235302, doi='10.1007/978-3-030-87869-6_18'), Reference(scopus_id=85099378534, doi='10.1109/TASE.2019.2945717'), Reference(scopus_id=79955957608, doi='10.1016/j.trc.2009.12.006'), Reference(scopus_id=85086500203, doi='10.1016/j.swevo.2020.100719'), Reference(scopus_id=84864443755, doi=None), Reference(scopus_id=85067798381, doi='10.1109/JAS.2019.1911540'), Reference(scopus_id=85117246316, doi='10.1016/j.eswa.2021.115978'), Reference(scopus_id=85115340527, doi='10.1007/s10015-021-00695-x'), Reference(scopus_id=85124395120, doi='10.23919/CSMS.2021.0027'), Reference(scopus_id=85092234482, doi='10.1016/j.neucom.2020.09.031'), Reference(scopus_id=85141585139, doi='10.1109/TII.2022.3218645'), Reference(scopus_id=22674420, doi='10.1177/027836498600500106'), Reference(scopus_id=85077941880, doi='10.3390/s20020439'), Reference(scopus_id=85140588411, doi=None), Reference(scopus_id=85072981373, doi='10.1109/JAS.2019.1911732')}), pub_name='Swarm and Evolutionary Computation', pub_issn_print='22106502', pub_issn_electronic=None),\n",
       " PaperInfo(iter_depth=1, title='Estimate of winter-wheat above-ground biomass based on UAV ultrahigh-ground-resolution image textures and vegetation indices', authors='Yue, J.; Yang, G.; Tian, Q.; Feng, H.; Xu, K.; Zhou, C.', year=2019, scopus_id=85062338076, doi='10.1016/j.isprsjprs.2019.02.022', eid='2-s2.0-85062338076', scopus_url='https://www.scopus.com/inward/record.uri?partnerID=HzOxMe3b&scp=85062338076&origin=inward', refs=frozenset({Reference(scopus_id=85062334208, doi='10.5880/TR32DB.KGA94.7'), Reference(scopus_id=84912124929, doi='10.3390/rs61110395'), Reference(scopus_id=84904758274, doi='10.1016/j.jag.2014.05.006'), Reference(scopus_id=84919326472, doi='10.1890/13-1574.1'), Reference(scopus_id=85046662156, doi='10.1016/j.isprsjprs.2018.04.012'), Reference(scopus_id=84864028175, doi='10.1016/j.fcr.2012.06.017'), Reference(scopus_id=85012071184, doi='10.1016/j.isprsjprs.2017.02.001'), Reference(scopus_id=85062367763, doi=None), Reference(scopus_id=24165401, doi='10.1016/0034-4257(88)90106-X'), Reference(scopus_id=79958810139, doi='10.1127/1432-8364/2010/0047'), Reference(scopus_id=85035765532, doi='10.3389/fpls.2017.02002'), Reference(scopus_id=84990202914, doi='10.3390/agriculture6010004'), Reference(scopus_id=47049087271, doi='10.1016/j.compag.2008.03.009'), Reference(scopus_id=84930936368, doi='10.1016/j.compag.2014.10.011'), Reference(scopus_id=29110322, doi='10.13031/2013.27838'), Reference(scopus_id=84945901876, doi='10.3390/rs71013251'), Reference(scopus_id=85034756154, doi='10.3390/rs9111110'), Reference(scopus_id=17280570, doi='10.2307/2529336'), Reference(scopus_id=85026829373, doi='10.1104/pp.17.00707'), Reference(scopus_id=16544375361, doi='10.1016/j.jag.2004.01.001'), Reference(scopus_id=84892621633, doi='10.1127/1432-8364/2013/0200'), Reference(scopus_id=84962613569, doi='10.3390/rs8030230'), Reference(scopus_id=35478854, doi='10.1023/A:1010933404324'), Reference(scopus_id=85041478475, doi='10.1016/j.agrformet.2018.01.021'), Reference(scopus_id=85022320211, doi='10.3390/rs9070708'), Reference(scopus_id=85050500948, doi='10.3390/rs10071091'), Reference(scopus_id=32122198, doi='10.13031/2013.17244'), Reference(scopus_id=84940529751, doi='10.3390/rs70100808'), Reference(scopus_id=84904738647, doi='10.14358/PERS.80.8.785'), Reference(scopus_id=79952038910, doi='10.1109/TGRS.2010.2068574'), Reference(scopus_id=85021160283, doi='10.3390/rs9060516'), Reference(scopus_id=84864512878, doi='10.1016/j.jag.2012.03.012'), Reference(scopus_id=84907042674, doi='10.1016/j.isprsjprs.2014.07.008'), Reference(scopus_id=85042541939, doi='10.3390/rs10020246'), Reference(scopus_id=84941263991, doi='10.1016/j.isprsjprs.2015.08.002'), Reference(scopus_id=85011292282, doi='10.1007/s11119-017-9501-1'), Reference(scopus_id=84975755388, doi='10.1186/s13007-016-0134-6'), Reference(scopus_id=85026898300, doi='10.1016/j.rse.2017.07.038'), Reference(scopus_id=4544314243, doi='10.1016/j.rse.2004.06.008'), Reference(scopus_id=85061133701, doi='10.1186/s13007-019-0394-z'), Reference(scopus_id=71549125256, doi='10.1117/12.833587'), Reference(scopus_id=33045130, doi='10.1016/S0176-1617(99)80314-9'), Reference(scopus_id=84880101516, doi='10.1016/j.jag.2013.02.002'), Reference(scopus_id=85042533773, doi='10.3390/rs10020268'), Reference(scopus_id=84962670222, doi='10.3390/rs71215841'), Reference(scopus_id=84887537551, doi='10.3390/rs5105006'), Reference(scopus_id=85057093520, doi='10.1016/j.jag.2017.12.004'), Reference(scopus_id=77955054225, doi='10.1016/j.compag.2010.05.006'), Reference(scopus_id=4143063697, doi='10.1016/j.rse.2004.06.002'), Reference(scopus_id=84896285330, doi='10.1117/1.JRS.8.083671'), Reference(scopus_id=85043392661, doi='10.3389/fpls.2018.00237'), Reference(scopus_id=84860317335, doi='10.1016/j.rse.2012.01.003'), Reference(scopus_id=32183198, doi='10.1016/S0034-4257(98)00032-7'), Reference(scopus_id=2872223, doi=None), Reference(scopus_id=85050485150, doi='10.3390/rs10071138'), Reference(scopus_id=84939454114, doi='10.1016/j.jag.2015.02.012'), Reference(scopus_id=78650392229, doi='10.1111/j.1469-8137.2010.03536.x'), Reference(scopus_id=85022326693, doi='10.3390/rs9070642'), Reference(scopus_id=84888199590, doi='10.1016/j.fcr.2013.09.023'), Reference(scopus_id=85040652973, doi='10.3390/rs10010085'), Reference(scopus_id=84993661871, doi='10.1127/pfg/2016/0289'), Reference(scopus_id=84863103408, doi='10.1127/1432-8364/2012/0117'), Reference(scopus_id=84942540720, doi='10.3390/rs70911449'), Reference(scopus_id=85015379127, doi='10.1016/j.rse.2017.03.004'), Reference(scopus_id=84868704441, doi='10.2134/agronj2012.0065'), Reference(scopus_id=29751226, doi='10.1016/0034-4257(95)00186-7'), Reference(scopus_id=28431038, doi='10.1016/0034-4257(94)90134-1'), Reference(scopus_id=84893373886, doi='10.1016/j.isprsjprs.2014.01.001'), Reference(scopus_id=18465733, doi='10.1016/0034-4257(79)90013-0'), Reference(scopus_id=34333127, doi='10.1016/S0034-4257(00)00113-9'), Reference(scopus_id=50849142217, doi='10.1016/j.rse.2008.06.006'), Reference(scopus_id=24344496079, doi='10.1016/j.fcr.2004.12.002'), Reference(scopus_id=85020307153, doi='10.1016/j.rse.2017.06.007'), Reference(scopus_id=84929581266, doi='10.1016/j.rse.2015.04.032'), Reference(scopus_id=33646702801, doi='10.1080/01431160500486732'), Reference(scopus_id=84943519442, doi='10.1016/j.jag.2015.03.002'), Reference(scopus_id=85040688083, doi='10.3390/rs10010066'), Reference(scopus_id=84887593688, doi='10.1016/j.compag.2013.10.010'), Reference(scopus_id=85016073436, doi='10.1080/01431161.2017.1308034'), Reference(scopus_id=36215007, doi='10.1016/S0034-4257(01)00289-9'), Reference(scopus_id=85032189665, doi='10.1016/j.jag.2017.08.014'), Reference(scopus_id=15680481, doi='10.1109/TSMC.1973.4309314'), Reference(scopus_id=75949109989, doi=None), Reference(scopus_id=84946746346, doi='10.1016/j.agrformet.2015.10.013'), Reference(scopus_id=67650232810, doi='10.1016/j.rse.2008.01.026'), Reference(scopus_id=74049151983, doi='10.3964/j.issn.1000-0593(2010) 01-0192-05'), Reference(scopus_id=84937844470, doi='10.1016/j.jag.2015.01.009'), Reference(scopus_id=84885168887, doi='10.1127/1432-8364/2013/0182'), Reference(scopus_id=84891059193, doi='10.1016/j.fcr.2013.12.006'), Reference(scopus_id=10844247294, doi='10.1080/01431160412331291279'), Reference(scopus_id=84877928191, doi='10.1109/JSTARS.2013.2250921')}), pub_name='ISPRS Journal of Photogrammetry and Remote Sensing', pub_issn_print='09242716', pub_issn_electronic=None),\n",
       " PaperInfo(iter_depth=1, title='Estimating canopy water content using hyperspectral remote sensing data', authors='Clevers, J.G.P.W.; Kooistra, L.; Schaepman, M.E.', year=2010, scopus_id=77958488956, doi='10.1016/j.jag.2010.01.007', eid='2-s2.0-77958488956', scopus_url='https://www.scopus.com/inward/record.uri?partnerID=HzOxMe3b&scp=77958488956&origin=inward', refs=frozenset({Reference(scopus_id=37211652, doi=None), Reference(scopus_id=24856777, doi=None), Reference(scopus_id=38049090571, doi=None), Reference(scopus_id=3411597, doi=None), Reference(scopus_id=26614861, doi=None), Reference(scopus_id=37466385, doi=None), Reference(scopus_id=33746256147, doi=None), Reference(scopus_id=41249092628, doi=None), Reference(scopus_id=44949287707, doi=None), Reference(scopus_id=30152155, doi=None), Reference(scopus_id=64549146299, doi=None), Reference(scopus_id=33746357883, doi=None), Reference(scopus_id=40749086431, doi=None), Reference(scopus_id=32109024, doi=None), Reference(scopus_id=44149126947, doi=None), Reference(scopus_id=21644260, doi=None), Reference(scopus_id=34478693, doi=None), Reference(scopus_id=67650270441, doi=None), Reference(scopus_id=67650232810, doi=None), Reference(scopus_id=35148815020, doi=None), Reference(scopus_id=41449083053, doi=None), Reference(scopus_id=38049079596, doi=None), Reference(scopus_id=4544266860, doi=None), Reference(scopus_id=842284654, doi=None), Reference(scopus_id=24856758, doi=None), Reference(scopus_id=25591095, doi=None), Reference(scopus_id=711480, doi=None), Reference(scopus_id=35148899254, doi=None), Reference(scopus_id=42949164859, doi=None), Reference(scopus_id=67349100925, doi=None)}), pub_name='International Journal of Applied Earth Observation and Geoinformation', pub_issn_print='15698432', pub_issn_electronic='1872826X'),\n",
       " PaperInfo(iter_depth=1, title='Estimation of spring wheat chlorophyll content based on hyperspectral features and PLSR model', authors='Kasim, N.; Shi, Q.; Wang, J.; Sawut, R.; Nurmemet, I.; Isak, G.', year=2017, scopus_id=85043277645, doi='10.11975/j.issn.1002-6819.2017.22.027', eid='2-s2.0-85043277645', scopus_url='https://www.scopus.com/inward/record.uri?partnerID=HzOxMe3b&scp=85043277645&origin=inward', refs=frozenset({Reference(scopus_id=37149005956, doi=None), Reference(scopus_id=85029714821, doi=None), Reference(scopus_id=50549087111, doi=None), Reference(scopus_id=84865815690, doi=None), Reference(scopus_id=85029865868, doi=None), Reference(scopus_id=79959595276, doi=None), Reference(scopus_id=85017600398, doi=None), Reference(scopus_id=85043237777, doi=None), Reference(scopus_id=85017644565, doi=None), Reference(scopus_id=34247595039, doi=None), Reference(scopus_id=33847670560, doi=None), Reference(scopus_id=32344435873, doi=None), Reference(scopus_id=84904497701, doi=None), Reference(scopus_id=77950342828, doi=None), Reference(scopus_id=85043261229, doi=None), Reference(scopus_id=85043236654, doi=None), Reference(scopus_id=85043280443, doi=None), Reference(scopus_id=84930176322, doi=None), Reference(scopus_id=84946197956, doi=None), Reference(scopus_id=85043286086, doi=None), Reference(scopus_id=34333127, doi=None), Reference(scopus_id=65449138759, doi=None), Reference(scopus_id=85043237709, doi=None), Reference(scopus_id=28166734, doi=None), Reference(scopus_id=27644598352, doi=None), Reference(scopus_id=74049148114, doi=None), Reference(scopus_id=34248360662, doi=None), Reference(scopus_id=84903128662, doi=None), Reference(scopus_id=33230168, doi=None), Reference(scopus_id=85043276249, doi=None), Reference(scopus_id=77950565210, doi=None), Reference(scopus_id=85043246426, doi=None), Reference(scopus_id=3142708063, doi=None), Reference(scopus_id=3032927, doi=None), Reference(scopus_id=74049151983, doi=None), Reference(scopus_id=84994520432, doi=None), Reference(scopus_id=77954351858, doi=None), Reference(scopus_id=22924659, doi=None), Reference(scopus_id=85043288818, doi=None), Reference(scopus_id=33810292, doi=None), Reference(scopus_id=84869119731, doi=None), Reference(scopus_id=72149106171, doi=None), Reference(scopus_id=38349151613, doi=None), Reference(scopus_id=77950572926, doi=None)}), pub_name='Nongye Gongcheng Xuebao/Transactions of the Chinese Society of Agricultural Engineering', pub_issn_print='10026819', pub_issn_electronic=None),\n",
       " PaperInfo(iter_depth=1, title='Evaluating maize and soybean grain dry-down in the field with predictive algorithms and genotype-by-environment analysis', authors='Martinez-Feria, R.A.; Licht, M.A.; Ordonez, R.A.; Hatfield, J.L.; Coulter, J.A.; Archontoulis, S.V.', year=2019, scopus_id=85065651434, doi='10.1038/s41598-019-43653-1', eid='2-s2.0-85065651434', scopus_url='https://www.scopus.com/inward/record.uri?partnerID=HzOxMe3b&scp=85065651434&origin=inward', refs=frozenset({Reference(scopus_id=15944399872, doi=None), Reference(scopus_id=28119558, doi='10.2135/cropsci1994.0011183X003400020016x'), Reference(scopus_id=85023764487, doi=None), Reference(scopus_id=84859985425, doi='10.4141/cjps2011-071'), Reference(scopus_id=84890701085, doi='10.2134/agronj2012.0221'), Reference(scopus_id=80051785268, doi=None), Reference(scopus_id=30044434486, doi='10.1016/j.fcr.2005.03.001'), Reference(scopus_id=84919578680, doi='10.1007/s10681-014-1185-2'), Reference(scopus_id=83855161149, doi=None), Reference(scopus_id=342839872, doi=None), Reference(scopus_id=84861229121, doi='10.1007/s10681-012-0676-2'), Reference(scopus_id=58178, doi='10.1175/1520-0450(1967)006<0203:OTCOSV>2.0.CO;2'), Reference(scopus_id=661061, doi='10.2134/agronj1972.00021962006400060003x'), Reference(scopus_id=84864391242, doi='10.1016/j.biosystemseng.2012.06.006'), Reference(scopus_id=89165, doi='10.1002/j.1537-2197.1952.tb13069.x'), Reference(scopus_id=85010380114, doi='10.2135/cropsci2016.07.0611'), Reference(scopus_id=3135829, doi='10.13031/2013.39473'), Reference(scopus_id=85102997846, doi=None), Reference(scopus_id=1542320984, doi='10.1016/j.fcr.2003.08.002'), Reference(scopus_id=85065647450, doi=None), Reference(scopus_id=33846343258, doi='10.1016/j.biosystemseng.2006.10.015'), Reference(scopus_id=84901636188, doi=None), Reference(scopus_id=47749095777, doi=None), Reference(scopus_id=78249263204, doi='10.1016/j.biosystemseng.2010.09.008'), Reference(scopus_id=85065655142, doi=None), Reference(scopus_id=84902593897, doi=None), Reference(scopus_id=32805246, doi='10.2134/jpa1999.0300'), Reference(scopus_id=30477959, doi='10.2135/cropsci1996.0011183X003600050012x'), Reference(scopus_id=25721739, doi='10.1080/07373939108916697'), Reference(scopus_id=85065676172, doi=None), Reference(scopus_id=23144467085, doi='10.1016/j.postharvbio.2005.07.002'), Reference(scopus_id=84863304598, doi=None), Reference(scopus_id=84912069019, doi='10.1016/j.envsoft.2014.07.009'), Reference(scopus_id=85065649819, doi=None), Reference(scopus_id=699291, doi='10.4141/cjps75-032'), Reference(scopus_id=3843132579, doi='10.1007/BF00022936'), Reference(scopus_id=85065651626, doi=None), Reference(scopus_id=68149158571, doi=None), Reference(scopus_id=34247218608, doi='10.2135/cropsci2006.06.0381'), Reference(scopus_id=84920938162, doi=None), Reference(scopus_id=1842688691, doi='10.1016/j.fcr.2003.10.003'), Reference(scopus_id=84902596790, doi='10.1016/j.eja.2014.05.011'), Reference(scopus_id=85052860861, doi=None), Reference(scopus_id=33845893570, doi='10.1016/j.fcr.2006.09.001'), Reference(scopus_id=343274692, doi=None), Reference(scopus_id=33810629, doi=None), Reference(scopus_id=78650104518, doi='10.2135/cropsci2010.02.0098'), Reference(scopus_id=5037263, doi='10.2135/cropsci1988.0011183X002800040030x'), Reference(scopus_id=85065637585, doi=None), Reference(scopus_id=4208598, doi=None), Reference(scopus_id=232408, doi='10.2134/agronj1989.00021962008100020023x'), Reference(scopus_id=2018523, doi='10.1016/0378-4290(90)90097-U'), Reference(scopus_id=2431963, doi=None), Reference(scopus_id=28877790, doi='10.4141/cjps95-097'), Reference(scopus_id=85065668064, doi=None), Reference(scopus_id=85065666533, doi=None), Reference(scopus_id=31452646, doi='10.1016/S0168-1923(97)00027-0'), Reference(scopus_id=4275175, doi=None), Reference(scopus_id=77952302320, doi='10.2135/cropsci2008.08.0475'), Reference(scopus_id=85065650164, doi=None), Reference(scopus_id=1369334, doi='10.2134/agronj1979.00021962007100050016x'), Reference(scopus_id=3092472, doi='10.1016/0021-8634(85)90116-7'), Reference(scopus_id=11164155, doi=None), Reference(scopus_id=37232380, doi='10.1016/S1161-0301(02)00109-0'), Reference(scopus_id=84919635453, doi='10.1016/j.jspr.2014.10.006'), Reference(scopus_id=85065665534, doi=None)}), pub_name='Scientific Reports', pub_issn_print='20452322', pub_issn_electronic='20452322'),\n",
       " PaperInfo(iter_depth=1, title='Evaluation of MLSR and PLSR for estimating soil element contents using visible/near-infrared spectroscopy in apple orchards on the Jiaodong peninsula', authors='Yu, X.; Liu, Q.; Wang, Y.; Liu, X.; Liu, X.', year=2016, scopus_id=84944937193, doi='10.1016/j.catena.2015.09.024', eid='2-s2.0-84944937193', scopus_url='https://www.scopus.com/inward/record.uri?partnerID=HzOxMe3b&scp=84944937193&origin=inward', refs=frozenset({Reference(scopus_id=79955942528, doi=None), Reference(scopus_id=25444437638, doi=None), Reference(scopus_id=34447515148, doi=None), Reference(scopus_id=79954451216, doi=None), Reference(scopus_id=84861311632, doi=None), Reference(scopus_id=31177876, doi=None), Reference(scopus_id=84944885879, doi=None), Reference(scopus_id=37539992, doi=None), Reference(scopus_id=34548364314, doi=None), Reference(scopus_id=70449109916, doi=None), Reference(scopus_id=27644478749, doi=None), Reference(scopus_id=36249032479, doi=None), Reference(scopus_id=22928032, doi=None), Reference(scopus_id=36323232, doi=None), Reference(scopus_id=84892848287, doi=None), Reference(scopus_id=37281699, doi=None), Reference(scopus_id=46549088799, doi=None), Reference(scopus_id=70350188198, doi=None), Reference(scopus_id=84867239209, doi=None), Reference(scopus_id=36240171, doi=None), Reference(scopus_id=27794348, doi=None), Reference(scopus_id=2175152, doi=None), Reference(scopus_id=38240689, doi=None), Reference(scopus_id=43049161776, doi=None), Reference(scopus_id=77955050161, doi=None), Reference(scopus_id=1867060, doi=None), Reference(scopus_id=73549098162, doi=None), Reference(scopus_id=1465526, doi=None), Reference(scopus_id=12944295095, doi=None), Reference(scopus_id=31988537, doi=None), Reference(scopus_id=11144325691, doi=None), Reference(scopus_id=3843077567, doi=None), Reference(scopus_id=37139270, doi=None), Reference(scopus_id=43649091529, doi=None), Reference(scopus_id=34397003, doi=None), Reference(scopus_id=43749098700, doi=None), Reference(scopus_id=3890128, doi=None), Reference(scopus_id=30444440016, doi=None), Reference(scopus_id=36185938, doi=None), Reference(scopus_id=18032338, doi=None), Reference(scopus_id=14644407124, doi=None), Reference(scopus_id=31944445266, doi=None), Reference(scopus_id=49549111126, doi=None), Reference(scopus_id=77954634711, doi=None), Reference(scopus_id=36119262, doi=None), Reference(scopus_id=35042039, doi=None), Reference(scopus_id=84860491000, doi=None), Reference(scopus_id=85031880316, doi=None)}), pub_name='Catena', pub_issn_print='03418162', pub_issn_electronic=None),\n",
       " PaperInfo(iter_depth=1, title='Evaluation of a handheld near-infrared spectroscopy sensor for rapid corn kernel moisture estimation', authors='Agyei, B.; Andresen, J.; Singh, M.P.', year=2023, scopus_id=85168685674, doi='10.1002/cft2.20235', eid='2-s2.0-85168685674', scopus_url='https://www.scopus.com/inward/record.uri?partnerID=HzOxMe3b&scp=85168685674&origin=inward', refs=frozenset({Reference(scopus_id=33644852897, doi=None), Reference(scopus_id=85143297827, doi=None), Reference(scopus_id=85100649129, doi=None), Reference(scopus_id=85065651434, doi=None), Reference(scopus_id=85023754733, doi=None), Reference(scopus_id=85092703701, doi=None), Reference(scopus_id=84943645306, doi=None), Reference(scopus_id=84893856027, doi=None)}), pub_name='Crop, Forage and Turfgrass Management', pub_issn_print='23743832', pub_issn_electronic='23743832'),\n",
       " PaperInfo(iter_depth=1, title='Flexible Job Shop Scheduling Based on Deep Reinforcement Learning', authors='Feng, Y.; Zhang, L.; Yang, Z.; Guo, Y.; Yang, D.', year=2021, scopus_id=85127667088, doi='10.1109/ACAIT53529.2021.9731322', eid='2-s2.0-85127667088', scopus_url='https://www.scopus.com/inward/record.uri?partnerID=HzOxMe3b&scp=85127667088&origin=inward', refs=frozenset({Reference(scopus_id=85065248867, doi=None), Reference(scopus_id=84904867557, doi=None), Reference(scopus_id=84870248520, doi=None), Reference(scopus_id=85019570506, doi=None), Reference(scopus_id=85074641258, doi=None), Reference(scopus_id=85041194636, doi=None), Reference(scopus_id=85008420154, doi=None), Reference(scopus_id=16952078, doi=None), Reference(scopus_id=4102479, doi=None), Reference(scopus_id=85047493844, doi=None), Reference(scopus_id=34249973653, doi=None), Reference(scopus_id=84971448181, doi=None), Reference(scopus_id=85040968954, doi=None), Reference(scopus_id=84975322654, doi=None)}), pub_name='Proceedings of 2021 5th Asian Conference on Artificial Intelligence Technology, ACAIT 2021', pub_issn_print=None, pub_issn_electronic=None),\n",
       " PaperInfo(iter_depth=1, title='Flexible Job-Shop Scheduling via Graph Neural Network and Deep Reinforcement Learning', authors='Song, W.; Chen, X.; Li, Q.; Cao, Z.', year=2023, scopus_id=85134304558, doi='10.1109/TII.2022.3189725', eid='2-s2.0-85134304558', scopus_url='https://www.scopus.com/inward/record.uri?partnerID=HzOxMe3b&scp=85134304558&origin=inward', refs=frozenset({Reference(scopus_id=85108304642, doi=None), Reference(scopus_id=85114468100, doi=None), Reference(scopus_id=85089384328, doi=None), Reference(scopus_id=85041194636, doi=None), Reference(scopus_id=85099120656, doi=None), Reference(scopus_id=85104202390, doi=None), Reference(scopus_id=62615, doi=None), Reference(scopus_id=85108394264, doi=None), Reference(scopus_id=84995610393, doi=None), Reference(scopus_id=85102851103, doi=None), Reference(scopus_id=85108007715, doi=None), Reference(scopus_id=46649092773, doi=None), Reference(scopus_id=85048890789, doi=None), Reference(scopus_id=75449102375, doi=None), Reference(scopus_id=85078409896, doi=None), Reference(scopus_id=34250084648, doi=None), Reference(scopus_id=84885701930, doi=None), Reference(scopus_id=84894582828, doi=None), Reference(scopus_id=85090364721, doi=None), Reference(scopus_id=85086569906, doi=None), Reference(scopus_id=85099506044, doi=None), Reference(scopus_id=85030712380, doi=None), Reference(scopus_id=85077250493, doi=None), Reference(scopus_id=85068618692, doi=None), Reference(scopus_id=85038368581, doi=None), Reference(scopus_id=85083953221, doi=None), Reference(scopus_id=85131764809, doi=None), Reference(scopus_id=85028015443, doi=None), Reference(scopus_id=84869506515, doi=None), Reference(scopus_id=85078950612, doi=None), Reference(scopus_id=85123364951, doi=None), Reference(scopus_id=85100256602, doi=None), Reference(scopus_id=85118660219, doi='10.1109/TETCI.2021.3098354'), Reference(scopus_id=85124380510, doi=None), Reference(scopus_id=84992555104, doi=None), Reference(scopus_id=85086564192, doi=None), Reference(scopus_id=84944711266, doi=None), Reference(scopus_id=85075753825, doi=None), Reference(scopus_id=84949058020, doi=None), Reference(scopus_id=25416939, doi=None), Reference(scopus_id=85067798381, doi=None), Reference(scopus_id=85111865070, doi=None), Reference(scopus_id=85083951347, doi=None), Reference(scopus_id=85108393338, doi=None), Reference(scopus_id=85084170875, doi=None), Reference(scopus_id=85044223996, doi=None)}), pub_name='IEEE Transactions on Industrial Informatics', pub_issn_print='15513203', pub_issn_electronic='19410050'),\n",
       " PaperInfo(iter_depth=1, title='Flexible job shop scheduling problem with parallel batch processing machine', authors='Ham, A.', year=2016, scopus_id=85014274675, doi='10.1109/WSC.2016.7822311', eid='2-s2.0-85014274675', scopus_url='https://www.scopus.com/inward/record.uri?partnerID=HzOxMe3b&scp=85014274675&origin=inward', refs=frozenset({Reference(scopus_id=35546051, doi=None), Reference(scopus_id=28744434503, doi=None), Reference(scopus_id=19944366600, doi=None), Reference(scopus_id=84870248520, doi=None), Reference(scopus_id=84947021837, doi=None), Reference(scopus_id=33747682830, doi=None), Reference(scopus_id=79951579853, doi=None), Reference(scopus_id=34547651088, doi=None), Reference(scopus_id=77955559888, doi=None), Reference(scopus_id=35836306, doi=None), Reference(scopus_id=67349174559, doi=None), Reference(scopus_id=79953808353, doi=None), Reference(scopus_id=36642595, doi=None), Reference(scopus_id=79960114596, doi=None), Reference(scopus_id=84963635556, doi=None), Reference(scopus_id=32690982, doi=None), Reference(scopus_id=35556903, doi=None), Reference(scopus_id=75449102375, doi=None), Reference(scopus_id=84874700777, doi=None), Reference(scopus_id=84905864172, doi=None), Reference(scopus_id=84861375533, doi=None), Reference(scopus_id=70349115054, doi=None), Reference(scopus_id=23344453490, doi=None), Reference(scopus_id=40649103731, doi=None), Reference(scopus_id=81555213556, doi=None), Reference(scopus_id=77950629301, doi=None), Reference(scopus_id=1258678, doi=None), Reference(scopus_id=33751413051, doi=None), Reference(scopus_id=33847755451, doi=None), Reference(scopus_id=61449237375, doi=None)}), pub_name='Proceedings - Winter Simulation Conference', pub_issn_print='08917736', pub_issn_electronic=None),\n",
       " PaperInfo(iter_depth=1, title='Flexible job-shop rescheduling for new job insertion by using discrete Jaya algorithm', authors='Gao, K.; Yang, F.; Zhou, M.; Pan, Q.; Suganthan, P.N.', year=2019, scopus_id=85059046766, doi='10.1109/TCYB.2018.2817240', eid='2-s2.0-85059046766', scopus_url='https://www.scopus.com/inward/record.uri?partnerID=HzOxMe3b&scp=85059046766&origin=inward', refs=frozenset({Reference(scopus_id=84894900480, doi=None), Reference(scopus_id=85014816256, doi=None), Reference(scopus_id=84948614402, doi=None), Reference(scopus_id=85015153928, doi=None), Reference(scopus_id=34548108555, doi=None), Reference(scopus_id=84938966156, doi=None), Reference(scopus_id=16952078, doi=None), Reference(scopus_id=85003480975, doi=None), Reference(scopus_id=84979034897, doi=None), Reference(scopus_id=84880241938, doi=None), Reference(scopus_id=84983740951, doi=None), Reference(scopus_id=36464279, doi=None), Reference(scopus_id=84940054935, doi=None), Reference(scopus_id=85014639386, doi=None), Reference(scopus_id=84859183899, doi=None), Reference(scopus_id=84869492892, doi=None), Reference(scopus_id=85016250528, doi=None), Reference(scopus_id=67649985185, doi=None), Reference(scopus_id=84979072417, doi=None), Reference(scopus_id=85011599277, doi=None), Reference(scopus_id=85027721650, doi=None), Reference(scopus_id=84933564986, doi=None), Reference(scopus_id=38749142590, doi=None), Reference(scopus_id=84964758719, doi=None), Reference(scopus_id=85027948607, doi=None), Reference(scopus_id=84964904131, doi=None), Reference(scopus_id=33102020, doi=None), Reference(scopus_id=25531716, doi=None), Reference(scopus_id=84963620814, doi=None), Reference(scopus_id=84880239697, doi=None), Reference(scopus_id=84962108499, doi=None), Reference(scopus_id=27908820, doi=None), Reference(scopus_id=36530772, doi=None), Reference(scopus_id=84962828758, doi=None), Reference(scopus_id=40249118429, doi=None), Reference(scopus_id=85019027946, doi=None), Reference(scopus_id=85002142061, doi=None), Reference(scopus_id=85010058353, doi=None), Reference(scopus_id=33738099, doi=None), Reference(scopus_id=85027923444, doi=None), Reference(scopus_id=85019555832, doi=None), Reference(scopus_id=84960434942, doi=None), Reference(scopus_id=84944088831, doi=None)}), pub_name='IEEE Transactions on Cybernetics', pub_issn_print='21682267', pub_issn_electronic=None),\n",
       " PaperInfo(iter_depth=1, title='Heuristics for a two-stage assembly flowshop with bicriteria of maximum lateness and makespan', authors='Al-Anzi, F.S.; Allahverdi, A.', year=2009, scopus_id=60349093593, doi='10.1016/j.cor.2008.11.018', eid='2-s2.0-60349093593', scopus_url='https://www.scopus.com/inward/record.uri?partnerID=HzOxMe3b&scp=60349093593&origin=inward', refs=frozenset({Reference(scopus_id=655488, doi=None), Reference(scopus_id=27144557504, doi=None), Reference(scopus_id=33114757, doi=None), Reference(scopus_id=3075019, doi=None), Reference(scopus_id=84969452363, doi=None), Reference(scopus_id=84969452433, doi=None), Reference(scopus_id=84901463314, doi=None), Reference(scopus_id=40449119057, doi=None), Reference(scopus_id=41749111378, doi=None), Reference(scopus_id=34147159638, doi=None), Reference(scopus_id=27588823, doi=None), Reference(scopus_id=11861529, doi=None), Reference(scopus_id=33646834457, doi=None), Reference(scopus_id=37402009, doi=None), Reference(scopus_id=36849082395, doi=None), Reference(scopus_id=33749548509, doi=None), Reference(scopus_id=84969446242, doi=None), Reference(scopus_id=31351397, doi=None), Reference(scopus_id=40449084200, doi=None), Reference(scopus_id=43249106280, doi=None), Reference(scopus_id=40449129709, doi=None), Reference(scopus_id=27590319, doi=None), Reference(scopus_id=28244447023, doi=None), Reference(scopus_id=84969451571, doi=None), Reference(scopus_id=84969447092, doi=None), Reference(scopus_id=84901400179, doi=None), Reference(scopus_id=84969451575, doi=None), Reference(scopus_id=37058296, doi=None), Reference(scopus_id=38281789, doi=None)}), pub_name='Computers and Operations Research', pub_issn_print='03050548', pub_issn_electronic=None),\n",
       " PaperInfo(iter_depth=1, title='Hierarchical Reinforcement Learning for Multi-Objective Real-Time Flexible Scheduling in a Smart Shop Floor', authors='Chang, J.; Yu, D.; Zhou, Z.; He, W.; Zhang, L.', year=2022, scopus_id=85144906511, doi='10.3390/machines10121195', eid='2-s2.0-85144906511', scopus_url='https://www.scopus.com/inward/record.uri?partnerID=HzOxMe3b&scp=85144906511&origin=inward', refs=frozenset({Reference(scopus_id=85103984897, doi='10.1016/j.jmsy.2021.03.017'), Reference(scopus_id=85068485505, doi='10.1016/j.procir.2019.03.041'), Reference(scopus_id=85103803011, doi='10.1049/iet-cim.2019.0056'), Reference(scopus_id=85113225731, doi='10.1002/jeab.587'), Reference(scopus_id=85090158213, doi='10.1609/aaai.v33i01.330110009'), Reference(scopus_id=84984788741, doi='10.1609/aaai.v30i1.10295'), Reference(scopus_id=85058408713, doi='10.48550/arXiv.1805.08296'), Reference(scopus_id=85144853132, doi=None), Reference(scopus_id=85117944205, doi='10.1007/s11390-021-1217-z'), Reference(scopus_id=16952078, doi='10.1287/moor.1.2.117'), Reference(scopus_id=85144846223, doi=None), Reference(scopus_id=85015707925, doi='10.1007/s00170-017-0233-1'), Reference(scopus_id=85144857366, doi=None), Reference(scopus_id=84918834208, doi=None), Reference(scopus_id=85100179489, doi='10.3390/s21031019'), Reference(scopus_id=85072854178, doi=None), Reference(scopus_id=85144860195, doi=None), Reference(scopus_id=85044306727, doi='10.1016/j.ifacol.2017.08.2354'), Reference(scopus_id=85007167143, doi=None), Reference(scopus_id=85019975083, doi='10.1016/j.cie.2017.05.026'), Reference(scopus_id=34199979, doi='10.1162/106365600568202'), Reference(scopus_id=85144897453, doi='10.13462/j.cnki.mmtamt.2019.07.035'), Reference(scopus_id=85015917760, doi='10.1007/s00170-017-0300-7'), Reference(scopus_id=33318858, doi='10.1109/4235.797969'), Reference(scopus_id=84951069388, doi='10.1016/j.compind.2015.10.001'), Reference(scopus_id=85112695628, doi=None), Reference(scopus_id=4102479, doi=None), Reference(scopus_id=36530772, doi='10.1109/4235.996017'), Reference(scopus_id=85123364951, doi='10.1016/j.cie.2021.107489'), Reference(scopus_id=85133566424, doi='10.1109/LRA.2022.3184795'), Reference(scopus_id=85081140568, doi='10.1016/j.asoc.2020.106208'), Reference(scopus_id=85144862296, doi=None), Reference(scopus_id=85144834011, doi=None), Reference(scopus_id=85100970590, doi='10.13196/j.cims.2021.01.018'), Reference(scopus_id=85048669155, doi='10.1007/s10845-018-1430-y'), Reference(scopus_id=85030779624, doi='10.1109/TII.2017.2759178'), Reference(scopus_id=3054955, doi='10.1287/opre.25.1.45'), Reference(scopus_id=85097654124, doi=None), Reference(scopus_id=85059046766, doi='10.1109/TCYB.2018.2817240'), Reference(scopus_id=85031682422, doi=None), Reference(scopus_id=85129158135, doi='10.3390/pr10040760'), Reference(scopus_id=85030748790, doi=None), Reference(scopus_id=85088844794, doi='10.1080/00207543.2020.1794075')}), pub_name='Machines', pub_issn_print='20751702', pub_issn_electronic='20751702'),\n",
       " PaperInfo(iter_depth=1, title='High-Throughput Approaches for Phenotyping Alfalfa Germplasm under Abiotic Stress in the Field', authors='Cazenave, A.-B.; Shah, K.; Trammell, T.; Komp, M.; Hoffman, J.; Motes, C.M.; Monteros, M.J.', year=2019, scopus_id=85086995682, doi='10.2135/tppj2019.03.0005', eid='2-s2.0-85086995682', scopus_url='https://www.scopus.com/inward/record.uri?partnerID=HzOxMe3b&scp=85086995682&origin=inward', refs=frozenset({Reference(scopus_id=84984653696, doi='10.3389/fpls.2016.01131'), Reference(scopus_id=85118277509, doi=None), Reference(scopus_id=85062052104, doi='10.2134/agronmonogr29.c2'), Reference(scopus_id=84959017611, doi='10.2135/cropsci2015.05.0274'), Reference(scopus_id=85006255885, doi='10.1071/FP16165'), Reference(scopus_id=85006253072, doi='10.1071/FP16163'), Reference(scopus_id=84899742353, doi='10.1146/annurev-arplant-050213-035949'), Reference(scopus_id=84923536786, doi='10.1016/j.pbi.2015.02.006'), Reference(scopus_id=85029841429, doi=None), Reference(scopus_id=84863304598, doi=None), Reference(scopus_id=85118262808, doi='10.2134/2011.alfalfamanagementguide.c1'), Reference(scopus_id=85118248473, doi=None), Reference(scopus_id=2872223, doi=None), Reference(scopus_id=4263332, doi=None), Reference(scopus_id=79951578277, doi='10.1016/j.fcr.2010.12.017'), Reference(scopus_id=84860329380, doi='10.1016/j.fcr.2012.04.003'), Reference(scopus_id=85118267178, doi=None), Reference(scopus_id=85045411759, doi='10.1016/j.fcr.2018.01.017'), Reference(scopus_id=141602488, doi='10.2135/cropsci1997.0011183X003700010063x'), Reference(scopus_id=17844389049, doi=None), Reference(scopus_id=83055180602, doi='10.1016/j.tplants.2011.09.005'), Reference(scopus_id=37341752, doi='10.1046/j.1469-8137.2003.00695.x'), Reference(scopus_id=85046434109, doi='10.1007/s12155-018-9911-6'), Reference(scopus_id=85046159807, doi='10.1016/j.biombioe.2018.04.016'), Reference(scopus_id=77952227648, doi='10.1007/978-1-4020-8435-5'), Reference(scopus_id=18465733, doi='10.1016/0034-4257(79)90013-0'), Reference(scopus_id=84992416072, doi='10.3390/plants4020334'), Reference(scopus_id=80051931977, doi=None), Reference(scopus_id=77950021449, doi='10.1017/S1479262109990062'), Reference(scopus_id=30880972, doi='10.1126/science.277.5329.1063'), Reference(scopus_id=85057867597, doi='10.2135/cropsci1989.0011183X002900030071x'), Reference(scopus_id=28873166, doi='10.2135/cropsci1995.0011183X003500040042x'), Reference(scopus_id=85007432911, doi='10.3389/fpls.2016.01808'), Reference(scopus_id=85014933070, doi='10.3733/ca.2017a0002'), Reference(scopus_id=85011657677, doi='10.3389/fenvs.2015.00046'), Reference(scopus_id=84930858363, doi='10.3133/ofr20141082'), Reference(scopus_id=84942102612, doi='10.1016/j.compag.2015.09.005'), Reference(scopus_id=84911070934, doi='10.1071/CP14055'), Reference(scopus_id=84055178582, doi='10.1073/pnas.1116437108'), Reference(scopus_id=84939543001, doi='10.1016/j.eja.2015.07.004'), Reference(scopus_id=84908509157, doi='10.3390/agronomy4030349'), Reference(scopus_id=3943111015, doi='10.1079/PGR200430'), Reference(scopus_id=35706091, doi='10.1023/A:1013351617532'), Reference(scopus_id=84922032621, doi='10.3390/s150202920'), Reference(scopus_id=85118251899, doi=None)}), pub_name='Plant Phenome Journal', pub_issn_print='25782703', pub_issn_electronic='25782703'),\n",
       " PaperInfo(iter_depth=1, title='Hybrid collaborative multi-objective fruit fly optimization algorithm for scheduling workflow in cloud environment', authors='Qin, S.; Pi, D.; Shao, Z.; Xu, Y.', year=2022, scopus_id=85119917636, doi='10.1016/j.swevo.2021.101008', eid='2-s2.0-85119917636', scopus_url='https://www.scopus.com/inward/record.uri?partnerID=HzOxMe3b&scp=85119917636&origin=inward', refs=frozenset({Reference(scopus_id=85056341635, doi='10.1016/j.future.2018.10.046'), Reference(scopus_id=85084696069, doi='10.1109/TCYB.2019.2933499'), Reference(scopus_id=85078461829, doi='10.1016/j.engappai.2020.103501'), Reference(scopus_id=85056664839, doi='10.1016/j.swevo.2018.11.001'), Reference(scopus_id=85027579403, doi='10.1109/TCC.2015.2404821'), Reference(scopus_id=84155181068, doi='10.1016/j.knosys.2011.07.001'), Reference(scopus_id=85041416715, doi=None), Reference(scopus_id=84979034897, doi='10.1109/TCYB.2016.2574766'), Reference(scopus_id=85064241175, doi='10.1109/ACCESS.2019.2902846'), Reference(scopus_id=85070681112, doi='10.1016/j.future.2019.08.012'), Reference(scopus_id=85099560860, doi=None), Reference(scopus_id=33846286493, doi=None), Reference(scopus_id=85096879902, doi=None), Reference(scopus_id=85057388833, doi=None), Reference(scopus_id=85020422818, doi='10.1016/j.swevo.2017.06.001'), Reference(scopus_id=85096486052, doi='10.1007/s10586-020-03208-w'), Reference(scopus_id=85061376933, doi=None), Reference(scopus_id=3486756, doi=None), Reference(scopus_id=85045539499, doi='10.1109/TSMC.2016.2616347'), Reference(scopus_id=85144242607, doi=None), Reference(scopus_id=85013053105, doi='10.1109/TPDS.2016.2597826'), Reference(scopus_id=85085499954, doi='10.1016/j.asoc.2020.106411'), Reference(scopus_id=85041455416, doi=None), Reference(scopus_id=84929191740, doi='10.1109/TASE.2015.2425404'), Reference(scopus_id=58649085246, doi='10.1109/TSMCC.2008.2001722'), Reference(scopus_id=84989855552, doi='10.1016/j.ins.2016.09.026'), Reference(scopus_id=32348480, doi=None), Reference(scopus_id=84893875264, doi=None), Reference(scopus_id=84982854598, doi='10.1016/j.cor.2016.07.002'), Reference(scopus_id=33318858, doi=None), Reference(scopus_id=36530772, doi=None), Reference(scopus_id=85054409561, doi='10.1109/TNSM.2018.2872066'), Reference(scopus_id=36504666, doi='10.1109/71.993206'), Reference(scopus_id=85030768476, doi=None), Reference(scopus_id=84863504478, doi='10.1109/TPDS.2011.303'), Reference(scopus_id=85076831583, doi='10.1016/j.eswa.2019.113147'), Reference(scopus_id=61549090527, doi=None), Reference(scopus_id=85049309028, doi='10.1109/TPDS.2018.2849396'), Reference(scopus_id=85045563109, doi='10.1016/j.future.2018.03.055'), Reference(scopus_id=84963819494, doi='10.1109/TPDS.2015.2446459'), Reference(scopus_id=84961215464, doi=None), Reference(scopus_id=85078466282, doi=None), Reference(scopus_id=84963612015, doi=None), Reference(scopus_id=85084364783, doi=None), Reference(scopus_id=84901611759, doi='10.1007/s10586-013-0325-0'), Reference(scopus_id=85056612210, doi=None), Reference(scopus_id=85088110327, doi=None), Reference(scopus_id=85047195901, doi='10.1109/TCYB.2018.2832640'), Reference(scopus_id=85038356351, doi=None)}), pub_name='Swarm and Evolutionary Computation', pub_issn_print='22106502', pub_issn_electronic=None),\n",
       " PaperInfo(iter_depth=1, title='Improved MOEA/D with local search for solving multi-stage distributed reentrant hybrid flow shop scheduling problem', authors='Wu, X.; Xie, Z.', year=2023, scopus_id=85162962709, doi='10.1016/j.eswa.2023.120893', eid='2-s2.0-85162962709', scopus_url='https://www.scopus.com/inward/record.uri?partnerID=HzOxMe3b&scp=85162962709&origin=inward', refs=frozenset({Reference(scopus_id=85089189893, doi='10.1016/j.swevo.2020.100745'), Reference(scopus_id=85079406854, doi='10.1016/j.engappai.2020.103540'), Reference(scopus_id=85087520136, doi='10.1016/j.cie.2020.106638'), Reference(scopus_id=85079033353, doi='10.1016/j.cie.2020.106320'), Reference(scopus_id=34548108555, doi='10.1109/TEVC.2007.892759'), Reference(scopus_id=85079324174, doi='10.1016/j.cie.2020.106347'), Reference(scopus_id=20699921, doi='10.1016/0305-0483(83)90088-9'), Reference(scopus_id=85090940182, doi='10.1016/j.asoc.2020.106629'), Reference(scopus_id=84956618653, doi='10.1007/s00170-015-7395-5'), Reference(scopus_id=85076543901, doi='10.1016/j.ejor.2019.11.016'), Reference(scopus_id=85018385184, doi='10.1016/j.swevo.2017.04.007'), Reference(scopus_id=84949810338, doi='10.1080/00207543.2015.1120900'), Reference(scopus_id=21144477219, doi=None), Reference(scopus_id=30241443, doi='10.1016/0360-8352(96)00053-8'), Reference(scopus_id=2991782, doi=None), Reference(scopus_id=85162970535, doi='10.13140/RG.2.2.17417.85607'), Reference(scopus_id=85063770551, doi='10.1016/j.cor.2019.04.002'), Reference(scopus_id=85096703546, doi='10.1016/j.swevo.2020.100803'), Reference(scopus_id=84906782911, doi='10.1080/00207543.2014.910627'), Reference(scopus_id=84980390464, doi='10.1007/s10845-014-0890-y'), Reference(scopus_id=85088130497, doi='10.1016/j.eswa.2020.113678'), Reference(scopus_id=85044293828, doi='10.1016/j.omega.2018.03.004'), Reference(scopus_id=85029502418, doi='10.1016/j.asoc.2017.08.037'), Reference(scopus_id=85105880915, doi='10.23919/JSEE.2021.000024'), Reference(scopus_id=85038884946, doi='10.1016/j.jclepro.2017.10.342'), Reference(scopus_id=85073813843, doi='10.1016/j.ejor.2019.09.036'), Reference(scopus_id=85059845462, doi='10.1016/j.ins.2019.01.023'), Reference(scopus_id=23995996, doi='10.1057/jors.1988.63'), Reference(scopus_id=85162973154, doi='10.1109/TEVC.810761'), Reference(scopus_id=85104052834, doi='10.1109/TASE.2020.2969469'), Reference(scopus_id=85073087851, doi='10.1016/j.knosys.2019.104894'), Reference(scopus_id=85013175279, doi='10.1016/j.cie.2017.02.010'), Reference(scopus_id=85089264504, doi='10.1016/j.swevo.2020.100747'), Reference(scopus_id=85161969782, doi='10.1016/j.cie.2019.106154'), Reference(scopus_id=85088651256, doi='10.1016/j.eswa.2020.113721'), Reference(scopus_id=85021236729, doi='10.1016/j.cie.2017.06.025'), Reference(scopus_id=85036639482, doi='10.1080/00207543.2017.1408971'), Reference(scopus_id=85026361211, doi='10.1016/j.cie.2017.07.020'), Reference(scopus_id=70349104508, doi='10.1145/1527125.1527138'), Reference(scopus_id=84949561215, doi='10.1016/j.asoc.2015.11.034')}), pub_name='Expert Systems with Applications', pub_issn_print='09574174', pub_issn_electronic=None),\n",
       " PaperInfo(iter_depth=1, title='Improved meta-heuristics with Q-learning for solving distributed assembly permutation flowshop scheduling problems', authors='Yu, H.; Gao, K.-Z.; Ma, Z.-F.; Pan, Y.-X.', year=2023, scopus_id=85159155552, doi='10.1016/j.swevo.2023.101335', eid='2-s2.0-85159155552', scopus_url='https://www.scopus.com/inward/record.uri?partnerID=HzOxMe3b&scp=85159155552&origin=inward', refs=frozenset({Reference(scopus_id=85019032193, doi=None), Reference(scopus_id=85059308547, doi=None), Reference(scopus_id=85089189893, doi=None), Reference(scopus_id=85032349573, doi=None), Reference(scopus_id=84940703097, doi=None), Reference(scopus_id=85122288138, doi=None), Reference(scopus_id=85119257867, doi=None), Reference(scopus_id=85113782541, doi=None), Reference(scopus_id=85115662352, doi=None), Reference(scopus_id=85022007568, doi=None), Reference(scopus_id=85113293203, doi='10.1109/TCYB.2021.3086181'), Reference(scopus_id=85040939028, doi=None), Reference(scopus_id=84940054935, doi=None), Reference(scopus_id=84942784536, doi=None), Reference(scopus_id=85105000855, doi=None), Reference(scopus_id=85098467106, doi=None), Reference(scopus_id=85138051877, doi=None), Reference(scopus_id=85118324006, doi=None), Reference(scopus_id=34325416, doi=None), Reference(scopus_id=85148067752, doi=None), Reference(scopus_id=85096878891, doi=None), Reference(scopus_id=85142775083, doi='10.1109/TSMC.2022.3219380'), Reference(scopus_id=85066087086, doi=None), Reference(scopus_id=85049099952, doi=None), Reference(scopus_id=85093664944, doi=None), Reference(scopus_id=85090364721, doi=None), Reference(scopus_id=85084290612, doi=None), Reference(scopus_id=85129380788, doi='10.1109/TCYB.2022.3164165'), Reference(scopus_id=84945555255, doi=None), Reference(scopus_id=85095797945, doi=None), Reference(scopus_id=37971131, doi=None), Reference(scopus_id=85149382588, doi='10.1109/TSMC.2023.3239953'), Reference(scopus_id=85130478396, doi='10.1109/TEVC.2022.3175832'), Reference(scopus_id=84965071551, doi=None), Reference(scopus_id=85081759167, doi=None), Reference(scopus_id=10844274625, doi=None), Reference(scopus_id=85133924544, doi=None), Reference(scopus_id=85134622418, doi=None), Reference(scopus_id=85130351571, doi=None), Reference(scopus_id=85104630868, doi=None), Reference(scopus_id=85146430423, doi=None), Reference(scopus_id=84884906840, doi=None), Reference(scopus_id=85124754265, doi=None), Reference(scopus_id=85122395997, doi=None), Reference(scopus_id=85133733729, doi='10.1109/TASE.2022.3178126'), Reference(scopus_id=85137582306, doi='10.1109/TCYB.2022.3192112'), Reference(scopus_id=85125716963, doi='10.1109/TASE.2022.3151648'), Reference(scopus_id=85139818978, doi='10.1109/TEM.2022.3208431'), Reference(scopus_id=85021835881, doi=None), Reference(scopus_id=85124219882, doi=None), Reference(scopus_id=85086500203, doi=None), Reference(scopus_id=84969802860, doi=None), Reference(scopus_id=85117246316, doi=None), Reference(scopus_id=85119338606, doi=None), Reference(scopus_id=85059046766, doi=None), Reference(scopus_id=85067798381, doi=None), Reference(scopus_id=85137268458, doi=None), Reference(scopus_id=85138455028, doi=None), Reference(scopus_id=85045765749, doi=None), Reference(scopus_id=85135509239, doi=None), Reference(scopus_id=84878547961, doi=None), Reference(scopus_id=85088844794, doi=None), Reference(scopus_id=85096362877, doi=None)}), pub_name='Swarm and Evolutionary Computation', pub_issn_print='22106502', pub_issn_electronic=None),\n",
       " PaperInfo(iter_depth=1, title='Improved simulated annealing algorithm for flexible job shop scheduling problems', authors='Gao, C.; Gao, Y.; Lv, S.', year=2016, scopus_id=84983777910, doi='10.1109/CCDC.2016.7531349', eid='2-s2.0-84983777910', scopus_url='https://www.scopus.com/inward/record.uri?partnerID=HzOxMe3b&scp=84983777910&origin=inward', refs=frozenset({Reference(scopus_id=2220448, doi=None), Reference(scopus_id=84874551809, doi=None), Reference(scopus_id=65149100514, doi=None), Reference(scopus_id=33745437029, doi=None), Reference(scopus_id=35948948230, doi=None), Reference(scopus_id=84983729640, doi=None), Reference(scopus_id=84875902473, doi=None), Reference(scopus_id=242637387, doi=None), Reference(scopus_id=16952078, doi=None), Reference(scopus_id=78651414030, doi=None), Reference(scopus_id=34863568, doi=None), Reference(scopus_id=84873820817, doi=None), Reference(scopus_id=84983741395, doi=None), Reference(scopus_id=2577337, doi=None), Reference(scopus_id=84983799259, doi=None)}), pub_name='Proceedings of the 28th Chinese Control and Decision Conference, CCDC 2016', pub_issn_print=None, pub_issn_electronic=None),\n",
       " PaperInfo(iter_depth=1, title='Influence of data splitting on performance of machine learning models in prediction of shear strength of soil', authors='Nguyen, Q.H.; Ly, H.-B.; Ho, L.S.; Al-Ansari, N.; Van, Le, H.; Tran, V.Q.; Prakash, I.; Pham, B.T.', year=2021, scopus_id=85101581122, doi='10.1155/2021/4832864', eid='2-s2.0-85101581122', scopus_url='https://www.scopus.com/inward/record.uri?partnerID=HzOxMe3b&scp=85101581122&origin=inward', refs=frozenset({Reference(scopus_id=85090958592, doi=None), Reference(scopus_id=84863412225, doi=None), Reference(scopus_id=85065746946, doi=None), Reference(scopus_id=85083564289, doi=None), Reference(scopus_id=61749101060, doi=None), Reference(scopus_id=85061192451, doi=None), Reference(scopus_id=10944272650, doi=None), Reference(scopus_id=84859827217, doi=None), Reference(scopus_id=85072390170, doi=None), Reference(scopus_id=84947760924, doi=None), Reference(scopus_id=33846665245, doi=None), Reference(scopus_id=80053320223, doi=None), Reference(scopus_id=85069766176, doi=None), Reference(scopus_id=85082057759, doi=None), Reference(scopus_id=85128613923, doi=None), Reference(scopus_id=85083054115, doi=None), Reference(scopus_id=85021392934, doi=None), Reference(scopus_id=85085623079, doi=None), Reference(scopus_id=4152616, doi=None), Reference(scopus_id=84865812017, doi=None), Reference(scopus_id=33845544757, doi=None), Reference(scopus_id=85073677880, doi=None), Reference(scopus_id=84922867257, doi=None), Reference(scopus_id=85075040057, doi=None), Reference(scopus_id=85075260476, doi=None), Reference(scopus_id=85085615427, doi=None), Reference(scopus_id=85087283524, doi=None), Reference(scopus_id=85091241031, doi=None), Reference(scopus_id=85077370695, doi=None), Reference(scopus_id=84963595084, doi=None), Reference(scopus_id=85018551890, doi=None), Reference(scopus_id=85104689238, doi=None), Reference(scopus_id=85085289048, doi=None), Reference(scopus_id=24944552540, doi=None), Reference(scopus_id=85053693021, doi=None), Reference(scopus_id=85103230303, doi=None), Reference(scopus_id=85088171363, doi=None), Reference(scopus_id=85081680999, doi=None), Reference(scopus_id=85061242983, doi=None), Reference(scopus_id=85077653610, doi=None), Reference(scopus_id=85075254122, doi=None), Reference(scopus_id=85070697324, doi=None), Reference(scopus_id=85085603444, doi=None), Reference(scopus_id=50149121142, doi=None), Reference(scopus_id=85045042295, doi=None), Reference(scopus_id=11344290679, doi=None), Reference(scopus_id=85090976632, doi=None), Reference(scopus_id=33745903481, doi=None), Reference(scopus_id=33237117, doi=None), Reference(scopus_id=85083022718, doi=None), Reference(scopus_id=84962909823, doi=None), Reference(scopus_id=84866686849, doi=None), Reference(scopus_id=85058507395, doi=None), Reference(scopus_id=1642297477, doi=None), Reference(scopus_id=34495109, doi=None), Reference(scopus_id=85083044741, doi=None), Reference(scopus_id=84971233935, doi=None), Reference(scopus_id=84862799504, doi=None), Reference(scopus_id=85085351059, doi=None), Reference(scopus_id=85034839445, doi=None), Reference(scopus_id=85089795990, doi=None), Reference(scopus_id=85083555734, doi=None), Reference(scopus_id=85091582114, doi=None), Reference(scopus_id=84863487918, doi=None), Reference(scopus_id=85088205487, doi=None), Reference(scopus_id=37114546, doi=None), Reference(scopus_id=85079355058, doi=None), Reference(scopus_id=85049559219, doi=None), Reference(scopus_id=84928138163, doi=None), Reference(scopus_id=84895523003, doi=None), Reference(scopus_id=84859007933, doi=None), Reference(scopus_id=85081279167, doi=None), Reference(scopus_id=22037951, doi=None), Reference(scopus_id=85082722240, doi=None), Reference(scopus_id=85051092674, doi=None), Reference(scopus_id=84951869124, doi=None), Reference(scopus_id=85075235013, doi=None), Reference(scopus_id=85042729158, doi=None), Reference(scopus_id=85053429188, doi=None), Reference(scopus_id=85090934214, doi=None), Reference(scopus_id=85065412551, doi=None), Reference(scopus_id=33747875018, doi=None), Reference(scopus_id=85053604811, doi=None), Reference(scopus_id=66349130701, doi=None), Reference(scopus_id=85083759054, doi=None), Reference(scopus_id=84902668495, doi=None), Reference(scopus_id=85064269007, doi=None), Reference(scopus_id=85074800340, doi=None), Reference(scopus_id=85042195668, doi=None), Reference(scopus_id=85072399828, doi=None), Reference(scopus_id=85083468503, doi=None), Reference(scopus_id=85076147674, doi=None), Reference(scopus_id=85082865884, doi=None), Reference(scopus_id=85077511135, doi=None), Reference(scopus_id=84901485538, doi=None), Reference(scopus_id=85067226852, doi=None), Reference(scopus_id=85090950373, doi=None), Reference(scopus_id=85068250343, doi=None), Reference(scopus_id=44849118698, doi=None), Reference(scopus_id=85055412204, doi=None), Reference(scopus_id=85082020594, doi=None), Reference(scopus_id=77954309362, doi=None), Reference(scopus_id=77958046196, doi=None), Reference(scopus_id=49249111797, doi=None), Reference(scopus_id=22688757, doi=None), Reference(scopus_id=84988564472, doi=None), Reference(scopus_id=85111974139, doi=None), Reference(scopus_id=85085197821, doi=None)}), pub_name='Mathematical Problems in Engineering', pub_issn_print='1024123X', pub_issn_electronic='15635147'),\n",
       " PaperInfo(iter_depth=1, title='Intelligent decision-making of scheduling for dynamic permutation flowshop via deep reinforcement learning', authors='Yang, S.; Xu, Z.; Wang, J.', year=2021, scopus_id=85100179489, doi='10.3390/s21031019', eid='2-s2.0-85100179489', scopus_url='https://www.scopus.com/inward/record.uri?partnerID=HzOxMe3b&scp=85100179489&origin=inward', refs=frozenset({Reference(scopus_id=84994342402, doi='10.1016/j.cor.2016.10.003'), Reference(scopus_id=85085497096, doi='10.1109/access.2019.2935375'), Reference(scopus_id=84980007690, doi=None), Reference(scopus_id=85055985163, doi='10.1016/j.ijpe.2018.10.010'), Reference(scopus_id=85070912782, doi='10.1016/j.cor.2019.104767'), Reference(scopus_id=81555208210, doi='10.1016/j.cor.2011.07.019'), Reference(scopus_id=85100177940, doi=None), Reference(scopus_id=85068551709, doi='10.1016/j.cie.2019.07.012'), Reference(scopus_id=85098452259, doi=None), Reference(scopus_id=85090431015, doi='10.1007/s00170-020-05850-5'), Reference(scopus_id=85007092525, doi='10.1016/j.asoc.2016.11.031'), Reference(scopus_id=85084290612, doi='10.1080/00207543.2020.1757174'), Reference(scopus_id=85082828858, doi='10.1016/j.cie.2020.106778'), Reference(scopus_id=85028850241, doi='10.1109/tsmc.2017.2720178'), Reference(scopus_id=84983752514, doi='10.1007/s00170-016-9347-0'), Reference(scopus_id=84991688011, doi='10.1109/tevc.2015.2507785'), Reference(scopus_id=85082415949, doi='10.1080/00207543.2020.1741716'), Reference(scopus_id=84938586959, doi='10.1007/s10479-014-1770-8'), Reference(scopus_id=85047126612, doi='10.1007/s00170-018-2146-z'), Reference(scopus_id=85081140568, doi='10.1016/j.asoc.2020.106208'), Reference(scopus_id=84938750556, doi='10.1016/j.ejor.2015.06.018'), Reference(scopus_id=85007485789, doi='10.1016/j.cor.2016.12.021'), Reference(scopus_id=85060275042, doi='10.1016/j.cie.2019.01.036'), Reference(scopus_id=84878787429, doi='10.1007/s00500-013-0992-z'), Reference(scopus_id=85032366192, doi='10.1016/j.eswa.2017.10.050'), Reference(scopus_id=84971448181, doi=None), Reference(scopus_id=85069701751, doi='10.1016/j.cor.2019.06.012'), Reference(scopus_id=85056482938, doi='10.1016/j.eswa.2018.11.007'), Reference(scopus_id=85084170875, doi='10.1109/Access.2020.2987820'), Reference(scopus_id=85073961093, doi='10.1016/j.swevo.2019.100594'), Reference(scopus_id=84958780296, doi='10.1007/s00170-016-8484-9'), Reference(scopus_id=85019625609, doi='10.1016/j.engappai.2017.05.004'), Reference(scopus_id=84991093386, doi='10.1007/s11590-016-1086-5'), Reference(scopus_id=85044791956, doi='10.1016/j.cie.2018.03.039'), Reference(scopus_id=85068990869, doi='10.1080/01605682.2019.1630330'), Reference(scopus_id=85100138902, doi='10.1109/access.2020.3029868'), Reference(scopus_id=85084337819, doi='10.1080/00207543.2020.1727041'), Reference(scopus_id=85021825186, doi='10.1109/tem.2017.2712611'), Reference(scopus_id=85089305510, doi='10.1155/2020/2862186'), Reference(scopus_id=85066087086, doi='10.1016/j.asoc.2019.105492'), Reference(scopus_id=80052733615, doi='10.1016/j.ejor.2011.07.021'), Reference(scopus_id=85053857455, doi='10.1016/j.cie.2018.09.035'), Reference(scopus_id=84968860855, doi='10.1016/j.cor.2016.04.007'), Reference(scopus_id=85046436792, doi='10.1080/00207543.2018.1468095'), Reference(scopus_id=85015875522, doi='10.1080/00207543.2017.1306134'), Reference(scopus_id=85068618692, doi='10.1109/Tii.2019.2908210'), Reference(scopus_id=33751236810, doi='10.1016/j.ejor.2005.12.024'), Reference(scopus_id=85011700175, doi='10.1007/s10845-017-1295-5'), Reference(scopus_id=84979828944, doi='10.1109/access.2016.2565622'), Reference(scopus_id=84975748561, doi='10.1016/j.cie.2016.06.012'), Reference(scopus_id=84973115856, doi='10.1080/00207543.2016.1193246'), Reference(scopus_id=84979742677, doi='10.1155/2016/7373617'), Reference(scopus_id=84945242071, doi='10.1080/00207543.2015.1094584'), Reference(scopus_id=84922193624, doi='10.1007/s10845-015-1046-4'), Reference(scopus_id=85086989016, doi='10.1109/access.2020.3000781'), Reference(scopus_id=85026645213, doi='e338410.1002/dac.3384'), Reference(scopus_id=85049078238, doi='10.1007/s00170-018-2171-y'), Reference(scopus_id=84904867557, doi=None), Reference(scopus_id=85011702247, doi='10.1080/00207543.2017.1285077'), Reference(scopus_id=84879650283, doi='10.1142/S0217595913500140'), Reference(scopus_id=85071632364, doi='10.1016/j.cie.2019.106026'), Reference(scopus_id=84995488495, doi='10.1016/j.ejor.2016.09.055'), Reference(scopus_id=85074896372, doi='10.1016/j.ejor.2019.10.017'), Reference(scopus_id=85089297397, doi='10.1111/itor.12862'), Reference(scopus_id=85088844794, doi='10.1080/00207543.2020.1794075')}), pub_name='Sensors (Switzerland)', pub_issn_print='14248220', pub_issn_electronic=None),\n",
       " PaperInfo(iter_depth=1, title='Irrigated pinto bean crop stress and yield assessment using ground based low altitude remote sensing technology', authors='Ranjan, R.; Chandel, A.K.; Khot, L.R.; Bahlol, H.Y.; Zhou, J.; Boydston, R.A.; Miklas, P.N.', year=2019, scopus_id=85061180599, doi='10.1016/j.inpa.2019.01.005', eid='2-s2.0-85061180599', scopus_url='https://www.scopus.com/inward/record.uri?partnerID=HzOxMe3b&scp=85061180599&origin=inward', refs=frozenset({Reference(scopus_id=85026443520, doi=None), Reference(scopus_id=84939953920, doi=None), Reference(scopus_id=84867875843, doi=None), Reference(scopus_id=36400648, doi=None), Reference(scopus_id=260873, doi=None), Reference(scopus_id=84911480845, doi=None), Reference(scopus_id=85050888973, doi=None), Reference(scopus_id=84868629775, doi=None), Reference(scopus_id=33746580496, doi=None), Reference(scopus_id=36323088, doi=None), Reference(scopus_id=84944074770, doi=None), Reference(scopus_id=83055180048, doi=None), Reference(scopus_id=84930909973, doi=None), Reference(scopus_id=24165401, doi=None), Reference(scopus_id=84949496603, doi=None), Reference(scopus_id=84994763036, doi=None), Reference(scopus_id=85021707297, doi=None), Reference(scopus_id=27063079, doi=None), Reference(scopus_id=81355146796, doi=None), Reference(scopus_id=85061204268, doi=None), Reference(scopus_id=84901590062, doi=None), Reference(scopus_id=85056177455, doi=None), Reference(scopus_id=32444460, doi=None), Reference(scopus_id=85029580846, doi=None), Reference(scopus_id=37356853, doi=None), Reference(scopus_id=36846393, doi=None), Reference(scopus_id=85026829373, doi=None), Reference(scopus_id=85044943934, doi=None), Reference(scopus_id=84889583172, doi=None), Reference(scopus_id=77952480844, doi=None), Reference(scopus_id=84879248721, doi=None), Reference(scopus_id=84885398102, doi=None), Reference(scopus_id=84867299932, doi=None), Reference(scopus_id=85074735712, doi=None), Reference(scopus_id=85042332002, doi=None), Reference(scopus_id=85026441061, doi=None), Reference(scopus_id=84925141106, doi=None), Reference(scopus_id=84923067509, doi=None), Reference(scopus_id=85074735993, doi=None), Reference(scopus_id=84950130043, doi=None), Reference(scopus_id=84982253692, doi=None), Reference(scopus_id=84888353660, doi=None), Reference(scopus_id=43202687, doi=None), Reference(scopus_id=28150408, doi=None), Reference(scopus_id=28813962, doi=None), Reference(scopus_id=80051868302, doi=None), Reference(scopus_id=84940755599, doi=None), Reference(scopus_id=42691727, doi=None), Reference(scopus_id=84868629417, doi=None), Reference(scopus_id=30231725, doi=None), Reference(scopus_id=30237101, doi=None), Reference(scopus_id=27644492977, doi=None), Reference(scopus_id=84891461303, doi=None), Reference(scopus_id=85027951032, doi=None), Reference(scopus_id=29751226, doi=None), Reference(scopus_id=28431038, doi=None), Reference(scopus_id=18465733, doi=None), Reference(scopus_id=85028443845, doi=None), Reference(scopus_id=34333127, doi=None), Reference(scopus_id=50849142217, doi=None), Reference(scopus_id=84898075096, doi=None), Reference(scopus_id=84939543001, doi=None), Reference(scopus_id=25589465, doi=None), Reference(scopus_id=22944453083, doi=None), Reference(scopus_id=85042644956, doi=None), Reference(scopus_id=27444446, doi=None), Reference(scopus_id=36215007, doi=None), Reference(scopus_id=84891372768, doi=None), Reference(scopus_id=85053555681, doi=None), Reference(scopus_id=76749143781, doi=None), Reference(scopus_id=28683505, doi=None), Reference(scopus_id=84861035252, doi=None), Reference(scopus_id=33215477, doi=None), Reference(scopus_id=84920153334, doi=None), Reference(scopus_id=37063161, doi=None)}), pub_name='Information Processing in Agriculture', pub_issn_print='22143173', pub_issn_electronic=None),\n",
       " PaperInfo(iter_depth=1, title='Learning combinatorial optimization algorithms over graphs', authors='Dai, H.; Khalil, E.B.; Zhang, Y.; Dilkina, B.; Song, L.', year=2017, scopus_id=85047000455, doi=None, eid='2-s2.0-85047000455', scopus_url='https://www.scopus.com/inward/record.uri?partnerID=HzOxMe3b&scp=85047000455&origin=inward', refs=frozenset({Reference(scopus_id=85031920769, doi=None), Reference(scopus_id=30344467971, doi=None), Reference(scopus_id=10277513, doi=None), Reference(scopus_id=33747172362, doi=None), Reference(scopus_id=84924051598, doi=None), Reference(scopus_id=70350678007, doi=None), Reference(scopus_id=84899000472, doi=None), Reference(scopus_id=36013593, doi=None), Reference(scopus_id=85019172761, doi=None), Reference(scopus_id=84993949467, doi=None), Reference(scopus_id=3390495, doi=None), Reference(scopus_id=3725604, doi=None), Reference(scopus_id=24044449704, doi=None), Reference(scopus_id=33646398129, doi=None), Reference(scopus_id=84924259507, doi=None), Reference(scopus_id=84921447477, doi=None), Reference(scopus_id=84893574327, doi=None), Reference(scopus_id=36348942008, doi=None), Reference(scopus_id=1847481, doi=None), Reference(scopus_id=24044475960, doi=None), Reference(scopus_id=85047008315, doi=None), Reference(scopus_id=84965173945, doi=None), Reference(scopus_id=347457603, doi=None), Reference(scopus_id=84999007045, doi=None), Reference(scopus_id=26225350, doi=None), Reference(scopus_id=4102479, doi=None), Reference(scopus_id=84941620184, doi=None), Reference(scopus_id=3037529, doi=None), Reference(scopus_id=85007165402, doi=None), Reference(scopus_id=77956221415, doi=None), Reference(scopus_id=85047000808, doi=None), Reference(scopus_id=84937907179, doi=None), Reference(scopus_id=85046347373, doi=None), Reference(scopus_id=85031100781, doi=None), Reference(scopus_id=85031093489, doi=None), Reference(scopus_id=2590071, doi=None), Reference(scopus_id=84861445243, doi=None), Reference(scopus_id=84907031423, doi=None)}), pub_name='Advances in Neural Information Processing Systems', pub_issn_print='10495258', pub_issn_electronic=None),\n",
       " PaperInfo(iter_depth=1, title='Learning to dispatch for job shop scheduling via deep reinforcement learning', authors='Zhang, C.; Song, W.; Cao, Z.; Zhang, J.; Tan, P.S.; Xu, C.', year=2020, scopus_id=85108393338, doi=None, eid='2-s2.0-85108393338', scopus_url='https://www.scopus.com/inward/record.uri?partnerID=HzOxMe3b&scp=85108393338&origin=inward', refs=frozenset({Reference(scopus_id=85108443392, doi=None), Reference(scopus_id=85086827905, doi=None), Reference(scopus_id=3592198, doi=None), Reference(scopus_id=85047000455, doi=None), Reference(scopus_id=85041194636, doi=None), Reference(scopus_id=85090060302, doi=None), Reference(scopus_id=84924051598, doi=None), Reference(scopus_id=85098366609, doi=None), Reference(scopus_id=34249973653, doi=None), Reference(scopus_id=85083953688, doi=None), Reference(scopus_id=85105791769, doi=None), Reference(scopus_id=85066872350, doi=None), Reference(scopus_id=85002168868, doi=None), Reference(scopus_id=2381223, doi=None), Reference(scopus_id=85117857194, doi=None), Reference(scopus_id=85083950252, doi=None), Reference(scopus_id=85086457133, doi=None), Reference(scopus_id=85090163380, doi=None), Reference(scopus_id=12442549, doi=None), Reference(scopus_id=84864835511, doi=None), Reference(scopus_id=84868279415, doi=None), Reference(scopus_id=84965173945, doi=None), Reference(scopus_id=85042481468, doi=None), Reference(scopus_id=85068618692, doi=None), Reference(scopus_id=85071150021, doi=None), Reference(scopus_id=33102020, doi=None), Reference(scopus_id=85020695241, doi=None), Reference(scopus_id=242364617, doi=None), Reference(scopus_id=84887752143, doi=None), Reference(scopus_id=84896796755, doi=None), Reference(scopus_id=85090891095, doi=None), Reference(scopus_id=85090062936, doi=None), Reference(scopus_id=85072299867, doi=None), Reference(scopus_id=85064833116, doi=None), Reference(scopus_id=84886405851, doi=None), Reference(scopus_id=845408, doi=None), Reference(scopus_id=85058240608, doi=None), Reference(scopus_id=1488483, doi=None), Reference(scopus_id=85065248867, doi=None), Reference(scopus_id=34559461, doi=None), Reference(scopus_id=84969584486, doi=None), Reference(scopus_id=418020, doi=None), Reference(scopus_id=85093858027, doi=None), Reference(scopus_id=85067798381, doi=None), Reference(scopus_id=85064836077, doi=None), Reference(scopus_id=85090176877, doi=None), Reference(scopus_id=85083951347, doi=None), Reference(scopus_id=85040866293, doi=None), Reference(scopus_id=85068061303, doi=None), Reference(scopus_id=27201278, doi=None)}), pub_name='Advances in Neural Information Processing Systems', pub_issn_print='10495258', pub_issn_electronic=None),\n",
       " PaperInfo(iter_depth=1, title='Learning to perform local rewriting for combinatorial optimization', authors='Chen, X.; Tian, Y.', year=2019, scopus_id=85090060302, doi=None, eid='2-s2.0-85090060302', scopus_url='https://www.scopus.com/inward/record.uri?partnerID=HzOxMe3b&scp=85090060302&origin=inward', refs=frozenset({Reference(scopus_id=3807234, doi=None), Reference(scopus_id=28584964, doi=None), Reference(scopus_id=85048603654, doi=None), Reference(scopus_id=85047000455, doi=None), Reference(scopus_id=77950347409, doi=None), Reference(scopus_id=84872363924, doi=None), Reference(scopus_id=30212629, doi=None), Reference(scopus_id=85053602069, doi=None), Reference(scopus_id=84907531672, doi=None), Reference(scopus_id=84937961368, doi=None), Reference(scopus_id=85047343776, doi=None), Reference(scopus_id=84880093986, doi=None), Reference(scopus_id=84930616355, doi=None), Reference(scopus_id=85069220132, doi=None), Reference(scopus_id=85002168868, doi=None), Reference(scopus_id=84944337838, doi=None), Reference(scopus_id=85041412143, doi=None), Reference(scopus_id=33746887089, doi=None), Reference(scopus_id=85058263606, doi=None), Reference(scopus_id=84965173945, doi=None), Reference(scopus_id=84880123323, doi=None), Reference(scopus_id=5483198, doi=None), Reference(scopus_id=85031918331, doi=None), Reference(scopus_id=58349110975, doi=None), Reference(scopus_id=85064818117, doi=None), Reference(scopus_id=4102479, doi=None), Reference(scopus_id=85069825747, doi=None), Reference(scopus_id=84937822296, doi=None), Reference(scopus_id=84924346969, doi=None), Reference(scopus_id=3037529, doi=None), Reference(scopus_id=85031106139, doi=None), Reference(scopus_id=85064833116, doi=None), Reference(scopus_id=84943797465, doi=None), Reference(scopus_id=85057289694, doi=None), Reference(scopus_id=41544672, doi=None), Reference(scopus_id=77956315873, doi=None), Reference(scopus_id=85090170721, doi=None), Reference(scopus_id=84933254114, doi=None), Reference(scopus_id=84898832228, doi=None), Reference(scopus_id=85050013162, doi=None), Reference(scopus_id=85046347373, doi=None), Reference(scopus_id=13188975, doi=None), Reference(scopus_id=45749085681, doi=None), Reference(scopus_id=84998840306, doi=None), Reference(scopus_id=85083951347, doi=None), Reference(scopus_id=85090175985, doi=None), Reference(scopus_id=84911411442, doi=None), Reference(scopus_id=85018926711, doi=None), Reference(scopus_id=85061379576, doi=None), Reference(scopus_id=85077564153, doi=None), Reference(scopus_id=85064809339, doi=None), Reference(scopus_id=34547366652, doi=None), Reference(scopus_id=84994171897, doi=None)}), pub_name='Advances in Neural Information Processing Systems', pub_issn_print='10495258', pub_issn_electronic=None),\n",
       " PaperInfo(iter_depth=1, title='Local Search Methods for a Distributed Assembly No-Idle Flow Shop Scheduling Problem', authors='Shao, W.; Pi, D.; Shao, Z.', year=2019, scopus_id=85049099952, doi='10.1109/JSYST.2018.2825337', eid='2-s2.0-85049099952', scopus_url='https://www.scopus.com/inward/record.uri?partnerID=HzOxMe3b&scp=85049099952&origin=inward', refs=frozenset({Reference(scopus_id=84900826371, doi=None), Reference(scopus_id=84940703097, doi=None), Reference(scopus_id=38249025037, doi=None), Reference(scopus_id=57049126157, doi=None), Reference(scopus_id=84942784536, doi=None), Reference(scopus_id=85067088416, doi=None), Reference(scopus_id=85028500513, doi=None), Reference(scopus_id=85028503204, doi=None), Reference(scopus_id=84934898855, doi=None), Reference(scopus_id=85008258603, doi=None), Reference(scopus_id=84882454321, doi=None), Reference(scopus_id=85028513202, doi=None), Reference(scopus_id=84904612535, doi=None), Reference(scopus_id=85006427576, doi=None), Reference(scopus_id=37971131, doi=None), Reference(scopus_id=84963555261, doi=None), Reference(scopus_id=70350752447, doi=None), Reference(scopus_id=84980390464, doi=None), Reference(scopus_id=84965071551, doi=None), Reference(scopus_id=56749158477, doi=None), Reference(scopus_id=80052141904, doi=None), Reference(scopus_id=84939607506, doi=None), Reference(scopus_id=84884906840, doi=None), Reference(scopus_id=84880923608, doi=None), Reference(scopus_id=80555126361, doi=None), Reference(scopus_id=84913621341, doi=None), Reference(scopus_id=85017176167, doi=None), Reference(scopus_id=85009290727, doi=None), Reference(scopus_id=84969802860, doi=None), Reference(scopus_id=84871244398, doi=None), Reference(scopus_id=85021236729, doi=None), Reference(scopus_id=85008259834, doi=None), Reference(scopus_id=33750841084, doi=None), Reference(scopus_id=84949561215, doi=None)}), pub_name='IEEE Systems Journal', pub_issn_print='19328184', pub_issn_electronic='19379234'),\n",
       " PaperInfo(iter_depth=1, title='MIMYCS.Moisture, a process-based model of moisture content in developing maize kernels', authors='Maiorano, A.; Fanchini, D.; Donatelli, M.', year=2014, scopus_id=84902596790, doi='10.1016/j.eja.2014.05.011', eid='2-s2.0-84902596790', scopus_url='https://www.scopus.com/inward/record.uri?partnerID=HzOxMe3b&scp=84902596790&origin=inward', refs=frozenset({Reference(scopus_id=1941636, doi=None), Reference(scopus_id=343704583, doi=None), Reference(scopus_id=16544391693, doi=None), Reference(scopus_id=84859985425, doi=None), Reference(scopus_id=1468564, doi=None), Reference(scopus_id=3532437, doi=None), Reference(scopus_id=84862839575, doi=None), Reference(scopus_id=43263641, doi=None), Reference(scopus_id=3342924062, doi=None), Reference(scopus_id=29244454306, doi=None), Reference(scopus_id=5967141, doi=None), Reference(scopus_id=14776873, doi=None), Reference(scopus_id=25433002, doi=None), Reference(scopus_id=34103467, doi=None), Reference(scopus_id=865324, doi=None), Reference(scopus_id=24483115, doi=None), Reference(scopus_id=19657520, doi=None), Reference(scopus_id=15155, doi=None), Reference(scopus_id=2278965, doi=None), Reference(scopus_id=30044434486, doi=None), Reference(scopus_id=25925689, doi=None), Reference(scopus_id=33845893570, doi=None), Reference(scopus_id=36126403, doi=None), Reference(scopus_id=3830219, doi=None), Reference(scopus_id=85069364687, doi=None), Reference(scopus_id=3135829, doi=None), Reference(scopus_id=4208598, doi=None), Reference(scopus_id=2431963, doi=None), Reference(scopus_id=2018523, doi=None), Reference(scopus_id=70349563625, doi=None), Reference(scopus_id=84902593897, doi=None), Reference(scopus_id=69949091181, doi=None), Reference(scopus_id=58849159533, doi=None), Reference(scopus_id=11144252022, doi=None), Reference(scopus_id=84862011127, doi=None), Reference(scopus_id=37232380, doi=None), Reference(scopus_id=4181885, doi=None)}), pub_name='European Journal of Agronomy', pub_issn_print='11610301', pub_issn_electronic=None),\n",
       " PaperInfo(iter_depth=1, title='MOEA/D: A multiobjective evolutionary algorithm based on decomposition', authors='Zhang, Q.; Li, H.', year=2007, scopus_id=34548108555, doi='10.1109/TEVC.2007.892759', eid='2-s2.0-34548108555', scopus_url='https://www.scopus.com/inward/record.uri?partnerID=HzOxMe3b&scp=34548108555&origin=inward', refs=frozenset({Reference(scopus_id=2442422663, doi=None), Reference(scopus_id=626184, doi=None), Reference(scopus_id=36549019405, doi=None), Reference(scopus_id=3866267, doi=None), Reference(scopus_id=36464795, doi=None), Reference(scopus_id=42863389, doi=None), Reference(scopus_id=84931357345, doi=None), Reference(scopus_id=3142756516, doi=None), Reference(scopus_id=34199979, doi=None), Reference(scopus_id=23844480435, doi=None), Reference(scopus_id=3462074, doi=None), Reference(scopus_id=24944450492, doi=None), Reference(scopus_id=36671292, doi=None), Reference(scopus_id=32348480, doi=None), Reference(scopus_id=84901404865, doi=None), Reference(scopus_id=32141635, doi=None), Reference(scopus_id=41969992, doi=None), Reference(scopus_id=10466378, doi=None), Reference(scopus_id=6344235466, doi=None), Reference(scopus_id=33318858, doi=None), Reference(scopus_id=84931338189, doi=None), Reference(scopus_id=2970319, doi=None), Reference(scopus_id=2942547409, doi=None), Reference(scopus_id=33116882, doi=None), Reference(scopus_id=84892351315, doi=None), Reference(scopus_id=36530772, doi=None), Reference(scopus_id=35248872021, doi=None), Reference(scopus_id=84901420886, doi=None), Reference(scopus_id=84901428951, doi=None), Reference(scopus_id=3709653, doi=None), Reference(scopus_id=3735261, doi=None), Reference(scopus_id=38612858, doi=None), Reference(scopus_id=599395, doi=None), Reference(scopus_id=37936616, doi=None), Reference(scopus_id=2342571370, doi=None), Reference(scopus_id=37936618, doi=None), Reference(scopus_id=34201456, doi=None), Reference(scopus_id=4344694774, doi=None), Reference(scopus_id=5881722, doi=None), Reference(scopus_id=3738367, doi=None)}), pub_name='IEEE Transactions on Evolutionary Computation', pub_issn_print='1089778X', pub_issn_electronic=None),\n",
       " PaperInfo(iter_depth=1, title='Machine learning and optimization for production rescheduling in Industry 4.0', authors='Li, Y.; Carabelli, S.; Fadda, E.; Manerba, D.; Tadei, R.; Terzo, O.', year=2020, scopus_id=85090431015, doi='10.1007/s00170-020-05850-5', eid='2-s2.0-85090431015', scopus_url='https://www.scopus.com/inward/record.uri?partnerID=HzOxMe3b&scp=85090431015&origin=inward', refs=frozenset({Reference(scopus_id=35549005315, doi=None), Reference(scopus_id=85038829576, doi=None), Reference(scopus_id=84892374283, doi='10.1007/s00170-013-5221-5'), Reference(scopus_id=85039748112, doi=None), Reference(scopus_id=34249753618, doi=None), Reference(scopus_id=85054492949, doi='10.1007/s00170-018-2805-0'), Reference(scopus_id=85066863382, doi='10.1109/ACCESS.2019.2912200'), Reference(scopus_id=84923288087, doi=None), Reference(scopus_id=85072063008, doi='10.1007/s00170-019-04323-8'), Reference(scopus_id=85029856051, doi='10.1016/j.promfg.2017.07.303'), Reference(scopus_id=27812659, doi=None), Reference(scopus_id=85046624318, doi=None), Reference(scopus_id=32146239, doi=None), Reference(scopus_id=26461248, doi=None), Reference(scopus_id=27641665, doi=None), Reference(scopus_id=26927426, doi=None), Reference(scopus_id=85090468932, doi=None), Reference(scopus_id=85061344069, doi=None), Reference(scopus_id=84892369222, doi=None), Reference(scopus_id=85017558090, doi=None), Reference(scopus_id=85075373646, doi='10.1007/s00170-019-04595-0'), Reference(scopus_id=31191630, doi=None), Reference(scopus_id=242703954, doi=None), Reference(scopus_id=85028015443, doi=None), Reference(scopus_id=33093715, doi=None), Reference(scopus_id=221272, doi=None), Reference(scopus_id=85001119077, doi=None), Reference(scopus_id=85090459751, doi=None), Reference(scopus_id=85051407209, doi=None), Reference(scopus_id=84876326505, doi=None), Reference(scopus_id=85090453099, doi=None), Reference(scopus_id=84886901612, doi=None), Reference(scopus_id=85059985010, doi=None), Reference(scopus_id=84891122548, doi=None), Reference(scopus_id=85052156788, doi=None), Reference(scopus_id=85083050109, doi=None), Reference(scopus_id=85067669117, doi=None), Reference(scopus_id=84978889086, doi=None), Reference(scopus_id=85069956739, doi='10.1016/j.tre.2019.07.009'), Reference(scopus_id=85028508292, doi=None), Reference(scopus_id=77956649096, doi=None), Reference(scopus_id=85075361929, doi=None), Reference(scopus_id=85055265163, doi=None), Reference(scopus_id=85081633689, doi=None), Reference(scopus_id=84960471709, doi='10.1016/j.trb.2016.01.004'), Reference(scopus_id=29705887, doi=None), Reference(scopus_id=84999857315, doi=None), Reference(scopus_id=2381223, doi=None), Reference(scopus_id=85055476906, doi='10.1016/j.jmsy.2018.10.004'), Reference(scopus_id=79955105452, doi=None), Reference(scopus_id=84885594286, doi=None), Reference(scopus_id=85090470329, doi=None), Reference(scopus_id=77952010176, doi=None), Reference(scopus_id=85015875522, doi=None), Reference(scopus_id=85060082633, doi=None), Reference(scopus_id=85064345033, doi='10.1007/s00170-019-03469-9'), Reference(scopus_id=84892040401, doi=None), Reference(scopus_id=85065835986, doi=None), Reference(scopus_id=85074498515, doi=None), Reference(scopus_id=34548321751, doi=None), Reference(scopus_id=85045459929, doi='10.1080/00207543.2018.1456700'), Reference(scopus_id=84925989851, doi=None), Reference(scopus_id=85051648219, doi='10.1007/s12652-018-0966-1'), Reference(scopus_id=84865247709, doi=None), Reference(scopus_id=85062612955, doi=None), Reference(scopus_id=85041458657, doi=None), Reference(scopus_id=80053204196, doi=None), Reference(scopus_id=84901310438, doi=None), Reference(scopus_id=80555140075, doi=None), Reference(scopus_id=85060874220, doi='10.1080/00207543.2018.1442948'), Reference(scopus_id=7318509, doi=None), Reference(scopus_id=85083075054, doi='10.1109/ACCESS.2020.2982218'), Reference(scopus_id=84891459569, doi=None), Reference(scopus_id=84957069814, doi=None), Reference(scopus_id=74849101820, doi=None)}), pub_name='International Journal of Advanced Manufacturing Technology', pub_issn_print='02683768', pub_issn_electronic='14333015'),\n",
       " PaperInfo(iter_depth=1, title='Machine learning at the service of meta-heuristics for solving combinatorial optimization problems: A state-of-the-art', authors='Karimi-Mamaghan, M.; Mohammadi, M.; Meyer, P.; Karimi-Mamaghan, A.M.; Talbi, E.-G.', year=2022, scopus_id=85106881984, doi='10.1016/j.ejor.2021.04.032', eid='2-s2.0-85106881984', scopus_url='https://www.scopus.com/inward/record.uri?partnerID=HzOxMe3b&scp=85106881984&origin=inward', refs=frozenset({Reference(scopus_id=85060891655, doi=None), Reference(scopus_id=84883076131, doi=None), Reference(scopus_id=85042669618, doi=None), Reference(scopus_id=84883117112, doi=None), Reference(scopus_id=79952556088, doi=None), Reference(scopus_id=55649114171, doi=None), Reference(scopus_id=31281221, doi=None), Reference(scopus_id=77955916875, doi=None), Reference(scopus_id=84867451982, doi=None), Reference(scopus_id=85102343248, doi=None), Reference(scopus_id=33746577489, doi=None), Reference(scopus_id=85090722906, doi='10.1016/j.ejor.2020.08.045'), Reference(scopus_id=21144433756, doi=None), Reference(scopus_id=84893751389, doi=None), Reference(scopus_id=85096161379, doi='10.1016/j.ejor.2020.10.045'), Reference(scopus_id=3463297, doi=None), Reference(scopus_id=18844428422, doi=None), Reference(scopus_id=34250707085, doi=None), Reference(scopus_id=84900033679, doi=None), Reference(scopus_id=85056509076, doi=None), Reference(scopus_id=85096474773, doi=None), Reference(scopus_id=84857866390, doi=None), Reference(scopus_id=84978428060, doi=None), Reference(scopus_id=27144545449, doi=None), Reference(scopus_id=56349134000, doi=None), Reference(scopus_id=84992304305, doi=None), Reference(scopus_id=2916530, doi=None), Reference(scopus_id=142058675, doi=None), Reference(scopus_id=79955786934, doi=None), Reference(scopus_id=31744437433, doi=None), Reference(scopus_id=84926472380, doi=None), Reference(scopus_id=85063430332, doi=None), Reference(scopus_id=85013177536, doi=None), Reference(scopus_id=85077704906, doi=None), Reference(scopus_id=84962028746, doi=None), Reference(scopus_id=84905661645, doi=None), Reference(scopus_id=85078827216, doi=None), Reference(scopus_id=85060898005, doi=None), Reference(scopus_id=84963682518, doi=None), Reference(scopus_id=78049528022, doi=None), Reference(scopus_id=85034568923, doi=None), Reference(scopus_id=35148827874, doi=None), Reference(scopus_id=84857852136, doi=None), Reference(scopus_id=51749115113, doi=None), Reference(scopus_id=344236266, doi=None), Reference(scopus_id=33750065387, doi=None), Reference(scopus_id=85090885865, doi=None), Reference(scopus_id=35274988, doi=None), Reference(scopus_id=84958756080, doi='10.1007/978-3-642-37846-1'), Reference(scopus_id=85074849008, doi=None), Reference(scopus_id=84937214194, doi=None), Reference(scopus_id=85065141491, doi=None), Reference(scopus_id=84884542709, doi=None), Reference(scopus_id=85105038586, doi=None), Reference(scopus_id=85051129095, doi=None), Reference(scopus_id=84875092241, doi=None), Reference(scopus_id=85081967894, doi=None), Reference(scopus_id=84937604375, doi=None), Reference(scopus_id=85041391896, doi=None), Reference(scopus_id=77954574620, doi=None), Reference(scopus_id=24644439324, doi=None), Reference(scopus_id=26444479778, doi=None), Reference(scopus_id=56449087784, doi=None), Reference(scopus_id=85089920297, doi=None), Reference(scopus_id=84896503080, doi=None), Reference(scopus_id=85034263854, doi=None), Reference(scopus_id=85008234799, doi=None), Reference(scopus_id=85090364721, doi=None), Reference(scopus_id=85016743219, doi=None), Reference(scopus_id=85055089971, doi=None), Reference(scopus_id=84857804094, doi=None), Reference(scopus_id=80052997439, doi=None), Reference(scopus_id=2942711102, doi=None), Reference(scopus_id=72749124926, doi=None), Reference(scopus_id=27844568382, doi=None), Reference(scopus_id=33645308226, doi=None), Reference(scopus_id=84885954888, doi=None), Reference(scopus_id=84874052938, doi=None), Reference(scopus_id=84963693899, doi=None), Reference(scopus_id=85092030797, doi=None), Reference(scopus_id=33751363919, doi=None), Reference(scopus_id=78649913680, doi=None), Reference(scopus_id=49494, doi=None), Reference(scopus_id=85050590550, doi=None), Reference(scopus_id=85077269847, doi=None), Reference(scopus_id=5386585, doi=None), Reference(scopus_id=85064938842, doi=None), Reference(scopus_id=77954831704, doi=None), Reference(scopus_id=84957372764, doi=None), Reference(scopus_id=142000477, doi=None), Reference(scopus_id=85047615842, doi=None), Reference(scopus_id=84890402149, doi=None), Reference(scopus_id=84982830440, doi=None), Reference(scopus_id=84896541036, doi=None), Reference(scopus_id=84929877363, doi=None), Reference(scopus_id=85098998132, doi=None), Reference(scopus_id=5744249209, doi=None), Reference(scopus_id=85053154683, doi=None), Reference(scopus_id=84964389244, doi=None), Reference(scopus_id=85047000455, doi=None), Reference(scopus_id=84930872712, doi=None), Reference(scopus_id=84908637576, doi=None), Reference(scopus_id=85050603921, doi=None), Reference(scopus_id=85106962845, doi=None), Reference(scopus_id=85026867620, doi=None), Reference(scopus_id=33845956005, doi=None), Reference(scopus_id=85057330601, doi=None), Reference(scopus_id=85054289323, doi=None), Reference(scopus_id=85066955186, doi=None), Reference(scopus_id=85080942007, doi=None), Reference(scopus_id=84876937656, doi=None), Reference(scopus_id=32626111, doi=None), Reference(scopus_id=84864687560, doi=None), Reference(scopus_id=85075585487, doi=None), Reference(scopus_id=84873302479, doi=None), Reference(scopus_id=84888031698, doi=None), Reference(scopus_id=36949024215, doi=None), Reference(scopus_id=84888350170, doi=None), Reference(scopus_id=55749091804, doi=None), Reference(scopus_id=84905869789, doi=None), Reference(scopus_id=78649511391, doi=None), Reference(scopus_id=56449098210, doi=None), Reference(scopus_id=85090347493, doi=None), Reference(scopus_id=85091289581, doi=None), Reference(scopus_id=35048830447, doi=None), Reference(scopus_id=85080098295, doi=None), Reference(scopus_id=84941006334, doi=None), Reference(scopus_id=84902498817, doi=None), Reference(scopus_id=84994342402, doi=None), Reference(scopus_id=33102347, doi=None), Reference(scopus_id=85006918157, doi=None), Reference(scopus_id=84994342415, doi=None), Reference(scopus_id=85062430235, doi=None), Reference(scopus_id=85020237340, doi=None), Reference(scopus_id=85031503389, doi=None), Reference(scopus_id=33884705, doi=None), Reference(scopus_id=85017380392, doi=None), Reference(scopus_id=85073059369, doi=None), Reference(scopus_id=78650590762, doi=None), Reference(scopus_id=27144520235, doi=None), Reference(scopus_id=78149290542, doi=None), Reference(scopus_id=56349167151, doi=None), Reference(scopus_id=85008253497, doi=None), Reference(scopus_id=84880063034, doi=None), Reference(scopus_id=84869001787, doi=None), Reference(scopus_id=84995466814, doi=None), Reference(scopus_id=84977934926, doi=None), Reference(scopus_id=84982852177, doi=None), Reference(scopus_id=84866853461, doi=None), Reference(scopus_id=85049662040, doi=None), Reference(scopus_id=36723306, doi=None), Reference(scopus_id=84920973938, doi=None), Reference(scopus_id=85044414067, doi=None), Reference(scopus_id=84945237619, doi=None), Reference(scopus_id=85064517238, doi=None), Reference(scopus_id=84914165377, doi=None), Reference(scopus_id=85067579010, doi=None), Reference(scopus_id=33750089347, doi=None), Reference(scopus_id=84954411649, doi=None), Reference(scopus_id=85055153800, doi=None), Reference(scopus_id=3590794, doi=None), Reference(scopus_id=85102613137, doi=None), Reference(scopus_id=27644543634, doi=None), Reference(scopus_id=85041807003, doi=None), Reference(scopus_id=77954569885, doi=None), Reference(scopus_id=85092149922, doi=None), Reference(scopus_id=85053757091, doi=None), Reference(scopus_id=80052260522, doi=None), Reference(scopus_id=84944145076, doi=None), Reference(scopus_id=85106962107, doi=None), Reference(scopus_id=928452, doi=None), Reference(scopus_id=26225350, doi=None), Reference(scopus_id=84929915594, doi=None), Reference(scopus_id=85046425291, doi=None), Reference(scopus_id=24344469197, doi=None), Reference(scopus_id=85046262481, doi=None), Reference(scopus_id=34974417, doi=None), Reference(scopus_id=84964584149, doi=None), Reference(scopus_id=84948710104, doi=None), Reference(scopus_id=85021118168, doi=None), Reference(scopus_id=85013713626, doi=None), Reference(scopus_id=84860390107, doi=None), Reference(scopus_id=77954604772, doi=None), Reference(scopus_id=79957978863, doi=None), Reference(scopus_id=85047098096, doi=None), Reference(scopus_id=85099692787, doi=None), Reference(scopus_id=84867879667, doi=None), Reference(scopus_id=85044522743, doi=None), Reference(scopus_id=79959453434, doi=None), Reference(scopus_id=67650973435, doi=None), Reference(scopus_id=27201278, doi=None), Reference(scopus_id=33750380289, doi=None), Reference(scopus_id=85104050952, doi=None), Reference(scopus_id=84921757448, doi=None), Reference(scopus_id=85076843276, doi=None), Reference(scopus_id=84960962317, doi=None), Reference(scopus_id=85053262610, doi=None), Reference(scopus_id=85074402071, doi=None), Reference(scopus_id=3603223, doi=None), Reference(scopus_id=84863906586, doi=None), Reference(scopus_id=40249084706, doi=None), Reference(scopus_id=85041482532, doi=None), Reference(scopus_id=85106949929, doi=None), Reference(scopus_id=80052753197, doi=None), Reference(scopus_id=85094905653, doi=None), Reference(scopus_id=85074295614, doi=None), Reference(scopus_id=85060875075, doi=None), Reference(scopus_id=85056262987, doi=None), Reference(scopus_id=85106874192, doi=None), Reference(scopus_id=85051465554, doi=None), Reference(scopus_id=85027859282, doi=None), Reference(scopus_id=36644699, doi=None), Reference(scopus_id=33846516584, doi=None), Reference(scopus_id=85056254829, doi=None), Reference(scopus_id=33750319983, doi=None), Reference(scopus_id=84870496115, doi=None), Reference(scopus_id=2942720885, doi=None), Reference(scopus_id=33846274936, doi=None), Reference(scopus_id=52049111930, doi=None), Reference(scopus_id=31118203, doi=None), Reference(scopus_id=84865833859, doi=None), Reference(scopus_id=84889485189, doi=None), Reference(scopus_id=85089438604, doi=None), Reference(scopus_id=84969975693, doi=None), Reference(scopus_id=26644461462, doi=None), Reference(scopus_id=85006049177, doi=None), Reference(scopus_id=33646000026, doi=None), Reference(scopus_id=3543137178, doi=None), Reference(scopus_id=77956414365, doi=None), Reference(scopus_id=2535331, doi=None), Reference(scopus_id=85051563941, doi=None), Reference(scopus_id=80051926952, doi=None), Reference(scopus_id=85004008362, doi=None), Reference(scopus_id=85073077162, doi=None), Reference(scopus_id=85049559984, doi=None), Reference(scopus_id=85077609394, doi=None), Reference(scopus_id=12442549, doi=None), Reference(scopus_id=84866878390, doi=None), Reference(scopus_id=80054958010, doi=None), Reference(scopus_id=85013625792, doi=None), Reference(scopus_id=70449920961, doi=None), Reference(scopus_id=79955782597, doi=None), Reference(scopus_id=4344567750, doi=None), Reference(scopus_id=36173777, doi=None), Reference(scopus_id=84945290194, doi=None), Reference(scopus_id=84988432343, doi=None), Reference(scopus_id=36568025, doi=None), Reference(scopus_id=84905669594, doi=None), Reference(scopus_id=84908868572, doi=None), Reference(scopus_id=3056605, doi=None), Reference(scopus_id=85089234910, doi=None), Reference(scopus_id=2445280, doi=None), Reference(scopus_id=85082983393, doi=None), Reference(scopus_id=4049893, doi=None), Reference(scopus_id=85053012967, doi=None), Reference(scopus_id=84861651944, doi=None), Reference(scopus_id=57349105640, doi=None), Reference(scopus_id=85106945000, doi=None), Reference(scopus_id=84922030067, doi=None), Reference(scopus_id=85021725695, doi=None)}), pub_name='European Journal of Operational Research', pub_issn_print='03772217', pub_issn_electronic=None),\n",
       " PaperInfo(iter_depth=1, title='Machine learning techniques to predict soybean plant density using UAV and satellite-based remote sensing', authors='Habibi, L.N.; Watanabe, T.; Matsui, T.; Tanaka, T.S.T.', year=2021, scopus_id=85109601390, doi='10.3390/rs13132548', eid='2-s2.0-85109601390', scopus_url='https://www.scopus.com/inward/record.uri?partnerID=HzOxMe3b&scp=85109601390&origin=inward', refs=frozenset({Reference(scopus_id=85054550274, doi=None), Reference(scopus_id=85006214917, doi=None), Reference(scopus_id=85083493767, doi=None), Reference(scopus_id=85076642568, doi=None), Reference(scopus_id=79952974728, doi=None), Reference(scopus_id=36248949001, doi=None), Reference(scopus_id=85056649356, doi=None), Reference(scopus_id=85075585292, doi=None), Reference(scopus_id=34126607, doi=None), Reference(scopus_id=85071865615, doi=None), Reference(scopus_id=79954451216, doi=None), Reference(scopus_id=85166786450, doi=None), Reference(scopus_id=84928668178, doi=None), Reference(scopus_id=85092076184, doi=None), Reference(scopus_id=85084846617, doi=None), Reference(scopus_id=2872223, doi=None), Reference(scopus_id=48549095457, doi=None), Reference(scopus_id=85059835811, doi=None), Reference(scopus_id=35965476, doi=None), Reference(scopus_id=77449091194, doi=None), Reference(scopus_id=84879138731, doi=None), Reference(scopus_id=37239985, doi=None), Reference(scopus_id=85074690613, doi=None), Reference(scopus_id=85075028790, doi=None), Reference(scopus_id=85070939831, doi=None), Reference(scopus_id=84938591672, doi=None), Reference(scopus_id=11144325691, doi=None), Reference(scopus_id=84893373886, doi=None), Reference(scopus_id=85055876672, doi=None), Reference(scopus_id=16544375361, doi=None), Reference(scopus_id=84868022340, doi=None), Reference(scopus_id=85109691845, doi=None), Reference(scopus_id=35478854, doi=None), Reference(scopus_id=85071193927, doi=None), Reference(scopus_id=85088386376, doi=None), Reference(scopus_id=85057279946, doi=None), Reference(scopus_id=85041606602, doi=None), Reference(scopus_id=33847096395, doi=None), Reference(scopus_id=70749120079, doi=None), Reference(scopus_id=85020307153, doi=None), Reference(scopus_id=1450837, doi=None), Reference(scopus_id=85091698647, doi=None), Reference(scopus_id=84887593688, doi=None), Reference(scopus_id=85088856666, doi=None), Reference(scopus_id=84912097882, doi=None), Reference(scopus_id=85103870170, doi=None), Reference(scopus_id=84926331997, doi=None), Reference(scopus_id=85095915877, doi=None), Reference(scopus_id=85094164326, doi=None), Reference(scopus_id=85053268966, doi=None), Reference(scopus_id=85069522538, doi=None), Reference(scopus_id=84864512878, doi=None), Reference(scopus_id=85057319279, doi=None), Reference(scopus_id=37086704, doi=None), Reference(scopus_id=85087041650, doi=None), Reference(scopus_id=84940311155, doi=None), Reference(scopus_id=85032225396, doi=None), Reference(scopus_id=57449119477, doi=None), Reference(scopus_id=84866038390, doi=None), Reference(scopus_id=242545779, doi=None), Reference(scopus_id=84934281594, doi=None), Reference(scopus_id=85065917820, doi=None), Reference(scopus_id=84930680445, doi=None)}), pub_name='Remote Sensing', pub_issn_print='20724292', pub_issn_electronic='20724292'),\n",
       " PaperInfo(iter_depth=1, title='Mapping maizewater stress based on UAV multispectral remote sensing', authors='Zhang, L.; Zhang, H.; Niu, Y.; Han, W.', year=2019, scopus_id=85067384338, doi='10.3390/rs11060605', eid='2-s2.0-85067384338', scopus_url='https://www.scopus.com/inward/record.uri?partnerID=HzOxMe3b&scp=85067384338&origin=inward', refs=frozenset({Reference(scopus_id=84867875843, doi=None), Reference(scopus_id=70249093892, doi=None), Reference(scopus_id=84911480845, doi=None), Reference(scopus_id=34546706, doi=None), Reference(scopus_id=84890746134, doi=None), Reference(scopus_id=24165401, doi=None), Reference(scopus_id=84982286106, doi=None), Reference(scopus_id=85070436901, doi=None), Reference(scopus_id=25144497704, doi=None), Reference(scopus_id=84994494249, doi=None), Reference(scopus_id=1372463, doi=None), Reference(scopus_id=85045992756, doi=None), Reference(scopus_id=85028160574, doi=None), Reference(scopus_id=85053606975, doi=None), Reference(scopus_id=85019208768, doi=None), Reference(scopus_id=85019739208, doi=None), Reference(scopus_id=85074134088, doi=None), Reference(scopus_id=79251597643, doi=None), Reference(scopus_id=67849119566, doi=None), Reference(scopus_id=347969872, doi=None), Reference(scopus_id=33751379797, doi=None), Reference(scopus_id=2098011, doi=None), Reference(scopus_id=65849188701, doi=None), Reference(scopus_id=84925492062, doi=None), Reference(scopus_id=84994479711, doi=None), Reference(scopus_id=84882656099, doi=None), Reference(scopus_id=84892502883, doi=None), Reference(scopus_id=28160102, doi=None), Reference(scopus_id=84920276839, doi=None), Reference(scopus_id=1373288, doi=None), Reference(scopus_id=85029755752, doi=None), Reference(scopus_id=84941031018, doi=None), Reference(scopus_id=85020161643, doi=None), Reference(scopus_id=85019552876, doi=None), Reference(scopus_id=85020183658, doi=None), Reference(scopus_id=85053025642, doi=None), Reference(scopus_id=84872128626, doi=None), Reference(scopus_id=60549113460, doi=None), Reference(scopus_id=84876710772, doi=None), Reference(scopus_id=26444556925, doi=None), Reference(scopus_id=84855428733, doi=None), Reference(scopus_id=84870157182, doi=None), Reference(scopus_id=20044384900, doi=None), Reference(scopus_id=27790217, doi=None), Reference(scopus_id=84875050126, doi=None), Reference(scopus_id=84939975311, doi=None), Reference(scopus_id=84874253202, doi=None), Reference(scopus_id=84908094355, doi=None), Reference(scopus_id=84906699671, doi=None), Reference(scopus_id=84870852251, doi=None), Reference(scopus_id=85015700379, doi=None), Reference(scopus_id=85050454942, doi=None), Reference(scopus_id=2872223, doi=None), Reference(scopus_id=84904661921, doi=None), Reference(scopus_id=84887293345, doi=None), Reference(scopus_id=85028331428, doi=None), Reference(scopus_id=84880286885, doi=None), Reference(scopus_id=77955769765, doi=None), Reference(scopus_id=85059063723, doi=None), Reference(scopus_id=84922998703, doi=None), Reference(scopus_id=85055903667, doi=None), Reference(scopus_id=35148899254, doi=None), Reference(scopus_id=84942098361, doi=None), Reference(scopus_id=40849135546, doi=None), Reference(scopus_id=34805692, doi=None), Reference(scopus_id=33749251263, doi=None), Reference(scopus_id=85040535232, doi=None), Reference(scopus_id=85044453316, doi=None), Reference(scopus_id=85028443845, doi=None), Reference(scopus_id=85019423177, doi=None), Reference(scopus_id=2737102, doi=None), Reference(scopus_id=2737103, doi=None), Reference(scopus_id=1888720, doi=None), Reference(scopus_id=85030090449, doi=None), Reference(scopus_id=84879551189, doi=None), Reference(scopus_id=77953135830, doi=None), Reference(scopus_id=67650316503, doi=None), Reference(scopus_id=36323544, doi=None), Reference(scopus_id=84984808405, doi=None), Reference(scopus_id=19685845, doi=None), Reference(scopus_id=85014360288, doi=None), Reference(scopus_id=2942709985, doi=None), Reference(scopus_id=142148577, doi=None), Reference(scopus_id=85075359976, doi=None), Reference(scopus_id=3491818, doi=None), Reference(scopus_id=84947748588, doi=None), Reference(scopus_id=2259192, doi=None), Reference(scopus_id=28668154, doi=None), Reference(scopus_id=84927779838, doi=None)}), pub_name='Remote Sensing', pub_issn_print='20724292', pub_issn_electronic='20724292'),\n",
       " PaperInfo(iter_depth=1, title='Memetic Algorithm with Meta-Lamarckian Learning and Simplex Search for Distributed Flexible Assembly Permutation Flowshop Scheduling Problem', authors='Zhang, G.; Xing, K.; Zhang, G.; He, Z.', year=2020, scopus_id=85086503992, doi='10.1109/ACCESS.2020.2996305', eid='2-s2.0-85086503992', scopus_url='https://www.scopus.com/inward/record.uri?partnerID=HzOxMe3b&scp=85086503992&origin=inward', refs=frozenset({Reference(scopus_id=85053144449, doi=None), Reference(scopus_id=85059308547, doi=None), Reference(scopus_id=85034083333, doi=None), Reference(scopus_id=85040683143, doi=None), Reference(scopus_id=85021086987, doi=None), Reference(scopus_id=2442474238, doi=None), Reference(scopus_id=80054688019, doi=None), Reference(scopus_id=85043600917, doi=None), Reference(scopus_id=85071851030, doi=None), Reference(scopus_id=85018385184, doi=None), Reference(scopus_id=27590319, doi=None), Reference(scopus_id=84904612535, doi=None), Reference(scopus_id=85063770551, doi=None), Reference(scopus_id=85006427576, doi=None), Reference(scopus_id=70349270458, doi=None), Reference(scopus_id=84892366397, doi=None), Reference(scopus_id=85077474878, doi=None), Reference(scopus_id=70350752447, doi=None), Reference(scopus_id=84980390464, doi=None), Reference(scopus_id=84965071551, doi=None), Reference(scopus_id=85044293828, doi=None), Reference(scopus_id=84879491396, doi=None), Reference(scopus_id=85067846089, doi=None), Reference(scopus_id=84949527882, doi=None), Reference(scopus_id=84991688011, doi=None), Reference(scopus_id=85028019151, doi=None), Reference(scopus_id=85053542482, doi=None), Reference(scopus_id=84897539411, doi=None), Reference(scopus_id=85011596118, doi=None), Reference(scopus_id=84880923608, doi=None), Reference(scopus_id=84884906840, doi=None), Reference(scopus_id=85044918488, doi=None), Reference(scopus_id=84941620441, doi=None), Reference(scopus_id=85079871324, doi=None), Reference(scopus_id=84880214367, doi=None), Reference(scopus_id=85073559140, doi=None), Reference(scopus_id=85062414824, doi=None), Reference(scopus_id=84969802860, doi=None), Reference(scopus_id=85059009519, doi=None), Reference(scopus_id=84855278833, doi=None), Reference(scopus_id=84892612726, doi=None), Reference(scopus_id=38349135735, doi=None), Reference(scopus_id=38273913, doi=None), Reference(scopus_id=85026361211, doi=None), Reference(scopus_id=33847661566, doi=None)}), pub_name='IEEE Access', pub_issn_print='21693536', pub_issn_electronic='21693536'),\n",
       " PaperInfo(iter_depth=1, title='Modelling leaf chlorophyll content in broadleaf and needle leaf canopies from ground, CASI, Landsat TM 5 and MERIS reflectance data', authors='Croft, H.; Chen, J.M.; Zhang, Y.; Simic, A.', year=2013, scopus_id=84875010482, doi='10.1016/j.rse.2013.02.006', eid='2-s2.0-84875010482', scopus_url='https://www.scopus.com/inward/record.uri?partnerID=HzOxMe3b&scp=84875010482&origin=inward', refs=frozenset({Reference(scopus_id=33745256452, doi=None), Reference(scopus_id=33645874181, doi=None), Reference(scopus_id=35390984, doi=None), Reference(scopus_id=84858342926, doi=None), Reference(scopus_id=800274, doi=None), Reference(scopus_id=84975586067, doi=None), Reference(scopus_id=76049092120, doi=None), Reference(scopus_id=29177882, doi=None), Reference(scopus_id=57649178650, doi=None), Reference(scopus_id=80053112347, doi=None), Reference(scopus_id=44949287707, doi=None), Reference(scopus_id=36143646, doi=None), Reference(scopus_id=31433760, doi=None), Reference(scopus_id=37533730, doi=None), Reference(scopus_id=35031849, doi=None), Reference(scopus_id=23823146, doi=None), Reference(scopus_id=842306351, doi=None), Reference(scopus_id=31139633, doi=None), Reference(scopus_id=37356853, doi=None), Reference(scopus_id=34948888634, doi=None), Reference(scopus_id=33980219, doi=None), Reference(scopus_id=30274109, doi=None), Reference(scopus_id=34250800190, doi=None), Reference(scopus_id=36249008191, doi=None), Reference(scopus_id=29659966, doi=None), Reference(scopus_id=34548012350, doi=None), Reference(scopus_id=44649115718, doi=None), Reference(scopus_id=37351495, doi=None), Reference(scopus_id=4544332104, doi=None), Reference(scopus_id=33947707210, doi=None), Reference(scopus_id=842327886, doi=None), Reference(scopus_id=50849144917, doi=None), Reference(scopus_id=34261087, doi=None), Reference(scopus_id=3032927, doi=None), Reference(scopus_id=34478693, doi=None), Reference(scopus_id=32158312, doi=None), Reference(scopus_id=36330345, doi=None), Reference(scopus_id=43949100650, doi=None), Reference(scopus_id=28982382, doi=None), Reference(scopus_id=842284654, doi=None), Reference(scopus_id=31146096, doi=None), Reference(scopus_id=29140335, doi=None), Reference(scopus_id=36214130, doi=None), Reference(scopus_id=55049139336, doi=None), Reference(scopus_id=32766863, doi=None), Reference(scopus_id=11144234383, doi=None), Reference(scopus_id=36741018, doi=None), Reference(scopus_id=4017567, doi=None), Reference(scopus_id=33746374305, doi=None), Reference(scopus_id=63949083045, doi=None), Reference(scopus_id=77954029479, doi=None), Reference(scopus_id=32317096, doi=None), Reference(scopus_id=27866285, doi=None), Reference(scopus_id=31163572, doi=None), Reference(scopus_id=20844437428, doi=None), Reference(scopus_id=29751225, doi=None), Reference(scopus_id=3545786, doi=None), Reference(scopus_id=6108090, doi=None), Reference(scopus_id=85148815552, doi=None), Reference(scopus_id=34333127, doi=None), Reference(scopus_id=35330763, doi=None), Reference(scopus_id=34250642381, doi=None), Reference(scopus_id=31235278, doi=None), Reference(scopus_id=37249059789, doi=None), Reference(scopus_id=33747149010, doi=None), Reference(scopus_id=32109018, doi=None), Reference(scopus_id=74149091549, doi=None), Reference(scopus_id=22744451807, doi=None), Reference(scopus_id=3006176, doi=None), Reference(scopus_id=38404833, doi=None), Reference(scopus_id=29276387, doi=None), Reference(scopus_id=21644260, doi=None), Reference(scopus_id=2942528742, doi=None), Reference(scopus_id=67650232810, doi=None), Reference(scopus_id=31433966, doi=None), Reference(scopus_id=84875023598, doi=None), Reference(scopus_id=28668153, doi=None), Reference(scopus_id=32815356, doi=None)}), pub_name='Remote Sensing of Environment', pub_issn_print='00344257', pub_issn_electronic=None),\n",
       " PaperInfo(iter_depth=1, title='Moisture and yield of corn stover fractions before and after grain maturity', authors='Pordesimo, L.O.; Sokhansanj, S.; Edens, W.C.', year=2004, scopus_id=11144308335, doi=None, eid='2-s2.0-11144308335', scopus_url='https://www.scopus.com/inward/record.uri?partnerID=HzOxMe3b&scp=11144308335&origin=inward', refs=frozenset({Reference(scopus_id=33812930, doi=None), Reference(scopus_id=39371527, doi=None), Reference(scopus_id=1642446088, doi=None), Reference(scopus_id=4073161, doi=None), Reference(scopus_id=11144256138, doi=None), Reference(scopus_id=11144331348, doi=None), Reference(scopus_id=11144292631, doi=None), Reference(scopus_id=11144270935, doi=None), Reference(scopus_id=11144281176, doi=None), Reference(scopus_id=36407324, doi=None), Reference(scopus_id=10444277853, doi=None), Reference(scopus_id=11144271325, doi=None), Reference(scopus_id=1823903, doi=None), Reference(scopus_id=1431006, doi=None), Reference(scopus_id=22721186, doi=None), Reference(scopus_id=11144341859, doi=None), Reference(scopus_id=13168613, doi=None), Reference(scopus_id=11144315943, doi=None), Reference(scopus_id=771307, doi=None), Reference(scopus_id=4292204, doi=None), Reference(scopus_id=78649703533, doi=None), Reference(scopus_id=3493806, doi=None), Reference(scopus_id=11144283054, doi=None), Reference(scopus_id=11144336493, doi=None), Reference(scopus_id=36769650, doi=None), Reference(scopus_id=84990789815, doi=None), Reference(scopus_id=84990803710, doi=None)}), pub_name='Transactions of the American Society of Agricultural Engineers', pub_issn_print='00012351', pub_issn_electronic=None),\n",
       " PaperInfo(iter_depth=1, title='Monitoring of peanut leaves chlorophyll content based on drone-based multispectral image feature extraction', authors='Qi, H.; Wu, Z.; Zhang, L.; Li, J.; Zhou, J.; Jun, Z.; Zhu, B.', year=2021, scopus_id=85109431227, doi='10.1016/j.compag.2021.106292', eid='2-s2.0-85109431227', scopus_url='https://www.scopus.com/inward/record.uri?partnerID=HzOxMe3b&scp=85109431227&origin=inward', refs=frozenset({Reference(scopus_id=41149145857, doi=None), Reference(scopus_id=34247515522, doi=None), Reference(scopus_id=85015677068, doi=None), Reference(scopus_id=85073691025, doi=None), Reference(scopus_id=85085520403, doi=None), Reference(scopus_id=76049128596, doi=None), Reference(scopus_id=1142281876, doi=None), Reference(scopus_id=84938800023, doi=None), Reference(scopus_id=84962488348, doi=None), Reference(scopus_id=84912137635, doi=None), Reference(scopus_id=85081054252, doi=None), Reference(scopus_id=85109459117, doi=None), Reference(scopus_id=69849088558, doi=None), Reference(scopus_id=85109440181, doi=None), Reference(scopus_id=84996587573, doi=None), Reference(scopus_id=30304952, doi=None), Reference(scopus_id=84922147384, doi=None), Reference(scopus_id=84994829884, doi=None), Reference(scopus_id=84870483133, doi=None), Reference(scopus_id=85062842942, doi='10.1016/j.jag.2019.01.001'), Reference(scopus_id=85109431104, doi=None), Reference(scopus_id=85109439424, doi=None), Reference(scopus_id=33102275, doi=None), Reference(scopus_id=85109451721, doi='10.1101/2020.12.18.423409'), Reference(scopus_id=84865384394, doi=None), Reference(scopus_id=84964233163, doi=None), Reference(scopus_id=84865512268, doi='10.1093/jxb/ers165'), Reference(scopus_id=85109428690, doi=None), Reference(scopus_id=85082800346, doi='10.1016/j.eng.2019.10.015'), Reference(scopus_id=84932599006, doi=None), Reference(scopus_id=85099128543, doi=None), Reference(scopus_id=85109452255, doi=None), Reference(scopus_id=84885058529, doi=None), Reference(scopus_id=85083555809, doi='10.3390/app10072259'), Reference(scopus_id=3914342, doi=None), Reference(scopus_id=85089720679, doi=None), Reference(scopus_id=85071317222, doi=None), Reference(scopus_id=84861671913, doi=None), Reference(scopus_id=85026210155, doi=None), Reference(scopus_id=78649361391, doi=None), Reference(scopus_id=85079624304, doi=None), Reference(scopus_id=85022071281, doi=None), Reference(scopus_id=85048967410, doi=None), Reference(scopus_id=85076516210, doi=None), Reference(scopus_id=85057164917, doi=None), Reference(scopus_id=85109434746, doi=None)}), pub_name='Computers and Electronics in Agriculture', pub_issn_print='01681699', pub_issn_electronic=None),\n",
       " PaperInfo(iter_depth=1, title='Monitoring within-field variability of corn yield using sentinel-2 and machine learning techniques', authors='Kayad, A.; Sozzi, M.; Gatto, S.; Marinello, F.; Pirotti, F.', year=2019, scopus_id=85076537801, doi='10.3390/rs11232873', eid='2-s2.0-85076537801', scopus_url='https://www.scopus.com/inward/record.uri?partnerID=HzOxMe3b&scp=85076537801&origin=inward', refs=frozenset({Reference(scopus_id=84891866626, doi=None), Reference(scopus_id=85054032899, doi=None), Reference(scopus_id=34965507, doi=None), Reference(scopus_id=85058883075, doi=None), Reference(scopus_id=77952518662, doi=None), Reference(scopus_id=84872872459, doi=None), Reference(scopus_id=85071865615, doi=None), Reference(scopus_id=84973502992, doi=None), Reference(scopus_id=24165401, doi=None), Reference(scopus_id=84990990366, doi=None), Reference(scopus_id=19392801, doi=None), Reference(scopus_id=85021707297, doi=None), Reference(scopus_id=70449346600, doi=None), Reference(scopus_id=84918797609, doi=None), Reference(scopus_id=84859427372, doi=None), Reference(scopus_id=81355147565, doi=None), Reference(scopus_id=80053102126, doi=None), Reference(scopus_id=80051774000, doi=None), Reference(scopus_id=84988958512, doi=None), Reference(scopus_id=85044391219, doi=None), Reference(scopus_id=24344462909, doi=None), Reference(scopus_id=3584577, doi=None), Reference(scopus_id=84889583172, doi=None), Reference(scopus_id=35478854, doi=None), Reference(scopus_id=84960373831, doi=None), Reference(scopus_id=34548309577, doi=None), Reference(scopus_id=22268746, doi=None), Reference(scopus_id=78651435852, doi=None), Reference(scopus_id=85020827725, doi=None), Reference(scopus_id=85052088926, doi=None), Reference(scopus_id=6344285791, doi=None), Reference(scopus_id=85044658027, doi=None), Reference(scopus_id=84979577965, doi=None), Reference(scopus_id=84884736368, doi=None), Reference(scopus_id=84952637041, doi=None), Reference(scopus_id=35882614, doi=None), Reference(scopus_id=85010461564, doi=None), Reference(scopus_id=85049597309, doi=None), Reference(scopus_id=85061133701, doi=None), Reference(scopus_id=84894079117, doi=None), Reference(scopus_id=84962670222, doi=None), Reference(scopus_id=84920647571, doi=None), Reference(scopus_id=84904479640, doi=None), Reference(scopus_id=1442315675, doi=None), Reference(scopus_id=85076539804, doi=None), Reference(scopus_id=85076570016, doi=None), Reference(scopus_id=85054976416, doi=None), Reference(scopus_id=30453414, doi=None), Reference(scopus_id=36889265, doi=None), Reference(scopus_id=85019696054, doi=None), Reference(scopus_id=85053623996, doi=None), Reference(scopus_id=84875549888, doi=None), Reference(scopus_id=84975467201, doi=None), Reference(scopus_id=84887105216, doi=None), Reference(scopus_id=18465733, doi=None), Reference(scopus_id=28979145, doi=None), Reference(scopus_id=85014282191, doi=None), Reference(scopus_id=13544271825, doi=None), Reference(scopus_id=85017612753, doi=None), Reference(scopus_id=85040688083, doi=None), Reference(scopus_id=32644445913, doi=None), Reference(scopus_id=45849107933, doi=None), Reference(scopus_id=85047018973, doi=None), Reference(scopus_id=85048430301, doi=None), Reference(scopus_id=37549009133, doi=None), Reference(scopus_id=85032195573, doi=None)}), pub_name='Remote Sensing', pub_issn_print='20724292', pub_issn_electronic='20724292'),\n",
       " PaperInfo(iter_depth=1, title='Multi-agent-based deep reinforcement learning for dynamic flexible job shop scheduling', authors='Burggraf, P.; Wagner, J.; Sassmannshausen, T.; Ohrndorf, D.; Subramani, K.', year=2022, scopus_id=85142641283, doi='10.1016/j.procir.2022.09.024', eid='2-s2.0-85142641283', scopus_url='https://www.scopus.com/inward/record.uri?partnerID=HzOxMe3b&scp=85142641283&origin=inward', refs=frozenset({Reference(scopus_id=80052599299, doi=None), Reference(scopus_id=84924051598, doi=None), Reference(scopus_id=85033220241, doi=None), Reference(scopus_id=85006977169, doi=None), Reference(scopus_id=62615, doi=None), Reference(scopus_id=11782937, doi=None), Reference(scopus_id=85037711258, doi=None), Reference(scopus_id=85086023968, doi=None), Reference(scopus_id=85069455009, doi=None), Reference(scopus_id=85047343776, doi=None), Reference(scopus_id=85098452259, doi=None), Reference(scopus_id=85045954603, doi=None), Reference(scopus_id=84858039096, doi=None), Reference(scopus_id=84955268797, doi=None), Reference(scopus_id=79958814014, doi=None), Reference(scopus_id=84887752256, doi=None), Reference(scopus_id=85062645569, doi=None), Reference(scopus_id=85092429250, doi=None), Reference(scopus_id=84855188930, doi=None), Reference(scopus_id=85064129348, doi=None), Reference(scopus_id=1700171, doi=None), Reference(scopus_id=49049085902, doi=None), Reference(scopus_id=4102479, doi=None), Reference(scopus_id=85064568143, doi=None), Reference(scopus_id=84963949906, doi=None), Reference(scopus_id=242703954, doi=None), Reference(scopus_id=70449405011, doi=None), Reference(scopus_id=85081140568, doi=None), Reference(scopus_id=85086989016, doi=None), Reference(scopus_id=84892234592, doi=None), Reference(scopus_id=85007277410, doi=None), Reference(scopus_id=84904867557, doi=None), Reference(scopus_id=85115247335, doi=None), Reference(scopus_id=3994089, doi=None), Reference(scopus_id=85150601069, doi=None), Reference(scopus_id=85142662765, doi=None), Reference(scopus_id=79952595565, doi=None), Reference(scopus_id=85065424368, doi=None), Reference(scopus_id=85092428020, doi=None), Reference(scopus_id=34247493236, doi=None), Reference(scopus_id=85142615799, doi=None), Reference(scopus_id=85084170875, doi=None), Reference(scopus_id=85051004796, doi=None)}), pub_name='Procedia CIRP', pub_issn_print='22128271', pub_issn_electronic=None),\n",
       " PaperInfo(iter_depth=1, title='Multi-objective Q-learning-based hyper-heuristic with Bi-criteria selection for energy-aware mixed shop scheduling', authors='Cheng, L.; Tang, Q.; Zhang, L.; Zhang, Z.', year=2022, scopus_id=85116050767, doi='10.1016/j.swevo.2021.100985', eid='2-s2.0-85116050767', scopus_url='https://www.scopus.com/inward/record.uri?partnerID=HzOxMe3b&scp=85116050767&origin=inward', refs=frozenset({Reference(scopus_id=85085079809, doi=None), Reference(scopus_id=85043974532, doi=None), Reference(scopus_id=85089189893, doi=None), Reference(scopus_id=85105598974, doi=None), Reference(scopus_id=85040683143, doi=None), Reference(scopus_id=85106507015, doi=None), Reference(scopus_id=85057195027, doi=None), Reference(scopus_id=85099173787, doi=None), Reference(scopus_id=85085726495, doi=None), Reference(scopus_id=84958124577, doi=None), Reference(scopus_id=85087895969, doi=None), Reference(scopus_id=33874723, doi=None), Reference(scopus_id=85088221350, doi=None), Reference(scopus_id=85078474536, doi=None), Reference(scopus_id=84958619818, doi=None), Reference(scopus_id=79960535211, doi=None), Reference(scopus_id=85077169836, doi=None), Reference(scopus_id=85055716784, doi=None), Reference(scopus_id=84906313266, doi=None), Reference(scopus_id=84938579890, doi=None), Reference(scopus_id=85116038198, doi=None), Reference(scopus_id=84990902457, doi=None), Reference(scopus_id=85091482432, doi=None), Reference(scopus_id=85042369089, doi=None), Reference(scopus_id=85077704906, doi=None), Reference(scopus_id=85064260427, doi=None), Reference(scopus_id=33318858, doi=None), Reference(scopus_id=85073021007, doi=None), Reference(scopus_id=85069718865, doi=None), Reference(scopus_id=84888031698, doi=None), Reference(scopus_id=85074404693, doi=None), Reference(scopus_id=85085065815, doi=None), Reference(scopus_id=84960091479, doi=None), Reference(scopus_id=84949730651, doi=None), Reference(scopus_id=85068216160, doi=None), Reference(scopus_id=84938564711, doi=None), Reference(scopus_id=85067798381, doi=None), Reference(scopus_id=85072043121, doi=None), Reference(scopus_id=85084133618, doi=None), Reference(scopus_id=85046738546, doi=None), Reference(scopus_id=85068254581, doi=None), Reference(scopus_id=85073690614, doi=None), Reference(scopus_id=38612858, doi=None), Reference(scopus_id=85076245628, doi=None), Reference(scopus_id=85071935102, doi=None)}), pub_name='Swarm and Evolutionary Computation', pub_issn_print='22106502', pub_issn_electronic=None),\n",
       " PaperInfo(iter_depth=1, title='Neural combinatorial optimization with reinforcement learning', authors='Bello, I.; Pham, H.; Le, Q.V.; Norouzi, M.; Bengio, S.', year=2017, scopus_id=85140424199, doi=None, eid='2-s2.0-85140424199', scopus_url='https://www.scopus.com/inward/record.uri?partnerID=HzOxMe3b&scp=85140424199&origin=inward', refs=frozenset({Reference(scopus_id=85071126113, doi=None), Reference(scopus_id=85071134884, doi=None), Reference(scopus_id=337576, doi=None), Reference(scopus_id=34301999, doi=None), Reference(scopus_id=84941620184, doi=None), Reference(scopus_id=36348942008, doi=None), Reference(scopus_id=84965173945, doi=None), Reference(scopus_id=31573117, doi=None)}), pub_name='5th International Conference on Learning Representations, ICLR 2017 - Workshop Track Proceedings', pub_issn_print=None, pub_issn_electronic=None),\n",
       " PaperInfo(iter_depth=1, title='Newer classification and regression tree techniques: Bagging and random forests for ecological prediction', authors='Prasad, A.M.; Iverson, L.R.; Liaw, A.', year=2006, scopus_id=33645330972, doi='10.1007/s10021-005-0054-1', eid='2-s2.0-33645330972', scopus_url='https://www.scopus.com/inward/record.uri?partnerID=HzOxMe3b&scp=33645330972&origin=inward', refs=frozenset({Reference(scopus_id=36333063, doi=None), Reference(scopus_id=25925641, doi=None), Reference(scopus_id=37202445, doi=None), Reference(scopus_id=32467477, doi=None), Reference(scopus_id=3724822, doi=None), Reference(scopus_id=202263, doi=None), Reference(scopus_id=3724825, doi=None), Reference(scopus_id=33645333276, doi=None), Reference(scopus_id=1706015, doi=None), Reference(scopus_id=29667616, doi=None), Reference(scopus_id=36080160, doi=None), Reference(scopus_id=11996706, doi=None), Reference(scopus_id=3516711, doi=None), Reference(scopus_id=34249973556, doi=None), Reference(scopus_id=2432565, doi=None), Reference(scopus_id=37380148, doi=None), Reference(scopus_id=2342614840, doi=None), Reference(scopus_id=84855622715, doi=None), Reference(scopus_id=33645378107, doi=None), Reference(scopus_id=34755134, doi=None), Reference(scopus_id=31823937, doi=None), Reference(scopus_id=35478854, doi=None), Reference(scopus_id=32212038, doi=None), Reference(scopus_id=28555592, doi=None), Reference(scopus_id=38445129, doi=None), Reference(scopus_id=347630157, doi=None), Reference(scopus_id=13321815, doi=None), Reference(scopus_id=36164188, doi=None), Reference(scopus_id=84957875042, doi=None), Reference(scopus_id=1842734178, doi=None), Reference(scopus_id=346656880, doi=None), Reference(scopus_id=345548657, doi=None), Reference(scopus_id=33645336185, doi=None), Reference(scopus_id=30211964, doi=None), Reference(scopus_id=41249092227, doi=None), Reference(scopus_id=345472131, doi=None), Reference(scopus_id=30973828, doi=None), Reference(scopus_id=33645331088, doi=None), Reference(scopus_id=84863304598, doi=None), Reference(scopus_id=3643116698, doi=None), Reference(scopus_id=31089564, doi=None), Reference(scopus_id=10044271264, doi=None), Reference(scopus_id=27091362, doi=None), Reference(scopus_id=33645337254, doi=None), Reference(scopus_id=26359465, doi=None), Reference(scopus_id=4269485, doi=None), Reference(scopus_id=242288813, doi=None), Reference(scopus_id=43289776, doi=None), Reference(scopus_id=33948857, doi=None), Reference(scopus_id=1640389, doi=None), Reference(scopus_id=38276039, doi=None), Reference(scopus_id=32280519, doi=None), Reference(scopus_id=4054215, doi=None), Reference(scopus_id=343303373, doi=None), Reference(scopus_id=4140497, doi=None), Reference(scopus_id=35125969, doi=None), Reference(scopus_id=4191449, doi=None), Reference(scopus_id=33749212, doi=None), Reference(scopus_id=35273693, doi=None), Reference(scopus_id=10972644, doi=None), Reference(scopus_id=29478629, doi=None), Reference(scopus_id=3802343, doi=None), Reference(scopus_id=28555495, doi=None), Reference(scopus_id=345040873, doi=None), Reference(scopus_id=58149321460, doi=None), Reference(scopus_id=33847164405, doi=None), Reference(scopus_id=33082620, doi=None), Reference(scopus_id=3942654, doi=None)}), pub_name='Ecosystems', pub_issn_print='14329840', pub_issn_electronic='14350629'),\n",
       " PaperInfo(iter_depth=1, title='Nondestructive in situ measurement method for kernel moisture content in corn ear', authors='Zhang, H.-L.; Ma, Q.; Fan, L.-F.; Zhao, P.-F.; Wang, J.-X.; Zhang, X.-D.; Zhu, D.-H.; Huang, L.; Zhao, D.-J.; Wang, Z.-Y.', year=2016, scopus_id=85007047126, doi='10.3390/s16122196', eid='2-s2.0-85007047126', scopus_url='https://www.scopus.com/inward/record.uri?partnerID=HzOxMe3b&scp=85007047126&origin=inward', refs=frozenset({Reference(scopus_id=38249042052, doi=None), Reference(scopus_id=37049241220, doi=None), Reference(scopus_id=85007081284, doi=None), Reference(scopus_id=84923281732, doi=None), Reference(scopus_id=84861644999, doi=None), Reference(scopus_id=6344220042, doi=None), Reference(scopus_id=84904198091, doi=None), Reference(scopus_id=85007074554, doi=None), Reference(scopus_id=85007083789, doi=None), Reference(scopus_id=66349095503, doi=None), Reference(scopus_id=30944466832, doi=None), Reference(scopus_id=77958002256, doi=None), Reference(scopus_id=85007096401, doi=None), Reference(scopus_id=38749150995, doi=None), Reference(scopus_id=84939856918, doi=None), Reference(scopus_id=47649131865, doi=None), Reference(scopus_id=343710242, doi=None), Reference(scopus_id=84891424610, doi=None), Reference(scopus_id=85007114983, doi=None), Reference(scopus_id=85007065455, doi=None), Reference(scopus_id=84961998000, doi=None), Reference(scopus_id=85007132149, doi=None), Reference(scopus_id=4099829, doi=None), Reference(scopus_id=347879223, doi=None), Reference(scopus_id=84870234297, doi=None), Reference(scopus_id=84863979450, doi=None), Reference(scopus_id=84877991677, doi=None)}), pub_name='Sensors (Switzerland)', pub_issn_print='14248220', pub_issn_electronic=None),\n",
       " PaperInfo(iter_depth=1, title='Nondestructive measurement of husk-covered corn kernel layer dynamic moisture content in the field', authors='Fan, L.-F.; Chai, Z.-Q.; Zhao, P.-F.; Tian, Z.-F.; Wen, S.-Q.; Li, S.-M.; Wang, Z.-Y.; Huang, L.', year=2021, scopus_id=85100649129, doi='10.1016/j.compag.2021.106034', eid='2-s2.0-85100649129', scopus_url='https://www.scopus.com/inward/record.uri?partnerID=HzOxMe3b&scp=85100649129&origin=inward', refs=frozenset({Reference(scopus_id=85100652484, doi=None), Reference(scopus_id=84895859077, doi=None), Reference(scopus_id=84993946059, doi=None), Reference(scopus_id=79958071052, doi=None), Reference(scopus_id=85100635024, doi=None), Reference(scopus_id=77958002256, doi=None), Reference(scopus_id=84862823698, doi=None), Reference(scopus_id=85092703701, doi=None), Reference(scopus_id=85007047126, doi=None), Reference(scopus_id=20444398873, doi=None), Reference(scopus_id=18844438812, doi=None), Reference(scopus_id=343710242, doi=None), Reference(scopus_id=84963763363, doi=None), Reference(scopus_id=345344611, doi=None), Reference(scopus_id=85100640484, doi=None), Reference(scopus_id=18182888, doi=None), Reference(scopus_id=22028969, doi=None), Reference(scopus_id=85065651434, doi=None), Reference(scopus_id=85059334635, doi=None), Reference(scopus_id=84896455725, doi=None), Reference(scopus_id=864367, doi=None), Reference(scopus_id=84961998000, doi=None), Reference(scopus_id=84855588018, doi=None), Reference(scopus_id=51849090099, doi=None), Reference(scopus_id=78650470388, doi=None), Reference(scopus_id=85063219573, doi=None), Reference(scopus_id=84902596790, doi=None), Reference(scopus_id=84866519607, doi=None), Reference(scopus_id=84919578680, doi=None), Reference(scopus_id=79958264511, doi=None)}), pub_name='Computers and Electronics in Agriculture', pub_issn_print='01681699', pub_issn_electronic=None),\n",
       " PaperInfo(iter_depth=1, title='Particle swarm optimization combined with tabu search in a multi-agent model for flexible job shop problem', authors='Henchiri, A.; Ennigrou, M.', year=2013, scopus_id=84884895145, doi='10.1007/978-3-642-38715-9_46', eid='2-s2.0-84884895145', scopus_url='https://www.scopus.com/inward/record.uri?partnerID=HzOxMe3b&scp=84884895145&origin=inward', refs=frozenset({Reference(scopus_id=33751381442, doi=None), Reference(scopus_id=51649093095, doi=None), Reference(scopus_id=34250084648, doi=None), Reference(scopus_id=84884880651, doi=None), Reference(scopus_id=29535737, doi=None), Reference(scopus_id=16952078, doi=None), Reference(scopus_id=84939481711, doi=None), Reference(scopus_id=37201140, doi=None), Reference(scopus_id=62615, doi=None), Reference(scopus_id=36464279, doi=None), Reference(scopus_id=42261208, doi=None), Reference(scopus_id=2577337, doi=None), Reference(scopus_id=78649330971, doi=None), Reference(scopus_id=22865373, doi=None), Reference(scopus_id=67349174559, doi=None)}), pub_name='Lecture Notes in Computer Science (including subseries Lecture Notes in Artificial Intelligence and Lecture Notes in Bioinformatics)', pub_issn_print='03029743', pub_issn_electronic='16113349'),\n",
       " PaperInfo(iter_depth=1, title='Prediction of shear strength of soft soil using machine learning methods', authors='Pham, B.T.; Son, L.H.; Hoang, T.-A.; Nguyen, D.-M.; Tien, Bui, D.', year=2018, scopus_id=85045042295, doi='10.1016/j.catena.2018.04.004', eid='2-s2.0-85045042295', scopus_url='https://www.scopus.com/inward/record.uri?partnerID=HzOxMe3b&scp=85045042295&origin=inward', refs=frozenset({Reference(scopus_id=84863412225, doi=None), Reference(scopus_id=36749010178, doi=None), Reference(scopus_id=85019976451, doi=None), Reference(scopus_id=61749101060, doi=None), Reference(scopus_id=84879884293, doi=None), Reference(scopus_id=84954357383, doi=None), Reference(scopus_id=84930154888, doi=None), Reference(scopus_id=85042303883, doi=None), Reference(scopus_id=85019592596, doi=None), Reference(scopus_id=78649632791, doi=None), Reference(scopus_id=84975882651, doi=None), Reference(scopus_id=85036647324, doi=None), Reference(scopus_id=84879886878, doi=None), Reference(scopus_id=60549115430, doi=None), Reference(scopus_id=58749102246, doi=None), Reference(scopus_id=4152616, doi=None), Reference(scopus_id=84995482286, doi='10.1007/s00521-016-2666-0'), Reference(scopus_id=84994829871, doi=None), Reference(scopus_id=84959251377, doi=None), Reference(scopus_id=84903707571, doi=None), Reference(scopus_id=84928138163, doi=None), Reference(scopus_id=56349089205, doi=None), Reference(scopus_id=84988014388, doi=None), Reference(scopus_id=30157621, doi=None), Reference(scopus_id=84955471032, doi=None), Reference(scopus_id=84995790139, doi=None), Reference(scopus_id=84992200256, doi=None), Reference(scopus_id=84903747008, doi=None), Reference(scopus_id=85041459267, doi=None), Reference(scopus_id=80052035781, doi=None), Reference(scopus_id=85045054921, doi=None), Reference(scopus_id=84967316681, doi=None), Reference(scopus_id=77955473867, doi=None), Reference(scopus_id=84902668495, doi=None), Reference(scopus_id=85037678293, doi=None), Reference(scopus_id=84859212245, doi=None), Reference(scopus_id=84961200859, doi=None), Reference(scopus_id=34224993, doi=None), Reference(scopus_id=42284513, doi=None), Reference(scopus_id=45449118697, doi=None), Reference(scopus_id=4111339, doi=None), Reference(scopus_id=85013032174, doi=None), Reference(scopus_id=85041613553, doi=None), Reference(scopus_id=77954309362, doi=None), Reference(scopus_id=84947996277, doi=None), Reference(scopus_id=41549100153, doi=None), Reference(scopus_id=84992492922, doi=None), Reference(scopus_id=64349106046, doi=None)}), pub_name='Catena', pub_issn_print='03418162', pub_issn_electronic=None),\n",
       " PaperInfo(iter_depth=1, title='Problem feature based meta-heuristics with Q-learning for solving urban traffic light scheduling problems', authors='Wang, L.; Gao, K.; Lin, Z.; Huang, W.; Suganthan, P.N.', year=2023, scopus_id=85168798576, doi='10.1016/j.asoc.2023.110714', eid='2-s2.0-85168798576', scopus_url='https://www.scopus.com/inward/record.uri?partnerID=HzOxMe3b&scp=85168798576&origin=inward', refs=frozenset({Reference(scopus_id=85080950535, doi=None), Reference(scopus_id=85119257867, doi=None), Reference(scopus_id=85122644877, doi='10.1016/j.asoc.2021.108371'), Reference(scopus_id=34249833101, doi=None), Reference(scopus_id=85135499919, doi=None), Reference(scopus_id=84957921553, doi='10.1016/j.swevo.2016.01.005'), Reference(scopus_id=85127898516, doi=None), Reference(scopus_id=84940054935, doi='10.5267/j.ijiec.2015.8.004'), Reference(scopus_id=85122359451, doi='10.1109/TITS.2020.3008612'), Reference(scopus_id=28481056, doi='10.1016/0191-2615(94)90002-7'), Reference(scopus_id=1778086, doi=None), Reference(scopus_id=84896503080, doi='10.1016/j.eswa.2014.01.040'), Reference(scopus_id=85142775083, doi='10.1109/TSMC.2022.3219380'), Reference(scopus_id=85050956976, doi='10.1109/TITS.2018.2852646'), Reference(scopus_id=84922531248, doi='10.1016/j.asoc.2015.01.050'), Reference(scopus_id=85143523123, doi=None), Reference(scopus_id=85129380788, doi='10.1109/TCYB.2022.3164165'), Reference(scopus_id=84944811700, doi=None), Reference(scopus_id=84962016566, doi='10.1109/CDC.2015.7402642'), Reference(scopus_id=85092356796, doi='10.1186/s12544-020-00439-1'), Reference(scopus_id=85133924544, doi='10.1007/s40747-019-00122-6'), Reference(scopus_id=85147857728, doi=None), Reference(scopus_id=84865862850, doi='10.1016/j.compstruc.2012.07.010'), Reference(scopus_id=84855806275, doi='10.1016/j.engappai.2011.04.011'), Reference(scopus_id=85102971584, doi='10.1016/j.ins.2021.02.039'), Reference(scopus_id=77955551173, doi='10.1016/j.ejor.2010.05.018'), Reference(scopus_id=33646268618, doi=None), Reference(scopus_id=28803659, doi='10.1016/0191-2615(94)00022-R'), Reference(scopus_id=85056297804, doi='10.1109/TITS.2018.2873790'), Reference(scopus_id=345880144, doi='10.1016/S0968-090X(97)00012-0'), Reference(scopus_id=85120415569, doi=None), Reference(scopus_id=34974417, doi='10.1177/003754970107600201'), Reference(scopus_id=85130351571, doi=None), Reference(scopus_id=85104630868, doi='10.26599/TST.2021.9010009'), Reference(scopus_id=85071308630, doi='10.1109/CEC.2019.8790035.37'), Reference(scopus_id=1813590, doi=None), Reference(scopus_id=85071628502, doi='10.1016/j.ins.2019.08.069'), Reference(scopus_id=85104583771, doi='10.26599/TST.2021.9010007'), Reference(scopus_id=85122395997, doi=None), Reference(scopus_id=85160559965, doi=None), Reference(scopus_id=40349096800, doi='10.1109/TEVC.2007.892765'), Reference(scopus_id=85159155552, doi=None), Reference(scopus_id=35148827874, doi=None), Reference(scopus_id=3653217, doi=None), Reference(scopus_id=85114905825, doi=None), Reference(scopus_id=84979649254, doi='10.1016/j.asoc.2016.07.029'), Reference(scopus_id=85124252392, doi=None), Reference(scopus_id=85086500203, doi='10.1016/j.swevo.2020.100719'), Reference(scopus_id=85067798381, doi='10.1109/JAS.2019.1911540'), Reference(scopus_id=85059046766, doi='10.1109/TCYB.2018.2817240'), Reference(scopus_id=85124395120, doi='10.23919/CSMS.2021.0027'), Reference(scopus_id=84961161712, doi='10.1007/s10845-014-0869-8'), Reference(scopus_id=85019555832, doi='10.1016/j.swevo.2017.05.002'), Reference(scopus_id=85105598974, doi=None), Reference(scopus_id=85106231807, doi='10.1016/j.asoc.2021.107464.26')}), pub_name='Applied Soft Computing', pub_issn_print='15684946', pub_issn_electronic=None),\n",
       " PaperInfo(iter_depth=1, title='Production scheduling in the context of Industry 4.0: review and trends', authors='Parente, M.; Figueira, G.; Amorim, P.; Marques, A.', year=2020, scopus_id=85079242819, doi='10.1080/00207543.2020.1718794', eid='2-s2.0-85079242819', scopus_url='https://www.scopus.com/inward/record.uri?partnerID=HzOxMe3b&scp=85079242819&origin=inward', refs=frozenset({Reference(scopus_id=76549113337, doi='10.1016/j.cie.2009.03.008'), Reference(scopus_id=85050649870, doi=None), Reference(scopus_id=85028066841, doi=None), Reference(scopus_id=85017030686, doi='10.1080/0951192X.2017.1307524'), Reference(scopus_id=85037656862, doi='10.1016/j.cjche.2017.09.010'), Reference(scopus_id=85033555232, doi=None), Reference(scopus_id=84881018915, doi='10.3182/20120905-3-HR-2030.00084'), Reference(scopus_id=85079213095, doi=None), Reference(scopus_id=85060309543, doi=None), Reference(scopus_id=84860482345, doi='10.1016/j.comcom.2011.08.008'), Reference(scopus_id=312362, doi='10.1080/09511929408944622'), Reference(scopus_id=85079228205, doi=None), Reference(scopus_id=85089608494, doi=None), Reference(scopus_id=77951147055, doi='10.1287/opre.1090.0744'), Reference(scopus_id=77952595250, doi='10.1108/17410381011046571'), Reference(scopus_id=85029856051, doi='10.1016/j.promfg.2017.07.303'), Reference(scopus_id=85044055607, doi='10.1177/0278364916688255'), Reference(scopus_id=85044452668, doi=None), Reference(scopus_id=85017151806, doi='10.1016/j.ejor.2017.03.022'), Reference(scopus_id=85017101376, doi='10.1016/j.cie.2017.03.027'), Reference(scopus_id=85020758083, doi='10.1016/j.procir.2016.06.113'), Reference(scopus_id=85052115780, doi='10.1080/00207543.2018.1470695'), Reference(scopus_id=85029868361, doi='10.1016/j.promfg.2017.07.187'), Reference(scopus_id=85089608266, doi=None), Reference(scopus_id=84992398667, doi='10.1016/j.compind.2016.09.006'), Reference(scopus_id=85062971981, doi='10.1109/ACCESS.2019.2900117'), Reference(scopus_id=84923091277, doi='10.1016/j.procir.2014.05.004'), Reference(scopus_id=84930512464, doi=None), Reference(scopus_id=84969847889, doi='10.1080/0951192X.2016.1187297'), Reference(scopus_id=85067096913, doi='10.1016/j.promfg.2018.12.027'), Reference(scopus_id=85037555027, doi='10.1016/j.asoc.2017.12.009'), Reference(scopus_id=85038817876, doi='10.1016/j.mfglet.2017.12.005'), Reference(scopus_id=85045669203, doi='10.1016/j.procs.2018.01.089'), Reference(scopus_id=85028015443, doi='10.1007/s10845-017-1350-2'), Reference(scopus_id=84946236249, doi=None), Reference(scopus_id=85017598809, doi='10.1109/ACCESS.2016.2616366'), Reference(scopus_id=85030838875, doi=None), Reference(scopus_id=84953851227, doi='10.1016/j.ifacol.2015.06.115'), Reference(scopus_id=85044514649, doi=None), Reference(scopus_id=85112595293, doi='10.24840/2183-0606_003.004_0003'), Reference(scopus_id=84886772575, doi='10.1016/j.rcim.2013.01.005'), Reference(scopus_id=85020713056, doi='10.1016/j.procir.2017.01.003'), Reference(scopus_id=85049584481, doi='10.1016/j.procir.2018.04.007'), Reference(scopus_id=85119219042, doi=None), Reference(scopus_id=84958581089, doi=None), Reference(scopus_id=84905408361, doi=None), Reference(scopus_id=85064005739, doi='10.1080/00207543.2018.1444806'), Reference(scopus_id=85058478443, doi='10.1109/TII.2018.2882741'), Reference(scopus_id=85041567084, doi='10.1016/B978-0-444-63965-3.50381-0'), Reference(scopus_id=85079246446, doi=None), Reference(scopus_id=84941662063, doi='10.1016/j.compind.2015.08.004'), Reference(scopus_id=84988600944, doi='10.1016/j.comnet.2016.08.004'), Reference(scopus_id=85044869744, doi='10.1016/j.jclepro.2018.02.061'), Reference(scopus_id=84908690034, doi='10.1109/TASE.2013.2274099'), Reference(scopus_id=84953887599, doi='10.1016/j.ifacol.2015.06.304'), Reference(scopus_id=84929412724, doi='10.1016/j.compchemeng.2014.09.002'), Reference(scopus_id=84973363316, doi=None), Reference(scopus_id=85046843510, doi='10.1016/j.jmsy.2018.05.008'), Reference(scopus_id=85052156788, doi=None), Reference(scopus_id=85006995064, doi='10.1016/j.procir.2016.11.036'), Reference(scopus_id=84946403702, doi=None), Reference(scopus_id=85034223226, doi='10.1007/s40747-017-0036-x'), Reference(scopus_id=85035004796, doi='10.1016/j.proeng.2017.03.135'), Reference(scopus_id=85048029054, doi='10.1109/TII.2018.2843811'), Reference(scopus_id=85029564804, doi=None), Reference(scopus_id=85172568971, doi=None), Reference(scopus_id=77957790861, doi='10.1016/j.ijpe.2010.06.004'), Reference(scopus_id=85040743821, doi='10.1016/J.ENG.2017.05.015'), Reference(scopus_id=84863701904, doi='10.1016/j.autcon.2012.05.007'), Reference(scopus_id=85060756114, doi='10.1016/j.jestch.2019.01.006'), Reference(scopus_id=85044791956, doi=None), Reference(scopus_id=85006986651, doi='10.1016/j.ifacol.2016.11.052'), Reference(scopus_id=84990841502, doi='10.1016/j.cirp.2016.06.005'), Reference(scopus_id=85028639646, doi='10.1016/j.procir.2017.03.116'), Reference(scopus_id=85172059810, doi=None), Reference(scopus_id=84989352355, doi=None), Reference(scopus_id=84992416934, doi='10.1016/j.ifacol.2016.07.879'), Reference(scopus_id=85069926569, doi=None), Reference(scopus_id=85079240619, doi='10.1109/TII.2019.2916622'), Reference(scopus_id=85040736945, doi='10.1016/J.ENG.2017.04.009'), Reference(scopus_id=85006965426, doi='10.1016/j.procir.2016.11.008'), Reference(scopus_id=33750480564, doi='10.1016/j.aei.2006.05.004'), Reference(scopus_id=85020176052, doi=None), Reference(scopus_id=85063689140, doi='10.1109/TII.2019.2899679'), Reference(scopus_id=85061315510, doi=None), Reference(scopus_id=3867065, doi=None), Reference(scopus_id=85018292153, doi=None), Reference(scopus_id=85054911931, doi='10.1613/jair.1.11233'), Reference(scopus_id=84994071229, doi='10.1016/j.procir.2016.02.002'), Reference(scopus_id=85077495742, doi='10.1109/TII.2019.2906061'), Reference(scopus_id=84923294657, doi='10.1016/j.procir.2014.10.024'), Reference(scopus_id=84939817666, doi='10.1016/j.eij.2015.07.001'), Reference(scopus_id=85009982914, doi='10.1016/j.jss.2017.01.004'), Reference(scopus_id=85068618692, doi='10.1109/TII.2019.2908210'), Reference(scopus_id=85048004038, doi='10.1109/TII.2018.2843802'), Reference(scopus_id=85055168966, doi=None), Reference(scopus_id=85017154503, doi='10.1007/s10710-017-9300-5'), Reference(scopus_id=84955677643, doi='10.1080/00207543.2014.999958'), Reference(scopus_id=85028593103, doi='10.15623/ijret.2016.0509001'), Reference(scopus_id=84887752143, doi=None), Reference(scopus_id=84904464337, doi=None), Reference(scopus_id=85018499538, doi='10.1016/j.compind.2017.04.002'), Reference(scopus_id=35358169, doi=None), Reference(scopus_id=85079220954, doi=None), Reference(scopus_id=84883027422, doi='10.1137/100811970'), Reference(scopus_id=85061450467, doi=None), Reference(scopus_id=84899127785, doi=None), Reference(scopus_id=70149094122, doi='10.1016/j.engappai.2008.09.005'), Reference(scopus_id=84953897450, doi='10.1016/j.ifacol.2015.06.318'), Reference(scopus_id=85079236844, doi=None), Reference(scopus_id=85060874220, doi='10.1080/00207543.2018.1442948'), Reference(scopus_id=84945182701, doi='10.1504/IJCNDS.2015.070976'), Reference(scopus_id=85038399981, doi='10.1109/ACCESS.2017.2780321'), Reference(scopus_id=85079218156, doi=None), Reference(scopus_id=85029881585, doi='10.1016/j.promfg.2017.07.293'), Reference(scopus_id=85020727793, doi='10.1016/j.procir.2016.06.021'), Reference(scopus_id=84940889587, doi='10.1016/j.ejor.2015.06.058'), Reference(scopus_id=78651420151, doi=None), Reference(scopus_id=85172626425, doi=None), Reference(scopus_id=85079233019, doi=None), Reference(scopus_id=85079239677, doi=None)}), pub_name='International Journal of Production Research', pub_issn_print='00207543', pub_issn_electronic='1366588X'),\n",
       " PaperInfo(iter_depth=1, title='Public Opinion Dissemination with Incomplete Information on Social Network: A Study Based on the Infectious Diseases Model and Game Theory', authors='Wu, B.; Yuan, T.; Qi, Y.; Dong, M.', year=2021, scopus_id=85126962616, doi='10.23919/CSMS.2021.0008', eid='2-s2.0-85126962616', scopus_url='https://www.scopus.com/inward/record.uri?partnerID=HzOxMe3b&scp=85126962616&origin=inward', refs=frozenset({Reference(scopus_id=85092623488, doi=None), Reference(scopus_id=85033370240, doi=None), Reference(scopus_id=85062382603, doi=None), Reference(scopus_id=85090421390, doi=None), Reference(scopus_id=85034094479, doi=None), Reference(scopus_id=85035234575, doi=None), Reference(scopus_id=85081170454, doi=None), Reference(scopus_id=85166432921, doi=None), Reference(scopus_id=84908501281, doi=None), Reference(scopus_id=85107135138, doi=None), Reference(scopus_id=85062632740, doi=None), Reference(scopus_id=84896816552, doi=None), Reference(scopus_id=84964270249, doi=None), Reference(scopus_id=85049595050, doi=None), Reference(scopus_id=85083084083, doi=None), Reference(scopus_id=85073095476, doi=None), Reference(scopus_id=84975887157, doi=None), Reference(scopus_id=84963778744, doi=None), Reference(scopus_id=85093672635, doi='10.1016/j.im.2020.103371'), Reference(scopus_id=85076835132, doi=None), Reference(scopus_id=85098159934, doi=None), Reference(scopus_id=85063675714, doi=None), Reference(scopus_id=85089508679, doi=None), Reference(scopus_id=85064077395, doi=None), Reference(scopus_id=85022084694, doi=None), Reference(scopus_id=85086628318, doi=None), Reference(scopus_id=84959421663, doi=None), Reference(scopus_id=84952628831, doi=None), Reference(scopus_id=84927597921, doi=None), Reference(scopus_id=85084942947, doi=None), Reference(scopus_id=85138977511, doi='10.1016/j.micpro.2020.103413'), Reference(scopus_id=85076547563, doi=None), Reference(scopus_id=85070194157, doi=None), Reference(scopus_id=85017523950, doi=None), Reference(scopus_id=85056357618, doi=None), Reference(scopus_id=85045247734, doi=None), Reference(scopus_id=84959344381, doi=None), Reference(scopus_id=85076860415, doi=None)}), pub_name='Complex System Modeling and Simulation', pub_issn_print='20969929', pub_issn_electronic=None),\n",
       " PaperInfo(iter_depth=1, title='Random forest models to predict aqueous solubility', authors=\"Palmer, D.S.; O'Boyle, N.M.; Glen, R.C.; Mitchell, J.B.O.\", year=2007, scopus_id=33846856225, doi='10.1021/ci060164k', eid='2-s2.0-33846856225', scopus_url='https://www.scopus.com/inward/record.uri?partnerID=HzOxMe3b&scp=33846856225&origin=inward', refs=frozenset({Reference(scopus_id=2442648065, doi=None), Reference(scopus_id=33846891907, doi=None), Reference(scopus_id=32841864, doi=None), Reference(scopus_id=41731599, doi=None), Reference(scopus_id=23844525967, doi=None), Reference(scopus_id=35526162, doi=None), Reference(scopus_id=777374, doi=None), Reference(scopus_id=42202919, doi=None), Reference(scopus_id=85055802162, doi=None), Reference(scopus_id=35263415, doi=None), Reference(scopus_id=33748618807, doi=None), Reference(scopus_id=85128251194, doi=None), Reference(scopus_id=13544270908, doi=None), Reference(scopus_id=37361981, doi=None), Reference(scopus_id=33846889407, doi=None), Reference(scopus_id=1645890, doi=None), Reference(scopus_id=35478854, doi=None), Reference(scopus_id=10044263240, doi=None), Reference(scopus_id=2942741325, doi=None), Reference(scopus_id=33846875981, doi=None), Reference(scopus_id=3042549719, doi=None), Reference(scopus_id=35498340, doi=None), Reference(scopus_id=28444445926, doi=None), Reference(scopus_id=3802343, doi=None), Reference(scopus_id=42549102184, doi=None), Reference(scopus_id=345040873, doi=None), Reference(scopus_id=3798635, doi=None), Reference(scopus_id=4043112686, doi=None), Reference(scopus_id=345548657, doi=None), Reference(scopus_id=2942704243, doi=None), Reference(scopus_id=1542635893, doi=None), Reference(scopus_id=345548663, doi=None), Reference(scopus_id=1308921, doi=None), Reference(scopus_id=28467707, doi=None), Reference(scopus_id=33747183101, doi=None), Reference(scopus_id=33846865918, doi=None)}), pub_name='Journal of Chemical Information and Modeling', pub_issn_print='15499596', pub_issn_electronic='1549960X'),\n",
       " PaperInfo(iter_depth=1, title='Reinforcement Learning based scheduling in a workflow management system', authors='Kintsakis, A.M.; Psomopoulos, F.E.; Mitkas, P.A.', year=2019, scopus_id=85062096277, doi='10.1016/j.engappai.2019.02.013', eid='2-s2.0-85062096277', scopus_url='https://www.scopus.com/inward/record.uri?partnerID=HzOxMe3b&scp=85062096277&origin=inward', refs=frozenset({Reference(scopus_id=84887848457, doi=None), Reference(scopus_id=85062076431, doi=None), Reference(scopus_id=85062110609, doi=None), Reference(scopus_id=84869029267, doi=None), Reference(scopus_id=4217877, doi=None), Reference(scopus_id=85062068887, doi=None), Reference(scopus_id=84877276569, doi=None), Reference(scopus_id=33947504537, doi=None), Reference(scopus_id=32591261, doi=None), Reference(scopus_id=84957965865, doi=None), Reference(scopus_id=84947576233, doi=None), Reference(scopus_id=85048872243, doi=None), Reference(scopus_id=84961291190, doi=None), Reference(scopus_id=84965173945, doi=None), Reference(scopus_id=84941874233, doi=None), Reference(scopus_id=77954336571, doi=None), Reference(scopus_id=84922389693, doi=None), Reference(scopus_id=84939817666, doi=None), Reference(scopus_id=16518855, doi=None), Reference(scopus_id=24138827, doi=None), Reference(scopus_id=84924505165, doi=None), Reference(scopus_id=84941620184, doi=None), Reference(scopus_id=84882310107, doi=None), Reference(scopus_id=85045563109, doi=None), Reference(scopus_id=85101445097, doi=None), Reference(scopus_id=84879557098, doi=None), Reference(scopus_id=42449163370, doi=None), Reference(scopus_id=85046347373, doi=None), Reference(scopus_id=5924596, doi=None), Reference(scopus_id=33646040949, doi=None), Reference(scopus_id=84928547704, doi=None), Reference(scopus_id=85017469177, doi=None), Reference(scopus_id=31573117, doi=None), Reference(scopus_id=85034575102, doi=None), Reference(scopus_id=29644434815, doi=None)}), pub_name='Engineering Applications of Artificial Intelligence', pub_issn_print='09521976', pub_issn_electronic=None),\n",
       " PaperInfo(iter_depth=1, title='Reinforcement learning for solving the vehicle routing problem', authors='Nazari, M.; Oroojlooy, A.; Takac, M.; Snyder, L.V.', year=2018, scopus_id=85064833116, doi=None, eid='2-s2.0-85064833116', scopus_url='https://www.scopus.com/inward/record.uri?partnerID=HzOxMe3b&scp=85064833116&origin=inward', refs=frozenset({Reference(scopus_id=85047000455, doi=None), Reference(scopus_id=33102347, doi=None), Reference(scopus_id=419596, doi=None), Reference(scopus_id=84954360461, doi=None), Reference(scopus_id=84924051598, doi=None), Reference(scopus_id=84988676748, doi=None), Reference(scopus_id=33644515988, doi=None), Reference(scopus_id=85083953689, doi=None), Reference(scopus_id=84888584603, doi=None), Reference(scopus_id=58649092639, doi=None), Reference(scopus_id=41791136, doi=None), Reference(scopus_id=26444479778, doi=None), Reference(scopus_id=41154467, doi=None), Reference(scopus_id=84867028133, doi=None), Reference(scopus_id=85030676136, doi=None), Reference(scopus_id=84888590252, doi=None), Reference(scopus_id=3522094, doi=None), Reference(scopus_id=84959874994, doi=None), Reference(scopus_id=84924259507, doi=None), Reference(scopus_id=84961291190, doi=None), Reference(scopus_id=84970002232, doi=None), Reference(scopus_id=85021804857, doi=None), Reference(scopus_id=84965173945, doi=None), Reference(scopus_id=15401408, doi=None), Reference(scopus_id=26874435, doi=None), Reference(scopus_id=84877784772, doi=None), Reference(scopus_id=85034435404, doi=None), Reference(scopus_id=85050461901, doi=None), Reference(scopus_id=1454173, doi=None), Reference(scopus_id=84992107105, doi=None), Reference(scopus_id=77956317028, doi=None), Reference(scopus_id=85083951076, doi=None), Reference(scopus_id=85046347373, doi=None), Reference(scopus_id=84986262382, doi=None), Reference(scopus_id=84986274543, doi=None), Reference(scopus_id=84959255406, doi=None), Reference(scopus_id=84862277874, doi=None), Reference(scopus_id=84971448181, doi=None), Reference(scopus_id=84928547704, doi=None), Reference(scopus_id=84941211770, doi=None)}), pub_name='Advances in Neural Information Processing Systems', pub_issn_print='10495258', pub_issn_electronic=None),\n",
       " PaperInfo(iter_depth=1, title='Research on adaptive job shop scheduling problems based on dueling double DQN', authors='Han, B.-A.; Yang, J.-J.', year=2020, scopus_id=85100138902, doi='10.1109/ACCESS.2020.3029868', eid='2-s2.0-85100138902', scopus_url='https://www.scopus.com/inward/record.uri?partnerID=HzOxMe3b&scp=85100138902&origin=inward', refs=frozenset({Reference(scopus_id=84890099969, doi=None), Reference(scopus_id=1442285828, doi='10.1016/j.cie.2003.09.007'), Reference(scopus_id=24125703, doi='10.1109/ICNN.1988.23940'), Reference(scopus_id=85102785799, doi=None), Reference(scopus_id=86539, doi=None), Reference(scopus_id=81555208210, doi='10.1016/j.cor.2011.07.019'), Reference(scopus_id=85053618197, doi='10.1080/00207543.2018.1524165'), Reference(scopus_id=84952931350, doi=None), Reference(scopus_id=84996520725, doi=None), Reference(scopus_id=84995610393, doi='10.1002/int.21868'), Reference(scopus_id=31198746, doi='10.1109/70.611301'), Reference(scopus_id=4944253466, doi='10.1016/j.rcim.2004.07.003'), Reference(scopus_id=26126118, doi='10.1287/ijoc.3.2.149'), Reference(scopus_id=85058463787, doi='10.1007/s10489-018-1343-7'), Reference(scopus_id=85020267564, doi='10.1016/j.techfore.2017.05.028'), Reference(scopus_id=84902933040, doi='10.1007/s10845-014-0936-1'), Reference(scopus_id=23977010, doi='10.1287/mnsc.34.3.391'), Reference(scopus_id=85056868663, doi='10.1007/s10462-018-9667-6'), Reference(scopus_id=84893676344, doi=None), Reference(scopus_id=78650684480, doi='10.1016/j.eswa.2010.08.139'), Reference(scopus_id=77956877124, doi='10.1016/j.comnet.2010.05.010'), Reference(scopus_id=84896493385, doi='10.1016/j.ejor.2013.12.011'), Reference(scopus_id=84962494026, doi='10.1109/tsm.2015.2511798'), Reference(scopus_id=37448778, doi='10.1016/s0377-2217(02)00205-9'), Reference(scopus_id=84930195789, doi='10.1016/j.cie.2015.04.029'), Reference(scopus_id=4102479, doi=None), Reference(scopus_id=85029144914, doi='10.1016/j.cie.2017.09.005'), Reference(scopus_id=11244271955, doi=None), Reference(scopus_id=84964923476, doi=None), Reference(scopus_id=85082982231, doi='10.1109/tii.2019.2947539'), Reference(scopus_id=85063462750, doi=None), Reference(scopus_id=21496929, doi='10.1287/mnsc.30.9.1093'), Reference(scopus_id=84958581089, doi='10.1155/2016/3159805'), Reference(scopus_id=85006308713, doi='10.2501/ija-33-1-181-183'), Reference(scopus_id=85102831994, doi=None), Reference(scopus_id=85084170875, doi='10.1109/ACCESS.2020.2987820'), Reference(scopus_id=34748843393, doi='10.1007/s00170-006-0662-8'), Reference(scopus_id=85042585736, doi='10.1155/2017/1527858'), Reference(scopus_id=85007210890, doi=None), Reference(scopus_id=85056321676, doi='10.1007/s10845-018-1454-3'), Reference(scopus_id=84924051598, doi='10.1038/nature14236'), Reference(scopus_id=35452563, doi='10.1016/s0305-0548(00)00018-6'), Reference(scopus_id=85078047642, doi='10.1109/access.2019.2938773'), Reference(scopus_id=37849189535, doi='10.1016/j.ijpe.2004.05.027'), Reference(scopus_id=84973897631, doi=None), Reference(scopus_id=85034041252, doi='10.1016/j.resconrec.2016.12.001'), Reference(scopus_id=85048890789, doi=None), Reference(scopus_id=85070541991, doi='10.1016/j.ifacol.2019.06.067'), Reference(scopus_id=2381223, doi='10.1287/opre.17.6.941'), Reference(scopus_id=34325416, doi='10.1016/S0921-8890(00)00087-7'), Reference(scopus_id=84955070122, doi='10.1016/j.tcs.2016.01.001'), Reference(scopus_id=85019975083, doi='10.1016/j.cie.2017.05.026'), Reference(scopus_id=49649119406, doi=None), Reference(scopus_id=84882456750, doi='10.1080/00207543.2011.579637'), Reference(scopus_id=40849126576, doi='10.1007/s10845-008-0073-9'), Reference(scopus_id=84987602359, doi='10.1007/s12652-016-0370-7'), Reference(scopus_id=85037150653, doi='10.1016/j.asoc.2017.11.020'), Reference(scopus_id=25261504, doi='10.1109/HICSS.1990.205276'), Reference(scopus_id=10844274625, doi='10.1016/j.engappai.2004.08.018'), Reference(scopus_id=85020126914, doi='10.1145/3065386'), Reference(scopus_id=85068618692, doi='10.1109/tii.2019.2908210'), Reference(scopus_id=50149101510, doi='10.1016/j.asoc.2007.11.005'), Reference(scopus_id=84861974217, doi='10.1080/1369118x.2012.678878'), Reference(scopus_id=84922454987, doi='10.1016/j.ins.2014.11.036'), Reference(scopus_id=84962137547, doi='10.1016/j.cie.2016.03.011'), Reference(scopus_id=19744380110, doi='10.1016/j.simpat.2004.12.003'), Reference(scopus_id=34447284944, doi='10.1016/j.cie.2007.04.006'), Reference(scopus_id=1947856, doi=None), Reference(scopus_id=26930899, doi='10.1287/mnsc.38.10.1495'), Reference(scopus_id=67650227926, doi='10.1007/s00170-008-1588-0'), Reference(scopus_id=84857855190, doi=None), Reference(scopus_id=84997050331, doi=None), Reference(scopus_id=84992449505, doi='10.1016/j.ejor.2016.07.030'), Reference(scopus_id=418020, doi='10.1016/s0377-2217(97)00019-2'), Reference(scopus_id=84904867557, doi=None), Reference(scopus_id=77957689068, doi='10.1016/j.tcs.2010.08.008'), Reference(scopus_id=54449086192, doi='10.1016/j.cor.2008.01.007'), Reference(scopus_id=33646130420, doi=None), Reference(scopus_id=5544297208, doi='10.1287/moor.1040.0092'), Reference(scopus_id=27201278, doi=None)}), pub_name='IEEE Access', pub_issn_print='21693536', pub_issn_electronic='21693536'),\n",
       " PaperInfo(iter_depth=1, title='Review of job shop scheduling research and its new perspectives under Industry 4.0', authors='Zhang, J.; Ding, G.; Zou, Y.; Qin, S.; Fu, J.', year=2019, scopus_id=85028015443, doi='10.1007/s10845-017-1350-2', eid='2-s2.0-85028015443', scopus_url='https://www.scopus.com/inward/record.uri?partnerID=HzOxMe3b&scp=85028015443&origin=inward', refs=frozenset({Reference(scopus_id=3807234, doi=None), Reference(scopus_id=36672003, doi=None), Reference(scopus_id=77952709893, doi=None), Reference(scopus_id=5013512, doi=None), Reference(scopus_id=84961737225, doi=None), Reference(scopus_id=84869415435, doi=None), Reference(scopus_id=9544220684, doi=None), Reference(scopus_id=23944514061, doi=None), Reference(scopus_id=3142744590, doi=None), Reference(scopus_id=3142732812, doi=None), Reference(scopus_id=84947021837, doi=None), Reference(scopus_id=70450219535, doi='10.1007/978-3-642-04441-0_8'), Reference(scopus_id=84945387789, doi='10.1007/978-3-658-05014-6_2'), Reference(scopus_id=16952078, doi=None), Reference(scopus_id=20699921, doi=None), Reference(scopus_id=84906948885, doi=None), Reference(scopus_id=30246423, doi=None), Reference(scopus_id=18744404504, doi=None), Reference(scopus_id=84999271450, doi=None), Reference(scopus_id=2642529311, doi=None), Reference(scopus_id=84960193567, doi='10.1109/CEIT.2015.7232991'), Reference(scopus_id=26444479778, doi=None), Reference(scopus_id=77649234984, doi=None), Reference(scopus_id=85014770219, doi=None), Reference(scopus_id=74849084464, doi=None), Reference(scopus_id=23977010, doi=None), Reference(scopus_id=77949494068, doi='10.1109/ISDA.2009.49'), Reference(scopus_id=84870055990, doi=None), Reference(scopus_id=32592184, doi=None), Reference(scopus_id=84872968255, doi='10.1109/IECON.2012.6389511'), Reference(scopus_id=84862798145, doi=None), Reference(scopus_id=85019915331, doi=None), Reference(scopus_id=22023671, doi=None), Reference(scopus_id=62549162821, doi=None), Reference(scopus_id=33750249032, doi=None), Reference(scopus_id=84959375095, doi=None), Reference(scopus_id=29535737, doi='10.1007/978-0-387-30164-8_630'), Reference(scopus_id=84867870798, doi=None), Reference(scopus_id=84953874512, doi=None), Reference(scopus_id=32091985, doi=None), Reference(scopus_id=67349149522, doi=None), Reference(scopus_id=85018772051, doi=None), Reference(scopus_id=1235540, doi=None), Reference(scopus_id=78751555157, doi='10.1109/ICSMC.2010.5642451'), Reference(scopus_id=518993, doi=None), Reference(scopus_id=84954314072, doi='10.1007/s10845-016-1194-1'), Reference(scopus_id=33750696025, doi=None), Reference(scopus_id=37116761, doi=None), Reference(scopus_id=79960566619, doi=None), Reference(scopus_id=84897492572, doi=None), Reference(scopus_id=85047335517, doi='10.1007/s10845-015-1090-0'), Reference(scopus_id=85106767967, doi='10.1007/s10845-015-1091-z'), Reference(scopus_id=22290019, doi=None), Reference(scopus_id=84975454820, doi='10.1109/HICSS.2016.488'), Reference(scopus_id=85020779876, doi='10.2507/IJSIMM16(2)CO6'), Reference(scopus_id=3710566, doi=None), Reference(scopus_id=84907737959, doi=None), Reference(scopus_id=46149093736, doi=None), Reference(scopus_id=84952864376, doi=None), Reference(scopus_id=27574649, doi=None), Reference(scopus_id=85053643131, doi=None), Reference(scopus_id=84901451644, doi=None), Reference(scopus_id=3732093, doi=None), Reference(scopus_id=4215426, doi=None), Reference(scopus_id=16511108, doi=None), Reference(scopus_id=85016472708, doi='10.1016/j.cie.2017.03.006'), Reference(scopus_id=84961285765, doi=None), Reference(scopus_id=84874822533, doi=None), Reference(scopus_id=3935111, doi=None), Reference(scopus_id=84992212876, doi=None), Reference(scopus_id=3949709, doi=None), Reference(scopus_id=2442583184, doi=None), Reference(scopus_id=85012158613, doi='10.1155/2017/9016303'), Reference(scopus_id=33748706709, doi=None), Reference(scopus_id=84922120859, doi='10.1007/s10845-015-1039-3'), Reference(scopus_id=14044268702, doi=None), Reference(scopus_id=84994115489, doi=None), Reference(scopus_id=150948, doi=None), Reference(scopus_id=70349577894, doi=None), Reference(scopus_id=25840039, doi='10.1109/ROBOT.1991.131689'), Reference(scopus_id=84958619818, doi=None), Reference(scopus_id=34548613299, doi=None), Reference(scopus_id=84962723763, doi='10.1007/978-3-319-32467-8_102'), Reference(scopus_id=22060981, doi=None), Reference(scopus_id=84901189560, doi=None), Reference(scopus_id=84924117177, doi=None), Reference(scopus_id=31997369, doi=None), Reference(scopus_id=2400184, doi=None), Reference(scopus_id=84941910461, doi=None), Reference(scopus_id=24050622, doi=None), Reference(scopus_id=20168384, doi=None), Reference(scopus_id=84988816834, doi=None), Reference(scopus_id=33881797, doi=None), Reference(scopus_id=84969195207, doi='10.1142/S1793962316500240'), Reference(scopus_id=3075019, doi='10.1002/nav.3800010110/epdf'), Reference(scopus_id=3401932, doi=None), Reference(scopus_id=33283788, doi=None), Reference(scopus_id=84960120780, doi=None), Reference(scopus_id=3853519, doi=None), Reference(scopus_id=34447284944, doi=None), Reference(scopus_id=85063175630, doi='10.2991/978-94-6239-102-4_21'), Reference(scopus_id=242301653, doi=None), Reference(scopus_id=11725015, doi=None), Reference(scopus_id=33446619, doi=None), Reference(scopus_id=19585243, doi=None), Reference(scopus_id=237789, doi=None), Reference(scopus_id=3605214, doi=None), Reference(scopus_id=84862908638, doi=None), Reference(scopus_id=31625693, doi='10.1109/ROBOT.1998.680634'), Reference(scopus_id=22865373, doi=None), Reference(scopus_id=84865247709, doi=None), Reference(scopus_id=79325, doi=None), Reference(scopus_id=84870920678, doi=None), Reference(scopus_id=84929643242, doi='10.1007/978-3-319-17509-6_3'), Reference(scopus_id=84871717100, doi=None), Reference(scopus_id=40970477, doi=None), Reference(scopus_id=84941626604, doi=None), Reference(scopus_id=24122608, doi='10.1109/ICNN.1988.23939'), Reference(scopus_id=25144491255, doi=None), Reference(scopus_id=84948740857, doi=None), Reference(scopus_id=42430207, doi=None)}), pub_name='Journal of Intelligent Manufacturing', pub_issn_print='09565515', pub_issn_electronic='15728145'),\n",
       " PaperInfo(iter_depth=1, title='Review of machine learning approaches for biomass and soil moisture retrievals from remote sensing data', authors='Ali, I.; Greifeneder, F.; Stamenkovic, J.; Neumann, M.; Notarnicola, C.', year=2015, scopus_id=84962670222, doi='10.3390/rs71215841', eid='2-s2.0-84962670222', scopus_url='https://www.scopus.com/inward/record.uri?partnerID=HzOxMe3b&scp=84962670222&origin=inward', refs=frozenset({Reference(scopus_id=84882741253, doi=None), Reference(scopus_id=61849178148, doi=None), Reference(scopus_id=17444453925, doi=None), Reference(scopus_id=78249231399, doi=None), Reference(scopus_id=84901609512, doi=None), Reference(scopus_id=84962655274, doi=None), Reference(scopus_id=33748030511, doi=None), Reference(scopus_id=77952549937, doi=None), Reference(scopus_id=76049083444, doi=None), Reference(scopus_id=4544387641, doi=None), Reference(scopus_id=84861846073, doi=None), Reference(scopus_id=33461820, doi=None), Reference(scopus_id=67349273670, doi=None), Reference(scopus_id=84858716754, doi=None), Reference(scopus_id=30736980, doi=None), Reference(scopus_id=32712789, doi=None), Reference(scopus_id=3713624, doi=None), Reference(scopus_id=84855435874, doi=None), Reference(scopus_id=41449108067, doi=None), Reference(scopus_id=84962761828, doi=None), Reference(scopus_id=34478693, doi=None), Reference(scopus_id=84889632357, doi=None), Reference(scopus_id=84862860392, doi=None), Reference(scopus_id=4143117935, doi=None), Reference(scopus_id=84861890165, doi=None), Reference(scopus_id=84855970934, doi=None), Reference(scopus_id=38606455, doi=None), Reference(scopus_id=80255137400, doi=None), Reference(scopus_id=37394558, doi=None), Reference(scopus_id=84962698879, doi=None), Reference(scopus_id=55949135487, doi=None), Reference(scopus_id=33846939265, doi=None), Reference(scopus_id=29276291, doi=None), Reference(scopus_id=84922699397, doi=None), Reference(scopus_id=53849118855, doi=None), Reference(scopus_id=4045453, doi=None), Reference(scopus_id=38149120654, doi=None), Reference(scopus_id=84904060559, doi=None), Reference(scopus_id=77956892823, doi=None), Reference(scopus_id=34247491224, doi=None), Reference(scopus_id=36613786, doi=None), Reference(scopus_id=84898649754, doi=None), Reference(scopus_id=81755173018, doi=None), Reference(scopus_id=36148893, doi=None), Reference(scopus_id=84876770463, doi=None), Reference(scopus_id=84886287521, doi=None), Reference(scopus_id=2942532259, doi=None), Reference(scopus_id=84857916067, doi=None), Reference(scopus_id=141570723, doi=None), Reference(scopus_id=84860281509, doi=None), Reference(scopus_id=66149165735, doi=None), Reference(scopus_id=84962709160, doi=None), Reference(scopus_id=84962739368, doi=None), Reference(scopus_id=84855905962, doi=None), Reference(scopus_id=26897582, doi=None), Reference(scopus_id=3450542, doi=None), Reference(scopus_id=26835122, doi=None), Reference(scopus_id=84962689205, doi=None), Reference(scopus_id=1242331320, doi=None), Reference(scopus_id=46149126847, doi=None), Reference(scopus_id=85027946179, doi=None), Reference(scopus_id=84911430341, doi=None), Reference(scopus_id=77449131719, doi=None), Reference(scopus_id=31344449225, doi=None), Reference(scopus_id=79551684301, doi=None), Reference(scopus_id=84860650702, doi=None), Reference(scopus_id=33646702801, doi=None), Reference(scopus_id=85010540243, doi=None), Reference(scopus_id=84962677461, doi=None), Reference(scopus_id=35426008, doi=None), Reference(scopus_id=32644445913, doi=None), Reference(scopus_id=84893945050, doi=None), Reference(scopus_id=31228124, doi=None), Reference(scopus_id=84908440807, doi=None), Reference(scopus_id=78049234152, doi=None), Reference(scopus_id=84857941233, doi=None), Reference(scopus_id=79952825592, doi=None), Reference(scopus_id=34655487, doi=None), Reference(scopus_id=84888050432, doi=None), Reference(scopus_id=61349168387, doi=None), Reference(scopus_id=34247324422, doi=None), Reference(scopus_id=84873118986, doi=None), Reference(scopus_id=84911369482, doi=None), Reference(scopus_id=3432723, doi=None), Reference(scopus_id=38802715, doi=None), Reference(scopus_id=44949287707, doi=None), Reference(scopus_id=35148867868, doi=None), Reference(scopus_id=84907101982, doi=None), Reference(scopus_id=84894376735, doi=None), Reference(scopus_id=84899855654, doi=None), Reference(scopus_id=84880317742, doi=None), Reference(scopus_id=40749097778, doi=None), Reference(scopus_id=85040870710, doi=None), Reference(scopus_id=84880431429, doi=None), Reference(scopus_id=84884514639, doi=None), Reference(scopus_id=37649011032, doi=None), Reference(scopus_id=84891690842, doi=None), Reference(scopus_id=37300063, doi=None), Reference(scopus_id=80955172709, doi=None), Reference(scopus_id=84876317031, doi=None), Reference(scopus_id=84893640041, doi=None), Reference(scopus_id=19061101, doi=None), Reference(scopus_id=84864512878, doi=None), Reference(scopus_id=84887421296, doi=None), Reference(scopus_id=71649099637, doi=None), Reference(scopus_id=84855442313, doi=None), Reference(scopus_id=33644526990, doi=None), Reference(scopus_id=85049961365, doi=None), Reference(scopus_id=84962634653, doi=None), Reference(scopus_id=84876952993, doi=None), Reference(scopus_id=77950924202, doi=None), Reference(scopus_id=84897108395, doi=None), Reference(scopus_id=84875505078, doi=None), Reference(scopus_id=1842431418, doi=None), Reference(scopus_id=80054912956, doi=None), Reference(scopus_id=84877298110, doi=None), Reference(scopus_id=84887072711, doi=None), Reference(scopus_id=84906945992, doi=None), Reference(scopus_id=84862200782, doi=None), Reference(scopus_id=80255131087, doi=None), Reference(scopus_id=84919824337, doi=None), Reference(scopus_id=79957608914, doi=None), Reference(scopus_id=36875220, doi=None), Reference(scopus_id=79955164123, doi=None), Reference(scopus_id=84882853340, doi=None), Reference(scopus_id=38349098973, doi=None), Reference(scopus_id=32166364, doi=None), Reference(scopus_id=47587, doi=None), Reference(scopus_id=21644260, doi=None), Reference(scopus_id=84870015974, doi=None), Reference(scopus_id=33744799210, doi=None), Reference(scopus_id=84897378292, doi=None), Reference(scopus_id=84864187384, doi=None), Reference(scopus_id=37103612, doi=None), Reference(scopus_id=71649098237, doi=None)}), pub_name='Remote Sensing', pub_issn_print='20724292', pub_issn_electronic='20724292'),\n",
       " PaperInfo(iter_depth=1, title='Scheduling Dual-Objective Stochastic Hybrid Flow Shop with Deteriorating Jobs via Bi-Population Evolutionary Algorithm', authors='Fu, Y.; Zhou, M.; Guo, X.; Qi, L.', year=2020, scopus_id=85096785100, doi='10.1109/TSMC.2019.2907575', eid='2-s2.0-85096785100', scopus_url='https://www.scopus.com/inward/record.uri?partnerID=HzOxMe3b&scp=85096785100&origin=inward', refs=frozenset({Reference(scopus_id=37936618, doi=None), Reference(scopus_id=34249042307, doi=None), Reference(scopus_id=84887023875, doi=None), Reference(scopus_id=3438602, doi=None), Reference(scopus_id=34548108555, doi=None), Reference(scopus_id=84922507918, doi=None), Reference(scopus_id=85040030226, doi='10.1007/s10845-017-1385-4'), Reference(scopus_id=85033375770, doi=None), Reference(scopus_id=85014639386, doi=None), Reference(scopus_id=84896400157, doi=None), Reference(scopus_id=85009987616, doi='10.1109/TASE.2016.2631491'), Reference(scopus_id=84979072417, doi=None), Reference(scopus_id=24137249, doi=None), Reference(scopus_id=84867973795, doi=None), Reference(scopus_id=84455194528, doi=None), Reference(scopus_id=84949810338, doi=None), Reference(scopus_id=85027721650, doi=None), Reference(scopus_id=78049233716, doi=None), Reference(scopus_id=84979818933, doi=None), Reference(scopus_id=84949976759, doi=None), Reference(scopus_id=85017619768, doi=None), Reference(scopus_id=84876186809, doi=None), Reference(scopus_id=84973545274, doi=None), Reference(scopus_id=84859894716, doi=None), Reference(scopus_id=85029161024, doi='10.1109/TEVC.2017.2749619'), Reference(scopus_id=85042369089, doi=None), Reference(scopus_id=85066271683, doi='10.1109/TETCI.2018.2812897'), Reference(scopus_id=84857640516, doi=None), Reference(scopus_id=84906565061, doi=None), Reference(scopus_id=85021693513, doi=None), Reference(scopus_id=85048035402, doi='10.1007/s10845-018-1425-8'), Reference(scopus_id=25429963, doi=None), Reference(scopus_id=40249102027, doi=None), Reference(scopus_id=85037555027, doi=None), Reference(scopus_id=36530772, doi=None), Reference(scopus_id=84962828758, doi=None), Reference(scopus_id=84937830999, doi=None), Reference(scopus_id=84916943064, doi=None), Reference(scopus_id=84892825821, doi=None), Reference(scopus_id=84953367902, doi=None), Reference(scopus_id=85039786079, doi='10.1109/TEVC.2017.2785351'), Reference(scopus_id=85027922529, doi=None), Reference(scopus_id=84937789542, doi=None), Reference(scopus_id=85029187303, doi=None), Reference(scopus_id=84995530344, doi=None), Reference(scopus_id=85038840298, doi=None), Reference(scopus_id=84930088042, doi=None), Reference(scopus_id=84962881516, doi=None), Reference(scopus_id=85019027946, doi=None), Reference(scopus_id=38149101038, doi=None), Reference(scopus_id=84967332843, doi=None), Reference(scopus_id=84962109552, doi=None), Reference(scopus_id=85050569834, doi='10.1007/s10479-018-2969-x'), Reference(scopus_id=85042596335, doi=None), Reference(scopus_id=84928153331, doi=None), Reference(scopus_id=85027923444, doi=None), Reference(scopus_id=84951909365, doi=None), Reference(scopus_id=55749105522, doi=None), Reference(scopus_id=85032450555, doi='10.1109/TEVC.2017.2767023'), Reference(scopus_id=85057331452, doi='10.1080/17517575.2018.1545160'), Reference(scopus_id=84900861694, doi=None), Reference(scopus_id=84944088831, doi=None)}), pub_name='IEEE Transactions on Systems, Man, and Cybernetics: Systems', pub_issn_print='21682216', pub_issn_electronic='21682232'),\n",
       " PaperInfo(iter_depth=1, title='Scheduling Eight-Phase Urban Traffic Light Problems via Ensemble Meta-Heuristics and Q-Learning Based Local Search', authors='Lin, Z.; Gao, K.; Wu, N.; Suganthan, P.N.', year=2023, scopus_id=85168257744, doi='10.1109/TITS.2023.3296387', eid='2-s2.0-85168257744', scopus_url='https://www.scopus.com/inward/record.uri?partnerID=HzOxMe3b&scp=85168257744&origin=inward', refs=frozenset({Reference(scopus_id=85132353408, doi='10.1109/TITS.2022.3173490'), Reference(scopus_id=49049097473, doi='10.1016/j.trb.2008.02.002'), Reference(scopus_id=85178518277, doi=None), Reference(scopus_id=85093925258, doi='10.1155/2020/1462430'), Reference(scopus_id=84920759434, doi='10.1002/atr.1274'), Reference(scopus_id=85142842635, doi='10.1109/TITS.2022.3221107'), Reference(scopus_id=85065490061, doi='10.1016/j.swevo.2019.04.007'), Reference(scopus_id=85122644877, doi='10.1016/j.asoc.2021.108371'), Reference(scopus_id=85039705878, doi='10.1016/j.matcom.2017.12.003'), Reference(scopus_id=85063334294, doi='10.3233/jifs-18077'), Reference(scopus_id=85020181273, doi='10.3846/16484142.2017.1285813'), Reference(scopus_id=85119609114, doi=None), Reference(scopus_id=85121963804, doi='10.5772/intechopen.99395'), Reference(scopus_id=4135071, doi=None), Reference(scopus_id=28481056, doi=None), Reference(scopus_id=26114207, doi='10.1109/25.69966'), Reference(scopus_id=84925063720, doi='10.1016/j.trc.2015.03.010'), Reference(scopus_id=85054377641, doi='10.1109/tits.2018.2868728'), Reference(scopus_id=85019975083, doi='10.1016/j.cie.2017.05.026'), Reference(scopus_id=85142775083, doi='10.1109/TSMC.2022.3219380'), Reference(scopus_id=85109132717, doi='10.1007/s13177-021-00262-5'), Reference(scopus_id=85060504369, doi='10.5539/mas.v10n11p131'), Reference(scopus_id=85174425521, doi=None), Reference(scopus_id=85129380788, doi='10.1109/TCYB.2022.3164165'), Reference(scopus_id=20444466485, doi='10.1016/j.cma.2004.09.007'), Reference(scopus_id=80054958010, doi='10.1109/MCI.2011.942584'), Reference(scopus_id=85092356796, doi='10.1186/s12544-020-00439-1'), Reference(scopus_id=85115192638, doi='10.1109/ACCESS.2021.3112600'), Reference(scopus_id=85133924544, doi='10.1007/s40747-019-00122-6'), Reference(scopus_id=85056297804, doi='10.1109/tits.2018.2873790'), Reference(scopus_id=84871566926, doi='10.4018/ijsir.2011100103'), Reference(scopus_id=85116050767, doi='10.1016/j.swevo.2021.100985'), Reference(scopus_id=85104630868, doi='10.26599/TST.2021.9010009'), Reference(scopus_id=33845534549, doi='10.1109/TITS.2006.884617'), Reference(scopus_id=85112626646, doi='10.1007/s00521-021-06341-8'), Reference(scopus_id=85122395997, doi='10.1109/tits.2020.3014296'), Reference(scopus_id=84908428384, doi='10.1016/j.eswa.2014.09.003'), Reference(scopus_id=35148827874, doi=None), Reference(scopus_id=85043591138, doi='10.1109/ICISIM.2017.8122193'), Reference(scopus_id=85137582306, doi='10.1109/TCYB.2022.3192112'), Reference(scopus_id=84979649254, doi='10.1016/j.asoc.2016.07.029'), Reference(scopus_id=85051265384, doi='10.1016/j.procs.2018.04.008'), Reference(scopus_id=344236266, doi='10.1145/937503.937505'), Reference(scopus_id=85086500203, doi='10.1016/j.swevo.2020.100719'), Reference(scopus_id=85117246316, doi='10.1016/j.eswa.2021.115978'), Reference(scopus_id=85067798381, doi='10.1109/jas.2019.1911540'), Reference(scopus_id=85124395120, doi='10.23919/CSMS.2021.0027'), Reference(scopus_id=85019555832, doi='10.1016/j.swevo.2017.05.002'), Reference(scopus_id=29535737, doi=None)}), pub_name='IEEE Transactions on Intelligent Transportation Systems', pub_issn_print='15249050', pub_issn_electronic='15580016'),\n",
       " PaperInfo(iter_depth=1, title='Significant remote sensing vegetation indices: A review of developments and applications', authors='Xue, J.; Su, B.', year=2017, scopus_id=85021707297, doi='10.1155/2017/1353691', eid='2-s2.0-85021707297', scopus_url='https://www.scopus.com/inward/record.uri?partnerID=HzOxMe3b&scp=85021707297&origin=inward', refs=frozenset({Reference(scopus_id=84960108549, doi=None), Reference(scopus_id=36400648, doi=None), Reference(scopus_id=18586129, doi=None), Reference(scopus_id=41249092628, doi=None), Reference(scopus_id=24165401, doi=None), Reference(scopus_id=84938697243, doi=None), Reference(scopus_id=8742941, doi=None), Reference(scopus_id=84982253598, doi=None), Reference(scopus_id=153126, doi=None), Reference(scopus_id=77952262183, doi=None), Reference(scopus_id=84867869228, doi=None), Reference(scopus_id=85040276012, doi=None), Reference(scopus_id=26305589, doi=None), Reference(scopus_id=26305591, doi=None), Reference(scopus_id=34447545912, doi=None), Reference(scopus_id=25573434, doi=None), Reference(scopus_id=84983628352, doi=None), Reference(scopus_id=30303302, doi=None), Reference(scopus_id=84996477511, doi=None), Reference(scopus_id=84867871816, doi=None), Reference(scopus_id=84965162569, doi=None), Reference(scopus_id=29132359, doi=None), Reference(scopus_id=85007485518, doi=None), Reference(scopus_id=27644598352, doi=None), Reference(scopus_id=27788368, doi=None), Reference(scopus_id=85021734482, doi=None), Reference(scopus_id=85016029779, doi=None), Reference(scopus_id=3413073, doi=None), Reference(scopus_id=84925852758, doi=None), Reference(scopus_id=84892503131, doi=None), Reference(scopus_id=84899786846, doi=None), Reference(scopus_id=84867638367, doi=None), Reference(scopus_id=84962580578, doi=None), Reference(scopus_id=29275243, doi=None), Reference(scopus_id=28833901, doi=None), Reference(scopus_id=80054686319, doi=None), Reference(scopus_id=36323440, doi=None), Reference(scopus_id=84964285560, doi=None), Reference(scopus_id=84855428733, doi=None), Reference(scopus_id=28150408, doi=None), Reference(scopus_id=33045130, doi=None), Reference(scopus_id=84888206490, doi=None), Reference(scopus_id=35140762, doi=None), Reference(scopus_id=32317096, doi=None), Reference(scopus_id=30136491, doi=None), Reference(scopus_id=32431277, doi=None), Reference(scopus_id=30231725, doi=None), Reference(scopus_id=2942608560, doi=None), Reference(scopus_id=79960561338, doi=None), Reference(scopus_id=28431038, doi=None), Reference(scopus_id=84983759039, doi=None), Reference(scopus_id=84887105216, doi=None), Reference(scopus_id=24856777, doi=None), Reference(scopus_id=32207561, doi=None), Reference(scopus_id=84896137428, doi=None), Reference(scopus_id=35413205, doi=None), Reference(scopus_id=36323544, doi=None), Reference(scopus_id=25589465, doi=None), Reference(scopus_id=27444446, doi=None), Reference(scopus_id=17700063, doi=None), Reference(scopus_id=36215007, doi=None), Reference(scopus_id=85021724391, doi=None), Reference(scopus_id=17242348, doi=None), Reference(scopus_id=84922022637, doi=None), Reference(scopus_id=85021737709, doi=None), Reference(scopus_id=84941181679, doi=None), Reference(scopus_id=28683505, doi=None), Reference(scopus_id=85003815666, doi=None), Reference(scopus_id=77955925235, doi=None), Reference(scopus_id=84856610548, doi=None), Reference(scopus_id=84908058355, doi=None), Reference(scopus_id=28815095, doi=None), Reference(scopus_id=32815356, doi=None), Reference(scopus_id=33406206, doi=None), Reference(scopus_id=31665923, doi=None), Reference(scopus_id=70249093892, doi=None), Reference(scopus_id=28971783, doi=None), Reference(scopus_id=84877927692, doi=None), Reference(scopus_id=73649123596, doi=None), Reference(scopus_id=84868629775, doi=None), Reference(scopus_id=83055180048, doi=None), Reference(scopus_id=24192784, doi=None), Reference(scopus_id=32801044, doi=None), Reference(scopus_id=27788565, doi=None), Reference(scopus_id=55949083421, doi=None), Reference(scopus_id=25198881, doi=None), Reference(scopus_id=27063079, doi=None), Reference(scopus_id=35031849, doi=None), Reference(scopus_id=505137, doi=None), Reference(scopus_id=28975409, doi=None), Reference(scopus_id=85084992311, doi=None), Reference(scopus_id=33004343, doi=None), Reference(scopus_id=36846393, doi=None), Reference(scopus_id=84905728828, doi=None), Reference(scopus_id=84872762173, doi=None), Reference(scopus_id=33746572112, doi=None), Reference(scopus_id=84865679185, doi=None), Reference(scopus_id=26835285, doi=None), Reference(scopus_id=25573211, doi=None), Reference(scopus_id=84882656099, doi=None), Reference(scopus_id=36330345, doi=None), Reference(scopus_id=37349101941, doi=None), Reference(scopus_id=26472955, doi=None), Reference(scopus_id=27577720, doi=None), Reference(scopus_id=26844551550, doi=None), Reference(scopus_id=28666239, doi=None), Reference(scopus_id=344551308, doi=None), Reference(scopus_id=84910049165, doi=None), Reference(scopus_id=84887537551, doi=None), Reference(scopus_id=84891595665, doi=None), Reference(scopus_id=70350028693, doi=None), Reference(scopus_id=1442315675, doi=None), Reference(scopus_id=3701151, doi=None), Reference(scopus_id=2872223, doi=None), Reference(scopus_id=84871274915, doi=None), Reference(scopus_id=29804451, doi=None), Reference(scopus_id=43946, doi=None), Reference(scopus_id=84922998703, doi=None), Reference(scopus_id=34547837367, doi=None), Reference(scopus_id=1842431418, doi=None), Reference(scopus_id=29751226, doi=None), Reference(scopus_id=24937404, doi=None), Reference(scopus_id=18465733, doi=None), Reference(scopus_id=84930916807, doi=None), Reference(scopus_id=34333127, doi=None), Reference(scopus_id=84865384394, doi=None), Reference(scopus_id=2737103, doi=None), Reference(scopus_id=15444379612, doi=None), Reference(scopus_id=84958258654, doi=None), Reference(scopus_id=84885058529, doi=None), Reference(scopus_id=20970475, doi=None), Reference(scopus_id=26451960, doi=None), Reference(scopus_id=2342425594, doi=None), Reference(scopus_id=29790715, doi=None), Reference(scopus_id=855550, doi=None)}), pub_name='Journal of Sensors', pub_issn_print='1687725X', pub_issn_electronic='16877268'),\n",
       " PaperInfo(iter_depth=1, title='Simultaneous Production and AGV Scheduling using Multi-Agent Deep Reinforcement Learning', authors='Popper, J.; Yfantis, V.; Ruskowski, M.', year=2021, scopus_id=85119412480, doi='10.1016/j.procir.2021.11.257', eid='2-s2.0-85119412480', scopus_url='https://www.scopus.com/inward/record.uri?partnerID=HzOxMe3b&scp=85119412480&origin=inward', refs=frozenset({Reference(scopus_id=84969963490, doi=None), Reference(scopus_id=3142747619, doi=None), Reference(scopus_id=85082664837, doi=None), Reference(scopus_id=34548795271, doi=None), Reference(scopus_id=85089384328, doi='10.1049/iet-cim.2018.0009'), Reference(scopus_id=85055258185, doi=None), Reference(scopus_id=85121661963, doi=None), Reference(scopus_id=85041194636, doi=None), Reference(scopus_id=85048864239, doi=None), Reference(scopus_id=85083651183, doi=None), Reference(scopus_id=84963949906, doi=None), Reference(scopus_id=85059202163, doi=None), Reference(scopus_id=84971448181, doi=None), Reference(scopus_id=84965135289, doi=None), Reference(scopus_id=85073196988, doi=None)}), pub_name='Procedia CIRP', pub_issn_print='22128271', pub_issn_electronic=None),\n",
       " PaperInfo(iter_depth=1, title='Smart Manufacturing Scheduling with Edge Computing Using Multiclass Deep Q Network', authors='Lin, C.-C.; Deng, D.-J.; Chih, Y.-L.; Chiu, H.-T.', year=2019, scopus_id=85068618692, doi='10.1109/TII.2019.2908210', eid='2-s2.0-85068618692', scopus_url='https://www.scopus.com/inward/record.uri?partnerID=HzOxMe3b&scp=85068618692&origin=inward', refs=frozenset({Reference(scopus_id=84998579328, doi=None), Reference(scopus_id=26461248, doi=None), Reference(scopus_id=85007210890, doi=None), Reference(scopus_id=85068603903, doi=None), Reference(scopus_id=85065918092, doi=None), Reference(scopus_id=84924051598, doi=None), Reference(scopus_id=84963949906, doi=None), Reference(scopus_id=21144442004, doi=None), Reference(scopus_id=85028909333, doi=None), Reference(scopus_id=85044791956, doi=None), Reference(scopus_id=84999885214, doi=None), Reference(scopus_id=84918834208, doi=None), Reference(scopus_id=85039785378, doi=None), Reference(scopus_id=418020, doi=None), Reference(scopus_id=84904867557, doi=None), Reference(scopus_id=26126118, doi=None), Reference(scopus_id=34325416, doi=None), Reference(scopus_id=33993128, doi=None), Reference(scopus_id=85054368042, doi=None), Reference(scopus_id=3994089, doi=None), Reference(scopus_id=3054955, doi=None), Reference(scopus_id=35309164, doi=None), Reference(scopus_id=80053081650, doi=None), Reference(scopus_id=41149129586, doi=None), Reference(scopus_id=85029488502, doi=None), Reference(scopus_id=85045058169, doi=None), Reference(scopus_id=84856100986, doi=None), Reference(scopus_id=85041435069, doi=None), Reference(scopus_id=27201278, doi=None), Reference(scopus_id=85068609343, doi=None)}), pub_name='IEEE Transactions on Industrial Informatics', pub_issn_print='15513203', pub_issn_electronic='19410050'),\n",
       " PaperInfo(iter_depth=1, title='Solving Nonlinear Equations Systems with an Enhanced Reinforcement Learning Based Differential Evolution', authors='Liao, Z.; Li, S.', year=2022, scopus_id=85135635640, doi='10.23919/CSMS.2022.0003', eid='2-s2.0-85135635640', scopus_url='https://www.scopus.com/inward/record.uri?partnerID=HzOxMe3b&scp=85135635640&origin=inward', refs=frozenset({Reference(scopus_id=85076560640, doi=None), Reference(scopus_id=32093442, doi=None), Reference(scopus_id=84855254021, doi=None), Reference(scopus_id=85091479047, doi=None), Reference(scopus_id=85064704140, doi=None), Reference(scopus_id=84924051598, doi=None), Reference(scopus_id=85020471823, doi=None), Reference(scopus_id=43249120401, doi=None), Reference(scopus_id=85031323541, doi=None), Reference(scopus_id=85086749848, doi=None), Reference(scopus_id=85009932318, doi=None), Reference(scopus_id=85078993461, doi=None), Reference(scopus_id=34848903352, doi=None), Reference(scopus_id=85115728954, doi='10.1109/TCYB.2021.3108563'), Reference(scopus_id=85053801275, doi=None), Reference(scopus_id=84887547709, doi=None), Reference(scopus_id=85063153213, doi=None), Reference(scopus_id=85100647752, doi=None), Reference(scopus_id=85166393547, doi=None), Reference(scopus_id=85113231699, doi=None), Reference(scopus_id=85109093078, doi=None), Reference(scopus_id=85071308630, doi=None), Reference(scopus_id=85098713176, doi=None), Reference(scopus_id=79960925272, doi=None), Reference(scopus_id=85087975130, doi=None), Reference(scopus_id=142000477, doi=None), Reference(scopus_id=61749088478, doi=None), Reference(scopus_id=85142769120, doi=None), Reference(scopus_id=85122391136, doi=None), Reference(scopus_id=85067007073, doi=None), Reference(scopus_id=85046706557, doi=None), Reference(scopus_id=48849112429, doi=None), Reference(scopus_id=84960109551, doi=None), Reference(scopus_id=85124395120, doi=None), Reference(scopus_id=85120355700, doi=None), Reference(scopus_id=84930935926, doi=None), Reference(scopus_id=85044748023, doi=None), Reference(scopus_id=85085491964, doi=None), Reference(scopus_id=85069057277, doi=None), Reference(scopus_id=85050221439, doi=None)}), pub_name='Complex System Modeling and Simulation', pub_issn_print='20969929', pub_issn_electronic=None),\n",
       " PaperInfo(iter_depth=1, title='Solving flow-shop scheduling problem with a reinforcement learning algorithm that generalizes the value function with neural network', authors='Ren, J.; Ye, C.; Yang, F.', year=2021, scopus_id=85100427336, doi='10.1016/j.aej.2021.01.030', eid='2-s2.0-85100427336', scopus_url='https://www.scopus.com/inward/record.uri?partnerID=HzOxMe3b&scp=85100427336&origin=inward', refs=frozenset({Reference(scopus_id=85068045121, doi=None), Reference(scopus_id=85077320899, doi=None), Reference(scopus_id=85066015237, doi=None), Reference(scopus_id=85070663816, doi=None), Reference(scopus_id=85077330184, doi=None), Reference(scopus_id=85100443020, doi=None), Reference(scopus_id=85077537229, doi=None), Reference(scopus_id=85075334799, doi=None), Reference(scopus_id=85077555216, doi=None), Reference(scopus_id=85074050449, doi=None), Reference(scopus_id=85081122767, doi=None), Reference(scopus_id=85074670930, doi=None), Reference(scopus_id=85100431127, doi=None), Reference(scopus_id=85101037533, doi=None), Reference(scopus_id=85070699744, doi=None), Reference(scopus_id=85078004833, doi=None), Reference(scopus_id=85074333923, doi=None), Reference(scopus_id=85080907429, doi=None), Reference(scopus_id=85071387046, doi=None), Reference(scopus_id=85060573352, doi=None), Reference(scopus_id=85076252008, doi=None), Reference(scopus_id=85100388456, doi=None), Reference(scopus_id=85075605035, doi=None), Reference(scopus_id=85081180654, doi=None), Reference(scopus_id=85064922544, doi=None), Reference(scopus_id=85071553011, doi=None), Reference(scopus_id=85085871352, doi=None), Reference(scopus_id=85077474878, doi=None)}), pub_name='Alexandria Engineering Journal', pub_issn_print='11100168', pub_issn_electronic=None),\n",
       " PaperInfo(iter_depth=1, title='Solving job shop scheduling problems via deep reinforcement learning[Formula presented]', authors='Yuan, E.; Cheng, S.; Wang, L.; Song, S.; Wu, F.', year=2023, scopus_id=85160640871, doi='10.1016/j.asoc.2023.110436', eid='2-s2.0-85160640871', scopus_url='https://www.scopus.com/inward/record.uri?partnerID=HzOxMe3b&scp=85160640871&origin=inward', refs=frozenset({Reference(scopus_id=84946434570, doi=None), Reference(scopus_id=85041194636, doi=None), Reference(scopus_id=34249973653, doi=None), Reference(scopus_id=85133318806, doi=None), Reference(scopus_id=85100138902, doi=None), Reference(scopus_id=7544244249, doi=None), Reference(scopus_id=85107346203, doi=None), Reference(scopus_id=85102851103, doi=None), Reference(scopus_id=85138817956, doi=None), Reference(scopus_id=26126118, doi=None), Reference(scopus_id=85098427175, doi=None), Reference(scopus_id=85143643688, doi=None), Reference(scopus_id=85133429544, doi=None), Reference(scopus_id=85135170729, doi=None), Reference(scopus_id=85044675243, doi=None), Reference(scopus_id=85105128365, doi=None), Reference(scopus_id=10653486, doi=None), Reference(scopus_id=85137845038, doi=None), Reference(scopus_id=71749092272, doi=None), Reference(scopus_id=23977010, doi=None), Reference(scopus_id=85165795251, doi=None), Reference(scopus_id=34249341750, doi=None), Reference(scopus_id=85132749753, doi=None), Reference(scopus_id=85008420154, doi=None), Reference(scopus_id=85090194369, doi=None), Reference(scopus_id=85131939009, doi=None), Reference(scopus_id=85068618692, doi=None), Reference(scopus_id=85066945478, doi=None), Reference(scopus_id=242364617, doi=None), Reference(scopus_id=85085268426, doi=None), Reference(scopus_id=77952054478, doi=None), Reference(scopus_id=4102479, doi=None), Reference(scopus_id=1947856, doi=None), Reference(scopus_id=85123302866, doi=None), Reference(scopus_id=26930899, doi=None), Reference(scopus_id=85128664277, doi=None), Reference(scopus_id=84964335831, doi=None), Reference(scopus_id=85101992794, doi=None), Reference(scopus_id=85118295514, doi=None), Reference(scopus_id=85100256602, doi=None), Reference(scopus_id=85134164321, doi=None), Reference(scopus_id=84969963490, doi=None), Reference(scopus_id=33745666276, doi=None), Reference(scopus_id=418020, doi=None), Reference(scopus_id=84904867557, doi=None), Reference(scopus_id=34559461, doi=None), Reference(scopus_id=85127814631, doi=None), Reference(scopus_id=3994089, doi=None), Reference(scopus_id=85160657259, doi=None), Reference(scopus_id=29342059, doi=None), Reference(scopus_id=85090176877, doi=None), Reference(scopus_id=85114686575, doi=None), Reference(scopus_id=34250074609, doi=None), Reference(scopus_id=85074707314, doi=None), Reference(scopus_id=85108393338, doi=None), Reference(scopus_id=31118203, doi=None), Reference(scopus_id=27201278, doi=None)}), pub_name='Applied Soft Computing', pub_issn_print='15684946', pub_issn_electronic=None),\n",
       " PaperInfo(iter_depth=1, title='Solving non-permutation flow-shop scheduling problem via a novel deep reinforcement learning approach', authors='Wang, Z.; Cai, B.; Li, J.; Yang, D.; Zhao, Y.; Xie, H.', year=2023, scopus_id=85143529925, doi='10.1016/j.cor.2022.106095', eid='2-s2.0-85143529925', scopus_url='https://www.scopus.com/inward/record.uri?partnerID=HzOxMe3b&scp=85143529925&origin=inward', refs=frozenset({Reference(scopus_id=84912025988, doi=None), Reference(scopus_id=85066015237, doi=None), Reference(scopus_id=85098913413, doi=None), Reference(scopus_id=85041194636, doi=None), Reference(scopus_id=84942543502, doi=None), Reference(scopus_id=85070912782, doi=None), Reference(scopus_id=85075334799, doi=None), Reference(scopus_id=84898938510, doi=None), Reference(scopus_id=84924051598, doi=None), Reference(scopus_id=20699921, doi=None), Reference(scopus_id=85021835029, doi=None), Reference(scopus_id=85143529883, doi=None), Reference(scopus_id=79957632028, doi=None), Reference(scopus_id=84998595997, doi=None), Reference(scopus_id=85143548958, doi=None), Reference(scopus_id=85143515425, doi=None), Reference(scopus_id=85100179489, doi=None), Reference(scopus_id=70449597987, doi=None), Reference(scopus_id=85087283110, doi=None), Reference(scopus_id=9744272807, doi=None), Reference(scopus_id=337576, doi=None), Reference(scopus_id=85075605035, doi=None), Reference(scopus_id=85085163822, doi=None), Reference(scopus_id=85090364721, doi=None), Reference(scopus_id=85101545013, doi=None), Reference(scopus_id=84965135289, doi=None), Reference(scopus_id=84979030720, doi=None), Reference(scopus_id=85100427336, doi=None), Reference(scopus_id=85104657742, doi=None), Reference(scopus_id=4102479, doi=None), Reference(scopus_id=85117114321, doi=None), Reference(scopus_id=85102285267, doi=None), Reference(scopus_id=85081140568, doi=None), Reference(scopus_id=4028632, doi=None), Reference(scopus_id=84980041049, doi=None), Reference(scopus_id=85101037533, doi=None), Reference(scopus_id=67549098078, doi=None), Reference(scopus_id=85143533152, doi=None), Reference(scopus_id=418020, doi=None), Reference(scopus_id=61649112805, doi=None), Reference(scopus_id=84878787429, doi=None), Reference(scopus_id=84904867557, doi=None), Reference(scopus_id=1020389, doi=None), Reference(scopus_id=49349104489, doi=None), Reference(scopus_id=14807274, doi=None), Reference(scopus_id=34249903338, doi=None), Reference(scopus_id=84879650283, doi=None), Reference(scopus_id=84897633390, doi=None), Reference(scopus_id=84995488495, doi=None), Reference(scopus_id=10761199, doi=None), Reference(scopus_id=84971448181, doi=None), Reference(scopus_id=74849101820, doi=None), Reference(scopus_id=31573117, doi=None)}), pub_name='Computers and Operations Research', pub_issn_print='03050548', pub_issn_electronic=None),\n",
       " PaperInfo(iter_depth=1, title='Spatially located platform and aerial photography for documentation of grazing impacts on wheat', authors='Louhaichi, M.; Borman, M.M.; Johnson, D.E.', year=2001, scopus_id=84899786846, doi='10.1080/10106040108542184', eid='2-s2.0-84899786846', scopus_url='https://www.scopus.com/inward/record.uri?partnerID=HzOxMe3b&scp=84899786846&origin=inward', refs=frozenset({Reference(scopus_id=28666243, doi=None), Reference(scopus_id=12825124, doi=None), Reference(scopus_id=3515302, doi=None), Reference(scopus_id=30618919, doi=None), Reference(scopus_id=4050098, doi=None), Reference(scopus_id=3506963, doi=None), Reference(scopus_id=84990803705, doi=None), Reference(scopus_id=3424827, doi=None), Reference(scopus_id=42114557, doi=None), Reference(scopus_id=28976638, doi=None)}), pub_name='Geocarto International', pub_issn_print='10106049', pub_issn_electronic=None),\n",
       " PaperInfo(iter_depth=1, title='Support vector machines in remote sensing: A review', authors='Mountrakis, G.; Im, J.; Ogole, C.', year=2011, scopus_id=79951950272, doi='10.1016/j.isprsjprs.2010.11.001', eid='2-s2.0-79951950272', scopus_url='https://www.scopus.com/inward/record.uri?partnerID=HzOxMe3b&scp=79951950272&origin=inward', refs=frozenset({Reference(scopus_id=33750819329, doi=None), Reference(scopus_id=2642563585, doi=None), Reference(scopus_id=52749091847, doi=None), Reference(scopus_id=141457415, doi=None), Reference(scopus_id=31344432139, doi=None), Reference(scopus_id=34249753618, doi=None), Reference(scopus_id=10044278292, doi=None), Reference(scopus_id=4544272407, doi=None), Reference(scopus_id=79951947290, doi=None), Reference(scopus_id=34547697691, doi=None), Reference(scopus_id=77951097884, doi=None), Reference(scopus_id=84889670690, doi=None), Reference(scopus_id=61349196839, doi=None), Reference(scopus_id=79951951913, doi=None), Reference(scopus_id=37138473, doi=None), Reference(scopus_id=79951942699, doi=None), Reference(scopus_id=42749086766, doi=None), Reference(scopus_id=70349174319, doi=None), Reference(scopus_id=40349100592, doi=None), Reference(scopus_id=33750061617, doi=None), Reference(scopus_id=3969585, doi=None), Reference(scopus_id=78649486389, doi=None), Reference(scopus_id=54949118010, doi=None), Reference(scopus_id=18544362045, doi=None), Reference(scopus_id=33747107396, doi=None), Reference(scopus_id=70350655559, doi=None), Reference(scopus_id=35648937032, doi=None), Reference(scopus_id=67349274187, doi=None), Reference(scopus_id=33947423832, doi=None), Reference(scopus_id=67650671199, doi=None), Reference(scopus_id=39749111391, doi=None), Reference(scopus_id=35748948069, doi=None), Reference(scopus_id=37549004391, doi=None), Reference(scopus_id=79951904873, doi=None), Reference(scopus_id=33747610735, doi=None), Reference(scopus_id=4344614511, doi=None), Reference(scopus_id=73249149045, doi=None), Reference(scopus_id=70350646904, doi=None), Reference(scopus_id=33846939265, doi=None), Reference(scopus_id=63149099143, doi=None), Reference(scopus_id=53349153427, doi=None), Reference(scopus_id=47849095828, doi=None), Reference(scopus_id=70449384598, doi=None), Reference(scopus_id=1842429086, doi=None), Reference(scopus_id=40749122206, doi=None), Reference(scopus_id=33750798496, doi=None), Reference(scopus_id=33750840482, doi=None), Reference(scopus_id=33744938148, doi=None), Reference(scopus_id=46249084070, doi=None), Reference(scopus_id=18844389548, doi=None), Reference(scopus_id=67649669804, doi=None), Reference(scopus_id=84899032239, doi=None), Reference(scopus_id=34248361145, doi=None), Reference(scopus_id=57649140412, doi=None), Reference(scopus_id=70449369788, doi=None), Reference(scopus_id=65049084094, doi=None), Reference(scopus_id=67650759361, doi=None), Reference(scopus_id=38949149377, doi=None), Reference(scopus_id=27144489164, doi=None), Reference(scopus_id=14644402381, doi=None), Reference(scopus_id=70349172947, doi=None), Reference(scopus_id=45849101525, doi=None), Reference(scopus_id=32644445913, doi=None), Reference(scopus_id=70350336222, doi=None), Reference(scopus_id=53349084895, doi=None), Reference(scopus_id=44649165024, doi=None), Reference(scopus_id=67949115614, doi=None), Reference(scopus_id=52649098470, doi=None), Reference(scopus_id=33747119337, doi=None), Reference(scopus_id=32636659, doi=None), Reference(scopus_id=34547399927, doi=None), Reference(scopus_id=34249816831, doi=None), Reference(scopus_id=4094721, doi=None), Reference(scopus_id=61349168387, doi=None), Reference(scopus_id=76149146379, doi=None), Reference(scopus_id=77949902605, doi=None), Reference(scopus_id=33644753678, doi=None), Reference(scopus_id=35148867868, doi=None), Reference(scopus_id=77951204124, doi=None), Reference(scopus_id=57649135391, doi=None), Reference(scopus_id=39749188900, doi=None), Reference(scopus_id=36349007145, doi=None), Reference(scopus_id=70549111594, doi=None), Reference(scopus_id=44049084715, doi=None), Reference(scopus_id=1942829, doi=None), Reference(scopus_id=67651155779, doi=None), Reference(scopus_id=34447542595, doi=None), Reference(scopus_id=4043137356, doi=None), Reference(scopus_id=31344479568, doi=None), Reference(scopus_id=33746606930, doi=None), Reference(scopus_id=33748139351, doi=None), Reference(scopus_id=47849090392, doi=None), Reference(scopus_id=77954623833, doi=None), Reference(scopus_id=55349114714, doi=None), Reference(scopus_id=50549085536, doi=None), Reference(scopus_id=44049098082, doi=None), Reference(scopus_id=33745756516, doi=None), Reference(scopus_id=3410791, doi=None), Reference(scopus_id=35348920168, doi=None), Reference(scopus_id=34247346536, doi=None), Reference(scopus_id=1224048, doi=None), Reference(scopus_id=2942558578, doi=None), Reference(scopus_id=67649651573, doi=None), Reference(scopus_id=13644256120, doi=None), Reference(scopus_id=52649173882, doi=None), Reference(scopus_id=8444238211, doi=None), Reference(scopus_id=70449378695, doi=None), Reference(scopus_id=33578380, doi=None), Reference(scopus_id=40349110669, doi=None), Reference(scopus_id=63749121428, doi=None), Reference(scopus_id=3463572, doi=None), Reference(scopus_id=67849084831, doi=None), Reference(scopus_id=72249111970, doi=None), Reference(scopus_id=43049106852, doi=None), Reference(scopus_id=34447267238, doi=None), Reference(scopus_id=67650245545, doi=None), Reference(scopus_id=67651166635, doi=None), Reference(scopus_id=56849127860, doi=None), Reference(scopus_id=36113847, doi=None), Reference(scopus_id=42949149624, doi=None), Reference(scopus_id=67349269946, doi=None), Reference(scopus_id=35348821947, doi=None), Reference(scopus_id=64649101755, doi=None), Reference(scopus_id=67949086661, doi=None), Reference(scopus_id=45849126857, doi=None), Reference(scopus_id=52649118668, doi=None), Reference(scopus_id=57049102289, doi=None), Reference(scopus_id=3042654673, doi=None), Reference(scopus_id=141626324, doi=None), Reference(scopus_id=31144448472, doi=None), Reference(scopus_id=66749175769, doi=None), Reference(scopus_id=3843096026, doi=None), Reference(scopus_id=70449348600, doi=None), Reference(scopus_id=67650436064, doi=None), Reference(scopus_id=67651177445, doi=None), Reference(scopus_id=33846007269, doi=None), Reference(scopus_id=77949492199, doi=None), Reference(scopus_id=65049090023, doi=None), Reference(scopus_id=34270699, doi=None), Reference(scopus_id=347905006, doi=None), Reference(scopus_id=71349088239, doi=None), Reference(scopus_id=12844286965, doi=None), Reference(scopus_id=34147172342, doi=None), Reference(scopus_id=42949095928, doi=None), Reference(scopus_id=33846903804, doi=None)}), pub_name='ISPRS Journal of Photogrammetry and Remote Sensing', pub_issn_print='09242716', pub_issn_electronic=None),\n",
       " PaperInfo(iter_depth=1, title='Surprisingly Popular-Based Adaptive Memetic Algorithm for Energy-Efficient Distributed Flexible Job Shop Scheduling', authors='Li, R.; Gong, W.; Wang, L.; Lu, C.; Zhuang, X.', year=2023, scopus_id=85162669563, doi='10.1109/TCYB.2023.3280175', eid='2-s2.0-85162669563', scopus_url='https://www.scopus.com/inward/record.uri?partnerID=HzOxMe3b&scp=85162669563&origin=inward', refs=frozenset({Reference(scopus_id=85126631555, doi=None), Reference(scopus_id=85144339459, doi=None), Reference(scopus_id=85127773066, doi='10.1109/TCYB.2022.3158334'), Reference(scopus_id=34548108555, doi=None), Reference(scopus_id=85079324174, doi=None), Reference(scopus_id=85119422865, doi=None), Reference(scopus_id=85113293203, doi=None), Reference(scopus_id=31744438420, doi=None), Reference(scopus_id=85113430165, doi=None), Reference(scopus_id=85102650773, doi=None), Reference(scopus_id=85026675606, doi=None), Reference(scopus_id=84922120859, doi=None), Reference(scopus_id=85046109725, doi=None), Reference(scopus_id=85016162849, doi=None), Reference(scopus_id=85129248164, doi=None), Reference(scopus_id=85178982180, doi=None), Reference(scopus_id=34250084648, doi=None), Reference(scopus_id=85065123371, doi=None), Reference(scopus_id=70350344622, doi=None), Reference(scopus_id=85141638135, doi='10.1109/TCYB.2022.3217074'), Reference(scopus_id=85129380788, doi=None), Reference(scopus_id=85104576952, doi=None), Reference(scopus_id=31997369, doi=None), Reference(scopus_id=85107185850, doi=None), Reference(scopus_id=85130478396, doi='10.1109/TEVC.2022.3175832'), Reference(scopus_id=85133924544, doi=None), Reference(scopus_id=85071308865, doi=None), Reference(scopus_id=85029161024, doi=None), Reference(scopus_id=85054514257, doi=None), Reference(scopus_id=85130351571, doi=None), Reference(scopus_id=36530772, doi=None), Reference(scopus_id=85035750357, doi=None), Reference(scopus_id=85102824278, doi=None), Reference(scopus_id=85122074069, doi=None), Reference(scopus_id=85052197336, doi=None), Reference(scopus_id=85124754265, doi=None), Reference(scopus_id=85112649433, doi=None), Reference(scopus_id=42261208, doi=None), Reference(scopus_id=85134325604, doi=None), Reference(scopus_id=85058961637, doi=None), Reference(scopus_id=85137548006, doi='10.1109/TCYB.2022.3196887'), Reference(scopus_id=85095847397, doi=None), Reference(scopus_id=85089245675, doi=None), Reference(scopus_id=85088201324, doi=None), Reference(scopus_id=85067798381, doi=None), Reference(scopus_id=85059046766, doi=None), Reference(scopus_id=85117920119, doi=None), Reference(scopus_id=85141597807, doi='10.1109/TEVC.2022.3219238'), Reference(scopus_id=85141645678, doi='10.1109/TCYB.2022.3210228'), Reference(scopus_id=24644467307, doi=None), Reference(scopus_id=85097948147, doi=None), Reference(scopus_id=85041671661, doi=None), Reference(scopus_id=85135509239, doi=None), Reference(scopus_id=85088651256, doi=None), Reference(scopus_id=85110884606, doi=None)}), pub_name='IEEE Transactions on Cybernetics', pub_issn_print='21682267', pub_issn_electronic='21682275'),\n",
       " PaperInfo(iter_depth=1, title='The distributed assembly permutation flowshop scheduling problem', authors='Hatami, S.; Ruiz, R.; Andres-Romano, C.', year=2013, scopus_id=84884906840, doi='10.1080/00207543.2013.807955', eid='2-s2.0-84884906840', scopus_url='https://www.scopus.com/inward/record.uri?partnerID=HzOxMe3b&scp=84884906840&origin=inward', refs=frozenset({Reference(scopus_id=36642688, doi=None), Reference(scopus_id=655488, doi=None), Reference(scopus_id=6178946, doi=None), Reference(scopus_id=34548625026, doi=None), Reference(scopus_id=84861421063, doi=None), Reference(scopus_id=36507916, doi=None), Reference(scopus_id=84860333585, doi=None), Reference(scopus_id=20699921, doi=None), Reference(scopus_id=55749083412, doi=None), Reference(scopus_id=33947356822, doi=None), Reference(scopus_id=2235173, doi=None), Reference(scopus_id=50349092518, doi=None), Reference(scopus_id=34818087, doi=None), Reference(scopus_id=84866148007, doi=None), Reference(scopus_id=2942519465, doi=None), Reference(scopus_id=27590319, doi=None), Reference(scopus_id=79952445871, doi=None), Reference(scopus_id=37290545, doi=None), Reference(scopus_id=34247562293, doi=None), Reference(scopus_id=12144257206, doi=None), Reference(scopus_id=37971131, doi=None), Reference(scopus_id=33746855485, doi=None), Reference(scopus_id=79951830077, doi=None), Reference(scopus_id=70350752447, doi=None), Reference(scopus_id=84861810499, doi=None), Reference(scopus_id=661829, doi=None), Reference(scopus_id=35371718, doi=None), Reference(scopus_id=3075019, doi=None), Reference(scopus_id=80052141904, doi=None), Reference(scopus_id=79961160402, doi=None), Reference(scopus_id=42733396, doi=None), Reference(scopus_id=34548619478, doi=None), Reference(scopus_id=4028632, doi=None), Reference(scopus_id=51349105242, doi=None), Reference(scopus_id=22144475484, doi=None), Reference(scopus_id=22544465501, doi=None), Reference(scopus_id=69749084638, doi=None), Reference(scopus_id=3431007, doi=None), Reference(scopus_id=34147189601, doi=None), Reference(scopus_id=31351397, doi=None), Reference(scopus_id=81555204454, doi=None), Reference(scopus_id=30844449000, doi=None), Reference(scopus_id=83555161577, doi=None), Reference(scopus_id=37120618, doi=None), Reference(scopus_id=49749115755, doi=None), Reference(scopus_id=34250729453, doi=None), Reference(scopus_id=34548270446, doi=None), Reference(scopus_id=54449086192, doi=None), Reference(scopus_id=33750841084, doi=None), Reference(scopus_id=13444251134, doi=None), Reference(scopus_id=79952618751, doi=None)}), pub_name='International Journal of Production Research', pub_issn_print='00207543', pub_issn_electronic='1366588X'),\n",
       " PaperInfo(iter_depth=1, title='The impact of soil reflectance on the quantification of the green vegetation fraction from NDVI', authors='Montandon, L.M.; Small, E.E.', year=2008, scopus_id=40649083532, doi='10.1016/j.rse.2007.09.007', eid='2-s2.0-40649083532', scopus_url='https://www.scopus.com/inward/record.uri?partnerID=HzOxMe3b&scp=40649083532&origin=inward', refs=frozenset({Reference(scopus_id=35874433, doi=None), Reference(scopus_id=31463298, doi=None), Reference(scopus_id=141564931, doi=None), Reference(scopus_id=13844264503, doi=None), Reference(scopus_id=33644502597, doi=None), Reference(scopus_id=30544447430, doi=None), Reference(scopus_id=25656005, doi=None), Reference(scopus_id=4093509, doi=None), Reference(scopus_id=2342472714, doi=None), Reference(scopus_id=33744993163, doi=None), Reference(scopus_id=77649130183, doi=None), Reference(scopus_id=9444260366, doi=None), Reference(scopus_id=6282196, doi=None), Reference(scopus_id=34347220504, doi=None), Reference(scopus_id=24165401, doi=None), Reference(scopus_id=1125404, doi=None), Reference(scopus_id=28519391, doi=None), Reference(scopus_id=3242745952, doi=None), Reference(scopus_id=1442314273, doi=None), Reference(scopus_id=27594726, doi=None), Reference(scopus_id=28979195, doi=None), Reference(scopus_id=22240364, doi=None), Reference(scopus_id=33784365, doi=None), Reference(scopus_id=33939757, doi=None), Reference(scopus_id=30660530, doi=None), Reference(scopus_id=26305589, doi=None), Reference(scopus_id=36787127, doi=None), Reference(scopus_id=7044264890, doi=None), Reference(scopus_id=40649117755, doi=None), Reference(scopus_id=796604, doi=None), Reference(scopus_id=33851838, doi=None)}), pub_name='Remote Sensing of Environment', pub_issn_print='00344257', pub_issn_electronic=None),\n",
       " PaperInfo(iter_depth=1, title='Two-stage knowledge-driven evolutionary algorithm for distributed green flexible job shop scheduling with type-2 fuzzy processing time', authors='Li, R.; Gong, W.; Wang, L.; Lu, C.; Jiang, S.', year=2022, scopus_id=85135509239, doi='10.1016/j.swevo.2022.101139', eid='2-s2.0-85135509239', scopus_url='https://www.scopus.com/inward/record.uri?partnerID=HzOxMe3b&scp=85135509239&origin=inward', refs=frozenset({Reference(scopus_id=85092560258, doi=None), Reference(scopus_id=85126631555, doi='10.1016/j.cie.2022.108099'), Reference(scopus_id=34047181443, doi=None), Reference(scopus_id=85089189893, doi='10.1016/j.swevo.2020.100745'), Reference(scopus_id=85115006983, doi='10.1109/TEM.2021.3095954'), Reference(scopus_id=85099094024, doi='10.1109/TCYB.2020.3041494'), Reference(scopus_id=85121225355, doi='10.1016/j.cie.2021.107863'), Reference(scopus_id=85056619531, doi=None), Reference(scopus_id=85102798988, doi='10.1007/s40815-021-01050-9'), Reference(scopus_id=85079324174, doi=None), Reference(scopus_id=34548108555, doi=None), Reference(scopus_id=85119422865, doi='10.1109/TCYB.2020.3025662'), Reference(scopus_id=85122615954, doi=None), Reference(scopus_id=85057195027, doi=None), Reference(scopus_id=31744438420, doi=None), Reference(scopus_id=85026675606, doi=None), Reference(scopus_id=85088651256, doi=None), Reference(scopus_id=85046109725, doi=None), Reference(scopus_id=85127530143, doi='10.1016/j.swevo.2022.101058'), Reference(scopus_id=85059976863, doi=None), Reference(scopus_id=77950593319, doi=None), Reference(scopus_id=85118274987, doi='10.1109/TCYB.2021.3118783'), Reference(scopus_id=36530350, doi='10.1109/91.995115'), Reference(scopus_id=85129380788, doi='10.1109/TCYB.2022.3164165'), Reference(scopus_id=85101423796, doi=None), Reference(scopus_id=85126551862, doi='10.1109/TCYB.2022.3151855'), Reference(scopus_id=85104576952, doi=None), Reference(scopus_id=31997369, doi=None), Reference(scopus_id=85096703546, doi='10.1016/j.swevo.2020.100803'), Reference(scopus_id=85097709242, doi=None), Reference(scopus_id=85130478396, doi='10.1109/TEVC.2022.3175832'), Reference(scopus_id=85100490045, doi='10.1007/s10479-021-03952-1'), Reference(scopus_id=84991518525, doi='10.1109/ACCESS.2015.2388486'), Reference(scopus_id=85107185850, doi='10.1109/JSYST.2021.3076481'), Reference(scopus_id=85096449341, doi=None), Reference(scopus_id=85090194369, doi=None), Reference(scopus_id=85054514257, doi='10.1109/ACCESS.2018.2873401'), Reference(scopus_id=85130351571, doi='10.1016/j.eswa.2022.117380'), Reference(scopus_id=84897584596, doi='10.1109/TFUZZ.2013.2241771'), Reference(scopus_id=85122074069, doi=None), Reference(scopus_id=85102824278, doi='10.1109/ACCESS.2020.3032548'), Reference(scopus_id=36530772, doi=None), Reference(scopus_id=85124754265, doi='10.1109/TEVC.2022.3150771'), Reference(scopus_id=85101375451, doi='10.1016/j.swevo.2021.100858'), Reference(scopus_id=85125716963, doi='10.1109/TASE.2022.3151648'), Reference(scopus_id=85106847717, doi='10.1007/s10845-015-1083-z'), Reference(scopus_id=85109105767, doi='10.1016/j.knosys.2021.107263'), Reference(scopus_id=85123767401, doi='10.1109/TSMC.2022.3143657'), Reference(scopus_id=85089245675, doi='10.1016/j.cor.2020.105053'), Reference(scopus_id=85067798381, doi='10.1109/JAS.2019.1911540'), Reference(scopus_id=85059046766, doi='10.1109/TCYB.2018.2817240'), Reference(scopus_id=85041671661, doi=None), Reference(scopus_id=85097948147, doi='10.1109/TII.2020.3043734'), Reference(scopus_id=85073690614, doi=None), Reference(scopus_id=85117920119, doi='10.1016/j.rcim.2021.102277'), Reference(scopus_id=85089264504, doi='10.1016/j.swevo.2020.100747'), Reference(scopus_id=85123836540, doi=None), Reference(scopus_id=85111021054, doi='10.1016/j.eswa.2021.115453')}), pub_name='Swarm and Evolutionary Computation', pub_issn_print='22106502', pub_issn_electronic=None),\n",
       " PaperInfo(iter_depth=1, title='UAV-based remote sensing technique to detect citrus canker disease utilizing hyperspectral imaging and machine learning', authors='Abdulridha, J.; Batuman, O.; Ampatzidis, Y.', year=2019, scopus_id=85067414830, doi='10.3390/rs11111373', eid='2-s2.0-85067414830', scopus_url='https://www.scopus.com/inward/record.uri?partnerID=HzOxMe3b&scp=85067414830&origin=inward', refs=frozenset({Reference(scopus_id=31225091, doi=None), Reference(scopus_id=85064539140, doi=None), Reference(scopus_id=85058235908, doi=None), Reference(scopus_id=141792270, doi=None), Reference(scopus_id=85047061523, doi=None), Reference(scopus_id=85051648798, doi=None), Reference(scopus_id=27479327, doi=None), Reference(scopus_id=27744581662, doi=None), Reference(scopus_id=30300961, doi=None), Reference(scopus_id=842323753, doi=None), Reference(scopus_id=35031849, doi=None), Reference(scopus_id=85044440624, doi=None), Reference(scopus_id=28975409, doi=None), Reference(scopus_id=84872461875, doi=None), Reference(scopus_id=85038245945, doi=None), Reference(scopus_id=10844238144, doi=None), Reference(scopus_id=84904019520, doi=None), Reference(scopus_id=84935984450, doi=None), Reference(scopus_id=61749090884, doi=None), Reference(scopus_id=85062501961, doi=None), Reference(scopus_id=84994796878, doi=None), Reference(scopus_id=84981314135, doi=None), Reference(scopus_id=85042128476, doi=None), Reference(scopus_id=85047786845, doi=None), Reference(scopus_id=38022504, doi=None), Reference(scopus_id=36330345, doi=None), Reference(scopus_id=77955088237, doi=None), Reference(scopus_id=79959687790, doi=None), Reference(scopus_id=85034848879, doi=None), Reference(scopus_id=41764471, doi=None), Reference(scopus_id=35673080, doi=None), Reference(scopus_id=62849105272, doi=None), Reference(scopus_id=84870684543, doi=None), Reference(scopus_id=85064205954, doi=None), Reference(scopus_id=30944445576, doi=None), Reference(scopus_id=27788685, doi=None), Reference(scopus_id=85013857678, doi=None), Reference(scopus_id=34003091, doi=None), Reference(scopus_id=32030358, doi=None), Reference(scopus_id=84941273240, doi=None), Reference(scopus_id=85058371484, doi=None), Reference(scopus_id=35141024, doi=None), Reference(scopus_id=85055114146, doi=None), Reference(scopus_id=29804451, doi=None), Reference(scopus_id=84976393638, doi=None), Reference(scopus_id=43946, doi=None), Reference(scopus_id=85059962796, doi=None), Reference(scopus_id=85020627885, doi=None), Reference(scopus_id=85041440176, doi=None), Reference(scopus_id=26499250, doi=None), Reference(scopus_id=85051269305, doi=None), Reference(scopus_id=85046444985, doi=None), Reference(scopus_id=1842431418, doi=None), Reference(scopus_id=28431034, doi=None), Reference(scopus_id=84874204861, doi=None), Reference(scopus_id=84983740858, doi=None), Reference(scopus_id=85030862522, doi=None), Reference(scopus_id=11144248003, doi=None), Reference(scopus_id=84861608388, doi=None), Reference(scopus_id=34333127, doi=None), Reference(scopus_id=24856777, doi=None), Reference(scopus_id=85054262985, doi=None), Reference(scopus_id=28836811, doi=None), Reference(scopus_id=85017602253, doi=None), Reference(scopus_id=85055261134, doi=None), Reference(scopus_id=56349144785, doi=None), Reference(scopus_id=35413205, doi=None), Reference(scopus_id=36323544, doi=None), Reference(scopus_id=84884914397, doi=None), Reference(scopus_id=36215007, doi=None), Reference(scopus_id=2942729697, doi=None), Reference(scopus_id=85066729707, doi=None), Reference(scopus_id=33646454252, doi=None), Reference(scopus_id=26451960, doi=None), Reference(scopus_id=26472955, doi=None), Reference(scopus_id=85059822591, doi=None)}), pub_name='Remote Sensing', pub_issn_print='20724292', pub_issn_electronic='20724292'),\n",
       " PaperInfo(iter_depth=1, title='Use of remote sensing to predict the optimal harvest date of corn', authors='Xu, J.; Meng, J.; Quackenbush, L.J.', year=2019, scopus_id=85063219573, doi='10.1016/j.fcr.2019.03.003', eid='2-s2.0-85063219573', scopus_url='https://www.scopus.com/inward/record.uri?partnerID=HzOxMe3b&scp=85063219573&origin=inward', refs=frozenset({Reference(scopus_id=33745256452, doi=None), Reference(scopus_id=343704583, doi=None), Reference(scopus_id=84897827083, doi=None), Reference(scopus_id=79955634316, doi=None), Reference(scopus_id=77249139220, doi=None), Reference(scopus_id=1758614, doi=None), Reference(scopus_id=78650946838, doi=None), Reference(scopus_id=44949287707, doi=None), Reference(scopus_id=4544322591, doi=None), Reference(scopus_id=85063227296, doi=None), Reference(scopus_id=38349169572, doi=None), Reference(scopus_id=84861644068, doi=None), Reference(scopus_id=85063232804, doi=None), Reference(scopus_id=369064, doi=None), Reference(scopus_id=82055178153, doi=None), Reference(scopus_id=34848837293, doi=None), Reference(scopus_id=11244254126, doi=None), Reference(scopus_id=721966, doi=None), Reference(scopus_id=4043166894, doi=None), Reference(scopus_id=84875010482, doi=None), Reference(scopus_id=79957808307, doi=None), Reference(scopus_id=33847063475, doi=None), Reference(scopus_id=77958465081, doi=None), Reference(scopus_id=84894247866, doi=None), Reference(scopus_id=84874788283, doi=None), Reference(scopus_id=3397436, doi=None), Reference(scopus_id=2186813, doi=None), Reference(scopus_id=85063186495, doi=None), Reference(scopus_id=84887105216, doi=None), Reference(scopus_id=85063221057, doi=None), Reference(scopus_id=34914502, doi=None), Reference(scopus_id=34333127, doi=None), Reference(scopus_id=84910019784, doi=None), Reference(scopus_id=44749088075, doi=None), Reference(scopus_id=31444440909, doi=None), Reference(scopus_id=28166734, doi=None), Reference(scopus_id=77149147469, doi=None), Reference(scopus_id=84861226961, doi=None), Reference(scopus_id=84890352600, doi=None), Reference(scopus_id=83455195737, doi=None), Reference(scopus_id=22944453083, doi=None), Reference(scopus_id=84872796379, doi=None), Reference(scopus_id=84864766813, doi=None), Reference(scopus_id=1844190, doi=None), Reference(scopus_id=29844438750, doi=None), Reference(scopus_id=85038440416, doi=None), Reference(scopus_id=84959189216, doi=None), Reference(scopus_id=84928658144, doi=None), Reference(scopus_id=84859734755, doi=None), Reference(scopus_id=37232380, doi=None), Reference(scopus_id=21644260, doi=None), Reference(scopus_id=1719272, doi=None), Reference(scopus_id=67650232810, doi=None), Reference(scopus_id=84881513198, doi=None), Reference(scopus_id=11144308335, doi=None), Reference(scopus_id=2142696562, doi=None), Reference(scopus_id=1390450, doi=None), Reference(scopus_id=84862011127, doi=None), Reference(scopus_id=5351673, doi=None), Reference(scopus_id=77958488956, doi=None), Reference(scopus_id=29749373, doi=None)}), pub_name='Field Crops Research', pub_issn_print='03784290', pub_issn_electronic=None),\n",
       " PaperInfo(iter_depth=1, title='What weights work for you? Adapting weights for any Pareto front shape in decomposition-based evolutionary multiobjective optimisation', authors='Li, M.; Yao, X.', year=2019, scopus_id=85085712626, doi='10.1162/evco_a_00269', eid='2-s2.0-85085712626', scopus_url='https://www.scopus.com/inward/record.uri?partnerID=HzOxMe3b&scp=85085712626&origin=inward', refs=frozenset({Reference(scopus_id=85018503940, doi=None), Reference(scopus_id=34548108555, doi=None), Reference(scopus_id=84925293328, doi=None), Reference(scopus_id=27144473875, doi=None), Reference(scopus_id=991259, doi=None), Reference(scopus_id=34863644, doi=None), Reference(scopus_id=84938576668, doi=None), Reference(scopus_id=85052940833, doi=None), Reference(scopus_id=85034240290, doi=None), Reference(scopus_id=84905581607, doi=None), Reference(scopus_id=84928376359, doi=None), Reference(scopus_id=84930939687, doi=None), Reference(scopus_id=84963668270, doi=None), Reference(scopus_id=85018500146, doi=None), Reference(scopus_id=67349108023, doi=None), Reference(scopus_id=84905579836, doi=None), Reference(scopus_id=36671292, doi=None), Reference(scopus_id=85029161024, doi=None), Reference(scopus_id=84962050625, doi=None), Reference(scopus_id=32348480, doi=None), Reference(scopus_id=85035795523, doi=None), Reference(scopus_id=32141635, doi=None), Reference(scopus_id=85023597896, doi=None), Reference(scopus_id=3808330, doi=None), Reference(scopus_id=84959346507, doi=None), Reference(scopus_id=80053403984, doi=None), Reference(scopus_id=84866885460, doi=None), Reference(scopus_id=84866849878, doi=None), Reference(scopus_id=33750232921, doi=None), Reference(scopus_id=31701082, doi=None), Reference(scopus_id=85011103072, doi=None), Reference(scopus_id=85021771106, doi=None), Reference(scopus_id=84866103397, doi=None), Reference(scopus_id=84963532903, doi=None), Reference(scopus_id=84875724394, doi=None), Reference(scopus_id=84901842799, doi=None), Reference(scopus_id=84900013428, doi=None), Reference(scopus_id=81955162997, doi=None), Reference(scopus_id=85022225017, doi=None), Reference(scopus_id=38273913, doi=None), Reference(scopus_id=85063352955, doi=None), Reference(scopus_id=33745917564, doi=None), Reference(scopus_id=85002779263, doi=None), Reference(scopus_id=85028725119, doi=None), Reference(scopus_id=84883090066, doi=None), Reference(scopus_id=3866267, doi=None), Reference(scopus_id=84904706204, doi=None), Reference(scopus_id=85018741663, doi=None), Reference(scopus_id=84931357345, doi=None), Reference(scopus_id=84995459752, doi=None), Reference(scopus_id=34199979, doi=None), Reference(scopus_id=84900012206, doi=None), Reference(scopus_id=85041353134, doi=None), Reference(scopus_id=84893548977, doi=None), Reference(scopus_id=84938579890, doi=None), Reference(scopus_id=85008256436, doi=None), Reference(scopus_id=84875506104, doi=None), Reference(scopus_id=84990902457, doi=None), Reference(scopus_id=57049105864, doi=None), Reference(scopus_id=33318858, doi=None), Reference(scopus_id=85028457677, doi=None), Reference(scopus_id=85018353357, doi=None), Reference(scopus_id=84931338189, doi=None), Reference(scopus_id=84973293518, doi=None), Reference(scopus_id=9444228823, doi=None), Reference(scopus_id=85043466457, doi=None), Reference(scopus_id=85014447578, doi=None), Reference(scopus_id=85011556826, doi=None), Reference(scopus_id=84988527836, doi=None), Reference(scopus_id=84865403100, doi=None), Reference(scopus_id=84944079325, doi=None), Reference(scopus_id=80055086054, doi=None), Reference(scopus_id=84962103782, doi=None), Reference(scopus_id=85032196588, doi=None), Reference(scopus_id=84945334258, doi=None), Reference(scopus_id=84860905203, doi=None), Reference(scopus_id=85048272371, doi=None), Reference(scopus_id=84906945528, doi=None)}), pub_name='Evolutionary Computation', pub_issn_print='10636560', pub_issn_electronic='15309304'),\n",
       " PaperInfo(iter_depth=1, title='Wheat growth monitoring and yield estimation based on multi-rotor unmanned aerial vehicle', authors='Fu, Z.; Jiang, J.; Gao, Y.; Krienke, B.; Wang, M.; Zhong, K.; Cao, Q.; Tian, Y.; Zhu, Y.; Cao, W.; Liu, X.', year=2020, scopus_id=85080949053, doi='10.3390/rs12030508', eid='2-s2.0-85080949053', scopus_url='https://www.scopus.com/inward/record.uri?partnerID=HzOxMe3b&scp=85080949053&origin=inward', refs=frozenset({Reference(scopus_id=84912124929, doi=None), Reference(scopus_id=85071975809, doi=None), Reference(scopus_id=84921524606, doi=None), Reference(scopus_id=85062604036, doi=None), Reference(scopus_id=85061133701, doi=None), Reference(scopus_id=69249223171, doi=None), Reference(scopus_id=85071573773, doi=None), Reference(scopus_id=84863234318, doi=None), Reference(scopus_id=33746580496, doi=None), Reference(scopus_id=84994527633, doi=None), Reference(scopus_id=85052154387, doi=None), Reference(scopus_id=85070446491, doi=None), Reference(scopus_id=27788571, doi=None), Reference(scopus_id=84994479136, doi=None), Reference(scopus_id=35965476, doi=None), Reference(scopus_id=84907368613, doi=None), Reference(scopus_id=84999277863, doi=None), Reference(scopus_id=85021090732, doi=None), Reference(scopus_id=33939757, doi=None), Reference(scopus_id=33749432110, doi=None), Reference(scopus_id=84910033911, doi=None), Reference(scopus_id=29751226, doi=None), Reference(scopus_id=84991461437, doi=None), Reference(scopus_id=85044177853, doi=None), Reference(scopus_id=85080878528, doi=None), Reference(scopus_id=85052791105, doi=None), Reference(scopus_id=31963206, doi=None), Reference(scopus_id=85014435143, doi=None), Reference(scopus_id=84874373630, doi=None), Reference(scopus_id=85015434313, doi=None), Reference(scopus_id=84865384394, doi=None), Reference(scopus_id=84992390602, doi=None), Reference(scopus_id=84901637965, doi=None), Reference(scopus_id=85043277645, doi=None), Reference(scopus_id=48249097297, doi=None), Reference(scopus_id=85019446228, doi=None), Reference(scopus_id=85073952860, doi=None), Reference(scopus_id=84877251037, doi=None), Reference(scopus_id=84885058529, doi=None), Reference(scopus_id=85074190050, doi=None), Reference(scopus_id=84897618276, doi=None), Reference(scopus_id=85074469349, doi=None), Reference(scopus_id=84875235815, doi=None), Reference(scopus_id=84944937193, doi=None), Reference(scopus_id=77953621099, doi=None), Reference(scopus_id=84947748588, doi=None), Reference(scopus_id=85072985836, doi=None), Reference(scopus_id=84867743726, doi=None), Reference(scopus_id=84941263991, doi=None), Reference(scopus_id=85067384445, doi=None), Reference(scopus_id=85029889278, doi=None)}), pub_name='Remote Sensing', pub_issn_print='20724292', pub_issn_electronic='20724292'),\n",
       " PaperInfo(iter_depth=1, title='Wide Dynamic Range Vegetation Index for Remote Quantification of Biophysical Characteristics of Vegetation', authors='Gitelson, A.A.', year=2004, scopus_id=1442315675, doi='10.1078/0176-1617-01176', eid='2-s2.0-1442315675', scopus_url='https://www.scopus.com/inward/record.uri?partnerID=HzOxMe3b&scp=1442315675&origin=inward', refs=frozenset({Reference(scopus_id=32311683, doi=None), Reference(scopus_id=42308871, doi=None), Reference(scopus_id=22220683, doi=None), Reference(scopus_id=24165401, doi=None), Reference(scopus_id=2872223, doi=None), Reference(scopus_id=30453414, doi=None), Reference(scopus_id=505137, doi=None), Reference(scopus_id=28975409, doi=None), Reference(scopus_id=29110322, doi=None), Reference(scopus_id=22209460, doi=None), Reference(scopus_id=26305589, doi=None), Reference(scopus_id=36846393, doi=None), Reference(scopus_id=29751225, doi=None), Reference(scopus_id=36846394, doi=None), Reference(scopus_id=24937404, doi=None), Reference(scopus_id=262079, doi=None), Reference(scopus_id=1371584, doi=None), Reference(scopus_id=30274111, doi=None), Reference(scopus_id=34333127, doi=None), Reference(scopus_id=27007816, doi=None), Reference(scopus_id=27788368, doi=None), Reference(scopus_id=26881493, doi=None), Reference(scopus_id=26835285, doi=None), Reference(scopus_id=31228124, doi=None), Reference(scopus_id=29273949, doi=None), Reference(scopus_id=36215007, doi=None), Reference(scopus_id=22173670, doi=None), Reference(scopus_id=22927215, doi=None), Reference(scopus_id=30613490, doi=None), Reference(scopus_id=84985772789, doi=None), Reference(scopus_id=22439799, doi=None), Reference(scopus_id=37063161, doi=None), Reference(scopus_id=43202687, doi=None)}), pub_name='Journal of Plant Physiology', pub_issn_print='01761617', pub_issn_electronic=None),\n",
       " PaperInfo(iter_depth=1, title='Workload Assessment of Tractor Operations with Ergonomic Transducers and Machine Learning Techniques', authors='Hota, S.; Tewari, V.K.; Chandel, A.K.', year=2023, scopus_id=85147892482, doi='10.3390/s23031408', eid='2-s2.0-85147892482', scopus_url='https://www.scopus.com/inward/record.uri?partnerID=HzOxMe3b&scp=85147892482&origin=inward', refs=frozenset({Reference(scopus_id=18888833, doi='10.1080/00140138008924724'), Reference(scopus_id=58049160068, doi='10.1016/j.ergon.2008.07.008'), Reference(scopus_id=3508998, doi=None), Reference(scopus_id=77950329479, doi='10.1016/j.aap.2009.06.001'), Reference(scopus_id=85067666826, doi=None), Reference(scopus_id=78649807630, doi=None), Reference(scopus_id=85101899279, doi='10.1155/2021/8817480'), Reference(scopus_id=85148018831, doi=None), Reference(scopus_id=85078300561, doi=None), Reference(scopus_id=342773393, doi=None), Reference(scopus_id=55749093395, doi='10.1016/j.jelekin.2007.03.010'), Reference(scopus_id=85147997332, doi=None), Reference(scopus_id=75949155199, doi='10.1152/jappl.1964.19.5.857'), Reference(scopus_id=16936344, doi='10.1080/00140137608931530'), Reference(scopus_id=85075623703, doi='10.1051/matecconf/201925401005'), Reference(scopus_id=85147995164, doi=None), Reference(scopus_id=85111906718, doi='10.4172/2165-7556.1000.S6-001'), Reference(scopus_id=85089618343, doi=None), Reference(scopus_id=85099087661, doi='10.1109/ACCESS.2020.3047942'), Reference(scopus_id=85073826478, doi='10.1016/j.ergon.2019.102866'), Reference(scopus_id=79957591727, doi=None), Reference(scopus_id=77955248310, doi='10.1016/j.ergon.2010.05.006'), Reference(scopus_id=85034990263, doi=None), Reference(scopus_id=85148031544, doi=None), Reference(scopus_id=85148027261, doi='10.20546/ijcmas.2018.710.039'), Reference(scopus_id=85050389950, doi=None), Reference(scopus_id=77951693758, doi=None), Reference(scopus_id=85008217408, doi='10.1016/j.inpa.2016.01.003'), Reference(scopus_id=42549116222, doi=None), Reference(scopus_id=85112711877, doi=None), Reference(scopus_id=85072741318, doi=None), Reference(scopus_id=85105592904, doi='10.1016/j.aiia.2020.06.002'), Reference(scopus_id=85147988681, doi='10.15740/HAS/ETI/7.1/26-32'), Reference(scopus_id=85085691594, doi='10.3390/app10103484'), Reference(scopus_id=84904875208, doi=None), Reference(scopus_id=85098709839, doi='10.3390/ma13245815'), Reference(scopus_id=85088986959, doi=None), Reference(scopus_id=23135189, doi='10.1007/BF00690890'), Reference(scopus_id=85148022359, doi=None), Reference(scopus_id=85147998298, doi=None), Reference(scopus_id=85074021083, doi='10.1177/0954407019878355'), Reference(scopus_id=85111089757, doi='10.3390/ijerph18157926'), Reference(scopus_id=85062590815, doi=None), Reference(scopus_id=80051757152, doi='10.2486/indhealth.MS1190'), Reference(scopus_id=347433183, doi=None), Reference(scopus_id=50649106658, doi='10.1016/j.jelekin.2007.03.006'), Reference(scopus_id=85087111395, doi='10.1093/ptj/pzaa035'), Reference(scopus_id=1842579682, doi=None), Reference(scopus_id=85079819752, doi='10.1080/15459624.2020.1717502'), Reference(scopus_id=36092520, doi='10.1152/jappl.2002.92.1.235'), Reference(scopus_id=85148020074, doi=None), Reference(scopus_id=85016097901, doi='10.1155/2017/3937254'), Reference(scopus_id=85096943470, doi='10.3390/ijerph17238836'), Reference(scopus_id=84868231408, doi='10.17485/ijst/2012/v5i10.2'), Reference(scopus_id=85079052406, doi='10.3390/s20030809'), Reference(scopus_id=33838967, doi='10.1016/S1050-6411(00)00011-0'), Reference(scopus_id=62749154550, doi='10.1016/j.clinbiomech.2009.01.010'), Reference(scopus_id=85016293757, doi=None), Reference(scopus_id=84995900415, doi='10.1504/EJIE.2014.064757')}), pub_name='Sensors', pub_issn_print='14248220', pub_issn_electronic=None)}"
      ]
     },
     "execution_count": 16,
     "metadata": {},
     "output_type": "execute_result"
    }
   ],
   "source": [
    "cit_graph.child_papers_iter"
   ]
  },
  {
   "cell_type": "code",
   "execution_count": 14,
   "metadata": {},
   "outputs": [
    {
     "data": {
      "text/plain": [
       "True"
      ]
     },
     "execution_count": 14,
     "metadata": {},
     "output_type": "execute_result"
    }
   ],
   "source": [
    "cit_graph.iteration_completed"
   ]
  },
  {
   "cell_type": "code",
   "execution_count": null,
   "metadata": {},
   "outputs": [],
   "source": []
  },
  {
   "cell_type": "code",
   "execution_count": null,
   "metadata": {},
   "outputs": [],
   "source": []
  },
  {
   "cell_type": "code",
   "execution_count": null,
   "metadata": {},
   "outputs": [],
   "source": []
  },
  {
   "cell_type": "code",
   "execution_count": 15,
   "metadata": {},
   "outputs": [
    {
     "data": {
      "text/plain": [
       "1361"
      ]
     },
     "execution_count": 15,
     "metadata": {},
     "output_type": "execute_result"
    }
   ],
   "source": [
    "cit_graph.retrievals_total"
   ]
  },
  {
   "cell_type": "code",
   "execution_count": 16,
   "metadata": {},
   "outputs": [
    {
     "data": {
      "text/plain": [
       "286"
      ]
     },
     "execution_count": 16,
     "metadata": {},
     "output_type": "execute_result"
    }
   ],
   "source": [
    "cit_graph.retrievals_failed"
   ]
  },
  {
   "cell_type": "code",
   "execution_count": 14,
   "metadata": {},
   "outputs": [
    {
     "data": {
      "text/plain": [
       "{'iter_depth': 0,\n",
       " 'title': 'A Q-learning memetic algorithm for energy-efficient heterogeneous distributed assembly permutation flowshop scheduling considering priorities',\n",
       " 'authors': 'Luo, C.; Gong, W.; Ming, F.; Lu, C.',\n",
       " 'year': 2024,\n",
       " 'scopus_id': 85184079846,\n",
       " 'doi': '10.1016/j.swevo.2024.101497',\n",
       " 'eid': '2-s2.0-85184079846',\n",
       " 'scopus_url': 'https://www.scopus.com/inward/record.uri?partnerID=HzOxMe3b&scp=85184079846&origin=inward',\n",
       " 'pub_name': 'Swarm and Evolutionary Computation',\n",
       " 'pub_issn_print': '22106502',\n",
       " 'pub_issn_electronic': ''}"
      ]
     },
     "execution_count": 14,
     "metadata": {},
     "output_type": "execute_result"
    }
   ],
   "source": [
    "cit_graph.nodes[85184079846]"
   ]
  },
  {
   "cell_type": "code",
   "execution_count": null,
   "metadata": {},
   "outputs": [],
   "source": []
  },
  {
   "cell_type": "code",
   "execution_count": null,
   "metadata": {},
   "outputs": [],
   "source": []
  },
  {
   "cell_type": "code",
   "execution_count": 18,
   "metadata": {},
   "outputs": [
    {
     "name": "stdout",
     "output_type": "stream",
     "text": [
      "Swarm and Evolutionary Computation, \n",
      "22106502, \n",
      "Mathematical Biosciences and Engineering, \n",
      "15471063, 15510018\n",
      "Land, \n",
      "2073445X, 2073445X\n",
      "IEEE Transactions on Industrial Informatics, \n",
      "15513203, 19410050\n",
      "Electric Power Components and Systems, \n",
      "15325008, 15325016\n",
      "International Journal of Intelligent Systems and Applications in Engineering, \n",
      "21476799, 21476799\n",
      "Agricultural Water Management, \n",
      "03783774, 18732283\n",
      "IEEE Transactions on Industrial Informatics, \n",
      "15513203, 19410050\n",
      "Machines, \n",
      "20751702, 20751702\n",
      "International Journal of Advanced Manufacturing Technology, \n",
      "02683768, 14333015\n",
      "ACM Transactions on Storage, \n",
      "15533077, 15533093\n",
      "Computers and Industrial Engineering, \n",
      "03608352, \n",
      "Expert Systems with Applications, \n",
      "09574174, \n",
      "Sustainable Cities and Society, \n",
      "22106707, \n",
      "IEEE Access, \n",
      "21693536, 21693536\n",
      "Journal of the Franklin Institute, \n",
      "00160032, \n",
      "Computers and Industrial Engineering, \n",
      "03608352, \n",
      "Engineering Applications of Artificial Intelligence, \n",
      "09521976, \n",
      "IEEE Transactions on Cloud Computing, \n",
      "21687161, 21687161\n",
      "Journal of Manufacturing Systems, \n",
      "02786125, \n",
      "IEEE Transactions on Semiconductor Manufacturing, \n",
      "08946507, 15582345\n",
      "SIAM Journal on Financial Mathematics, \n",
      "1945497X, 1945497X\n",
      "IEEE Transactions on Cybernetics, \n",
      "21682267, 21682275\n",
      "International Journal of Advanced Manufacturing Technology, \n",
      "02683768, 14333015\n",
      "Applied Soft Computing, \n",
      "15684946, \n",
      "Energies, \n",
      "19961073, 19961073\n",
      "Mathematics, \n",
      "22277390, 22277390\n",
      "IEEE Transactions on Emerging Topics in Computational Intelligence, \n",
      "2471285X, 2471285X\n",
      "Journal of Intelligent Manufacturing, \n",
      "09565515, 15728145\n",
      "Journal of Intelligent Manufacturing, \n",
      "09565515, 15728145\n",
      "European Journal of Operational Research, \n",
      "03772217, \n"
     ]
    }
   ],
   "source": [
    "for count, node in enumerate(cit_graph.nodes):\n",
    "    if count > 30:\n",
    "        break\n",
    "    print((f\"{cit_graph.nodes[node]['pub_name']}, \\n\"\n",
    "        f\"{cit_graph.nodes[node]['pub_issn_print']}, \"\n",
    "        f\"{cit_graph.nodes[node]['pub_issn_electronic']}\"))"
   ]
  },
  {
   "cell_type": "code",
   "execution_count": null,
   "metadata": {},
   "outputs": [],
   "source": []
  },
  {
   "cell_type": "code",
   "execution_count": null,
   "metadata": {},
   "outputs": [],
   "source": []
  },
  {
   "cell_type": "code",
   "execution_count": 3,
   "metadata": {},
   "outputs": [],
   "source": [
    "p_save = Path('./results/citgraph_batch-30_iter-1.pkl')\n",
    "#cit_graph.save_pickle(p_save)\n",
    "cit_graph = CitationGraph.load_pickle(p_save)"
   ]
  },
  {
   "cell_type": "code",
   "execution_count": 17,
   "metadata": {},
   "outputs": [
    {
     "data": {
      "text/plain": [
       "{'iter_depth': 0,\n",
       " 'title': 'A Q-learning memetic algorithm for energy-efficient heterogeneous distributed assembly permutation flowshop scheduling considering priorities',\n",
       " 'authors': 'Luo, C.; Gong, W.; Ming, F.; Lu, C.',\n",
       " 'year': 2024,\n",
       " 'scopus_id': 85184079846,\n",
       " 'doi': '10.1016/j.swevo.2024.101497',\n",
       " 'eid': '2-s2.0-85184079846',\n",
       " 'scopus_url': 'https://www.scopus.com/inward/record.uri?partnerID=HzOxMe3b&scp=85184079846&origin=inward',\n",
       " 'pub_name': 'Swarm and Evolutionary Computation',\n",
       " 'pub_issn_print': '22106502',\n",
       " 'pub_issn_electronic': ''}"
      ]
     },
     "execution_count": 17,
     "metadata": {},
     "output_type": "execute_result"
    }
   ],
   "source": [
    "cit_graph.nodes[85184079846]"
   ]
  },
  {
   "cell_type": "code",
   "execution_count": 12,
   "metadata": {},
   "outputs": [],
   "source": [
    "test_graph = cit_graph.deepcopy()"
   ]
  },
  {
   "cell_type": "code",
   "execution_count": null,
   "metadata": {},
   "outputs": [],
   "source": []
  },
  {
   "cell_type": "code",
   "execution_count": 4,
   "metadata": {},
   "outputs": [],
   "source": [
    "graphistry_graph = cit_graph.transform_graphistry()"
   ]
  },
  {
   "cell_type": "code",
   "execution_count": 5,
   "metadata": {},
   "outputs": [
    {
     "data": {
      "text/plain": [
       "{'iter_depth': 0,\n",
       " 'authors': 'Luo, C.; Gong, W.; Ming, F.; Lu, C.',\n",
       " 'year': 2024,\n",
       " 'scopus_id': '85184079846',\n",
       " 'doi': '10.1016/j.swevo.2024.101497',\n",
       " 'eid': '2-s2.0-85184079846',\n",
       " 'scopus_url': 'https://www.scopus.com/inward/record.uri?partnerID=HzOxMe3b&scp=85184079846&origin=inward',\n",
       " 'pub_name': 'Swarm and Evolutionary Computation',\n",
       " 'pub_issn_print': '22106502',\n",
       " 'pub_issn_electronic': '',\n",
       " 'paper_title': 'A Q-learning memetic algorithm for energy-efficient heterogeneous distributed assembly permutation flowshop scheduling considering priorities'}"
      ]
     },
     "execution_count": 5,
     "metadata": {},
     "output_type": "execute_result"
    }
   ],
   "source": [
    "graphistry_graph.nodes[85184079846]"
   ]
  },
  {
   "cell_type": "code",
   "execution_count": null,
   "metadata": {},
   "outputs": [],
   "source": []
  },
  {
   "cell_type": "markdown",
   "metadata": {},
   "source": [
    "# Graphistry Plotting"
   ]
  },
  {
   "cell_type": "code",
   "execution_count": 6,
   "metadata": {},
   "outputs": [],
   "source": [
    "import graphistry"
   ]
  },
  {
   "cell_type": "code",
   "execution_count": 7,
   "metadata": {},
   "outputs": [],
   "source": [
    "# old commits contained API key information in plain text, \n",
    "# deleted said API information, is now invalid\n",
    "graphistry.register(api=3, protocol='https', server='hub.graphistry.com', personal_key_id=GRPHSTRY_PERS_ID, personal_key_secret=GRPHSTRY_PERS_KEY)"
   ]
  },
  {
   "cell_type": "code",
   "execution_count": 8,
   "metadata": {},
   "outputs": [
    {
     "data": {
      "text/html": [
       "\n",
       "            <iframe id=\"b98ee5f4-249b-42e8-923a-bc896bac78d1\" src=\"https://hub.graphistry.com/graph/graph.html?dataset=c4312807176149889c03979ffc85f861&type=arrow&viztoken=d7d0178a-9914-435e-9081-f893348c094f&usertag=07d7256a-pygraphistry-0.33.8&splashAfter=1715068588&info=true\"\n",
       "                    allowfullscreen=\"true\" webkitallowfullscreen=\"true\" mozallowfullscreen=\"true\"\n",
       "                    oallowfullscreen=\"true\" msallowfullscreen=\"true\"\n",
       "                    style=\"width:100%; height:500px; border: 1px solid #DDD; overflow: hidden\"\n",
       "                    \n",
       "            >\n",
       "            </iframe>\n",
       "        \n",
       "            <script>\n",
       "                try {\n",
       "                  $(\"#b98ee5f4-249b-42e8-923a-bc896bac78d1\").bind('mousewheel', function(e) { e.preventDefault(); });\n",
       "                } catch (e) { console.error('exn catching scroll', e); }\n",
       "            </script>\n",
       "        "
      ],
      "text/plain": [
       "<IPython.core.display.HTML object>"
      ]
     },
     "execution_count": 8,
     "metadata": {},
     "output_type": "execute_result"
    }
   ],
   "source": [
    "graphistry.bind(source='src', destination='dst', node='scopus_id').plot(graphistry_graph)"
   ]
  },
  {
   "cell_type": "code",
   "execution_count": null,
   "metadata": {},
   "outputs": [],
   "source": []
  },
  {
   "cell_type": "code",
   "execution_count": null,
   "metadata": {},
   "outputs": [],
   "source": []
  },
  {
   "cell_type": "markdown",
   "metadata": {},
   "source": [
    "---"
   ]
  }
 ],
 "metadata": {
  "kernelspec": {
   "display_name": "Python 3 (ipykernel)",
   "language": "python",
   "name": "python3"
  },
  "language_info": {
   "codemirror_mode": {
    "name": "ipython",
    "version": 3
   },
   "file_extension": ".py",
   "mimetype": "text/x-python",
   "name": "python",
   "nbconvert_exporter": "python",
   "pygments_lexer": "ipython3",
   "version": "3.11.8"
  }
 },
 "nbformat": 4,
 "nbformat_minor": 4
}
